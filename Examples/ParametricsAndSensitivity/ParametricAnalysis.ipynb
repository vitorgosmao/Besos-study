{
 "cells": [
  {
   "cell_type": "markdown",
   "metadata": {
    "papermill": {
     "duration": 0.029854,
     "end_time": "2019-10-28T23:05:05.473436",
     "exception": false,
     "start_time": "2019-10-28T23:05:05.443582",
     "status": "completed"
    },
    "tags": []
   },
   "source": [
    "import libraries"
   ]
  },
  {
   "cell_type": "code",
   "execution_count": 1,
   "metadata": {
    "jupyter": {
     "source_hidden": true
    },
    "papermill": {
     "duration": 1.521058,
     "end_time": "2019-10-28T23:05:07.015570",
     "exception": false,
     "start_time": "2019-10-28T23:05:05.494512",
     "status": "completed"
    },
    "tags": []
   },
   "outputs": [],
   "source": [
    "import pandas as pd\n",
    "import matplotlib.pyplot as plt\n",
    "from seaborn import heatmap\n",
    "from seaborn import pairplot\n",
    "from besos import eppy_funcs as ef\n",
    "from besos import sampling\n",
    "from besos.evaluator import EvaluatorEP\n",
    "from besos.parameters import RangeParameter, CategoryParameter, expand_plist, FieldSelector, Parameter, wwr\n",
    "from besos.problem import EPProblem\n",
    "plt.rcParams['figure.figsize'] = [8, 8]"
   ]
  },
  {
   "cell_type": "markdown",
   "metadata": {
    "papermill": {
     "duration": 0.013869,
     "end_time": "2019-10-28T23:05:07.044531",
     "exception": false,
     "start_time": "2019-10-28T23:05:07.030662",
     "status": "completed"
    },
    "tags": []
   },
   "source": [
    "# Parametric Analysis\n",
    "This notebook performs a parametric analysis of a building design using EnergyPlus and BESOS helper functions.  \n",
    "We load a model from in.idf, define parameters to vary, set objectives,then run the model for all parameter combinations and plot the results.\n",
    "\n",
    "The EnergyPlus evaulator object `EvaluatorEP` consists of an `EPProblem` (`Parameters` to modify and `objectives` to report) and a `building` model.  \n",
    "A problem (`problem = parameters + objectives`) can be easily applied to any building model (`evaluator = problem + building`).  "
   ]
  },
  {
   "cell_type": "markdown",
   "metadata": {
    "papermill": {
     "duration": 0.013484,
     "end_time": "2019-10-28T23:05:07.071773",
     "exception": false,
     "start_time": "2019-10-28T23:05:07.058289",
     "status": "completed"
    },
    "tags": []
   },
   "source": [
    "Each building is described by an `.idf` or `epJSON` file.  \n",
    "In order to modify it programatically, we load it as a Python object using wrappers for EEPy.\n",
    "\n",
    "If you are using the newer JSON format, then any JSON parsing library will work."
   ]
  },
  {
   "cell_type": "code",
   "execution_count": 2,
   "metadata": {
    "papermill": {
     "duration": 1.302074,
     "end_time": "2019-10-28T23:05:08.387442",
     "exception": false,
     "start_time": "2019-10-28T23:05:07.085368",
     "status": "completed"
    },
    "scrolled": true,
    "tags": []
   },
   "outputs": [],
   "source": [
    "building = ef.get_building('in.idf')"
   ]
  },
  {
   "cell_type": "markdown",
   "metadata": {
    "papermill": {
     "duration": 0.015761,
     "end_time": "2019-10-28T23:05:08.419320",
     "exception": false,
     "start_time": "2019-10-28T23:05:08.403559",
     "status": "completed"
    },
    "tags": []
   },
   "source": [
    "Let's check what materials are in the model.  \n",
    "([Eppy's documentation](https://eppy.readthedocs.io/en/latest/) describes how to explore and modify the IDF object directly.)"
   ]
  },
  {
   "cell_type": "code",
   "execution_count": 3,
   "metadata": {
    "papermill": {
     "duration": 0.024215,
     "end_time": "2019-10-28T23:05:08.459640",
     "exception": false,
     "start_time": "2019-10-28T23:05:08.435425",
     "status": "completed"
    },
    "tags": []
   },
   "outputs": [
    {
     "data": {
      "text/plain": [
       "['1/2IN Gypsum',\n",
       " '1IN Stucco',\n",
       " '8IN Concrete HW',\n",
       " 'F08 Metal surface',\n",
       " 'F16 Acoustic tile',\n",
       " 'G01a 19mm gypsum board',\n",
       " 'G05 25mm wood',\n",
       " 'I01 25mm insulation board',\n",
       " 'M11 100mm lightweight concrete',\n",
       " 'MAT-CC05 4 HW CONCRETE',\n",
       " 'Metal Decking',\n",
       " 'Roof Insulation [18]',\n",
       " 'Roof Membrane',\n",
       " 'Wall Insulation [31]']"
      ]
     },
     "execution_count": 3,
     "metadata": {},
     "output_type": "execute_result"
    }
   ],
   "source": [
    "[materials.Name for materials in building.idfobjects[\"MATERIAL\"]] # get a list of the Name property of all IDF objects of class MATERIAL"
   ]
  },
  {
   "cell_type": "markdown",
   "metadata": {
    "papermill": {
     "duration": 0.01488,
     "end_time": "2019-10-28T23:05:08.489879",
     "exception": false,
     "start_time": "2019-10-28T23:05:08.474999",
     "status": "completed"
    },
    "tags": []
   },
   "source": [
    "Selectors identify which part of the building model to modify and how to modify it (see the [Selectors](Evaluators/Selectors.ipynb) notebook for details).  \n",
    "The `Selector` below specifies the `Thickness` field of an object named `Mass NonRes Wall Insulation`."
   ]
  },
  {
   "cell_type": "code",
   "execution_count": 4,
   "metadata": {
    "papermill": {
     "duration": 0.020458,
     "end_time": "2019-10-28T23:05:08.526625",
     "exception": false,
     "start_time": "2019-10-28T23:05:08.506167",
     "status": "completed"
    },
    "tags": []
   },
   "outputs": [],
   "source": [
    "insulation = FieldSelector(class_name='Material', \n",
    "                           object_name='Wall Insulation [31]',\n",
    "                           field_name='Thickness')"
   ]
  },
  {
   "cell_type": "markdown",
   "metadata": {
    "papermill": {
     "duration": 0.014677,
     "end_time": "2019-10-28T23:05:08.555653",
     "exception": false,
     "start_time": "2019-10-28T23:05:08.540976",
     "status": "completed"
    },
    "tags": []
   },
   "source": [
    "#### Descriptors\n",
    "Descriptors specify what values are valid for a parameter, see the [Descriptors](Evaluators/Descriptors.ipynb) for details.  \n",
    "If we want to vary a parameter $0.01 \\leq x \\leq 0.99$, we can use a `RangeParameter`:"
   ]
  },
  {
   "cell_type": "code",
   "execution_count": 5,
   "metadata": {
    "papermill": {
     "duration": 0.020226,
     "end_time": "2019-10-28T23:05:08.594714",
     "exception": false,
     "start_time": "2019-10-28T23:05:08.574488",
     "status": "completed"
    },
    "tags": []
   },
   "outputs": [],
   "source": [
    "zero_to_one_exclusive = RangeParameter(min_val = 0.01, max_val=0.99)"
   ]
  },
  {
   "cell_type": "markdown",
   "metadata": {
    "papermill": {
     "duration": 0.015808,
     "end_time": "2019-10-28T23:05:08.626349",
     "exception": false,
     "start_time": "2019-10-28T23:05:08.610541",
     "status": "completed"
    },
    "tags": []
   },
   "source": [
    "We can combine this with the `Selector` above to get a `Parameter`:"
   ]
  },
  {
   "cell_type": "code",
   "execution_count": 6,
   "metadata": {
    "papermill": {
     "duration": 0.0218,
     "end_time": "2019-10-28T23:05:08.664930",
     "exception": false,
     "start_time": "2019-10-28T23:05:08.643130",
     "status": "completed"
    },
    "tags": []
   },
   "outputs": [
    {
     "name": "stdout",
     "output_type": "stream",
     "text": [
      "Parameter(name='Insulation Thickness', selector=FieldSelector(field_name='Thickness', class_name='Material', object_name='Wall Insulation [31]'), value_descriptor=RangeParameter(min=0.01, max=0.99))\n"
     ]
    }
   ],
   "source": [
    "insulation_param = Parameter(selector=insulation,\n",
    "                                 value_descriptor=zero_to_one_exclusive,\n",
    "                                 name='Insulation Thickness')\n",
    "print(insulation_param)"
   ]
  },
  {
   "cell_type": "markdown",
   "metadata": {
    "papermill": {
     "duration": 0.015561,
     "end_time": "2019-10-28T23:05:08.695475",
     "exception": false,
     "start_time": "2019-10-28T23:05:08.679914",
     "status": "completed"
    },
    "tags": []
   },
   "source": [
    "#### Short-cuts for defining parameters\n",
    "The `expand_plist` funcion can define `Parameters` more concisely. It takes a nested dictionary as input.  \n",
    "The keys in the first layer of this dictionary are the names of the idf objects.  \n",
    "These are associated with a dictionary that has keys matching the Fields of that object to modify.  \n",
    "Each field-key corresponds to a tuple containing the minimum and maximum values for that parameter.  \n",
    "The `class_name` is not specified.  \n",
    "Instead the model is searched for objects with the correct `object_name`.  \n",
    "**Note - doesn't like duplicate object names!**."
   ]
  },
  {
   "cell_type": "code",
   "execution_count": 7,
   "metadata": {
    "papermill": {
     "duration": 0.023553,
     "end_time": "2019-10-28T23:05:08.735788",
     "exception": false,
     "start_time": "2019-10-28T23:05:08.712235",
     "status": "completed"
    },
    "tags": []
   },
   "outputs": [
    {
     "name": "stdout",
     "output_type": "stream",
     "text": [
      "Parameter(name='Conductivity', selector=FieldSelector(field_name='Conductivity', object_name='Theoretical Glass [167]'), value_descriptor=RangeParameter(min=0.1, max=5))\n"
     ]
    }
   ],
   "source": [
    "more_parameters = expand_plist(\n",
    "    # class_name is NOT provided\n",
    "    #{'object_name':\n",
    "    # {'field_name':(min, max)}}\n",
    "    {'Theoretical Glass [167]':\n",
    "     {'Conductivity':(0.1,5)\n",
    "     }\n",
    "    })\n",
    "\n",
    "for p in more_parameters:\n",
    "    print(p)"
   ]
  },
  {
   "cell_type": "markdown",
   "metadata": {
    "papermill": {
     "duration": 0.01525,
     "end_time": "2019-10-28T23:05:08.765545",
     "exception": false,
     "start_time": "2019-10-28T23:05:08.750295",
     "status": "completed"
    },
    "tags": []
   },
   "source": [
    "#### Parameter scripts\n",
    "BESOS also includes some pre-defined parameter scripts:\n",
    "+ `wwr(Range)` for window to wall ratio  \n",
    "\n",
    "Here we define the WWR of all walls in the model to be between 10% and 90%."
   ]
  },
  {
   "cell_type": "code",
   "execution_count": 8,
   "metadata": {
    "papermill": {
     "duration": 0.020405,
     "end_time": "2019-10-28T23:05:08.801309",
     "exception": false,
     "start_time": "2019-10-28T23:05:08.780904",
     "status": "completed"
    },
    "tags": []
   },
   "outputs": [],
   "source": [
    "window_to_wall = wwr(RangeParameter(0.1,0.9)) # use a special shortcut to get the window-to-wall parameter"
   ]
  },
  {
   "cell_type": "markdown",
   "metadata": {
    "papermill": {
     "duration": 0.016215,
     "end_time": "2019-10-28T23:05:08.833584",
     "exception": false,
     "start_time": "2019-10-28T23:05:08.817369",
     "status": "completed"
    },
    "tags": []
   },
   "source": [
    "#### Custom parameter scripts\n",
    "Parameters can also be created by defining a function that takes an idf and a value and mutates the idf.  \n",
    "These functions can be specific to a certain idf file, and can perform any arbitrary transformation.  \n",
    "Creating these can be more involved, and is not covered in this example."
   ]
  },
  {
   "cell_type": "markdown",
   "metadata": {
    "papermill": {
     "duration": 0.015898,
     "end_time": "2019-10-28T23:05:08.865991",
     "exception": false,
     "start_time": "2019-10-28T23:05:08.850093",
     "status": "completed"
    },
    "tags": []
   },
   "source": [
    "## Problems\n",
    "`Problem` objects represent inputs and outputs.  \n",
    "We have defined various inputs using `parameters` above, and we define objectives of heating and cooling use."
   ]
  },
  {
   "cell_type": "code",
   "execution_count": 9,
   "metadata": {
    "papermill": {
     "duration": 0.022431,
     "end_time": "2019-10-28T23:05:08.904663",
     "exception": false,
     "start_time": "2019-10-28T23:05:08.882232",
     "status": "completed"
    },
    "tags": []
   },
   "outputs": [],
   "source": [
    "\n",
    "# Add all the parameters to a single parameters object.\n",
    "parameters = [insulation_param] + more_parameters + [window_to_wall]\n",
    "\n",
    "# Let us try to optimize the Cooling and the Heating of facility at the same time\n",
    "objectives = ['DistrictCooling:Facility', 'DistrictHeating:Facility'] \n",
    "# These are hourly values, default is sum all the hourly values\n",
    "\n",
    "# Construct the problem \n",
    "problem = EPProblem(parameters, objectives) # Make a problem instance from the parameters and objectives"
   ]
  },
  {
   "cell_type": "markdown",
   "metadata": {
    "papermill": {
     "duration": 0.016547,
     "end_time": "2019-10-28T23:05:08.938818",
     "exception": false,
     "start_time": "2019-10-28T23:05:08.922271",
     "status": "completed"
    },
    "tags": []
   },
   "source": [
    "## Sampling\n",
    "Once you have defined your parameters, you may want to generate some random possible buildings. Sampling functions allow you to do this."
   ]
  },
  {
   "cell_type": "code",
   "execution_count": 10,
   "metadata": {
    "papermill": {
     "duration": 0.031024,
     "end_time": "2019-10-28T23:05:08.987375",
     "exception": false,
     "start_time": "2019-10-28T23:05:08.956351",
     "status": "completed"
    },
    "tags": []
   },
   "outputs": [
    {
     "data": {
      "text/html": [
       "<div>\n",
       "<style scoped>\n",
       "    .dataframe tbody tr th:only-of-type {\n",
       "        vertical-align: middle;\n",
       "    }\n",
       "\n",
       "    .dataframe tbody tr th {\n",
       "        vertical-align: top;\n",
       "    }\n",
       "\n",
       "    .dataframe thead th {\n",
       "        text-align: right;\n",
       "    }\n",
       "</style>\n",
       "<table border=\"1\" class=\"dataframe\">\n",
       "  <thead>\n",
       "    <tr style=\"text-align: right;\">\n",
       "      <th></th>\n",
       "      <th>Insulation Thickness</th>\n",
       "      <th>Conductivity</th>\n",
       "      <th>Window to Wall Ratio</th>\n",
       "    </tr>\n",
       "  </thead>\n",
       "  <tbody>\n",
       "    <tr>\n",
       "      <td>0</td>\n",
       "      <td>0.01</td>\n",
       "      <td>0.10</td>\n",
       "      <td>0.1</td>\n",
       "    </tr>\n",
       "    <tr>\n",
       "      <td>1</td>\n",
       "      <td>0.50</td>\n",
       "      <td>0.10</td>\n",
       "      <td>0.1</td>\n",
       "    </tr>\n",
       "    <tr>\n",
       "      <td>2</td>\n",
       "      <td>0.01</td>\n",
       "      <td>2.55</td>\n",
       "      <td>0.1</td>\n",
       "    </tr>\n",
       "    <tr>\n",
       "      <td>3</td>\n",
       "      <td>0.50</td>\n",
       "      <td>2.55</td>\n",
       "      <td>0.1</td>\n",
       "    </tr>\n",
       "    <tr>\n",
       "      <td>4</td>\n",
       "      <td>0.01</td>\n",
       "      <td>0.10</td>\n",
       "      <td>0.5</td>\n",
       "    </tr>\n",
       "    <tr>\n",
       "      <td>5</td>\n",
       "      <td>0.50</td>\n",
       "      <td>0.10</td>\n",
       "      <td>0.5</td>\n",
       "    </tr>\n",
       "    <tr>\n",
       "      <td>6</td>\n",
       "      <td>0.01</td>\n",
       "      <td>2.55</td>\n",
       "      <td>0.5</td>\n",
       "    </tr>\n",
       "    <tr>\n",
       "      <td>7</td>\n",
       "      <td>0.50</td>\n",
       "      <td>2.55</td>\n",
       "      <td>0.5</td>\n",
       "    </tr>\n",
       "  </tbody>\n",
       "</table>\n",
       "</div>"
      ],
      "text/plain": [
       "   Insulation Thickness  Conductivity  Window to Wall Ratio\n",
       "0                  0.01          0.10                   0.1\n",
       "1                  0.50          0.10                   0.1\n",
       "2                  0.01          2.55                   0.1\n",
       "3                  0.50          2.55                   0.1\n",
       "4                  0.01          0.10                   0.5\n",
       "5                  0.50          0.10                   0.5\n",
       "6                  0.01          2.55                   0.5\n",
       "7                  0.50          2.55                   0.5"
      ]
     },
     "execution_count": 10,
     "metadata": {},
     "output_type": "execute_result"
    }
   ],
   "source": [
    "inputs = sampling.dist_sampler(sampling.full_factorial, problem, num_samples=5, level=2)\n",
    "inputs"
   ]
  },
  {
   "cell_type": "code",
   "execution_count": 11,
   "metadata": {
    "papermill": {
     "duration": 0.026325,
     "end_time": "2019-10-28T23:05:09.028127",
     "exception": false,
     "start_time": "2019-10-28T23:05:09.001802",
     "status": "completed"
    },
    "tags": []
   },
   "outputs": [
    {
     "data": {
      "text/html": [
       "<div>\n",
       "<style scoped>\n",
       "    .dataframe tbody tr th:only-of-type {\n",
       "        vertical-align: middle;\n",
       "    }\n",
       "\n",
       "    .dataframe tbody tr th {\n",
       "        vertical-align: top;\n",
       "    }\n",
       "\n",
       "    .dataframe thead th {\n",
       "        text-align: right;\n",
       "    }\n",
       "</style>\n",
       "<table border=\"1\" class=\"dataframe\">\n",
       "  <thead>\n",
       "    <tr style=\"text-align: right;\">\n",
       "      <th></th>\n",
       "      <th>Insulation Thickness</th>\n",
       "      <th>Conductivity</th>\n",
       "      <th>Window to Wall Ratio</th>\n",
       "    </tr>\n",
       "  </thead>\n",
       "  <tbody>\n",
       "    <tr>\n",
       "      <td>0</td>\n",
       "      <td>0.655708</td>\n",
       "      <td>3.573170</td>\n",
       "      <td>0.717550</td>\n",
       "    </tr>\n",
       "    <tr>\n",
       "      <td>1</td>\n",
       "      <td>0.571885</td>\n",
       "      <td>0.117110</td>\n",
       "      <td>0.328844</td>\n",
       "    </tr>\n",
       "    <tr>\n",
       "      <td>2</td>\n",
       "      <td>0.975683</td>\n",
       "      <td>1.407483</td>\n",
       "      <td>0.767507</td>\n",
       "    </tr>\n",
       "    <tr>\n",
       "      <td>3</td>\n",
       "      <td>0.089262</td>\n",
       "      <td>4.404920</td>\n",
       "      <td>0.124965</td>\n",
       "    </tr>\n",
       "    <tr>\n",
       "      <td>4</td>\n",
       "      <td>0.306937</td>\n",
       "      <td>2.451550</td>\n",
       "      <td>0.534424</td>\n",
       "    </tr>\n",
       "  </tbody>\n",
       "</table>\n",
       "</div>"
      ],
      "text/plain": [
       "   Insulation Thickness  Conductivity  Window to Wall Ratio\n",
       "0              0.655708      3.573170              0.717550\n",
       "1              0.571885      0.117110              0.328844\n",
       "2              0.975683      1.407483              0.767507\n",
       "3              0.089262      4.404920              0.124965\n",
       "4              0.306937      2.451550              0.534424"
      ]
     },
     "execution_count": 11,
     "metadata": {},
     "output_type": "execute_result"
    }
   ],
   "source": [
    "inputs_lhs = sampling.dist_sampler(sampling.lhs, problem, num_samples=5)\n",
    "inputs_lhs"
   ]
  },
  {
   "cell_type": "markdown",
   "metadata": {
    "papermill": {
     "duration": 0.016031,
     "end_time": "2019-10-28T23:05:09.059992",
     "exception": false,
     "start_time": "2019-10-28T23:05:09.043961",
     "status": "completed"
    },
    "tags": []
   },
   "source": [
    "## Evaluation\n",
    "Now we can evaluate the samples. We create an energy plus evaluator (`EvaluatroEP`) using the parameters, and idf describing the building, and the objectives we want to measure. For this example we will just use one of the premade objectives: Electricity use for the whole facility."
   ]
  },
  {
   "cell_type": "code",
   "execution_count": 12,
   "metadata": {
    "lines_to_next_cell": 0,
    "papermill": {
     "duration": 37.119327,
     "end_time": "2019-10-28T23:05:46.195558",
     "exception": false,
     "start_time": "2019-10-28T23:05:09.076231",
     "status": "completed"
    },
    "tags": []
   },
   "outputs": [
    {
     "data": {
      "application/vnd.jupyter.widget-view+json": {
       "model_id": "37b2989a625040339c18cf5ebc28e23e",
       "version_major": 2,
       "version_minor": 0
      },
      "text/plain": [
       "HBox(children=(IntProgress(value=0, description='Executing', max=8, style=ProgressStyle(description_width='ini…"
      ]
     },
     "metadata": {},
     "output_type": "display_data"
    },
    {
     "name": "stdout",
     "output_type": "stream",
     "text": [
      "\n"
     ]
    },
    {
     "data": {
      "text/html": [
       "<div>\n",
       "<style scoped>\n",
       "    .dataframe tbody tr th:only-of-type {\n",
       "        vertical-align: middle;\n",
       "    }\n",
       "\n",
       "    .dataframe tbody tr th {\n",
       "        vertical-align: top;\n",
       "    }\n",
       "\n",
       "    .dataframe thead th {\n",
       "        text-align: right;\n",
       "    }\n",
       "</style>\n",
       "<table border=\"1\" class=\"dataframe\">\n",
       "  <thead>\n",
       "    <tr style=\"text-align: right;\">\n",
       "      <th></th>\n",
       "      <th>Insulation Thickness</th>\n",
       "      <th>Conductivity</th>\n",
       "      <th>Window to Wall Ratio</th>\n",
       "      <th>DistrictCooling:Facility</th>\n",
       "      <th>DistrictHeating:Facility</th>\n",
       "    </tr>\n",
       "  </thead>\n",
       "  <tbody>\n",
       "    <tr>\n",
       "      <td>count</td>\n",
       "      <td>8.000000</td>\n",
       "      <td>8.00000</td>\n",
       "      <td>8.000000</td>\n",
       "      <td>8.000000e+00</td>\n",
       "      <td>8.000000e+00</td>\n",
       "    </tr>\n",
       "    <tr>\n",
       "      <td>mean</td>\n",
       "      <td>0.255000</td>\n",
       "      <td>1.32500</td>\n",
       "      <td>0.300000</td>\n",
       "      <td>4.352905e+09</td>\n",
       "      <td>2.385049e+09</td>\n",
       "    </tr>\n",
       "    <tr>\n",
       "      <td>std</td>\n",
       "      <td>0.261916</td>\n",
       "      <td>1.30958</td>\n",
       "      <td>0.213809</td>\n",
       "      <td>2.137848e+08</td>\n",
       "      <td>1.460792e+09</td>\n",
       "    </tr>\n",
       "    <tr>\n",
       "      <td>min</td>\n",
       "      <td>0.010000</td>\n",
       "      <td>0.10000</td>\n",
       "      <td>0.100000</td>\n",
       "      <td>4.052084e+09</td>\n",
       "      <td>3.887300e+08</td>\n",
       "    </tr>\n",
       "    <tr>\n",
       "      <td>25%</td>\n",
       "      <td>0.010000</td>\n",
       "      <td>0.10000</td>\n",
       "      <td>0.100000</td>\n",
       "      <td>4.199775e+09</td>\n",
       "      <td>1.499059e+09</td>\n",
       "    </tr>\n",
       "    <tr>\n",
       "      <td>50%</td>\n",
       "      <td>0.255000</td>\n",
       "      <td>1.32500</td>\n",
       "      <td>0.300000</td>\n",
       "      <td>4.326841e+09</td>\n",
       "      <td>2.565410e+09</td>\n",
       "    </tr>\n",
       "    <tr>\n",
       "      <td>75%</td>\n",
       "      <td>0.500000</td>\n",
       "      <td>2.55000</td>\n",
       "      <td>0.500000</td>\n",
       "      <td>4.553878e+09</td>\n",
       "      <td>3.206888e+09</td>\n",
       "    </tr>\n",
       "    <tr>\n",
       "      <td>max</td>\n",
       "      <td>0.500000</td>\n",
       "      <td>2.55000</td>\n",
       "      <td>0.500000</td>\n",
       "      <td>4.615421e+09</td>\n",
       "      <td>4.356677e+09</td>\n",
       "    </tr>\n",
       "  </tbody>\n",
       "</table>\n",
       "</div>"
      ],
      "text/plain": [
       "       Insulation Thickness  Conductivity  Window to Wall Ratio  \\\n",
       "count              8.000000       8.00000              8.000000   \n",
       "mean               0.255000       1.32500              0.300000   \n",
       "std                0.261916       1.30958              0.213809   \n",
       "min                0.010000       0.10000              0.100000   \n",
       "25%                0.010000       0.10000              0.100000   \n",
       "50%                0.255000       1.32500              0.300000   \n",
       "75%                0.500000       2.55000              0.500000   \n",
       "max                0.500000       2.55000              0.500000   \n",
       "\n",
       "       DistrictCooling:Facility  DistrictHeating:Facility  \n",
       "count              8.000000e+00              8.000000e+00  \n",
       "mean               4.352905e+09              2.385049e+09  \n",
       "std                2.137848e+08              1.460792e+09  \n",
       "min                4.052084e+09              3.887300e+08  \n",
       "25%                4.199775e+09              1.499059e+09  \n",
       "50%                4.326841e+09              2.565410e+09  \n",
       "75%                4.553878e+09              3.206888e+09  \n",
       "max                4.615421e+09              4.356677e+09  "
      ]
     },
     "execution_count": 12,
     "metadata": {},
     "output_type": "execute_result"
    }
   ],
   "source": [
    "evaluator = EvaluatorEP(problem, building, out_dir='outputdir', err_dir='outputdir')\n",
    "outputs = evaluator.df_apply(inputs, keep_input=True)\n",
    "\n",
    "outputs.describe()"
   ]
  },
  {
   "cell_type": "markdown",
   "metadata": {
    "papermill": {
     "duration": 0.016228,
     "end_time": "2019-10-28T23:05:46.228241",
     "exception": false,
     "start_time": "2019-10-28T23:05:46.212013",
     "status": "completed"
    },
    "tags": []
   },
   "source": [
    "## Visualizing the results\n",
    "\n",
    "First we can see the variation in the objectives:"
   ]
  },
  {
   "cell_type": "code",
   "execution_count": 13,
   "metadata": {
    "papermill": {
     "duration": 0.209367,
     "end_time": "2019-10-28T23:05:46.453508",
     "exception": false,
     "start_time": "2019-10-28T23:05:46.244141",
     "status": "completed"
    },
    "tags": []
   },
   "outputs": [
    {
     "data": {
      "text/plain": [
       "Text(0, 0.5, 'DistrictHeating:Facility')"
      ]
     },
     "execution_count": 13,
     "metadata": {},
     "output_type": "execute_result"
    },
    {
     "data": {
      "image/png": "[encoded data removed]",
      "text/plain": [
       "<Figure size 432x288 with 1 Axes>"
      ]
     },
     "metadata": {
      "needs_background": "light"
     },
     "output_type": "display_data"
    }
   ],
   "source": [
    "_ = outputs.plot(x=objectives[0], y=objectives[1], style = 'o')\n",
    "plt.xlabel(objectives[0])\n",
    "plt.ylabel(objectives[1])"
   ]
  },
  {
   "cell_type": "markdown",
   "metadata": {
    "papermill": {
     "duration": 0.01718,
     "end_time": "2019-10-28T23:05:46.487205",
     "exception": false,
     "start_time": "2019-10-28T23:05:46.470025",
     "status": "completed"
    },
    "tags": []
   },
   "source": [
    "And compare the trends in the input values as the heating objective increases:"
   ]
  },
  {
   "cell_type": "code",
   "execution_count": 14,
   "metadata": {
    "papermill": {
     "duration": 0.830215,
     "end_time": "2019-10-28T23:05:47.334641",
     "exception": false,
     "start_time": "2019-10-28T23:05:46.504426",
     "status": "completed"
    },
    "tags": []
   },
   "outputs": [
    {
     "data": {
      "image/png": "[encoded data removed]",
      "text/plain": [
       "<Figure size 432x432 with 5 Axes>"
      ]
     },
     "metadata": {
      "needs_background": "light"
     },
     "output_type": "display_data"
    }
   ],
   "source": [
    "outputs = outputs.sort_values(by=objectives[1])\n",
    "ax=outputs.plot.bar(subplots=True,legend=None, figsize=(6,6))"
   ]
  },
  {
   "cell_type": "markdown",
   "metadata": {
    "papermill": {
     "duration": 0.018973,
     "end_time": "2019-10-28T23:05:47.372151",
     "exception": false,
     "start_time": "2019-10-28T23:05:47.353178",
     "status": "completed"
    },
    "tags": []
   },
   "source": [
    "## Visualising the parametric analysis"
   ]
  },
  {
   "cell_type": "markdown",
   "metadata": {
    "papermill": {
     "duration": 0.018014,
     "end_time": "2019-10-28T23:05:47.409494",
     "exception": false,
     "start_time": "2019-10-28T23:05:47.391480",
     "status": "completed"
    },
    "tags": []
   },
   "source": [
    "A better way to analyse the results is by looking at scatter plots of the inputs versus the outputs.  \n",
    "This enables us to visually see strong relationships of inputs and outputs."
   ]
  },
  {
   "cell_type": "code",
   "execution_count": 15,
   "metadata": {
    "papermill": {
     "duration": 1.070181,
     "end_time": "2019-10-28T23:05:48.497632",
     "exception": false,
     "start_time": "2019-10-28T23:05:47.427451",
     "status": "completed"
    },
    "tags": []
   },
   "outputs": [
    {
     "data": {
      "image/png": "[encoded data removed]",
      "text/plain": [
       "<Figure size 540x360 with 6 Axes>"
      ]
     },
     "metadata": {
      "needs_background": "light"
     },
     "output_type": "display_data"
    }
   ],
   "source": [
    "_=pairplot(outputs,x_vars=inputs.columns, y_vars=objectives, kind=\"scatter\")"
   ]
  },
  {
   "cell_type": "markdown",
   "metadata": {
    "papermill": {
     "duration": 0.018711,
     "end_time": "2019-10-28T23:05:48.534391",
     "exception": false,
     "start_time": "2019-10-28T23:05:48.515680",
     "status": "completed"
    },
    "tags": []
   },
   "source": [
    "### Correlation heat map\n",
    "Another way to analyse the impact of the inputs on the outputs is by analysing the correlation.  \n",
    "A common metric is the Pearsson correlation coefficient:\n",
    "\n",
    "$ r = \\frac{N\\sum{XY}-(\\sum{X}\\sum{Y})}{\\sqrt{ [N\\sum{x^2}-(\\sum{x})^2 ][N\\sum{y^2}-(\\sum{y})^2 }]} $\n",
    "\n",
    "where N is the number of samples. $X$ is the vector of observation of variable 1 (e.g. wall conductivity) and $Y$ is the vetor of observations of variable 2 (e.g. electricity consumption).  \n",
    "The closer $r$ is to one the stronger the correlation, and similarly for negative one and negative correleation.\n",
    "\n",
    "To visualize the correlation coefficients of all inputs and outputs, we can plot a heatmap:"
   ]
  },
  {
   "cell_type": "code",
   "execution_count": 16,
   "metadata": {
    "papermill": {
     "duration": 0.217006,
     "end_time": "2019-10-28T23:05:48.772631",
     "exception": false,
     "start_time": "2019-10-28T23:05:48.555625",
     "status": "completed"
    },
    "tags": []
   },
   "outputs": [
    {
     "data": {
      "image/png": "[encoded data removed]",
      "text/plain": [
       "<Figure size 432x288 with 2 Axes>"
      ]
     },
     "metadata": {
      "needs_background": "light"
     },
     "output_type": "display_data"
    }
   ],
   "source": [
    "_ = heatmap(outputs.corr())"
   ]
  },
  {
   "cell_type": "markdown",
   "metadata": {
    "papermill": {
     "duration": 0.022183,
     "end_time": "2019-10-28T23:05:48.813872",
     "exception": false,
     "start_time": "2019-10-28T23:05:48.791689",
     "status": "completed"
    },
    "tags": []
   },
   "source": [
    "The heatmap shows well that the impact of 'Equipment' and 'Lighting' is the most important given this example of an office building.  \n",
    "The U-Value and the attic insultation thickness have suprisingly little effect.  "
   ]
  },
  {
   "cell_type": "code",
   "execution_count": null,
   "metadata": {
    "papermill": {
     "duration": 0.019619,
     "end_time": "2019-10-28T23:05:48.853470",
     "exception": false,
     "start_time": "2019-10-28T23:05:48.833851",
     "status": "completed"
    },
    "tags": []
   },
   "outputs": [],
   "source": []
  }
 ],
 "metadata": {
  "jupytext": {
   "formats": "ipynb,py:light"
  },
  "kernelspec": {
   "display_name": "Python 3",
   "language": "python",
   "name": "python3"
  },
  "language_info": {
   "codemirror_mode": {
    "name": "ipython",
    "version": 3
   },
   "file_extension": ".py",
   "mimetype": "text/x-python",
   "name": "python",
   "nbconvert_exporter": "python",
   "pygments_lexer": "ipython3",
   "version": "3.6.4"
  },
  "papermill": {
   "duration": 44.580311,
   "end_time": "2019-10-28T23:05:49.379899",
   "environment_variables": {},
   "exception": null,
   "input_path": "./ParametricsAndSensitivity/ParametricAnalysis.ipynb",
   "output_path": "./ParametricsAndSensitivity/ParametricAnalysis.ipynb",
   "parameters": {},
   "start_time": "2019-10-28T23:05:04.799588",
   "version": "1.2.0"
  },
  "widgets": {
   "application/vnd.jupyter.widget-state+json": {
    "state": {
     "0f4860c1d3fb44318a33ec83e924c3bb": {
      "model_module": "@jupyter-widgets/controls",
      "model_module_version": "1.5.0",
      "model_name": "HTMLModel",
      "state": {
       "_dom_classes": [],
       "_model_module": "@jupyter-widgets/controls",
       "_model_module_version": "1.5.0",
       "_model_name": "HTMLModel",
       "_view_count": null,
       "_view_module": "@jupyter-widgets/controls",
       "_view_module_version": "1.5.0",
       "_view_name": "HTMLView",
       "description": "",
       "description_tooltip": null,
       "layout": "IPY_MODEL_2f89bb1de25c4a82a38098831f275c5b",
       "placeholder": "​",
       "style": "IPY_MODEL_135cc9045d67467886145b7b6c2b177b",
       "value": " 8/8 [00:37&lt;00:00,  4.63s/row]"
      }
     },
     "128a0327660440c9be8563c5e4d06589": {
      "model_module": "@jupyter-widgets/base",
      "model_module_version": "1.2.0",
      "model_name": "LayoutModel",
      "state": {
       "_model_module": "@jupyter-widgets/base",
       "_model_module_version": "1.2.0",
       "_model_name": "LayoutModel",
       "_view_count": null,
       "_view_module": "@jupyter-widgets/base",
       "_view_module_version": "1.2.0",
       "_view_name": "LayoutView",
       "align_content": null,
       "align_items": null,
       "align_self": null,
       "border": null,
       "bottom": null,
       "display": null,
       "flex": null,
       "flex_flow": null,
       "grid_area": null,
       "grid_auto_columns": null,
       "grid_auto_flow": null,
       "grid_auto_rows": null,
       "grid_column": null,
       "grid_gap": null,
       "grid_row": null,
       "grid_template_areas": null,
       "grid_template_columns": null,
       "grid_template_rows": null,
       "height": null,
       "justify_content": null,
       "justify_items": null,
       "left": null,
       "margin": null,
       "max_height": null,
       "max_width": null,
       "min_height": null,
       "min_width": null,
       "object_fit": null,
       "object_position": null,
       "order": null,
       "overflow": null,
       "overflow_x": null,
       "overflow_y": null,
       "padding": null,
       "right": null,
       "top": null,
       "visibility": null,
       "width": null
      }
     },
     "135cc9045d67467886145b7b6c2b177b": {
      "model_module": "@jupyter-widgets/controls",
      "model_module_version": "1.5.0",
      "model_name": "DescriptionStyleModel",
      "state": {
       "_model_module": "@jupyter-widgets/controls",
       "_model_module_version": "1.5.0",
       "_model_name": "DescriptionStyleModel",
       "_view_count": null,
       "_view_module": "@jupyter-widgets/base",
       "_view_module_version": "1.2.0",
       "_view_name": "StyleView",
       "description_width": ""
      }
     },
     "2f89bb1de25c4a82a38098831f275c5b": {
      "model_module": "@jupyter-widgets/base",
      "model_module_version": "1.2.0",
      "model_name": "LayoutModel",
      "state": {
       "_model_module": "@jupyter-widgets/base",
       "_model_module_version": "1.2.0",
       "_model_name": "LayoutModel",
       "_view_count": null,
       "_view_module": "@jupyter-widgets/base",
       "_view_module_version": "1.2.0",
       "_view_name": "LayoutView",
       "align_content": null,
       "align_items": null,
       "align_self": null,
       "border": null,
       "bottom": null,
       "display": null,
       "flex": null,
       "flex_flow": null,
       "grid_area": null,
       "grid_auto_columns": null,
       "grid_auto_flow": null,
       "grid_auto_rows": null,
       "grid_column": null,
       "grid_gap": null,
       "grid_row": null,
       "grid_template_areas": null,
       "grid_template_columns": null,
       "grid_template_rows": null,
       "height": null,
       "justify_content": null,
       "justify_items": null,
       "left": null,
       "margin": null,
       "max_height": null,
       "max_width": null,
       "min_height": null,
       "min_width": null,
       "object_fit": null,
       "object_position": null,
       "order": null,
       "overflow": null,
       "overflow_x": null,
       "overflow_y": null,
       "padding": null,
       "right": null,
       "top": null,
       "visibility": null,
       "width": null
      }
     },
     "37b2989a625040339c18cf5ebc28e23e": {
      "model_module": "@jupyter-widgets/controls",
      "model_module_version": "1.5.0",
      "model_name": "HBoxModel",
      "state": {
       "_dom_classes": [],
       "_model_module": "@jupyter-widgets/controls",
       "_model_module_version": "1.5.0",
       "_model_name": "HBoxModel",
       "_view_count": null,
       "_view_module": "@jupyter-widgets/controls",
       "_view_module_version": "1.5.0",
       "_view_name": "HBoxView",
       "box_style": "",
       "children": [
        "IPY_MODEL_971f6b34887945c6960ea73e27d675f0",
        "IPY_MODEL_0f4860c1d3fb44318a33ec83e924c3bb"
       ],
       "layout": "IPY_MODEL_128a0327660440c9be8563c5e4d06589"
      }
     },
     "4344f0051c3a4eefb2602063b57ad339": {
      "model_module": "@jupyter-widgets/base",
      "model_module_version": "1.2.0",
      "model_name": "LayoutModel",
      "state": {
       "_model_module": "@jupyter-widgets/base",
       "_model_module_version": "1.2.0",
       "_model_name": "LayoutModel",
       "_view_count": null,
       "_view_module": "@jupyter-widgets/base",
       "_view_module_version": "1.2.0",
       "_view_name": "LayoutView",
       "align_content": null,
       "align_items": null,
       "align_self": null,
       "border": null,
       "bottom": null,
       "display": null,
       "flex": null,
       "flex_flow": null,
       "grid_area": null,
       "grid_auto_columns": null,
       "grid_auto_flow": null,
       "grid_auto_rows": null,
       "grid_column": null,
       "grid_gap": null,
       "grid_row": null,
       "grid_template_areas": null,
       "grid_template_columns": null,
       "grid_template_rows": null,
       "height": null,
       "justify_content": null,
       "justify_items": null,
       "left": null,
       "margin": null,
       "max_height": null,
       "max_width": null,
       "min_height": null,
       "min_width": null,
       "object_fit": null,
       "object_position": null,
       "order": null,
       "overflow": null,
       "overflow_x": null,
       "overflow_y": null,
       "padding": null,
       "right": null,
       "top": null,
       "visibility": null,
       "width": null
      }
     },
     "971f6b34887945c6960ea73e27d675f0": {
      "model_module": "@jupyter-widgets/controls",
      "model_module_version": "1.5.0",
      "model_name": "IntProgressModel",
      "state": {
       "_dom_classes": [],
       "_model_module": "@jupyter-widgets/controls",
       "_model_module_version": "1.5.0",
       "_model_name": "IntProgressModel",
       "_view_count": null,
       "_view_module": "@jupyter-widgets/controls",
       "_view_module_version": "1.5.0",
       "_view_name": "ProgressView",
       "bar_style": "success",
       "description": "Executing: 100%",
       "description_tooltip": null,
       "layout": "IPY_MODEL_4344f0051c3a4eefb2602063b57ad339",
       "max": 8,
       "min": 0,
       "orientation": "horizontal",
       "style": "IPY_MODEL_d6e771653f1e491aac9305ec072f32e2",
       "value": 8
      }
     },
     "d6e771653f1e491aac9305ec072f32e2": {
      "model_module": "@jupyter-widgets/controls",
      "model_module_version": "1.5.0",
      "model_name": "ProgressStyleModel",
      "state": {
       "_model_module": "@jupyter-widgets/controls",
       "_model_module_version": "1.5.0",
       "_model_name": "ProgressStyleModel",
       "_view_count": null,
       "_view_module": "@jupyter-widgets/base",
       "_view_module_version": "1.2.0",
       "_view_name": "StyleView",
       "bar_color": null,
       "description_width": "initial"
      }
     }
    },
    "version_major": 2,
    "version_minor": 0
   }
  }
 },
 "nbformat": 4,
 "nbformat_minor": 4
}