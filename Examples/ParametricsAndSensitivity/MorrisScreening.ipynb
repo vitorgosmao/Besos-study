{
 "cells": [
  {
   "cell_type": "markdown",
   "metadata": {
    "papermill": {
     "duration": 0.005688,
     "end_time": "2019-10-28T23:05:50.039918",
     "exception": false,
     "start_time": "2019-10-28T23:05:50.034230",
     "status": "completed"
    },
    "tags": []
   },
   "source": [
    "# Morris Screening\n",
    "\n",
    "In this notebook we apply the popular Morris screening method to a building design problem.  \n",
    "We determine the sensitivty of the objective (electricty use) to each of the design parameters."
   ]
  },
  {
   "cell_type": "code",
   "execution_count": 1,
   "metadata": {
    "papermill": {
     "duration": 1.248574,
     "end_time": "2019-10-28T23:05:51.292894",
     "exception": false,
     "start_time": "2019-10-28T23:05:50.044320",
     "status": "completed"
    },
    "tags": []
   },
   "outputs": [],
   "source": [
    "import numpy as np\n",
    "import pandas as pd\n",
    "\n",
    "from SALib.sample import morris as msampling\n",
    "from SALib.analyze import morris as manalysis\n",
    "\n",
    "from besos import eppy_funcs as ef \n",
    "import besos.sampling as sampling        \n",
    "from besos.problem import EPProblem\n",
    "from besos.evaluator import EvaluatorEP\n",
    "from besos.parameters import wwr, RangeParameter, FieldSelector, FilterSelector, GenericSelector, Parameter, expand_plist\n",
    "from parameter_sets import parameter_set"
   ]
  },
  {
   "cell_type": "markdown",
   "metadata": {
    "papermill": {
     "duration": 0.003408,
     "end_time": "2019-10-28T23:05:51.300608",
     "exception": false,
     "start_time": "2019-10-28T23:05:51.297200",
     "status": "completed"
    },
    "tags": []
   },
   "source": [
    "## Build an EnergyPlus Evaluator"
   ]
  },
  {
   "cell_type": "code",
   "execution_count": 2,
   "metadata": {
    "papermill": {
     "duration": 0.01999,
     "end_time": "2019-10-28T23:05:51.324351",
     "exception": false,
     "start_time": "2019-10-28T23:05:51.304361",
     "status": "completed"
    },
    "tags": []
   },
   "outputs": [
    {
     "name": "stderr",
     "output_type": "stream",
     "text": [
      "/home/evan/anaconda3/lib/python3.6/site-packages/besos/problem.py:77: RuntimeWarning: Duplicate names found. (duplicate, repetitions): [('Watts per Zone Floor Area', 2)]\n",
      "Attempting to fix automatically\n",
      "  warnings.warn(RuntimeWarning(f'Duplicate names found. (duplicate, repetitions): '\n"
     ]
    }
   ],
   "source": [
    "parameters = parameter_set(7) # use a pre-defined parameter set\n",
    "problem = EPProblem(parameters, ['Electricity:Facility'])\n",
    "building = ef.get_building() # use the example building\n",
    "evaluator = EvaluatorEP(problem, building)\n",
    "inputs = sampling.dist_sampler(sampling.lhs, problem, 50) # get 50 samples of the input space"
   ]
  },
  {
   "cell_type": "markdown",
   "metadata": {
    "papermill": {
     "duration": 0.003977,
     "end_time": "2019-10-28T23:05:51.331711",
     "exception": false,
     "start_time": "2019-10-28T23:05:51.327734",
     "status": "completed"
    },
    "tags": []
   },
   "source": [
    "## Conduct a Morris screening of the parameters"
   ]
  },
  {
   "cell_type": "markdown",
   "metadata": {
    "papermill": {
     "duration": 0.003292,
     "end_time": "2019-10-28T23:05:51.338368",
     "exception": false,
     "start_time": "2019-10-28T23:05:51.335076",
     "status": "completed"
    },
    "tags": []
   },
   "source": [
    "The following cells conduct a Morris screening, a global sensitivity method.  \n",
    "It uses $r$ times $n$ one-at-time changes (OAT) of each parameter at randomly selected points.  \n",
    "The resulting distribution of $r$ samples provides a mean $\\mu^*$, and a standard deviation $\\sigma$ of the elementary effects of the $i$-th input parameter. [[1]] [[2]] [[3]]\n",
    "\n",
    "[1]: https://www.sciencedirect.com/science/article/pii/S1364032112007101\n",
    "[2]: https://en.wikipedia.org/wiki/Elementary_effects_method\n",
    "[3]: https://en.wikipedia.org/wiki/Morris_method"
   ]
  },
  {
   "cell_type": "code",
   "execution_count": 3,
   "metadata": {
    "papermill": {
     "duration": 54.352325,
     "end_time": "2019-10-28T23:06:45.694131",
     "exception": false,
     "start_time": "2019-10-28T23:05:51.341806",
     "status": "completed"
    },
    "tags": []
   },
   "outputs": [
    {
     "data": {
      "application/vnd.jupyter.widget-view+json": {
       "model_id": "8505207a167b4937add113c333349ece",
       "version_major": 2,
       "version_minor": 0
      },
      "text/plain": [
       "HBox(children=(IntProgress(value=0, description='Executing', max=40, style=ProgressStyle(description_width='in…"
      ]
     },
     "metadata": {},
     "output_type": "display_data"
    },
    {
     "name": "stdout",
     "output_type": "stream",
     "text": [
      "\n",
      "Parameter                         Mu_Star         Mu    Mu_Star_Conf      Sigma\n",
      "Wall conductivity              51681025.010 51681025.010    14679736.172 18632485.565\n",
      "Attic thickness                4785764.450 2982208.365     3961702.784 6492376.442\n",
      "U-Factor                       3683527.564 -3683527.564     1252366.499 1564069.477\n",
      "Solar Heat Gain Coefficient    56489897.949 56489897.949     7139628.966 9485776.437\n",
      "Watts per Zone Floor Area_0    320661019.660 320661019.660     1558388.071 1963860.854\n",
      "Watts per Zone Floor Area_1    316143069.669 316143069.669     2219941.236 2891674.839\n",
      "Window to Wall Ratio                0.000      0.000           0.000      0.000\n"
     ]
    },
    {
     "data": {
      "text/html": [
       "<div>\n",
       "<style scoped>\n",
       "    .dataframe tbody tr th:only-of-type {\n",
       "        vertical-align: middle;\n",
       "    }\n",
       "\n",
       "    .dataframe tbody tr th {\n",
       "        vertical-align: top;\n",
       "    }\n",
       "\n",
       "    .dataframe thead th {\n",
       "        text-align: right;\n",
       "    }\n",
       "</style>\n",
       "<table border=\"1\" class=\"dataframe\">\n",
       "  <thead>\n",
       "    <tr style=\"text-align: right;\">\n",
       "      <th></th>\n",
       "      <th>0</th>\n",
       "    </tr>\n",
       "  </thead>\n",
       "  <tbody>\n",
       "    <tr>\n",
       "      <td>Window to Wall Ratio</td>\n",
       "      <td>0.000000e+00</td>\n",
       "    </tr>\n",
       "    <tr>\n",
       "      <td>U-Factor</td>\n",
       "      <td>3.683528e+06</td>\n",
       "    </tr>\n",
       "    <tr>\n",
       "      <td>Attic thickness</td>\n",
       "      <td>4.785764e+06</td>\n",
       "    </tr>\n",
       "    <tr>\n",
       "      <td>Wall conductivity</td>\n",
       "      <td>5.168103e+07</td>\n",
       "    </tr>\n",
       "    <tr>\n",
       "      <td>Solar Heat Gain Coefficient</td>\n",
       "      <td>5.648990e+07</td>\n",
       "    </tr>\n",
       "    <tr>\n",
       "      <td>Watts per Zone Floor Area_1</td>\n",
       "      <td>3.161431e+08</td>\n",
       "    </tr>\n",
       "    <tr>\n",
       "      <td>Watts per Zone Floor Area_0</td>\n",
       "      <td>3.206610e+08</td>\n",
       "    </tr>\n",
       "  </tbody>\n",
       "</table>\n",
       "</div>"
      ],
      "text/plain": [
       "                                        0\n",
       "Window to Wall Ratio         0.000000e+00\n",
       "U-Factor                     3.683528e+06\n",
       "Attic thickness              4.785764e+06\n",
       "Wall conductivity            5.168103e+07\n",
       "Solar Heat Gain Coefficient  5.648990e+07\n",
       "Watts per Zone Floor Area_1  3.161431e+08\n",
       "Watts per Zone Floor Area_0  3.206610e+08"
      ]
     },
     "execution_count": 3,
     "metadata": {},
     "output_type": "execute_result"
    }
   ],
   "source": [
    "names =[parameters[i].name for i in range(len(parameters))]\n",
    "bounds=[[parameters[i].value_descriptor.min, parameters[i].value_descriptor.max] for i in range(len(parameters))]\n",
    "\n",
    "problem = {\n",
    "    'num_vars': len(parameters),\n",
    "    'names': names,\n",
    "    'bounds': bounds\n",
    "                    }\n",
    "\n",
    "X = np.round(msampling.sample(problem, N=5), decimals=3)\n",
    "inputs = pd.DataFrame(data=X,columns=names)\n",
    "outputs = evaluator.df_apply(inputs)\n",
    "\n",
    "\n",
    "Y=outputs.values\n",
    "Si = manalysis.analyze(problem, X, Y, conf_level=0.95,print_to_console=True, num_levels=4)\n",
    "pd.DataFrame(data=Si['mu_star'], index=Si['names']).sort_values(by=0)"
   ]
  },
  {
   "cell_type": "code",
   "execution_count": null,
   "metadata": {
    "papermill": {
     "duration": 0.005995,
     "end_time": "2019-10-28T23:06:45.707938",
     "exception": false,
     "start_time": "2019-10-28T23:06:45.701943",
     "status": "completed"
    },
    "tags": []
   },
   "outputs": [],
   "source": []
  }
 ],
 "metadata": {
  "kernelspec": {
   "display_name": "Python 3",
   "language": "python",
   "name": "python3"
  },
  "language_info": {
   "codemirror_mode": {
    "name": "ipython",
    "version": 3
   },
   "file_extension": ".py",
   "mimetype": "text/x-python",
   "name": "python",
   "nbconvert_exporter": "python",
   "pygments_lexer": "ipython3",
   "version": "3.6.4"
  },
  "papermill": {
   "duration": 56.686386,
   "end_time": "2019-10-28T23:06:46.123938",
   "environment_variables": {},
   "exception": null,
   "input_path": "./ParametricsAndSensitivity/MorrisScreening.ipynb",
   "output_path": "./ParametricsAndSensitivity/MorrisScreening.ipynb",
   "parameters": {},
   "start_time": "2019-10-28T23:05:49.437552",
   "version": "1.2.0"
  },
  "widgets": {
   "application/vnd.jupyter.widget-state+json": {
    "state": {
     "0e92b38fd64141f291e468b44a25307c": {
      "model_module": "@jupyter-widgets/base",
      "model_module_version": "1.2.0",
      "model_name": "LayoutModel",
      "state": {
       "_model_module": "@jupyter-widgets/base",
       "_model_module_version": "1.2.0",
       "_model_name": "LayoutModel",
       "_view_count": null,
       "_view_module": "@jupyter-widgets/base",
       "_view_module_version": "1.2.0",
       "_view_name": "LayoutView",
       "align_content": null,
       "align_items": null,
       "align_self": null,
       "border": null,
       "bottom": null,
       "display": null,
       "flex": null,
       "flex_flow": null,
       "grid_area": null,
       "grid_auto_columns": null,
       "grid_auto_flow": null,
       "grid_auto_rows": null,
       "grid_column": null,
       "grid_gap": null,
       "grid_row": null,
       "grid_template_areas": null,
       "grid_template_columns": null,
       "grid_template_rows": null,
       "height": null,
       "justify_content": null,
       "justify_items": null,
       "left": null,
       "margin": null,
       "max_height": null,
       "max_width": null,
       "min_height": null,
       "min_width": null,
       "object_fit": null,
       "object_position": null,
       "order": null,
       "overflow": null,
       "overflow_x": null,
       "overflow_y": null,
       "padding": null,
       "right": null,
       "top": null,
       "visibility": null,
       "width": null
      }
     },
     "2a7ffa077f2e4b1292f702231f6ae43a": {
      "model_module": "@jupyter-widgets/controls",
      "model_module_version": "1.5.0",
      "model_name": "ProgressStyleModel",
      "state": {
       "_model_module": "@jupyter-widgets/controls",
       "_model_module_version": "1.5.0",
       "_model_name": "ProgressStyleModel",
       "_view_count": null,
       "_view_module": "@jupyter-widgets/base",
       "_view_module_version": "1.2.0",
       "_view_name": "StyleView",
       "bar_color": null,
       "description_width": "initial"
      }
     },
     "7b473ef387be45a59f12fce5a6c198f9": {
      "model_module": "@jupyter-widgets/base",
      "model_module_version": "1.2.0",
      "model_name": "LayoutModel",
      "state": {
       "_model_module": "@jupyter-widgets/base",
       "_model_module_version": "1.2.0",
       "_model_name": "LayoutModel",
       "_view_count": null,
       "_view_module": "@jupyter-widgets/base",
       "_view_module_version": "1.2.0",
       "_view_name": "LayoutView",
       "align_content": null,
       "align_items": null,
       "align_self": null,
       "border": null,
       "bottom": null,
       "display": null,
       "flex": null,
       "flex_flow": null,
       "grid_area": null,
       "grid_auto_columns": null,
       "grid_auto_flow": null,
       "grid_auto_rows": null,
       "grid_column": null,
       "grid_gap": null,
       "grid_row": null,
       "grid_template_areas": null,
       "grid_template_columns": null,
       "grid_template_rows": null,
       "height": null,
       "justify_content": null,
       "justify_items": null,
       "left": null,
       "margin": null,
       "max_height": null,
       "max_width": null,
       "min_height": null,
       "min_width": null,
       "object_fit": null,
       "object_position": null,
       "order": null,
       "overflow": null,
       "overflow_x": null,
       "overflow_y": null,
       "padding": null,
       "right": null,
       "top": null,
       "visibility": null,
       "width": null
      }
     },
     "8505207a167b4937add113c333349ece": {
      "model_module": "@jupyter-widgets/controls",
      "model_module_version": "1.5.0",
      "model_name": "HBoxModel",
      "state": {
       "_dom_classes": [],
       "_model_module": "@jupyter-widgets/controls",
       "_model_module_version": "1.5.0",
       "_model_name": "HBoxModel",
       "_view_count": null,
       "_view_module": "@jupyter-widgets/controls",
       "_view_module_version": "1.5.0",
       "_view_name": "HBoxView",
       "box_style": "",
       "children": [
        "IPY_MODEL_f03d73f0ccbe4a2a89feb052ed5329bd",
        "IPY_MODEL_de03d9ed066b4bcd8e454b3e2bae4e57"
       ],
       "layout": "IPY_MODEL_0e92b38fd64141f291e468b44a25307c"
      }
     },
     "a946e429267046779ff9320161498d97": {
      "model_module": "@jupyter-widgets/controls",
      "model_module_version": "1.5.0",
      "model_name": "DescriptionStyleModel",
      "state": {
       "_model_module": "@jupyter-widgets/controls",
       "_model_module_version": "1.5.0",
       "_model_name": "DescriptionStyleModel",
       "_view_count": null,
       "_view_module": "@jupyter-widgets/base",
       "_view_module_version": "1.2.0",
       "_view_name": "StyleView",
       "description_width": ""
      }
     },
     "de03d9ed066b4bcd8e454b3e2bae4e57": {
      "model_module": "@jupyter-widgets/controls",
      "model_module_version": "1.5.0",
      "model_name": "HTMLModel",
      "state": {
       "_dom_classes": [],
       "_model_module": "@jupyter-widgets/controls",
       "_model_module_version": "1.5.0",
       "_model_name": "HTMLModel",
       "_view_count": null,
       "_view_module": "@jupyter-widgets/controls",
       "_view_module_version": "1.5.0",
       "_view_name": "HTMLView",
       "description": "",
       "description_tooltip": null,
       "layout": "IPY_MODEL_7b473ef387be45a59f12fce5a6c198f9",
       "placeholder": "​",
       "style": "IPY_MODEL_a946e429267046779ff9320161498d97",
       "value": " 40/40 [00:54&lt;00:00,  1.36s/row]"
      }
     },
     "f03d73f0ccbe4a2a89feb052ed5329bd": {
      "model_module": "@jupyter-widgets/controls",
      "model_module_version": "1.5.0",
      "model_name": "IntProgressModel",
      "state": {
       "_dom_classes": [],
       "_model_module": "@jupyter-widgets/controls",
       "_model_module_version": "1.5.0",
       "_model_name": "IntProgressModel",
       "_view_count": null,
       "_view_module": "@jupyter-widgets/controls",
       "_view_module_version": "1.5.0",
       "_view_name": "ProgressView",
       "bar_style": "success",
       "description": "Executing: 100%",
       "description_tooltip": null,
       "layout": "IPY_MODEL_febeb26dd38a41f6b28a7599cd73b19a",
       "max": 40,
       "min": 0,
       "orientation": "horizontal",
       "style": "IPY_MODEL_2a7ffa077f2e4b1292f702231f6ae43a",
       "value": 40
      }
     },
     "febeb26dd38a41f6b28a7599cd73b19a": {
      "model_module": "@jupyter-widgets/base",
      "model_module_version": "1.2.0",
      "model_name": "LayoutModel",
      "state": {
       "_model_module": "@jupyter-widgets/base",
       "_model_module_version": "1.2.0",
       "_model_name": "LayoutModel",
       "_view_count": null,
       "_view_module": "@jupyter-widgets/base",
       "_view_module_version": "1.2.0",
       "_view_name": "LayoutView",
       "align_content": null,
       "align_items": null,
       "align_self": null,
       "border": null,
       "bottom": null,
       "display": null,
       "flex": null,
       "flex_flow": null,
       "grid_area": null,
       "grid_auto_columns": null,
       "grid_auto_flow": null,
       "grid_auto_rows": null,
       "grid_column": null,
       "grid_gap": null,
       "grid_row": null,
       "grid_template_areas": null,
       "grid_template_columns": null,
       "grid_template_rows": null,
       "height": null,
       "justify_content": null,
       "justify_items": null,
       "left": null,
       "margin": null,
       "max_height": null,
       "max_width": null,
       "min_height": null,
       "min_width": null,
       "object_fit": null,
       "object_position": null,
       "order": null,
       "overflow": null,
       "overflow_x": null,
       "overflow_y": null,
       "padding": null,
       "right": null,
       "top": null,
       "visibility": null,
       "width": null
      }
     }
    },
    "version_major": 2,
    "version_minor": 0
   }
  }
 },
 "nbformat": 4,
 "nbformat_minor": 2
}
