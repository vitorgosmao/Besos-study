{
 "cells": [
  {
   "cell_type": "markdown",
   "metadata": {
    "papermill": {
     "duration": 0.008791,
     "end_time": "2019-10-28T23:06:46.804072",
     "exception": false,
     "start_time": "2019-10-28T23:06:46.795281",
     "status": "completed"
    },
    "tags": []
   },
   "source": [
    "# Sobol Sensitivity Analysis\n",
    "\n",
    "In this notebook we apply the Sobol Sensitivy Analysis method to a building design problem.  \n",
    "We determine the sensitivty of the objective (electricty use) to each of the design parameters."
   ]
  },
  {
   "cell_type": "code",
   "execution_count": 1,
   "metadata": {
    "papermill": {
     "duration": 1.447097,
     "end_time": "2019-10-28T23:06:48.257858",
     "exception": false,
     "start_time": "2019-10-28T23:06:46.810761",
     "status": "completed"
    },
    "tags": []
   },
   "outputs": [],
   "source": [
    "import numpy as np\n",
    "import pandas as pd\n",
    "import time\n",
    "\n",
    "from sklearn.gaussian_process.kernels import (RBF, Matern, RationalQuadratic, ExpSineSquared, DotProduct,\n",
    "                                              ConstantKernel)\n",
    "from sklearn.gaussian_process import GaussianProcessRegressor\n",
    "from sklearn.model_selection import train_test_split\n",
    "from sklearn.model_selection import GridSearchCV\n",
    "from SALib.sample import saltelli as ssampling\n",
    "from SALib.analyze import sobol as sanalysis\n",
    "\n",
    "from besos import eppy_funcs as ef\n",
    "import sampling as sampling        \n",
    "from problem import EPProblem\n",
    "from evaluator import EvaluatorEP\n",
    "from evaluator import EvaluatorGeneric\n",
    "from parameters import wwr, RangeParameter, FieldSelector, FilterSelector, GenericSelector, Parameter, expand_plist\n",
    "\n",
    "from parameter_sets import parameter_set"
   ]
  },
  {
   "cell_type": "markdown",
   "metadata": {
    "papermill": {
     "duration": 0.006205,
     "end_time": "2019-10-28T23:06:48.271070",
     "exception": false,
     "start_time": "2019-10-28T23:06:48.264865",
     "status": "completed"
    },
    "tags": []
   },
   "source": [
    "## Build an EnergyPlus Evaluator"
   ]
  },
  {
   "cell_type": "code",
   "execution_count": 2,
   "metadata": {
    "papermill": {
     "duration": 0.064922,
     "end_time": "2019-10-28T23:06:48.342458",
     "exception": false,
     "start_time": "2019-10-28T23:06:48.277536",
     "status": "completed"
    },
    "tags": []
   },
   "outputs": [
    {
     "name": "stderr",
     "output_type": "stream",
     "text": [
      "/home/evan/anaconda3/lib/python3.6/site-packages/besos/problem.py:77: RuntimeWarning: Duplicate names found. (duplicate, repetitions): [('Watts per Zone Floor Area', 2)]\n",
      "Attempting to fix automatically\n",
      "  warnings.warn(RuntimeWarning(f'Duplicate names found. (duplicate, repetitions): '\n"
     ]
    }
   ],
   "source": [
    "parameters = parameter_set(7) # use a pre-defined parameter set\n",
    "problem = EPProblem(parameters, ['Electricity:Facility'])\n",
    "building = ef.get_building() # use the example building\n",
    "evaluator = EvaluatorEP(problem, building)\n",
    "inputs = sampling.dist_sampler(sampling.lhs, problem, 50) # get 50 samples of the input space"
   ]
  },
  {
   "cell_type": "markdown",
   "metadata": {
    "papermill": {
     "duration": 0.005913,
     "end_time": "2019-10-28T23:06:48.354331",
     "exception": false,
     "start_time": "2019-10-28T23:06:48.348418",
     "status": "completed"
    },
    "tags": []
   },
   "source": [
    "## Fit the Surrogate model\n",
    "\n",
    "Evaluate the samples to get training data."
   ]
  },
  {
   "cell_type": "code",
   "execution_count": 3,
   "metadata": {
    "papermill": {
     "duration": 65.560832,
     "end_time": "2019-10-28T23:07:53.921206",
     "exception": false,
     "start_time": "2019-10-28T23:06:48.360374",
     "status": "completed"
    },
    "tags": []
   },
   "outputs": [
    {
     "data": {
      "application/vnd.jupyter.widget-view+json": {
       "model_id": "e41023b44dd041f395da4b6dee1abd71",
       "version_major": 2,
       "version_minor": 0
      },
      "text/plain": [
       "HBox(children=(IntProgress(value=0, description='Executing', max=50, style=ProgressStyle(description_width='in…"
      ]
     },
     "metadata": {},
     "output_type": "display_data"
    },
    {
     "name": "stdout",
     "output_type": "stream",
     "text": [
      "\n"
     ]
    }
   ],
   "source": [
    "outputs = evaluator.df_apply(inputs, processes=1)"
   ]
  },
  {
   "cell_type": "markdown",
   "metadata": {
    "papermill": {
     "duration": 0.007665,
     "end_time": "2019-10-28T23:07:53.937592",
     "exception": false,
     "start_time": "2019-10-28T23:07:53.929927",
     "status": "completed"
    },
    "tags": []
   },
   "source": [
    "Set up the surrogate and fit it."
   ]
  },
  {
   "cell_type": "code",
   "execution_count": 4,
   "metadata": {
    "papermill": {
     "duration": 0.278561,
     "end_time": "2019-10-28T23:07:54.223910",
     "exception": false,
     "start_time": "2019-10-28T23:07:53.945349",
     "status": "completed"
    },
    "tags": []
   },
   "outputs": [
    {
     "name": "stdout",
     "output_type": "stream",
     "text": [
      "The best performing model $R^2$ score on the validation set: 0.9336100063832058\n",
      "The model $R^2$ parameters: {'kernel': 1**2 * Matern(length_scale=1, nu=1.5)}\n"
     ]
    }
   ],
   "source": [
    "hyperparameters = {'kernel':[None,1.0 * RBF(length_scale=1.0, length_scale_bounds=(1e-1, 10.0)),\n",
    "                             1.0 * RationalQuadratic(length_scale=1.0, alpha=0.5),\n",
    "                             #ConstantKernel(0.1, (0.01, 10.0))*(DotProduct(sigma_0=1.0, sigma_0_bounds=(0.1, 10.0))**2),\n",
    "                             1.0 * Matern(length_scale=1.0, length_scale_bounds=(1e-1, 10.0)),]}\n",
    "folds = 3\n",
    "gp = GaussianProcessRegressor(normalize_y=True)\n",
    "clf = GridSearchCV(gp, hyperparameters, iid=True, cv=folds)\n",
    "\n",
    "clf.fit(inputs, outputs)\n",
    "\n",
    "print(f'The best performing model $R^2$ score on the validation set: {clf.best_score_}')\n",
    "print(f'The model $R^2$ parameters: {clf.best_params_}')\n",
    "#print(f'The best performing model $R^2$ score on a separate test set: {clf.best_estimator_.score(test_in, test_out)}')"
   ]
  },
  {
   "cell_type": "markdown",
   "metadata": {
    "papermill": {
     "duration": 0.015391,
     "end_time": "2019-10-28T23:07:54.263868",
     "exception": false,
     "start_time": "2019-10-28T23:07:54.248477",
     "status": "completed"
    },
    "tags": []
   },
   "source": [
    "Make an `Evaluator`."
   ]
  },
  {
   "cell_type": "code",
   "execution_count": 5,
   "metadata": {
    "papermill": {
     "duration": 0.020094,
     "end_time": "2019-10-28T23:07:54.296676",
     "exception": false,
     "start_time": "2019-10-28T23:07:54.276582",
     "status": "completed"
    },
    "tags": []
   },
   "outputs": [],
   "source": [
    "def evaluation_func(ind):\n",
    "    return ((clf.predict([ind])[0][0],),())\n",
    "\n",
    "GP_SM = EvaluatorGeneric(evaluation_func, problem)"
   ]
  },
  {
   "cell_type": "markdown",
   "metadata": {
    "papermill": {
     "duration": 0.008854,
     "end_time": "2019-10-28T23:07:54.318850",
     "exception": false,
     "start_time": "2019-10-28T23:07:54.309996",
     "status": "completed"
    },
    "tags": []
   },
   "source": [
    "## Sobol Analysis"
   ]
  },
  {
   "cell_type": "markdown",
   "metadata": {
    "papermill": {
     "duration": 0.007363,
     "end_time": "2019-10-28T23:07:54.333679",
     "exception": false,
     "start_time": "2019-10-28T23:07:54.326316",
     "status": "completed"
    },
    "tags": []
   },
   "source": [
    "We can now derive the Sobol indices of the given design parameters.  \n",
    "This is a global variance-based sensitivity analysis method.  \n",
    "The resulting indices tell us how much of the variance is explained by each of the inputs.  \n",
    "Sobol analysis may be very sample intensive, with 1000 samples per input.  \n",
    "Simulation-based analysis would be very time intensive, so in this example we use a surrogate model instead. [[1]] [[2]]\n",
    "\n",
    "[1]: https://www.sciencedirect.com/science/article/pii/S1364032112007101\n",
    "[2]: http://statweb.stanford.edu/~owen/pubtalks/siamUQ.pdf"
   ]
  },
  {
   "cell_type": "code",
   "execution_count": 6,
   "metadata": {
    "papermill": {
     "duration": 0.960175,
     "end_time": "2019-10-28T23:07:55.302550",
     "exception": false,
     "start_time": "2019-10-28T23:07:54.342375",
     "status": "completed"
    },
    "tags": []
   },
   "outputs": [
    {
     "name": "stdout",
     "output_type": "stream",
     "text": [
      "This Sobol analysis will require 160000 design evaulations for the analysis.\n"
     ]
    }
   ],
   "source": [
    "names =[parameters[i].name for i in range(len(parameters))]\n",
    "bounds=[[parameters[i].value_descriptor.min, parameters[i].value_descriptor.max] for i in range(len(parameters))]\n",
    "\n",
    "problem = {\n",
    "    'num_vars': len(parameters),\n",
    "    'names': names,\n",
    "    'bounds': bounds\n",
    "                    }\n",
    "\n",
    "X = np.round(ssampling.sample(problem, N=10000, calc_second_order = True), decimals=3)\n",
    "inputs = pd.DataFrame(data=X,columns=names)\n",
    "\n",
    "print(f'This Sobol analysis will require {len(inputs)} design evaulations for the analysis.')"
   ]
  },
  {
   "cell_type": "code",
   "execution_count": 7,
   "metadata": {
    "papermill": {
     "duration": 46.975953,
     "end_time": "2019-10-28T23:08:42.286197",
     "exception": false,
     "start_time": "2019-10-28T23:07:55.310244",
     "status": "completed"
    },
    "tags": []
   },
   "outputs": [
    {
     "data": {
      "application/vnd.jupyter.widget-view+json": {
       "model_id": "9660aa7f88734a4798b5717a759cd8a4",
       "version_major": 2,
       "version_minor": 0
      },
      "text/plain": [
       "HBox(children=(IntProgress(value=0, description='Executing', max=160000, style=ProgressStyle(description_width…"
      ]
     },
     "metadata": {},
     "output_type": "display_data"
    },
    {
     "name": "stdout",
     "output_type": "stream",
     "text": [
      "\n"
     ]
    }
   ],
   "source": [
    "outputs = GP_SM.df_apply(inputs)\n",
    "Y=outputs.values.ravel()"
   ]
  },
  {
   "cell_type": "code",
   "execution_count": 8,
   "metadata": {
    "papermill": {
     "duration": 1.16766,
     "end_time": "2019-10-28T23:08:43.463140",
     "exception": false,
     "start_time": "2019-10-28T23:08:42.295480",
     "status": "completed"
    },
    "tags": []
   },
   "outputs": [
    {
     "name": "stdout",
     "output_type": "stream",
     "text": [
      "Parameter S1 S1_conf ST ST_conf\n",
      "Wall conductivity -0.000006 0.000107 0.000017 0.000001\n",
      "Attic thickness -0.000010 0.000033 0.000001 0.000000\n",
      "U-Factor 0.003477 0.004185 0.022687 0.001280\n",
      "Solar Heat Gain Coefficient 0.003647 0.001710 0.004683 0.000202\n",
      "Watts per Zone Floor Area_0 0.500818 0.019234 0.520764 0.014470\n",
      "Watts per Zone Floor Area_1 0.459587 0.018769 0.484513 0.013108\n",
      "Window to Wall Ratio -0.000032 0.000624 0.000465 0.000024\n",
      "\n",
      "Parameter_1 Parameter_2 S2 S2_conf\n",
      "Wall conductivity Attic thickness 0.000011 0.000153\n",
      "Wall conductivity U-Factor 0.000017 0.000159\n",
      "Wall conductivity Solar Heat Gain Coefficient 0.000009 0.000155\n",
      "Wall conductivity Watts per Zone Floor Area_0 0.000026 0.000198\n",
      "Wall conductivity Watts per Zone Floor Area_1 0.000004 0.000163\n",
      "Wall conductivity Window to Wall Ratio 0.000010 0.000153\n",
      "Attic thickness U-Factor 0.000012 0.000058\n",
      "Attic thickness Solar Heat Gain Coefficient 0.000012 0.000057\n",
      "Attic thickness Watts per Zone Floor Area_0 0.000013 0.000052\n",
      "Attic thickness Watts per Zone Floor Area_1 0.000009 0.000052\n",
      "Attic thickness Window to Wall Ratio 0.000011 0.000057\n",
      "U-Factor Solar Heat Gain Coefficient 0.001062 0.006892\n",
      "U-Factor Watts per Zone Floor Area_0 0.005959 0.006712\n",
      "U-Factor Watts per Zone Floor Area_1 0.009568 0.006609\n",
      "U-Factor Window to Wall Ratio 0.001107 0.006914\n",
      "Solar Heat Gain Coefficient Watts per Zone Floor Area_0 0.000411 0.002808\n",
      "Solar Heat Gain Coefficient Watts per Zone Floor Area_1 0.000054 0.002847\n",
      "Solar Heat Gain Coefficient Window to Wall Ratio -0.000251 0.002561\n",
      "Watts per Zone Floor Area_0 Watts per Zone Floor Area_1 0.010446 0.030043\n",
      "Watts per Zone Floor Area_0 Window to Wall Ratio -0.000698 0.021332\n",
      "Watts per Zone Floor Area_1 Window to Wall Ratio 0.001103 0.023027\n",
      "1.1517858505249023\n"
     ]
    }
   ],
   "source": [
    "now = time.time()\n",
    "Si = sanalysis.analyze(problem, Y.ravel(), conf_level=0.95,print_to_console=True, parallel=True, n_processors=4)\n",
    "print(time.time()-now)\n",
    "#pd.DataFrame(data=Si['mu_star'], index=Si['names']).sort_values(by=0)"
   ]
  },
  {
   "cell_type": "code",
   "execution_count": null,
   "metadata": {
    "papermill": {
     "duration": 0.008006,
     "end_time": "2019-10-28T23:08:43.480128",
     "exception": false,
     "start_time": "2019-10-28T23:08:43.472122",
     "status": "completed"
    },
    "tags": []
   },
   "outputs": [],
   "source": []
  }
 ],
 "metadata": {
  "kernelspec": {
   "display_name": "Python 3",
   "language": "python",
   "name": "python3"
  },
  "language_info": {
   "codemirror_mode": {
    "name": "ipython",
    "version": 3
   },
   "file_extension": ".py",
   "mimetype": "text/x-python",
   "name": "python",
   "nbconvert_exporter": "python",
   "pygments_lexer": "ipython3",
   "version": "3.6.4"
  },
  "papermill": {
   "duration": 117.809702,
   "end_time": "2019-10-28T23:08:43.997505",
   "environment_variables": {},
   "exception": null,
   "input_path": "./ParametricsAndSensitivity/SobolSensitivityAnalysis.ipynb",
   "output_path": "./ParametricsAndSensitivity/SobolSensitivityAnalysis.ipynb",
   "parameters": {},
   "start_time": "2019-10-28T23:06:46.187803",
   "version": "1.2.0"
  },
  "widgets": {
   "application/vnd.jupyter.widget-state+json": {
    "state": {
     "11b586ca477346ebae040f4b1187e29f": {
      "model_module": "@jupyter-widgets/controls",
      "model_module_version": "1.5.0",
      "model_name": "HTMLModel",
      "state": {
       "_dom_classes": [],
       "_model_module": "@jupyter-widgets/controls",
       "_model_module_version": "1.5.0",
       "_model_name": "HTMLModel",
       "_view_count": null,
       "_view_module": "@jupyter-widgets/controls",
       "_view_module_version": "1.5.0",
       "_view_name": "HTMLView",
       "description": "",
       "description_tooltip": null,
       "layout": "IPY_MODEL_9a066bf360b54bd9b7885f62fb63f09a",
       "placeholder": "​",
       "style": "IPY_MODEL_cf6d6877d5684ab7aa6005a056fef430",
       "value": " 159816/160000 [00:46&lt;00:00, 3420.26row/s]"
      }
     },
     "25340ba86b5a4f1cb6b43a43bcf43535": {
      "model_module": "@jupyter-widgets/base",
      "model_module_version": "1.2.0",
      "model_name": "LayoutModel",
      "state": {
       "_model_module": "@jupyter-widgets/base",
       "_model_module_version": "1.2.0",
       "_model_name": "LayoutModel",
       "_view_count": null,
       "_view_module": "@jupyter-widgets/base",
       "_view_module_version": "1.2.0",
       "_view_name": "LayoutView",
       "align_content": null,
       "align_items": null,
       "align_self": null,
       "border": null,
       "bottom": null,
       "display": null,
       "flex": null,
       "flex_flow": null,
       "grid_area": null,
       "grid_auto_columns": null,
       "grid_auto_flow": null,
       "grid_auto_rows": null,
       "grid_column": null,
       "grid_gap": null,
       "grid_row": null,
       "grid_template_areas": null,
       "grid_template_columns": null,
       "grid_template_rows": null,
       "height": null,
       "justify_content": null,
       "justify_items": null,
       "left": null,
       "margin": null,
       "max_height": null,
       "max_width": null,
       "min_height": null,
       "min_width": null,
       "object_fit": null,
       "object_position": null,
       "order": null,
       "overflow": null,
       "overflow_x": null,
       "overflow_y": null,
       "padding": null,
       "right": null,
       "top": null,
       "visibility": null,
       "width": null
      }
     },
     "5a850b078aff4b2eb66d99c779ff3486": {
      "model_module": "@jupyter-widgets/controls",
      "model_module_version": "1.5.0",
      "model_name": "IntProgressModel",
      "state": {
       "_dom_classes": [],
       "_model_module": "@jupyter-widgets/controls",
       "_model_module_version": "1.5.0",
       "_model_name": "IntProgressModel",
       "_view_count": null,
       "_view_module": "@jupyter-widgets/controls",
       "_view_module_version": "1.5.0",
       "_view_name": "ProgressView",
       "bar_style": "danger",
       "description": "Executing: 100%",
       "description_tooltip": null,
       "layout": "IPY_MODEL_a1ebd5ba5dec4396a3f677bf216e12cc",
       "max": 160000,
       "min": 0,
       "orientation": "horizontal",
       "style": "IPY_MODEL_ba8f3a8cd7ed4c47951ddd83a8baa87c",
       "value": 159816
      }
     },
     "892bd1f7ea6846d394f5c87f2d5b7475": {
      "model_module": "@jupyter-widgets/controls",
      "model_module_version": "1.5.0",
      "model_name": "DescriptionStyleModel",
      "state": {
       "_model_module": "@jupyter-widgets/controls",
       "_model_module_version": "1.5.0",
       "_model_name": "DescriptionStyleModel",
       "_view_count": null,
       "_view_module": "@jupyter-widgets/base",
       "_view_module_version": "1.2.0",
       "_view_name": "StyleView",
       "description_width": ""
      }
     },
     "8aa67204db954d48bf08ecbc95632bcf": {
      "model_module": "@jupyter-widgets/controls",
      "model_module_version": "1.5.0",
      "model_name": "HTMLModel",
      "state": {
       "_dom_classes": [],
       "_model_module": "@jupyter-widgets/controls",
       "_model_module_version": "1.5.0",
       "_model_name": "HTMLModel",
       "_view_count": null,
       "_view_module": "@jupyter-widgets/controls",
       "_view_module_version": "1.5.0",
       "_view_name": "HTMLView",
       "description": "",
       "description_tooltip": null,
       "layout": "IPY_MODEL_25340ba86b5a4f1cb6b43a43bcf43535",
       "placeholder": "​",
       "style": "IPY_MODEL_892bd1f7ea6846d394f5c87f2d5b7475",
       "value": " 50/50 [01:47&lt;00:00,  2.15s/row]"
      }
     },
     "944a0cb0016a41009dea168e6ecc128e": {
      "model_module": "@jupyter-widgets/base",
      "model_module_version": "1.2.0",
      "model_name": "LayoutModel",
      "state": {
       "_model_module": "@jupyter-widgets/base",
       "_model_module_version": "1.2.0",
       "_model_name": "LayoutModel",
       "_view_count": null,
       "_view_module": "@jupyter-widgets/base",
       "_view_module_version": "1.2.0",
       "_view_name": "LayoutView",
       "align_content": null,
       "align_items": null,
       "align_self": null,
       "border": null,
       "bottom": null,
       "display": null,
       "flex": null,
       "flex_flow": null,
       "grid_area": null,
       "grid_auto_columns": null,
       "grid_auto_flow": null,
       "grid_auto_rows": null,
       "grid_column": null,
       "grid_gap": null,
       "grid_row": null,
       "grid_template_areas": null,
       "grid_template_columns": null,
       "grid_template_rows": null,
       "height": null,
       "justify_content": null,
       "justify_items": null,
       "left": null,
       "margin": null,
       "max_height": null,
       "max_width": null,
       "min_height": null,
       "min_width": null,
       "object_fit": null,
       "object_position": null,
       "order": null,
       "overflow": null,
       "overflow_x": null,
       "overflow_y": null,
       "padding": null,
       "right": null,
       "top": null,
       "visibility": null,
       "width": null
      }
     },
     "9660aa7f88734a4798b5717a759cd8a4": {
      "model_module": "@jupyter-widgets/controls",
      "model_module_version": "1.5.0",
      "model_name": "HBoxModel",
      "state": {
       "_dom_classes": [],
       "_model_module": "@jupyter-widgets/controls",
       "_model_module_version": "1.5.0",
       "_model_name": "HBoxModel",
       "_view_count": null,
       "_view_module": "@jupyter-widgets/controls",
       "_view_module_version": "1.5.0",
       "_view_name": "HBoxView",
       "box_style": "",
       "children": [
        "IPY_MODEL_5a850b078aff4b2eb66d99c779ff3486",
        "IPY_MODEL_11b586ca477346ebae040f4b1187e29f"
       ],
       "layout": "IPY_MODEL_944a0cb0016a41009dea168e6ecc128e"
      }
     },
     "9a066bf360b54bd9b7885f62fb63f09a": {
      "model_module": "@jupyter-widgets/base",
      "model_module_version": "1.2.0",
      "model_name": "LayoutModel",
      "state": {
       "_model_module": "@jupyter-widgets/base",
       "_model_module_version": "1.2.0",
       "_model_name": "LayoutModel",
       "_view_count": null,
       "_view_module": "@jupyter-widgets/base",
       "_view_module_version": "1.2.0",
       "_view_name": "LayoutView",
       "align_content": null,
       "align_items": null,
       "align_self": null,
       "border": null,
       "bottom": null,
       "display": null,
       "flex": null,
       "flex_flow": null,
       "grid_area": null,
       "grid_auto_columns": null,
       "grid_auto_flow": null,
       "grid_auto_rows": null,
       "grid_column": null,
       "grid_gap": null,
       "grid_row": null,
       "grid_template_areas": null,
       "grid_template_columns": null,
       "grid_template_rows": null,
       "height": null,
       "justify_content": null,
       "justify_items": null,
       "left": null,
       "margin": null,
       "max_height": null,
       "max_width": null,
       "min_height": null,
       "min_width": null,
       "object_fit": null,
       "object_position": null,
       "order": null,
       "overflow": null,
       "overflow_x": null,
       "overflow_y": null,
       "padding": null,
       "right": null,
       "top": null,
       "visibility": null,
       "width": null
      }
     },
     "a1ebd5ba5dec4396a3f677bf216e12cc": {
      "model_module": "@jupyter-widgets/base",
      "model_module_version": "1.2.0",
      "model_name": "LayoutModel",
      "state": {
       "_model_module": "@jupyter-widgets/base",
       "_model_module_version": "1.2.0",
       "_model_name": "LayoutModel",
       "_view_count": null,
       "_view_module": "@jupyter-widgets/base",
       "_view_module_version": "1.2.0",
       "_view_name": "LayoutView",
       "align_content": null,
       "align_items": null,
       "align_self": null,
       "border": null,
       "bottom": null,
       "display": null,
       "flex": null,
       "flex_flow": null,
       "grid_area": null,
       "grid_auto_columns": null,
       "grid_auto_flow": null,
       "grid_auto_rows": null,
       "grid_column": null,
       "grid_gap": null,
       "grid_row": null,
       "grid_template_areas": null,
       "grid_template_columns": null,
       "grid_template_rows": null,
       "height": null,
       "justify_content": null,
       "justify_items": null,
       "left": null,
       "margin": null,
       "max_height": null,
       "max_width": null,
       "min_height": null,
       "min_width": null,
       "object_fit": null,
       "object_position": null,
       "order": null,
       "overflow": null,
       "overflow_x": null,
       "overflow_y": null,
       "padding": null,
       "right": null,
       "top": null,
       "visibility": null,
       "width": null
      }
     },
     "b21c32f440dd495bb5e687cecb342b6d": {
      "model_module": "@jupyter-widgets/controls",
      "model_module_version": "1.5.0",
      "model_name": "IntProgressModel",
      "state": {
       "_dom_classes": [],
       "_model_module": "@jupyter-widgets/controls",
       "_model_module_version": "1.5.0",
       "_model_name": "IntProgressModel",
       "_view_count": null,
       "_view_module": "@jupyter-widgets/controls",
       "_view_module_version": "1.5.0",
       "_view_name": "ProgressView",
       "bar_style": "success",
       "description": "Executing: 100%",
       "description_tooltip": null,
       "layout": "IPY_MODEL_f32f2de6d24547c9aa2fcd3f2ab7672e",
       "max": 50,
       "min": 0,
       "orientation": "horizontal",
       "style": "IPY_MODEL_e1e15bbe8a7e4018aa7044c8e9f0a009",
       "value": 50
      }
     },
     "ba8f3a8cd7ed4c47951ddd83a8baa87c": {
      "model_module": "@jupyter-widgets/controls",
      "model_module_version": "1.5.0",
      "model_name": "ProgressStyleModel",
      "state": {
       "_model_module": "@jupyter-widgets/controls",
       "_model_module_version": "1.5.0",
       "_model_name": "ProgressStyleModel",
       "_view_count": null,
       "_view_module": "@jupyter-widgets/base",
       "_view_module_version": "1.2.0",
       "_view_name": "StyleView",
       "bar_color": null,
       "description_width": "initial"
      }
     },
     "cf6d6877d5684ab7aa6005a056fef430": {
      "model_module": "@jupyter-widgets/controls",
      "model_module_version": "1.5.0",
      "model_name": "DescriptionStyleModel",
      "state": {
       "_model_module": "@jupyter-widgets/controls",
       "_model_module_version": "1.5.0",
       "_model_name": "DescriptionStyleModel",
       "_view_count": null,
       "_view_module": "@jupyter-widgets/base",
       "_view_module_version": "1.2.0",
       "_view_name": "StyleView",
       "description_width": ""
      }
     },
     "da4f412fe36b438a9e1e0cbbc77033b6": {
      "model_module": "@jupyter-widgets/base",
      "model_module_version": "1.2.0",
      "model_name": "LayoutModel",
      "state": {
       "_model_module": "@jupyter-widgets/base",
       "_model_module_version": "1.2.0",
       "_model_name": "LayoutModel",
       "_view_count": null,
       "_view_module": "@jupyter-widgets/base",
       "_view_module_version": "1.2.0",
       "_view_name": "LayoutView",
       "align_content": null,
       "align_items": null,
       "align_self": null,
       "border": null,
       "bottom": null,
       "display": null,
       "flex": null,
       "flex_flow": null,
       "grid_area": null,
       "grid_auto_columns": null,
       "grid_auto_flow": null,
       "grid_auto_rows": null,
       "grid_column": null,
       "grid_gap": null,
       "grid_row": null,
       "grid_template_areas": null,
       "grid_template_columns": null,
       "grid_template_rows": null,
       "height": null,
       "justify_content": null,
       "justify_items": null,
       "left": null,
       "margin": null,
       "max_height": null,
       "max_width": null,
       "min_height": null,
       "min_width": null,
       "object_fit": null,
       "object_position": null,
       "order": null,
       "overflow": null,
       "overflow_x": null,
       "overflow_y": null,
       "padding": null,
       "right": null,
       "top": null,
       "visibility": null,
       "width": null
      }
     },
     "e1e15bbe8a7e4018aa7044c8e9f0a009": {
      "model_module": "@jupyter-widgets/controls",
      "model_module_version": "1.5.0",
      "model_name": "ProgressStyleModel",
      "state": {
       "_model_module": "@jupyter-widgets/controls",
       "_model_module_version": "1.5.0",
       "_model_name": "ProgressStyleModel",
       "_view_count": null,
       "_view_module": "@jupyter-widgets/base",
       "_view_module_version": "1.2.0",
       "_view_name": "StyleView",
       "bar_color": null,
       "description_width": "initial"
      }
     },
     "e41023b44dd041f395da4b6dee1abd71": {
      "model_module": "@jupyter-widgets/controls",
      "model_module_version": "1.5.0",
      "model_name": "HBoxModel",
      "state": {
       "_dom_classes": [],
       "_model_module": "@jupyter-widgets/controls",
       "_model_module_version": "1.5.0",
       "_model_name": "HBoxModel",
       "_view_count": null,
       "_view_module": "@jupyter-widgets/controls",
       "_view_module_version": "1.5.0",
       "_view_name": "HBoxView",
       "box_style": "",
       "children": [
        "IPY_MODEL_b21c32f440dd495bb5e687cecb342b6d",
        "IPY_MODEL_8aa67204db954d48bf08ecbc95632bcf"
       ],
       "layout": "IPY_MODEL_da4f412fe36b438a9e1e0cbbc77033b6"
      }
     },
     "f32f2de6d24547c9aa2fcd3f2ab7672e": {
      "model_module": "@jupyter-widgets/base",
      "model_module_version": "1.2.0",
      "model_name": "LayoutModel",
      "state": {
       "_model_module": "@jupyter-widgets/base",
       "_model_module_version": "1.2.0",
       "_model_name": "LayoutModel",
       "_view_count": null,
       "_view_module": "@jupyter-widgets/base",
       "_view_module_version": "1.2.0",
       "_view_name": "LayoutView",
       "align_content": null,
       "align_items": null,
       "align_self": null,
       "border": null,
       "bottom": null,
       "display": null,
       "flex": null,
       "flex_flow": null,
       "grid_area": null,
       "grid_auto_columns": null,
       "grid_auto_flow": null,
       "grid_auto_rows": null,
       "grid_column": null,
       "grid_gap": null,
       "grid_row": null,
       "grid_template_areas": null,
       "grid_template_columns": null,
       "grid_template_rows": null,
       "height": null,
       "justify_content": null,
       "justify_items": null,
       "left": null,
       "margin": null,
       "max_height": null,
       "max_width": null,
       "min_height": null,
       "min_width": null,
       "object_fit": null,
       "object_position": null,
       "order": null,
       "overflow": null,
       "overflow_x": null,
       "overflow_y": null,
       "padding": null,
       "right": null,
       "top": null,
       "visibility": null,
       "width": null
      }
     }
    },
    "version_major": 2,
    "version_minor": 0
   }
  }
 },
 "nbformat": 4,
 "nbformat_minor": 2
}