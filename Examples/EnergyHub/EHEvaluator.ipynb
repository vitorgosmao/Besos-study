{
 "cells": [
  {
   "cell_type": "markdown",
   "metadata": {
    "papermill": {
     "duration": 0.009252,
     "end_time": "2019-10-28T23:03:29.717486",
     "exception": false,
     "start_time": "2019-10-28T23:03:29.708234",
     "status": "completed"
    },
    "tags": []
   },
   "source": [
    "## EvaluatorEH\n",
    "\n",
    "This notebook covers how to use the PyEHub Evaluator (`EvaluatorEH`)."
   ]
  },
  {
   "cell_type": "code",
   "execution_count": 1,
   "metadata": {
    "papermill": {
     "duration": 1.161082,
     "end_time": "2019-10-28T23:03:30.889959",
     "exception": false,
     "start_time": "2019-10-28T23:03:29.728877",
     "status": "completed"
    },
    "tags": []
   },
   "outputs": [],
   "source": [
    "from besos.evaluator import EvaluatorEH\n",
    "from besos import eppy_funcs as ef\n",
    "from besos import pyehub_funcs as pf\n",
    "from besos.parameters import FieldSelector, Parameter, ParameterEH\n",
    "from besos.problem import EPProblem, Problem, EHProblem\n",
    "import numpy as np\n",
    "import pandas as pd\n",
    "import sampling"
   ]
  },
  {
   "cell_type": "markdown",
   "metadata": {
    "papermill": {
     "duration": 0.003837,
     "end_time": "2019-10-28T23:03:30.898379",
     "exception": false,
     "start_time": "2019-10-28T23:03:30.894542",
     "status": "completed"
    },
    "tags": []
   },
   "source": [
    "This evaluator needs an energy hub model, and a problem with parameters that can modify it, and objectives that correspond to outputs from the solution of the model.\n",
    "Parameters are provided as a list of key list mapping lists for the different variables inside the model.\n",
    "Outputs are provided as a list of the keys from the solution of the model."
   ]
  },
  {
   "cell_type": "code",
   "execution_count": 2,
   "metadata": {
    "papermill": {
     "duration": 0.03079,
     "end_time": "2019-10-28T23:03:30.933026",
     "exception": false,
     "start_time": "2019-10-28T23:03:30.902236",
     "status": "completed"
    },
    "tags": []
   },
   "outputs": [],
   "source": [
    "hub = pf.get_hub()\n",
    "\n",
    "parameters = [ParameterEH(['LOADS','Elec']), ParameterEH(['LOADS','Heat'])]\n",
    "objectives = ['total_cost','total_carbon']\n",
    "problem = EHProblem(parameters,objectives)\n",
    "evaluatorEH = EvaluatorEH(problem, hub)"
   ]
  },
  {
   "cell_type": "markdown",
   "metadata": {
    "papermill": {
     "duration": 0.003488,
     "end_time": "2019-10-28T23:03:30.940160",
     "exception": false,
     "start_time": "2019-10-28T23:03:30.936672",
     "status": "completed"
    },
    "tags": []
   },
   "source": [
    "Input values for overwritting the specified parameters can be given in the form of single values, a dictionary time series, a dataframe of single values, or a dataframe of time series."
   ]
  },
  {
   "cell_type": "code",
   "execution_count": 3,
   "metadata": {
    "papermill": {
     "duration": 0.014999,
     "end_time": "2019-10-28T23:03:30.958925",
     "exception": false,
     "start_time": "2019-10-28T23:03:30.943926",
     "status": "completed"
    },
    "tags": []
   },
   "outputs": [],
   "source": [
    "default_timeseries = [{0: 1.0, 1: 4.0, 2: 4.0, 3: 4.0, 4: 4.0, 5: 4.0, 6: 4.0, 7: 4.0, 8: 4.0, 9: 4.0, 10: 4.0}, \\\n",
    "                      {0: 20.0, 1: 20.0, 2: 20.0, 3: 20.0, 4: 20.0, 5: 20.0, 6: 20.0, 7: 12.0, 8: 12.0, 9: 12.0, 10: 12.0}]\n",
    "modified_heat = [{0: 1.0, 1: 4.0, 2: 4.0, 3: 4.0, 4: 4.0, 5: 4.0, 6: 4.0, 7: 4.0, 8: 4.0, 9: 4.0, 10: 4.0}, \\\n",
    "                      {0: 18.0, 1: 18.0, 2: 18.0, 3: 18.0, 4: 18.0, 5: 18.0, 6: 18.0, 7: 16.0, 8: 16.0, 9: 16.0, 10: 16.0}]\n",
    "modified_elec = [{0: 4.0, 1: 8.0, 2: 6.0, 3: 5.0, 4: 7.0, 5: 7.0, 6: 7.0, 7: 7.0, 8: 7.0, 9: 7.0, 10: 7.0}, \\\n",
    "                      {0: 20.0, 1: 20.0, 2: 20.0, 3: 20.0, 4: 20.0, 5: 20.0, 6: 20.0, 7: 12.0, 8: 12.0, 9: 12.0, 10: 12.0}]\n",
    "modified_both = [{0: 4.0, 1: 8.0, 2: 6.0, 3: 5.0, 4: 7.0, 5: 7.0, 6: 7.0, 7: 7.0, 8: 7.0, 9: 7.0, 10: 7.0}, \\\n",
    "                       {0: 18.0, 1: 18.0, 2: 18.0, 3: 18.0, 4: 18.0, 5: 18.0, 6: 18.0, 7: 16.0, 8: 16.0, 9: 16.0, 10: 16.0}]\n",
    "timeseries_df = pd.DataFrame(np.array([default_timeseries, modified_heat, modified_elec, modified_both]),columns= ['p1','p2'])"
   ]
  },
  {
   "cell_type": "markdown",
   "metadata": {
    "papermill": {
     "duration": 0.003672,
     "end_time": "2019-10-28T23:03:30.966485",
     "exception": false,
     "start_time": "2019-10-28T23:03:30.962813",
     "status": "completed"
    },
    "tags": []
   },
   "source": [
    "Normally the evaluator can be called directly with the input values but if using a dataframe as input df_apply must be used."
   ]
  },
  {
   "cell_type": "code",
   "execution_count": 4,
   "metadata": {
    "papermill": {
     "duration": 0.399856,
     "end_time": "2019-10-28T23:03:31.370118",
     "exception": false,
     "start_time": "2019-10-28T23:03:30.970262",
     "status": "completed"
    },
    "tags": []
   },
   "outputs": [
    {
     "data": {
      "application/vnd.jupyter.widget-view+json": {
       "model_id": "6ad5c9642c7941a59872a810c89ede7d",
       "version_major": 2,
       "version_minor": 0
      },
      "text/plain": [
       "HBox(children=(IntProgress(value=0, description='Executing', max=4, style=ProgressStyle(description_width='ini…"
      ]
     },
     "metadata": {},
     "output_type": "display_data"
    },
    {
     "name": "stdout",
     "output_type": "stream",
     "text": [
      "\n"
     ]
    },
    {
     "data": {
      "text/html": [
       "<div>\n",
       "<style scoped>\n",
       "    .dataframe tbody tr th:only-of-type {\n",
       "        vertical-align: middle;\n",
       "    }\n",
       "\n",
       "    .dataframe tbody tr th {\n",
       "        vertical-align: top;\n",
       "    }\n",
       "\n",
       "    .dataframe thead th {\n",
       "        text-align: right;\n",
       "    }\n",
       "</style>\n",
       "<table border=\"1\" class=\"dataframe\">\n",
       "  <thead>\n",
       "    <tr style=\"text-align: right;\">\n",
       "      <th></th>\n",
       "      <th>total_cost</th>\n",
       "      <th>total_carbon</th>\n",
       "    </tr>\n",
       "  </thead>\n",
       "  <tbody>\n",
       "    <tr>\n",
       "      <td>0</td>\n",
       "      <td>1846.19</td>\n",
       "      <td>33.7551</td>\n",
       "    </tr>\n",
       "    <tr>\n",
       "      <td>1</td>\n",
       "      <td>1850.01</td>\n",
       "      <td>33.7190</td>\n",
       "    </tr>\n",
       "    <tr>\n",
       "      <td>2</td>\n",
       "      <td>1844.18</td>\n",
       "      <td>44.6054</td>\n",
       "    </tr>\n",
       "    <tr>\n",
       "      <td>3</td>\n",
       "      <td>1847.10</td>\n",
       "      <td>44.5693</td>\n",
       "    </tr>\n",
       "  </tbody>\n",
       "</table>\n",
       "</div>"
      ],
      "text/plain": [
       "   total_cost  total_carbon\n",
       "0     1846.19       33.7551\n",
       "1     1850.01       33.7190\n",
       "2     1844.18       44.6054\n",
       "3     1847.10       44.5693"
      ]
     },
     "execution_count": 4,
     "metadata": {},
     "output_type": "execute_result"
    }
   ],
   "source": [
    "result = evaluatorEH.df_apply(timeseries_df)\n",
    "result"
   ]
  },
  {
   "cell_type": "code",
   "execution_count": null,
   "metadata": {
    "papermill": {
     "duration": 0.004837,
     "end_time": "2019-10-28T23:03:31.380706",
     "exception": false,
     "start_time": "2019-10-28T23:03:31.375869",
     "status": "completed"
    },
    "tags": []
   },
   "outputs": [],
   "source": []
  }
 ],
 "metadata": {
  "jupytext": {
   "formats": "ipynb,py:light"
  },
  "kernelspec": {
   "display_name": "Python 3",
   "language": "python",
   "name": "python3"
  },
  "language_info": {
   "codemirror_mode": {
    "name": "ipython",
    "version": 3
   },
   "file_extension": ".py",
   "mimetype": "text/x-python",
   "name": "python",
   "nbconvert_exporter": "python",
   "pygments_lexer": "ipython3",
   "version": "3.6.4"
  },
  "papermill": {
   "duration": 2.707598,
   "end_time": "2019-10-28T23:03:31.794946",
   "environment_variables": {},
   "exception": null,
   "input_path": "./EnergyHub/EHEvaluator.ipynb",
   "output_path": "./EnergyHub/EHEvaluator.ipynb",
   "parameters": {},
   "start_time": "2019-10-28T23:03:29.087348",
   "version": "1.2.0"
  },
  "widgets": {
   "application/vnd.jupyter.widget-state+json": {
    "state": {
     "2b61dcaa2e0443acbea19d0328d46cd5": {
      "model_module": "@jupyter-widgets/controls",
      "model_module_version": "1.5.0",
      "model_name": "HTMLModel",
      "state": {
       "_dom_classes": [],
       "_model_module": "@jupyter-widgets/controls",
       "_model_module_version": "1.5.0",
       "_model_name": "HTMLModel",
       "_view_count": null,
       "_view_module": "@jupyter-widgets/controls",
       "_view_module_version": "1.5.0",
       "_view_name": "HTMLView",
       "description": "",
       "description_tooltip": null,
       "layout": "IPY_MODEL_311af6cd83854a62999fb6f8a599894b",
       "placeholder": "​",
       "style": "IPY_MODEL_550cee39fce344e49ab4c1a272ac3404",
       "value": " 4/4 [00:00&lt;00:00, 10.79row/s]"
      }
     },
     "311af6cd83854a62999fb6f8a599894b": {
      "model_module": "@jupyter-widgets/base",
      "model_module_version": "1.2.0",
      "model_name": "LayoutModel",
      "state": {
       "_model_module": "@jupyter-widgets/base",
       "_model_module_version": "1.2.0",
       "_model_name": "LayoutModel",
       "_view_count": null,
       "_view_module": "@jupyter-widgets/base",
       "_view_module_version": "1.2.0",
       "_view_name": "LayoutView",
       "align_content": null,
       "align_items": null,
       "align_self": null,
       "border": null,
       "bottom": null,
       "display": null,
       "flex": null,
       "flex_flow": null,
       "grid_area": null,
       "grid_auto_columns": null,
       "grid_auto_flow": null,
       "grid_auto_rows": null,
       "grid_column": null,
       "grid_gap": null,
       "grid_row": null,
       "grid_template_areas": null,
       "grid_template_columns": null,
       "grid_template_rows": null,
       "height": null,
       "justify_content": null,
       "justify_items": null,
       "left": null,
       "margin": null,
       "max_height": null,
       "max_width": null,
       "min_height": null,
       "min_width": null,
       "object_fit": null,
       "object_position": null,
       "order": null,
       "overflow": null,
       "overflow_x": null,
       "overflow_y": null,
       "padding": null,
       "right": null,
       "top": null,
       "visibility": null,
       "width": null
      }
     },
     "5060c8784afe485e8ae13a0ecee5f661": {
      "model_module": "@jupyter-widgets/controls",
      "model_module_version": "1.5.0",
      "model_name": "IntProgressModel",
      "state": {
       "_dom_classes": [],
       "_model_module": "@jupyter-widgets/controls",
       "_model_module_version": "1.5.0",
       "_model_name": "IntProgressModel",
       "_view_count": null,
       "_view_module": "@jupyter-widgets/controls",
       "_view_module_version": "1.5.0",
       "_view_name": "ProgressView",
       "bar_style": "success",
       "description": "Executing: 100%",
       "description_tooltip": null,
       "layout": "IPY_MODEL_a5f1e27123ab49329d16c123f5b9fb1e",
       "max": 4,
       "min": 0,
       "orientation": "horizontal",
       "style": "IPY_MODEL_d001b0a4950f4e68b1303780b885dcc5",
       "value": 4
      }
     },
     "550cee39fce344e49ab4c1a272ac3404": {
      "model_module": "@jupyter-widgets/controls",
      "model_module_version": "1.5.0",
      "model_name": "DescriptionStyleModel",
      "state": {
       "_model_module": "@jupyter-widgets/controls",
       "_model_module_version": "1.5.0",
       "_model_name": "DescriptionStyleModel",
       "_view_count": null,
       "_view_module": "@jupyter-widgets/base",
       "_view_module_version": "1.2.0",
       "_view_name": "StyleView",
       "description_width": ""
      }
     },
     "6ad5c9642c7941a59872a810c89ede7d": {
      "model_module": "@jupyter-widgets/controls",
      "model_module_version": "1.5.0",
      "model_name": "HBoxModel",
      "state": {
       "_dom_classes": [],
       "_model_module": "@jupyter-widgets/controls",
       "_model_module_version": "1.5.0",
       "_model_name": "HBoxModel",
       "_view_count": null,
       "_view_module": "@jupyter-widgets/controls",
       "_view_module_version": "1.5.0",
       "_view_name": "HBoxView",
       "box_style": "",
       "children": [
        "IPY_MODEL_5060c8784afe485e8ae13a0ecee5f661",
        "IPY_MODEL_2b61dcaa2e0443acbea19d0328d46cd5"
       ],
       "layout": "IPY_MODEL_b954f819b6a64f3dafd61cb3bdd0eb4a"
      }
     },
     "a5f1e27123ab49329d16c123f5b9fb1e": {
      "model_module": "@jupyter-widgets/base",
      "model_module_version": "1.2.0",
      "model_name": "LayoutModel",
      "state": {
       "_model_module": "@jupyter-widgets/base",
       "_model_module_version": "1.2.0",
       "_model_name": "LayoutModel",
       "_view_count": null,
       "_view_module": "@jupyter-widgets/base",
       "_view_module_version": "1.2.0",
       "_view_name": "LayoutView",
       "align_content": null,
       "align_items": null,
       "align_self": null,
       "border": null,
       "bottom": null,
       "display": null,
       "flex": null,
       "flex_flow": null,
       "grid_area": null,
       "grid_auto_columns": null,
       "grid_auto_flow": null,
       "grid_auto_rows": null,
       "grid_column": null,
       "grid_gap": null,
       "grid_row": null,
       "grid_template_areas": null,
       "grid_template_columns": null,
       "grid_template_rows": null,
       "height": null,
       "justify_content": null,
       "justify_items": null,
       "left": null,
       "margin": null,
       "max_height": null,
       "max_width": null,
       "min_height": null,
       "min_width": null,
       "object_fit": null,
       "object_position": null,
       "order": null,
       "overflow": null,
       "overflow_x": null,
       "overflow_y": null,
       "padding": null,
       "right": null,
       "top": null,
       "visibility": null,
       "width": null
      }
     },
     "b954f819b6a64f3dafd61cb3bdd0eb4a": {
      "model_module": "@jupyter-widgets/base",
      "model_module_version": "1.2.0",
      "model_name": "LayoutModel",
      "state": {
       "_model_module": "@jupyter-widgets/base",
       "_model_module_version": "1.2.0",
       "_model_name": "LayoutModel",
       "_view_count": null,
       "_view_module": "@jupyter-widgets/base",
       "_view_module_version": "1.2.0",
       "_view_name": "LayoutView",
       "align_content": null,
       "align_items": null,
       "align_self": null,
       "border": null,
       "bottom": null,
       "display": null,
       "flex": null,
       "flex_flow": null,
       "grid_area": null,
       "grid_auto_columns": null,
       "grid_auto_flow": null,
       "grid_auto_rows": null,
       "grid_column": null,
       "grid_gap": null,
       "grid_row": null,
       "grid_template_areas": null,
       "grid_template_columns": null,
       "grid_template_rows": null,
       "height": null,
       "justify_content": null,
       "justify_items": null,
       "left": null,
       "margin": null,
       "max_height": null,
       "max_width": null,
       "min_height": null,
       "min_width": null,
       "object_fit": null,
       "object_position": null,
       "order": null,
       "overflow": null,
       "overflow_x": null,
       "overflow_y": null,
       "padding": null,
       "right": null,
       "top": null,
       "visibility": null,
       "width": null
      }
     },
     "d001b0a4950f4e68b1303780b885dcc5": {
      "model_module": "@jupyter-widgets/controls",
      "model_module_version": "1.5.0",
      "model_name": "ProgressStyleModel",
      "state": {
       "_model_module": "@jupyter-widgets/controls",
       "_model_module_version": "1.5.0",
       "_model_name": "ProgressStyleModel",
       "_view_count": null,
       "_view_module": "@jupyter-widgets/base",
       "_view_module_version": "1.2.0",
       "_view_name": "StyleView",
       "bar_color": null,
       "description_width": "initial"
      }
     }
    },
    "version_major": 2,
    "version_minor": 0
   }
  }
 },
 "nbformat": 4,
 "nbformat_minor": 2
}