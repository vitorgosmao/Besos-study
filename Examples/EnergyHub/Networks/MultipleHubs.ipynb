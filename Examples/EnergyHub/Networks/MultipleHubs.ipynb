{
 "cells": [
  {
   "cell_type": "markdown",
   "metadata": {
    "papermill": {
     "duration": 0.01252,
     "end_time": "2019-10-28T23:04:30.576522",
     "exception": false,
     "start_time": "2019-10-28T23:04:30.564002",
     "status": "completed"
    },
    "tags": []
   },
   "source": [
    "# Multiple Hubs\n",
    "\n",
    "This notebook demonstrates how to connect Energy Hub models together by adding network links.  \n",
    "This allows us to model microgrids, district heating networks and any other type of energy sharing.  \n",
    "One of the benefits of `PyEHub` over other energy hub model implementations is the ease with which we can **nest** hubs.  \n"
   ]
  },
  {
   "cell_type": "code",
   "execution_count": 1,
   "metadata": {
    "papermill": {
     "duration": 0.786815,
     "end_time": "2019-10-28T23:04:31.377352",
     "exception": false,
     "start_time": "2019-10-28T23:04:30.590537",
     "status": "completed"
    },
    "tags": []
   },
   "outputs": [],
   "source": [
    "from pyehub.multiple_hubs import multiple_hubs\n",
    "from pyehub import network_to_request_format\n",
    "from pyehub.energy_hub.input_data import InputData\n",
    "from pprint import pprint as pp"
   ]
  },
  {
   "cell_type": "markdown",
   "metadata": {
    "papermill": {
     "duration": 0.005545,
     "end_time": "2019-10-28T23:04:31.389504",
     "exception": false,
     "start_time": "2019-10-28T23:04:31.383959",
     "status": "completed"
    },
    "tags": []
   },
   "source": [
    "## Example\n",
    "\n",
    "Here we load a case with four hubs and four possible links, shown schematically below.  \n",
    "Links between (2 - 0) and (1 - 3) are in fact shorter than the others.\n",
    "\n",
    "![Hub layout](multiplehubs.jpg)"
   ]
  },
  {
   "cell_type": "markdown",
   "metadata": {
    "papermill": {
     "duration": 0.00497,
     "end_time": "2019-10-28T23:04:31.400139",
     "exception": false,
     "start_time": "2019-10-28T23:04:31.395169",
     "status": "completed"
    },
    "tags": []
   },
   "source": [
    "### Input files\n",
    "We can use a pattern for naming mutiple hub input files, where we pass in the stem (in this case `hub__`) and the number of hubs (here `n=4`).  \n",
    "This means the files to be read are `hub__1.xlsx`, `hub__2.xlsx`, etc.  \n",
    "These use 1 as the  first index."
   ]
  },
  {
   "cell_type": "code",
   "execution_count": 2,
   "metadata": {
    "papermill": {
     "duration": 0.010085,
     "end_time": "2019-10-28T23:04:31.415320",
     "exception": false,
     "start_time": "2019-10-28T23:04:31.405235",
     "status": "completed"
    },
    "tags": []
   },
   "outputs": [],
   "source": [
    "input_file = 'hub__'\n",
    "n = 4"
   ]
  },
  {
   "cell_type": "markdown",
   "metadata": {
    "papermill": {
     "duration": 0.004964,
     "end_time": "2019-10-28T23:04:31.425512",
     "exception": false,
     "start_time": "2019-10-28T23:04:31.420548",
     "status": "completed"
    },
    "tags": []
   },
   "source": [
    "We also need the file `network.xlsx` which defines the links between the different hubs.  \n",
    "The main tab in this file lists the network links, giving:\n",
    "+ Network link ID\n",
    "+ Start node ID\n",
    "+ End node ID\n",
    "+ Type\n",
    "+ Length\n",
    "+ Capacity\n",
    "\n",
    "The start and end node IDs refer to the numbers of the hubs.  \n",
    "Type, length, capacity and various other properties can be used in formulating the network constraints."
   ]
  },
  {
   "cell_type": "code",
   "execution_count": 3,
   "metadata": {
    "papermill": {
     "duration": 0.010143,
     "end_time": "2019-10-28T23:04:31.440805",
     "exception": false,
     "start_time": "2019-10-28T23:04:31.430662",
     "status": "completed"
    },
    "tags": []
   },
   "outputs": [],
   "source": [
    "network = 'network.xlsx'"
   ]
  },
  {
   "cell_type": "markdown",
   "metadata": {
    "papermill": {
     "duration": 0.005114,
     "end_time": "2019-10-28T23:04:31.451242",
     "exception": false,
     "start_time": "2019-10-28T23:04:31.446128",
     "status": "completed"
    },
    "tags": []
   },
   "source": [
    "### Solving the Models\n",
    "\n",
    "Here we run the `multiple_hubs` function, which:\n",
    "+ combines the individual hub models into one big hub\n",
    "+ adds network constraints to allow energy to be exchanged\n",
    "+ solves the resulting hub model  \n",
    "The stdout is very long, so we capture it to a variable `sol_output`."
   ]
  },
  {
   "cell_type": "code",
   "execution_count": 4,
   "metadata": {
    "papermill": {
     "duration": 2.878265,
     "end_time": "2019-10-28T23:04:34.334797",
     "exception": false,
     "start_time": "2019-10-28T23:04:31.456532",
     "status": "completed"
    },
    "tags": []
   },
   "outputs": [],
   "source": [
    "%%capture sol_output\n",
    "sol = multiple_hubs(input_files=input_file, n=n, network_excel=network)"
   ]
  },
  {
   "cell_type": "markdown",
   "metadata": {
    "papermill": {
     "duration": 0.006249,
     "end_time": "2019-10-28T23:04:34.348402",
     "exception": false,
     "start_time": "2019-10-28T23:04:34.342153",
     "status": "completed"
    },
    "tags": []
   },
   "source": [
    "### Results\n",
    "\n",
    "Results are returned for all four hubs, but all the network link capacities are the same by definition, so we can just take the values from the first hub."
   ]
  },
  {
   "cell_type": "code",
   "execution_count": 5,
   "metadata": {
    "papermill": {
     "duration": 0.010968,
     "end_time": "2019-10-28T23:04:34.366464",
     "exception": false,
     "start_time": "2019-10-28T23:04:34.355496",
     "status": "completed"
    },
    "tags": []
   },
   "outputs": [],
   "source": [
    "hub = sol[0]"
   ]
  },
  {
   "cell_type": "markdown",
   "metadata": {
    "papermill": {
     "duration": 0.005335,
     "end_time": "2019-10-28T23:04:34.377764",
     "exception": false,
     "start_time": "2019-10-28T23:04:34.372429",
     "status": "completed"
    },
    "tags": []
   },
   "source": [
    "We can examine the network links that are installed:"
   ]
  },
  {
   "cell_type": "code",
   "execution_count": 6,
   "metadata": {
    "papermill": {
     "duration": 0.014198,
     "end_time": "2019-10-28T23:04:34.397505",
     "exception": false,
     "start_time": "2019-10-28T23:04:34.383307",
     "status": "completed"
    },
    "tags": []
   },
   "outputs": [
    {
     "data": {
      "text/plain": [
       "{0: 1, 1: 1, 2: 0, 3: 1}"
      ]
     },
     "execution_count": 6,
     "metadata": {},
     "output_type": "execute_result"
    }
   ],
   "source": [
    "hub[\"is_link_installed\"]"
   ]
  },
  {
   "cell_type": "markdown",
   "metadata": {
    "papermill": {
     "duration": 0.005785,
     "end_time": "2019-10-28T23:04:34.410670",
     "exception": false,
     "start_time": "2019-10-28T23:04:34.404885",
     "status": "completed"
    },
    "tags": []
   },
   "source": [
    "And the capacity of the links:"
   ]
  },
  {
   "cell_type": "code",
   "execution_count": 7,
   "metadata": {
    "papermill": {
     "duration": 0.0152,
     "end_time": "2019-10-28T23:04:34.431750",
     "exception": false,
     "start_time": "2019-10-28T23:04:34.416550",
     "status": "completed"
    },
    "tags": []
   },
   "outputs": [
    {
     "name": "stdout",
     "output_type": "stream",
     "text": [
      "Link 0 has capacity 11.6479\n",
      "Link 1 has capacity 8.16835\n",
      "Link 2 has capacity 0.0\n",
      "Link 3 has capacity 0.914739\n"
     ]
    }
   ],
   "source": [
    "for i in range(4):\n",
    "    id = 'capacity'+str(i)\n",
    "    print('Link', i, 'has capacity', hub[id])"
   ]
  }
 ],
 "metadata": {
  "kernelspec": {
   "display_name": "Python 3",
   "language": "python",
   "name": "python3"
  },
  "language_info": {
   "codemirror_mode": {
    "name": "ipython",
    "version": 3
   },
   "file_extension": ".py",
   "mimetype": "text/x-python",
   "name": "python",
   "nbconvert_exporter": "python",
   "pygments_lexer": "ipython3",
   "version": "3.6.4"
  },
  "papermill": {
   "duration": 4.874452,
   "end_time": "2019-10-28T23:04:34.848462",
   "environment_variables": {},
   "exception": null,
   "input_path": "./EnergyHub/Networks/MultipleHubs.ipynb",
   "output_path": "./EnergyHub/Networks/MultipleHubs.ipynb",
   "parameters": {},
   "start_time": "2019-10-28T23:04:29.974010",
   "version": "1.2.0"
  }
 },
 "nbformat": 4,
 "nbformat_minor": 2
}