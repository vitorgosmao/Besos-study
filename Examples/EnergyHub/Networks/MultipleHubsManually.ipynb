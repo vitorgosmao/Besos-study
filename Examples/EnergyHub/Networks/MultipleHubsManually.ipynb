{
 "cells": [
  {
   "cell_type": "markdown",
   "metadata": {
    "papermill": {
     "duration": 0.013676,
     "end_time": "2019-10-28T23:04:23.590316",
     "exception": false,
     "start_time": "2019-10-28T23:04:23.576640",
     "status": "completed"
    },
    "tags": []
   },
   "source": [
    "# Multiple Hubs\n",
    "\n",
    "Here we show how to manually combine hub objects so that they are nested in larger hubs.  \n",
    "In the [Multiple Hubs](MultipleHubs.ipynb) notebook this is done for us using the `multiple_hubs` function."
   ]
  },
  {
   "cell_type": "code",
   "execution_count": 1,
   "metadata": {
    "papermill": {
     "duration": 0.811969,
     "end_time": "2019-10-28T23:04:24.414441",
     "exception": false,
     "start_time": "2019-10-28T23:04:23.602472",
     "status": "completed"
    },
    "tags": []
   },
   "outputs": [],
   "source": [
    "from pyehub.energy_hub.ehub_model import EHubModel\n",
    "from pyehub.energy_hub.utils import constraint\n",
    "from pyehub import network_to_request_format\n",
    "from pyehub import multiple_hubs\n",
    "from pyehub.multiple_hubs import multiple_hubs\n",
    "from pyehub.multiple_hubs import NetworkModel\n",
    "from pyehub.energy_hub.input_data import InputData\n",
    "import pylp\n",
    "import numpy as np\n",
    "from pylp import RealVariable\n",
    "from pprint import pprint as pp"
   ]
  },
  {
   "cell_type": "markdown",
   "metadata": {
    "papermill": {
     "duration": 0.011713,
     "end_time": "2019-10-28T23:04:24.437897",
     "exception": false,
     "start_time": "2019-10-28T23:04:24.426184",
     "status": "completed"
    },
    "tags": []
   },
   "source": [
    "### Network Input as Request JSON\n",
    "\n",
    "The data for the links can be supplied to the multiple hubs in either an excel file or in the network request format."
   ]
  },
  {
   "cell_type": "code",
   "execution_count": 2,
   "metadata": {
    "papermill": {
     "duration": 0.031352,
     "end_time": "2019-10-28T23:04:24.480824",
     "exception": false,
     "start_time": "2019-10-28T23:04:24.449472",
     "status": "completed"
    },
    "scrolled": false,
    "tags": []
   },
   "outputs": [
    {
     "name": "stdout",
     "output_type": "stream",
     "text": [
      "{'capacities': [{'bounds': {'lower': 0, 'upper': 9999},\n",
      "                 'name': 'capacity0',\n",
      "                 'type': 'Continuous',\n",
      "                 'units': ''},\n",
      "                {'bounds': {'lower': 0, 'upper': 9999},\n",
      "                 'name': 'capacity1',\n",
      "                 'type': 'Continuous',\n",
      "                 'units': ''},\n",
      "                {'bounds': {'lower': 0, 'upper': 9999},\n",
      "                 'name': 'capacity2',\n",
      "                 'type': 'Continuous',\n",
      "                 'units': ''},\n",
      "                {'bounds': {'lower': 0, 'upper': 9999},\n",
      "                 'name': 'capacity3',\n",
      "                 'type': 'Continuous',\n",
      "                 'units': ''}],\n",
      " 'links': [{'capacity': 'capacity0',\n",
      "            'end_id': 1,\n",
      "            'id': 0,\n",
      "            'length': 0.5,\n",
      "            'operating_temp': '',\n",
      "            'reactance': '',\n",
      "            'resistance': '',\n",
      "            'start_id': 0,\n",
      "            'total_pressure_loss': '',\n",
      "            'total_thermal_loss': 0.99,\n",
      "            'type': '',\n",
      "            'voltage': ''},\n",
      "           {'capacity': 'capacity1',\n",
      "            'end_id': 2,\n",
      "            'id': 1,\n",
      "            'length': 0.7,\n",
      "            'operating_temp': '',\n",
      "            'reactance': '',\n",
      "            'resistance': '',\n",
      "            'start_id': 1,\n",
      "            'total_pressure_loss': '',\n",
      "            'total_thermal_loss': 0.98,\n",
      "            'type': '',\n",
      "            'voltage': ''},\n",
      "           {'capacity': 'capacity2',\n",
      "            'end_id': 0,\n",
      "            'id': 2,\n",
      "            'length': 0.2,\n",
      "            'operating_temp': '',\n",
      "            'reactance': '',\n",
      "            'resistance': '',\n",
      "            'start_id': 2,\n",
      "            'total_pressure_loss': '',\n",
      "            'total_thermal_loss': 0.97,\n",
      "            'type': '',\n",
      "            'voltage': ''},\n",
      "           {'capacity': 'capacity3',\n",
      "            'end_id': 3,\n",
      "            'id': 3,\n",
      "            'length': 0.25,\n",
      "            'operating_temp': '',\n",
      "            'reactance': '',\n",
      "            'resistance': '',\n",
      "            'start_id': 1,\n",
      "            'total_pressure_loss': '',\n",
      "            'total_thermal_loss': 0.98,\n",
      "            'type': '',\n",
      "            'voltage': ''}],\n",
      " 'network': {'fixed_network_investment_cost': 30.0,\n",
      "             'link_proportional_cost': 10.0}}\n"
     ]
    }
   ],
   "source": [
    "network_json = network_to_request_format.convert('network.xlsx')\n",
    "pp(network_json)"
   ]
  },
  {
   "cell_type": "markdown",
   "metadata": {
    "papermill": {
     "duration": 0.015945,
     "end_time": "2019-10-28T23:04:24.508105",
     "exception": false,
     "start_time": "2019-10-28T23:04:24.492160",
     "status": "completed"
    },
    "tags": []
   },
   "source": [
    "### Hub Inputs\n",
    "\n",
    "When running the multiple hubs script the hubs must be in some pattern with incrementing values starting at 1. In this instance of running the code manually the hubs can be listed out one by one with any name. The individual hubs in the network use a custom version of the EHub model that adds links and applies custom constraints. "
   ]
  },
  {
   "cell_type": "code",
   "execution_count": 3,
   "metadata": {
    "papermill": {
     "duration": 0.088207,
     "end_time": "2019-10-28T23:04:24.608285",
     "exception": false,
     "start_time": "2019-10-28T23:04:24.520078",
     "status": "completed"
    },
    "tags": []
   },
   "outputs": [],
   "source": [
    "network = network_json\n",
    "hub1 = NetworkModel(excel='hub__1.xlsx', network_request=network, hub_id=0)\n",
    "hub2 = NetworkModel(excel='hub__2.xlsx', network_request=network, hub_id=1)\n",
    "hub3 = NetworkModel(excel='hub__3.xlsx', network_request=network, hub_id=2)\n",
    "hub4 = NetworkModel(excel='hub__4.xlsx', network_request=network, hub_id=3)"
   ]
  },
  {
   "cell_type": "markdown",
   "metadata": {
    "papermill": {
     "duration": 0.012527,
     "end_time": "2019-10-28T23:04:24.633303",
     "exception": false,
     "start_time": "2019-10-28T23:04:24.620776",
     "status": "completed"
    },
    "tags": []
   },
   "source": [
    "### Tying the hub ids to their links in the network data\n",
    "The link information is stored in a seperate network excel or network request file. Each link has a starting and ending point id which connects to the assosciated hub in the list id."
   ]
  },
  {
   "cell_type": "code",
   "execution_count": 4,
   "metadata": {
    "papermill": {
     "duration": 0.02142,
     "end_time": "2019-10-28T23:04:24.667587",
     "exception": false,
     "start_time": "2019-10-28T23:04:24.646167",
     "status": "completed"
    },
    "tags": []
   },
   "outputs": [
    {
     "name": "stdout",
     "output_type": "stream",
     "text": [
      "[(0, 1), (1, 2), (2, 0), (1, 3)]\n"
     ]
    }
   ],
   "source": [
    "_net_data = InputData(network)\n",
    "LINK_THERMAL_LOSS = _net_data.link_thermal_loss\n",
    "connections = []\n",
    "for i in _net_data.links_ids:\n",
    "    start = _net_data.link_start[i]\n",
    "    end = _net_data.link_end[i]\n",
    "\n",
    "    connections.insert(i, (start, end))\n",
    "print(connections)"
   ]
  },
  {
   "cell_type": "markdown",
   "metadata": {
    "papermill": {
     "duration": 0.012176,
     "end_time": "2019-10-28T23:04:24.692150",
     "exception": false,
     "start_time": "2019-10-28T23:04:24.679974",
     "status": "completed"
    },
    "tags": []
   },
   "source": [
    "### Creating a list of all the constraints from all the hubs\n",
    "For creating the larger problem to be solved with the model all the individual constraints for each Hub are all appended to one list."
   ]
  },
  {
   "cell_type": "code",
   "execution_count": 5,
   "metadata": {
    "papermill": {
     "duration": 0.101816,
     "end_time": "2019-10-28T23:04:24.806412",
     "exception": false,
     "start_time": "2019-10-28T23:04:24.704596",
     "status": "completed"
    },
    "tags": []
   },
   "outputs": [],
   "source": [
    "hubs = [hub1, hub2, hub3, hub4]\n",
    "constraints = []\n",
    "for hub in hubs:\n",
    "    hub.recompile()\n",
    "    for constr in hub.constraints:\n",
    "        constraints.append(constr)"
   ]
  },
  {
   "cell_type": "markdown",
   "metadata": {
    "papermill": {
     "duration": 0.012202,
     "end_time": "2019-10-28T23:04:24.831066",
     "exception": false,
     "start_time": "2019-10-28T23:04:24.818864",
     "status": "completed"
    },
    "tags": []
   },
   "source": [
    "### Network specific constraints\n",
    "On top of the specific Hub constraints there is also a link capacity and energy balancing network constraint that is applied once for the entire network."
   ]
  },
  {
   "cell_type": "code",
   "execution_count": 6,
   "metadata": {
    "papermill": {
     "duration": 0.020506,
     "end_time": "2019-10-28T23:04:24.864143",
     "exception": false,
     "start_time": "2019-10-28T23:04:24.843637",
     "status": "completed"
    },
    "tags": []
   },
   "outputs": [],
   "source": [
    "@constraint()\n",
    "def link_capacity_constraint(link, hub, i):\n",
    "    \"\"\"\n",
    "    Constraint for the flow in the links.\n",
    "    \"\"\"\n",
    "    for flow in link:\n",
    "        yield flow >= 0\n",
    "        yield flow <= hub.link_capacities[i]\n",
    "        \n",
    "@constraint()\n",
    "def network_constraint(hub, link_end, link_start):\n",
    "    \"\"\"\n",
    "    Yields the constraints that allow a network connection between two hubs.\n",
    "\n",
    "    Args:\n",
    "        hub: The hub\n",
    "        link_end: all the links that the hub ends at\n",
    "        link_start: all the links that the hub start at\n",
    "    Yields:\n",
    "       A network energy balanced constraints for each hub\n",
    "    \"\"\"\n",
    "\n",
    "    for t in hub.time:\n",
    "        link_starting = []\n",
    "        link_ending = []\n",
    "\n",
    "        for i in range(len(link_start)):\n",
    "            link_starting.append(link_start[i][t])\n",
    "\n",
    "        for i in range(len(link_end)):\n",
    "            link_ending.append(link_end[i][t])\n",
    "\n",
    "        yield ((hub.energy_exported[t]['Net_export'] - hub.energy_imported[t]['Net_import'] + sum(link_ending)\n",
    "                - sum(link_starting)) == 0)\n"
   ]
  },
  {
   "cell_type": "markdown",
   "metadata": {
    "papermill": {
     "duration": 0.012227,
     "end_time": "2019-10-28T23:04:24.887960",
     "exception": false,
     "start_time": "2019-10-28T23:04:24.875733",
     "status": "completed"
    },
    "tags": []
   },
   "source": [
    "### Energy flow Variables created for each connection\n",
    "Each link has an energy_flow variable that is part of the model's solution."
   ]
  },
  {
   "cell_type": "code",
   "execution_count": 7,
   "metadata": {
    "papermill": {
     "duration": 0.024104,
     "end_time": "2019-10-28T23:04:24.924716",
     "exception": false,
     "start_time": "2019-10-28T23:04:24.900612",
     "status": "completed"
    },
    "scrolled": true,
    "tags": []
   },
   "outputs": [
    {
     "data": {
      "text/plain": [
       "[[<pylp.variable.RealVariable at 0x7f48854a14a8>,\n",
       "  <pylp.variable.RealVariable at 0x7f48854a1c50>,\n",
       "  <pylp.variable.RealVariable at 0x7f48854a1978>,\n",
       "  <pylp.variable.RealVariable at 0x7f48854a1fd0>,\n",
       "  <pylp.variable.RealVariable at 0x7f48854a5390>,\n",
       "  <pylp.variable.RealVariable at 0x7f48854a5710>,\n",
       "  <pylp.variable.RealVariable at 0x7f48854a5a90>,\n",
       "  <pylp.variable.RealVariable at 0x7f48854a5e10>,\n",
       "  <pylp.variable.RealVariable at 0x7f488549a1d0>,\n",
       "  <pylp.variable.RealVariable at 0x7f488549a550>,\n",
       "  <pylp.variable.RealVariable at 0x7f488549a8d0>,\n",
       "  <pylp.variable.RealVariable at 0x7f488549ac50>,\n",
       "  <pylp.variable.RealVariable at 0x7f488549afd0>,\n",
       "  <pylp.variable.RealVariable at 0x7f4885498390>,\n",
       "  <pylp.variable.RealVariable at 0x7f4885498710>,\n",
       "  <pylp.variable.RealVariable at 0x7f4885498a90>,\n",
       "  <pylp.variable.RealVariable at 0x7f4885498e10>,\n",
       "  <pylp.variable.RealVariable at 0x7f48854a71d0>],\n",
       " [<pylp.variable.RealVariable at 0x7f48854a1390>,\n",
       "  <pylp.variable.RealVariable at 0x7f48854a1ba8>,\n",
       "  <pylp.variable.RealVariable at 0x7f48854a1860>,\n",
       "  <pylp.variable.RealVariable at 0x7f48854a50f0>,\n",
       "  <pylp.variable.RealVariable at 0x7f48854a5470>,\n",
       "  <pylp.variable.RealVariable at 0x7f48854a57f0>,\n",
       "  <pylp.variable.RealVariable at 0x7f48854a5b70>,\n",
       "  <pylp.variable.RealVariable at 0x7f48854a5ef0>,\n",
       "  <pylp.variable.RealVariable at 0x7f488549a2b0>,\n",
       "  <pylp.variable.RealVariable at 0x7f488549a630>,\n",
       "  <pylp.variable.RealVariable at 0x7f488549a9b0>,\n",
       "  <pylp.variable.RealVariable at 0x7f488549ad30>,\n",
       "  <pylp.variable.RealVariable at 0x7f48854980f0>,\n",
       "  <pylp.variable.RealVariable at 0x7f4885498470>,\n",
       "  <pylp.variable.RealVariable at 0x7f48854987f0>,\n",
       "  <pylp.variable.RealVariable at 0x7f4885498b70>,\n",
       "  <pylp.variable.RealVariable at 0x7f4885498ef0>,\n",
       "  <pylp.variable.RealVariable at 0x7f48854a72b0>],\n",
       " [<pylp.variable.RealVariable at 0x7f48854a12e8>,\n",
       "  <pylp.variable.RealVariable at 0x7f48854a1b38>,\n",
       "  <pylp.variable.RealVariable at 0x7f48854a1d68>,\n",
       "  <pylp.variable.RealVariable at 0x7f48854a51d0>,\n",
       "  <pylp.variable.RealVariable at 0x7f48854a5550>,\n",
       "  <pylp.variable.RealVariable at 0x7f48854a58d0>,\n",
       "  <pylp.variable.RealVariable at 0x7f48854a5c50>,\n",
       "  <pylp.variable.RealVariable at 0x7f48854a5fd0>,\n",
       "  <pylp.variable.RealVariable at 0x7f488549a390>,\n",
       "  <pylp.variable.RealVariable at 0x7f488549a710>,\n",
       "  <pylp.variable.RealVariable at 0x7f488549aa90>,\n",
       "  <pylp.variable.RealVariable at 0x7f488549ae10>,\n",
       "  <pylp.variable.RealVariable at 0x7f48854981d0>,\n",
       "  <pylp.variable.RealVariable at 0x7f4885498550>,\n",
       "  <pylp.variable.RealVariable at 0x7f48854988d0>,\n",
       "  <pylp.variable.RealVariable at 0x7f4885498c50>,\n",
       "  <pylp.variable.RealVariable at 0x7f4885498fd0>,\n",
       "  <pylp.variable.RealVariable at 0x7f48854a7390>],\n",
       " [<pylp.variable.RealVariable at 0x7f48854a1cc0>,\n",
       "  <pylp.variable.RealVariable at 0x7f48854a1a20>,\n",
       "  <pylp.variable.RealVariable at 0x7f48854a1ef0>,\n",
       "  <pylp.variable.RealVariable at 0x7f48854a52b0>,\n",
       "  <pylp.variable.RealVariable at 0x7f48854a5630>,\n",
       "  <pylp.variable.RealVariable at 0x7f48854a59b0>,\n",
       "  <pylp.variable.RealVariable at 0x7f48854a5d30>,\n",
       "  <pylp.variable.RealVariable at 0x7f488549a0f0>,\n",
       "  <pylp.variable.RealVariable at 0x7f488549a470>,\n",
       "  <pylp.variable.RealVariable at 0x7f488549a7f0>,\n",
       "  <pylp.variable.RealVariable at 0x7f488549ab70>,\n",
       "  <pylp.variable.RealVariable at 0x7f488549aef0>,\n",
       "  <pylp.variable.RealVariable at 0x7f48854982b0>,\n",
       "  <pylp.variable.RealVariable at 0x7f4885498630>,\n",
       "  <pylp.variable.RealVariable at 0x7f48854989b0>,\n",
       "  <pylp.variable.RealVariable at 0x7f4885498d30>,\n",
       "  <pylp.variable.RealVariable at 0x7f48854a70f0>,\n",
       "  <pylp.variable.RealVariable at 0x7f48854a7470>]]"
      ]
     },
     "execution_count": 7,
     "metadata": {},
     "output_type": "execute_result"
    }
   ],
   "source": [
    "energy_flow = {\n",
    "    t: {con: RealVariable() for con in range(len(connections))}\n",
    "    for t in hubs[0].time\n",
    "}\n",
    "links = []\n",
    "for i in range(len(connections)):\n",
    "    hub = hubs[0]\n",
    "    flow = []\n",
    "    for t in hub.time:\n",
    "        flow.append(energy_flow[t][i])\n",
    "    links.insert(i, flow)\n",
    "links"
   ]
  },
  {
   "cell_type": "markdown",
   "metadata": {
    "papermill": {
     "duration": 0.013238,
     "end_time": "2019-10-28T23:04:24.951560",
     "exception": false,
     "start_time": "2019-10-28T23:04:24.938322",
     "status": "completed"
    },
    "tags": []
   },
   "source": [
    "### Applying link capacity constraint to each link"
   ]
  },
  {
   "cell_type": "code",
   "execution_count": 8,
   "metadata": {
    "papermill": {
     "duration": 0.053274,
     "end_time": "2019-10-28T23:04:25.018651",
     "exception": false,
     "start_time": "2019-10-28T23:04:24.965377",
     "status": "completed"
    },
    "tags": []
   },
   "outputs": [],
   "source": [
    "for hub in hubs:\n",
    "    for i, link in enumerate(links):\n",
    "        for c in link_capacity_constraint(link, hub, i):\n",
    "            constraints.append(c)"
   ]
  },
  {
   "cell_type": "markdown",
   "metadata": {
    "papermill": {
     "duration": 0.01182,
     "end_time": "2019-10-28T23:04:25.042040",
     "exception": false,
     "start_time": "2019-10-28T23:04:25.030220",
     "status": "completed"
    },
    "tags": []
   },
   "source": [
    "### Applying energy balance constraint to each link"
   ]
  },
  {
   "cell_type": "code",
   "execution_count": 9,
   "metadata": {
    "papermill": {
     "duration": 0.021329,
     "end_time": "2019-10-28T23:04:25.076896",
     "exception": false,
     "start_time": "2019-10-28T23:04:25.055567",
     "status": "completed"
    },
    "tags": []
   },
   "outputs": [],
   "source": [
    "for k, hub in enumerate(hubs):\n",
    "        # New list for all the links that the hub starts at\n",
    "        link_start = []\n",
    "        # New list for all the links that the hub ends at\n",
    "        link_end = []\n",
    "\n",
    "        for i in range(len(connections)):\n",
    "            if connections[i][0] == k:\n",
    "                link_start.append(links[i])\n",
    "            # Searching for the links that the hubs ends at but are not power flow\n",
    "            if connections[i][1] == k:\n",
    "                # Multiplying by thermal loss to account for the thermal loss in the link\n",
    "                links[i] = np.array(links[i])\n",
    "                links[i] = links[i] * LINK_THERMAL_LOSS[i]\n",
    "                link_end.append(links[i])\n",
    "                \n",
    "        # Creating the network constraints for the hubs:\n",
    "        # Energy balancing for none powerflow links\n",
    "        for c in network_constraint(hub, link_end, link_start):\n",
    "            constraints.append(c)"
   ]
  },
  {
   "cell_type": "markdown",
   "metadata": {
    "papermill": {
     "duration": 0.012105,
     "end_time": "2019-10-28T23:04:25.100959",
     "exception": false,
     "start_time": "2019-10-28T23:04:25.088854",
     "status": "completed"
    },
    "tags": []
   },
   "source": [
    "### Combining the objectives of all the hubs and Solving\n",
    "All the objectives and constraints are sent to pylp to form the MILP problem to be solved by the solver. The solution is then found dispersed in the solution dictionaries of the hubs."
   ]
  },
  {
   "cell_type": "code",
   "execution_count": 10,
   "metadata": {
    "jupyter": {
     "outputs_hidden": true
    },
    "papermill": {
     "duration": 1.330967,
     "end_time": "2019-10-28T23:04:26.444612",
     "exception": false,
     "start_time": "2019-10-28T23:04:25.113645",
     "status": "completed"
    },
    "tags": []
   },
   "outputs": [
    {
     "data": {
      "text/plain": [
       "{'BIG_M': 99999,\n",
       " 'MAX_CARBON': None,\n",
       " 'time': [0, 1, 2, 3, 4, 5, 6, 7, 8, 9, 10, 11, 12, 13, 14, 15, 16, 17],\n",
       " 'technologies': ['Grid',\n",
       "  'HP',\n",
       "  'Boiler',\n",
       "  'MicroCHP',\n",
       "  'PV',\n",
       "  'ST',\n",
       "  'CHP',\n",
       "  'GSHP',\n",
       "  'Net_import',\n",
       "  'Net_export'],\n",
       " 'storages': ['Battery', 'Hot Water Tank'],\n",
       " 'streams': ['Elec',\n",
       "  'Heat',\n",
       "  'Irradiation',\n",
       "  'Grid',\n",
       "  'Gas',\n",
       "  'Net_import',\n",
       "  'Net_export'],\n",
       " 'output_streams': ['Elec', 'Heat', 'Net_export'],\n",
       " 'demands': ['Elec', 'Heat'],\n",
       " 'export_streams': ['Elec', 'Net_export'],\n",
       " 'import_streams': ['Grid', 'Gas', 'Net_import'],\n",
       " 'stream_timeseries': {'Irradiation': 'Irradiation'},\n",
       " 'part_load': ['MicroCHP', 'CHP'],\n",
       " 'sources': ['Irradiation'],\n",
       " 'CONVERSION_EFFICIENCY': {'Grid': {'Elec': 1.0,\n",
       "   'Heat': 0.0,\n",
       "   'Irradiation': 0.0,\n",
       "   'Grid': -1.0,\n",
       "   'Gas': 0.0,\n",
       "   'Net_import': 0.0,\n",
       "   'Net_export': 0.0},\n",
       "  'HP': {'Elec': -1.0,\n",
       "   'Heat': 3.2,\n",
       "   'Irradiation': 0.0,\n",
       "   'Grid': 0.0,\n",
       "   'Gas': 0.0,\n",
       "   'Net_import': 0.0,\n",
       "   'Net_export': 0.0},\n",
       "  'Boiler': {'Elec': 0.0,\n",
       "   'Heat': 0.94,\n",
       "   'Irradiation': 0.0,\n",
       "   'Grid': 0.0,\n",
       "   'Gas': -1.0,\n",
       "   'Net_import': 0.0,\n",
       "   'Net_export': 0.0},\n",
       "  'MicroCHP': {'Elec': 0.9,\n",
       "   'Heat': 5.4,\n",
       "   'Irradiation': 0.0,\n",
       "   'Grid': 0.0,\n",
       "   'Gas': -1.0,\n",
       "   'Net_import': 0.0,\n",
       "   'Net_export': 0.0},\n",
       "  'PV': {'Elec': 0.165,\n",
       "   'Heat': 0.0,\n",
       "   'Irradiation': 0.0,\n",
       "   'Grid': 0.0,\n",
       "   'Gas': 0.0,\n",
       "   'Net_import': 0.0,\n",
       "   'Net_export': 0.0},\n",
       "  'ST': {'Elec': 0.0,\n",
       "   'Heat': 0.46,\n",
       "   'Irradiation': 0.0,\n",
       "   'Grid': 0.0,\n",
       "   'Gas': 0.0,\n",
       "   'Net_import': 0.0,\n",
       "   'Net_export': 0.0},\n",
       "  'CHP': {'Elec': 0.3,\n",
       "   'Heat': 0.0,\n",
       "   'Irradiation': 0.0,\n",
       "   'Grid': 0.0,\n",
       "   'Gas': -1.0,\n",
       "   'Net_import': 0.0,\n",
       "   'Net_export': 0.0},\n",
       "  'GSHP': {'Elec': -1.0,\n",
       "   'Heat': 6.0,\n",
       "   'Irradiation': 0.0,\n",
       "   'Grid': 0.0,\n",
       "   'Gas': 0.0,\n",
       "   'Net_import': 0.0,\n",
       "   'Net_export': 0.0},\n",
       "  'Net_import': {'Elec': 1.0,\n",
       "   'Heat': 0.0,\n",
       "   'Irradiation': 0.0,\n",
       "   'Grid': 0.0,\n",
       "   'Gas': 0.0,\n",
       "   'Net_import': -1.0,\n",
       "   'Net_export': 0.0},\n",
       "  'Net_export': {'Elec': -1.0,\n",
       "   'Heat': 0.0,\n",
       "   'Irradiation': 0.0,\n",
       "   'Grid': 0.0,\n",
       "   'Gas': 0.0,\n",
       "   'Net_import': 0.0,\n",
       "   'Net_export': 1.0}},\n",
       " 'MAX_CHARGE_RATE': {'Battery': 0.3, 'Hot Water Tank': 0.3},\n",
       " 'MAX_DISCHARGE_RATE': {'Battery': 0.3, 'Hot Water Tank': 0.3},\n",
       " 'STORAGE_STANDING_LOSSES': {'Battery': 0.001, 'Hot Water Tank': 0.001},\n",
       " 'CHARGING_EFFICIENCY': {'Battery': 0.99, 'Hot Water Tank': 0.99},\n",
       " 'DISCHARGING_EFFICIENCY': {'Battery': 0.99, 'Hot Water Tank': 0.99},\n",
       " 'MIN_STATE_OF_CHARGE': {'Battery': 0.0, 'Hot Water Tank': 0.0},\n",
       " 'PART_LOAD': {'MicroCHP': {'Elec': 0.5, 'Heat': 0.5}, 'CHP': {'Elec': 0.5}},\n",
       " 'CARBON_FACTORS': {'Elec': 0.0,\n",
       "  'Heat': 0.0,\n",
       "  'Irradiation': 0.0,\n",
       "  'Grid': 0.35,\n",
       "  'Gas': 0.194,\n",
       "  'Net_import': 0.0,\n",
       "  'Net_export': 0.0},\n",
       " 'CARBON_CREDITS': {'Elec': 0.0,\n",
       "  'Heat': 0.0,\n",
       "  'Irradiation': 0.0,\n",
       "  'Grid': 0.0,\n",
       "  'Gas': 0.0,\n",
       "  'Net_import': 0.0,\n",
       "  'Net_export': 0.0},\n",
       " 'LINEAR_CAPITAL_COSTS': {'Grid': 0.0,\n",
       "  'HP': 15000.0,\n",
       "  'Boiler': 300.0,\n",
       "  'MicroCHP': 2000.0,\n",
       "  'PV': 6000.0,\n",
       "  'ST': 4500.0,\n",
       "  'CHP': 1000.0,\n",
       "  'GSHP': 15000.0,\n",
       "  'Net_import': 0.0,\n",
       "  'Net_export': 0.0},\n",
       " 'FIXED_CAPITAL_COSTS': {'Grid': 0,\n",
       "  'HP': 0,\n",
       "  'Boiler': 0,\n",
       "  'MicroCHP': 0,\n",
       "  'PV': 0,\n",
       "  'ST': 0,\n",
       "  'CHP': 0,\n",
       "  'GSHP': 0,\n",
       "  'Net_import': 0,\n",
       "  'Net_export': 0},\n",
       " 'LINEAR_STORAGE_COSTS': {'Battery': 800.0, 'Hot Water Tank': 1000.0},\n",
       " 'ANNUAL_MAINTENANCE_STORAGE_COSTS': {'Battery': 0.0, 'Hot Water Tank': 0.0},\n",
       " 'FIXED_CAPITAL_COSTS_STORAGE': {'Battery': 0, 'Hot Water Tank': 0},\n",
       " 'FUEL_PRICES': {'Elec': 0.0,\n",
       "  'Heat': 0.0,\n",
       "  'Irradiation': 0.0,\n",
       "  'Grid': 0.3,\n",
       "  'Gas': 0.028,\n",
       "  'Net_import': 0.0,\n",
       "  'Net_export': 0.0},\n",
       " 'FEED_IN_TARIFFS': {'Elec': 0.01, 'Net_export': 0.0},\n",
       " 'OMV_COSTS': {'Grid': 0.0,\n",
       "  'HP': 0.1,\n",
       "  'Boiler': 0.01,\n",
       "  'MicroCHP': 0.02,\n",
       "  'PV': 0.01,\n",
       "  'ST': 0.01,\n",
       "  'CHP': 0.03,\n",
       "  'GSHP': 0.1,\n",
       "  'Net_import': 0.0,\n",
       "  'Net_export': 0.0},\n",
       " 'LOADS': {'Elec': {0: 0.4273,\n",
       "   1: 0.5865,\n",
       "   2: 0.7258,\n",
       "   3: 1.6266,\n",
       "   4: 0.7258,\n",
       "   5: 0.288,\n",
       "   6: 1.5942,\n",
       "   7: 3.931,\n",
       "   8: 3.27752517062088,\n",
       "   9: 1.76775422956742,\n",
       "   10: 2.86565997935903,\n",
       "   11: 4.52104030240906,\n",
       "   12: 0.927046806338974,\n",
       "   13: 1.67939552345949,\n",
       "   14: 2.59497432823832,\n",
       "   15: 3.61761257733093,\n",
       "   16: 3.2272,\n",
       "   17: 3.0318},\n",
       "  'Heat': {0: 7.28314055683885,\n",
       "   1: 12.4017015213083,\n",
       "   2: 14.5112352373657,\n",
       "   3: 32.1963296341707,\n",
       "   4: 13.6767177458842,\n",
       "   5: 17.7070546052741,\n",
       "   6: 23.2487459878409,\n",
       "   7: 28.7225659025583,\n",
       "   8: 27.8787372387332,\n",
       "   9: 26.3419996904416,\n",
       "   10: 22.0359430088615,\n",
       "   11: 16.8924137972742,\n",
       "   12: 15.8915527884534,\n",
       "   13: 15.0215544802364,\n",
       "   14: 14.3376920215558,\n",
       "   15: 14.0395715552777,\n",
       "   16: 14.7842803264432,\n",
       "   17: 15.594015119656}},\n",
       " 'TIME_SERIES': {'Elec': {0: 0.4273,\n",
       "   1: 0.5865,\n",
       "   2: 0.7258,\n",
       "   3: 1.6266,\n",
       "   4: 0.7258,\n",
       "   5: 0.288,\n",
       "   6: 1.5942,\n",
       "   7: 3.931,\n",
       "   8: 3.27752517062088,\n",
       "   9: 1.76775422956742,\n",
       "   10: 2.86565997935903,\n",
       "   11: 4.52104030240906,\n",
       "   12: 0.927046806338974,\n",
       "   13: 1.67939552345949,\n",
       "   14: 2.59497432823832,\n",
       "   15: 3.61761257733093,\n",
       "   16: 3.2272,\n",
       "   17: 3.0318},\n",
       "  'Heat': {0: 7.28314055683885,\n",
       "   1: 12.4017015213083,\n",
       "   2: 14.5112352373657,\n",
       "   3: 32.1963296341707,\n",
       "   4: 13.6767177458842,\n",
       "   5: 17.7070546052741,\n",
       "   6: 23.2487459878409,\n",
       "   7: 28.7225659025583,\n",
       "   8: 27.8787372387332,\n",
       "   9: 26.3419996904416,\n",
       "   10: 22.0359430088615,\n",
       "   11: 16.8924137972742,\n",
       "   12: 15.8915527884534,\n",
       "   13: 15.0215544802364,\n",
       "   14: 14.3376920215558,\n",
       "   15: 14.0395715552777,\n",
       "   16: 14.7842803264432,\n",
       "   17: 15.594015119656},\n",
       "  'Irradiation': {0: 0.0,\n",
       "   1: 0.0,\n",
       "   2: 0.0,\n",
       "   3: 0.0,\n",
       "   4: 0.0,\n",
       "   5: 0.0,\n",
       "   6: 0.0,\n",
       "   7: 0.0,\n",
       "   8: 0.019,\n",
       "   9: 0.052,\n",
       "   10: 0.092,\n",
       "   11: 0.115,\n",
       "   12: 0.116,\n",
       "   13: 0.095,\n",
       "   14: 0.057,\n",
       "   15: 0.006,\n",
       "   16: 0.0,\n",
       "   17: 0.0}},\n",
       " 'NET_PRESENT_VALUE_TECH': {'Grid': 0.08,\n",
       "  'HP': 0.1019,\n",
       "  'Boiler': 0.0888,\n",
       "  'MicroCHP': 0.1019,\n",
       "  'PV': 0.1019,\n",
       "  'ST': 0.0858,\n",
       "  'CHP': 0.1019,\n",
       "  'GSHP': 0.0817,\n",
       "  'Net_import': 0.08,\n",
       "  'Net_export': 0.08},\n",
       " 'NET_PRESENT_VALUE_STORAGE': {'Battery': 0.10185220882315059,\n",
       "  'Hot Water Tank': 0.10185220882315059},\n",
       " 'name': None,\n",
       " 'hub_id': 0,\n",
       " 'links': [0, 1, 2, 3],\n",
       " 'link_capacities': {0: 'capacity0',\n",
       "  1: 'capacity1',\n",
       "  2: 'capacity2',\n",
       "  3: 'capacity3'},\n",
       " 'network_cost': 36.6198,\n",
       " 'is_link_installed': {0: 1, 1: 1, 2: 0, 3: 1},\n",
       " 'LINK_LENGTH': {0: 0.5, 1: 0.7, 2: 0.2, 3: 0.25},\n",
       " 'FIXED_NETWORK_INVESTMENT_COST': 30.0,\n",
       " 'LINK_PROPORTIONAL_COST': 10.0,\n",
       " 'TankSize': 0.0,\n",
       " 'BatSize': 0.0,\n",
       " 'HP': 0.0,\n",
       " 'Boiler': 34.2514,\n",
       " 'MicroCHP': 0.0,\n",
       " 'PV': 0.0,\n",
       " 'ST': 0.0,\n",
       " 'CHP': 0.0,\n",
       " 'GSHP': 0.0,\n",
       " 'Grid': 15.2655,\n",
       " 'Net_import': 0.0,\n",
       " 'Net_export': 11.6479,\n",
       " 'energy_input': {0: {'Grid': 4.03349,\n",
       "   'HP': 0.0,\n",
       "   'Boiler': 7.74802,\n",
       "   'MicroCHP': 0.0,\n",
       "   'PV': 0.0,\n",
       "   'ST': 0.0,\n",
       "   'CHP': 0.0,\n",
       "   'GSHP': 0.0,\n",
       "   'Net_import': 0.0,\n",
       "   'Net_export': 3.60619},\n",
       "  1: {'Grid': 5.58891,\n",
       "   'HP': 0.0,\n",
       "   'Boiler': 13.1933,\n",
       "   'MicroCHP': 0.0,\n",
       "   'PV': 0.0,\n",
       "   'ST': 0.0,\n",
       "   'CHP': 0.0,\n",
       "   'GSHP': 0.0,\n",
       "   'Net_import': 0.0,\n",
       "   'Net_export': 5.00241},\n",
       "  2: {'Grid': 6.84232,\n",
       "   'HP': 0.0,\n",
       "   'Boiler': 15.4375,\n",
       "   'MicroCHP': 0.0,\n",
       "   'PV': 0.0,\n",
       "   'ST': 0.0,\n",
       "   'CHP': 0.0,\n",
       "   'GSHP': 0.0,\n",
       "   'Net_import': 0.0,\n",
       "   'Net_export': 6.11652},\n",
       "  3: {'Grid': 6.47319,\n",
       "   'HP': 0.0,\n",
       "   'Boiler': 34.2514,\n",
       "   'MicroCHP': 0.0,\n",
       "   'PV': 0.0,\n",
       "   'ST': 0.0,\n",
       "   'CHP': 0.0,\n",
       "   'GSHP': 0.0,\n",
       "   'Net_import': 0.0,\n",
       "   'Net_export': 4.84659},\n",
       "  4: {'Grid': 5.86715,\n",
       "   'HP': 0.0,\n",
       "   'Boiler': 14.5497,\n",
       "   'MicroCHP': 0.0,\n",
       "   'PV': 0.0,\n",
       "   'ST': 0.0,\n",
       "   'CHP': 0.0,\n",
       "   'GSHP': 0.0,\n",
       "   'Net_import': 0.0,\n",
       "   'Net_export': 5.14135},\n",
       "  5: {'Grid': 5.6974,\n",
       "   'HP': 0.0,\n",
       "   'Boiler': 18.8373,\n",
       "   'MicroCHP': 0.0,\n",
       "   'PV': 0.0,\n",
       "   'ST': 0.0,\n",
       "   'CHP': 0.0,\n",
       "   'GSHP': 0.0,\n",
       "   'Net_import': 0.0,\n",
       "   'Net_export': 5.4094},\n",
       "  6: {'Grid': 11.3444,\n",
       "   'HP': 0.0,\n",
       "   'Boiler': 24.7327,\n",
       "   'MicroCHP': 0.0,\n",
       "   'PV': 0.0,\n",
       "   'ST': 0.0,\n",
       "   'CHP': 0.0,\n",
       "   'GSHP': 0.0,\n",
       "   'Net_import': 0.0,\n",
       "   'Net_export': 9.75019},\n",
       "  7: {'Grid': 14.7115,\n",
       "   'HP': 0.0,\n",
       "   'Boiler': 30.5559,\n",
       "   'MicroCHP': 0.0,\n",
       "   'PV': 0.0,\n",
       "   'ST': 0.0,\n",
       "   'CHP': 0.0,\n",
       "   'GSHP': 0.0,\n",
       "   'Net_import': 0.0,\n",
       "   'Net_export': 10.7805},\n",
       "  8: {'Grid': 12.8106,\n",
       "   'HP': 0.0,\n",
       "   'Boiler': 29.6582,\n",
       "   'MicroCHP': 0.0,\n",
       "   'PV': 0.0,\n",
       "   'ST': 0.0,\n",
       "   'CHP': 0.0,\n",
       "   'GSHP': 0.0,\n",
       "   'Net_import': 0.0,\n",
       "   'Net_export': 9.53311},\n",
       "  9: {'Grid': 7.10245,\n",
       "   'HP': 0.0,\n",
       "   'Boiler': 28.0234,\n",
       "   'MicroCHP': 0.0,\n",
       "   'PV': 0.0,\n",
       "   'ST': 0.0,\n",
       "   'CHP': 0.0,\n",
       "   'GSHP': 0.0,\n",
       "   'Net_import': 0.0,\n",
       "   'Net_export': 5.3347},\n",
       "  10: {'Grid': 10.0115,\n",
       "   'HP': 0.0,\n",
       "   'Boiler': 23.4425,\n",
       "   'MicroCHP': 0.0,\n",
       "   'PV': 0.0,\n",
       "   'ST': 0.0,\n",
       "   'CHP': 0.0,\n",
       "   'GSHP': 0.0,\n",
       "   'Net_import': 0.0,\n",
       "   'Net_export': 7.14585},\n",
       "  11: {'Grid': 13.3287,\n",
       "   'HP': 0.0,\n",
       "   'Boiler': 17.9707,\n",
       "   'MicroCHP': 0.0,\n",
       "   'PV': 0.0,\n",
       "   'ST': 0.0,\n",
       "   'CHP': 0.0,\n",
       "   'GSHP': 0.0,\n",
       "   'Net_import': 0.0,\n",
       "   'Net_export': 8.80762},\n",
       "  12: {'Grid': 6.47103,\n",
       "   'HP': 0.0,\n",
       "   'Boiler': 16.9059,\n",
       "   'MicroCHP': 0.0,\n",
       "   'PV': 0.0,\n",
       "   'ST': 0.0,\n",
       "   'CHP': 0.0,\n",
       "   'GSHP': 0.0,\n",
       "   'Net_import': 0.0,\n",
       "   'Net_export': 5.54398},\n",
       "  13: {'Grid': 10.2482,\n",
       "   'HP': 0.0,\n",
       "   'Boiler': 15.9804,\n",
       "   'MicroCHP': 0.0,\n",
       "   'PV': 0.0,\n",
       "   'ST': 0.0,\n",
       "   'CHP': 0.0,\n",
       "   'GSHP': 0.0,\n",
       "   'Net_import': 0.0,\n",
       "   'Net_export': 8.56877},\n",
       "  14: {'Grid': 14.2429,\n",
       "   'HP': 0.0,\n",
       "   'Boiler': 15.2529,\n",
       "   'MicroCHP': 0.0,\n",
       "   'PV': 0.0,\n",
       "   'ST': 0.0,\n",
       "   'CHP': 0.0,\n",
       "   'GSHP': 0.0,\n",
       "   'Net_import': 0.0,\n",
       "   'Net_export': 11.6479},\n",
       "  15: {'Grid': 15.2655,\n",
       "   'HP': 0.0,\n",
       "   'Boiler': 14.9357,\n",
       "   'MicroCHP': 0.0,\n",
       "   'PV': 0.0,\n",
       "   'ST': 0.0,\n",
       "   'CHP': 0.0,\n",
       "   'GSHP': 0.0,\n",
       "   'Net_import': 0.0,\n",
       "   'Net_export': 11.6479},\n",
       "  16: {'Grid': 14.8751,\n",
       "   'HP': 0.0,\n",
       "   'Boiler': 15.728,\n",
       "   'MicroCHP': 0.0,\n",
       "   'PV': 0.0,\n",
       "   'ST': 0.0,\n",
       "   'CHP': 0.0,\n",
       "   'GSHP': 0.0,\n",
       "   'Net_import': 0.0,\n",
       "   'Net_export': 11.6479},\n",
       "  17: {'Grid': 14.6797,\n",
       "   'HP': 0.0,\n",
       "   'Boiler': 16.5894,\n",
       "   'MicroCHP': 0.0,\n",
       "   'PV': 0.0,\n",
       "   'ST': 0.0,\n",
       "   'CHP': 0.0,\n",
       "   'GSHP': 0.0,\n",
       "   'Net_import': 0.0,\n",
       "   'Net_export': 11.6479}},\n",
       " 'energy_exported': {0: {'Elec': 0.0, 'Net_export': 3.60619},\n",
       "  1: {'Elec': 0.0, 'Net_export': 5.00241},\n",
       "  2: {'Elec': 0.0, 'Net_export': 6.11652},\n",
       "  3: {'Elec': 0.0, 'Net_export': 4.84659},\n",
       "  4: {'Elec': 0.0, 'Net_export': 5.14135},\n",
       "  5: {'Elec': 0.0, 'Net_export': 5.4094},\n",
       "  6: {'Elec': 0.0, 'Net_export': 9.75019},\n",
       "  7: {'Elec': 0.0, 'Net_export': 10.7805},\n",
       "  8: {'Elec': 0.0, 'Net_export': 9.53311},\n",
       "  9: {'Elec': 0.0, 'Net_export': 5.3347},\n",
       "  10: {'Elec': 0.0, 'Net_export': 7.14585},\n",
       "  11: {'Elec': 0.0, 'Net_export': 8.80762},\n",
       "  12: {'Elec': 0.0, 'Net_export': 5.54398},\n",
       "  13: {'Elec': 0.0, 'Net_export': 8.56877},\n",
       "  14: {'Elec': 0.0, 'Net_export': 11.6479},\n",
       "  15: {'Elec': 0.0, 'Net_export': 11.6479},\n",
       "  16: {'Elec': 0.0, 'Net_export': 11.6479},\n",
       "  17: {'Elec': 0.0, 'Net_export': 11.6479}},\n",
       " 'energy_imported': {0: {'Grid': 4.03349, 'Gas': 7.74802, 'Net_import': 0.0},\n",
       "  1: {'Grid': 5.58891, 'Gas': 13.1933, 'Net_import': 0.0},\n",
       "  2: {'Grid': 6.84232, 'Gas': 15.4375, 'Net_import': 0.0},\n",
       "  3: {'Grid': 6.47319, 'Gas': 34.2514, 'Net_import': 0.0},\n",
       "  4: {'Grid': 5.86715, 'Gas': 14.5497, 'Net_import': 0.0},\n",
       "  5: {'Grid': 5.6974, 'Gas': 18.8373, 'Net_import': 0.0},\n",
       "  6: {'Grid': 11.3444, 'Gas': 24.7327, 'Net_import': 0.0},\n",
       "  7: {'Grid': 14.7115, 'Gas': 30.5559, 'Net_import': 0.0},\n",
       "  8: {'Grid': 12.8106, 'Gas': 29.6582, 'Net_import': 0.0},\n",
       "  9: {'Grid': 7.10245, 'Gas': 28.0234, 'Net_import': 0.0},\n",
       "  10: {'Grid': 10.0115, 'Gas': 23.4425, 'Net_import': 0.0},\n",
       "  11: {'Grid': 13.3287, 'Gas': 17.9707, 'Net_import': 0.0},\n",
       "  12: {'Grid': 6.47103, 'Gas': 16.9059, 'Net_import': 0.0},\n",
       "  13: {'Grid': 10.2482, 'Gas': 15.9804, 'Net_import': 0.0},\n",
       "  14: {'Grid': 14.2429, 'Gas': 15.2529, 'Net_import': 0.0},\n",
       "  15: {'Grid': 15.2655, 'Gas': 14.9357, 'Net_import': 0.0},\n",
       "  16: {'Grid': 14.8751, 'Gas': 15.728, 'Net_import': 0.0},\n",
       "  17: {'Grid': 14.6797, 'Gas': 16.5894, 'Net_import': 0.0}},\n",
       " 'capacities': {'Grid': 'Grid',\n",
       "  'HP': 'HP',\n",
       "  'Boiler': 'Boiler',\n",
       "  'MicroCHP': 'MicroCHP',\n",
       "  'PV': 'PV',\n",
       "  'ST': 'ST',\n",
       "  'CHP': 'CHP',\n",
       "  'GSHP': 'GSHP',\n",
       "  'Net_import': 'Net_import',\n",
       "  'Net_export': 'Net_export'},\n",
       " 'is_installed': {'Grid': 1,\n",
       "  'HP': 0,\n",
       "  'Boiler': 1,\n",
       "  'MicroCHP': 0,\n",
       "  'PV': 0,\n",
       "  'ST': 0,\n",
       "  'CHP': 0,\n",
       "  'GSHP': 0,\n",
       "  'Net_import': 0,\n",
       "  'Net_export': 1},\n",
       " 'is_installed_2': {'Battery': 0, 'Hot Water Tank': 0},\n",
       " 'is_on': {0: {'MicroCHP': 0, 'CHP': 0},\n",
       "  1: {'MicroCHP': 0, 'CHP': 0},\n",
       "  2: {'MicroCHP': 0, 'CHP': 0},\n",
       "  3: {'MicroCHP': 0, 'CHP': 0},\n",
       "  4: {'MicroCHP': 0, 'CHP': 0},\n",
       "  5: {'MicroCHP': 0, 'CHP': 0},\n",
       "  6: {'MicroCHP': 0, 'CHP': 0},\n",
       "  7: {'MicroCHP': 0, 'CHP': 0},\n",
       "  8: {'MicroCHP': 0, 'CHP': 0},\n",
       "  9: {'MicroCHP': 0, 'CHP': 0},\n",
       "  10: {'MicroCHP': 0, 'CHP': 0},\n",
       "  11: {'MicroCHP': 0, 'CHP': 0},\n",
       "  12: {'MicroCHP': 0, 'CHP': 0},\n",
       "  13: {'MicroCHP': 0, 'CHP': 0},\n",
       "  14: {'MicroCHP': 0, 'CHP': 0},\n",
       "  15: {'MicroCHP': 0, 'CHP': 0},\n",
       "  16: {'MicroCHP': 0, 'CHP': 0},\n",
       "  17: {'MicroCHP': 0, 'CHP': 0}},\n",
       " 'total_cost': 1016.19,\n",
       " 'operating_cost': 63.7844,\n",
       " 'maintenance_cost': 3.32565,\n",
       " 'investment_cost': 912.458,\n",
       " 'total_carbon': 131.494,\n",
       " 'energy_to_storage': {0: {'Battery': 0.0, 'Hot Water Tank': 0.0},\n",
       "  1: {'Battery': 0.0, 'Hot Water Tank': 0.0},\n",
       "  2: {'Battery': 0.0, 'Hot Water Tank': 0.0},\n",
       "  3: {'Battery': 0.0, 'Hot Water Tank': 0.0},\n",
       "  4: {'Battery': 0.0, 'Hot Water Tank': 0.0},\n",
       "  5: {'Battery': 0.0, 'Hot Water Tank': 0.0},\n",
       "  6: {'Battery': 0.0, 'Hot Water Tank': 0.0},\n",
       "  7: {'Battery': 0.0, 'Hot Water Tank': 0.0},\n",
       "  8: {'Battery': 0.0, 'Hot Water Tank': 0.0},\n",
       "  9: {'Battery': 0.0, 'Hot Water Tank': 0.0},\n",
       "  10: {'Battery': 0.0, 'Hot Water Tank': 0.0},\n",
       "  11: {'Battery': 0.0, 'Hot Water Tank': 0.0},\n",
       "  12: {'Battery': 0.0, 'Hot Water Tank': 0.0},\n",
       "  13: {'Battery': 0.0, 'Hot Water Tank': 0.0},\n",
       "  14: {'Battery': 0.0, 'Hot Water Tank': 0.0},\n",
       "  15: {'Battery': 0.0, 'Hot Water Tank': 0.0},\n",
       "  16: {'Battery': 0.0, 'Hot Water Tank': 0.0},\n",
       "  17: {'Battery': 0.0, 'Hot Water Tank': 0.0}},\n",
       " 'energy_from_storage': {0: {'Battery': 0.0, 'Hot Water Tank': 0.0},\n",
       "  1: {'Battery': 0.0, 'Hot Water Tank': 0.0},\n",
       "  2: {'Battery': 0.0, 'Hot Water Tank': 0.0},\n",
       "  3: {'Battery': 0.0, 'Hot Water Tank': 0.0},\n",
       "  4: {'Battery': 0.0, 'Hot Water Tank': 0.0},\n",
       "  5: {'Battery': 0.0, 'Hot Water Tank': 0.0},\n",
       "  6: {'Battery': 0.0, 'Hot Water Tank': 0.0},\n",
       "  7: {'Battery': 0.0, 'Hot Water Tank': 0.0},\n",
       "  8: {'Battery': 0.0, 'Hot Water Tank': 0.0},\n",
       "  9: {'Battery': 0.0, 'Hot Water Tank': 0.0},\n",
       "  10: {'Battery': 0.0, 'Hot Water Tank': 0.0},\n",
       "  11: {'Battery': 0.0, 'Hot Water Tank': 0.0},\n",
       "  12: {'Battery': 0.0, 'Hot Water Tank': 0.0},\n",
       "  13: {'Battery': 0.0, 'Hot Water Tank': 0.0},\n",
       "  14: {'Battery': 0.0, 'Hot Water Tank': 0.0},\n",
       "  15: {'Battery': 0.0, 'Hot Water Tank': 0.0},\n",
       "  16: {'Battery': 0.0, 'Hot Water Tank': 0.0},\n",
       "  17: {'Battery': 0.0, 'Hot Water Tank': 0.0}},\n",
       " 'storage_level': {0: {'Battery': 0.0, 'Hot Water Tank': 0.0},\n",
       "  1: {'Battery': 0.0, 'Hot Water Tank': 0.0},\n",
       "  2: {'Battery': 0.0, 'Hot Water Tank': 0.0},\n",
       "  3: {'Battery': 0.0, 'Hot Water Tank': 0.0},\n",
       "  4: {'Battery': 0.0, 'Hot Water Tank': 0.0},\n",
       "  5: {'Battery': 0.0, 'Hot Water Tank': 0.0},\n",
       "  6: {'Battery': 0.0, 'Hot Water Tank': 0.0},\n",
       "  7: {'Battery': 0.0, 'Hot Water Tank': 0.0},\n",
       "  8: {'Battery': 0.0, 'Hot Water Tank': 0.0},\n",
       "  9: {'Battery': 0.0, 'Hot Water Tank': 0.0},\n",
       "  10: {'Battery': 0.0, 'Hot Water Tank': 0.0},\n",
       "  11: {'Battery': 0.0, 'Hot Water Tank': 0.0},\n",
       "  12: {'Battery': 0.0, 'Hot Water Tank': 0.0},\n",
       "  13: {'Battery': 0.0, 'Hot Water Tank': 0.0},\n",
       "  14: {'Battery': 0.0, 'Hot Water Tank': 0.0},\n",
       "  15: {'Battery': 0.0, 'Hot Water Tank': 0.0},\n",
       "  16: {'Battery': 0.0, 'Hot Water Tank': 0.0},\n",
       "  17: {'Battery': 0.0, 'Hot Water Tank': 0.0},\n",
       "  18: {'Battery': 0.0, 'Hot Water Tank': 0.0}},\n",
       " 'storage_capacity': {'Battery': 'BatSize', 'Hot Water Tank': 'TankSize'},\n",
       " 'capacity_storage': {'Battery': 0.0, 'Hot Water Tank': 0.0},\n",
       " 'capacity_tech': {'Grid': 15.2655,\n",
       "  'HP': 0.0,\n",
       "  'Boiler': 34.2514,\n",
       "  'MicroCHP': 0.0,\n",
       "  'PV': 0.0,\n",
       "  'ST': 0.0,\n",
       "  'CHP': 0.0,\n",
       "  'GSHP': 0.0,\n",
       "  'Net_import': 0.0,\n",
       "  'Net_export': 11.6479},\n",
       " 'capacity0': 11.6479,\n",
       " 'capacity1': 8.16835,\n",
       " 'capacity2': 0.0,\n",
       " 'capacity3': 0.914739}"
      ]
     },
     "execution_count": 10,
     "metadata": {},
     "output_type": "execute_result"
    }
   ],
   "source": [
    "objective = hubs[0].objective\n",
    "for hub in hubs[1:]:\n",
    "    objective += hub.objective\n",
    "\n",
    "# Now solve this model.\n",
    "status = pylp.solve(objective=objective, constraints=constraints, minimize=True)\n",
    "hubs[0].solution_dict"
   ]
  },
  {
   "cell_type": "markdown",
   "metadata": {
    "papermill": {
     "duration": 0.012676,
     "end_time": "2019-10-28T23:04:26.470280",
     "exception": false,
     "start_time": "2019-10-28T23:04:26.457604",
     "status": "completed"
    },
    "tags": []
   },
   "source": [
    "### Solving the Models\n",
    "\n",
    "Here we run the `multiple_hubs` function, which:\n",
    "+ combines the individual hub models into one big hub\n",
    "+ adds network constraints to allow energy to be exchanged\n",
    "+ solves the resulting hub model  \n",
    "The stdout is very long, so we capture it to a variable `sol_output`."
   ]
  },
  {
   "cell_type": "code",
   "execution_count": 11,
   "metadata": {
    "papermill": {
     "duration": 0.018264,
     "end_time": "2019-10-28T23:04:26.501564",
     "exception": false,
     "start_time": "2019-10-28T23:04:26.483300",
     "status": "completed"
    },
    "tags": []
   },
   "outputs": [],
   "source": [
    "input_file = 'hub__'\n",
    "n=4"
   ]
  },
  {
   "cell_type": "code",
   "execution_count": 12,
   "metadata": {
    "papermill": {
     "duration": 2.891467,
     "end_time": "2019-10-28T23:04:29.405365",
     "exception": false,
     "start_time": "2019-10-28T23:04:26.513898",
     "status": "completed"
    },
    "tags": []
   },
   "outputs": [],
   "source": [
    "%%capture sol_output\n",
    "sol = multiple_hubs(input_files=input_file, n=n, network_excel='network.xlsx')"
   ]
  },
  {
   "cell_type": "markdown",
   "metadata": {
    "papermill": {
     "duration": 0.012643,
     "end_time": "2019-10-28T23:04:29.431152",
     "exception": false,
     "start_time": "2019-10-28T23:04:29.418509",
     "status": "completed"
    },
    "tags": []
   },
   "source": [
    "### Results\n",
    "\n",
    "Results are returned for all four hubs, but all the network link capacities are the same by definition, so we can just take the values from the first hub."
   ]
  },
  {
   "cell_type": "code",
   "execution_count": 13,
   "metadata": {
    "papermill": {
     "duration": 0.017562,
     "end_time": "2019-10-28T23:04:29.461326",
     "exception": false,
     "start_time": "2019-10-28T23:04:29.443764",
     "status": "completed"
    },
    "tags": []
   },
   "outputs": [],
   "source": [
    "hub = sol[0]"
   ]
  },
  {
   "cell_type": "markdown",
   "metadata": {
    "papermill": {
     "duration": 0.012353,
     "end_time": "2019-10-28T23:04:29.486790",
     "exception": false,
     "start_time": "2019-10-28T23:04:29.474437",
     "status": "completed"
    },
    "tags": []
   },
   "source": [
    "We can examine the network links that are installed:"
   ]
  },
  {
   "cell_type": "code",
   "execution_count": 14,
   "metadata": {
    "papermill": {
     "duration": 0.01881,
     "end_time": "2019-10-28T23:04:29.518357",
     "exception": false,
     "start_time": "2019-10-28T23:04:29.499547",
     "status": "completed"
    },
    "tags": []
   },
   "outputs": [
    {
     "data": {
      "text/plain": [
       "{0: 1, 1: 1, 2: 0, 3: 1}"
      ]
     },
     "execution_count": 14,
     "metadata": {},
     "output_type": "execute_result"
    }
   ],
   "source": [
    "hub[\"is_link_installed\"]"
   ]
  },
  {
   "cell_type": "markdown",
   "metadata": {
    "papermill": {
     "duration": 0.013605,
     "end_time": "2019-10-28T23:04:29.545425",
     "exception": false,
     "start_time": "2019-10-28T23:04:29.531820",
     "status": "completed"
    },
    "tags": []
   },
   "source": [
    "And the capacity of the links:"
   ]
  },
  {
   "cell_type": "code",
   "execution_count": 15,
   "metadata": {
    "papermill": {
     "duration": 0.020144,
     "end_time": "2019-10-28T23:04:29.578854",
     "exception": false,
     "start_time": "2019-10-28T23:04:29.558710",
     "status": "completed"
    },
    "tags": []
   },
   "outputs": [
    {
     "name": "stdout",
     "output_type": "stream",
     "text": [
      "Link 0 has capacity 11.6479\n",
      "Link 1 has capacity 8.16835\n",
      "Link 2 has capacity 0.0\n",
      "Link 3 has capacity 0.914739\n"
     ]
    }
   ],
   "source": [
    "for i in range(4):\n",
    "    id = 'capacity'+str(i)\n",
    "    print('Link', i, 'has capacity', hub[id])"
   ]
  },
  {
   "cell_type": "code",
   "execution_count": null,
   "metadata": {
    "papermill": {
     "duration": 0.013262,
     "end_time": "2019-10-28T23:04:29.605114",
     "exception": false,
     "start_time": "2019-10-28T23:04:29.591852",
     "status": "completed"
    },
    "tags": []
   },
   "outputs": [],
   "source": []
  }
 ],
 "metadata": {
  "kernelspec": {
   "display_name": "Python 3",
   "language": "python",
   "name": "python3"
  },
  "language_info": {
   "codemirror_mode": {
    "name": "ipython",
    "version": 3
   },
   "file_extension": ".py",
   "mimetype": "text/x-python",
   "name": "python",
   "nbconvert_exporter": "python",
   "pygments_lexer": "ipython3",
   "version": "3.6.4"
  },
  "papermill": {
   "duration": 6.943218,
   "end_time": "2019-10-28T23:04:29.924816",
   "environment_variables": {},
   "exception": null,
   "input_path": "./EnergyHub/Networks/MultipleHubsManually.ipynb",
   "output_path": "./EnergyHub/Networks/MultipleHubsManually.ipynb",
   "parameters": {},
   "start_time": "2019-10-28T23:04:22.981598",
   "version": "1.2.0"
  }
 },
 "nbformat": 4,
 "nbformat_minor": 4
}