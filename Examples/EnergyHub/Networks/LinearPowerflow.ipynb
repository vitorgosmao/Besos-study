{
 "cells": [
  {
   "cell_type": "markdown",
   "metadata": {
    "papermill": {
     "duration": 0.010942,
     "end_time": "2019-10-28T23:04:35.535200",
     "exception": false,
     "start_time": "2019-10-28T23:04:35.524258",
     "status": "completed"
    },
    "tags": []
   },
   "source": [
    "# Linear Powerflow\n",
    "\n",
    "This notebook adds linear powerflow constraints to the Energy Hub model in BESOS.  \n",
    "These equations solve the optimal power flow problem for the electricty grid to identify grid congestion problems.  "
   ]
  },
  {
   "cell_type": "code",
   "execution_count": 1,
   "metadata": {
    "papermill": {
     "duration": 0.826346,
     "end_time": "2019-10-28T23:04:36.373817",
     "exception": false,
     "start_time": "2019-10-28T23:04:35.547471",
     "status": "completed"
    },
    "tags": []
   },
   "outputs": [],
   "source": [
    "from pyehub.multiple_hubs import multiple_hubs\n",
    "from pyehub import network_to_request_format\n",
    "from pyehub.energy_hub.input_data import InputData\n",
    "from pprint import pprint as pp"
   ]
  },
  {
   "cell_type": "markdown",
   "metadata": {
    "papermill": {
     "duration": 0.004387,
     "end_time": "2019-10-28T23:04:36.383935",
     "exception": false,
     "start_time": "2019-10-28T23:04:36.379548",
     "status": "completed"
    },
    "tags": []
   },
   "source": [
    "### Multiple Hubs Input\n",
    "The inputs and outputs of multiple hubs are unchanged.  \n",
    "The pattern for the names of the files for the hubs invovled, the number of hubs in the network, and the path to the network files are required.  \n",
    "In this example `network.xlsx` is a network that has links between the different hubs but has no possibilities for power transmission lines.  \n",
    "`network2.xlsx` is the exact same except all its possible links are power transmission lines."
   ]
  },
  {
   "cell_type": "code",
   "execution_count": 2,
   "metadata": {
    "papermill": {
     "duration": 0.009643,
     "end_time": "2019-10-28T23:04:36.398941",
     "exception": false,
     "start_time": "2019-10-28T23:04:36.389298",
     "status": "completed"
    },
    "tags": []
   },
   "outputs": [],
   "source": [
    "input_file = 'hub__'\n",
    "n = 4\n",
    "network = 'network.xlsx'\n",
    "network2 = 'network2.xlsx'"
   ]
  },
  {
   "cell_type": "markdown",
   "metadata": {
    "papermill": {
     "duration": 0.00578,
     "end_time": "2019-10-28T23:04:36.409780",
     "exception": false,
     "start_time": "2019-10-28T23:04:36.404000",
     "status": "completed"
    },
    "tags": []
   },
   "source": [
    "### Solving the Models\n",
    "\n",
    "Here we run the `multiple_hubs` model twice, the only difference being the network configuration.  \n",
    "The stdout is very long, so we capture it to a variable `sol_output`."
   ]
  },
  {
   "cell_type": "code",
   "execution_count": 3,
   "metadata": {
    "papermill": {
     "duration": 2.851616,
     "end_time": "2019-10-28T23:04:39.266070",
     "exception": false,
     "start_time": "2019-10-28T23:04:36.414454",
     "status": "completed"
    },
    "tags": []
   },
   "outputs": [],
   "source": [
    "%%capture sol_output\n",
    "sol = multiple_hubs(input_files=input_file, n=n, network_excel=network)"
   ]
  },
  {
   "cell_type": "code",
   "execution_count": 4,
   "metadata": {
    "papermill": {
     "duration": 2.327287,
     "end_time": "2019-10-28T23:04:41.599095",
     "exception": false,
     "start_time": "2019-10-28T23:04:39.271808",
     "status": "completed"
    },
    "tags": []
   },
   "outputs": [],
   "source": [
    "%%capture LPsol_output\n",
    "LPsol = multiple_hubs(input_files=input_file, n=n, network_excel=network2)"
   ]
  },
  {
   "cell_type": "markdown",
   "metadata": {
    "papermill": {
     "duration": 0.004414,
     "end_time": "2019-10-28T23:04:41.609608",
     "exception": false,
     "start_time": "2019-10-28T23:04:41.605194",
     "status": "completed"
    },
    "tags": []
   },
   "source": [
    "### Observing the Difference in Outputs\n",
    "\n",
    "We can examine the network links that are installed:"
   ]
  },
  {
   "cell_type": "code",
   "execution_count": 5,
   "metadata": {
    "papermill": {
     "duration": 0.01106,
     "end_time": "2019-10-28T23:04:41.625314",
     "exception": false,
     "start_time": "2019-10-28T23:04:41.614254",
     "status": "completed"
    },
    "tags": []
   },
   "outputs": [
    {
     "name": "stdout",
     "output_type": "stream",
     "text": [
      "{0: 1, 1: 1, 2: 0, 3: 1}\n",
      "{0: 0, 1: 0, 2: 0, 3: 1}\n"
     ]
    }
   ],
   "source": [
    "print(sol[0][\"is_link_installed\"])\n",
    "print(LPsol[0][\"is_link_installed\"])"
   ]
  },
  {
   "cell_type": "markdown",
   "metadata": {
    "papermill": {
     "duration": 0.004689,
     "end_time": "2019-10-28T23:04:41.634693",
     "exception": false,
     "start_time": "2019-10-28T23:04:41.630004",
     "status": "completed"
    },
    "tags": []
   },
   "source": [
    "And the capacity of Link 3:"
   ]
  },
  {
   "cell_type": "code",
   "execution_count": 6,
   "metadata": {
    "papermill": {
     "duration": 0.011211,
     "end_time": "2019-10-28T23:04:41.650632",
     "exception": false,
     "start_time": "2019-10-28T23:04:41.639421",
     "status": "completed"
    },
    "tags": []
   },
   "outputs": [
    {
     "name": "stdout",
     "output_type": "stream",
     "text": [
      "0.914739\n",
      "0.897758\n"
     ]
    }
   ],
   "source": [
    "print(sol[0]['capacity3'])\n",
    "print(LPsol[0]['capacity3'])"
   ]
  },
  {
   "cell_type": "code",
   "execution_count": null,
   "metadata": {
    "papermill": {
     "duration": 0.005083,
     "end_time": "2019-10-28T23:04:41.661221",
     "exception": false,
     "start_time": "2019-10-28T23:04:41.656138",
     "status": "completed"
    },
    "tags": []
   },
   "outputs": [],
   "source": []
  }
 ],
 "metadata": {
  "kernelspec": {
   "display_name": "Python 3",
   "language": "python",
   "name": "python3"
  },
  "language_info": {
   "codemirror_mode": {
    "name": "ipython",
    "version": 3
   },
   "file_extension": ".py",
   "mimetype": "text/x-python",
   "name": "python",
   "nbconvert_exporter": "python",
   "pygments_lexer": "ipython3",
   "version": "3.6.4"
  },
  "papermill": {
   "duration": 7.071009,
   "end_time": "2019-10-28T23:04:41.973706",
   "environment_variables": {},
   "exception": null,
   "input_path": "./EnergyHub/Networks/LinearPowerflow.ipynb",
   "output_path": "./EnergyHub/Networks/LinearPowerflow.ipynb",
   "parameters": {},
   "start_time": "2019-10-28T23:04:34.902697",
   "version": "1.2.0"
  }
 },
 "nbformat": 4,
 "nbformat_minor": 2
}