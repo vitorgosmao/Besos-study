{
 "cells": [
  {
   "cell_type": "markdown",
   "metadata": {
    "papermill": {
     "duration": 0.016223,
     "end_time": "2019-10-28T23:03:32.533362",
     "exception": false,
     "start_time": "2019-10-28T23:03:32.517139",
     "status": "completed"
    },
    "tags": []
   },
   "source": [
    "# Combining EnergyPlus and EnergyHub Evaluators\n",
    "This notebook covers different ways to use EnergyPlus and PyEHub Evaluators together."
   ]
  },
  {
   "cell_type": "code",
   "execution_count": 1,
   "metadata": {
    "papermill": {
     "duration": 1.149725,
     "end_time": "2019-10-28T23:03:33.698335",
     "exception": false,
     "start_time": "2019-10-28T23:03:32.548610",
     "status": "completed"
    },
    "tags": []
   },
   "outputs": [],
   "source": [
    "import pandas as pd\n",
    "from pprint import pprint as pp\n",
    "import numpy as np\n",
    "\n",
    "from pyehub.energy_hub.ehub_model import EHubModel\n",
    "from besos.evaluator import EvaluatorEH, EvaluatorEP\n",
    "from besos.problem import EPProblem, EHProblem, Problem\n",
    "from besos.objectives import VariableReader, MeterReader, time_series_values\n",
    "from besos import objectives\n",
    "from besos import pyehub_funcs as pf\n",
    "from besos import eppy_funcs as ef\n",
    "from besos.parameters import RangeParameter, CategoryParameter, Parameter, ParameterEH, FieldSelector"
   ]
  },
  {
   "cell_type": "markdown",
   "metadata": {
    "papermill": {
     "duration": 0.013165,
     "end_time": "2019-10-28T23:03:33.725391",
     "exception": false,
     "start_time": "2019-10-28T23:03:33.712226",
     "status": "completed"
    },
    "tags": []
   },
   "source": [
    "### Custom EnergyPlus Evaluator Functions\n",
    "First we need to define a way to get a whole time series from EnergyPlus Evaluator, not just an objective function value.  \n",
    "To extract a time series from an EnergyPlus Evaluator the default summation function must be replaced.  \n",
    "The function `timeseriesfunc` returns the entire Pandas Series from the output of the EnergyPlus simulation."
   ]
  },
  {
   "cell_type": "code",
   "execution_count": 2,
   "metadata": {
    "papermill": {
     "duration": 0.030235,
     "end_time": "2019-10-28T23:03:33.769170",
     "exception": false,
     "start_time": "2019-10-28T23:03:33.738935",
     "status": "completed"
    },
    "tags": []
   },
   "outputs": [],
   "source": [
    "def timeseriesfunc(result):\n",
    "    return result.data['Value']"
   ]
  },
  {
   "cell_type": "markdown",
   "metadata": {
    "papermill": {
     "duration": 0.01135,
     "end_time": "2019-10-28T23:03:33.791787",
     "exception": false,
     "start_time": "2019-10-28T23:03:33.780437",
     "status": "completed"
    },
    "tags": []
   },
   "source": [
    "### Create an EnergyPlus Evaluator\n",
    "Here is a standard EnergyPlus Evaluator for editing the lighting power density for the default building and getting the electricity demand time series.  \n",
    "The output is a Pandas Series, and the units are Joules."
   ]
  },
  {
   "cell_type": "code",
   "execution_count": 3,
   "metadata": {
    "papermill": {
     "duration": 1.744472,
     "end_time": "2019-10-28T23:03:35.548207",
     "exception": false,
     "start_time": "2019-10-28T23:03:33.803735",
     "status": "completed"
    },
    "tags": []
   },
   "outputs": [
    {
     "data": {
      "text/plain": [
       "(0     5.041708e+07\n",
       " 1     5.142561e+07\n",
       " 2     5.193728e+07\n",
       " 3     5.111495e+07\n",
       " 4     4.728000e+07\n",
       " 5     4.371469e+07\n",
       " 6     5.956208e+07\n",
       " 7     5.870644e+07\n",
       " 8     6.031615e+07\n",
       " 9     6.127009e+07\n",
       " 10    6.202866e+07\n",
       " 11    6.294521e+07\n",
       " 12    6.369996e+07\n",
       " 13    6.431286e+07\n",
       " 14    6.507253e+07\n",
       " 15    6.522390e+07\n",
       " 16    6.471212e+07\n",
       " 17    6.365803e+07\n",
       " 18    6.167204e+07\n",
       " 19    6.648230e+07\n",
       " 20    6.682431e+07\n",
       " 21    6.601229e+07\n",
       " 22    4.320751e+07\n",
       " 23    4.910526e+07\n",
       " 24    1.431370e+07\n",
       " 25    1.310912e+07\n",
       " 26    1.431370e+07\n",
       " 27    1.310912e+07\n",
       " 28    1.431370e+07\n",
       " 29    1.310912e+07\n",
       " 30    1.551827e+07\n",
       " 31    8.609274e+06\n",
       " 32    7.227474e+06\n",
       " 33    7.227474e+06\n",
       " 34    7.227474e+06\n",
       " 35    7.227474e+06\n",
       " 36    7.227474e+06\n",
       " 37    7.227474e+06\n",
       " 38    7.227474e+06\n",
       " 39    7.227474e+06\n",
       " 40    9.991074e+06\n",
       " 41    1.551827e+07\n",
       " 42    1.407278e+07\n",
       " 43    1.310912e+07\n",
       " 44    1.431370e+07\n",
       " 45    1.310912e+07\n",
       " 46    1.431370e+07\n",
       " 47    1.310912e+07\n",
       " Name: Value, dtype: float64,)"
      ]
     },
     "execution_count": 3,
     "metadata": {},
     "output_type": "execute_result"
    }
   ],
   "source": [
    "building = ef.get_building()\n",
    "EPparameters = [Parameter(FieldSelector('Lights', '*', 'Watts per Zone Floor Area'),\n",
    "                value_descriptor=RangeParameter(8, 12),\n",
    "                name='Lights Watts/Area')]\n",
    "EPobjectives = MeterReader('Electricity:Facility',func=time_series_values)\n",
    "problem = EPProblem(EPparameters,EPobjectives)\n",
    "evaluator = EvaluatorEP(problem,building)\n",
    "result = evaluator([8])\n",
    "result"
   ]
  },
  {
   "cell_type": "markdown",
   "metadata": {
    "papermill": {
     "duration": 0.021081,
     "end_time": "2019-10-28T23:03:35.586192",
     "exception": false,
     "start_time": "2019-10-28T23:03:35.565111",
     "status": "completed"
    },
    "tags": []
   },
   "source": [
    "### EnergyPlus Evaluator Output conversions\n",
    "To ensure the output of the EnergyPlus evaluator is in the correct format for the Energy Hub, some conversions are required.\n",
    "\n",
    "First the result is converted from a Pandas Series to a dataframe."
   ]
  },
  {
   "cell_type": "code",
   "execution_count": 4,
   "metadata": {
    "papermill": {
     "duration": 0.020495,
     "end_time": "2019-10-28T23:03:35.626821",
     "exception": false,
     "start_time": "2019-10-28T23:03:35.606326",
     "status": "completed"
    },
    "tags": []
   },
   "outputs": [],
   "source": [
    "act_result = result[0].to_frame()"
   ]
  },
  {
   "cell_type": "markdown",
   "metadata": {
    "papermill": {
     "duration": 0.012397,
     "end_time": "2019-10-28T23:03:35.654073",
     "exception": false,
     "start_time": "2019-10-28T23:03:35.641676",
     "status": "completed"
    },
    "tags": []
   },
   "source": [
    "#### Splitting into days\n",
    "Then because EnergyPlus simulated a summer design day and a winter design day, the output is split and their indexes reset."
   ]
  },
  {
   "cell_type": "code",
   "execution_count": 5,
   "metadata": {
    "papermill": {
     "duration": 0.020109,
     "end_time": "2019-10-28T23:03:35.687821",
     "exception": false,
     "start_time": "2019-10-28T23:03:35.667712",
     "status": "completed"
    },
    "tags": []
   },
   "outputs": [],
   "source": [
    "cold_result = act_result.head(24)\n",
    "cold_result = cold_result.reset_index()\n",
    "warm_result = act_result.tail(24)\n",
    "warm_result = warm_result.reset_index()"
   ]
  },
  {
   "cell_type": "markdown",
   "metadata": {
    "papermill": {
     "duration": 0.011754,
     "end_time": "2019-10-28T23:03:35.710978",
     "exception": false,
     "start_time": "2019-10-28T23:03:35.699224",
     "status": "completed"
    },
    "tags": []
   },
   "source": [
    "#### Unit Conversions\n",
    "The output for an energy `Output:Meter` in EnergyPlus is in Joules but EnergyHub deals with kWh so the entire dataframe for both days is converted.  \n",
    "They are then turned into dictionaries with the keys being the time series index."
   ]
  },
  {
   "cell_type": "code",
   "execution_count": 6,
   "metadata": {
    "papermill": {
     "duration": 0.022022,
     "end_time": "2019-10-28T23:03:35.744933",
     "exception": false,
     "start_time": "2019-10-28T23:03:35.722911",
     "status": "completed"
    },
    "tags": []
   },
   "outputs": [],
   "source": [
    "cold_result = cold_result /3600000\n",
    "cold_dict = cold_result.to_dict()\n",
    "cold_dict = cold_dict['Value']\n",
    "\n",
    "warm_result = warm_result/3600000\n",
    "warm_dict = warm_result.to_dict()\n",
    "warm_dict = warm_dict['Value']"
   ]
  },
  {
   "cell_type": "markdown",
   "metadata": {
    "papermill": {
     "duration": 0.011413,
     "end_time": "2019-10-28T23:03:35.767386",
     "exception": false,
     "start_time": "2019-10-28T23:03:35.755973",
     "status": "completed"
    },
    "tags": []
   },
   "source": [
    "#### Wrapping in Dictionaries\n",
    "Lastly the dictionaries are wrapped as lists to match the input format for EnergyHub Evaluators."
   ]
  },
  {
   "cell_type": "code",
   "execution_count": 7,
   "metadata": {
    "papermill": {
     "duration": 0.018025,
     "end_time": "2019-10-28T23:03:35.799001",
     "exception": false,
     "start_time": "2019-10-28T23:03:35.780976",
     "status": "completed"
    },
    "tags": []
   },
   "outputs": [],
   "source": [
    "cold_input = [cold_dict]\n",
    "warm_input = [warm_dict]"
   ]
  },
  {
   "cell_type": "markdown",
   "metadata": {
    "papermill": {
     "duration": 0.010716,
     "end_time": "2019-10-28T23:03:35.820549",
     "exception": false,
     "start_time": "2019-10-28T23:03:35.809833",
     "status": "completed"
    },
    "tags": []
   },
   "source": [
    "### Create a PyEHub Evaluator\n",
    "Here is a standard PyEHub Evaluator for editing the electrical load of a simple energy hub, minimizing the total cost and outputting both the total cost and total carbon emissions from the optimizied hub.\n",
    "See [EHEvaluator](EHEvaluator.ipynb) for more details.  \n",
    "It is applied to the Energy Hub model specified in `config.yaml`."
   ]
  },
  {
   "cell_type": "code",
   "execution_count": 8,
   "metadata": {
    "papermill": {
     "duration": 0.032993,
     "end_time": "2019-10-28T23:03:35.864444",
     "exception": false,
     "start_time": "2019-10-28T23:03:35.831451",
     "status": "completed"
    },
    "tags": []
   },
   "outputs": [],
   "source": [
    "EHparameters = [ParameterEH(['LOADS','Elec'])]\n",
    "EHobjectives = ['total_cost','total_carbon']\n",
    "EHproblem = EHProblem(EHparameters, EHobjectives)\n",
    "hub = pf.get_hub()\n",
    "EHevaluator = EvaluatorEH(EHproblem, hub)"
   ]
  },
  {
   "cell_type": "markdown",
   "metadata": {
    "papermill": {
     "duration": 0.010569,
     "end_time": "2019-10-28T23:03:35.885612",
     "exception": false,
     "start_time": "2019-10-28T23:03:35.875043",
     "status": "completed"
    },
    "tags": []
   },
   "source": [
    "#### Single timeseries for PyEHub Evaluator\n",
    "The wrapped dictionary inputs can be used directly as input for the PyEHub Evaluator."
   ]
  },
  {
   "cell_type": "code",
   "execution_count": 9,
   "metadata": {
    "papermill": {
     "duration": 0.13249,
     "end_time": "2019-10-28T23:03:36.029910",
     "exception": false,
     "start_time": "2019-10-28T23:03:35.897420",
     "status": "completed"
    },
    "tags": []
   },
   "outputs": [
    {
     "data": {
      "text/plain": [
       "(1856.41, 77.5222)"
      ]
     },
     "execution_count": 9,
     "metadata": {},
     "output_type": "execute_result"
    }
   ],
   "source": [
    "result1= EHevaluator(cold_input)\n",
    "result1"
   ]
  },
  {
   "cell_type": "code",
   "execution_count": 10,
   "metadata": {
    "papermill": {
     "duration": 0.144313,
     "end_time": "2019-10-28T23:03:36.190307",
     "exception": false,
     "start_time": "2019-10-28T23:03:36.045994",
     "status": "completed"
    },
    "tags": []
   },
   "outputs": [
    {
     "data": {
      "text/plain": [
       "(1839.45, 31.8574)"
      ]
     },
     "execution_count": 10,
     "metadata": {},
     "output_type": "execute_result"
    }
   ],
   "source": [
    "result2 = EHevaluator(warm_input)\n",
    "result2"
   ]
  },
  {
   "cell_type": "markdown",
   "metadata": {
    "papermill": {
     "duration": 0.011942,
     "end_time": "2019-10-28T23:03:36.213799",
     "exception": false,
     "start_time": "2019-10-28T23:03:36.201857",
     "status": "completed"
    },
    "tags": []
   },
   "source": [
    "#### Dataframe of time series\n",
    "These inputs can be combined into a single dataframe and used as input for the evaluators."
   ]
  },
  {
   "cell_type": "code",
   "execution_count": 11,
   "metadata": {
    "papermill": {
     "duration": 0.019646,
     "end_time": "2019-10-28T23:03:36.246975",
     "exception": false,
     "start_time": "2019-10-28T23:03:36.227329",
     "status": "completed"
    },
    "tags": []
   },
   "outputs": [],
   "source": [
    "seasons_df = pd.DataFrame(np.array([warm_input,cold_input]),columns= ['p1'])"
   ]
  },
  {
   "cell_type": "code",
   "execution_count": 12,
   "metadata": {
    "papermill": {
     "duration": 0.235134,
     "end_time": "2019-10-28T23:03:36.493891",
     "exception": false,
     "start_time": "2019-10-28T23:03:36.258757",
     "status": "completed"
    },
    "tags": []
   },
   "outputs": [
    {
     "data": {
      "application/vnd.jupyter.widget-view+json": {
       "model_id": "b8d147aace4d44e1a99ffa80c550e933",
       "version_major": 2,
       "version_minor": 0
      },
      "text/plain": [
       "HBox(children=(IntProgress(value=0, description='Executing', max=2, style=ProgressStyle(description_width='ini…"
      ]
     },
     "metadata": {},
     "output_type": "display_data"
    },
    {
     "name": "stdout",
     "output_type": "stream",
     "text": [
      "\n"
     ]
    },
    {
     "data": {
      "text/html": [
       "<div>\n",
       "<style scoped>\n",
       "    .dataframe tbody tr th:only-of-type {\n",
       "        vertical-align: middle;\n",
       "    }\n",
       "\n",
       "    .dataframe tbody tr th {\n",
       "        vertical-align: top;\n",
       "    }\n",
       "\n",
       "    .dataframe thead th {\n",
       "        text-align: right;\n",
       "    }\n",
       "</style>\n",
       "<table border=\"1\" class=\"dataframe\">\n",
       "  <thead>\n",
       "    <tr style=\"text-align: right;\">\n",
       "      <th></th>\n",
       "      <th>total_cost</th>\n",
       "      <th>total_carbon</th>\n",
       "    </tr>\n",
       "  </thead>\n",
       "  <tbody>\n",
       "    <tr>\n",
       "      <td>0</td>\n",
       "      <td>1839.45</td>\n",
       "      <td>31.8574</td>\n",
       "    </tr>\n",
       "    <tr>\n",
       "      <td>1</td>\n",
       "      <td>1856.41</td>\n",
       "      <td>77.5222</td>\n",
       "    </tr>\n",
       "  </tbody>\n",
       "</table>\n",
       "</div>"
      ],
      "text/plain": [
       "   total_cost  total_carbon\n",
       "0     1839.45       31.8574\n",
       "1     1856.41       77.5222"
      ]
     },
     "execution_count": 12,
     "metadata": {},
     "output_type": "execute_result"
    }
   ],
   "source": [
    "result3 = EHevaluator.df_apply(seasons_df)\n",
    "result3"
   ]
  },
  {
   "cell_type": "markdown",
   "metadata": {
    "papermill": {
     "duration": 0.013199,
     "end_time": "2019-10-28T23:03:36.521652",
     "exception": false,
     "start_time": "2019-10-28T23:03:36.508453",
     "status": "completed"
    },
    "tags": []
   },
   "source": [
    "### Energy Plus Dataframe input\n",
    "If the input of the EnergyPlus Evaluator is a dataframe, then `df_apply` can be used to execute the evaluator.  "
   ]
  },
  {
   "cell_type": "code",
   "execution_count": 13,
   "metadata": {
    "papermill": {
     "duration": 6.577222,
     "end_time": "2019-10-28T23:03:43.113481",
     "exception": false,
     "start_time": "2019-10-28T23:03:36.536259",
     "status": "completed"
    },
    "tags": []
   },
   "outputs": [
    {
     "data": {
      "application/vnd.jupyter.widget-view+json": {
       "model_id": "798dcfe6a1b84d399e479ade86afe2b1",
       "version_major": 2,
       "version_minor": 0
      },
      "text/plain": [
       "HBox(children=(IntProgress(value=0, description='Executing', max=4, style=ProgressStyle(description_width='ini…"
      ]
     },
     "metadata": {},
     "output_type": "display_data"
    },
    {
     "name": "stdout",
     "output_type": "stream",
     "text": [
      "\n"
     ]
    },
    {
     "data": {
      "text/html": [
       "<div>\n",
       "<style scoped>\n",
       "    .dataframe tbody tr th:only-of-type {\n",
       "        vertical-align: middle;\n",
       "    }\n",
       "\n",
       "    .dataframe tbody tr th {\n",
       "        vertical-align: top;\n",
       "    }\n",
       "\n",
       "    .dataframe thead th {\n",
       "        text-align: right;\n",
       "    }\n",
       "</style>\n",
       "<table border=\"1\" class=\"dataframe\">\n",
       "  <thead>\n",
       "    <tr style=\"text-align: right;\">\n",
       "      <th></th>\n",
       "      <th>Electricity:Facility</th>\n",
       "    </tr>\n",
       "  </thead>\n",
       "  <tbody>\n",
       "    <tr>\n",
       "      <td>0</td>\n",
       "      <td>0     5.041708e+07\n",
       "1     5.142561e+07\n",
       "2     5....</td>\n",
       "    </tr>\n",
       "    <tr>\n",
       "      <td>1</td>\n",
       "      <td>0     5.377034e+07\n",
       "1     5.481425e+07\n",
       "2     5....</td>\n",
       "    </tr>\n",
       "    <tr>\n",
       "      <td>2</td>\n",
       "      <td>0     5.577863e+07\n",
       "1     5.670179e+07\n",
       "2     5....</td>\n",
       "    </tr>\n",
       "    <tr>\n",
       "      <td>3</td>\n",
       "      <td>0     6.187128e+07\n",
       "1     5.976898e+07\n",
       "2     6....</td>\n",
       "    </tr>\n",
       "  </tbody>\n",
       "</table>\n",
       "</div>"
      ],
      "text/plain": [
       "                                Electricity:Facility\n",
       "0  0     5.041708e+07\n",
       "1     5.142561e+07\n",
       "2     5....\n",
       "1  0     5.377034e+07\n",
       "1     5.481425e+07\n",
       "2     5....\n",
       "2  0     5.577863e+07\n",
       "1     5.670179e+07\n",
       "2     5....\n",
       "3  0     6.187128e+07\n",
       "1     5.976898e+07\n",
       "2     6...."
      ]
     },
     "execution_count": 13,
     "metadata": {},
     "output_type": "execute_result"
    }
   ],
   "source": [
    "EPdf = pd.DataFrame(np.array([[8],[9],[10],[12]]),columns= ['p1'])\n",
    "df_results = evaluator.df_apply(EPdf)\n",
    "df_results"
   ]
  },
  {
   "cell_type": "markdown",
   "metadata": {
    "papermill": {
     "duration": 0.023138,
     "end_time": "2019-10-28T23:03:43.155566",
     "exception": false,
     "start_time": "2019-10-28T23:03:43.132428",
     "status": "completed"
    },
    "tags": []
   },
   "source": [
    "#### EnergyPlus Dataframe output conversion\n",
    "The conversions must be done while maintaining a dataframe to be used with `df_apply` for the PyEHub Evaluator.  \n",
    "The previous splitting of days, unit conversions, and wrapping dictionaries must be done for every output of the EnergyPlus Dataframe, then appended into a larger dataframe to be used as the input to the Energy Hub.  \n",
    "The larger dataframe is prepared with the number of objectives from the EnergyPlus simulator."
   ]
  },
  {
   "cell_type": "code",
   "execution_count": 14,
   "metadata": {
    "papermill": {
     "duration": 0.048558,
     "end_time": "2019-10-28T23:03:43.222529",
     "exception": false,
     "start_time": "2019-10-28T23:03:43.173971",
     "status": "completed"
    },
    "tags": []
   },
   "outputs": [],
   "source": [
    "results_dicts = df_results.to_dict()\n",
    "columnnames = []\n",
    "for j in results_dicts:\n",
    "    columnnames.append(j)\n",
    "\n",
    "df_input = pd.DataFrame(columns=columnnames)\n",
    "\n",
    "for j in results_dicts:\n",
    "    for i in results_dicts[j]:\n",
    "\n",
    "        act_result = results_dicts[j][i].to_frame()\n",
    "\n",
    "        cold_result = act_result.head(24)\n",
    "        cold_result = cold_result.reset_index()\n",
    "        warm_result = act_result.tail(24)\n",
    "        warm_result = warm_result.reset_index()\n",
    "\n",
    "        cold_result = cold_result /3600000\n",
    "        cold_dict = cold_result.to_dict()\n",
    "        cold_dict = cold_dict['Value']\n",
    "\n",
    "        warm_result = warm_result/3600000\n",
    "        warm_dict = warm_result.to_dict()\n",
    "        warm_dict = warm_dict['Value']\n",
    "\n",
    "        temp_df1 = pd.DataFrame(np.array(cold_input),columns = [j])\n",
    "        temp_df2 = pd.DataFrame(np.array(warm_input),columns = [j])\n",
    "        df_input = df_input.append(temp_df1, ignore_index = True)\n",
    "        df_input = df_input.append(temp_df2, ignore_index = True)\n",
    "    "
   ]
  },
  {
   "cell_type": "code",
   "execution_count": 15,
   "metadata": {
    "papermill": {
     "duration": 0.028456,
     "end_time": "2019-10-28T23:03:43.265199",
     "exception": false,
     "start_time": "2019-10-28T23:03:43.236743",
     "status": "completed"
    },
    "tags": []
   },
   "outputs": [
    {
     "data": {
      "text/html": [
       "<div>\n",
       "<style scoped>\n",
       "    .dataframe tbody tr th:only-of-type {\n",
       "        vertical-align: middle;\n",
       "    }\n",
       "\n",
       "    .dataframe tbody tr th {\n",
       "        vertical-align: top;\n",
       "    }\n",
       "\n",
       "    .dataframe thead th {\n",
       "        text-align: right;\n",
       "    }\n",
       "</style>\n",
       "<table border=\"1\" class=\"dataframe\">\n",
       "  <thead>\n",
       "    <tr style=\"text-align: right;\">\n",
       "      <th></th>\n",
       "      <th>Electricity:Facility</th>\n",
       "    </tr>\n",
       "  </thead>\n",
       "  <tbody>\n",
       "    <tr>\n",
       "      <td>0</td>\n",
       "      <td>{0: 14.004744327135537, 1: 14.284890432124438,...</td>\n",
       "    </tr>\n",
       "    <tr>\n",
       "      <td>1</td>\n",
       "      <td>{0: 3.97602646966534, 1: 3.6414211757330794, 2...</td>\n",
       "    </tr>\n",
       "    <tr>\n",
       "      <td>2</td>\n",
       "      <td>{0: 14.004744327135537, 1: 14.284890432124438,...</td>\n",
       "    </tr>\n",
       "    <tr>\n",
       "      <td>3</td>\n",
       "      <td>{0: 3.97602646966534, 1: 3.6414211757330794, 2...</td>\n",
       "    </tr>\n",
       "    <tr>\n",
       "      <td>4</td>\n",
       "      <td>{0: 14.004744327135537, 1: 14.284890432124438,...</td>\n",
       "    </tr>\n",
       "    <tr>\n",
       "      <td>5</td>\n",
       "      <td>{0: 3.97602646966534, 1: 3.6414211757330794, 2...</td>\n",
       "    </tr>\n",
       "    <tr>\n",
       "      <td>6</td>\n",
       "      <td>{0: 14.004744327135537, 1: 14.284890432124438,...</td>\n",
       "    </tr>\n",
       "    <tr>\n",
       "      <td>7</td>\n",
       "      <td>{0: 3.97602646966534, 1: 3.6414211757330794, 2...</td>\n",
       "    </tr>\n",
       "  </tbody>\n",
       "</table>\n",
       "</div>"
      ],
      "text/plain": [
       "                                Electricity:Facility\n",
       "0  {0: 14.004744327135537, 1: 14.284890432124438,...\n",
       "1  {0: 3.97602646966534, 1: 3.6414211757330794, 2...\n",
       "2  {0: 14.004744327135537, 1: 14.284890432124438,...\n",
       "3  {0: 3.97602646966534, 1: 3.6414211757330794, 2...\n",
       "4  {0: 14.004744327135537, 1: 14.284890432124438,...\n",
       "5  {0: 3.97602646966534, 1: 3.6414211757330794, 2...\n",
       "6  {0: 14.004744327135537, 1: 14.284890432124438,...\n",
       "7  {0: 3.97602646966534, 1: 3.6414211757330794, 2..."
      ]
     },
     "execution_count": 15,
     "metadata": {},
     "output_type": "execute_result"
    }
   ],
   "source": [
    "df_input"
   ]
  },
  {
   "cell_type": "markdown",
   "metadata": {
    "papermill": {
     "duration": 0.014281,
     "end_time": "2019-10-28T23:03:43.292729",
     "exception": false,
     "start_time": "2019-10-28T23:03:43.278448",
     "status": "completed"
    },
    "tags": []
   },
   "source": [
    "### EnergyPlus to EnergyHub Dataframe output\n",
    "The converted output from the EnergyPlus Evaluator can then be used as input for the PyEHub evaluator."
   ]
  },
  {
   "cell_type": "code",
   "execution_count": 16,
   "metadata": {
    "papermill": {
     "duration": 0.928337,
     "end_time": "2019-10-28T23:03:44.235840",
     "exception": false,
     "start_time": "2019-10-28T23:03:43.307503",
     "status": "completed"
    },
    "tags": []
   },
   "outputs": [
    {
     "data": {
      "application/vnd.jupyter.widget-view+json": {
       "model_id": "4d84cdfe3c4b49509638a6ef57a97166",
       "version_major": 2,
       "version_minor": 0
      },
      "text/plain": [
       "HBox(children=(IntProgress(value=0, description='Executing', max=8, style=ProgressStyle(description_width='ini…"
      ]
     },
     "metadata": {},
     "output_type": "display_data"
    },
    {
     "name": "stdout",
     "output_type": "stream",
     "text": [
      "\n"
     ]
    },
    {
     "data": {
      "text/html": [
       "<div>\n",
       "<style scoped>\n",
       "    .dataframe tbody tr th:only-of-type {\n",
       "        vertical-align: middle;\n",
       "    }\n",
       "\n",
       "    .dataframe tbody tr th {\n",
       "        vertical-align: top;\n",
       "    }\n",
       "\n",
       "    .dataframe thead th {\n",
       "        text-align: right;\n",
       "    }\n",
       "</style>\n",
       "<table border=\"1\" class=\"dataframe\">\n",
       "  <thead>\n",
       "    <tr style=\"text-align: right;\">\n",
       "      <th></th>\n",
       "      <th>total_cost</th>\n",
       "      <th>total_carbon</th>\n",
       "    </tr>\n",
       "  </thead>\n",
       "  <tbody>\n",
       "    <tr>\n",
       "      <td>0</td>\n",
       "      <td>1856.41</td>\n",
       "      <td>77.5222</td>\n",
       "    </tr>\n",
       "    <tr>\n",
       "      <td>1</td>\n",
       "      <td>1839.45</td>\n",
       "      <td>31.8574</td>\n",
       "    </tr>\n",
       "    <tr>\n",
       "      <td>2</td>\n",
       "      <td>1856.41</td>\n",
       "      <td>77.5222</td>\n",
       "    </tr>\n",
       "    <tr>\n",
       "      <td>3</td>\n",
       "      <td>1839.45</td>\n",
       "      <td>31.8574</td>\n",
       "    </tr>\n",
       "    <tr>\n",
       "      <td>4</td>\n",
       "      <td>1856.41</td>\n",
       "      <td>77.5222</td>\n",
       "    </tr>\n",
       "    <tr>\n",
       "      <td>5</td>\n",
       "      <td>1839.45</td>\n",
       "      <td>31.8574</td>\n",
       "    </tr>\n",
       "    <tr>\n",
       "      <td>6</td>\n",
       "      <td>1856.41</td>\n",
       "      <td>77.5222</td>\n",
       "    </tr>\n",
       "    <tr>\n",
       "      <td>7</td>\n",
       "      <td>1839.45</td>\n",
       "      <td>31.8574</td>\n",
       "    </tr>\n",
       "  </tbody>\n",
       "</table>\n",
       "</div>"
      ],
      "text/plain": [
       "   total_cost  total_carbon\n",
       "0     1856.41       77.5222\n",
       "1     1839.45       31.8574\n",
       "2     1856.41       77.5222\n",
       "3     1839.45       31.8574\n",
       "4     1856.41       77.5222\n",
       "5     1839.45       31.8574\n",
       "6     1856.41       77.5222\n",
       "7     1839.45       31.8574"
      ]
     },
     "execution_count": 16,
     "metadata": {},
     "output_type": "execute_result"
    }
   ],
   "source": [
    "result4 = EHevaluator.df_apply(df_input)\n",
    "result4"
   ]
  },
  {
   "cell_type": "code",
   "execution_count": null,
   "metadata": {
    "papermill": {
     "duration": 0.01494,
     "end_time": "2019-10-28T23:03:44.266128",
     "exception": false,
     "start_time": "2019-10-28T23:03:44.251188",
     "status": "completed"
    },
    "tags": []
   },
   "outputs": [],
   "source": []
  }
 ],
 "metadata": {
  "kernelspec": {
   "display_name": "Python 3",
   "language": "python",
   "name": "python3"
  },
  "language_info": {
   "codemirror_mode": {
    "name": "ipython",
    "version": 3
   },
   "file_extension": ".py",
   "mimetype": "text/x-python",
   "name": "python",
   "nbconvert_exporter": "python",
   "pygments_lexer": "ipython3",
   "version": "3.6.4"
  },
  "papermill": {
   "duration": 12.835794,
   "end_time": "2019-10-28T23:03:44.691427",
   "environment_variables": {},
   "exception": null,
   "input_path": "./EnergyHub/EPtoEHEvaluators.ipynb",
   "output_path": "./EnergyHub/EPtoEHEvaluators.ipynb",
   "parameters": {},
   "start_time": "2019-10-28T23:03:31.855633",
   "version": "1.2.0"
  },
  "widgets": {
   "application/vnd.jupyter.widget-state+json": {
    "state": {
     "07c6060d55d94493bfbd30b966b98727": {
      "model_module": "@jupyter-widgets/controls",
      "model_module_version": "1.5.0",
      "model_name": "DescriptionStyleModel",
      "state": {
       "_model_module": "@jupyter-widgets/controls",
       "_model_module_version": "1.5.0",
       "_model_name": "DescriptionStyleModel",
       "_view_count": null,
       "_view_module": "@jupyter-widgets/base",
       "_view_module_version": "1.2.0",
       "_view_name": "StyleView",
       "description_width": ""
      }
     },
     "0cc4f49f10524e20ae2c2d29ec3d226f": {
      "model_module": "@jupyter-widgets/controls",
      "model_module_version": "1.5.0",
      "model_name": "ProgressStyleModel",
      "state": {
       "_model_module": "@jupyter-widgets/controls",
       "_model_module_version": "1.5.0",
       "_model_name": "ProgressStyleModel",
       "_view_count": null,
       "_view_module": "@jupyter-widgets/base",
       "_view_module_version": "1.2.0",
       "_view_name": "StyleView",
       "bar_color": null,
       "description_width": "initial"
      }
     },
     "141e05c1b2ff4c4d99ed3016d3314248": {
      "model_module": "@jupyter-widgets/base",
      "model_module_version": "1.2.0",
      "model_name": "LayoutModel",
      "state": {
       "_model_module": "@jupyter-widgets/base",
       "_model_module_version": "1.2.0",
       "_model_name": "LayoutModel",
       "_view_count": null,
       "_view_module": "@jupyter-widgets/base",
       "_view_module_version": "1.2.0",
       "_view_name": "LayoutView",
       "align_content": null,
       "align_items": null,
       "align_self": null,
       "border": null,
       "bottom": null,
       "display": null,
       "flex": null,
       "flex_flow": null,
       "grid_area": null,
       "grid_auto_columns": null,
       "grid_auto_flow": null,
       "grid_auto_rows": null,
       "grid_column": null,
       "grid_gap": null,
       "grid_row": null,
       "grid_template_areas": null,
       "grid_template_columns": null,
       "grid_template_rows": null,
       "height": null,
       "justify_content": null,
       "justify_items": null,
       "left": null,
       "margin": null,
       "max_height": null,
       "max_width": null,
       "min_height": null,
       "min_width": null,
       "object_fit": null,
       "object_position": null,
       "order": null,
       "overflow": null,
       "overflow_x": null,
       "overflow_y": null,
       "padding": null,
       "right": null,
       "top": null,
       "visibility": null,
       "width": null
      }
     },
     "23fa49c27c6849a5944b336fd0832ba3": {
      "model_module": "@jupyter-widgets/base",
      "model_module_version": "1.2.0",
      "model_name": "LayoutModel",
      "state": {
       "_model_module": "@jupyter-widgets/base",
       "_model_module_version": "1.2.0",
       "_model_name": "LayoutModel",
       "_view_count": null,
       "_view_module": "@jupyter-widgets/base",
       "_view_module_version": "1.2.0",
       "_view_name": "LayoutView",
       "align_content": null,
       "align_items": null,
       "align_self": null,
       "border": null,
       "bottom": null,
       "display": null,
       "flex": null,
       "flex_flow": null,
       "grid_area": null,
       "grid_auto_columns": null,
       "grid_auto_flow": null,
       "grid_auto_rows": null,
       "grid_column": null,
       "grid_gap": null,
       "grid_row": null,
       "grid_template_areas": null,
       "grid_template_columns": null,
       "grid_template_rows": null,
       "height": null,
       "justify_content": null,
       "justify_items": null,
       "left": null,
       "margin": null,
       "max_height": null,
       "max_width": null,
       "min_height": null,
       "min_width": null,
       "object_fit": null,
       "object_position": null,
       "order": null,
       "overflow": null,
       "overflow_x": null,
       "overflow_y": null,
       "padding": null,
       "right": null,
       "top": null,
       "visibility": null,
       "width": null
      }
     },
     "28adc2168e3448768a12276b098365e9": {
      "model_module": "@jupyter-widgets/controls",
      "model_module_version": "1.5.0",
      "model_name": "ProgressStyleModel",
      "state": {
       "_model_module": "@jupyter-widgets/controls",
       "_model_module_version": "1.5.0",
       "_model_name": "ProgressStyleModel",
       "_view_count": null,
       "_view_module": "@jupyter-widgets/base",
       "_view_module_version": "1.2.0",
       "_view_name": "StyleView",
       "bar_color": null,
       "description_width": "initial"
      }
     },
     "4d84cdfe3c4b49509638a6ef57a97166": {
      "model_module": "@jupyter-widgets/controls",
      "model_module_version": "1.5.0",
      "model_name": "HBoxModel",
      "state": {
       "_dom_classes": [],
       "_model_module": "@jupyter-widgets/controls",
       "_model_module_version": "1.5.0",
       "_model_name": "HBoxModel",
       "_view_count": null,
       "_view_module": "@jupyter-widgets/controls",
       "_view_module_version": "1.5.0",
       "_view_name": "HBoxView",
       "box_style": "",
       "children": [
        "IPY_MODEL_cb08b40c73c94fb28153041297d92dd8",
        "IPY_MODEL_5dbd25dccc224d6ea6d8c4bd64995ac6"
       ],
       "layout": "IPY_MODEL_8cccad45e4304a06a8182ca6812b5a0c"
      }
     },
     "520f31cf68514cca82c4c3f07998f4d1": {
      "model_module": "@jupyter-widgets/controls",
      "model_module_version": "1.5.0",
      "model_name": "IntProgressModel",
      "state": {
       "_dom_classes": [],
       "_model_module": "@jupyter-widgets/controls",
       "_model_module_version": "1.5.0",
       "_model_name": "IntProgressModel",
       "_view_count": null,
       "_view_module": "@jupyter-widgets/controls",
       "_view_module_version": "1.5.0",
       "_view_name": "ProgressView",
       "bar_style": "success",
       "description": "Executing: 100%",
       "description_tooltip": null,
       "layout": "IPY_MODEL_73f4420829bd41d1b4229ea76009dbbf",
       "max": 2,
       "min": 0,
       "orientation": "horizontal",
       "style": "IPY_MODEL_28adc2168e3448768a12276b098365e9",
       "value": 2
      }
     },
     "5c5f79f4752f4b308207a6e9c02d76ea": {
      "model_module": "@jupyter-widgets/base",
      "model_module_version": "1.2.0",
      "model_name": "LayoutModel",
      "state": {
       "_model_module": "@jupyter-widgets/base",
       "_model_module_version": "1.2.0",
       "_model_name": "LayoutModel",
       "_view_count": null,
       "_view_module": "@jupyter-widgets/base",
       "_view_module_version": "1.2.0",
       "_view_name": "LayoutView",
       "align_content": null,
       "align_items": null,
       "align_self": null,
       "border": null,
       "bottom": null,
       "display": null,
       "flex": null,
       "flex_flow": null,
       "grid_area": null,
       "grid_auto_columns": null,
       "grid_auto_flow": null,
       "grid_auto_rows": null,
       "grid_column": null,
       "grid_gap": null,
       "grid_row": null,
       "grid_template_areas": null,
       "grid_template_columns": null,
       "grid_template_rows": null,
       "height": null,
       "justify_content": null,
       "justify_items": null,
       "left": null,
       "margin": null,
       "max_height": null,
       "max_width": null,
       "min_height": null,
       "min_width": null,
       "object_fit": null,
       "object_position": null,
       "order": null,
       "overflow": null,
       "overflow_x": null,
       "overflow_y": null,
       "padding": null,
       "right": null,
       "top": null,
       "visibility": null,
       "width": null
      }
     },
     "5dbd25dccc224d6ea6d8c4bd64995ac6": {
      "model_module": "@jupyter-widgets/controls",
      "model_module_version": "1.5.0",
      "model_name": "HTMLModel",
      "state": {
       "_dom_classes": [],
       "_model_module": "@jupyter-widgets/controls",
       "_model_module_version": "1.5.0",
       "_model_name": "HTMLModel",
       "_view_count": null,
       "_view_module": "@jupyter-widgets/controls",
       "_view_module_version": "1.5.0",
       "_view_name": "HTMLView",
       "description": "",
       "description_tooltip": null,
       "layout": "IPY_MODEL_92aed672a801459daa3a0df1930ec384",
       "placeholder": "​",
       "style": "IPY_MODEL_07c6060d55d94493bfbd30b966b98727",
       "value": " 8/8 [00:00&lt;00:00,  8.97row/s]"
      }
     },
     "5dbec74f3cb04c3b8cd2700885cf2028": {
      "model_module": "@jupyter-widgets/base",
      "model_module_version": "1.2.0",
      "model_name": "LayoutModel",
      "state": {
       "_model_module": "@jupyter-widgets/base",
       "_model_module_version": "1.2.0",
       "_model_name": "LayoutModel",
       "_view_count": null,
       "_view_module": "@jupyter-widgets/base",
       "_view_module_version": "1.2.0",
       "_view_name": "LayoutView",
       "align_content": null,
       "align_items": null,
       "align_self": null,
       "border": null,
       "bottom": null,
       "display": null,
       "flex": null,
       "flex_flow": null,
       "grid_area": null,
       "grid_auto_columns": null,
       "grid_auto_flow": null,
       "grid_auto_rows": null,
       "grid_column": null,
       "grid_gap": null,
       "grid_row": null,
       "grid_template_areas": null,
       "grid_template_columns": null,
       "grid_template_rows": null,
       "height": null,
       "justify_content": null,
       "justify_items": null,
       "left": null,
       "margin": null,
       "max_height": null,
       "max_width": null,
       "min_height": null,
       "min_width": null,
       "object_fit": null,
       "object_position": null,
       "order": null,
       "overflow": null,
       "overflow_x": null,
       "overflow_y": null,
       "padding": null,
       "right": null,
       "top": null,
       "visibility": null,
       "width": null
      }
     },
     "647558c87eec4f199b5fc89903e52306": {
      "model_module": "@jupyter-widgets/controls",
      "model_module_version": "1.5.0",
      "model_name": "HTMLModel",
      "state": {
       "_dom_classes": [],
       "_model_module": "@jupyter-widgets/controls",
       "_model_module_version": "1.5.0",
       "_model_name": "HTMLModel",
       "_view_count": null,
       "_view_module": "@jupyter-widgets/controls",
       "_view_module_version": "1.5.0",
       "_view_name": "HTMLView",
       "description": "",
       "description_tooltip": null,
       "layout": "IPY_MODEL_141e05c1b2ff4c4d99ed3016d3314248",
       "placeholder": "​",
       "style": "IPY_MODEL_712f2a9919654cca833ca2e0055d2cfd",
       "value": " 2/2 [00:07&lt;00:00,  3.57s/row]"
      }
     },
     "6f77cb5b73b84f1fbcdd6f6061160e2e": {
      "model_module": "@jupyter-widgets/controls",
      "model_module_version": "1.5.0",
      "model_name": "IntProgressModel",
      "state": {
       "_dom_classes": [],
       "_model_module": "@jupyter-widgets/controls",
       "_model_module_version": "1.5.0",
       "_model_name": "IntProgressModel",
       "_view_count": null,
       "_view_module": "@jupyter-widgets/controls",
       "_view_module_version": "1.5.0",
       "_view_name": "ProgressView",
       "bar_style": "success",
       "description": "Executing: 100%",
       "description_tooltip": null,
       "layout": "IPY_MODEL_5c5f79f4752f4b308207a6e9c02d76ea",
       "max": 4,
       "min": 0,
       "orientation": "horizontal",
       "style": "IPY_MODEL_8025c923d0ae4865817f238533bd6b3a",
       "value": 4
      }
     },
     "712f2a9919654cca833ca2e0055d2cfd": {
      "model_module": "@jupyter-widgets/controls",
      "model_module_version": "1.5.0",
      "model_name": "DescriptionStyleModel",
      "state": {
       "_model_module": "@jupyter-widgets/controls",
       "_model_module_version": "1.5.0",
       "_model_name": "DescriptionStyleModel",
       "_view_count": null,
       "_view_module": "@jupyter-widgets/base",
       "_view_module_version": "1.2.0",
       "_view_name": "StyleView",
       "description_width": ""
      }
     },
     "73f4420829bd41d1b4229ea76009dbbf": {
      "model_module": "@jupyter-widgets/base",
      "model_module_version": "1.2.0",
      "model_name": "LayoutModel",
      "state": {
       "_model_module": "@jupyter-widgets/base",
       "_model_module_version": "1.2.0",
       "_model_name": "LayoutModel",
       "_view_count": null,
       "_view_module": "@jupyter-widgets/base",
       "_view_module_version": "1.2.0",
       "_view_name": "LayoutView",
       "align_content": null,
       "align_items": null,
       "align_self": null,
       "border": null,
       "bottom": null,
       "display": null,
       "flex": null,
       "flex_flow": null,
       "grid_area": null,
       "grid_auto_columns": null,
       "grid_auto_flow": null,
       "grid_auto_rows": null,
       "grid_column": null,
       "grid_gap": null,
       "grid_row": null,
       "grid_template_areas": null,
       "grid_template_columns": null,
       "grid_template_rows": null,
       "height": null,
       "justify_content": null,
       "justify_items": null,
       "left": null,
       "margin": null,
       "max_height": null,
       "max_width": null,
       "min_height": null,
       "min_width": null,
       "object_fit": null,
       "object_position": null,
       "order": null,
       "overflow": null,
       "overflow_x": null,
       "overflow_y": null,
       "padding": null,
       "right": null,
       "top": null,
       "visibility": null,
       "width": null
      }
     },
     "798dcfe6a1b84d399e479ade86afe2b1": {
      "model_module": "@jupyter-widgets/controls",
      "model_module_version": "1.5.0",
      "model_name": "HBoxModel",
      "state": {
       "_dom_classes": [],
       "_model_module": "@jupyter-widgets/controls",
       "_model_module_version": "1.5.0",
       "_model_name": "HBoxModel",
       "_view_count": null,
       "_view_module": "@jupyter-widgets/controls",
       "_view_module_version": "1.5.0",
       "_view_name": "HBoxView",
       "box_style": "",
       "children": [
        "IPY_MODEL_6f77cb5b73b84f1fbcdd6f6061160e2e",
        "IPY_MODEL_f1a0b435d2494b7f96450592635bdc67"
       ],
       "layout": "IPY_MODEL_5dbec74f3cb04c3b8cd2700885cf2028"
      }
     },
     "8025c923d0ae4865817f238533bd6b3a": {
      "model_module": "@jupyter-widgets/controls",
      "model_module_version": "1.5.0",
      "model_name": "ProgressStyleModel",
      "state": {
       "_model_module": "@jupyter-widgets/controls",
       "_model_module_version": "1.5.0",
       "_model_name": "ProgressStyleModel",
       "_view_count": null,
       "_view_module": "@jupyter-widgets/base",
       "_view_module_version": "1.2.0",
       "_view_name": "StyleView",
       "bar_color": null,
       "description_width": "initial"
      }
     },
     "8331e048f82a48a0b136e2847dc7ef1f": {
      "model_module": "@jupyter-widgets/base",
      "model_module_version": "1.2.0",
      "model_name": "LayoutModel",
      "state": {
       "_model_module": "@jupyter-widgets/base",
       "_model_module_version": "1.2.0",
       "_model_name": "LayoutModel",
       "_view_count": null,
       "_view_module": "@jupyter-widgets/base",
       "_view_module_version": "1.2.0",
       "_view_name": "LayoutView",
       "align_content": null,
       "align_items": null,
       "align_self": null,
       "border": null,
       "bottom": null,
       "display": null,
       "flex": null,
       "flex_flow": null,
       "grid_area": null,
       "grid_auto_columns": null,
       "grid_auto_flow": null,
       "grid_auto_rows": null,
       "grid_column": null,
       "grid_gap": null,
       "grid_row": null,
       "grid_template_areas": null,
       "grid_template_columns": null,
       "grid_template_rows": null,
       "height": null,
       "justify_content": null,
       "justify_items": null,
       "left": null,
       "margin": null,
       "max_height": null,
       "max_width": null,
       "min_height": null,
       "min_width": null,
       "object_fit": null,
       "object_position": null,
       "order": null,
       "overflow": null,
       "overflow_x": null,
       "overflow_y": null,
       "padding": null,
       "right": null,
       "top": null,
       "visibility": null,
       "width": null
      }
     },
     "8cccad45e4304a06a8182ca6812b5a0c": {
      "model_module": "@jupyter-widgets/base",
      "model_module_version": "1.2.0",
      "model_name": "LayoutModel",
      "state": {
       "_model_module": "@jupyter-widgets/base",
       "_model_module_version": "1.2.0",
       "_model_name": "LayoutModel",
       "_view_count": null,
       "_view_module": "@jupyter-widgets/base",
       "_view_module_version": "1.2.0",
       "_view_name": "LayoutView",
       "align_content": null,
       "align_items": null,
       "align_self": null,
       "border": null,
       "bottom": null,
       "display": null,
       "flex": null,
       "flex_flow": null,
       "grid_area": null,
       "grid_auto_columns": null,
       "grid_auto_flow": null,
       "grid_auto_rows": null,
       "grid_column": null,
       "grid_gap": null,
       "grid_row": null,
       "grid_template_areas": null,
       "grid_template_columns": null,
       "grid_template_rows": null,
       "height": null,
       "justify_content": null,
       "justify_items": null,
       "left": null,
       "margin": null,
       "max_height": null,
       "max_width": null,
       "min_height": null,
       "min_width": null,
       "object_fit": null,
       "object_position": null,
       "order": null,
       "overflow": null,
       "overflow_x": null,
       "overflow_y": null,
       "padding": null,
       "right": null,
       "top": null,
       "visibility": null,
       "width": null
      }
     },
     "92aed672a801459daa3a0df1930ec384": {
      "model_module": "@jupyter-widgets/base",
      "model_module_version": "1.2.0",
      "model_name": "LayoutModel",
      "state": {
       "_model_module": "@jupyter-widgets/base",
       "_model_module_version": "1.2.0",
       "_model_name": "LayoutModel",
       "_view_count": null,
       "_view_module": "@jupyter-widgets/base",
       "_view_module_version": "1.2.0",
       "_view_name": "LayoutView",
       "align_content": null,
       "align_items": null,
       "align_self": null,
       "border": null,
       "bottom": null,
       "display": null,
       "flex": null,
       "flex_flow": null,
       "grid_area": null,
       "grid_auto_columns": null,
       "grid_auto_flow": null,
       "grid_auto_rows": null,
       "grid_column": null,
       "grid_gap": null,
       "grid_row": null,
       "grid_template_areas": null,
       "grid_template_columns": null,
       "grid_template_rows": null,
       "height": null,
       "justify_content": null,
       "justify_items": null,
       "left": null,
       "margin": null,
       "max_height": null,
       "max_width": null,
       "min_height": null,
       "min_width": null,
       "object_fit": null,
       "object_position": null,
       "order": null,
       "overflow": null,
       "overflow_x": null,
       "overflow_y": null,
       "padding": null,
       "right": null,
       "top": null,
       "visibility": null,
       "width": null
      }
     },
     "ac318c32d3ca449ca1e7b85bd4c0ca17": {
      "model_module": "@jupyter-widgets/controls",
      "model_module_version": "1.5.0",
      "model_name": "DescriptionStyleModel",
      "state": {
       "_model_module": "@jupyter-widgets/controls",
       "_model_module_version": "1.5.0",
       "_model_name": "DescriptionStyleModel",
       "_view_count": null,
       "_view_module": "@jupyter-widgets/base",
       "_view_module_version": "1.2.0",
       "_view_name": "StyleView",
       "description_width": ""
      }
     },
     "b8d147aace4d44e1a99ffa80c550e933": {
      "model_module": "@jupyter-widgets/controls",
      "model_module_version": "1.5.0",
      "model_name": "HBoxModel",
      "state": {
       "_dom_classes": [],
       "_model_module": "@jupyter-widgets/controls",
       "_model_module_version": "1.5.0",
       "_model_name": "HBoxModel",
       "_view_count": null,
       "_view_module": "@jupyter-widgets/controls",
       "_view_module_version": "1.5.0",
       "_view_name": "HBoxView",
       "box_style": "",
       "children": [
        "IPY_MODEL_520f31cf68514cca82c4c3f07998f4d1",
        "IPY_MODEL_647558c87eec4f199b5fc89903e52306"
       ],
       "layout": "IPY_MODEL_8331e048f82a48a0b136e2847dc7ef1f"
      }
     },
     "cb08b40c73c94fb28153041297d92dd8": {
      "model_module": "@jupyter-widgets/controls",
      "model_module_version": "1.5.0",
      "model_name": "IntProgressModel",
      "state": {
       "_dom_classes": [],
       "_model_module": "@jupyter-widgets/controls",
       "_model_module_version": "1.5.0",
       "_model_name": "IntProgressModel",
       "_view_count": null,
       "_view_module": "@jupyter-widgets/controls",
       "_view_module_version": "1.5.0",
       "_view_name": "ProgressView",
       "bar_style": "success",
       "description": "Executing: 100%",
       "description_tooltip": null,
       "layout": "IPY_MODEL_fa979d43deb54ef18f8b0d0e53e916cb",
       "max": 8,
       "min": 0,
       "orientation": "horizontal",
       "style": "IPY_MODEL_0cc4f49f10524e20ae2c2d29ec3d226f",
       "value": 8
      }
     },
     "f1a0b435d2494b7f96450592635bdc67": {
      "model_module": "@jupyter-widgets/controls",
      "model_module_version": "1.5.0",
      "model_name": "HTMLModel",
      "state": {
       "_dom_classes": [],
       "_model_module": "@jupyter-widgets/controls",
       "_model_module_version": "1.5.0",
       "_model_name": "HTMLModel",
       "_view_count": null,
       "_view_module": "@jupyter-widgets/controls",
       "_view_module_version": "1.5.0",
       "_view_name": "HTMLView",
       "description": "",
       "description_tooltip": null,
       "layout": "IPY_MODEL_23fa49c27c6849a5944b336fd0832ba3",
       "placeholder": "​",
       "style": "IPY_MODEL_ac318c32d3ca449ca1e7b85bd4c0ca17",
       "value": " 4/4 [00:06&lt;00:00,  1.72s/row]"
      }
     },
     "fa979d43deb54ef18f8b0d0e53e916cb": {
      "model_module": "@jupyter-widgets/base",
      "model_module_version": "1.2.0",
      "model_name": "LayoutModel",
      "state": {
       "_model_module": "@jupyter-widgets/base",
       "_model_module_version": "1.2.0",
       "_model_name": "LayoutModel",
       "_view_count": null,
       "_view_module": "@jupyter-widgets/base",
       "_view_module_version": "1.2.0",
       "_view_name": "LayoutView",
       "align_content": null,
       "align_items": null,
       "align_self": null,
       "border": null,
       "bottom": null,
       "display": null,
       "flex": null,
       "flex_flow": null,
       "grid_area": null,
       "grid_auto_columns": null,
       "grid_auto_flow": null,
       "grid_auto_rows": null,
       "grid_column": null,
       "grid_gap": null,
       "grid_row": null,
       "grid_template_areas": null,
       "grid_template_columns": null,
       "grid_template_rows": null,
       "height": null,
       "justify_content": null,
       "justify_items": null,
       "left": null,
       "margin": null,
       "max_height": null,
       "max_width": null,
       "min_height": null,
       "min_width": null,
       "object_fit": null,
       "object_position": null,
       "order": null,
       "overflow": null,
       "overflow_x": null,
       "overflow_y": null,
       "padding": null,
       "right": null,
       "top": null,
       "visibility": null,
       "width": null
      }
     }
    },
    "version_major": 2,
    "version_minor": 0
   }
  }
 },
 "nbformat": 4,
 "nbformat_minor": 2
}