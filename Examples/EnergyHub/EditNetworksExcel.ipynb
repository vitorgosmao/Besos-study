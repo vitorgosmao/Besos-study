{
 "cells": [
  {
   "cell_type": "markdown",
   "metadata": {
    "papermill": {
     "duration": 0.008451,
     "end_time": "2019-10-28T23:04:05.560075",
     "exception": false,
     "start_time": "2019-10-28T23:04:05.551624",
     "status": "completed"
    },
    "tags": []
   },
   "source": [
    "# Editing the Excel Network model inside a notebook\n",
    "\n",
    "**ipysheets currently only runs in a standard notebook, not in Jupyter Lab**.  \n",
    "**Open it by going to https://hub.besos.uvic.ca/user/your-username/tree**\n",
    "\n",
    "This notebook displays each sheet of the Excel input file.  \n",
    "These sheets are interactive: edit them inline by clicking on the cells.  \n",
    "Specify the excel filenames below.\n",
    "\n",
    "In the longer term, notebooks will become the main way of specifying models and the Excel format will be depreciated."
   ]
  },
  {
   "cell_type": "code",
   "execution_count": 1,
   "metadata": {
    "papermill": {
     "duration": 0.475218,
     "end_time": "2019-10-28T23:04:06.041890",
     "exception": false,
     "start_time": "2019-10-28T23:04:05.566672",
     "status": "completed"
    },
    "tags": []
   },
   "outputs": [],
   "source": [
    "from openpyxl import load_workbook\n",
    "from ipysheet import from_dataframe, to_dataframe\n",
    "import pandas as pd"
   ]
  },
  {
   "cell_type": "code",
   "execution_count": 2,
   "metadata": {
    "papermill": {
     "duration": 0.074479,
     "end_time": "2019-10-28T23:04:06.122298",
     "exception": false,
     "start_time": "2019-10-28T23:04:06.047819",
     "status": "completed"
    },
    "tags": []
   },
   "outputs": [],
   "source": [
    "excel_file = 'network2.xlsx' # specify the name of your input excel file\n",
    "book = load_workbook(excel_file)\n",
    "\n",
    "reader=pd.ExcelWriter(excel_file, engine='openpyxl')\n",
    "# the writer object\n",
    "writer = pd.ExcelWriter(excel_file, engine='openpyxl',options={'strings_to_numbers': True})\n",
    "writer.book = book\n",
    "writer.sheets = dict((ws.title, ws) for ws in book.worksheets)\n",
    "sheet_names=['Network', 'Network links', 'Capacities']\n",
    "\n",
    "dfr=[]\n",
    "sheetr=[]\n",
    "i=0\n",
    "for current_sheet in sheet_names:\n",
    "    dfr.append(pd.read_excel('network2.xlsx',sheet_name=current_sheet))\n",
    "    dfr[i]=dfr[i].fillna('')\n",
    "    sheetr.append(from_dataframe(dfr[i]))\n",
    "    i+=1"
   ]
  },
  {
   "cell_type": "markdown",
   "metadata": {
    "papermill": {
     "duration": 0.004827,
     "end_time": "2019-10-28T23:04:06.132137",
     "exception": false,
     "start_time": "2019-10-28T23:04:06.127310",
     "status": "completed"
    },
    "tags": []
   },
   "source": [
    "To save changes to a sheet, run the cell just below.\n",
    "\n",
    "Important points to note when working with `ipysheets`:\n",
    "+ `ipysheets` takes some time to save the changes from the edit to memory. These are then saved to the excel file from memory using the 'save' cell. \n",
    "+ Review the changes to memory by rerunning the `ipysheets` cell again to make sure the changes persist in the sheet. Repeat if change isn't seen.\n",
    "+ When your change persists, run the 'save' cell. After executing, a `DataFrame` is displayed below to reflect the changes made to the excel file. \n",
    "+ `ipysheets` can't edit column headings, so we keep a blank row for this, don't remove it.\n",
    "\n",
    "## Network"
   ]
  },
  {
   "cell_type": "code",
   "execution_count": 3,
   "metadata": {
    "papermill": {
     "duration": 0.01252,
     "end_time": "2019-10-28T23:04:06.149573",
     "exception": false,
     "start_time": "2019-10-28T23:04:06.137053",
     "status": "completed"
    },
    "scrolled": true,
    "tags": []
   },
   "outputs": [
    {
     "data": {
      "application/vnd.jupyter.widget-view+json": {
       "model_id": "1dfe54299c664bcea03a24fa2e9c20d9",
       "version_major": 2,
       "version_minor": 0
      },
      "text/plain": [
       "Sheet(cells=(Cell(choice=[], column_end=0, column_start=0, numeric_format=None, row_end=1, row_start=0, squeez…"
      ]
     },
     "metadata": {},
     "output_type": "display_data"
    }
   ],
   "source": [
    "sheetr[0]"
   ]
  },
  {
   "cell_type": "code",
   "execution_count": 4,
   "metadata": {
    "papermill": {
     "duration": 0.03333,
     "end_time": "2019-10-28T23:04:06.189533",
     "exception": false,
     "start_time": "2019-10-28T23:04:06.156203",
     "status": "completed"
    },
    "tags": []
   },
   "outputs": [
    {
     "data": {
      "text/html": [
       "<div>\n",
       "<style scoped>\n",
       "    .dataframe tbody tr th:only-of-type {\n",
       "        vertical-align: middle;\n",
       "    }\n",
       "\n",
       "    .dataframe tbody tr th {\n",
       "        vertical-align: top;\n",
       "    }\n",
       "\n",
       "    .dataframe thead th {\n",
       "        text-align: right;\n",
       "    }\n",
       "</style>\n",
       "<table border=\"1\" class=\"dataframe\">\n",
       "  <thead>\n",
       "    <tr style=\"text-align: right;\">\n",
       "      <th></th>\n",
       "      <th>Unnamed: 0</th>\n",
       "      <th>Unnamed: 1</th>\n",
       "    </tr>\n",
       "  </thead>\n",
       "  <tbody>\n",
       "    <tr>\n",
       "      <td>0</td>\n",
       "      <td>Fixed network investment cost</td>\n",
       "      <td>50</td>\n",
       "    </tr>\n",
       "    <tr>\n",
       "      <td>1</td>\n",
       "      <td>link proportional cost</td>\n",
       "      <td>5</td>\n",
       "    </tr>\n",
       "  </tbody>\n",
       "</table>\n",
       "</div>"
      ],
      "text/plain": [
       "                      Unnamed: 0  Unnamed: 1\n",
       "0  Fixed network investment cost          50\n",
       "1         link proportional cost           5"
      ]
     },
     "execution_count": 4,
     "metadata": {},
     "output_type": "execute_result"
    }
   ],
   "source": [
    "df_0=to_dataframe(sheetr[0])\n",
    "df_0.to_excel(writer,sheet_name=sheet_names[0],index=False,engine='openpyxl',na_rep='')\n",
    "writer.save()\n",
    "df_0"
   ]
  },
  {
   "cell_type": "markdown",
   "metadata": {
    "papermill": {
     "duration": 0.005594,
     "end_time": "2019-10-28T23:04:06.204828",
     "exception": false,
     "start_time": "2019-10-28T23:04:06.199234",
     "status": "completed"
    },
    "tags": []
   },
   "source": [
    "## Network links"
   ]
  },
  {
   "cell_type": "code",
   "execution_count": 5,
   "metadata": {
    "papermill": {
     "duration": 0.01274,
     "end_time": "2019-10-28T23:04:06.223236",
     "exception": false,
     "start_time": "2019-10-28T23:04:06.210496",
     "status": "completed"
    },
    "tags": []
   },
   "outputs": [
    {
     "data": {
      "application/vnd.jupyter.widget-view+json": {
       "model_id": "05a7599e9bdf48549c1956da0c4732c9",
       "version_major": 2,
       "version_minor": 0
      },
      "text/plain": [
       "Sheet(cells=(Cell(choice=[], column_end=0, column_start=0, numeric_format=None, row_end=11, row_start=0, squee…"
      ]
     },
     "metadata": {},
     "output_type": "display_data"
    }
   ],
   "source": [
    "sheetr[1]"
   ]
  },
  {
   "cell_type": "code",
   "execution_count": 6,
   "metadata": {
    "papermill": {
     "duration": 0.027563,
     "end_time": "2019-10-28T23:04:06.256819",
     "exception": false,
     "start_time": "2019-10-28T23:04:06.229256",
     "status": "completed"
    },
    "tags": []
   },
   "outputs": [
    {
     "data": {
      "text/html": [
       "<div>\n",
       "<style scoped>\n",
       "    .dataframe tbody tr th:only-of-type {\n",
       "        vertical-align: middle;\n",
       "    }\n",
       "\n",
       "    .dataframe tbody tr th {\n",
       "        vertical-align: top;\n",
       "    }\n",
       "\n",
       "    .dataframe thead th {\n",
       "        text-align: right;\n",
       "    }\n",
       "</style>\n",
       "<table border=\"1\" class=\"dataframe\">\n",
       "  <thead>\n",
       "    <tr style=\"text-align: right;\">\n",
       "      <th></th>\n",
       "      <th>Unnamed: 0</th>\n",
       "      <th>Unnamed: 1</th>\n",
       "      <th>Unnamed: 2</th>\n",
       "    </tr>\n",
       "  </thead>\n",
       "  <tbody>\n",
       "    <tr>\n",
       "      <td>0</td>\n",
       "      <td>Network link ID*</td>\n",
       "      <td>0</td>\n",
       "      <td>1</td>\n",
       "    </tr>\n",
       "    <tr>\n",
       "      <td>1</td>\n",
       "      <td>Start node ID*</td>\n",
       "      <td>0</td>\n",
       "      <td>0</td>\n",
       "    </tr>\n",
       "    <tr>\n",
       "      <td>2</td>\n",
       "      <td>End node ID*</td>\n",
       "      <td>1</td>\n",
       "      <td>2</td>\n",
       "    </tr>\n",
       "    <tr>\n",
       "      <td>3</td>\n",
       "      <td>Type*</td>\n",
       "      <td></td>\n",
       "      <td></td>\n",
       "    </tr>\n",
       "    <tr>\n",
       "      <td>4</td>\n",
       "      <td>Length</td>\n",
       "      <td>0.5</td>\n",
       "      <td>0.7</td>\n",
       "    </tr>\n",
       "    <tr>\n",
       "      <td>5</td>\n",
       "      <td>Capacity</td>\n",
       "      <td>capacity0</td>\n",
       "      <td>capacity1</td>\n",
       "    </tr>\n",
       "    <tr>\n",
       "      <td>6</td>\n",
       "      <td>Voltage</td>\n",
       "      <td></td>\n",
       "      <td></td>\n",
       "    </tr>\n",
       "    <tr>\n",
       "      <td>7</td>\n",
       "      <td>Electrical resistance</td>\n",
       "      <td></td>\n",
       "      <td></td>\n",
       "    </tr>\n",
       "    <tr>\n",
       "      <td>8</td>\n",
       "      <td>Electrical reactance</td>\n",
       "      <td></td>\n",
       "      <td></td>\n",
       "    </tr>\n",
       "    <tr>\n",
       "      <td>9</td>\n",
       "      <td>Total thermal loss</td>\n",
       "      <td>0.99</td>\n",
       "      <td>0.98</td>\n",
       "    </tr>\n",
       "    <tr>\n",
       "      <td>10</td>\n",
       "      <td>Total pressure loss</td>\n",
       "      <td></td>\n",
       "      <td></td>\n",
       "    </tr>\n",
       "    <tr>\n",
       "      <td>11</td>\n",
       "      <td>Operating temperature</td>\n",
       "      <td></td>\n",
       "      <td></td>\n",
       "    </tr>\n",
       "  </tbody>\n",
       "</table>\n",
       "</div>"
      ],
      "text/plain": [
       "               Unnamed: 0 Unnamed: 1 Unnamed: 2\n",
       "0        Network link ID*          0          1\n",
       "1          Start node ID*          0          0\n",
       "2            End node ID*          1          2\n",
       "3                   Type*                      \n",
       "4                  Length        0.5        0.7\n",
       "5                Capacity  capacity0  capacity1\n",
       "6                 Voltage                      \n",
       "7   Electrical resistance                      \n",
       "8    Electrical reactance                      \n",
       "9      Total thermal loss       0.99       0.98\n",
       "10    Total pressure loss                      \n",
       "11  Operating temperature                      "
      ]
     },
     "execution_count": 6,
     "metadata": {},
     "output_type": "execute_result"
    }
   ],
   "source": [
    "df_1=to_dataframe(sheetr[1])\n",
    "df_1.to_excel(writer,sheet_name=sheet_names[1],index=False,engine='openpyxl',na_rep='')\n",
    "writer.save()\n",
    "df_1"
   ]
  },
  {
   "cell_type": "markdown",
   "metadata": {
    "papermill": {
     "duration": 0.006536,
     "end_time": "2019-10-28T23:04:06.270598",
     "exception": false,
     "start_time": "2019-10-28T23:04:06.264062",
     "status": "completed"
    },
    "tags": []
   },
   "source": [
    "## Capacities"
   ]
  },
  {
   "cell_type": "code",
   "execution_count": 7,
   "metadata": {
    "papermill": {
     "duration": 0.014096,
     "end_time": "2019-10-28T23:04:06.291342",
     "exception": false,
     "start_time": "2019-10-28T23:04:06.277246",
     "status": "completed"
    },
    "scrolled": true,
    "tags": []
   },
   "outputs": [
    {
     "data": {
      "application/vnd.jupyter.widget-view+json": {
       "model_id": "ca41b35c6ba246af914cbb05acadf455",
       "version_major": 2,
       "version_minor": 0
      },
      "text/plain": [
       "Sheet(cells=(Cell(choice=[], column_end=0, column_start=0, numeric_format=None, row_end=5, row_start=0, squeez…"
      ]
     },
     "metadata": {},
     "output_type": "display_data"
    }
   ],
   "source": [
    "sheetr[2]"
   ]
  },
  {
   "cell_type": "code",
   "execution_count": 8,
   "metadata": {
    "papermill": {
     "duration": 0.027968,
     "end_time": "2019-10-28T23:04:06.325893",
     "exception": false,
     "start_time": "2019-10-28T23:04:06.297925",
     "status": "completed"
    },
    "tags": []
   },
   "outputs": [
    {
     "data": {
      "text/html": [
       "<div>\n",
       "<style scoped>\n",
       "    .dataframe tbody tr th:only-of-type {\n",
       "        vertical-align: middle;\n",
       "    }\n",
       "\n",
       "    .dataframe tbody tr th {\n",
       "        vertical-align: top;\n",
       "    }\n",
       "\n",
       "    .dataframe thead th {\n",
       "        text-align: right;\n",
       "    }\n",
       "</style>\n",
       "<table border=\"1\" class=\"dataframe\">\n",
       "  <thead>\n",
       "    <tr style=\"text-align: right;\">\n",
       "      <th></th>\n",
       "      <th>Unnamed: 0</th>\n",
       "      <th>Unnamed: 1</th>\n",
       "      <th>Unnamed: 2</th>\n",
       "    </tr>\n",
       "  </thead>\n",
       "  <tbody>\n",
       "    <tr>\n",
       "      <td>0</td>\n",
       "      <td>Name</td>\n",
       "      <td>capacity0</td>\n",
       "      <td>capacity1</td>\n",
       "    </tr>\n",
       "    <tr>\n",
       "      <td>1</td>\n",
       "      <td>Units</td>\n",
       "      <td></td>\n",
       "      <td></td>\n",
       "    </tr>\n",
       "    <tr>\n",
       "      <td>2</td>\n",
       "      <td>Type</td>\n",
       "      <td>Continuous</td>\n",
       "      <td>Continuous</td>\n",
       "    </tr>\n",
       "    <tr>\n",
       "      <td>3</td>\n",
       "      <td>Options</td>\n",
       "      <td></td>\n",
       "      <td></td>\n",
       "    </tr>\n",
       "    <tr>\n",
       "      <td>4</td>\n",
       "      <td>Lower bound</td>\n",
       "      <td>0</td>\n",
       "      <td>0</td>\n",
       "    </tr>\n",
       "    <tr>\n",
       "      <td>5</td>\n",
       "      <td>Upper bound</td>\n",
       "      <td>9999</td>\n",
       "      <td>9999</td>\n",
       "    </tr>\n",
       "  </tbody>\n",
       "</table>\n",
       "</div>"
      ],
      "text/plain": [
       "    Unnamed: 0  Unnamed: 1  Unnamed: 2\n",
       "0         Name   capacity0   capacity1\n",
       "1        Units                        \n",
       "2         Type  Continuous  Continuous\n",
       "3      Options                        \n",
       "4  Lower bound           0           0\n",
       "5  Upper bound        9999        9999"
      ]
     },
     "execution_count": 8,
     "metadata": {},
     "output_type": "execute_result"
    }
   ],
   "source": [
    "df_2=to_dataframe(sheetr[2])\n",
    "df_2.to_excel(writer,sheet_name=sheet_names[2],index=False,engine='openpyxl',na_rep='')\n",
    "writer.save()\n",
    "df_2"
   ]
  },
  {
   "cell_type": "code",
   "execution_count": null,
   "metadata": {
    "papermill": {
     "duration": 0.006704,
     "end_time": "2019-10-28T23:04:06.339291",
     "exception": false,
     "start_time": "2019-10-28T23:04:06.332587",
     "status": "completed"
    },
    "tags": []
   },
   "outputs": [],
   "source": []
  }
 ],
 "metadata": {
  "kernelspec": {
   "display_name": "Python 3",
   "language": "python",
   "name": "python3"
  },
  "language_info": {
   "codemirror_mode": {
    "name": "ipython",
    "version": 3
   },
   "file_extension": ".py",
   "mimetype": "text/x-python",
   "name": "python",
   "nbconvert_exporter": "python",
   "pygments_lexer": "ipython3",
   "version": "3.6.4"
  },
  "papermill": {
   "duration": 1.758362,
   "end_time": "2019-10-28T23:04:06.653369",
   "environment_variables": {},
   "exception": null,
   "input_path": "./EnergyHub/EditNetworksExcel.ipynb",
   "output_path": "./EnergyHub/EditNetworksExcel.ipynb",
   "parameters": {},
   "start_time": "2019-10-28T23:04:04.895007",
   "version": "1.2.0"
  },
  "widgets": {
   "application/vnd.jupyter.widget-state+json": {
    "state": {
     "05a7599e9bdf48549c1956da0c4732c9": {
      "model_module": "ipysheet",
      "model_module_version": "~0.4.3",
      "model_name": "SheetModel",
      "state": {
       "_dom_classes": [],
       "_model_module": "ipysheet",
       "_model_module_version": "~0.4.3",
       "_model_name": "SheetModel",
       "_view_count": null,
       "_view_module": "ipysheet",
       "_view_module_version": "~0.4.3",
       "_view_name": "SheetView",
       "cells": [
        "IPY_MODEL_399b97f0f5c5431e9dbf37b0dd462d26",
        "IPY_MODEL_4134258e66ac45e5b7173631a37ee516",
        "IPY_MODEL_5922d3f4a2c74965be02f62a6e898feb"
       ],
       "column_headers": [
        "Unnamed: 0",
        "Unnamed: 1",
        "Unnamed: 2"
       ],
       "column_resizing": true,
       "column_width": null,
       "columns": 3,
       "layout": "IPY_MODEL_361220b2a5364f3aa4b66e88ce751f59",
       "named_cells": {},
       "row_headers": [
        "0",
        "1",
        "2",
        "3",
        "4",
        "5",
        "6",
        "7",
        "8",
        "9",
        "10",
        "11"
       ],
       "row_resizing": true,
       "rows": 12,
       "search_token": "",
       "stretch_headers": "all"
      }
     },
     "127c07f07457481b8f403ff8cfd14abd": {
      "model_module": "ipysheet",
      "model_module_version": "~0.4.3",
      "model_name": "CellRangeModel",
      "state": {
       "_model_module": "ipysheet",
       "_model_module_version": "~0.4.3",
       "_model_name": "CellRangeModel",
       "_view_count": null,
       "_view_module": null,
       "_view_module_version": "",
       "_view_name": null,
       "choice": [],
       "column_end": 0,
       "column_start": 0,
       "date_format": "YYYY/MM/DD",
       "name": null,
       "numeric_format": null,
       "read_only": false,
       "renderer": null,
       "row_end": 5,
       "row_start": 0,
       "squeeze_column": true,
       "squeeze_row": false,
       "style": {},
       "time_format": "h:mm:ss a",
       "transpose": false,
       "type": "text",
       "value": [
        "Name",
        "Units",
        "Type",
        "Options",
        "Lower bound",
        "Upper bound"
       ]
      }
     },
     "1dfe54299c664bcea03a24fa2e9c20d9": {
      "model_module": "ipysheet",
      "model_module_version": "~0.4.3",
      "model_name": "SheetModel",
      "state": {
       "_dom_classes": [],
       "_model_module": "ipysheet",
       "_model_module_version": "~0.4.3",
       "_model_name": "SheetModel",
       "_view_count": null,
       "_view_module": "ipysheet",
       "_view_module_version": "~0.4.3",
       "_view_name": "SheetView",
       "cells": [
        "IPY_MODEL_aa3f81a47998415e97116af067a7999e",
        "IPY_MODEL_9ff27a3eb91640ff91d2736e8f3c59ef"
       ],
       "column_headers": [
        "Unnamed: 0",
        "Unnamed: 1"
       ],
       "column_resizing": true,
       "column_width": null,
       "columns": 2,
       "layout": "IPY_MODEL_751cfffe72024c0a9b2005825722baa0",
       "named_cells": {},
       "row_headers": [
        "0",
        "1"
       ],
       "row_resizing": true,
       "rows": 2,
       "search_token": "",
       "stretch_headers": "all"
      }
     },
     "31a92f45a5ba4563ba30af201637066b": {
      "model_module": "ipysheet",
      "model_module_version": "~0.4.3",
      "model_name": "CellRangeModel",
      "state": {
       "_model_module": "ipysheet",
       "_model_module_version": "~0.4.3",
       "_model_name": "CellRangeModel",
       "_view_count": null,
       "_view_module": null,
       "_view_module_version": "",
       "_view_name": null,
       "choice": [],
       "column_end": 2,
       "column_start": 2,
       "date_format": "YYYY/MM/DD",
       "name": null,
       "numeric_format": null,
       "read_only": false,
       "renderer": null,
       "row_end": 5,
       "row_start": 0,
       "squeeze_column": true,
       "squeeze_row": false,
       "style": {},
       "time_format": "h:mm:ss a",
       "transpose": false,
       "type": "text",
       "value": [
        "capacity1",
        "",
        "Continuous",
        "",
        "0",
        "9999"
       ]
      }
     },
     "361220b2a5364f3aa4b66e88ce751f59": {
      "model_module": "@jupyter-widgets/base",
      "model_module_version": "1.2.0",
      "model_name": "LayoutModel",
      "state": {
       "_model_module": "@jupyter-widgets/base",
       "_model_module_version": "1.2.0",
       "_model_name": "LayoutModel",
       "_view_count": null,
       "_view_module": "@jupyter-widgets/base",
       "_view_module_version": "1.2.0",
       "_view_name": "LayoutView",
       "align_content": null,
       "align_items": null,
       "align_self": null,
       "border": null,
       "bottom": null,
       "display": null,
       "flex": null,
       "flex_flow": null,
       "grid_area": null,
       "grid_auto_columns": null,
       "grid_auto_flow": null,
       "grid_auto_rows": null,
       "grid_column": null,
       "grid_gap": null,
       "grid_row": null,
       "grid_template_areas": null,
       "grid_template_columns": null,
       "grid_template_rows": null,
       "height": "auto",
       "justify_content": null,
       "justify_items": null,
       "left": null,
       "margin": null,
       "max_height": null,
       "max_width": null,
       "min_height": null,
       "min_width": null,
       "object_fit": null,
       "object_position": null,
       "order": null,
       "overflow": null,
       "overflow_x": null,
       "overflow_y": null,
       "padding": null,
       "right": null,
       "top": null,
       "visibility": null,
       "width": "auto"
      }
     },
     "399b97f0f5c5431e9dbf37b0dd462d26": {
      "model_module": "ipysheet",
      "model_module_version": "~0.4.3",
      "model_name": "CellRangeModel",
      "state": {
       "_model_module": "ipysheet",
       "_model_module_version": "~0.4.3",
       "_model_name": "CellRangeModel",
       "_view_count": null,
       "_view_module": null,
       "_view_module_version": "",
       "_view_name": null,
       "choice": [],
       "column_end": 0,
       "column_start": 0,
       "date_format": "YYYY/MM/DD",
       "name": null,
       "numeric_format": null,
       "read_only": false,
       "renderer": null,
       "row_end": 11,
       "row_start": 0,
       "squeeze_column": true,
       "squeeze_row": false,
       "style": {},
       "time_format": "h:mm:ss a",
       "transpose": false,
       "type": "text",
       "value": [
        "Network link ID*",
        "Start node ID*",
        "End node ID*",
        "Type*",
        "Length",
        "Capacity",
        "Voltage",
        "Electrical resistance",
        "Electrical reactance",
        "Total thermal loss",
        "Total pressure loss",
        "Operating temperature"
       ]
      }
     },
     "4134258e66ac45e5b7173631a37ee516": {
      "model_module": "ipysheet",
      "model_module_version": "~0.4.3",
      "model_name": "CellRangeModel",
      "state": {
       "_model_module": "ipysheet",
       "_model_module_version": "~0.4.3",
       "_model_name": "CellRangeModel",
       "_view_count": null,
       "_view_module": null,
       "_view_module_version": "",
       "_view_name": null,
       "choice": [],
       "column_end": 1,
       "column_start": 1,
       "date_format": "YYYY/MM/DD",
       "name": null,
       "numeric_format": null,
       "read_only": false,
       "renderer": null,
       "row_end": 11,
       "row_start": 0,
       "squeeze_column": true,
       "squeeze_row": false,
       "style": {},
       "time_format": "h:mm:ss a",
       "transpose": false,
       "type": "text",
       "value": [
        "0",
        "0",
        "1",
        "",
        "0.5",
        "capacity0",
        "",
        "",
        "",
        "0.99",
        "",
        ""
       ]
      }
     },
     "5922d3f4a2c74965be02f62a6e898feb": {
      "model_module": "ipysheet",
      "model_module_version": "~0.4.3",
      "model_name": "CellRangeModel",
      "state": {
       "_model_module": "ipysheet",
       "_model_module_version": "~0.4.3",
       "_model_name": "CellRangeModel",
       "_view_count": null,
       "_view_module": null,
       "_view_module_version": "",
       "_view_name": null,
       "choice": [],
       "column_end": 2,
       "column_start": 2,
       "date_format": "YYYY/MM/DD",
       "name": null,
       "numeric_format": null,
       "read_only": false,
       "renderer": null,
       "row_end": 11,
       "row_start": 0,
       "squeeze_column": true,
       "squeeze_row": false,
       "style": {},
       "time_format": "h:mm:ss a",
       "transpose": false,
       "type": "text",
       "value": [
        "1",
        "0",
        "2",
        "",
        "0.7",
        "capacity1",
        "",
        "",
        "",
        "0.98",
        "",
        ""
       ]
      }
     },
     "751cfffe72024c0a9b2005825722baa0": {
      "model_module": "@jupyter-widgets/base",
      "model_module_version": "1.2.0",
      "model_name": "LayoutModel",
      "state": {
       "_model_module": "@jupyter-widgets/base",
       "_model_module_version": "1.2.0",
       "_model_name": "LayoutModel",
       "_view_count": null,
       "_view_module": "@jupyter-widgets/base",
       "_view_module_version": "1.2.0",
       "_view_name": "LayoutView",
       "align_content": null,
       "align_items": null,
       "align_self": null,
       "border": null,
       "bottom": null,
       "display": null,
       "flex": null,
       "flex_flow": null,
       "grid_area": null,
       "grid_auto_columns": null,
       "grid_auto_flow": null,
       "grid_auto_rows": null,
       "grid_column": null,
       "grid_gap": null,
       "grid_row": null,
       "grid_template_areas": null,
       "grid_template_columns": null,
       "grid_template_rows": null,
       "height": "auto",
       "justify_content": null,
       "justify_items": null,
       "left": null,
       "margin": null,
       "max_height": null,
       "max_width": null,
       "min_height": null,
       "min_width": null,
       "object_fit": null,
       "object_position": null,
       "order": null,
       "overflow": null,
       "overflow_x": null,
       "overflow_y": null,
       "padding": null,
       "right": null,
       "top": null,
       "visibility": null,
       "width": "auto"
      }
     },
     "9ff27a3eb91640ff91d2736e8f3c59ef": {
      "model_module": "ipysheet",
      "model_module_version": "~0.4.3",
      "model_name": "CellRangeModel",
      "state": {
       "_model_module": "ipysheet",
       "_model_module_version": "~0.4.3",
       "_model_name": "CellRangeModel",
       "_view_count": null,
       "_view_module": null,
       "_view_module_version": "",
       "_view_name": null,
       "choice": [],
       "column_end": 1,
       "column_start": 1,
       "date_format": "YYYY/MM/DD",
       "name": null,
       "numeric_format": "0[.]0",
       "read_only": false,
       "renderer": null,
       "row_end": 1,
       "row_start": 0,
       "squeeze_column": true,
       "squeeze_row": false,
       "style": {},
       "time_format": "h:mm:ss a",
       "transpose": false,
       "type": "numeric",
       "value": [
        50,
        5
       ]
      }
     },
     "a7fd6bb743bb45cc89fcb5d06bcc4595": {
      "model_module": "ipysheet",
      "model_module_version": "~0.4.3",
      "model_name": "CellRangeModel",
      "state": {
       "_model_module": "ipysheet",
       "_model_module_version": "~0.4.3",
       "_model_name": "CellRangeModel",
       "_view_count": null,
       "_view_module": null,
       "_view_module_version": "",
       "_view_name": null,
       "choice": [],
       "column_end": 1,
       "column_start": 1,
       "date_format": "YYYY/MM/DD",
       "name": null,
       "numeric_format": null,
       "read_only": false,
       "renderer": null,
       "row_end": 5,
       "row_start": 0,
       "squeeze_column": true,
       "squeeze_row": false,
       "style": {},
       "time_format": "h:mm:ss a",
       "transpose": false,
       "type": "text",
       "value": [
        "capacity0",
        "",
        "Continuous",
        "",
        "0",
        "9999"
       ]
      }
     },
     "aa3f81a47998415e97116af067a7999e": {
      "model_module": "ipysheet",
      "model_module_version": "~0.4.3",
      "model_name": "CellRangeModel",
      "state": {
       "_model_module": "ipysheet",
       "_model_module_version": "~0.4.3",
       "_model_name": "CellRangeModel",
       "_view_count": null,
       "_view_module": null,
       "_view_module_version": "",
       "_view_name": null,
       "choice": [],
       "column_end": 0,
       "column_start": 0,
       "date_format": "YYYY/MM/DD",
       "name": null,
       "numeric_format": null,
       "read_only": false,
       "renderer": null,
       "row_end": 1,
       "row_start": 0,
       "squeeze_column": true,
       "squeeze_row": false,
       "style": {},
       "time_format": "h:mm:ss a",
       "transpose": false,
       "type": "text",
       "value": [
        "Fixed network investment cost",
        "link proportional cost"
       ]
      }
     },
     "bea64d472a8a4ad7be497d2f9a079a08": {
      "model_module": "@jupyter-widgets/base",
      "model_module_version": "1.2.0",
      "model_name": "LayoutModel",
      "state": {
       "_model_module": "@jupyter-widgets/base",
       "_model_module_version": "1.2.0",
       "_model_name": "LayoutModel",
       "_view_count": null,
       "_view_module": "@jupyter-widgets/base",
       "_view_module_version": "1.2.0",
       "_view_name": "LayoutView",
       "align_content": null,
       "align_items": null,
       "align_self": null,
       "border": null,
       "bottom": null,
       "display": null,
       "flex": null,
       "flex_flow": null,
       "grid_area": null,
       "grid_auto_columns": null,
       "grid_auto_flow": null,
       "grid_auto_rows": null,
       "grid_column": null,
       "grid_gap": null,
       "grid_row": null,
       "grid_template_areas": null,
       "grid_template_columns": null,
       "grid_template_rows": null,
       "height": "auto",
       "justify_content": null,
       "justify_items": null,
       "left": null,
       "margin": null,
       "max_height": null,
       "max_width": null,
       "min_height": null,
       "min_width": null,
       "object_fit": null,
       "object_position": null,
       "order": null,
       "overflow": null,
       "overflow_x": null,
       "overflow_y": null,
       "padding": null,
       "right": null,
       "top": null,
       "visibility": null,
       "width": "auto"
      }
     },
     "ca41b35c6ba246af914cbb05acadf455": {
      "model_module": "ipysheet",
      "model_module_version": "~0.4.3",
      "model_name": "SheetModel",
      "state": {
       "_dom_classes": [],
       "_model_module": "ipysheet",
       "_model_module_version": "~0.4.3",
       "_model_name": "SheetModel",
       "_view_count": null,
       "_view_module": "ipysheet",
       "_view_module_version": "~0.4.3",
       "_view_name": "SheetView",
       "cells": [
        "IPY_MODEL_127c07f07457481b8f403ff8cfd14abd",
        "IPY_MODEL_a7fd6bb743bb45cc89fcb5d06bcc4595",
        "IPY_MODEL_31a92f45a5ba4563ba30af201637066b"
       ],
       "column_headers": [
        "Unnamed: 0",
        "Unnamed: 1",
        "Unnamed: 2"
       ],
       "column_resizing": true,
       "column_width": null,
       "columns": 3,
       "layout": "IPY_MODEL_bea64d472a8a4ad7be497d2f9a079a08",
       "named_cells": {},
       "row_headers": [
        "0",
        "1",
        "2",
        "3",
        "4",
        "5"
       ],
       "row_resizing": true,
       "rows": 6,
       "search_token": "",
       "stretch_headers": "all"
      }
     }
    },
    "version_major": 2,
    "version_minor": 0
   }
  }
 },
 "nbformat": 4,
 "nbformat_minor": 2
}
