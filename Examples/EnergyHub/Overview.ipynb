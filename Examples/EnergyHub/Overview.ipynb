{
 "cells": [
  {
   "cell_type": "markdown",
   "metadata": {
    "papermill": {
     "duration": 0.010818,
     "end_time": "2019-10-28T23:04:15.569525",
     "exception": false,
     "start_time": "2019-10-28T23:04:15.558707",
     "status": "completed"
    },
    "tags": []
   },
   "source": [
    "# Overview of Energy Hub modelling on BESOS\n",
    "\n",
    "The Energy Hub model implemented in Python in the [PyEHub repository](https://gitlab.com/energyincities/python-ehub) optimizes operational energy balancing and desig selection and sizing of an energy system given technical, economical and environmental constraints [[1]].  \n",
    "The module is provided as part of BESOS, where a Jupyter Notebook can be used to set up  a basic model, customise it, run it and plot the results. A series of examples are given below.\n",
    "\n",
    "[1]:https://www.sciencedirect.com/science/article/pii/S0142061512000701"
   ]
  },
  {
   "cell_type": "markdown",
   "metadata": {
    "papermill": {
     "duration": 0.007659,
     "end_time": "2019-10-28T23:04:15.589977",
     "exception": false,
     "start_time": "2019-10-28T23:04:15.582318",
     "status": "completed"
    },
    "tags": []
   },
   "source": [
    "## Basic workflow\n",
    "\n",
    "The figure below shows the original EHub workflow to run a model defined in an Excel file which describes the system layout, convertors, storage system(s), energy streams and timeseries.  \n",
    "Several [tutorials and examples](https://gitlab.com/energyincities/python-ehub/tree/master/pyehub/tutorials) are available through GitLab on how to setup up this input file. This gets parsed into model data, which is used to set up the problem constraints, which are passed to a solver like CPlex or GLPK to find the least cost solution. This solution is printed to the terminal and to an output Excel file."
   ]
  },
  {
   "cell_type": "markdown",
   "metadata": {
    "papermill": {
     "duration": 0.005407,
     "end_time": "2019-10-28T23:04:15.601600",
     "exception": false,
     "start_time": "2019-10-28T23:04:15.596193",
     "status": "completed"
    },
    "tags": []
   },
   "source": [
    "<img src=\"images/original.png\" alt=\"Offline method of running EHub\"\n",
    "title=\"Offline method of running EHub\" width=\"800\" />\n",
    "\n",
    "_Simple PyEHub workflow._"
   ]
  },
  {
   "cell_type": "markdown",
   "metadata": {
    "papermill": {
     "duration": 0.004671,
     "end_time": "2019-10-28T23:04:15.610767",
     "exception": false,
     "start_time": "2019-10-28T23:04:15.606096",
     "status": "completed"
    },
    "tags": []
   },
   "source": [
    "- [Run EHub](RunEHub.ipynb) is a simple example that walks through the use of EHub using the original workflow.\n",
    "- [Exploring Command Line Features of EHub](ExploringCommandLine.ipynb) explains the command line features of the EHub model."
   ]
  },
  {
   "cell_type": "markdown",
   "metadata": {
    "papermill": {
     "duration": 0.004836,
     "end_time": "2019-10-28T23:04:15.619769",
     "exception": false,
     "start_time": "2019-10-28T23:04:15.614933",
     "status": "completed"
    },
    "tags": []
   },
   "source": [
    "## Using PyEHub features via Jupyter Notebooks\n",
    "\n",
    "The figure below shows the workflow on BESOS. We make use of Jupyter Notebooks to make changes to the model definition file, extend the base PyEHub code, run model variations, read the outputs into a pandas `DataFrame` and plot them.\n",
    "\n"
   ]
  },
  {
   "cell_type": "markdown",
   "metadata": {
    "papermill": {
     "duration": 0.004737,
     "end_time": "2019-10-28T23:04:15.629171",
     "exception": false,
     "start_time": "2019-10-28T23:04:15.624434",
     "status": "completed"
    },
    "tags": []
   },
   "source": [
    "<img src=\"images/besos_adaptations.png\" alt=\"Adaptations to run EHub from within jupyter notebooks\"\n",
    "title=\"Adaptations to run EHub from within jupyter notebooks\" width=\"1200\" />\n",
    "\n",
    "_Jupyter Notebook based workflow for Energy Hub modelling on BESOS._"
   ]
  },
  {
   "cell_type": "markdown",
   "metadata": {
    "papermill": {
     "duration": 0.004307,
     "end_time": "2019-10-28T23:04:15.638324",
     "exception": false,
     "start_time": "2019-10-28T23:04:15.634017",
     "status": "completed"
    },
    "tags": []
   },
   "source": [
    "The following notebooks give examples of interacting with Energy Hub model from a notebook.  \n",
    "The core model is customised in various ways, then applied to an Excel-based model file.\n",
    "\n",
    "- [Adding custom constraints](CustomConstraints.ipynb) shows how to add three different types of custom constraints.\n",
    "- [Modify existing constraint](ModifyExistingConstraint.ipynb) edits an existing constraint of the base model to add a subsidy for certain renewable technologies.\n",
    "- [Remove existing constraint](RemoveConstraint.ipynb) turns off an existing constraint.\n",
    "- [Rooftop Constraint](LimitedArea.ipynb) adds a constraint which limits roof size on which solar technologies can be installed.\n",
    "- [Time Varying Grid Price](TimeVaryingGridPrice.ipynb) adds a time series which represents grid price.\n",
    "- [Time Resolved Carbon Factors](TimeResolvedCarbonFactors.ipynb) combines Energy Hub modelling in BESOS with analysis of the wider power system using SILVER.\n",
    "- [Storage plots](StoragePlots.ipynb) gives graphical results showing how a storage device is operated.\n",
    "- [Overriding Input Data](OverridingInputData.ipynb) gets load data for some typical days from a separate file, overwrites the time series and solves the model for each time series. Outputs are stored in a single `DataFrame` and key items are printed.\n",
    "- [Workshop - Remote Communities](Workshop_RemoteCommunities.ipynb) outlines the process of modelling energy systems for remote communities. This includes reading data, optimizing parameters, and visualizing the results "
   ]
  },
  {
   "cell_type": "markdown",
   "metadata": {
    "papermill": {
     "duration": 0.004027,
     "end_time": "2019-10-28T23:04:15.647304",
     "exception": false,
     "start_time": "2019-10-28T23:04:15.643277",
     "status": "completed"
    },
    "tags": []
   },
   "source": [
    "## Multiple Hubs\n",
    "The Energy Hub model can provide useful results for just one hub, but the real power of the model is when multiple hubs are linked together.\n",
    "- [Multiple Hubs](Networks/MultipleHubs.ipynb) gives an overview of how hubs are linked together.\n",
    "- [Linear Powerflow](Networks/LinearPowerflow.ipynb) adds linear powerflow constraints to the Energy Hub model."
   ]
  },
  {
   "cell_type": "markdown",
   "metadata": {
    "papermill": {
     "duration": 0.003837,
     "end_time": "2019-10-28T23:04:15.655181",
     "exception": false,
     "start_time": "2019-10-28T23:04:15.651344",
     "status": "completed"
    },
    "tags": []
   },
   "source": [
    "### Editing the Excel files in Notebooks\n",
    "The Excel file(s) that define a model can also be edited from a notebook.\n",
    "- [Edit Excel](EditExcel.ipynb) is a notebook to edit the input excel file.\n",
    "- [Edit Networks Excel](EditNetworksExcel.ipynb) is a notebook to edit the networks excel file."
   ]
  },
  {
   "cell_type": "markdown",
   "metadata": {
    "papermill": {
     "duration": 0.003937,
     "end_time": "2019-10-28T23:04:15.663193",
     "exception": false,
     "start_time": "2019-10-28T23:04:15.659256",
     "status": "completed"
    },
    "tags": []
   },
   "source": [
    "## EHEvaluator and Parameter Editor\n",
    " \n",
    "Several functions are provided for integration with the rest of BESOS.\n",
    "\n",
    "The `EHEvaluator` allows an Energy Hub model to be called via the BESOS `Evaluator` class.  \n",
    "This is useful for integration with the EnergyPlus and Surrogate Modelling Evaluators.\n",
    "- [EHEvaluator](EHEvaluator.ipynb) demonstrates the EHEvaulator.\n",
    "- [EP to EH Evaluators](EPtoEHEvaluators.ipynb) shows how to combine an Energy Hub and and EnergyPlus Evaluator.\n",
    "\n",
    "The `pyehub_parameter_editor` function is used by the `EHEvaluator` for defining `Parameters`. \n",
    "- [PyEHub Parameter Editor](ParameterEditor.ipynb) shows how to define BESOS Parameters for PyEHub models."
   ]
  },
  {
   "cell_type": "code",
   "execution_count": null,
   "metadata": {
    "papermill": {
     "duration": 0.00407,
     "end_time": "2019-10-28T23:04:15.671414",
     "exception": false,
     "start_time": "2019-10-28T23:04:15.667344",
     "status": "completed"
    },
    "tags": []
   },
   "outputs": [],
   "source": []
  }
 ],
 "metadata": {
  "kernelspec": {
   "display_name": "Python 3",
   "language": "python",
   "name": "python3"
  },
  "language_info": {
   "codemirror_mode": {
    "name": "ipython",
    "version": 3
   },
   "file_extension": ".py",
   "mimetype": "text/x-python",
   "name": "python",
   "nbconvert_exporter": "python",
   "pygments_lexer": "ipython3",
   "version": "3.7.4"
  },
  "papermill": {
   "duration": 0.9933,
   "end_time": "2019-10-28T23:04:15.881427",
   "environment_variables": {},
   "exception": null,
   "input_path": "./EnergyHub/Overview.ipynb",
   "output_path": "./EnergyHub/Overview.ipynb",
   "parameters": {},
   "start_time": "2019-10-28T23:04:14.888127",
   "version": "1.2.0"
  }
 },
 "nbformat": 4,
 "nbformat_minor": 2
}
