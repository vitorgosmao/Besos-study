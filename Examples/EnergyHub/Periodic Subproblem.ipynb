{
 "cells": [
  {
   "cell_type": "markdown",
   "metadata": {
    "papermill": {
     "duration": 0.017775,
     "end_time": "2019-10-28T23:03:26.452004",
     "exception": false,
     "start_time": "2019-10-28T23:03:26.434229",
     "status": "completed"
    },
    "tags": []
   },
   "source": [
    "# Periodic Subproblems\n",
    "\n",
    "Here we show how `multiple_run_period.py` splits one hub object so that it can be a series of smaller hubs."
   ]
  },
  {
   "cell_type": "code",
   "execution_count": 1,
   "metadata": {
    "papermill": {
     "duration": 0.86821,
     "end_time": "2019-10-28T23:03:27.337176",
     "exception": false,
     "start_time": "2019-10-28T23:03:26.468966",
     "status": "completed"
    },
    "tags": []
   },
   "outputs": [],
   "source": [
    "import argparse\n",
    "import os\n",
    "import numpy as np\n",
    "import copy\n",
    "\n",
    "from pyehub.energy_hub.param_var import ConstantOrVar\n",
    "from pyehub.energy_hub import EHubModel\n",
    "from pyehub.energy_hub.utils import constraint\n",
    "from pyehub.energy_hub.input_data import InputData\n",
    "from pyehub.outputter import print_section, output_excel\n",
    "from pyehub import excel_to_request_format\n",
    "from pyehub import pylp\n",
    "from pyehub.pylp import RealVariable, BinaryVariable, IntegerVariable\n",
    "\n",
    "import pdb"
   ]
  },
  {
   "cell_type": "markdown",
   "metadata": {
    "papermill": {
     "duration": 0.006239,
     "end_time": "2019-10-28T23:03:27.350757",
     "exception": false,
     "start_time": "2019-10-28T23:03:27.344518",
     "status": "completed"
    },
    "tags": []
   },
   "source": [
    "## Constraint\n",
    "The subproblems are kept as the same hub by ensuring the converter and storage capacities are the same across all hubs by applying these constraints."
   ]
  },
  {
   "cell_type": "code",
   "execution_count": 2,
   "metadata": {
    "papermill": {
     "duration": 0.016125,
     "end_time": "2019-10-28T23:03:27.374537",
     "exception": false,
     "start_time": "2019-10-28T23:03:27.358412",
     "status": "completed"
    },
    "tags": []
   },
   "outputs": [],
   "source": [
    "@constraint()\n",
    "def same_converter_constraint(converter, hubs):\n",
    "    \"\"\"\n",
    "    Constraint to ensure the capacities are kept constant across all the subproblems. \n",
    "    \"\"\"\n",
    "    for i in range(len(hubs)-1):\n",
    "        yield hubs[i].capacities[converter] == hubs[i+1].capacities[converter]\n",
    "\n",
    "@constraint()\n",
    "def same_storage_constraint(storage, hubs):\n",
    "    \"\"\"\n",
    "    Constraint to ensure the capacities are kept constant across all the subproblems. \n",
    "    \"\"\"\n",
    "    #TODO: Check that storage capacites are also kept the same\n",
    "    for i in range(len(hubs)-1):\n",
    "        yield hubs[i].storage_capacity[storage] == hubs[i+1].storage_capacity[storage]    "
   ]
  },
  {
   "cell_type": "markdown",
   "metadata": {
    "papermill": {
     "duration": 0.006354,
     "end_time": "2019-10-28T23:03:27.386909",
     "exception": false,
     "start_time": "2019-10-28T23:03:27.380555",
     "status": "completed"
    },
    "tags": []
   },
   "source": [
    "## Splitting the hubs\n",
    "All the hub information in the subproblems are the same but the stream data is split depending on the given parameters:\n",
    "- The number of periods dictates the number of subproblems the original hub is being broken into.\n",
    "- The length of the periods determines the nubmer of timesteps included in each subproblem. \n",
    "- The number of periods in each sample period determines how many periods are in a sample period represented by a single period. \n",
    "- The sample period position determines in the number of periods in each sample period the represenative period.\n",
    "\n",
    "### An Example:\n",
    "A hub with a year of houlry data to be solved with the second week representing each month in the year.\n",
    "There would be:\n",
    "- Number of periods = 12\n",
    "- Length of each period = 168 (hours in a week)\n",
    "- Number of periods in each sample period = 4 (4 weeks per month)\n",
    "- Sample period position = 2"
   ]
  },
  {
   "cell_type": "code",
   "execution_count": 3,
   "metadata": {
    "papermill": {
     "duration": 0.015955,
     "end_time": "2019-10-28T23:03:27.409171",
     "exception": false,
     "start_time": "2019-10-28T23:03:27.393216",
     "status": "completed"
    },
    "tags": []
   },
   "outputs": [],
   "source": [
    "def split_hubs(excel=None, request=None, max_carbon=None, num_periods=1, len_periods=24, num_periods_in_sample_period=1, sample_period_position=0):\n",
    "    \"\"\"\n",
    "    Splits a PyEHub into a series of smaller hubs with a given period.\n",
    "    \"\"\"\n",
    "    if excel:\n",
    "        request = excel_to_request_format.convert(excel)\n",
    "\n",
    "    if request:\n",
    "        _data = InputData(request)\n",
    "    else:\n",
    "        raise RuntimeError(\"Can't create hubs with no data.\")\n",
    "        \n",
    "    hubs = []\n",
    "\n",
    "    if ((num_periods*len_periods*num_periods_in_sample_period) > len(request['time_series'][0]['data'])):\n",
    "        raise IndexError(\"Not enough data to cover all the periods.\")\n",
    "    \n",
    "    if (num_periods_in_sample_period <= sample_period_position):\n",
    "        raise IndexError(\"Not enough periods in sample to start at the given position.\")\n",
    "\n",
    "    for i in range(0, num_periods):\n",
    "        temp_request = copy.deepcopy(request)\n",
    "        for stream in temp_request['time_series']:\n",
    "            stream['data'] = stream['data'][len_periods*(i + i*(num_periods_in_sample_period-1) + sample_period_position) :\n",
    "                len_periods*(i+1 + i*(num_periods_in_sample_period-1) + sample_period_position)]\n",
    "        hub = EHubModel(request=temp_request)\n",
    "        hubs.append(hub)\n",
    "    return hubs"
   ]
  },
  {
   "cell_type": "markdown",
   "metadata": {
    "papermill": {
     "duration": 0.006408,
     "end_time": "2019-10-28T23:03:27.422152",
     "exception": false,
     "start_time": "2019-10-28T23:03:27.415744",
     "status": "completed"
    },
    "tags": []
   },
   "source": [
    "## Combining constraint"
   ]
  },
  {
   "cell_type": "code",
   "execution_count": 4,
   "metadata": {
    "papermill": {
     "duration": 0.014003,
     "end_time": "2019-10-28T23:03:27.442747",
     "exception": false,
     "start_time": "2019-10-28T23:03:27.428744",
     "status": "completed"
    },
    "tags": []
   },
   "outputs": [],
   "source": [
    "def merge_hubs(hubs):\n",
    "    \"\"\"\n",
    "    Compiles and combines the constraints of each subproblem into one list.\n",
    "    :param hubs: List of EHubs.\n",
    "    :return: The list of constraints for each hub combined with the capacities constraint to ensure the same converter capacities across all EHubs.\n",
    "    \"\"\"\n",
    "    constraints = []\n",
    "    for hub in hubs:\n",
    "        hub.recompile()\n",
    "        for constr in hub.constraints:\n",
    "            constraints.append(constr)\n",
    "\n",
    "    for converter in hubs[0].technologies:\n",
    "        for c in same_converter_constraint(converter, hubs):\n",
    "            constraints.append(c)\n",
    "    \n",
    "    for storage in hubs[0].storages:\n",
    "        for c in same_storage_constraint(storage, hubs):\n",
    "            constraints.append(c)\n",
    "    return constraints"
   ]
  },
  {
   "cell_type": "markdown",
   "metadata": {
    "papermill": {
     "duration": 0.006546,
     "end_time": "2019-10-28T23:03:27.457085",
     "exception": false,
     "start_time": "2019-10-28T23:03:27.450539",
     "status": "completed"
    },
    "tags": []
   },
   "source": [
    "## Main run function\n",
    "The hub is turned into a list of the seperate hub problems. All the constraints for each hub aswell as the constraints tying each hub together are gathered into a list. The investement_cost from one hub (as the investement_costs for all the hubs will be same as the same amount of each converter and storage is installed), and the oeprating and maintence costs from all the hubs are combined into the objective for the solver. the status of the solver and the list of all the hubs is returned after it is solved."
   ]
  },
  {
   "cell_type": "code",
   "execution_count": 5,
   "metadata": {
    "papermill": {
     "duration": 0.014295,
     "end_time": "2019-10-28T23:03:27.478782",
     "exception": false,
     "start_time": "2019-10-28T23:03:27.464487",
     "status": "completed"
    },
    "tags": []
   },
   "outputs": [],
   "source": [
    "def run_split_period(excel=None, request=None, output_filename=None, max_carbon=None, num_periods=1, len_periods=24, num_periods_in_sample_period=1, sample_period_position=0, solver='glpk'):\n",
    "    \"\"\"\n",
    "    Core function for splitting a PyEHub model into smaller problems to solve together.\n",
    "    :param excel: Input excel file if the hub to be split is in excel. Converted into request format before being split into subproblems.\n",
    "    :param request: Input in request JSON format if the hub to be split is in JSON.\n",
    "    :param output_filename: Name for file to right the output to if an output file is being used.\n",
    "    :param max_carbon: Max carbon value if using a capped carbon value.\n",
    "    :param num_periods: Number of sub problem EHubs to be solved together.\n",
    "    :param len_periods: Number of time steps per sub problem EHub to be solved.\n",
    "    :param num_periods_in_sample_period: Number of periods being grouped together to be represented by 1 sub problem EHub. Example: One week representing a whole month would be ~four periods in a sample period.\n",
    "    :param sample_period_position: Which period in the grouped sample to use as the representative EHub. Example the second week of every month would be two.\n",
    "    :param solver: Which MILP solver to use.\n",
    "    \"\"\"\n",
    "    hubs = split_hubs(excel, request, max_carbon, num_periods, len_periods, num_periods_in_sample_period, sample_period_position)\n",
    "    constraints = merge_hubs(hubs)\n",
    "\n",
    "    objective = hubs[0].investment_cost\n",
    "    for hub in hubs:\n",
    "        objective += hub.operating_cost+ hub.maintenance_cost\n",
    "\n",
    "    status = pylp.solve(objective=objective, constraints=constraints, minimize=True, solver=solver)\n",
    "    \n",
    "    return status, hubs\n",
    "\n",
    "    #TODO: Figure out setting up the output"
   ]
  },
  {
   "cell_type": "markdown",
   "metadata": {
    "papermill": {
     "duration": 0.006232,
     "end_time": "2019-10-28T23:03:27.491392",
     "exception": false,
     "start_time": "2019-10-28T23:03:27.485160",
     "status": "completed"
    },
    "tags": []
   },
   "source": [
    "# Solution\n",
    "Each hub has its own solution dictionary. Taking the operating and maintence cost (multipled by the number of periods they are supposed to represent) from each hub and combining it with the invesetment cost returns the total cost for the original larger problem."
   ]
  },
  {
   "cell_type": "code",
   "execution_count": 6,
   "metadata": {
    "papermill": {
     "duration": 0.270204,
     "end_time": "2019-10-28T23:03:27.768296",
     "exception": false,
     "start_time": "2019-10-28T23:03:27.498092",
     "status": "completed"
    },
    "tags": []
   },
   "outputs": [
    {
     "name": "stdout",
     "output_type": "stream",
     "text": [
      "1863.82594\n"
     ]
    }
   ],
   "source": [
    "n = 2\n",
    "\n",
    "status, results = run_split_period(excel='two_day_test_file.xlsx', num_periods=1, len_periods = 24, num_periods_in_sample_period=n, solver = 'glpk')\n",
    "\n",
    "absolute_cost = results[0].solution_dict['investment_cost']\n",
    "for result in results:\n",
    "    absolute_cost += result.solution_dict['maintenance_cost']*n +  result.solution_dict['operating_cost']*n\n",
    "print(absolute_cost)"
   ]
  },
  {
   "cell_type": "markdown",
   "metadata": {
    "papermill": {
     "duration": 0.006558,
     "end_time": "2019-10-28T23:03:27.781833",
     "exception": false,
     "start_time": "2019-10-28T23:03:27.775275",
     "status": "completed"
    },
    "tags": []
   },
   "source": [
    "# Running the model normally\n",
    "To demonstrate the accuracy of the subproblem modeling this example hub is run normally."
   ]
  },
  {
   "cell_type": "code",
   "execution_count": 7,
   "metadata": {
    "papermill": {
     "duration": 0.952022,
     "end_time": "2019-10-28T23:03:28.741244",
     "exception": false,
     "start_time": "2019-10-28T23:03:27.789222",
     "status": "completed"
    },
    "tags": []
   },
   "outputs": [
    {
     "data": {
      "text/plain": [
       "1863.83"
      ]
     },
     "execution_count": 7,
     "metadata": {},
     "output_type": "execute_result"
    }
   ],
   "source": [
    "hub = EHubModel(excel='two_day_test_file.xlsx')\n",
    "results= hub.solve()\n",
    "results['solution']['total_cost']"
   ]
  }
 ],
 "metadata": {
  "kernelspec": {
   "display_name": "Python 3",
   "language": "python",
   "name": "python3"
  },
  "language_info": {
   "codemirror_mode": {
    "name": "ipython",
    "version": 3
   },
   "file_extension": ".py",
   "mimetype": "text/x-python",
   "name": "python",
   "nbconvert_exporter": "python",
   "pygments_lexer": "ipython3",
   "version": "3.6.4"
  },
  "papermill": {
   "duration": 3.37023,
   "end_time": "2019-10-28T23:03:29.055008",
   "environment_variables": {},
   "exception": null,
   "input_path": "./EnergyHub/Periodic Subproblem.ipynb",
   "output_path": "./EnergyHub/Periodic Subproblem.ipynb",
   "parameters": {},
   "start_time": "2019-10-28T23:03:25.684778",
   "version": "1.2.0"
  }
 },
 "nbformat": 4,
 "nbformat_minor": 4
}