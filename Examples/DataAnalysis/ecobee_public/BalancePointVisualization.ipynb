{
 "cells": [
  {
   "cell_type": "markdown",
   "metadata": {
    "papermill": {
     "duration": 0.013159,
     "end_time": "2019-10-28T22:48:33.497528",
     "exception": false,
     "start_time": "2019-10-28T22:48:33.484369",
     "status": "completed"
    },
    "tags": []
   },
   "source": [
    "# Balance Point Plots"
   ]
  },
  {
   "cell_type": "markdown",
   "metadata": {
    "papermill": {
     "duration": 0.010108,
     "end_time": "2019-10-28T22:48:33.521023",
     "exception": false,
     "start_time": "2019-10-28T22:48:33.510915",
     "status": "completed"
    },
    "tags": []
   },
   "source": [
    "## Description\n",
    "\n",
    "Balance point plots are widely used and typically represent and energy signature of a household. On the x-axis is outdoor temperature and on the y-axis is energy demand. In our case, we do not have energy demand so the heating duty cycle is used as a proxy. As observed in the plot, as the outdoor temperature drops, more energy is required for heating. Each point in the plot represents a mean daily value, and the mean is taken only over night time hours.\n",
    "\n",
    "A linear regression can be performed on the balance point plot to obtain an estimate for RK, where R is thermal resistivity and K is the power of the heating system. The physical equation that describes the line of best fit is:\n",
    "\n",
    "$$\n",
    "y = \\frac{1}{RK}(T_{in} - x)\n",
    "$$\n",
    "\n",
    "\n",
    "The slope of the line is therefore:\n",
    "\n",
    "$$\n",
    "-\\frac{1}{RK}\n",
    "$$\n",
    "\n",
    "More information about how this equation was derived can be found at [TODO reference paper]."
   ]
  },
  {
   "cell_type": "markdown",
   "metadata": {
    "papermill": {
     "duration": 0.006531,
     "end_time": "2019-10-28T22:48:33.536274",
     "exception": false,
     "start_time": "2019-10-28T22:48:33.529743",
     "status": "completed"
    },
    "tags": []
   },
   "source": [
    "## Example"
   ]
  },
  {
   "cell_type": "markdown",
   "metadata": {
    "papermill": {
     "duration": 0.004441,
     "end_time": "2019-10-28T22:48:33.546623",
     "exception": false,
     "start_time": "2019-10-28T22:48:33.542182",
     "status": "completed"
    },
    "tags": []
   },
   "source": [
    "Run this code to see a the results of the linear regression for a blance point plot for a particular building. In the final plot, the orange dots represent all the points that were used for the regression and the blue points represent outliers."
   ]
  },
  {
   "cell_type": "markdown",
   "metadata": {
    "papermill": {
     "duration": 0.004454,
     "end_time": "2019-10-28T22:48:33.555503",
     "exception": false,
     "start_time": "2019-10-28T22:48:33.551049",
     "status": "completed"
    },
    "tags": []
   },
   "source": [
    "### 1. Import the required libraries"
   ]
  },
  {
   "cell_type": "code",
   "execution_count": 1,
   "metadata": {
    "papermill": {
     "duration": 0.52132,
     "end_time": "2019-10-28T22:48:34.081183",
     "exception": false,
     "start_time": "2019-10-28T22:48:33.559863",
     "status": "completed"
    },
    "tags": []
   },
   "outputs": [],
   "source": [
    "import matplotlib.pyplot as plt\n",
    "from scipy import stats\n",
    "\n",
    "from scripts.filters import months, hours\n",
    "import scripts.balance_point as bp\n",
    "import scripts.preprocessing as pp"
   ]
  },
  {
   "cell_type": "markdown",
   "metadata": {
    "papermill": {
     "duration": 0.004904,
     "end_time": "2019-10-28T22:48:34.092012",
     "exception": false,
     "start_time": "2019-10-28T22:48:34.087108",
     "status": "completed"
    },
    "tags": []
   },
   "source": [
    "### 2. Load the building data into memory"
   ]
  },
  {
   "cell_type": "markdown",
   "metadata": {
    "papermill": {
     "duration": 0.004468,
     "end_time": "2019-10-28T22:48:34.102514",
     "exception": false,
     "start_time": "2019-10-28T22:48:34.098046",
     "status": "completed"
    },
    "tags": []
   },
   "source": [
    "Edit the filename to chang which building is being evaluated. The example buildings included in this repo can be found  in `data/raw_data/Toronto`."
   ]
  },
  {
   "cell_type": "code",
   "execution_count": 2,
   "metadata": {
    "collapsed": true,
    "papermill": {
     "duration": 0.404481,
     "end_time": "2019-10-28T22:48:34.511702",
     "exception": false,
     "start_time": "2019-10-28T22:48:34.107221",
     "status": "completed"
    },
    "tags": []
   },
   "outputs": [],
   "source": [
    "filename = \"001014855d9a10060d20420b8a6c6a015322c790.csv\"\n",
    "df = pp.load_building_data(filename)\n",
    "limited_df = pp.limit_time_ranges(months, hours, df)"
   ]
  },
  {
   "cell_type": "markdown",
   "metadata": {
    "papermill": {
     "duration": 0.005266,
     "end_time": "2019-10-28T22:48:34.522959",
     "exception": false,
     "start_time": "2019-10-28T22:48:34.517693",
     "status": "completed"
    },
    "tags": []
   },
   "source": [
    "### 3. Run the model Fitting"
   ]
  },
  {
   "cell_type": "code",
   "execution_count": 3,
   "metadata": {
    "papermill": {
     "duration": 0.028348,
     "end_time": "2019-10-28T22:48:34.556452",
     "exception": false,
     "start_time": "2019-10-28T22:48:34.528104",
     "status": "completed"
    },
    "tags": []
   },
   "outputs": [],
   "source": [
    "line = bp.find_slope(limited_df, reject_outliers = True)\n",
    "\n",
    "resampled = bp.resample_data(limited_df)\n",
    "df_xy = resampled[['T_out', 'auxHeat1']]\n",
    "x_orig = df_xy['T_out']\n",
    "y_orig = df_xy['auxHeat1']\n",
    "\n",
    "slope, intercept, r_value, p_value, std_err = line\n",
    "\n",
    "filtered_df = bp.reject_outliers_balance_point(df_xy)\n",
    "x_filtered = filtered_df[\"T_out\"]\n",
    "y_filtered = filtered_df[\"auxHeat1\"]"
   ]
  },
  {
   "cell_type": "markdown",
   "metadata": {
    "papermill": {
     "duration": 0.004892,
     "end_time": "2019-10-28T22:48:34.567114",
     "exception": false,
     "start_time": "2019-10-28T22:48:34.562222",
     "status": "completed"
    },
    "tags": []
   },
   "source": [
    "### 4. Plot the results"
   ]
  },
  {
   "cell_type": "code",
   "execution_count": 4,
   "metadata": {
    "papermill": {
     "duration": 0.251944,
     "end_time": "2019-10-28T22:48:34.824025",
     "exception": false,
     "start_time": "2019-10-28T22:48:34.572081",
     "status": "completed"
    },
    "tags": []
   },
   "outputs": [
    {
     "data": {
      "image/png": "[encoded data removed]",
      "text/plain": [
       "<Figure size 1440x504 with 1 Axes>"
      ]
     },
     "metadata": {
      "needs_background": "light"
     },
     "output_type": "display_data"
    }
   ],
   "source": [
    "plt.figure(figsize=(20,7))\n",
    "plt.plot(x_orig, y_orig, 'o', label='original data')\n",
    "plt.plot(x_filtered, y_filtered, 'o', label = \"filtered data\")\n",
    "plt.plot(x_filtered, intercept + slope*x_filtered, 'r', label='fitted line')\n",
    "plt.legend()\n",
    "plt.show()"
   ]
  },
  {
   "cell_type": "code",
   "execution_count": null,
   "metadata": {
    "papermill": {
     "duration": 0.00551,
     "end_time": "2019-10-28T22:48:34.836054",
     "exception": false,
     "start_time": "2019-10-28T22:48:34.830544",
     "status": "completed"
    },
    "tags": []
   },
   "outputs": [],
   "source": []
  }
 ],
 "metadata": {
  "kernelspec": {
   "display_name": "Python 3",
   "language": "python",
   "name": "python3"
  },
  "language_info": {
   "codemirror_mode": {
    "name": "ipython",
    "version": 3
   },
   "file_extension": ".py",
   "mimetype": "text/x-python",
   "name": "python",
   "nbconvert_exporter": "python",
   "pygments_lexer": "ipython3",
   "version": "3.6.4"
  },
  "papermill": {
   "duration": 2.234346,
   "end_time": "2019-10-28T22:48:35.150031",
   "environment_variables": {},
   "exception": null,
   "input_path": "./DataAnalysis/ecobee_public/BalancePointVisualization.ipynb",
   "output_path": "./DataAnalysis/ecobee_public/BalancePointVisualization.ipynb",
   "parameters": {},
   "start_time": "2019-10-28T22:48:32.915685",
   "version": "1.2.0"
  }
 },
 "nbformat": 4,
 "nbformat_minor": 2
}