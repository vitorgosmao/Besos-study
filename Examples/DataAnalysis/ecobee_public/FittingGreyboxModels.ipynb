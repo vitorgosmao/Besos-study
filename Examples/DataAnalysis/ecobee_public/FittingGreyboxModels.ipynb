{
 "cells": [
  {
   "cell_type": "markdown",
   "metadata": {
    "papermill": {
     "duration": 0.012675,
     "end_time": "2019-10-28T22:48:49.506986",
     "exception": false,
     "start_time": "2019-10-28T22:48:49.494311",
     "status": "completed"
    },
    "tags": []
   },
   "source": [
    "# Run the Gray Box Models\n",
    "\n",
    "This notebook and associated files implement the methods used in a paper applying grey-box models to building temperature data to estimate building characteristics (R values, thermal capacitance, heating system power).  \n",
    "This noteboook is provided so that the code used in the paper can be run and tested with different datasets. For privacy reasons, we provide only a small subset of the ecobee data. To run with your own data, upload it to `data/raw_data`.  \n",
    "The directory `scripts` contains the Python code used to implement the model, which we load below.  \n",
    "_Note that if you change a .py file loaded in this way, you must restart the kernel to see the impact._"
   ]
  },
  {
   "cell_type": "code",
   "execution_count": 1,
   "metadata": {
    "papermill": {
     "duration": 0.530529,
     "end_time": "2019-10-28T22:48:50.050286",
     "exception": false,
     "start_time": "2019-10-28T22:48:49.519757",
     "status": "completed"
    },
    "tags": []
   },
   "outputs": [],
   "source": [
    "import os\n",
    "import pandas as pd\n",
    "from datetime import datetime\n",
    "\n",
    "import scripts.preprocessing as pp\n",
    "from scripts.analysis import run_analysis\n",
    "from scripts.run_all import run_all_methods"
   ]
  },
  {
   "cell_type": "markdown",
   "metadata": {
    "papermill": {
     "duration": 0.004974,
     "end_time": "2019-10-28T22:48:50.061155",
     "exception": false,
     "start_time": "2019-10-28T22:48:50.056181",
     "status": "completed"
    },
    "tags": []
   },
   "source": [
    "### 1. Setup the data filters"
   ]
  },
  {
   "cell_type": "markdown",
   "metadata": {
    "papermill": {
     "duration": 0.004404,
     "end_time": "2019-10-28T22:48:50.070243",
     "exception": false,
     "start_time": "2019-10-28T22:48:50.065839",
     "status": "completed"
    },
    "tags": []
   },
   "source": [
    "The variables in [scripts/filters.py](scripts/filters.py) indicate how the data will be filtered for each method. The filters that are chosen have a significant effect on the final model results. In order to test how these filters are working, change the values in the [scripts/filters.py](scripts/filters.py) file. A description of each of these filters is given in the paper that accompanies this notebook."
   ]
  },
  {
   "cell_type": "markdown",
   "metadata": {
    "papermill": {
     "duration": 0.004361,
     "end_time": "2019-10-28T22:48:50.079268",
     "exception": false,
     "start_time": "2019-10-28T22:48:50.074907",
     "status": "completed"
    },
    "tags": []
   },
   "source": [
    "### 2. Run the model fitting for all buildings"
   ]
  },
  {
   "cell_type": "markdown",
   "metadata": {
    "papermill": {
     "duration": 0.004222,
     "end_time": "2019-10-28T22:48:50.087841",
     "exception": false,
     "start_time": "2019-10-28T22:48:50.083619",
     "status": "completed"
    },
    "tags": []
   },
   "source": [
    "This code will run all the methods accross all the buildings. The results will be saved in `data/model_fitting`.  \n",
    "Be careful not to overwrite your results.  \n",
    "A .csv with all the parameters for this run will also be saved."
   ]
  },
  {
   "cell_type": "code",
   "execution_count": 2,
   "metadata": {
    "papermill": {
     "duration": 2.966086,
     "end_time": "2019-10-28T22:48:53.058156",
     "exception": false,
     "start_time": "2019-10-28T22:48:50.092070",
     "status": "completed"
    },
    "tags": []
   },
   "outputs": [
    {
     "name": "stdout",
     "output_type": "stream",
     "text": [
      "Done. See results in ./data/model_results\n"
     ]
    }
   ],
   "source": [
    "results_dir = run_all_methods()"
   ]
  },
  {
   "cell_type": "markdown",
   "metadata": {
    "papermill": {
     "duration": 0.005424,
     "end_time": "2019-10-28T22:48:53.069473",
     "exception": false,
     "start_time": "2019-10-28T22:48:53.064049",
     "status": "completed"
    },
    "tags": []
   },
   "source": [
    "### 3. Run the model comparison analysis"
   ]
  },
  {
   "cell_type": "markdown",
   "metadata": {
    "papermill": {
     "duration": 0.004179,
     "end_time": "2019-10-28T22:48:53.078818",
     "exception": false,
     "start_time": "2019-10-28T22:48:53.074639",
     "status": "completed"
    },
    "tags": []
   },
   "source": [
    "This code will evaluate all the buildings and create a summary file with means, standard deviations etc.  \n",
    "This file is then used by the notebooks below to visualize the results."
   ]
  },
  {
   "cell_type": "code",
   "execution_count": 3,
   "metadata": {
    "papermill": {
     "duration": 0.04172,
     "end_time": "2019-10-28T22:48:53.124910",
     "exception": false,
     "start_time": "2019-10-28T22:48:53.083190",
     "status": "completed"
    },
    "tags": []
   },
   "outputs": [
    {
     "name": "stdout",
     "output_type": "stream",
     "text": [
      "Done. Results saved to ./data/plots\n"
     ]
    },
    {
     "name": "stderr",
     "output_type": "stream",
     "text": [
      "/home/evan/Documents/besos-mv/Examples/DataAnalysis/ecobee_public/scripts/analysis.py:248: FutureWarning: Sorting because non-concatenation axis is not aligned. A future version\n",
      "of pandas will change to not sort by default.\n",
      "\n",
      "To accept the future behavior, pass 'sort=False'.\n",
      "\n",
      "To retain the current behavior and silence the warning, pass 'sort=True'.\n",
      "\n",
      "  summary_df = pd.concat(summary_dfs)\n"
     ]
    }
   ],
   "source": [
    "run_analysis(results_dir)"
   ]
  },
  {
   "cell_type": "markdown",
   "metadata": {
    "papermill": {
     "duration": 0.004817,
     "end_time": "2019-10-28T22:48:53.134847",
     "exception": false,
     "start_time": "2019-10-28T22:48:53.130030",
     "status": "completed"
    },
    "tags": []
   },
   "source": [
    "# Visualize the Results"
   ]
  },
  {
   "cell_type": "markdown",
   "metadata": {
    "papermill": {
     "duration": 0.00479,
     "end_time": "2019-10-28T22:48:53.144521",
     "exception": false,
     "start_time": "2019-10-28T22:48:53.139731",
     "status": "completed"
    },
    "tags": []
   },
   "source": [
    "+ [Balance Point Visualization](BalancePointVisualization.ipynb) \n",
    "+ [Decay Curves Visualization](DecayCurvesVisualization.ipynb) \n",
    "+ [Model Fitting Visualization](ModelFittingVisualization.ipynb)\n",
    "+ [Analyze Model Results](AnalyzeModelResults.ipynb) makes a comparison."
   ]
  },
  {
   "cell_type": "code",
   "execution_count": null,
   "metadata": {
    "papermill": {
     "duration": 0.004642,
     "end_time": "2019-10-28T22:48:53.154056",
     "exception": false,
     "start_time": "2019-10-28T22:48:53.149414",
     "status": "completed"
    },
    "tags": []
   },
   "outputs": [],
   "source": []
  }
 ],
 "metadata": {
  "kernelspec": {
   "display_name": "Python 3",
   "language": "python",
   "name": "python3"
  },
  "language_info": {
   "codemirror_mode": {
    "name": "ipython",
    "version": 3
   },
   "file_extension": ".py",
   "mimetype": "text/x-python",
   "name": "python",
   "nbconvert_exporter": "python",
   "pygments_lexer": "ipython3",
   "version": "3.6.4"
  },
  "papermill": {
   "duration": 4.545719,
   "end_time": "2019-10-28T22:48:53.467155",
   "environment_variables": {},
   "exception": null,
   "input_path": "./DataAnalysis/ecobee_public/FittingGreyboxModels.ipynb",
   "output_path": "./DataAnalysis/ecobee_public/FittingGreyboxModels.ipynb",
   "parameters": {},
   "start_time": "2019-10-28T22:48:48.921436",
   "version": "1.2.0"
  }
 },
 "nbformat": 4,
 "nbformat_minor": 2
}