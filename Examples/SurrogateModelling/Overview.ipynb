{
 "cells": [
  {
   "cell_type": "markdown",
   "metadata": {
    "papermill": {
     "duration": 0.006043,
     "end_time": "2019-10-28T22:55:45.890242",
     "exception": false,
     "start_time": "2019-10-28T22:55:45.884199",
     "status": "completed"
    },
    "tags": []
   },
   "source": [
    "# Surrogate Modelling on BESOS\n",
    "\n",
    "Surrogate modelling or metamodelling is a way to emulate physics-based building simulation models [[1]].  \n",
    "BESOS integrates building simulation and surrogate modelling using:\n",
    "+ EnergyPlus model editing and execution via EPPy using [Evaluators](../Evaluators/Evaluators.ipynb)\n",
    "+ [sampling toolboxes](https://pythonhosted.org/pyDOE/)\n",
    "+ machine learning toolboxes like [ScikitLearn](https://scikit-learn.org/stable/) and [TensorFlow](https://www.tensorflow.org/)\n",
    "+ the `besos` module to simplify the interconnection of the above items. \n",
    "\n",
    "[1]: https://www.sciencedirect.com/science/article/pii/S0378778819302877"
   ]
  },
  {
   "cell_type": "markdown",
   "metadata": {
    "papermill": {
     "duration": 0.005713,
     "end_time": "2019-10-28T22:55:45.905227",
     "exception": false,
     "start_time": "2019-10-28T22:55:45.899514",
     "status": "completed"
    },
    "tags": []
   },
   "source": [
    "# Surrogate Modelling workflow\n",
    "\n",
    "The figure below shows a BESOS workflow that covers all the elements needed to derive surrogate models.  \n",
    "This is supported by access to powerful hardware for conducting sampling and model training quickly in parallel."
   ]
  },
  {
   "cell_type": "markdown",
   "metadata": {
    "papermill": {
     "duration": 0.006006,
     "end_time": "2019-10-28T22:55:45.916757",
     "exception": false,
     "start_time": "2019-10-28T22:55:45.910751",
     "status": "completed"
    },
    "tags": []
   },
   "source": [
    "<img src=\"./Images/besos_surrogate.png\" alt=\"BESOS for Surrogate Modelling\"\n",
    "title=\"BESOS for Surrogate Modelling\" width=\"800\" />\n",
    "\n",
    "_BESOS workflow for Surrogate Modelling [[1]]._\n",
    "\n",
    "[1]: https://www.sciencedirect.com/science/article/pii/S0378778819302877."
   ]
  },
  {
   "cell_type": "markdown",
   "metadata": {
    "papermill": {
     "duration": 0.005042,
     "end_time": "2019-10-28T22:55:45.928550",
     "exception": false,
     "start_time": "2019-10-28T22:55:45.923508",
     "status": "completed"
    },
    "tags": []
   },
   "source": [
    "The derivation of surrogate models demonstrated in the following notebooks:\n",
    "\n",
    "- [Interactive Surrogate](InteractiveSurrogate.ipynb) is a quick tour of a lots of BESOS: make an EnergyPlus model with two parameters, generate samples that span the design space, use these to train a surrogate model, then explore the design space using an interactive plot that queries the surrogate model. \n",
    "- [Fit GP Model](FitGPModel.ipynb) makes a Gaussian Process surrogate model using latin hypercube sampling and the ScikitLearn syntax.\n",
    "- [Fit feedforward Neural Network](FitFeedforwardNeuralNetwork.ipynb) makes a Neural Network surrogate model using latin hypercube sampling and the ScikitLearn syntax.\n",
    "- [Fit NN Tensorflow](FitNNTF.ipynb) makes a Tensorflow graph and trains it on building simulation data.\n",
    "- [Fit GP Adaptive](FitGPAdaptive.ipynb) adaptiveley selects simulations instead of picking them all in one advance. This aims to reduce the number of samples required to derive a surrogate model."
   ]
  },
  {
   "cell_type": "markdown",
   "metadata": {
    "papermill": {
     "duration": 0.004425,
     "end_time": "2019-10-28T22:55:45.938797",
     "exception": false,
     "start_time": "2019-10-28T22:55:45.934372",
     "status": "completed"
    },
    "tags": []
   },
   "source": [
    "## Others\n",
    "- [Parameter sets](./parameter_sets.py) is a .py file which defines some sets of besos.parameters to avoid redifining design parameters in each of the notebooks above."
   ]
  }
 ],
 "metadata": {
  "kernelspec": {
   "display_name": "Python 3",
   "language": "python",
   "name": "python3"
  },
  "language_info": {
   "codemirror_mode": {
    "name": "ipython",
    "version": 3
   },
   "file_extension": ".py",
   "mimetype": "text/x-python",
   "name": "python",
   "nbconvert_exporter": "python",
   "pygments_lexer": "ipython3",
   "version": "3.6.4"
  },
  "papermill": {
   "duration": 0.84708,
   "end_time": "2019-10-28T22:55:46.150700",
   "environment_variables": {},
   "exception": null,
   "input_path": "./SurrogateModelling/Overview.ipynb",
   "output_path": "./SurrogateModelling/Overview.ipynb",
   "parameters": {},
   "start_time": "2019-10-28T22:55:45.303620",
   "version": "1.2.0"
  }
 },
 "nbformat": 4,
 "nbformat_minor": 2
}