{
 "cells": [
  {
   "cell_type": "markdown",
   "metadata": {
    "papermill": {
     "duration": 0.009626,
     "end_time": "2019-10-28T22:52:49.297380",
     "exception": false,
     "start_time": "2019-10-28T22:52:49.287754",
     "status": "completed"
    },
    "tags": []
   },
   "source": [
    "# Adaptive Sampling\n",
    "\n",
    "This notebook implements adaptive sampling, which explores under-sampled parts of the design space while exploiting the knowledge gained from previous simulation runs.  The aim is to reduce the number of samples required to train an accurate surrogate model.  \n",
    "We use Lola-Voronoi based sampling, which is compatible with any surrogate model type.  \n",
    "Here it is applied with a Gaussian Process model."
   ]
  },
  {
   "cell_type": "code",
   "execution_count": 1,
   "metadata": {
    "papermill": {
     "duration": 1.435484,
     "end_time": "2019-10-28T22:52:50.740487",
     "exception": false,
     "start_time": "2019-10-28T22:52:49.305003",
     "status": "completed"
    },
    "tags": []
   },
   "outputs": [],
   "source": [
    "import pandas as pd \n",
    "import matplotlib.pyplot as plt\n",
    "from matplotlib import cm\n",
    "from mpl_toolkits.mplot3d import Axes3D\n",
    "import time\n",
    "import plotly\n",
    "import chart_studio.plotly as py\n",
    "import plotly.graph_objs as go\n",
    "import seaborn as sns\n",
    "import numpy as np\n",
    "\n",
    "from sklearn.gaussian_process.kernels import (RBF, Matern, RationalQuadratic, ExpSineSquared, DotProduct, ConstantKernel)\n",
    "from sklearn.gaussian_process import GaussianProcessRegressor\n",
    "from sklearn.neural_network import MLPRegressor\n",
    "from sklearn.preprocessing import StandardScaler\n",
    "from sklearn.model_selection import train_test_split\n",
    "from sklearn.model_selection import GridSearchCV\n",
    "from sklearn.manifold import MDS\n",
    "\n",
    "from besos import eppy_funcs as ef\n",
    "import besos.sampling as sampling\n",
    "from besos.problem import EPProblem\n",
    "from besos.evaluator import EvaluatorEP\n",
    "from besos.parameters import wwr, RangeParameter, FieldSelector, FilterSelector, GenericSelector, Parameter, expand_plist\n",
    "from parameters import RangeParameter, CategoryParameter, expand_plist\n",
    "from sampling import adaptive_sampler_lv\n",
    "\n",
    "from parameter_sets import parameter_set"
   ]
  },
  {
   "cell_type": "code",
   "execution_count": 2,
   "metadata": {
    "papermill": {
     "duration": 0.745973,
     "end_time": "2019-10-28T22:52:51.494191",
     "exception": false,
     "start_time": "2019-10-28T22:52:50.748218",
     "status": "completed"
    },
    "tags": []
   },
   "outputs": [
    {
     "data": {
      "text/html": [
       "<table style=\"border: 2px solid white;\">\n",
       "<tr>\n",
       "<td style=\"vertical-align: top; border: 0px solid white\">\n",
       "<h3 style=\"text-align: left;\">Client</h3>\n",
       "<ul style=\"text-align: left; list-style: none; margin: 0; padding: 0;\">\n",
       "  <li><b>Scheduler: </b>tcp://127.0.0.1:39633</li>\n",
       "  <li><b>Dashboard: </b><a href='http://127.0.0.1:8787/status' target='_blank'>http://127.0.0.1:8787/status</a>\n",
       "</ul>\n",
       "</td>\n",
       "<td style=\"vertical-align: top; border: 0px solid white\">\n",
       "<h3 style=\"text-align: left;\">Cluster</h3>\n",
       "<ul style=\"text-align: left; list-style:none; margin: 0; padding: 0;\">\n",
       "  <li><b>Workers: </b>8</li>\n",
       "  <li><b>Cores: </b>8</li>\n",
       "  <li><b>Memory: </b>7.93 GB</li>\n",
       "</ul>\n",
       "</td>\n",
       "</tr>\n",
       "</table>"
      ],
      "text/plain": [
       "<Client: 'tcp://127.0.0.1:39633' processes=8 threads=8, memory=7.93 GB>"
      ]
     },
     "execution_count": 2,
     "metadata": {},
     "output_type": "execute_result"
    }
   ],
   "source": [
    "from dask.distributed import Client\n",
    "client = Client(threads_per_worker=1)\n",
    "client"
   ]
  },
  {
   "cell_type": "markdown",
   "metadata": {
    "papermill": {
     "duration": 0.007292,
     "end_time": "2019-10-28T22:52:51.509898",
     "exception": false,
     "start_time": "2019-10-28T22:52:51.502606",
     "status": "completed"
    },
    "tags": []
   },
   "source": [
    "## Define sampler settings"
   ]
  },
  {
   "cell_type": "code",
   "execution_count": 3,
   "metadata": {
    "papermill": {
     "duration": 0.012281,
     "end_time": "2019-10-28T22:52:51.530482",
     "exception": false,
     "start_time": "2019-10-28T22:52:51.518201",
     "status": "completed"
    },
    "tags": []
   },
   "outputs": [],
   "source": [
    "n_samples_init = 20 # initial set of samples collected using the standard low-discrepancy sampling\n",
    "\n",
    "no_iter = 10 # number of iterations of the adaptive sampler to run\n",
    "n = 4 # number of samples added per iteration"
   ]
  },
  {
   "cell_type": "markdown",
   "metadata": {
    "papermill": {
     "duration": 0.00696,
     "end_time": "2019-10-28T22:52:51.544856",
     "exception": false,
     "start_time": "2019-10-28T22:52:51.537896",
     "status": "completed"
    },
    "tags": []
   },
   "source": [
    "## Generate data set "
   ]
  },
  {
   "cell_type": "markdown",
   "metadata": {
    "papermill": {
     "duration": 0.007087,
     "end_time": "2019-10-28T22:52:51.558972",
     "exception": false,
     "start_time": "2019-10-28T22:52:51.551885",
     "status": "completed"
    },
    "tags": []
   },
   "source": [
    "This generates an example model and the initial sampling data, see [this example](FitGPModel.ipynb)."
   ]
  },
  {
   "cell_type": "code",
   "execution_count": 4,
   "metadata": {
    "papermill": {
     "duration": 8.776903,
     "end_time": "2019-10-28T22:53:00.343096",
     "exception": false,
     "start_time": "2019-10-28T22:52:51.566193",
     "status": "completed"
    },
    "tags": []
   },
   "outputs": [
    {
     "name": "stderr",
     "output_type": "stream",
     "text": [
      "/home/evan/anaconda3/lib/python3.6/site-packages/besos/problem.py:77: RuntimeWarning:\n",
      "\n",
      "Duplicate names found. (duplicate, repetitions): [('Watts per Zone Floor Area', 2)]\n",
      "Attempting to fix automatically\n",
      "\n"
     ]
    },
    {
     "data": {
      "text/html": [
       "<div>\n",
       "<style scoped>\n",
       "    .dataframe tbody tr th:only-of-type {\n",
       "        vertical-align: middle;\n",
       "    }\n",
       "\n",
       "    .dataframe tbody tr th {\n",
       "        vertical-align: top;\n",
       "    }\n",
       "\n",
       "    .dataframe thead th {\n",
       "        text-align: right;\n",
       "    }\n",
       "</style>\n",
       "<table border=\"1\" class=\"dataframe\">\n",
       "  <thead>\n",
       "    <tr style=\"text-align: right;\">\n",
       "      <th></th>\n",
       "      <th>Wall conductivity</th>\n",
       "      <th>Attic thickness</th>\n",
       "      <th>U-Factor</th>\n",
       "      <th>Solar Heat Gain Coefficient</th>\n",
       "      <th>Watts per Zone Floor Area_0</th>\n",
       "      <th>Watts per Zone Floor Area_1</th>\n",
       "      <th>Window to Wall Ratio</th>\n",
       "      <th>Electricity:Facility</th>\n",
       "    </tr>\n",
       "  </thead>\n",
       "  <tbody>\n",
       "    <tr>\n",
       "      <td>0</td>\n",
       "      <td>0.192512</td>\n",
       "      <td>0.230707</td>\n",
       "      <td>4.377895</td>\n",
       "      <td>0.963028</td>\n",
       "      <td>12.623788</td>\n",
       "      <td>10.797001</td>\n",
       "      <td>0.339849</td>\n",
       "      <td>1.987464e+09</td>\n",
       "    </tr>\n",
       "    <tr>\n",
       "      <td>1</td>\n",
       "      <td>0.030055</td>\n",
       "      <td>0.178445</td>\n",
       "      <td>4.137281</td>\n",
       "      <td>0.116808</td>\n",
       "      <td>10.655750</td>\n",
       "      <td>14.860440</td>\n",
       "      <td>0.265143</td>\n",
       "      <td>2.022671e+09</td>\n",
       "    </tr>\n",
       "    <tr>\n",
       "      <td>2</td>\n",
       "      <td>0.142297</td>\n",
       "      <td>0.254607</td>\n",
       "      <td>0.163647</td>\n",
       "      <td>0.063449</td>\n",
       "      <td>10.357826</td>\n",
       "      <td>13.197575</td>\n",
       "      <td>0.823074</td>\n",
       "      <td>1.939752e+09</td>\n",
       "    </tr>\n",
       "    <tr>\n",
       "      <td>3</td>\n",
       "      <td>0.151788</td>\n",
       "      <td>0.248330</td>\n",
       "      <td>1.193116</td>\n",
       "      <td>0.053216</td>\n",
       "      <td>12.896203</td>\n",
       "      <td>11.847017</td>\n",
       "      <td>0.621168</td>\n",
       "      <td>2.017213e+09</td>\n",
       "    </tr>\n",
       "    <tr>\n",
       "      <td>4</td>\n",
       "      <td>0.122725</td>\n",
       "      <td>0.105937</td>\n",
       "      <td>2.916164</td>\n",
       "      <td>0.289471</td>\n",
       "      <td>13.811311</td>\n",
       "      <td>11.555892</td>\n",
       "      <td>0.934410</td>\n",
       "      <td>2.051144e+09</td>\n",
       "    </tr>\n",
       "  </tbody>\n",
       "</table>\n",
       "</div>"
      ],
      "text/plain": [
       "   Wall conductivity  Attic thickness  U-Factor  Solar Heat Gain Coefficient  \\\n",
       "0           0.192512         0.230707  4.377895                     0.963028   \n",
       "1           0.030055         0.178445  4.137281                     0.116808   \n",
       "2           0.142297         0.254607  0.163647                     0.063449   \n",
       "3           0.151788         0.248330  1.193116                     0.053216   \n",
       "4           0.122725         0.105937  2.916164                     0.289471   \n",
       "\n",
       "   Watts per Zone Floor Area_0  Watts per Zone Floor Area_1  \\\n",
       "0                    12.623788                    10.797001   \n",
       "1                    10.655750                    14.860440   \n",
       "2                    10.357826                    13.197575   \n",
       "3                    12.896203                    11.847017   \n",
       "4                    13.811311                    11.555892   \n",
       "\n",
       "   Window to Wall Ratio  Electricity:Facility  \n",
       "0              0.339849          1.987464e+09  \n",
       "1              0.265143          2.022671e+09  \n",
       "2              0.823074          1.939752e+09  \n",
       "3              0.621168          2.017213e+09  \n",
       "4              0.934410          2.051144e+09  "
      ]
     },
     "execution_count": 4,
     "metadata": {},
     "output_type": "execute_result"
    }
   ],
   "source": [
    "parameters = parameter_set(7)\n",
    "problem = EPProblem(parameters, ['Electricity:Facility'])\n",
    "building = ef.get_building()\n",
    "inputs = sampling.dist_sampler(sampling.lhs, problem, n_samples_init)\n",
    "evaluator = EvaluatorEP(problem, building, multi = True)\n",
    "outputs = evaluator.df_apply(inputs, processes = 4)\n",
    "results = inputs.join(outputs)\n",
    "results.head()"
   ]
  },
  {
   "cell_type": "markdown",
   "metadata": {
    "papermill": {
     "duration": 0.008273,
     "end_time": "2019-10-28T22:53:00.360276",
     "exception": false,
     "start_time": "2019-10-28T22:53:00.352003",
     "status": "completed"
    },
    "tags": []
   },
   "source": [
    "## Initial training of Surrogate Model\n",
    "Here we use a Gaussian Process surrogate model, see [here](FitGPModel.ipynb) for details."
   ]
  },
  {
   "cell_type": "code",
   "execution_count": 5,
   "metadata": {
    "papermill": {
     "duration": 0.015614,
     "end_time": "2019-10-28T22:53:00.384057",
     "exception": false,
     "start_time": "2019-10-28T22:53:00.368443",
     "status": "completed"
    },
    "tags": []
   },
   "outputs": [],
   "source": [
    "train_in, test_in, train_out, test_out = train_test_split(inputs, outputs, test_size=0.2)"
   ]
  },
  {
   "cell_type": "code",
   "execution_count": 6,
   "metadata": {
    "papermill": {
     "duration": 0.214792,
     "end_time": "2019-10-28T22:53:00.606772",
     "exception": false,
     "start_time": "2019-10-28T22:53:00.391980",
     "status": "completed"
    },
    "tags": []
   },
   "outputs": [
    {
     "name": "stdout",
     "output_type": "stream",
     "text": [
      "The best performing model $R^2$ score on the validation set: 0.5635711206151869\n",
      "The model $R^2$ parameters: {'kernel': 1**2 * Matern(length_scale=1, nu=1.5)}\n",
      "The best performing model $R^2$ score on a separate test set: 1.0\n"
     ]
    }
   ],
   "source": [
    "hyperparameters = {'kernel':[None,1.0 * RBF(length_scale=1.0, length_scale_bounds=(1e-1, 10.0)),\n",
    "                             1.0 * RationalQuadratic(length_scale=1.0, alpha=0.5),\n",
    "                             #ConstantKernel(0.1, (0.01, 10.0))*(DotProduct(sigma_0=1.0, sigma_0_bounds=(0.1, 10.0))**2),\n",
    "                             1.0 * Matern(length_scale=1.0, length_scale_bounds=(1e-1, 10.0)),]}\n",
    "\n",
    "folds = 3\n",
    "\n",
    "gp = GaussianProcessRegressor(normalize_y=True)\n",
    "\n",
    "clf = GridSearchCV(gp, hyperparameters, iid=True, cv=folds)\n",
    "clf.fit(inputs, outputs)\n",
    "\n",
    "print(f'The best performing model $R^2$ score on the validation set: {clf.best_score_}')\n",
    "print(f'The model $R^2$ parameters: {clf.best_params_}')\n",
    "print(f'The best performing model $R^2$ score on a separate test set: {clf.best_estimator_.score(test_in, test_out)}')\n",
    "reg = clf.best_estimator_"
   ]
  },
  {
   "cell_type": "markdown",
   "metadata": {
    "papermill": {
     "duration": 0.008986,
     "end_time": "2019-10-28T22:53:00.625450",
     "exception": false,
     "start_time": "2019-10-28T22:53:00.616464",
     "status": "completed"
    },
    "tags": []
   },
   "source": [
    "# LOLA - Voronoi sampling\n",
    "Here we run our implementation of LOLA-Voronoi sampling.  \n",
    "New designs to be simulated are picked around previously simulated designs with a high hybrid score $H$.\n",
    "\n",
    "$H = V + E$ \n",
    "\n",
    "$H$ is used to incentives exploration $V$ and exploitation $E$.  \n",
    "$V$ is the Voronoi cell size to approximate the sample density and $E$ the local-linear estimate to approximate the gradient in the neighbourhood of a sample."
   ]
  },
  {
   "cell_type": "code",
   "execution_count": 7,
   "metadata": {
    "code_folding": [],
    "papermill": {
     "duration": 117.344203,
     "end_time": "2019-10-28T22:54:57.978197",
     "exception": false,
     "start_time": "2019-10-28T22:53:00.633994",
     "status": "completed"
    },
    "tags": []
   },
   "outputs": [
    {
     "name": "stdout",
     "output_type": "stream",
     "text": [
      "0\n"
     ]
    },
    {
     "name": "stdout",
     "output_type": "stream",
     "text": [
      "1\n"
     ]
    },
    {
     "name": "stdout",
     "output_type": "stream",
     "text": [
      "2\n"
     ]
    },
    {
     "name": "stdout",
     "output_type": "stream",
     "text": [
      "3\n"
     ]
    },
    {
     "name": "stdout",
     "output_type": "stream",
     "text": [
      "4\n"
     ]
    },
    {
     "name": "stdout",
     "output_type": "stream",
     "text": [
      "5\n"
     ]
    },
    {
     "name": "stdout",
     "output_type": "stream",
     "text": [
      "6\n"
     ]
    },
    {
     "name": "stdout",
     "output_type": "stream",
     "text": [
      "7\n"
     ]
    },
    {
     "name": "stdout",
     "output_type": "stream",
     "text": [
      "8\n"
     ]
    },
    {
     "name": "stdout",
     "output_type": "stream",
     "text": [
      "9\n"
     ]
    }
   ],
   "source": [
    "numiter = 10\n",
    "AS = adaptive_sampler_lv(train_in.values, train_out.values, n, problem, evaluator, reg, test_in, test_out, verbose = False)\n",
    "AS.run(numiter)"
   ]
  },
  {
   "cell_type": "markdown",
   "metadata": {
    "papermill": {
     "duration": 0.022086,
     "end_time": "2019-10-28T22:54:58.030091",
     "exception": false,
     "start_time": "2019-10-28T22:54:58.008005",
     "status": "completed"
    },
    "tags": []
   },
   "source": [
    "## Visualization\n",
    "We visualize the working of the adaptive sampler by reducing the input dimensionality to 2 using multi-dimensional scaling. "
   ]
  },
  {
   "cell_type": "code",
   "execution_count": 8,
   "metadata": {
    "papermill": {
     "duration": 0.223744,
     "end_time": "2019-10-28T22:54:58.274080",
     "exception": false,
     "start_time": "2019-10-28T22:54:58.050336",
     "status": "completed"
    },
    "tags": []
   },
   "outputs": [
    {
     "data": {
      "text/plain": [
       "Text(0.5, 0, 'No. of samples')"
      ]
     },
     "execution_count": 8,
     "metadata": {},
     "output_type": "execute_result"
    },
    {
     "data": {
      "image/png": "[encoded data removed]",
      "text/plain": [
       "<Figure size 432x288 with 1 Axes>"
      ]
     },
     "metadata": {
      "needs_background": "light"
     },
     "output_type": "display_data"
    }
   ],
   "source": [
    "plt.plot(range(n_samples_init, n_samples_init + no_iter*n,n), AS.score[:-1],'-o')\n",
    "plt.ylabel('R^2 score')\n",
    "plt.xlabel('No. of samples')"
   ]
  },
  {
   "cell_type": "code",
   "execution_count": 9,
   "metadata": {
    "papermill": {
     "duration": 0.307808,
     "end_time": "2019-10-28T22:54:58.594141",
     "exception": false,
     "start_time": "2019-10-28T22:54:58.286333",
     "status": "completed"
    },
    "tags": []
   },
   "outputs": [
    {
     "data": {
      "image/png": "[encoded data removed]",
      "text/plain": [
       "<Figure size 432x288 with 1 Axes>"
      ]
     },
     "metadata": {
      "needs_background": "light"
     },
     "output_type": "display_data"
    }
   ],
   "source": [
    "# Manifold model\n",
    "scaler_mds = StandardScaler()\n",
    "p_norm = scaler_mds.fit_transform(AS.P)\n",
    "model = MDS(n_components=2, random_state=1)\n",
    "out3 = model.fit_transform(p_norm)\n",
    "\n",
    "plt.scatter(out3[:n_samples_init, 0], out3[:n_samples_init, 1], color='grey')\n",
    "plt.scatter(out3[n_samples_init:, 0], out3[n_samples_init:, 1], color='r')\n",
    "plt.axis('equal');"
   ]
  },
  {
   "cell_type": "code",
   "execution_count": 10,
   "metadata": {
    "papermill": {
     "duration": 0.700459,
     "end_time": "2019-10-28T22:54:59.308638",
     "exception": false,
     "start_time": "2019-10-28T22:54:58.608179",
     "status": "completed"
    },
    "tags": []
   },
   "outputs": [
    {
     "data": {
      "text/plain": [
       "(-4, 4)"
      ]
     },
     "execution_count": 10,
     "metadata": {},
     "output_type": "execute_result"
    },
    {
     "data": {
      "image/png": "[encoded data removed]",
      "text/plain": [
       "<Figure size 432x288 with 1 Axes>"
      ]
     },
     "metadata": {
      "needs_background": "light"
     },
     "output_type": "display_data"
    }
   ],
   "source": [
    "ax = sns.kdeplot(out3[n_samples_init:,0], out3[n_samples_init:,1], shade=True)\n",
    "plt.ylim([-4,4])\n",
    "plt.xlim([-4,4])"
   ]
  },
  {
   "cell_type": "code",
   "execution_count": 11,
   "metadata": {
    "papermill": {
     "duration": 0.793858,
     "end_time": "2019-10-28T22:55:00.116091",
     "exception": false,
     "start_time": "2019-10-28T22:54:59.322233",
     "status": "completed"
    },
    "tags": []
   },
   "outputs": [
    {
     "name": "stderr",
     "output_type": "stream",
     "text": [
      "/home/evan/anaconda3/lib/python3.6/site-packages/ipykernel_launcher.py:24: RuntimeWarning:\n",
      "\n",
      "invalid value encountered in less\n",
      "\n",
      "/home/evan/anaconda3/lib/python3.6/site-packages/ipykernel_launcher.py:24: RuntimeWarning:\n",
      "\n",
      "invalid value encountered in greater\n",
      "\n"
     ]
    },
    {
     "data": {
      "image/png": "[encoded data removed]",
      "text/plain": [
       "<Figure size 720x720 with 2 Axes>"
      ]
     },
     "metadata": {
      "needs_background": "light"
     },
     "output_type": "display_data"
    }
   ],
   "source": [
    "from scipy.interpolate import griddata\n",
    "x = out3[:,0] \n",
    "y = out3[:,1]\n",
    "z = reg.predict(AS.P)\n",
    "\n",
    "# Convert from pandas dataframes to numpy arrays\n",
    "X, Y, Z, = np.array([]), np.array([]), np.array([])\n",
    "for i in range(len(x)):\n",
    "        X = np.append(X, x[i])\n",
    "        Y = np.append(Y, y[i])\n",
    "        Z = np.append(Z, z[i])\n",
    "\n",
    "# create x-y points to be used in heatmap\n",
    "xi = np.linspace(X.min(), X.max(), 1000)\n",
    "yi = np.linspace(Y.min(), Y.max(), 1000)\n",
    "\n",
    "# Z is a matrix of x-y values\n",
    "zi = griddata((X, Y), Z, (xi[None,:], yi[:,None]), method='cubic')\n",
    "\n",
    "# I control the range of my colorbar by removing data \n",
    "# outside of my range of interest\n",
    "zmin = 1.0*10**9\n",
    "zmax = 3*10**9\n",
    "zi[(zi<zmin) | (zi>zmax)] = None\n",
    "\n",
    "# Create the contour plot\n",
    "plt.figure(figsize=(10,10))\n",
    "CS = plt.contourf(xi, yi, zi, 10, cmap=plt.cm.rainbow,\n",
    "                  vmax=zmax, vmin=zmin, alpha=.8)\n",
    "plt.colorbar()\n",
    "plt.scatter(out3[:18, 0], out3[:18, 1], color='grey')\n",
    "plt.scatter(out3[18:, 0], out3[18:, 1], color='r')\n",
    "#ax = sns.kdeplot(out3[18:,0], out3[18:,1], shade=True)\n",
    "\n",
    "\n",
    "plt.ylim([-4,4])\n",
    "plt.xlim([-4,4])\n",
    "plt.grid()"
   ]
  },
  {
   "cell_type": "code",
   "execution_count": null,
   "metadata": {
    "papermill": {
     "duration": 0.013454,
     "end_time": "2019-10-28T22:55:00.144118",
     "exception": false,
     "start_time": "2019-10-28T22:55:00.130664",
     "status": "completed"
    },
    "tags": []
   },
   "outputs": [],
   "source": []
  }
 ],
 "metadata": {
  "kernelspec": {
   "display_name": "Python 3",
   "language": "python",
   "name": "python3"
  },
  "language_info": {
   "codemirror_mode": {
    "name": "ipython",
    "version": 3
   },
   "file_extension": ".py",
   "mimetype": "text/x-python",
   "name": "python",
   "nbconvert_exporter": "python",
   "pygments_lexer": "ipython3",
   "version": "3.6.4"
  },
  "papermill": {
   "duration": 133.133643,
   "end_time": "2019-10-28T22:55:01.868751",
   "environment_variables": {},
   "exception": null,
   "input_path": "./SurrogateModelling/FitGPAdaptive.ipynb",
   "output_path": "./SurrogateModelling/FitGPAdaptive.ipynb",
   "parameters": {},
   "start_time": "2019-10-28T22:52:48.735108",
   "version": "1.2.0"
  }
 },
 "nbformat": 4,
 "nbformat_minor": 2
}