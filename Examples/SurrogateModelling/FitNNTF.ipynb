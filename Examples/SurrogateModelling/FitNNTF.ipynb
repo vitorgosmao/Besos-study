{
 "cells": [
  {
   "cell_type": "markdown",
   "metadata": {
    "papermill": {
     "duration": 0.013224,
     "end_time": "2019-10-28T22:52:08.684601",
     "exception": false,
     "start_time": "2019-10-28T22:52:08.671377",
     "status": "completed"
    },
    "tags": []
   },
   "source": [
    "# Tensorflow graph construction and training on building simulation data"
   ]
  },
  {
   "cell_type": "code",
   "execution_count": 1,
   "metadata": {
    "papermill": {
     "duration": 2.181307,
     "end_time": "2019-10-28T22:52:10.877798",
     "exception": false,
     "start_time": "2019-10-28T22:52:08.696491",
     "status": "completed"
    },
    "tags": []
   },
   "outputs": [
    {
     "name": "stdout",
     "output_type": "stream",
     "text": [
      "Couldn't import dot_parser, loading of dot files will not be possible.\n"
     ]
    },
    {
     "name": "stdout",
     "output_type": "stream",
     "text": [
      "WARNING:tensorflow:From /home/evan/anaconda3/lib/python3.6/site-packages/tensorflow_core/python/compat/v2_compat.py:65: disable_resource_variables (from tensorflow.python.ops.variable_scope) is deprecated and will be removed in a future version.\n",
      "Instructions for updating:\n",
      "non-resource variables are not supported in the long term\n"
     ]
    }
   ],
   "source": [
    "import pandas as pd\n",
    "import matplotlib\n",
    "import matplotlib.pyplot as plt\n",
    "import numpy as np\n",
    "from sklearn.model_selection import train_test_split\n",
    "from sklearn.preprocessing import StandardScaler\n",
    "import tensorflow.compat.v1 as tf\n",
    "tf.disable_v2_behavior()\n",
    "\n",
    "from besos import eppy_funcs as ef\n",
    "import besos.sampling as sampling\n",
    "from besos.problem import EPProblem\n",
    "from besos.evaluator import EvaluatorEP\n",
    "from besos.parameters import wwr, RangeParameter, FieldSelector, FilterSelector, GenericSelector, Parameter, expand_plist\n",
    "\n",
    "from parameter_sets import parameter_set"
   ]
  },
  {
   "cell_type": "markdown",
   "metadata": {
    "papermill": {
     "duration": 0.014435,
     "end_time": "2019-10-28T22:52:10.904812",
     "exception": false,
     "start_time": "2019-10-28T22:52:10.890377",
     "status": "completed"
    },
    "tags": []
   },
   "source": [
    "## Generate data set "
   ]
  },
  {
   "cell_type": "markdown",
   "metadata": {
    "papermill": {
     "duration": 0.011179,
     "end_time": "2019-10-28T22:52:10.927649",
     "exception": false,
     "start_time": "2019-10-28T22:52:10.916470",
     "status": "completed"
    },
    "tags": []
   },
   "source": [
    "This generates an example model and sampling data, see [this example](FitGPModel.ipynb)."
   ]
  },
  {
   "cell_type": "code",
   "execution_count": 2,
   "metadata": {
    "papermill": {
     "duration": 34.436534,
     "end_time": "2019-10-28T22:52:45.375705",
     "exception": false,
     "start_time": "2019-10-28T22:52:10.939171",
     "status": "completed"
    },
    "tags": []
   },
   "outputs": [
    {
     "name": "stderr",
     "output_type": "stream",
     "text": [
      "/home/evan/anaconda3/lib/python3.6/site-packages/besos/problem.py:77: RuntimeWarning: Duplicate names found. (duplicate, repetitions): [('Watts per Zone Floor Area', 2)]\n",
      "Attempting to fix automatically\n",
      "  warnings.warn(RuntimeWarning(f'Duplicate names found. (duplicate, repetitions): '\n"
     ]
    },
    {
     "data": {
      "application/vnd.jupyter.widget-view+json": {
       "model_id": "12c5cfa0456a40bf86be3b600654b87c",
       "version_major": 2,
       "version_minor": 0
      },
      "text/plain": [
       "HBox(children=(IntProgress(value=0, description='Executing', max=30, style=ProgressStyle(description_width='in…"
      ]
     },
     "metadata": {},
     "output_type": "display_data"
    },
    {
     "name": "stdout",
     "output_type": "stream",
     "text": [
      "\n"
     ]
    },
    {
     "data": {
      "text/html": [
       "<div>\n",
       "<style scoped>\n",
       "    .dataframe tbody tr th:only-of-type {\n",
       "        vertical-align: middle;\n",
       "    }\n",
       "\n",
       "    .dataframe tbody tr th {\n",
       "        vertical-align: top;\n",
       "    }\n",
       "\n",
       "    .dataframe thead th {\n",
       "        text-align: right;\n",
       "    }\n",
       "</style>\n",
       "<table border=\"1\" class=\"dataframe\">\n",
       "  <thead>\n",
       "    <tr style=\"text-align: right;\">\n",
       "      <th></th>\n",
       "      <th>Wall conductivity</th>\n",
       "      <th>Attic thickness</th>\n",
       "      <th>U-Factor</th>\n",
       "      <th>Solar Heat Gain Coefficient</th>\n",
       "      <th>Watts per Zone Floor Area_0</th>\n",
       "      <th>Watts per Zone Floor Area_1</th>\n",
       "      <th>Window to Wall Ratio</th>\n",
       "      <th>Electricity:Facility</th>\n",
       "    </tr>\n",
       "  </thead>\n",
       "  <tbody>\n",
       "    <tr>\n",
       "      <td>0</td>\n",
       "      <td>0.166028</td>\n",
       "      <td>0.245326</td>\n",
       "      <td>1.414851</td>\n",
       "      <td>0.770379</td>\n",
       "      <td>12.694349</td>\n",
       "      <td>10.635289</td>\n",
       "      <td>0.519471</td>\n",
       "      <td>1.965788e+09</td>\n",
       "    </tr>\n",
       "    <tr>\n",
       "      <td>1</td>\n",
       "      <td>0.126933</td>\n",
       "      <td>0.281265</td>\n",
       "      <td>2.041360</td>\n",
       "      <td>0.336528</td>\n",
       "      <td>11.920240</td>\n",
       "      <td>10.726232</td>\n",
       "      <td>0.121119</td>\n",
       "      <td>1.890366e+09</td>\n",
       "    </tr>\n",
       "    <tr>\n",
       "      <td>2</td>\n",
       "      <td>0.186792</td>\n",
       "      <td>0.142041</td>\n",
       "      <td>4.661823</td>\n",
       "      <td>0.945478</td>\n",
       "      <td>11.228277</td>\n",
       "      <td>10.894558</td>\n",
       "      <td>0.246808</td>\n",
       "      <td>1.901000e+09</td>\n",
       "    </tr>\n",
       "    <tr>\n",
       "      <td>3</td>\n",
       "      <td>0.116475</td>\n",
       "      <td>0.225138</td>\n",
       "      <td>1.625447</td>\n",
       "      <td>0.650817</td>\n",
       "      <td>12.343686</td>\n",
       "      <td>14.544457</td>\n",
       "      <td>0.328065</td>\n",
       "      <td>2.173122e+09</td>\n",
       "    </tr>\n",
       "    <tr>\n",
       "      <td>4</td>\n",
       "      <td>0.059160</td>\n",
       "      <td>0.153667</td>\n",
       "      <td>3.407755</td>\n",
       "      <td>0.371467</td>\n",
       "      <td>10.409444</td>\n",
       "      <td>11.501166</td>\n",
       "      <td>0.190251</td>\n",
       "      <td>1.819532e+09</td>\n",
       "    </tr>\n",
       "  </tbody>\n",
       "</table>\n",
       "</div>"
      ],
      "text/plain": [
       "   Wall conductivity  Attic thickness  U-Factor  Solar Heat Gain Coefficient  \\\n",
       "0           0.166028         0.245326  1.414851                     0.770379   \n",
       "1           0.126933         0.281265  2.041360                     0.336528   \n",
       "2           0.186792         0.142041  4.661823                     0.945478   \n",
       "3           0.116475         0.225138  1.625447                     0.650817   \n",
       "4           0.059160         0.153667  3.407755                     0.371467   \n",
       "\n",
       "   Watts per Zone Floor Area_0  Watts per Zone Floor Area_1  \\\n",
       "0                    12.694349                    10.635289   \n",
       "1                    11.920240                    10.726232   \n",
       "2                    11.228277                    10.894558   \n",
       "3                    12.343686                    14.544457   \n",
       "4                    10.409444                    11.501166   \n",
       "\n",
       "   Window to Wall Ratio  Electricity:Facility  \n",
       "0              0.519471          1.965788e+09  \n",
       "1              0.121119          1.890366e+09  \n",
       "2              0.246808          1.901000e+09  \n",
       "3              0.328065          2.173122e+09  \n",
       "4              0.190251          1.819532e+09  "
      ]
     },
     "execution_count": 2,
     "metadata": {},
     "output_type": "execute_result"
    }
   ],
   "source": [
    "parameters = parameter_set(7)\n",
    "problem = EPProblem(parameters, ['Electricity:Facility'])\n",
    "building = ef.get_building()\n",
    "inputs = sampling.dist_sampler(sampling.lhs, problem,30)\n",
    "evaluator = EvaluatorEP(problem, building)\n",
    "outputs = evaluator.df_apply(inputs)\n",
    "results = inputs.join(outputs)\n",
    "results.head()"
   ]
  },
  {
   "cell_type": "markdown",
   "metadata": {
    "papermill": {
     "duration": 0.013758,
     "end_time": "2019-10-28T22:52:45.402371",
     "exception": false,
     "start_time": "2019-10-28T22:52:45.388613",
     "status": "completed"
    },
    "tags": []
   },
   "source": [
    "# Tensorflow Feed-forward Neural Network Example"
   ]
  },
  {
   "cell_type": "markdown",
   "metadata": {
    "papermill": {
     "duration": 0.01219,
     "end_time": "2019-10-28T22:52:45.427894",
     "exception": false,
     "start_time": "2019-10-28T22:52:45.415704",
     "status": "completed"
    },
    "tags": []
   },
   "source": [
    "#### 1) Define Network Parameters"
   ]
  },
  {
   "cell_type": "markdown",
   "metadata": {
    "papermill": {
     "duration": 0.012496,
     "end_time": "2019-10-28T22:52:45.453218",
     "exception": false,
     "start_time": "2019-10-28T22:52:45.440722",
     "status": "completed"
    },
    "tags": []
   },
   "source": [
    "#### Static Parameters"
   ]
  },
  {
   "cell_type": "markdown",
   "metadata": {
    "papermill": {
     "duration": 0.011871,
     "end_time": "2019-10-28T22:52:45.477535",
     "exception": false,
     "start_time": "2019-10-28T22:52:45.465664",
     "status": "completed"
    },
    "tags": []
   },
   "source": [
    "All network parameters defined in this section are not part of the hyperparameter optimisation.  \n",
    "Any of these parameters can be switched to an optimization parameter (see below)."
   ]
  },
  {
   "cell_type": "code",
   "execution_count": 3,
   "metadata": {
    "papermill": {
     "duration": 0.018869,
     "end_time": "2019-10-28T22:52:45.509710",
     "exception": false,
     "start_time": "2019-10-28T22:52:45.490841",
     "status": "completed"
    },
    "tags": []
   },
   "outputs": [],
   "source": [
    "learning_rate = 0.1\n",
    "training_epochs =4000\n",
    "display_step = 300\n",
    "\n",
    "n_hidden_1 = 10\n",
    "n_hidden_2 = 10"
   ]
  },
  {
   "cell_type": "markdown",
   "metadata": {
    "papermill": {
     "duration": 0.012681,
     "end_time": "2019-10-28T22:52:45.536106",
     "exception": false,
     "start_time": "2019-10-28T22:52:45.523425",
     "status": "completed"
    },
    "tags": []
   },
   "source": [
    "#### Hyper-parameters"
   ]
  },
  {
   "cell_type": "markdown",
   "metadata": {
    "papermill": {
     "duration": 0.012245,
     "end_time": "2019-10-28T22:52:45.560760",
     "exception": false,
     "start_time": "2019-10-28T22:52:45.548515",
     "status": "completed"
    },
    "tags": []
   },
   "source": [
    "Here we use the L2 norm regularization parameter alpha to calibrate the network bias-variance trade-off."
   ]
  },
  {
   "cell_type": "code",
   "execution_count": 4,
   "metadata": {
    "papermill": {
     "duration": 0.0188,
     "end_time": "2019-10-28T22:52:45.591749",
     "exception": false,
     "start_time": "2019-10-28T22:52:45.572949",
     "status": "completed"
    },
    "tags": []
   },
   "outputs": [],
   "source": [
    "alpha = tf.placeholder(tf.float32, None, name=\"Alpha\")\n",
    "hy_par = [1e0, 1e1, 1e3]"
   ]
  },
  {
   "cell_type": "markdown",
   "metadata": {
    "papermill": {
     "duration": 0.014192,
     "end_time": "2019-10-28T22:52:45.619808",
     "exception": false,
     "start_time": "2019-10-28T22:52:45.605616",
     "status": "completed"
    },
    "tags": []
   },
   "source": [
    "#### 2) Train-Test split, standardization\n",
    "Next we split the data into a training set (80%) and a testing set (20%), and normalise it."
   ]
  },
  {
   "cell_type": "code",
   "execution_count": 5,
   "metadata": {
    "papermill": {
     "duration": 0.024807,
     "end_time": "2019-10-28T22:52:45.659093",
     "exception": false,
     "start_time": "2019-10-28T22:52:45.634286",
     "status": "completed"
    },
    "tags": []
   },
   "outputs": [],
   "source": [
    "train_in, test_in, train_out, test_out = train_test_split(inputs, outputs, test_size=0.2)\n",
    "scaler = StandardScaler()\n",
    "X_norm = scaler.fit_transform(X=train_in)\n",
    "X_norm_test = scaler.transform(test_in)\n",
    "\n",
    "scaler_out = StandardScaler()\n",
    "y_norm = scaler_out.fit_transform(X=train_out)\n",
    "y_norm_test = scaler_out.transform(test_out)"
   ]
  },
  {
   "cell_type": "markdown",
   "metadata": {
    "papermill": {
     "duration": 0.01253,
     "end_time": "2019-10-28T22:52:45.684321",
     "exception": false,
     "start_time": "2019-10-28T22:52:45.671791",
     "status": "completed"
    },
    "tags": []
   },
   "source": [
    "## 3) Set up the Tensorflow graph"
   ]
  },
  {
   "cell_type": "markdown",
   "metadata": {
    "papermill": {
     "duration": 0.012192,
     "end_time": "2019-10-28T22:52:45.708976",
     "exception": false,
     "start_time": "2019-10-28T22:52:45.696784",
     "status": "completed"
    },
    "tags": []
   },
   "source": [
    "Set up inputs and outputs as placeholder variables to be used in setting up the Tensorflow graph."
   ]
  },
  {
   "cell_type": "code",
   "execution_count": 6,
   "metadata": {
    "papermill": {
     "duration": 0.022007,
     "end_time": "2019-10-28T22:52:45.744386",
     "exception": false,
     "start_time": "2019-10-28T22:52:45.722379",
     "status": "completed"
    },
    "tags": []
   },
   "outputs": [],
   "source": [
    "X = tf.placeholder(tf.float32, [None, len(X_norm[0,:])], name=\"X\")\n",
    "Y = tf.placeholder(tf.float32, [None,len(y_norm[0,:])], name=\"y\")"
   ]
  },
  {
   "cell_type": "markdown",
   "metadata": {
    "papermill": {
     "duration": 0.014847,
     "end_time": "2019-10-28T22:52:45.771932",
     "exception": false,
     "start_time": "2019-10-28T22:52:45.757085",
     "status": "completed"
    },
    "tags": []
   },
   "source": [
    "### 4) Define weight, bias terms"
   ]
  },
  {
   "cell_type": "code",
   "execution_count": 7,
   "metadata": {
    "papermill": {
     "duration": 0.045084,
     "end_time": "2019-10-28T22:52:45.830825",
     "exception": false,
     "start_time": "2019-10-28T22:52:45.785741",
     "status": "completed"
    },
    "tags": []
   },
   "outputs": [],
   "source": [
    "with tf.name_scope(\"Variable_Definition\"):\n",
    "    weights = {\n",
    "        'h1': tf.Variable(tf.random_normal([len(X_norm[0,:]),n_hidden_1]),name=\"HiddenLayer1\"),\n",
    "        'h2': tf.Variable(tf.random_normal([n_hidden_1,n_hidden_2]),name=\"HiddenLayer2\"),\n",
    "        'out': tf.Variable(tf.random_normal([n_hidden_2, len(y_norm[0,:])]),name=\"OutputLayer1\")\n",
    "    }\n",
    "\n",
    "    biases = {\n",
    "        'b1': tf.Variable(tf.random_normal([n_hidden_1]),name=\"Bias\"),\n",
    "        'b2': tf.Variable(tf.random_normal([n_hidden_2]),name=\"Bias\"),\n",
    "        'out': tf.Variable(tf.random_normal([1]))\n",
    "    }"
   ]
  },
  {
   "cell_type": "markdown",
   "metadata": {
    "papermill": {
     "duration": 0.013002,
     "end_time": "2019-10-28T22:52:45.857752",
     "exception": false,
     "start_time": "2019-10-28T22:52:45.844750",
     "status": "completed"
    },
    "tags": []
   },
   "source": [
    "### 5) Define Inference Model"
   ]
  },
  {
   "cell_type": "code",
   "execution_count": 8,
   "metadata": {
    "papermill": {
     "duration": 0.024022,
     "end_time": "2019-10-28T22:52:45.894959",
     "exception": false,
     "start_time": "2019-10-28T22:52:45.870937",
     "status": "completed"
    },
    "tags": []
   },
   "outputs": [],
   "source": [
    "with tf.name_scope(\"FFNN_Model\"): # open up the Tensorflow name scope (context manager)\n",
    "    def multilayer_perceptron(x): # this function defines the Graph of our neural network\n",
    "        with tf.name_scope(\"HL1\"):\n",
    "            layer_1 = tf.add(tf.matmul(x, weights['h1']), biases['b1']) # apply Cartesian Product on inputs to the network (x) and the weights of layer 1, afterwards add the biases.\n",
    "            layer_1 = tf.nn.relu(layer_1) # Apply the relu activation function subsequently in each of the neurons\n",
    "        with tf.name_scope(\"HL2\"):\n",
    "            layer_2 = tf.add(tf.matmul(layer_1, weights['h2']), biases['b2']) # see above only we use layer_1 as input to layer_2\n",
    "            layer_2 = tf.nn.relu(layer_2)\n",
    "        with tf.name_scope(\"OutputLayer\"):\n",
    "            out_layer = tf.matmul(layer_2, weights['out']) + biases['out']\n",
    "        return out_layer\n",
    "    # 5b) Construct Model\n",
    "    y_pred = multilayer_perceptron(X)"
   ]
  },
  {
   "cell_type": "markdown",
   "metadata": {
    "papermill": {
     "duration": 0.012118,
     "end_time": "2019-10-28T22:52:45.919867",
     "exception": false,
     "start_time": "2019-10-28T22:52:45.907749",
     "status": "completed"
    },
    "tags": []
   },
   "source": [
    "### 6) Define Loss function (operation definition), incl. L2 Regularization"
   ]
  },
  {
   "cell_type": "code",
   "execution_count": 9,
   "metadata": {
    "papermill": {
     "duration": 0.023643,
     "end_time": "2019-10-28T22:52:45.955667",
     "exception": false,
     "start_time": "2019-10-28T22:52:45.932024",
     "status": "completed"
    },
    "tags": []
   },
   "outputs": [],
   "source": [
    "with tf.name_scope(\"Cost_regularized\"): # next element in the TF-Graph\n",
    "    # set up mean squared error with L2 regularization\n",
    "    loss_op = tf.reduce_mean(tf.square(Y - y_pred)) + alpha*(\\\n",
    "              tf.nn.l2_loss(weights['h1'])+ \\\n",
    "              tf.nn.l2_loss(weights['h2'])+ \\\n",
    "              tf.nn.l2_loss(weights['out']))\n",
    "    tf.summary.scalar(\"Test\",loss_op) # observe the loss function throughout the run"
   ]
  },
  {
   "cell_type": "markdown",
   "metadata": {
    "papermill": {
     "duration": 0.0122,
     "end_time": "2019-10-28T22:52:45.980935",
     "exception": false,
     "start_time": "2019-10-28T22:52:45.968735",
     "status": "completed"
    },
    "tags": []
   },
   "source": [
    "### 7) Define other metrics to be observed (not cost function)"
   ]
  },
  {
   "cell_type": "markdown",
   "metadata": {
    "papermill": {
     "duration": 0.012588,
     "end_time": "2019-10-28T22:52:46.006747",
     "exception": false,
     "start_time": "2019-10-28T22:52:45.994159",
     "status": "completed"
    },
    "tags": []
   },
   "source": [
    "R^2 score (operation definition)"
   ]
  },
  {
   "cell_type": "code",
   "execution_count": 10,
   "metadata": {
    "papermill": {
     "duration": 0.025444,
     "end_time": "2019-10-28T22:52:46.044593",
     "exception": false,
     "start_time": "2019-10-28T22:52:46.019149",
     "status": "completed"
    },
    "tags": []
   },
   "outputs": [
    {
     "name": "stdout",
     "output_type": "stream",
     "text": [
      "WARNING:tensorflow:From <ipython-input-10-d3782fd74390>:4: div (from tensorflow.python.ops.math_ops) is deprecated and will be removed in a future version.\n",
      "Instructions for updating:\n",
      "Deprecated in favor of operator or tf.math.divide.\n"
     ]
    }
   ],
   "source": [
    "with tf.name_scope(\"R2_Score\"):\n",
    "    total_error = tf.reduce_sum(tf.square(Y - tf.reduce_mean(Y)))\n",
    "    unexplained_error = tf.reduce_sum(tf.square(Y - y_pred))\n",
    "    R_squared = tf.subtract(1.0, tf.div(unexplained_error,total_error))\n",
    "    tf.summary.scalar(\"R2\",R_squared)"
   ]
  },
  {
   "cell_type": "markdown",
   "metadata": {
    "papermill": {
     "duration": 0.012067,
     "end_time": "2019-10-28T22:52:46.069462",
     "exception": false,
     "start_time": "2019-10-28T22:52:46.057395",
     "status": "completed"
    },
    "tags": []
   },
   "source": [
    "Mean Absolute Error (MAE)"
   ]
  },
  {
   "cell_type": "code",
   "execution_count": 11,
   "metadata": {
    "papermill": {
     "duration": 0.022337,
     "end_time": "2019-10-28T22:52:46.105199",
     "exception": false,
     "start_time": "2019-10-28T22:52:46.082862",
     "status": "completed"
    },
    "tags": []
   },
   "outputs": [],
   "source": [
    "with tf.name_scope(\"MAE\"):\n",
    "    mae = tf.reduce_mean(tf.abs(Y - y_pred))\n",
    "    tf.summary.scalar(\"MAE\",loss_op)"
   ]
  },
  {
   "cell_type": "markdown",
   "metadata": {
    "papermill": {
     "duration": 0.012488,
     "end_time": "2019-10-28T22:52:46.130833",
     "exception": false,
     "start_time": "2019-10-28T22:52:46.118345",
     "status": "completed"
    },
    "tags": []
   },
   "source": [
    "### 8) Define Optimizer"
   ]
  },
  {
   "cell_type": "code",
   "execution_count": 12,
   "metadata": {
    "papermill": {
     "duration": 0.116387,
     "end_time": "2019-10-28T22:52:46.259843",
     "exception": false,
     "start_time": "2019-10-28T22:52:46.143456",
     "status": "completed"
    },
    "tags": []
   },
   "outputs": [],
   "source": [
    "with tf.name_scope(\"Training\"):\n",
    "    optimizer = tf.train.AdamOptimizer(learning_rate=learning_rate,name=\"Training\")\n",
    "    train_op = optimizer.minimize(loss_op)"
   ]
  },
  {
   "cell_type": "markdown",
   "metadata": {
    "papermill": {
     "duration": 0.012446,
     "end_time": "2019-10-28T22:52:46.286030",
     "exception": false,
     "start_time": "2019-10-28T22:52:46.273584",
     "status": "completed"
    },
    "tags": []
   },
   "source": [
    "### 9) Define Variable initializer"
   ]
  },
  {
   "cell_type": "code",
   "execution_count": 13,
   "metadata": {
    "papermill": {
     "duration": 0.01854,
     "end_time": "2019-10-28T22:52:46.318027",
     "exception": false,
     "start_time": "2019-10-28T22:52:46.299487",
     "status": "completed"
    },
    "tags": []
   },
   "outputs": [],
   "source": [
    "init_op = tf.global_variables_initializer()"
   ]
  },
  {
   "cell_type": "code",
   "execution_count": 14,
   "metadata": {
    "papermill": {
     "duration": 0.020575,
     "end_time": "2019-10-28T22:52:46.351231",
     "exception": false,
     "start_time": "2019-10-28T22:52:46.330656",
     "status": "completed"
    },
    "tags": []
   },
   "outputs": [],
   "source": [
    "def optimize(training_epochs, display_step, X_train, y_train, X_test, y_test, reg_par=None):\n",
    "    sess.run(init_op)\n",
    "    fig = plt.figure()\n",
    "    for i in range (training_epochs):\n",
    "        if reg_par==None:       # Check if hyperparameter provided\n",
    "            sess.run([train_op, loss_op], feed_dict={X: X_train, Y: y_train})\n",
    "        else:\n",
    "            sess.run([train_op], feed_dict={X: X_train, Y: y_train, alpha: reg_par})\n",
    "\n",
    "        if i % display_step == 0:\n",
    "            #print(i)\n",
    "            pred = sess.run(R_squared, feed_dict={X: X_test, Y: y_test})\n",
    "            plt.plot(i, pred, 'bx')\n",
    "            pred = sess.run(R_squared, feed_dict={X: X_train, Y: y_train})\n",
    "            plt.plot(i, pred, 'rx')\n",
    "\n",
    "            # create summary\n",
    "            result = sess.run(merged, feed_dict={X: X_train, Y: y_train, alpha: reg_par})\n",
    "            writer.add_summary(result, i)\n",
    "            #plt.pause(0.1)\n",
    "    print(\"Finished! Accuracy of Network:\", sess.run(R_squared, feed_dict={X: X_test, Y: y_test}))\n",
    "    plt.close()\n",
    "    return"
   ]
  },
  {
   "cell_type": "markdown",
   "metadata": {
    "papermill": {
     "duration": 0.012255,
     "end_time": "2019-10-28T22:52:46.375887",
     "exception": false,
     "start_time": "2019-10-28T22:52:46.363632",
     "status": "completed"
    },
    "tags": []
   },
   "source": [
    "# Execute Tensorflow Graph"
   ]
  },
  {
   "cell_type": "code",
   "execution_count": 15,
   "metadata": {
    "papermill": {
     "duration": 1.772616,
     "end_time": "2019-10-28T22:52:48.162012",
     "exception": false,
     "start_time": "2019-10-28T22:52:46.389396",
     "status": "completed"
    },
    "tags": []
   },
   "outputs": [
    {
     "name": "stdout",
     "output_type": "stream",
     "text": [
      "Hyperparameter alpha: 10.000\n",
      "Training Network\n"
     ]
    },
    {
     "name": "stdout",
     "output_type": "stream",
     "text": [
      "Finished! Accuracy of Network: -0.91766703\n"
     ]
    }
   ],
   "source": [
    "with tf.Session() as sess:\n",
    "    merged = tf.summary.merge_all()\n",
    "    writer = tf.summary.FileWriter(\"logs/NN\", sess.graph) # for storing the neural networks\n",
    "\n",
    "    hy_par_temp = hy_par[np.random.randint(0,len(hy_par))]\n",
    "    print(\"Hyperparameter alpha: %.3f\"  %hy_par_temp)\n",
    "    print(\"Training Network\")\n",
    "    optimize(training_epochs, display_step, X_norm, y_norm, X_norm_test, y_norm_test, reg_par=hy_par_temp)\n",
    "    #saver.save(sess=sess, save_path=get_save_path(i))"
   ]
  }
 ],
 "metadata": {
  "kernelspec": {
   "display_name": "Python 3",
   "language": "python",
   "name": "python3"
  },
  "language_info": {
   "codemirror_mode": {
    "name": "ipython",
    "version": 3
   },
   "file_extension": ".py",
   "mimetype": "text/x-python",
   "name": "python",
   "nbconvert_exporter": "python",
   "pygments_lexer": "ipython3",
   "version": "3.6.4"
  },
  "papermill": {
   "duration": 40.669897,
   "end_time": "2019-10-28T22:52:48.681655",
   "environment_variables": {},
   "exception": null,
   "input_path": "./SurrogateModelling/FitNNTF.ipynb",
   "output_path": "./SurrogateModelling/FitNNTF.ipynb",
   "parameters": {},
   "start_time": "2019-10-28T22:52:08.011758",
   "version": "1.2.0"
  },
  "widgets": {
   "application/vnd.jupyter.widget-state+json": {
    "state": {
     "12c5cfa0456a40bf86be3b600654b87c": {
      "model_module": "@jupyter-widgets/controls",
      "model_module_version": "1.5.0",
      "model_name": "HBoxModel",
      "state": {
       "_dom_classes": [],
       "_model_module": "@jupyter-widgets/controls",
       "_model_module_version": "1.5.0",
       "_model_name": "HBoxModel",
       "_view_count": null,
       "_view_module": "@jupyter-widgets/controls",
       "_view_module_version": "1.5.0",
       "_view_name": "HBoxView",
       "box_style": "",
       "children": [
        "IPY_MODEL_c05c3c3712e84035b978d540bf04302b",
        "IPY_MODEL_d561b5a6c99c47eaab4efb4e443524ee"
       ],
       "layout": "IPY_MODEL_1befa002df2a4b858ce5d7a745835000"
      }
     },
     "1befa002df2a4b858ce5d7a745835000": {
      "model_module": "@jupyter-widgets/base",
      "model_module_version": "1.2.0",
      "model_name": "LayoutModel",
      "state": {
       "_model_module": "@jupyter-widgets/base",
       "_model_module_version": "1.2.0",
       "_model_name": "LayoutModel",
       "_view_count": null,
       "_view_module": "@jupyter-widgets/base",
       "_view_module_version": "1.2.0",
       "_view_name": "LayoutView",
       "align_content": null,
       "align_items": null,
       "align_self": null,
       "border": null,
       "bottom": null,
       "display": null,
       "flex": null,
       "flex_flow": null,
       "grid_area": null,
       "grid_auto_columns": null,
       "grid_auto_flow": null,
       "grid_auto_rows": null,
       "grid_column": null,
       "grid_gap": null,
       "grid_row": null,
       "grid_template_areas": null,
       "grid_template_columns": null,
       "grid_template_rows": null,
       "height": null,
       "justify_content": null,
       "justify_items": null,
       "left": null,
       "margin": null,
       "max_height": null,
       "max_width": null,
       "min_height": null,
       "min_width": null,
       "object_fit": null,
       "object_position": null,
       "order": null,
       "overflow": null,
       "overflow_x": null,
       "overflow_y": null,
       "padding": null,
       "right": null,
       "top": null,
       "visibility": null,
       "width": null
      }
     },
     "682c4bb36b704248a8a1a8d7e8d5a931": {
      "model_module": "@jupyter-widgets/base",
      "model_module_version": "1.2.0",
      "model_name": "LayoutModel",
      "state": {
       "_model_module": "@jupyter-widgets/base",
       "_model_module_version": "1.2.0",
       "_model_name": "LayoutModel",
       "_view_count": null,
       "_view_module": "@jupyter-widgets/base",
       "_view_module_version": "1.2.0",
       "_view_name": "LayoutView",
       "align_content": null,
       "align_items": null,
       "align_self": null,
       "border": null,
       "bottom": null,
       "display": null,
       "flex": null,
       "flex_flow": null,
       "grid_area": null,
       "grid_auto_columns": null,
       "grid_auto_flow": null,
       "grid_auto_rows": null,
       "grid_column": null,
       "grid_gap": null,
       "grid_row": null,
       "grid_template_areas": null,
       "grid_template_columns": null,
       "grid_template_rows": null,
       "height": null,
       "justify_content": null,
       "justify_items": null,
       "left": null,
       "margin": null,
       "max_height": null,
       "max_width": null,
       "min_height": null,
       "min_width": null,
       "object_fit": null,
       "object_position": null,
       "order": null,
       "overflow": null,
       "overflow_x": null,
       "overflow_y": null,
       "padding": null,
       "right": null,
       "top": null,
       "visibility": null,
       "width": null
      }
     },
     "6ef3ef8a376b4daeb47ee90d156ade0b": {
      "model_module": "@jupyter-widgets/controls",
      "model_module_version": "1.5.0",
      "model_name": "ProgressStyleModel",
      "state": {
       "_model_module": "@jupyter-widgets/controls",
       "_model_module_version": "1.5.0",
       "_model_name": "ProgressStyleModel",
       "_view_count": null,
       "_view_module": "@jupyter-widgets/base",
       "_view_module_version": "1.2.0",
       "_view_name": "StyleView",
       "bar_color": null,
       "description_width": "initial"
      }
     },
     "77e99837ecf64fcdb5bc696e94a5b862": {
      "model_module": "@jupyter-widgets/base",
      "model_module_version": "1.2.0",
      "model_name": "LayoutModel",
      "state": {
       "_model_module": "@jupyter-widgets/base",
       "_model_module_version": "1.2.0",
       "_model_name": "LayoutModel",
       "_view_count": null,
       "_view_module": "@jupyter-widgets/base",
       "_view_module_version": "1.2.0",
       "_view_name": "LayoutView",
       "align_content": null,
       "align_items": null,
       "align_self": null,
       "border": null,
       "bottom": null,
       "display": null,
       "flex": null,
       "flex_flow": null,
       "grid_area": null,
       "grid_auto_columns": null,
       "grid_auto_flow": null,
       "grid_auto_rows": null,
       "grid_column": null,
       "grid_gap": null,
       "grid_row": null,
       "grid_template_areas": null,
       "grid_template_columns": null,
       "grid_template_rows": null,
       "height": null,
       "justify_content": null,
       "justify_items": null,
       "left": null,
       "margin": null,
       "max_height": null,
       "max_width": null,
       "min_height": null,
       "min_width": null,
       "object_fit": null,
       "object_position": null,
       "order": null,
       "overflow": null,
       "overflow_x": null,
       "overflow_y": null,
       "padding": null,
       "right": null,
       "top": null,
       "visibility": null,
       "width": null
      }
     },
     "c05c3c3712e84035b978d540bf04302b": {
      "model_module": "@jupyter-widgets/controls",
      "model_module_version": "1.5.0",
      "model_name": "IntProgressModel",
      "state": {
       "_dom_classes": [],
       "_model_module": "@jupyter-widgets/controls",
       "_model_module_version": "1.5.0",
       "_model_name": "IntProgressModel",
       "_view_count": null,
       "_view_module": "@jupyter-widgets/controls",
       "_view_module_version": "1.5.0",
       "_view_name": "ProgressView",
       "bar_style": "success",
       "description": "Executing: 100%",
       "description_tooltip": null,
       "layout": "IPY_MODEL_77e99837ecf64fcdb5bc696e94a5b862",
       "max": 30,
       "min": 0,
       "orientation": "horizontal",
       "style": "IPY_MODEL_6ef3ef8a376b4daeb47ee90d156ade0b",
       "value": 30
      }
     },
     "d561b5a6c99c47eaab4efb4e443524ee": {
      "model_module": "@jupyter-widgets/controls",
      "model_module_version": "1.5.0",
      "model_name": "HTMLModel",
      "state": {
       "_dom_classes": [],
       "_model_module": "@jupyter-widgets/controls",
       "_model_module_version": "1.5.0",
       "_model_name": "HTMLModel",
       "_view_count": null,
       "_view_module": "@jupyter-widgets/controls",
       "_view_module_version": "1.5.0",
       "_view_name": "HTMLView",
       "description": "",
       "description_tooltip": null,
       "layout": "IPY_MODEL_682c4bb36b704248a8a1a8d7e8d5a931",
       "placeholder": "​",
       "style": "IPY_MODEL_dafe1d042d9d495aad543d0e447fba31",
       "value": " 30/30 [00:34&lt;00:00,  1.15s/row]"
      }
     },
     "dafe1d042d9d495aad543d0e447fba31": {
      "model_module": "@jupyter-widgets/controls",
      "model_module_version": "1.5.0",
      "model_name": "DescriptionStyleModel",
      "state": {
       "_model_module": "@jupyter-widgets/controls",
       "_model_module_version": "1.5.0",
       "_model_name": "DescriptionStyleModel",
       "_view_count": null,
       "_view_module": "@jupyter-widgets/base",
       "_view_module_version": "1.2.0",
       "_view_name": "StyleView",
       "description_width": ""
      }
     }
    },
    "version_major": 2,
    "version_minor": 0
   }
  }
 },
 "nbformat": 4,
 "nbformat_minor": 2
}