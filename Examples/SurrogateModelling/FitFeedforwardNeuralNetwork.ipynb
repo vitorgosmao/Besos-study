{
 "cells": [
  {
   "cell_type": "markdown",
   "metadata": {
    "papermill": {
     "duration": 0.012559,
     "end_time": "2019-10-28T22:55:02.559419",
     "exception": false,
     "start_time": "2019-10-28T22:55:02.546860",
     "status": "completed"
    },
    "tags": []
   },
   "source": [
    "# Fit feedforward Neural Network model"
   ]
  },
  {
   "cell_type": "code",
   "execution_count": 1,
   "metadata": {
    "papermill": {
     "duration": 1.532357,
     "end_time": "2019-10-28T22:55:04.101770",
     "exception": false,
     "start_time": "2019-10-28T22:55:02.569413",
     "status": "completed"
    },
    "tags": []
   },
   "outputs": [],
   "source": [
    "import pandas as pd \n",
    "import matplotlib.pyplot as plt\n",
    "import time\n",
    "import plotly\n",
    "import chart_studio\n",
    "import chart_studio.plotly as py\n",
    "import plotly.graph_objs as go\n",
    "from sklearn.neural_network import MLPRegressor\n",
    "from sklearn.preprocessing import StandardScaler\n",
    "from sklearn.model_selection import train_test_split\n",
    "from sklearn.model_selection import GridSearchCV\n",
    "\n",
    "from besos import eppy_funcs as ef\n",
    "import besos.sampling as sampling\n",
    "from besos.problem import EPProblem\n",
    "from besos.evaluator import EvaluatorEP, EvaluatorGeneric\n",
    "from besos.parameters import wwr, RangeParameter, FieldSelector, FilterSelector, GenericSelector, Parameter, expand_plist\n",
    "from parameters import RangeParameter, CategoryParameter, expand_plist\n",
    "\n",
    "from parameter_sets import parameter_set"
   ]
  },
  {
   "cell_type": "markdown",
   "metadata": {
    "papermill": {
     "duration": 0.009753,
     "end_time": "2019-10-28T22:55:04.121992",
     "exception": false,
     "start_time": "2019-10-28T22:55:04.112239",
     "status": "completed"
    },
    "tags": []
   },
   "source": [
    "We begin by:\n",
    "+ getting a predefined list of 7 parameters from `parameter_sets.py`\n",
    "+ making these into a `problem` with electricty use as the objective\n",
    "+ and making an `evaluator` using the default EnergyPlus building."
   ]
  },
  {
   "cell_type": "code",
   "execution_count": 2,
   "metadata": {
    "code_folding": [
     0,
     1,
     59,
     60
    ],
    "papermill": {
     "duration": 0.019077,
     "end_time": "2019-10-28T22:55:04.150455",
     "exception": false,
     "start_time": "2019-10-28T22:55:04.131378",
     "status": "completed"
    },
    "tags": []
   },
   "outputs": [
    {
     "name": "stderr",
     "output_type": "stream",
     "text": [
      "/home/evan/anaconda3/lib/python3.6/site-packages/besos/problem.py:102: RuntimeWarning:\n",
      "\n",
      "Duplicate names found. (duplicate, repetitions): [('Watts per Zone Floor Area', 2)]\n",
      "Attempting to fix automatically\n",
      "\n"
     ]
    }
   ],
   "source": [
    "parameters = parameter_set(7)\n",
    "problem = EPProblem(parameters, ['Electricity:Facility'])\n",
    "building = ef.get_building()\n",
    "evaluator = EvaluatorEP(problem, building)"
   ]
  },
  {
   "cell_type": "markdown",
   "metadata": {
    "papermill": {
     "duration": 0.009828,
     "end_time": "2019-10-28T22:55:04.169796",
     "exception": false,
     "start_time": "2019-10-28T22:55:04.159968",
     "status": "completed"
    },
    "tags": []
   },
   "source": [
    "Then we get 20 samples across this design space and evaluate them."
   ]
  },
  {
   "cell_type": "code",
   "execution_count": 3,
   "metadata": {
    "code_folding": [],
    "papermill": {
     "duration": 24.293469,
     "end_time": "2019-10-28T22:55:28.473426",
     "exception": false,
     "start_time": "2019-10-28T22:55:04.179957",
     "status": "completed"
    },
    "tags": []
   },
   "outputs": [
    {
     "data": {
      "application/vnd.jupyter.widget-view+json": {
       "model_id": "83b71c8bd778467a9c4a14b98978e4fb",
       "version_major": 2,
       "version_minor": 0
      },
      "text/plain": [
       "HBox(children=(IntProgress(value=0, description='Executing', max=20, style=ProgressStyle(description_width='in…"
      ]
     },
     "metadata": {},
     "output_type": "display_data"
    },
    {
     "name": "stdout",
     "output_type": "stream",
     "text": [
      "\n"
     ]
    },
    {
     "data": {
      "text/html": [
       "<div>\n",
       "<style scoped>\n",
       "    .dataframe tbody tr th:only-of-type {\n",
       "        vertical-align: middle;\n",
       "    }\n",
       "\n",
       "    .dataframe tbody tr th {\n",
       "        vertical-align: top;\n",
       "    }\n",
       "\n",
       "    .dataframe thead th {\n",
       "        text-align: right;\n",
       "    }\n",
       "</style>\n",
       "<table border=\"1\" class=\"dataframe\">\n",
       "  <thead>\n",
       "    <tr style=\"text-align: right;\">\n",
       "      <th></th>\n",
       "      <th>Wall conductivity</th>\n",
       "      <th>Attic thickness</th>\n",
       "      <th>U-Factor</th>\n",
       "      <th>Solar Heat Gain Coefficient</th>\n",
       "      <th>Watts per Zone Floor Area_0</th>\n",
       "      <th>Watts per Zone Floor Area_1</th>\n",
       "      <th>Window to Wall Ratio</th>\n",
       "    </tr>\n",
       "  </thead>\n",
       "  <tbody>\n",
       "    <tr>\n",
       "      <td>0</td>\n",
       "      <td>0.177185</td>\n",
       "      <td>0.122577</td>\n",
       "      <td>4.578711</td>\n",
       "      <td>0.110993</td>\n",
       "      <td>13.727691</td>\n",
       "      <td>11.989335</td>\n",
       "      <td>0.981828</td>\n",
       "    </tr>\n",
       "    <tr>\n",
       "      <td>1</td>\n",
       "      <td>0.078358</td>\n",
       "      <td>0.278160</td>\n",
       "      <td>1.143532</td>\n",
       "      <td>0.897574</td>\n",
       "      <td>13.317177</td>\n",
       "      <td>13.489183</td>\n",
       "      <td>0.880788</td>\n",
       "    </tr>\n",
       "    <tr>\n",
       "      <td>2</td>\n",
       "      <td>0.171010</td>\n",
       "      <td>0.179611</td>\n",
       "      <td>2.880863</td>\n",
       "      <td>0.697901</td>\n",
       "      <td>14.519081</td>\n",
       "      <td>13.603152</td>\n",
       "      <td>0.841685</td>\n",
       "    </tr>\n",
       "    <tr>\n",
       "      <td>3</td>\n",
       "      <td>0.140840</td>\n",
       "      <td>0.137919</td>\n",
       "      <td>1.012747</td>\n",
       "      <td>0.559023</td>\n",
       "      <td>11.928699</td>\n",
       "      <td>12.048367</td>\n",
       "      <td>0.378470</td>\n",
       "    </tr>\n",
       "    <tr>\n",
       "      <td>4</td>\n",
       "      <td>0.095568</td>\n",
       "      <td>0.219453</td>\n",
       "      <td>1.380731</td>\n",
       "      <td>0.274665</td>\n",
       "      <td>10.862745</td>\n",
       "      <td>10.708088</td>\n",
       "      <td>0.013529</td>\n",
       "    </tr>\n",
       "    <tr>\n",
       "      <td>5</td>\n",
       "      <td>0.157559</td>\n",
       "      <td>0.116493</td>\n",
       "      <td>1.595703</td>\n",
       "      <td>0.859288</td>\n",
       "      <td>11.610623</td>\n",
       "      <td>10.012001</td>\n",
       "      <td>0.906483</td>\n",
       "    </tr>\n",
       "    <tr>\n",
       "      <td>6</td>\n",
       "      <td>0.065818</td>\n",
       "      <td>0.196541</td>\n",
       "      <td>3.478323</td>\n",
       "      <td>0.978255</td>\n",
       "      <td>12.542769</td>\n",
       "      <td>11.330675</td>\n",
       "      <td>0.219611</td>\n",
       "    </tr>\n",
       "    <tr>\n",
       "      <td>7</td>\n",
       "      <td>0.127309</td>\n",
       "      <td>0.269509</td>\n",
       "      <td>4.460128</td>\n",
       "      <td>0.102731</td>\n",
       "      <td>13.134220</td>\n",
       "      <td>12.350357</td>\n",
       "      <td>0.102476</td>\n",
       "    </tr>\n",
       "    <tr>\n",
       "      <td>8</td>\n",
       "      <td>0.135575</td>\n",
       "      <td>0.163192</td>\n",
       "      <td>2.276359</td>\n",
       "      <td>0.355152</td>\n",
       "      <td>14.163955</td>\n",
       "      <td>10.969172</td>\n",
       "      <td>0.594398</td>\n",
       "    </tr>\n",
       "    <tr>\n",
       "      <td>9</td>\n",
       "      <td>0.199411</td>\n",
       "      <td>0.295189</td>\n",
       "      <td>2.036119</td>\n",
       "      <td>0.602306</td>\n",
       "      <td>12.218168</td>\n",
       "      <td>14.834366</td>\n",
       "      <td>0.751980</td>\n",
       "    </tr>\n",
       "    <tr>\n",
       "      <td>10</td>\n",
       "      <td>0.091991</td>\n",
       "      <td>0.151691</td>\n",
       "      <td>2.562472</td>\n",
       "      <td>0.495060</td>\n",
       "      <td>10.599933</td>\n",
       "      <td>11.147709</td>\n",
       "      <td>0.465657</td>\n",
       "    </tr>\n",
       "    <tr>\n",
       "      <td>11</td>\n",
       "      <td>0.117719</td>\n",
       "      <td>0.230436</td>\n",
       "      <td>4.147226</td>\n",
       "      <td>0.781504</td>\n",
       "      <td>14.972326</td>\n",
       "      <td>13.173990</td>\n",
       "      <td>0.642166</td>\n",
       "    </tr>\n",
       "    <tr>\n",
       "      <td>12</td>\n",
       "      <td>0.182382</td>\n",
       "      <td>0.243235</td>\n",
       "      <td>3.807291</td>\n",
       "      <td>0.049115</td>\n",
       "      <td>13.900842</td>\n",
       "      <td>11.600571</td>\n",
       "      <td>0.131749</td>\n",
       "    </tr>\n",
       "    <tr>\n",
       "      <td>13</td>\n",
       "      <td>0.027880</td>\n",
       "      <td>0.189934</td>\n",
       "      <td>3.602366</td>\n",
       "      <td>0.525093</td>\n",
       "      <td>11.332275</td>\n",
       "      <td>12.932737</td>\n",
       "      <td>0.403594</td>\n",
       "    </tr>\n",
       "    <tr>\n",
       "      <td>14</td>\n",
       "      <td>0.056817</td>\n",
       "      <td>0.250230</td>\n",
       "      <td>0.219315</td>\n",
       "      <td>0.647024</td>\n",
       "      <td>10.469718</td>\n",
       "      <td>13.772368</td>\n",
       "      <td>0.523439</td>\n",
       "    </tr>\n",
       "    <tr>\n",
       "      <td>15</td>\n",
       "      <td>0.044001</td>\n",
       "      <td>0.108421</td>\n",
       "      <td>4.922800</td>\n",
       "      <td>0.188553</td>\n",
       "      <td>12.411061</td>\n",
       "      <td>14.554764</td>\n",
       "      <td>0.651296</td>\n",
       "    </tr>\n",
       "    <tr>\n",
       "      <td>16</td>\n",
       "      <td>0.150029</td>\n",
       "      <td>0.200937</td>\n",
       "      <td>0.533117</td>\n",
       "      <td>0.307139</td>\n",
       "      <td>12.996007</td>\n",
       "      <td>12.718344</td>\n",
       "      <td>0.349395</td>\n",
       "    </tr>\n",
       "    <tr>\n",
       "      <td>17</td>\n",
       "      <td>0.054669</td>\n",
       "      <td>0.148829</td>\n",
       "      <td>2.336629</td>\n",
       "      <td>0.417476</td>\n",
       "      <td>11.113558</td>\n",
       "      <td>14.228069</td>\n",
       "      <td>0.180794</td>\n",
       "    </tr>\n",
       "    <tr>\n",
       "      <td>18</td>\n",
       "      <td>0.106053</td>\n",
       "      <td>0.223842</td>\n",
       "      <td>3.043019</td>\n",
       "      <td>0.814352</td>\n",
       "      <td>10.109390</td>\n",
       "      <td>14.376239</td>\n",
       "      <td>0.265690</td>\n",
       "    </tr>\n",
       "    <tr>\n",
       "      <td>19</td>\n",
       "      <td>0.036335</td>\n",
       "      <td>0.289884</td>\n",
       "      <td>0.828060</td>\n",
       "      <td>0.235757</td>\n",
       "      <td>14.355797</td>\n",
       "      <td>10.298883</td>\n",
       "      <td>0.736021</td>\n",
       "    </tr>\n",
       "  </tbody>\n",
       "</table>\n",
       "</div>"
      ],
      "text/plain": [
       "    Wall conductivity  Attic thickness  U-Factor  Solar Heat Gain Coefficient  \\\n",
       "0            0.177185         0.122577  4.578711                     0.110993   \n",
       "1            0.078358         0.278160  1.143532                     0.897574   \n",
       "2            0.171010         0.179611  2.880863                     0.697901   \n",
       "3            0.140840         0.137919  1.012747                     0.559023   \n",
       "4            0.095568         0.219453  1.380731                     0.274665   \n",
       "5            0.157559         0.116493  1.595703                     0.859288   \n",
       "6            0.065818         0.196541  3.478323                     0.978255   \n",
       "7            0.127309         0.269509  4.460128                     0.102731   \n",
       "8            0.135575         0.163192  2.276359                     0.355152   \n",
       "9            0.199411         0.295189  2.036119                     0.602306   \n",
       "10           0.091991         0.151691  2.562472                     0.495060   \n",
       "11           0.117719         0.230436  4.147226                     0.781504   \n",
       "12           0.182382         0.243235  3.807291                     0.049115   \n",
       "13           0.027880         0.189934  3.602366                     0.525093   \n",
       "14           0.056817         0.250230  0.219315                     0.647024   \n",
       "15           0.044001         0.108421  4.922800                     0.188553   \n",
       "16           0.150029         0.200937  0.533117                     0.307139   \n",
       "17           0.054669         0.148829  2.336629                     0.417476   \n",
       "18           0.106053         0.223842  3.043019                     0.814352   \n",
       "19           0.036335         0.289884  0.828060                     0.235757   \n",
       "\n",
       "    Watts per Zone Floor Area_0  Watts per Zone Floor Area_1  \\\n",
       "0                     13.727691                    11.989335   \n",
       "1                     13.317177                    13.489183   \n",
       "2                     14.519081                    13.603152   \n",
       "3                     11.928699                    12.048367   \n",
       "4                     10.862745                    10.708088   \n",
       "5                     11.610623                    10.012001   \n",
       "6                     12.542769                    11.330675   \n",
       "7                     13.134220                    12.350357   \n",
       "8                     14.163955                    10.969172   \n",
       "9                     12.218168                    14.834366   \n",
       "10                    10.599933                    11.147709   \n",
       "11                    14.972326                    13.173990   \n",
       "12                    13.900842                    11.600571   \n",
       "13                    11.332275                    12.932737   \n",
       "14                    10.469718                    13.772368   \n",
       "15                    12.411061                    14.554764   \n",
       "16                    12.996007                    12.718344   \n",
       "17                    11.113558                    14.228069   \n",
       "18                    10.109390                    14.376239   \n",
       "19                    14.355797                    10.298883   \n",
       "\n",
       "    Window to Wall Ratio  \n",
       "0               0.981828  \n",
       "1               0.880788  \n",
       "2               0.841685  \n",
       "3               0.378470  \n",
       "4               0.013529  \n",
       "5               0.906483  \n",
       "6               0.219611  \n",
       "7               0.102476  \n",
       "8               0.594398  \n",
       "9               0.751980  \n",
       "10              0.465657  \n",
       "11              0.642166  \n",
       "12              0.131749  \n",
       "13              0.403594  \n",
       "14              0.523439  \n",
       "15              0.651296  \n",
       "16              0.349395  \n",
       "17              0.180794  \n",
       "18              0.265690  \n",
       "19              0.736021  "
      ]
     },
     "execution_count": 3,
     "metadata": {},
     "output_type": "execute_result"
    }
   ],
   "source": [
    "inputs = sampling.dist_sampler(sampling.lhs, problem, 20)\n",
    "outputs = evaluator.df_apply(inputs)\n",
    "inputs"
   ]
  },
  {
   "cell_type": "markdown",
   "metadata": {
    "papermill": {
     "duration": 0.012864,
     "end_time": "2019-10-28T22:55:28.497525",
     "exception": false,
     "start_time": "2019-10-28T22:55:28.484661",
     "status": "completed"
    },
    "tags": []
   },
   "source": [
    "## Train-test split\n",
    "Next we split the data into a training set (80%) and a testing set (20%)."
   ]
  },
  {
   "cell_type": "code",
   "execution_count": 4,
   "metadata": {
    "papermill": {
     "duration": 0.018578,
     "end_time": "2019-10-28T22:55:28.528683",
     "exception": false,
     "start_time": "2019-10-28T22:55:28.510105",
     "status": "completed"
    },
    "tags": []
   },
   "outputs": [],
   "source": [
    "train_in, test_in, train_out, test_out = train_test_split(inputs, outputs, test_size=0.2)"
   ]
  },
  {
   "cell_type": "markdown",
   "metadata": {
    "papermill": {
     "duration": 0.011585,
     "end_time": "2019-10-28T22:55:28.550644",
     "exception": false,
     "start_time": "2019-10-28T22:55:28.539059",
     "status": "completed"
    },
    "tags": []
   },
   "source": [
    "## Normalization of inputs"
   ]
  },
  {
   "cell_type": "markdown",
   "metadata": {
    "papermill": {
     "duration": 0.010196,
     "end_time": "2019-10-28T22:55:28.572147",
     "exception": false,
     "start_time": "2019-10-28T22:55:28.561951",
     "status": "completed"
    },
    "tags": []
   },
   "source": [
    "To ensure an equal weighting of inputs and outputs in the backpropagation algorithm fitting the neural network, we have to normalize the input values.  \n",
    "For example window-to-wall ratio is in the range of 0 to 1 while the $W/$m^2$ are in a range of 10 to 15.  \n",
    "Different options for normalization exist.  \n",
    "Here we bring all features (input variables) to have zero mean and a standarddeviation of 1.  \n",
    "Note that we fit the normalizer on training data only."
   ]
  },
  {
   "cell_type": "code",
   "execution_count": 5,
   "metadata": {
    "papermill": {
     "duration": 0.018939,
     "end_time": "2019-10-28T22:55:28.601090",
     "exception": false,
     "start_time": "2019-10-28T22:55:28.582151",
     "status": "completed"
    },
    "tags": []
   },
   "outputs": [],
   "source": [
    "scaler = StandardScaler()\n",
    "inputs = scaler.fit_transform(X=train_in)\n",
    "\n",
    "scaler_out = StandardScaler()\n",
    "outputs = scaler_out.fit_transform(X=train_out)"
   ]
  },
  {
   "cell_type": "markdown",
   "metadata": {
    "papermill": {
     "duration": 0.013102,
     "end_time": "2019-10-28T22:55:28.626264",
     "exception": false,
     "start_time": "2019-10-28T22:55:28.613162",
     "status": "completed"
    },
    "tags": []
   },
   "source": [
    "## Hyper-parameters"
   ]
  },
  {
   "cell_type": "markdown",
   "metadata": {
    "papermill": {
     "duration": 0.010562,
     "end_time": "2019-10-28T22:55:28.647533",
     "exception": false,
     "start_time": "2019-10-28T22:55:28.636971",
     "status": "completed"
    },
    "tags": []
   },
   "source": [
    "Before we start fitting the NN model we define the set of hyperparameters we want to analyse in our cross-validation to optimize the model.  \n",
    "Here, we select the number of layers of the network as well as the regularization parameter alpha as parameter value.  \n",
    "A larger number of layers and a lower value of the regularizer lead to higher variance of the network.  \n",
    "This may lead to overfitting.  \n",
    "The best selection may be found using an optimizer like Bayesian Optimization.  \n",
    "In this example we use a simple grid search."
   ]
  },
  {
   "cell_type": "code",
   "execution_count": 6,
   "metadata": {
    "papermill": {
     "duration": 0.01634,
     "end_time": "2019-10-28T22:55:28.674195",
     "exception": false,
     "start_time": "2019-10-28T22:55:28.657855",
     "status": "completed"
    },
    "tags": []
   },
   "outputs": [],
   "source": [
    "hyperparameters = {'hidden_layer_sizes':((len(parameters)*16,),(len(parameters)*16, len(parameters)*16)), \n",
    "              'alpha':[1, 10, 10**3]}\n",
    "\n",
    "neural_net = MLPRegressor(max_iter=1000, early_stopping=False)\n",
    "folds = 3"
   ]
  },
  {
   "cell_type": "markdown",
   "metadata": {
    "papermill": {
     "duration": 0.010095,
     "end_time": "2019-10-28T22:55:28.694781",
     "exception": false,
     "start_time": "2019-10-28T22:55:28.684686",
     "status": "completed"
    },
    "tags": []
   },
   "source": [
    "## Model fitting"
   ]
  },
  {
   "cell_type": "markdown",
   "metadata": {
    "papermill": {
     "duration": 0.010223,
     "end_time": "2019-10-28T22:55:28.715272",
     "exception": false,
     "start_time": "2019-10-28T22:55:28.705049",
     "status": "completed"
    },
    "tags": []
   },
   "source": [
    "Here, we use the NN model from ScikitLearn.  \n",
    "In a [different example](FitNNTF.ipynb) we use TensorFlow (with and without the Keras wrapper)."
   ]
  },
  {
   "cell_type": "code",
   "execution_count": 7,
   "metadata": {
    "papermill": {
     "duration": 5.458184,
     "end_time": "2019-10-28T22:55:34.184843",
     "exception": false,
     "start_time": "2019-10-28T22:55:28.726659",
     "status": "completed"
    },
    "tags": []
   },
   "outputs": [
    {
     "name": "stdout",
     "output_type": "stream",
     "text": [
      "Best performing model $R^2$ score on training set: 0.5810710281739011\n",
      "Model $R^2$ parameters: {'alpha': 1, 'hidden_layer_sizes': (112,)}\n",
      "Best performing model $R^2$ score on a separate test set: 0.9719171887910188\n"
     ]
    }
   ],
   "source": [
    "clf = GridSearchCV(neural_net, hyperparameters, iid=True, cv=folds)\n",
    "clf.fit(inputs, outputs.ravel())\n",
    "\n",
    "print(f'Best performing model $R^2$ score on training set: {clf.best_score_}')\n",
    "print(f'Model $R^2$ parameters: {clf.best_params_}')\n",
    "print(f'Best performing model $R^2$ score on a separate test set: {clf.best_estimator_.score(scaler.transform(test_in), scaler_out.transform(test_out))}')"
   ]
  },
  {
   "cell_type": "markdown",
   "metadata": {
    "papermill": {
     "duration": 0.010386,
     "end_time": "2019-10-28T22:55:34.205700",
     "exception": false,
     "start_time": "2019-10-28T22:55:34.195314",
     "status": "completed"
    },
    "tags": []
   },
   "source": [
    "## Surrogate Modelling Evaluator object\n",
    "We can wrap the fitted model in a BESOS `Evaluator`.  \n",
    "This has identical behaviour to the original EnergyPlus Evaluator object."
   ]
  },
  {
   "cell_type": "code",
   "execution_count": 8,
   "metadata": {
    "papermill": {
     "duration": 0.015952,
     "end_time": "2019-10-28T22:55:34.232136",
     "exception": false,
     "start_time": "2019-10-28T22:55:34.216184",
     "status": "completed"
    },
    "tags": []
   },
   "outputs": [],
   "source": [
    "def evaluation_func(ind, scaler=scaler):\n",
    "    ind = scaler.transform(X=[ind])\n",
    "    return ((scaler_out.inverse_transform(clf.predict(ind))[0],),())\n",
    "\n",
    "NN_SM = EvaluatorGeneric(evaluation_func, problem)"
   ]
  },
  {
   "cell_type": "markdown",
   "metadata": {
    "papermill": {
     "duration": 0.011824,
     "end_time": "2019-10-28T22:55:34.255584",
     "exception": false,
     "start_time": "2019-10-28T22:55:34.243760",
     "status": "completed"
    },
    "tags": []
   },
   "source": [
    "This has identical behaviour to the original EnergyPlus Evaluator object.  \n",
    "In the next cells we generate a single input sample and evaluate it using the surrogate model and EnergyPlus."
   ]
  },
  {
   "cell_type": "code",
   "execution_count": 9,
   "metadata": {
    "papermill": {
     "duration": 0.018917,
     "end_time": "2019-10-28T22:55:34.284917",
     "exception": false,
     "start_time": "2019-10-28T22:55:34.266000",
     "status": "completed"
    },
    "tags": []
   },
   "outputs": [
    {
     "name": "stdout",
     "output_type": "stream",
     "text": [
      "[ 0.03308963  0.13257495  2.43329987  0.64595155 10.58985017 11.71719755\n",
      "  0.39190868]\n"
     ]
    }
   ],
   "source": [
    "sample = sampling.dist_sampler(sampling.lhs, problem, 1)\n",
    "values = sample.values[0]\n",
    "print(values)"
   ]
  },
  {
   "cell_type": "code",
   "execution_count": 10,
   "metadata": {
    "papermill": {
     "duration": 0.018453,
     "end_time": "2019-10-28T22:55:34.316256",
     "exception": false,
     "start_time": "2019-10-28T22:55:34.297803",
     "status": "completed"
    },
    "tags": []
   },
   "outputs": [
    {
     "data": {
      "text/plain": [
       "1878672498.4816747"
      ]
     },
     "execution_count": 10,
     "metadata": {},
     "output_type": "execute_result"
    }
   ],
   "source": [
    "NN_SM(values)[0]"
   ]
  },
  {
   "cell_type": "code",
   "execution_count": 11,
   "metadata": {
    "papermill": {
     "duration": 1.234111,
     "end_time": "2019-10-28T22:55:35.561773",
     "exception": false,
     "start_time": "2019-10-28T22:55:34.327662",
     "status": "completed"
    },
    "tags": []
   },
   "outputs": [
    {
     "data": {
      "text/plain": [
       "1847093206.2648058"
      ]
     },
     "execution_count": 11,
     "metadata": {},
     "output_type": "execute_result"
    }
   ],
   "source": [
    "evaluator(values)[0]"
   ]
  },
  {
   "cell_type": "markdown",
   "metadata": {
    "papermill": {
     "duration": 0.011006,
     "end_time": "2019-10-28T22:55:35.585097",
     "exception": false,
     "start_time": "2019-10-28T22:55:35.574091",
     "status": "completed"
    },
    "tags": []
   },
   "source": [
    "## Running a large surrogate evaluation"
   ]
  },
  {
   "cell_type": "code",
   "execution_count": 12,
   "metadata": {
    "papermill": {
     "duration": 1.713582,
     "end_time": "2019-10-28T22:55:37.310605",
     "exception": false,
     "start_time": "2019-10-28T22:55:35.597023",
     "status": "completed"
    },
    "tags": []
   },
   "outputs": [
    {
     "data": {
      "application/vnd.jupyter.widget-view+json": {
       "model_id": "e1cfb36fb6694a9c8666e238b63ab561",
       "version_major": 2,
       "version_minor": 0
      },
      "text/plain": [
       "HBox(children=(IntProgress(value=0, description='Executing', max=5000, style=ProgressStyle(description_width='…"
      ]
     },
     "metadata": {},
     "output_type": "display_data"
    },
    {
     "name": "stdout",
     "output_type": "stream",
     "text": [
      "\n"
     ]
    },
    {
     "data": {
      "text/html": [
       "<div>\n",
       "<style scoped>\n",
       "    .dataframe tbody tr th:only-of-type {\n",
       "        vertical-align: middle;\n",
       "    }\n",
       "\n",
       "    .dataframe tbody tr th {\n",
       "        vertical-align: top;\n",
       "    }\n",
       "\n",
       "    .dataframe thead th {\n",
       "        text-align: right;\n",
       "    }\n",
       "</style>\n",
       "<table border=\"1\" class=\"dataframe\">\n",
       "  <thead>\n",
       "    <tr style=\"text-align: right;\">\n",
       "      <th></th>\n",
       "      <th>Wall conductivity</th>\n",
       "      <th>Attic thickness</th>\n",
       "      <th>U-Factor</th>\n",
       "      <th>Solar Heat Gain Coefficient</th>\n",
       "      <th>Watts per Zone Floor Area_0</th>\n",
       "      <th>Watts per Zone Floor Area_1</th>\n",
       "      <th>Window to Wall Ratio</th>\n",
       "      <th>Electricity:Facility</th>\n",
       "    </tr>\n",
       "  </thead>\n",
       "  <tbody>\n",
       "    <tr>\n",
       "      <td>0</td>\n",
       "      <td>0.077926</td>\n",
       "      <td>0.267425</td>\n",
       "      <td>4.191725</td>\n",
       "      <td>0.273934</td>\n",
       "      <td>11.199979</td>\n",
       "      <td>13.946797</td>\n",
       "      <td>0.520118</td>\n",
       "      <td>2.049474e+09</td>\n",
       "    </tr>\n",
       "    <tr>\n",
       "      <td>1</td>\n",
       "      <td>0.064114</td>\n",
       "      <td>0.170255</td>\n",
       "      <td>0.746887</td>\n",
       "      <td>0.576243</td>\n",
       "      <td>10.549722</td>\n",
       "      <td>11.307147</td>\n",
       "      <td>0.638999</td>\n",
       "      <td>1.859380e+09</td>\n",
       "    </tr>\n",
       "    <tr>\n",
       "      <td>2</td>\n",
       "      <td>0.143723</td>\n",
       "      <td>0.229507</td>\n",
       "      <td>3.442186</td>\n",
       "      <td>0.986898</td>\n",
       "      <td>14.423547</td>\n",
       "      <td>14.338437</td>\n",
       "      <td>0.272410</td>\n",
       "      <td>2.251536e+09</td>\n",
       "    </tr>\n",
       "    <tr>\n",
       "      <td>3</td>\n",
       "      <td>0.024438</td>\n",
       "      <td>0.247755</td>\n",
       "      <td>3.575314</td>\n",
       "      <td>0.820355</td>\n",
       "      <td>10.540995</td>\n",
       "      <td>11.930376</td>\n",
       "      <td>0.551959</td>\n",
       "      <td>1.915107e+09</td>\n",
       "    </tr>\n",
       "    <tr>\n",
       "      <td>4</td>\n",
       "      <td>0.069923</td>\n",
       "      <td>0.210096</td>\n",
       "      <td>1.778862</td>\n",
       "      <td>0.127571</td>\n",
       "      <td>10.834494</td>\n",
       "      <td>13.909494</td>\n",
       "      <td>0.546333</td>\n",
       "      <td>2.003575e+09</td>\n",
       "    </tr>\n",
       "  </tbody>\n",
       "</table>\n",
       "</div>"
      ],
      "text/plain": [
       "   Wall conductivity  Attic thickness  U-Factor  Solar Heat Gain Coefficient  \\\n",
       "0           0.077926         0.267425  4.191725                     0.273934   \n",
       "1           0.064114         0.170255  0.746887                     0.576243   \n",
       "2           0.143723         0.229507  3.442186                     0.986898   \n",
       "3           0.024438         0.247755  3.575314                     0.820355   \n",
       "4           0.069923         0.210096  1.778862                     0.127571   \n",
       "\n",
       "   Watts per Zone Floor Area_0  Watts per Zone Floor Area_1  \\\n",
       "0                    11.199979                    13.946797   \n",
       "1                    10.549722                    11.307147   \n",
       "2                    14.423547                    14.338437   \n",
       "3                    10.540995                    11.930376   \n",
       "4                    10.834494                    13.909494   \n",
       "\n",
       "   Window to Wall Ratio  Electricity:Facility  \n",
       "0              0.520118          2.049474e+09  \n",
       "1              0.638999          1.859380e+09  \n",
       "2              0.272410          2.251536e+09  \n",
       "3              0.551959          1.915107e+09  \n",
       "4              0.546333          2.003575e+09  "
      ]
     },
     "execution_count": 12,
     "metadata": {},
     "output_type": "execute_result"
    }
   ],
   "source": [
    "inputs = sampling.dist_sampler(sampling.lhs, problem, 5000)\n",
    "outputs = NN_SM.df_apply(inputs)\n",
    "results = inputs.join(outputs)\n",
    "results.head()"
   ]
  },
  {
   "cell_type": "markdown",
   "metadata": {
    "papermill": {
     "duration": 0.015378,
     "end_time": "2019-10-28T22:55:37.339197",
     "exception": false,
     "start_time": "2019-10-28T22:55:37.323819",
     "status": "completed"
    },
    "tags": []
   },
   "source": [
    "## Visualization"
   ]
  },
  {
   "cell_type": "code",
   "execution_count": 13,
   "metadata": {
    "papermill": {
     "duration": 7.307421,
     "end_time": "2019-10-28T22:55:44.659403",
     "exception": false,
     "start_time": "2019-10-28T22:55:37.351982",
     "status": "completed"
    },
    "tags": []
   },
   "outputs": [
    {
     "data": {
      "text/html": [
       "\n",
       "        <iframe\n",
       "            width=\"100%\"\n",
       "            height=\"525px\"\n",
       "            src=\"https://plot.ly/~westerm/0.embed\"\n",
       "            frameborder=\"0\"\n",
       "            allowfullscreen\n",
       "        ></iframe>\n",
       "        "
      ],
      "text/plain": [
       "<IPython.lib.display.IFrame at 0x7f5dd6130358>"
      ]
     },
     "execution_count": 13,
     "metadata": {},
     "output_type": "execute_result"
    }
   ],
   "source": [
    "chart_studio.tools.set_credentials_file(username='westerm', api_key='CcjiMWsrVX8c6ZU4Ny1x')\n",
    "df = inputs.round(3)\n",
    "\n",
    "# generate list if dictionaries\n",
    "l = list()\n",
    "for i in df.columns:\n",
    "    l.extend([dict(label = i, values = df[i])])\n",
    "\n",
    "l.extend([dict(label = outputs.columns[0], values = outputs.round(-5))])\n",
    "\n",
    "data = [\n",
    "    go.Parcoords(\n",
    "        line = dict(color = outputs['Electricity:Facility'],\n",
    "                    colorscale = [[0,'#D7C16B'],[0.5,'#23D8C3'],[1,'#F3F10F']]),\n",
    "        dimensions = l\n",
    "    )\n",
    "]\n",
    "\n",
    "layout = go.Layout(\n",
    "    plot_bgcolor = '#E5E5E5',\n",
    "    paper_bgcolor = '#E5E5E5'\n",
    ")\n",
    "\n",
    "fig = go.Figure(data = data, layout = layout)\n",
    "py.iplot(fig, filename = 'parcoords-basic')"
   ]
  },
  {
   "cell_type": "code",
   "execution_count": null,
   "metadata": {
    "papermill": {
     "duration": 0.029959,
     "end_time": "2019-10-28T22:55:44.728157",
     "exception": false,
     "start_time": "2019-10-28T22:55:44.698198",
     "status": "completed"
    },
    "tags": []
   },
   "outputs": [],
   "source": []
  }
 ],
 "metadata": {
  "kernelspec": {
   "display_name": "Python 3",
   "language": "python",
   "name": "python3"
  },
  "language_info": {
   "codemirror_mode": {
    "name": "ipython",
    "version": 3
   },
   "file_extension": ".py",
   "mimetype": "text/x-python",
   "name": "python",
   "nbconvert_exporter": "python",
   "pygments_lexer": "ipython3",
   "version": "3.6.4"
  },
  "papermill": {
   "duration": 43.316944,
   "end_time": "2019-10-28T22:55:45.252245",
   "environment_variables": {},
   "exception": null,
   "input_path": "./SurrogateModelling/FitFeedforwardNeuralNetwork.ipynb",
   "output_path": "./SurrogateModelling/FitFeedforwardNeuralNetwork.ipynb",
   "parameters": {},
   "start_time": "2019-10-28T22:55:01.935301",
   "version": "1.2.0"
  },
  "widgets": {
   "application/vnd.jupyter.widget-state+json": {
    "state": {
     "216c7717a2854303823c319550462b69": {
      "model_module": "@jupyter-widgets/controls",
      "model_module_version": "1.5.0",
      "model_name": "DescriptionStyleModel",
      "state": {
       "_model_module": "@jupyter-widgets/controls",
       "_model_module_version": "1.5.0",
       "_model_name": "DescriptionStyleModel",
       "_view_count": null,
       "_view_module": "@jupyter-widgets/base",
       "_view_module_version": "1.2.0",
       "_view_name": "StyleView",
       "description_width": ""
      }
     },
     "4362b735d76d4dc18ea96f470effa222": {
      "model_module": "@jupyter-widgets/base",
      "model_module_version": "1.2.0",
      "model_name": "LayoutModel",
      "state": {
       "_model_module": "@jupyter-widgets/base",
       "_model_module_version": "1.2.0",
       "_model_name": "LayoutModel",
       "_view_count": null,
       "_view_module": "@jupyter-widgets/base",
       "_view_module_version": "1.2.0",
       "_view_name": "LayoutView",
       "align_content": null,
       "align_items": null,
       "align_self": null,
       "border": null,
       "bottom": null,
       "display": null,
       "flex": null,
       "flex_flow": null,
       "grid_area": null,
       "grid_auto_columns": null,
       "grid_auto_flow": null,
       "grid_auto_rows": null,
       "grid_column": null,
       "grid_gap": null,
       "grid_row": null,
       "grid_template_areas": null,
       "grid_template_columns": null,
       "grid_template_rows": null,
       "height": null,
       "justify_content": null,
       "justify_items": null,
       "left": null,
       "margin": null,
       "max_height": null,
       "max_width": null,
       "min_height": null,
       "min_width": null,
       "object_fit": null,
       "object_position": null,
       "order": null,
       "overflow": null,
       "overflow_x": null,
       "overflow_y": null,
       "padding": null,
       "right": null,
       "top": null,
       "visibility": null,
       "width": null
      }
     },
     "529f0eb0421c45f7a78995de4a77b46c": {
      "model_module": "@jupyter-widgets/base",
      "model_module_version": "1.2.0",
      "model_name": "LayoutModel",
      "state": {
       "_model_module": "@jupyter-widgets/base",
       "_model_module_version": "1.2.0",
       "_model_name": "LayoutModel",
       "_view_count": null,
       "_view_module": "@jupyter-widgets/base",
       "_view_module_version": "1.2.0",
       "_view_name": "LayoutView",
       "align_content": null,
       "align_items": null,
       "align_self": null,
       "border": null,
       "bottom": null,
       "display": null,
       "flex": null,
       "flex_flow": null,
       "grid_area": null,
       "grid_auto_columns": null,
       "grid_auto_flow": null,
       "grid_auto_rows": null,
       "grid_column": null,
       "grid_gap": null,
       "grid_row": null,
       "grid_template_areas": null,
       "grid_template_columns": null,
       "grid_template_rows": null,
       "height": null,
       "justify_content": null,
       "justify_items": null,
       "left": null,
       "margin": null,
       "max_height": null,
       "max_width": null,
       "min_height": null,
       "min_width": null,
       "object_fit": null,
       "object_position": null,
       "order": null,
       "overflow": null,
       "overflow_x": null,
       "overflow_y": null,
       "padding": null,
       "right": null,
       "top": null,
       "visibility": null,
       "width": null
      }
     },
     "628af6a568634333943deeecd820cc1b": {
      "model_module": "@jupyter-widgets/controls",
      "model_module_version": "1.5.0",
      "model_name": "IntProgressModel",
      "state": {
       "_dom_classes": [],
       "_model_module": "@jupyter-widgets/controls",
       "_model_module_version": "1.5.0",
       "_model_name": "IntProgressModel",
       "_view_count": null,
       "_view_module": "@jupyter-widgets/controls",
       "_view_module_version": "1.5.0",
       "_view_name": "ProgressView",
       "bar_style": "success",
       "description": "Executing: 100%",
       "description_tooltip": null,
       "layout": "IPY_MODEL_529f0eb0421c45f7a78995de4a77b46c",
       "max": 20,
       "min": 0,
       "orientation": "horizontal",
       "style": "IPY_MODEL_f35346afbc6a462abfe15ab923c929c5",
       "value": 20
      }
     },
     "6d32d581d91b48c4a823188948ac2f7e": {
      "model_module": "@jupyter-widgets/controls",
      "model_module_version": "1.5.0",
      "model_name": "HTMLModel",
      "state": {
       "_dom_classes": [],
       "_model_module": "@jupyter-widgets/controls",
       "_model_module_version": "1.5.0",
       "_model_name": "HTMLModel",
       "_view_count": null,
       "_view_module": "@jupyter-widgets/controls",
       "_view_module_version": "1.5.0",
       "_view_name": "HTMLView",
       "description": "",
       "description_tooltip": null,
       "layout": "IPY_MODEL_c2e1c6e69dc44abc8f1f2650476f4309",
       "placeholder": "​",
       "style": "IPY_MODEL_216c7717a2854303823c319550462b69",
       "value": " 5000/5000 [00:01&lt;00:00, 2543.05row/s]"
      }
     },
     "8bd00fad5ae445eda8d067bd68161985": {
      "model_module": "@jupyter-widgets/controls",
      "model_module_version": "1.5.0",
      "model_name": "DescriptionStyleModel",
      "state": {
       "_model_module": "@jupyter-widgets/controls",
       "_model_module_version": "1.5.0",
       "_model_name": "DescriptionStyleModel",
       "_view_count": null,
       "_view_module": "@jupyter-widgets/base",
       "_view_module_version": "1.2.0",
       "_view_name": "StyleView",
       "description_width": ""
      }
     },
     "8dcab00078074a53ad39404c1a5d6020": {
      "model_module": "@jupyter-widgets/controls",
      "model_module_version": "1.5.0",
      "model_name": "HTMLModel",
      "state": {
       "_dom_classes": [],
       "_model_module": "@jupyter-widgets/controls",
       "_model_module_version": "1.5.0",
       "_model_name": "HTMLModel",
       "_view_count": null,
       "_view_module": "@jupyter-widgets/controls",
       "_view_module_version": "1.5.0",
       "_view_name": "HTMLView",
       "description": "",
       "description_tooltip": null,
       "layout": "IPY_MODEL_f647c8232b7b4aa3bbb83d7e3f681e11",
       "placeholder": "​",
       "style": "IPY_MODEL_8bd00fad5ae445eda8d067bd68161985",
       "value": " 20/20 [00:33&lt;00:00,  1.67s/row]"
      }
     },
     "912d98dc387444d1a48648f7ec11dc71": {
      "model_module": "@jupyter-widgets/controls",
      "model_module_version": "1.5.0",
      "model_name": "IntProgressModel",
      "state": {
       "_dom_classes": [],
       "_model_module": "@jupyter-widgets/controls",
       "_model_module_version": "1.5.0",
       "_model_name": "IntProgressModel",
       "_view_count": null,
       "_view_module": "@jupyter-widgets/controls",
       "_view_module_version": "1.5.0",
       "_view_name": "ProgressView",
       "bar_style": "success",
       "description": "Executing: 100%",
       "description_tooltip": null,
       "layout": "IPY_MODEL_f0cbae55481d4f9da3dfb4347a90c8ab",
       "max": 5000,
       "min": 0,
       "orientation": "horizontal",
       "style": "IPY_MODEL_b598dc4f0e3944cd99820ac92d012eb1",
       "value": 5000
      }
     },
     "b598dc4f0e3944cd99820ac92d012eb1": {
      "model_module": "@jupyter-widgets/controls",
      "model_module_version": "1.5.0",
      "model_name": "ProgressStyleModel",
      "state": {
       "_model_module": "@jupyter-widgets/controls",
       "_model_module_version": "1.5.0",
       "_model_name": "ProgressStyleModel",
       "_view_count": null,
       "_view_module": "@jupyter-widgets/base",
       "_view_module_version": "1.2.0",
       "_view_name": "StyleView",
       "bar_color": null,
       "description_width": "initial"
      }
     },
     "c0540f22bf4a447795aeb01a09bee5f2": {
      "model_module": "@jupyter-widgets/controls",
      "model_module_version": "1.5.0",
      "model_name": "HBoxModel",
      "state": {
       "_dom_classes": [],
       "_model_module": "@jupyter-widgets/controls",
       "_model_module_version": "1.5.0",
       "_model_name": "HBoxModel",
       "_view_count": null,
       "_view_module": "@jupyter-widgets/controls",
       "_view_module_version": "1.5.0",
       "_view_name": "HBoxView",
       "box_style": "",
       "children": [
        "IPY_MODEL_628af6a568634333943deeecd820cc1b",
        "IPY_MODEL_8dcab00078074a53ad39404c1a5d6020"
       ],
       "layout": "IPY_MODEL_ea78ddbe408a41db9d2f30f50e96bdd7"
      }
     },
     "c2e1c6e69dc44abc8f1f2650476f4309": {
      "model_module": "@jupyter-widgets/base",
      "model_module_version": "1.2.0",
      "model_name": "LayoutModel",
      "state": {
       "_model_module": "@jupyter-widgets/base",
       "_model_module_version": "1.2.0",
       "_model_name": "LayoutModel",
       "_view_count": null,
       "_view_module": "@jupyter-widgets/base",
       "_view_module_version": "1.2.0",
       "_view_name": "LayoutView",
       "align_content": null,
       "align_items": null,
       "align_self": null,
       "border": null,
       "bottom": null,
       "display": null,
       "flex": null,
       "flex_flow": null,
       "grid_area": null,
       "grid_auto_columns": null,
       "grid_auto_flow": null,
       "grid_auto_rows": null,
       "grid_column": null,
       "grid_gap": null,
       "grid_row": null,
       "grid_template_areas": null,
       "grid_template_columns": null,
       "grid_template_rows": null,
       "height": null,
       "justify_content": null,
       "justify_items": null,
       "left": null,
       "margin": null,
       "max_height": null,
       "max_width": null,
       "min_height": null,
       "min_width": null,
       "object_fit": null,
       "object_position": null,
       "order": null,
       "overflow": null,
       "overflow_x": null,
       "overflow_y": null,
       "padding": null,
       "right": null,
       "top": null,
       "visibility": null,
       "width": null
      }
     },
     "cdff11523d384e00a825cf2ac5d22af9": {
      "model_module": "@jupyter-widgets/controls",
      "model_module_version": "1.5.0",
      "model_name": "HBoxModel",
      "state": {
       "_dom_classes": [],
       "_model_module": "@jupyter-widgets/controls",
       "_model_module_version": "1.5.0",
       "_model_name": "HBoxModel",
       "_view_count": null,
       "_view_module": "@jupyter-widgets/controls",
       "_view_module_version": "1.5.0",
       "_view_name": "HBoxView",
       "box_style": "",
       "children": [
        "IPY_MODEL_912d98dc387444d1a48648f7ec11dc71",
        "IPY_MODEL_6d32d581d91b48c4a823188948ac2f7e"
       ],
       "layout": "IPY_MODEL_4362b735d76d4dc18ea96f470effa222"
      }
     },
     "ea78ddbe408a41db9d2f30f50e96bdd7": {
      "model_module": "@jupyter-widgets/base",
      "model_module_version": "1.2.0",
      "model_name": "LayoutModel",
      "state": {
       "_model_module": "@jupyter-widgets/base",
       "_model_module_version": "1.2.0",
       "_model_name": "LayoutModel",
       "_view_count": null,
       "_view_module": "@jupyter-widgets/base",
       "_view_module_version": "1.2.0",
       "_view_name": "LayoutView",
       "align_content": null,
       "align_items": null,
       "align_self": null,
       "border": null,
       "bottom": null,
       "display": null,
       "flex": null,
       "flex_flow": null,
       "grid_area": null,
       "grid_auto_columns": null,
       "grid_auto_flow": null,
       "grid_auto_rows": null,
       "grid_column": null,
       "grid_gap": null,
       "grid_row": null,
       "grid_template_areas": null,
       "grid_template_columns": null,
       "grid_template_rows": null,
       "height": null,
       "justify_content": null,
       "justify_items": null,
       "left": null,
       "margin": null,
       "max_height": null,
       "max_width": null,
       "min_height": null,
       "min_width": null,
       "object_fit": null,
       "object_position": null,
       "order": null,
       "overflow": null,
       "overflow_x": null,
       "overflow_y": null,
       "padding": null,
       "right": null,
       "top": null,
       "visibility": null,
       "width": null
      }
     },
     "f0cbae55481d4f9da3dfb4347a90c8ab": {
      "model_module": "@jupyter-widgets/base",
      "model_module_version": "1.2.0",
      "model_name": "LayoutModel",
      "state": {
       "_model_module": "@jupyter-widgets/base",
       "_model_module_version": "1.2.0",
       "_model_name": "LayoutModel",
       "_view_count": null,
       "_view_module": "@jupyter-widgets/base",
       "_view_module_version": "1.2.0",
       "_view_name": "LayoutView",
       "align_content": null,
       "align_items": null,
       "align_self": null,
       "border": null,
       "bottom": null,
       "display": null,
       "flex": null,
       "flex_flow": null,
       "grid_area": null,
       "grid_auto_columns": null,
       "grid_auto_flow": null,
       "grid_auto_rows": null,
       "grid_column": null,
       "grid_gap": null,
       "grid_row": null,
       "grid_template_areas": null,
       "grid_template_columns": null,
       "grid_template_rows": null,
       "height": null,
       "justify_content": null,
       "justify_items": null,
       "left": null,
       "margin": null,
       "max_height": null,
       "max_width": null,
       "min_height": null,
       "min_width": null,
       "object_fit": null,
       "object_position": null,
       "order": null,
       "overflow": null,
       "overflow_x": null,
       "overflow_y": null,
       "padding": null,
       "right": null,
       "top": null,
       "visibility": null,
       "width": null
      }
     },
     "f35346afbc6a462abfe15ab923c929c5": {
      "model_module": "@jupyter-widgets/controls",
      "model_module_version": "1.5.0",
      "model_name": "ProgressStyleModel",
      "state": {
       "_model_module": "@jupyter-widgets/controls",
       "_model_module_version": "1.5.0",
       "_model_name": "ProgressStyleModel",
       "_view_count": null,
       "_view_module": "@jupyter-widgets/base",
       "_view_module_version": "1.2.0",
       "_view_name": "StyleView",
       "bar_color": null,
       "description_width": "initial"
      }
     },
     "f647c8232b7b4aa3bbb83d7e3f681e11": {
      "model_module": "@jupyter-widgets/base",
      "model_module_version": "1.2.0",
      "model_name": "LayoutModel",
      "state": {
       "_model_module": "@jupyter-widgets/base",
       "_model_module_version": "1.2.0",
       "_model_name": "LayoutModel",
       "_view_count": null,
       "_view_module": "@jupyter-widgets/base",
       "_view_module_version": "1.2.0",
       "_view_name": "LayoutView",
       "align_content": null,
       "align_items": null,
       "align_self": null,
       "border": null,
       "bottom": null,
       "display": null,
       "flex": null,
       "flex_flow": null,
       "grid_area": null,
       "grid_auto_columns": null,
       "grid_auto_flow": null,
       "grid_auto_rows": null,
       "grid_column": null,
       "grid_gap": null,
       "grid_row": null,
       "grid_template_areas": null,
       "grid_template_columns": null,
       "grid_template_rows": null,
       "height": null,
       "justify_content": null,
       "justify_items": null,
       "left": null,
       "margin": null,
       "max_height": null,
       "max_width": null,
       "min_height": null,
       "min_width": null,
       "object_fit": null,
       "object_position": null,
       "order": null,
       "overflow": null,
       "overflow_x": null,
       "overflow_y": null,
       "padding": null,
       "right": null,
       "top": null,
       "visibility": null,
       "width": null
      }
     }
    },
    "version_major": 2,
    "version_minor": 0
   }
  }
 },
 "nbformat": 4,
 "nbformat_minor": 2
}
