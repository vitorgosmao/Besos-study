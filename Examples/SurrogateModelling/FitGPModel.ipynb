{
 "cells": [
  {
   "cell_type": "markdown",
   "metadata": {
    "papermill": {
     "duration": 0.010428,
     "end_time": "2019-10-28T22:51:47.228185",
     "exception": false,
     "start_time": "2019-10-28T22:51:47.217757",
     "status": "completed"
    },
    "tags": []
   },
   "source": [
    "# Fit a Gaussian Process surrogate model\n",
    "\n",
    "Here we define a surrogate model using Gaussian Processes.  \n",
    "We use the GP model from ScikitLearn - we compared it to other models like GPFlow but observed better speed and better code maintenance in this model."
   ]
  },
  {
   "cell_type": "code",
   "execution_count": 1,
   "metadata": {
    "papermill": {
     "duration": 1.4882,
     "end_time": "2019-10-28T22:51:48.725523",
     "exception": false,
     "start_time": "2019-10-28T22:51:47.237323",
     "status": "completed"
    },
    "tags": []
   },
   "outputs": [],
   "source": [
    "import matplotlib.pyplot as plt\n",
    "import pandas as pd\n",
    "import chart_studio.plotly as py\n",
    "import plotly.graph_objs as go\n",
    "import chart_studio\n",
    "import pandas as pd \n",
    "import time\n",
    "from sklearn.gaussian_process.kernels import (RBF, Matern, RationalQuadratic, ExpSineSquared, DotProduct, ConstantKernel)\n",
    "from sklearn.gaussian_process import GaussianProcessRegressor\n",
    "from sklearn.model_selection import train_test_split\n",
    "from sklearn.model_selection import GridSearchCV\n",
    "\n",
    "from besos import eppy_funcs as ef\n",
    "import besos.sampling as sampling\n",
    "from besos.problem import EPProblem\n",
    "from besos.evaluator import EvaluatorEP\n",
    "from besos.evaluator import EvaluatorGeneric\n",
    "from besos.parameters import wwr, RangeParameter, FieldSelector, FilterSelector, GenericSelector, Parameter, expand_plist\n",
    "from parameters import RangeParameter, CategoryParameter, expand_plist\n",
    "\n",
    "from parameter_sets import parameter_set"
   ]
  },
  {
   "cell_type": "markdown",
   "metadata": {
    "papermill": {
     "duration": 0.008085,
     "end_time": "2019-10-28T22:51:48.742814",
     "exception": false,
     "start_time": "2019-10-28T22:51:48.734729",
     "status": "completed"
    },
    "tags": []
   },
   "source": [
    "We begin by:\n",
    "+ getting a predefined list of 7 parameters from `parameter_sets.py`\n",
    "+ making these into a `problem` with electricty use as the objective\n",
    "+ and making an `evaluator` using the default EnergyPlus building."
   ]
  },
  {
   "cell_type": "code",
   "execution_count": 2,
   "metadata": {
    "code_folding": [
     0,
     1,
     59,
     60
    ],
    "papermill": {
     "duration": 0.018066,
     "end_time": "2019-10-28T22:51:48.771296",
     "exception": false,
     "start_time": "2019-10-28T22:51:48.753230",
     "status": "completed"
    },
    "tags": []
   },
   "outputs": [
    {
     "name": "stderr",
     "output_type": "stream",
     "text": [
      "/home/evan/anaconda3/lib/python3.6/site-packages/besos/problem.py:102: RuntimeWarning:\n",
      "\n",
      "Duplicate names found. (duplicate, repetitions): [('Watts per Zone Floor Area', 2)]\n",
      "Attempting to fix automatically\n",
      "\n"
     ]
    }
   ],
   "source": [
    "parameters = parameter_set(7)\n",
    "problem = EPProblem(parameters, ['Electricity:Facility'])\n",
    "building = ef.get_building()\n",
    "evaluator = EvaluatorEP(problem, building)"
   ]
  },
  {
   "cell_type": "markdown",
   "metadata": {
    "papermill": {
     "duration": 0.008067,
     "end_time": "2019-10-28T22:51:48.787888",
     "exception": false,
     "start_time": "2019-10-28T22:51:48.779821",
     "status": "completed"
    },
    "tags": []
   },
   "source": [
    "Then we get 50 samples across this design space and evaluate them."
   ]
  },
  {
   "cell_type": "code",
   "execution_count": 3,
   "metadata": {
    "code_folding": [],
    "papermill": {
     "duration": 5.915093,
     "end_time": "2019-10-28T22:51:54.711321",
     "exception": false,
     "start_time": "2019-10-28T22:51:48.796228",
     "status": "completed"
    },
    "tags": []
   },
   "outputs": [
    {
     "data": {
      "application/vnd.jupyter.widget-view+json": {
       "model_id": "27ca9c8dfcaa476e8fad320b209065e7",
       "version_major": 2,
       "version_minor": 0
      },
      "text/plain": [
       "HBox(children=(IntProgress(value=0, description='Executing', max=5, style=ProgressStyle(description_width='ini…"
      ]
     },
     "metadata": {},
     "output_type": "display_data"
    },
    {
     "name": "stdout",
     "output_type": "stream",
     "text": [
      "\n"
     ]
    },
    {
     "data": {
      "text/html": [
       "<div>\n",
       "<style scoped>\n",
       "    .dataframe tbody tr th:only-of-type {\n",
       "        vertical-align: middle;\n",
       "    }\n",
       "\n",
       "    .dataframe tbody tr th {\n",
       "        vertical-align: top;\n",
       "    }\n",
       "\n",
       "    .dataframe thead th {\n",
       "        text-align: right;\n",
       "    }\n",
       "</style>\n",
       "<table border=\"1\" class=\"dataframe\">\n",
       "  <thead>\n",
       "    <tr style=\"text-align: right;\">\n",
       "      <th></th>\n",
       "      <th>Wall conductivity</th>\n",
       "      <th>Attic thickness</th>\n",
       "      <th>U-Factor</th>\n",
       "      <th>Solar Heat Gain Coefficient</th>\n",
       "      <th>Watts per Zone Floor Area_0</th>\n",
       "      <th>Watts per Zone Floor Area_1</th>\n",
       "      <th>Window to Wall Ratio</th>\n",
       "    </tr>\n",
       "  </thead>\n",
       "  <tbody>\n",
       "    <tr>\n",
       "      <td>0</td>\n",
       "      <td>0.024417</td>\n",
       "      <td>0.115414</td>\n",
       "      <td>4.386398</td>\n",
       "      <td>0.678482</td>\n",
       "      <td>13.522931</td>\n",
       "      <td>11.615422</td>\n",
       "      <td>0.285570</td>\n",
       "    </tr>\n",
       "    <tr>\n",
       "      <td>1</td>\n",
       "      <td>0.142775</td>\n",
       "      <td>0.200433</td>\n",
       "      <td>1.021673</td>\n",
       "      <td>0.596208</td>\n",
       "      <td>14.098853</td>\n",
       "      <td>13.675973</td>\n",
       "      <td>0.137351</td>\n",
       "    </tr>\n",
       "    <tr>\n",
       "      <td>2</td>\n",
       "      <td>0.086577</td>\n",
       "      <td>0.226899</td>\n",
       "      <td>2.569318</td>\n",
       "      <td>0.182461</td>\n",
       "      <td>10.209917</td>\n",
       "      <td>12.322224</td>\n",
       "      <td>0.419022</td>\n",
       "    </tr>\n",
       "    <tr>\n",
       "      <td>3</td>\n",
       "      <td>0.092048</td>\n",
       "      <td>0.152761</td>\n",
       "      <td>3.376769</td>\n",
       "      <td>0.333602</td>\n",
       "      <td>12.368767</td>\n",
       "      <td>10.125682</td>\n",
       "      <td>0.813589</td>\n",
       "    </tr>\n",
       "    <tr>\n",
       "      <td>4</td>\n",
       "      <td>0.178369</td>\n",
       "      <td>0.281291</td>\n",
       "      <td>1.361262</td>\n",
       "      <td>0.964262</td>\n",
       "      <td>11.249753</td>\n",
       "      <td>14.025684</td>\n",
       "      <td>0.749941</td>\n",
       "    </tr>\n",
       "  </tbody>\n",
       "</table>\n",
       "</div>"
      ],
      "text/plain": [
       "   Wall conductivity  Attic thickness  U-Factor  Solar Heat Gain Coefficient  \\\n",
       "0           0.024417         0.115414  4.386398                     0.678482   \n",
       "1           0.142775         0.200433  1.021673                     0.596208   \n",
       "2           0.086577         0.226899  2.569318                     0.182461   \n",
       "3           0.092048         0.152761  3.376769                     0.333602   \n",
       "4           0.178369         0.281291  1.361262                     0.964262   \n",
       "\n",
       "   Watts per Zone Floor Area_0  Watts per Zone Floor Area_1  \\\n",
       "0                    13.522931                    11.615422   \n",
       "1                    14.098853                    13.675973   \n",
       "2                    10.209917                    12.322224   \n",
       "3                    12.368767                    10.125682   \n",
       "4                    11.249753                    14.025684   \n",
       "\n",
       "   Window to Wall Ratio  \n",
       "0              0.285570  \n",
       "1              0.137351  \n",
       "2              0.419022  \n",
       "3              0.813589  \n",
       "4              0.749941  "
      ]
     },
     "execution_count": 3,
     "metadata": {},
     "output_type": "execute_result"
    }
   ],
   "source": [
    "inputs = sampling.dist_sampler(sampling.lhs, problem, 5)\n",
    "outputs = evaluator.df_apply(inputs)\n",
    "inputs"
   ]
  },
  {
   "cell_type": "markdown",
   "metadata": {
    "papermill": {
     "duration": 0.010127,
     "end_time": "2019-10-28T22:51:54.736290",
     "exception": false,
     "start_time": "2019-10-28T22:51:54.726163",
     "status": "completed"
    },
    "tags": []
   },
   "source": [
    "## Train-test split\n",
    "\n",
    "Next we split the data into a training set (80%) and a testing set (20%)."
   ]
  },
  {
   "cell_type": "code",
   "execution_count": 4,
   "metadata": {
    "papermill": {
     "duration": 0.016601,
     "end_time": "2019-10-28T22:51:54.763097",
     "exception": false,
     "start_time": "2019-10-28T22:51:54.746496",
     "status": "completed"
    },
    "tags": []
   },
   "outputs": [],
   "source": [
    "train_in, test_in, train_out, test_out = train_test_split(inputs, outputs, test_size=0.2)"
   ]
  },
  {
   "cell_type": "markdown",
   "metadata": {
    "papermill": {
     "duration": 0.009287,
     "end_time": "2019-10-28T22:51:54.782132",
     "exception": false,
     "start_time": "2019-10-28T22:51:54.772845",
     "status": "completed"
    },
    "tags": []
   },
   "source": [
    "## Hyper-parameters"
   ]
  },
  {
   "cell_type": "markdown",
   "metadata": {
    "papermill": {
     "duration": 0.00934,
     "end_time": "2019-10-28T22:51:54.800792",
     "exception": false,
     "start_time": "2019-10-28T22:51:54.791452",
     "status": "completed"
    },
    "tags": []
   },
   "source": [
    "Before fitting the GP model we define the set of hyperparameters we want to optimize.  \n",
    "Here we use \\textit{3} folds in the k-fold cross validation scheme.  \n",
    "We select a set of Kernel functions, which must fit the characteristics of a problem - details and examples may be found in the [Kernel cookbook](https://www.cs.toronto.edu/~duvenaud/cookbook/).  \n",
    "Note that the parameters of the Kernel itself are [optimized during each model fitting run](https://scikit-learn.org/stable/modules/generated/sklearn.gaussian_process.GaussianProcessRegressor.html)."
   ]
  },
  {
   "cell_type": "code",
   "execution_count": 5,
   "metadata": {
    "papermill": {
     "duration": 0.015073,
     "end_time": "2019-10-28T22:51:54.825148",
     "exception": false,
     "start_time": "2019-10-28T22:51:54.810075",
     "status": "completed"
    },
    "tags": []
   },
   "outputs": [],
   "source": [
    "hyperparameters = {'kernel':[None,1.0 * RBF(length_scale=1.0, length_scale_bounds=(1e-1, 10.0)),\n",
    "                             1.0 * RationalQuadratic(length_scale=1.0, alpha=0.5),\n",
    "                             #ConstantKernel(0.1, (0.01, 10.0))*(DotProduct(sigma_0=1.0, sigma_0_bounds=(0.1, 10.0))**2),\n",
    "                             1.0 * Matern(length_scale=1.0, length_scale_bounds=(1e-1, 10.0)),]}\n",
    "\n",
    "folds = 3"
   ]
  },
  {
   "cell_type": "markdown",
   "metadata": {
    "papermill": {
     "duration": 0.010561,
     "end_time": "2019-10-28T22:51:54.846311",
     "exception": false,
     "start_time": "2019-10-28T22:51:54.835750",
     "status": "completed"
    },
    "tags": []
   },
   "source": [
    "## Model fitting"
   ]
  },
  {
   "cell_type": "markdown",
   "metadata": {
    "papermill": {
     "duration": 0.009632,
     "end_time": "2019-10-28T22:51:54.865875",
     "exception": false,
     "start_time": "2019-10-28T22:51:54.856243",
     "status": "completed"
    },
    "tags": []
   },
   "source": [
    "Here we fit the model using these hyperparameters."
   ]
  },
  {
   "cell_type": "code",
   "execution_count": 6,
   "metadata": {
    "code_folding": [
     23
    ],
    "papermill": {
     "duration": 0.132473,
     "end_time": "2019-10-28T22:51:55.007586",
     "exception": false,
     "start_time": "2019-10-28T22:51:54.875113",
     "status": "completed"
    },
    "scrolled": true,
    "tags": []
   },
   "outputs": [
    {
     "name": "stdout",
     "output_type": "stream",
     "text": [
      "Best performing model $R^2$ score on training set: nan\n",
      "Model $R^2$ parameters: {'kernel': None}\n",
      "Best performing model $R^2$ score on a separate test set: nan\n"
     ]
    },
    {
     "name": "stderr",
     "output_type": "stream",
     "text": [
      "/home/evan/.local/lib/python3.6/site-packages/sklearn/metrics/regression.py:543: UndefinedMetricWarning:\n",
      "\n",
      "R^2 score is not well-defined with less than two samples.\n",
      "\n",
      "/home/evan/.local/lib/python3.6/site-packages/sklearn/metrics/regression.py:543: UndefinedMetricWarning:\n",
      "\n",
      "R^2 score is not well-defined with less than two samples.\n",
      "\n",
      "/home/evan/.local/lib/python3.6/site-packages/sklearn/metrics/regression.py:543: UndefinedMetricWarning:\n",
      "\n",
      "R^2 score is not well-defined with less than two samples.\n",
      "\n",
      "/home/evan/.local/lib/python3.6/site-packages/sklearn/metrics/regression.py:543: UndefinedMetricWarning:\n",
      "\n",
      "R^2 score is not well-defined with less than two samples.\n",
      "\n",
      "/home/evan/.local/lib/python3.6/site-packages/sklearn/metrics/regression.py:543: UndefinedMetricWarning:\n",
      "\n",
      "R^2 score is not well-defined with less than two samples.\n",
      "\n"
     ]
    }
   ],
   "source": [
    "gp = GaussianProcessRegressor(normalize_y=True)\n",
    "\n",
    "clf = GridSearchCV(gp, hyperparameters, iid=True, cv=folds)\n",
    "\n",
    "clf.fit(inputs, outputs)\n",
    "\n",
    "print(f'Best performing model $R^2$ score on training set: {clf.best_score_}')\n",
    "print(f'Model $R^2$ parameters: {clf.best_params_}')\n",
    "print(f'Best performing model $R^2$ score on a separate test set: {clf.best_estimator_.score(test_in, test_out)}')"
   ]
  },
  {
   "cell_type": "markdown",
   "metadata": {
    "papermill": {
     "duration": 0.010939,
     "end_time": "2019-10-28T22:51:55.029568",
     "exception": false,
     "start_time": "2019-10-28T22:51:55.018629",
     "status": "completed"
    },
    "tags": []
   },
   "source": [
    "## Surrogate Modelling Evaluator object\n",
    "We can wrap the fitted model in a BESOS `Evaluator`."
   ]
  },
  {
   "cell_type": "code",
   "execution_count": 7,
   "metadata": {
    "papermill": {
     "duration": 0.015573,
     "end_time": "2019-10-28T22:51:55.055805",
     "exception": false,
     "start_time": "2019-10-28T22:51:55.040232",
     "status": "completed"
    },
    "tags": []
   },
   "outputs": [],
   "source": [
    "def evaluation_func(ind):\n",
    "    return ((clf.predict([ind])[0][0],),())\n",
    "\n",
    "GP_SM = EvaluatorGeneric(evaluation_func, problem)"
   ]
  },
  {
   "cell_type": "markdown",
   "metadata": {
    "papermill": {
     "duration": 0.009839,
     "end_time": "2019-10-28T22:51:55.075582",
     "exception": false,
     "start_time": "2019-10-28T22:51:55.065743",
     "status": "completed"
    },
    "tags": []
   },
   "source": [
    "This has identical behaviour to the original EnergyPlus Evaluator object.  \n",
    "In the next cells we generate a single input sample and evaluate it using the surrogate model and EnergyPlus."
   ]
  },
  {
   "cell_type": "code",
   "execution_count": 8,
   "metadata": {
    "papermill": {
     "duration": 0.01831,
     "end_time": "2019-10-28T22:51:55.103803",
     "exception": false,
     "start_time": "2019-10-28T22:51:55.085493",
     "status": "completed"
    },
    "tags": []
   },
   "outputs": [
    {
     "name": "stdout",
     "output_type": "stream",
     "text": [
      "[ 0.06845257  0.2652998   2.92197754  0.47021658 11.81732468 10.07129678\n",
      "  0.51577527]\n"
     ]
    }
   ],
   "source": [
    "sample = sampling.dist_sampler(sampling.lhs, problem, 1)\n",
    "values = sample.values[0]\n",
    "print(values)"
   ]
  },
  {
   "cell_type": "code",
   "execution_count": 9,
   "metadata": {
    "papermill": {
     "duration": 0.016449,
     "end_time": "2019-10-28T22:51:55.130247",
     "exception": false,
     "start_time": "2019-10-28T22:51:55.113798",
     "status": "completed"
    },
    "tags": []
   },
   "outputs": [
    {
     "data": {
      "text/plain": [
       "1906643216.1133249"
      ]
     },
     "execution_count": 9,
     "metadata": {},
     "output_type": "execute_result"
    }
   ],
   "source": [
    "GP_SM(values)[0]"
   ]
  },
  {
   "cell_type": "code",
   "execution_count": 10,
   "metadata": {
    "papermill": {
     "duration": 1.197246,
     "end_time": "2019-10-28T22:51:56.338601",
     "exception": false,
     "start_time": "2019-10-28T22:51:55.141355",
     "status": "completed"
    },
    "tags": []
   },
   "outputs": [
    {
     "data": {
      "text/plain": [
       "1832590841.9414"
      ]
     },
     "execution_count": 10,
     "metadata": {},
     "output_type": "execute_result"
    }
   ],
   "source": [
    "evaluator(values)[0]"
   ]
  },
  {
   "cell_type": "markdown",
   "metadata": {
    "papermill": {
     "duration": 0.009953,
     "end_time": "2019-10-28T22:51:56.358976",
     "exception": false,
     "start_time": "2019-10-28T22:51:56.349023",
     "status": "completed"
    },
    "tags": []
   },
   "source": [
    "## Running a large surrogate evaluation"
   ]
  },
  {
   "cell_type": "code",
   "execution_count": 11,
   "metadata": {
    "papermill": {
     "duration": 1.428181,
     "end_time": "2019-10-28T22:51:57.797224",
     "exception": false,
     "start_time": "2019-10-28T22:51:56.369043",
     "status": "completed"
    },
    "tags": []
   },
   "outputs": [
    {
     "data": {
      "application/vnd.jupyter.widget-view+json": {
       "model_id": "f13baa4de1764ce9b749f933557b081f",
       "version_major": 2,
       "version_minor": 0
      },
      "text/plain": [
       "HBox(children=(IntProgress(value=0, description='Executing', max=5000, style=ProgressStyle(description_width='…"
      ]
     },
     "metadata": {},
     "output_type": "display_data"
    },
    {
     "name": "stdout",
     "output_type": "stream",
     "text": [
      "\n"
     ]
    },
    {
     "data": {
      "text/html": [
       "<div>\n",
       "<style scoped>\n",
       "    .dataframe tbody tr th:only-of-type {\n",
       "        vertical-align: middle;\n",
       "    }\n",
       "\n",
       "    .dataframe tbody tr th {\n",
       "        vertical-align: top;\n",
       "    }\n",
       "\n",
       "    .dataframe thead th {\n",
       "        text-align: right;\n",
       "    }\n",
       "</style>\n",
       "<table border=\"1\" class=\"dataframe\">\n",
       "  <thead>\n",
       "    <tr style=\"text-align: right;\">\n",
       "      <th></th>\n",
       "      <th>Wall conductivity</th>\n",
       "      <th>Attic thickness</th>\n",
       "      <th>U-Factor</th>\n",
       "      <th>Solar Heat Gain Coefficient</th>\n",
       "      <th>Watts per Zone Floor Area_0</th>\n",
       "      <th>Watts per Zone Floor Area_1</th>\n",
       "      <th>Window to Wall Ratio</th>\n",
       "      <th>Electricity:Facility</th>\n",
       "    </tr>\n",
       "  </thead>\n",
       "  <tbody>\n",
       "    <tr>\n",
       "      <td>0</td>\n",
       "      <td>0.124309</td>\n",
       "      <td>0.167863</td>\n",
       "      <td>2.052279</td>\n",
       "      <td>0.916026</td>\n",
       "      <td>13.235416</td>\n",
       "      <td>12.586014</td>\n",
       "      <td>0.645820</td>\n",
       "      <td>2.059788e+09</td>\n",
       "    </tr>\n",
       "    <tr>\n",
       "      <td>1</td>\n",
       "      <td>0.197177</td>\n",
       "      <td>0.229878</td>\n",
       "      <td>3.801748</td>\n",
       "      <td>0.145320</td>\n",
       "      <td>13.499957</td>\n",
       "      <td>10.687017</td>\n",
       "      <td>0.604197</td>\n",
       "      <td>1.969611e+09</td>\n",
       "    </tr>\n",
       "    <tr>\n",
       "      <td>2</td>\n",
       "      <td>0.045592</td>\n",
       "      <td>0.150110</td>\n",
       "      <td>2.921662</td>\n",
       "      <td>0.387904</td>\n",
       "      <td>13.789488</td>\n",
       "      <td>12.042757</td>\n",
       "      <td>0.256709</td>\n",
       "      <td>2.026943e+09</td>\n",
       "    </tr>\n",
       "    <tr>\n",
       "      <td>3</td>\n",
       "      <td>0.167353</td>\n",
       "      <td>0.161779</td>\n",
       "      <td>0.880584</td>\n",
       "      <td>0.933286</td>\n",
       "      <td>12.526225</td>\n",
       "      <td>13.269125</td>\n",
       "      <td>0.851882</td>\n",
       "      <td>2.083242e+09</td>\n",
       "    </tr>\n",
       "    <tr>\n",
       "      <td>4</td>\n",
       "      <td>0.089238</td>\n",
       "      <td>0.231894</td>\n",
       "      <td>3.745927</td>\n",
       "      <td>0.574841</td>\n",
       "      <td>12.832366</td>\n",
       "      <td>14.499098</td>\n",
       "      <td>0.131026</td>\n",
       "      <td>2.021454e+09</td>\n",
       "    </tr>\n",
       "  </tbody>\n",
       "</table>\n",
       "</div>"
      ],
      "text/plain": [
       "   Wall conductivity  Attic thickness  U-Factor  Solar Heat Gain Coefficient  \\\n",
       "0           0.124309         0.167863  2.052279                     0.916026   \n",
       "1           0.197177         0.229878  3.801748                     0.145320   \n",
       "2           0.045592         0.150110  2.921662                     0.387904   \n",
       "3           0.167353         0.161779  0.880584                     0.933286   \n",
       "4           0.089238         0.231894  3.745927                     0.574841   \n",
       "\n",
       "   Watts per Zone Floor Area_0  Watts per Zone Floor Area_1  \\\n",
       "0                    13.235416                    12.586014   \n",
       "1                    13.499957                    10.687017   \n",
       "2                    13.789488                    12.042757   \n",
       "3                    12.526225                    13.269125   \n",
       "4                    12.832366                    14.499098   \n",
       "\n",
       "   Window to Wall Ratio  Electricity:Facility  \n",
       "0              0.645820          2.059788e+09  \n",
       "1              0.604197          1.969611e+09  \n",
       "2              0.256709          2.026943e+09  \n",
       "3              0.851882          2.083242e+09  \n",
       "4              0.131026          2.021454e+09  "
      ]
     },
     "execution_count": 11,
     "metadata": {},
     "output_type": "execute_result"
    }
   ],
   "source": [
    "inputs = sampling.dist_sampler(sampling.lhs, problem, 5000)\n",
    "outputs = GP_SM.df_apply(inputs)\n",
    "results = inputs.join(outputs)\n",
    "results.head()"
   ]
  },
  {
   "cell_type": "markdown",
   "metadata": {},
   "source": [
    "## Generate an idf/epJSON file with data in dataframe"
   ]
  },
  {
   "cell_type": "markdown",
   "metadata": {},
   "source": [
    "Generate an idf/epJSON file with selected row of data in dataframe and save it in current directory."
   ]
  },
  {
   "cell_type": "code",
   "execution_count": 12,
   "metadata": {},
   "outputs": [],
   "source": [
    "#generate_building(dataframe, index, filename)\n",
    "evaluator.generate_building(results, 2, 'output')"
   ]
  },
  {
   "cell_type": "markdown",
   "metadata": {
    "papermill": {
     "duration": 0.012325,
     "end_time": "2019-10-28T22:51:57.821959",
     "exception": false,
     "start_time": "2019-10-28T22:51:57.809634",
     "status": "completed"
    },
    "tags": []
   },
   "source": [
    "## Visualization"
   ]
  },
  {
   "cell_type": "code",
   "execution_count": 13,
   "metadata": {
    "papermill": {
     "duration": 9.575393,
     "end_time": "2019-10-28T22:52:07.409382",
     "exception": false,
     "start_time": "2019-10-28T22:51:57.833989",
     "status": "completed"
    },
    "tags": []
   },
   "outputs": [
    {
     "data": {
      "text/html": [
       "\n",
       "        <iframe\n",
       "            width=\"100%\"\n",
       "            height=\"525px\"\n",
       "            src=\"https://plot.ly/~westerm/0.embed\"\n",
       "            frameborder=\"0\"\n",
       "            allowfullscreen\n",
       "        ></iframe>\n",
       "        "
      ],
      "text/plain": [
       "<IPython.lib.display.IFrame at 0x7f08f54f9048>"
      ]
     },
     "execution_count": 13,
     "metadata": {},
     "output_type": "execute_result"
    }
   ],
   "source": [
    "chart_studio.tools.set_credentials_file(username='westerm', api_key='CcjiMWsrVX8c6ZU4Ny1x')\n",
    "df = inputs.round(3)\n",
    "\n",
    "# generate list if dictionaries\n",
    "l = list()\n",
    "for i in df.columns:\n",
    "    l.extend([dict(label = i, values = df[i])])\n",
    "\n",
    "l.extend([dict(label = outputs.columns[0], values = outputs.round(-5))])\n",
    "\n",
    "data = [\n",
    "    go.Parcoords(\n",
    "        line = dict(color = outputs['Electricity:Facility'],\n",
    "                    colorscale = [[0,'#D7C16B'],[0.5,'#23D8C3'],[1,'#F3F10F']]),\n",
    "        dimensions = l\n",
    "    )\n",
    "]\n",
    "\n",
    "layout = go.Layout(\n",
    "    plot_bgcolor = '#E5E5E5',\n",
    "    paper_bgcolor = '#E5E5E5'\n",
    ")\n",
    "\n",
    "fig = go.Figure(data = data, layout = layout)\n",
    "py.iplot(fig, filename = 'parcoords-basic')"
   ]
  },
  {
   "cell_type": "code",
   "execution_count": null,
   "metadata": {
    "papermill": {
     "duration": 0.012842,
     "end_time": "2019-10-28T22:52:07.434812",
     "exception": false,
     "start_time": "2019-10-28T22:52:07.421970",
     "status": "completed"
    },
    "tags": []
   },
   "outputs": [],
   "source": []
  }
 ],
 "metadata": {
  "kernelspec": {
   "display_name": "Python 3",
   "language": "python",
   "name": "python3"
  },
  "language_info": {
   "codemirror_mode": {
    "name": "ipython",
    "version": 3
   },
   "file_extension": ".py",
   "mimetype": "text/x-python",
   "name": "python",
   "nbconvert_exporter": "python",
   "pygments_lexer": "ipython3",
   "version": "3.6.4"
  },
  "papermill": {
   "duration": 21.322303,
   "end_time": "2019-10-28T22:52:07.953823",
   "environment_variables": {},
   "exception": null,
   "input_path": "./SurrogateModelling/FitGPModel.ipynb",
   "output_path": "./SurrogateModelling/FitGPModel.ipynb",
   "parameters": {},
   "start_time": "2019-10-28T22:51:46.631520",
   "version": "1.2.0"
  },
  "widgets": {
   "application/vnd.jupyter.widget-state+json": {
    "state": {
     "08b93885a1224d31b69f38969070ee3b": {
      "model_module": "@jupyter-widgets/base",
      "model_module_version": "1.2.0",
      "model_name": "LayoutModel",
      "state": {
       "_model_module": "@jupyter-widgets/base",
       "_model_module_version": "1.2.0",
       "_model_name": "LayoutModel",
       "_view_count": null,
       "_view_module": "@jupyter-widgets/base",
       "_view_module_version": "1.2.0",
       "_view_name": "LayoutView",
       "align_content": null,
       "align_items": null,
       "align_self": null,
       "border": null,
       "bottom": null,
       "display": null,
       "flex": null,
       "flex_flow": null,
       "grid_area": null,
       "grid_auto_columns": null,
       "grid_auto_flow": null,
       "grid_auto_rows": null,
       "grid_column": null,
       "grid_gap": null,
       "grid_row": null,
       "grid_template_areas": null,
       "grid_template_columns": null,
       "grid_template_rows": null,
       "height": null,
       "justify_content": null,
       "justify_items": null,
       "left": null,
       "margin": null,
       "max_height": null,
       "max_width": null,
       "min_height": null,
       "min_width": null,
       "object_fit": null,
       "object_position": null,
       "order": null,
       "overflow": null,
       "overflow_x": null,
       "overflow_y": null,
       "padding": null,
       "right": null,
       "top": null,
       "visibility": null,
       "width": null
      }
     },
     "1e848c36520d48c2b6d406d7ff06f3d9": {
      "model_module": "@jupyter-widgets/controls",
      "model_module_version": "1.5.0",
      "model_name": "DescriptionStyleModel",
      "state": {
       "_model_module": "@jupyter-widgets/controls",
       "_model_module_version": "1.5.0",
       "_model_name": "DescriptionStyleModel",
       "_view_count": null,
       "_view_module": "@jupyter-widgets/base",
       "_view_module_version": "1.2.0",
       "_view_name": "StyleView",
       "description_width": ""
      }
     },
     "2230f53a98db437e85a89408bd4c2ded": {
      "model_module": "@jupyter-widgets/controls",
      "model_module_version": "1.5.0",
      "model_name": "HTMLModel",
      "state": {
       "_dom_classes": [],
       "_model_module": "@jupyter-widgets/controls",
       "_model_module_version": "1.5.0",
       "_model_name": "HTMLModel",
       "_view_count": null,
       "_view_module": "@jupyter-widgets/controls",
       "_view_module_version": "1.5.0",
       "_view_name": "HTMLView",
       "description": "",
       "description_tooltip": null,
       "layout": "IPY_MODEL_08b93885a1224d31b69f38969070ee3b",
       "placeholder": "​",
       "style": "IPY_MODEL_e12c3b42e4d04b48b8c5e88f5a9e3dcf",
       "value": " 5000/5000 [00:01&lt;00:00, 2903.76row/s]"
      }
     },
     "28ca4a747fee430c9e40db576cc472ea": {
      "model_module": "@jupyter-widgets/controls",
      "model_module_version": "1.5.0",
      "model_name": "ProgressStyleModel",
      "state": {
       "_model_module": "@jupyter-widgets/controls",
       "_model_module_version": "1.5.0",
       "_model_name": "ProgressStyleModel",
       "_view_count": null,
       "_view_module": "@jupyter-widgets/base",
       "_view_module_version": "1.2.0",
       "_view_name": "StyleView",
       "bar_color": null,
       "description_width": "initial"
      }
     },
     "316d6eeffd1c4423b16201fe441e60fd": {
      "model_module": "@jupyter-widgets/controls",
      "model_module_version": "1.5.0",
      "model_name": "IntProgressModel",
      "state": {
       "_dom_classes": [],
       "_model_module": "@jupyter-widgets/controls",
       "_model_module_version": "1.5.0",
       "_model_name": "IntProgressModel",
       "_view_count": null,
       "_view_module": "@jupyter-widgets/controls",
       "_view_module_version": "1.5.0",
       "_view_name": "ProgressView",
       "bar_style": "success",
       "description": "Executing: 100%",
       "description_tooltip": null,
       "layout": "IPY_MODEL_f92d8338f83c4344ba4ec934dc12310c",
       "max": 5,
       "min": 0,
       "orientation": "horizontal",
       "style": "IPY_MODEL_321bff8d7c674a56af81f89399b63e6d",
       "value": 5
      }
     },
     "321bff8d7c674a56af81f89399b63e6d": {
      "model_module": "@jupyter-widgets/controls",
      "model_module_version": "1.5.0",
      "model_name": "ProgressStyleModel",
      "state": {
       "_model_module": "@jupyter-widgets/controls",
       "_model_module_version": "1.5.0",
       "_model_name": "ProgressStyleModel",
       "_view_count": null,
       "_view_module": "@jupyter-widgets/base",
       "_view_module_version": "1.2.0",
       "_view_name": "StyleView",
       "bar_color": null,
       "description_width": "initial"
      }
     },
     "3459261594bb48bea5de1ea0bca5c198": {
      "model_module": "@jupyter-widgets/base",
      "model_module_version": "1.2.0",
      "model_name": "LayoutModel",
      "state": {
       "_model_module": "@jupyter-widgets/base",
       "_model_module_version": "1.2.0",
       "_model_name": "LayoutModel",
       "_view_count": null,
       "_view_module": "@jupyter-widgets/base",
       "_view_module_version": "1.2.0",
       "_view_name": "LayoutView",
       "align_content": null,
       "align_items": null,
       "align_self": null,
       "border": null,
       "bottom": null,
       "display": null,
       "flex": null,
       "flex_flow": null,
       "grid_area": null,
       "grid_auto_columns": null,
       "grid_auto_flow": null,
       "grid_auto_rows": null,
       "grid_column": null,
       "grid_gap": null,
       "grid_row": null,
       "grid_template_areas": null,
       "grid_template_columns": null,
       "grid_template_rows": null,
       "height": null,
       "justify_content": null,
       "justify_items": null,
       "left": null,
       "margin": null,
       "max_height": null,
       "max_width": null,
       "min_height": null,
       "min_width": null,
       "object_fit": null,
       "object_position": null,
       "order": null,
       "overflow": null,
       "overflow_x": null,
       "overflow_y": null,
       "padding": null,
       "right": null,
       "top": null,
       "visibility": null,
       "width": null
      }
     },
     "870e5c25903d4e7fb63928ddb3e202b9": {
      "model_module": "@jupyter-widgets/base",
      "model_module_version": "1.2.0",
      "model_name": "LayoutModel",
      "state": {
       "_model_module": "@jupyter-widgets/base",
       "_model_module_version": "1.2.0",
       "_model_name": "LayoutModel",
       "_view_count": null,
       "_view_module": "@jupyter-widgets/base",
       "_view_module_version": "1.2.0",
       "_view_name": "LayoutView",
       "align_content": null,
       "align_items": null,
       "align_self": null,
       "border": null,
       "bottom": null,
       "display": null,
       "flex": null,
       "flex_flow": null,
       "grid_area": null,
       "grid_auto_columns": null,
       "grid_auto_flow": null,
       "grid_auto_rows": null,
       "grid_column": null,
       "grid_gap": null,
       "grid_row": null,
       "grid_template_areas": null,
       "grid_template_columns": null,
       "grid_template_rows": null,
       "height": null,
       "justify_content": null,
       "justify_items": null,
       "left": null,
       "margin": null,
       "max_height": null,
       "max_width": null,
       "min_height": null,
       "min_width": null,
       "object_fit": null,
       "object_position": null,
       "order": null,
       "overflow": null,
       "overflow_x": null,
       "overflow_y": null,
       "padding": null,
       "right": null,
       "top": null,
       "visibility": null,
       "width": null
      }
     },
     "8dde3366e16f495a85d998157d2532d5": {
      "model_module": "@jupyter-widgets/base",
      "model_module_version": "1.2.0",
      "model_name": "LayoutModel",
      "state": {
       "_model_module": "@jupyter-widgets/base",
       "_model_module_version": "1.2.0",
       "_model_name": "LayoutModel",
       "_view_count": null,
       "_view_module": "@jupyter-widgets/base",
       "_view_module_version": "1.2.0",
       "_view_name": "LayoutView",
       "align_content": null,
       "align_items": null,
       "align_self": null,
       "border": null,
       "bottom": null,
       "display": null,
       "flex": null,
       "flex_flow": null,
       "grid_area": null,
       "grid_auto_columns": null,
       "grid_auto_flow": null,
       "grid_auto_rows": null,
       "grid_column": null,
       "grid_gap": null,
       "grid_row": null,
       "grid_template_areas": null,
       "grid_template_columns": null,
       "grid_template_rows": null,
       "height": null,
       "justify_content": null,
       "justify_items": null,
       "left": null,
       "margin": null,
       "max_height": null,
       "max_width": null,
       "min_height": null,
       "min_width": null,
       "object_fit": null,
       "object_position": null,
       "order": null,
       "overflow": null,
       "overflow_x": null,
       "overflow_y": null,
       "padding": null,
       "right": null,
       "top": null,
       "visibility": null,
       "width": null
      }
     },
     "b91a2f5c9de84876bf84875f586474e1": {
      "model_module": "@jupyter-widgets/controls",
      "model_module_version": "1.5.0",
      "model_name": "HTMLModel",
      "state": {
       "_dom_classes": [],
       "_model_module": "@jupyter-widgets/controls",
       "_model_module_version": "1.5.0",
       "_model_name": "HTMLModel",
       "_view_count": null,
       "_view_module": "@jupyter-widgets/controls",
       "_view_module_version": "1.5.0",
       "_view_name": "HTMLView",
       "description": "",
       "description_tooltip": null,
       "layout": "IPY_MODEL_8dde3366e16f495a85d998157d2532d5",
       "placeholder": "​",
       "style": "IPY_MODEL_1e848c36520d48c2b6d406d7ff06f3d9",
       "value": " 5/5 [00:07&lt;00:00,  1.54s/row]"
      }
     },
     "c0a6d894b84b475e996fe7c6fa1d8be1": {
      "model_module": "@jupyter-widgets/controls",
      "model_module_version": "1.5.0",
      "model_name": "IntProgressModel",
      "state": {
       "_dom_classes": [],
       "_model_module": "@jupyter-widgets/controls",
       "_model_module_version": "1.5.0",
       "_model_name": "IntProgressModel",
       "_view_count": null,
       "_view_module": "@jupyter-widgets/controls",
       "_view_module_version": "1.5.0",
       "_view_name": "ProgressView",
       "bar_style": "success",
       "description": "Executing: 100%",
       "description_tooltip": null,
       "layout": "IPY_MODEL_3459261594bb48bea5de1ea0bca5c198",
       "max": 5000,
       "min": 0,
       "orientation": "horizontal",
       "style": "IPY_MODEL_28ca4a747fee430c9e40db576cc472ea",
       "value": 5000
      }
     },
     "ca94eccb755b4e758ac3774d78724b84": {
      "model_module": "@jupyter-widgets/controls",
      "model_module_version": "1.5.0",
      "model_name": "HBoxModel",
      "state": {
       "_dom_classes": [],
       "_model_module": "@jupyter-widgets/controls",
       "_model_module_version": "1.5.0",
       "_model_name": "HBoxModel",
       "_view_count": null,
       "_view_module": "@jupyter-widgets/controls",
       "_view_module_version": "1.5.0",
       "_view_name": "HBoxView",
       "box_style": "",
       "children": [
        "IPY_MODEL_316d6eeffd1c4423b16201fe441e60fd",
        "IPY_MODEL_b91a2f5c9de84876bf84875f586474e1"
       ],
       "layout": "IPY_MODEL_870e5c25903d4e7fb63928ddb3e202b9"
      }
     },
     "e12c3b42e4d04b48b8c5e88f5a9e3dcf": {
      "model_module": "@jupyter-widgets/controls",
      "model_module_version": "1.5.0",
      "model_name": "DescriptionStyleModel",
      "state": {
       "_model_module": "@jupyter-widgets/controls",
       "_model_module_version": "1.5.0",
       "_model_name": "DescriptionStyleModel",
       "_view_count": null,
       "_view_module": "@jupyter-widgets/base",
       "_view_module_version": "1.2.0",
       "_view_name": "StyleView",
       "description_width": ""
      }
     },
     "e7e0a2cec80a40a5a2d419df5f74cf66": {
      "model_module": "@jupyter-widgets/controls",
      "model_module_version": "1.5.0",
      "model_name": "HBoxModel",
      "state": {
       "_dom_classes": [],
       "_model_module": "@jupyter-widgets/controls",
       "_model_module_version": "1.5.0",
       "_model_name": "HBoxModel",
       "_view_count": null,
       "_view_module": "@jupyter-widgets/controls",
       "_view_module_version": "1.5.0",
       "_view_name": "HBoxView",
       "box_style": "",
       "children": [
        "IPY_MODEL_c0a6d894b84b475e996fe7c6fa1d8be1",
        "IPY_MODEL_2230f53a98db437e85a89408bd4c2ded"
       ],
       "layout": "IPY_MODEL_f5149194a5b44bdea70ca3dfd2eeaa3d"
      }
     },
     "f5149194a5b44bdea70ca3dfd2eeaa3d": {
      "model_module": "@jupyter-widgets/base",
      "model_module_version": "1.2.0",
      "model_name": "LayoutModel",
      "state": {
       "_model_module": "@jupyter-widgets/base",
       "_model_module_version": "1.2.0",
       "_model_name": "LayoutModel",
       "_view_count": null,
       "_view_module": "@jupyter-widgets/base",
       "_view_module_version": "1.2.0",
       "_view_name": "LayoutView",
       "align_content": null,
       "align_items": null,
       "align_self": null,
       "border": null,
       "bottom": null,
       "display": null,
       "flex": null,
       "flex_flow": null,
       "grid_area": null,
       "grid_auto_columns": null,
       "grid_auto_flow": null,
       "grid_auto_rows": null,
       "grid_column": null,
       "grid_gap": null,
       "grid_row": null,
       "grid_template_areas": null,
       "grid_template_columns": null,
       "grid_template_rows": null,
       "height": null,
       "justify_content": null,
       "justify_items": null,
       "left": null,
       "margin": null,
       "max_height": null,
       "max_width": null,
       "min_height": null,
       "min_width": null,
       "object_fit": null,
       "object_position": null,
       "order": null,
       "overflow": null,
       "overflow_x": null,
       "overflow_y": null,
       "padding": null,
       "right": null,
       "top": null,
       "visibility": null,
       "width": null
      }
     },
     "f92d8338f83c4344ba4ec934dc12310c": {
      "model_module": "@jupyter-widgets/base",
      "model_module_version": "1.2.0",
      "model_name": "LayoutModel",
      "state": {
       "_model_module": "@jupyter-widgets/base",
       "_model_module_version": "1.2.0",
       "_model_name": "LayoutModel",
       "_view_count": null,
       "_view_module": "@jupyter-widgets/base",
       "_view_module_version": "1.2.0",
       "_view_name": "LayoutView",
       "align_content": null,
       "align_items": null,
       "align_self": null,
       "border": null,
       "bottom": null,
       "display": null,
       "flex": null,
       "flex_flow": null,
       "grid_area": null,
       "grid_auto_columns": null,
       "grid_auto_flow": null,
       "grid_auto_rows": null,
       "grid_column": null,
       "grid_gap": null,
       "grid_row": null,
       "grid_template_areas": null,
       "grid_template_columns": null,
       "grid_template_rows": null,
       "height": null,
       "justify_content": null,
       "justify_items": null,
       "left": null,
       "margin": null,
       "max_height": null,
       "max_width": null,
       "min_height": null,
       "min_width": null,
       "object_fit": null,
       "object_position": null,
       "order": null,
       "overflow": null,
       "overflow_x": null,
       "overflow_y": null,
       "padding": null,
       "right": null,
       "top": null,
       "visibility": null,
       "width": null
      }
     }
    },
    "version_major": 2,
    "version_minor": 0
   }
  }
 },
 "nbformat": 4,
 "nbformat_minor": 2
}
