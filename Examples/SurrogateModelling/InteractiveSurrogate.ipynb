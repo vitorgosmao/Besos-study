{
 "cells": [
  {
   "cell_type": "markdown",
   "metadata": {
    "papermill": {
     "duration": 0.014487,
     "end_time": "2019-10-28T22:55:46.909905",
     "exception": false,
     "start_time": "2019-10-28T22:55:46.895418",
     "status": "completed"
    },
    "tags": []
   },
   "source": [
    "# Interactive Surrogate Modelling\n",
    "\n",
    "In this notebook we:\n",
    "+ define a problem consisting of parameters to vary with ranges and an objective function\n",
    "+ sample the problem space\n",
    "+ define an Evaluator by linking the problem to an EnergyPlus model\n",
    "+ run the Evaluator for the samples\n",
    "+ train a surrogate model over the samples\n",
    "+ explore the design space using an interactive plot that queries the surrogate model"
   ]
  },
  {
   "cell_type": "code",
   "execution_count": 1,
   "metadata": {
    "papermill": {
     "duration": 1.304249,
     "end_time": "2019-10-28T22:55:48.229882",
     "exception": false,
     "start_time": "2019-10-28T22:55:46.925633",
     "status": "completed"
    },
    "tags": []
   },
   "outputs": [],
   "source": [
    "import pandas as pd\n",
    "import numpy as np\n",
    "import seaborn as sns\n",
    "import matplotlib.pyplot as plt\n",
    "from ipywidgets import interact, FloatSlider\n",
    "from sklearn import svm, pipeline, linear_model\n",
    "from sklearn.preprocessing import StandardScaler\n",
    "\n",
    "from besos import eppy_funcs as ef\n",
    "from besos import sampling\n",
    "from besos.problem import EPProblem\n",
    "from besos.evaluator import EvaluatorEP\n",
    "from besos.parameters import RangeParameter, Parameter, FieldSelector\n",
    "from besos import config"
   ]
  },
  {
   "cell_type": "markdown",
   "metadata": {
    "papermill": {
     "duration": 0.011194,
     "end_time": "2019-10-28T22:55:48.252689",
     "exception": false,
     "start_time": "2019-10-28T22:55:48.241495",
     "status": "completed"
    },
    "tags": []
   },
   "source": [
    "## Parameters and Objectives\n",
    "We start by defining `Parameters` that govern how we would like to modify the building.  \n",
    "Here they are the solar heat gain coefficient and the lighting power density. "
   ]
  },
  {
   "cell_type": "code",
   "execution_count": 2,
   "metadata": {
    "papermill": {
     "duration": 0.021206,
     "end_time": "2019-10-28T22:55:48.284497",
     "exception": false,
     "start_time": "2019-10-28T22:55:48.263291",
     "status": "completed"
    },
    "tags": []
   },
   "outputs": [],
   "source": [
    "parameters = [\n",
    "    Parameter(FieldSelector(object_name='NonRes Fixed Assembly Window',\n",
    "                                field_name='Solar Heat Gain Coefficient'),\n",
    "                  value_descriptor=RangeParameter(0.01,0.99)),\n",
    "    Parameter(FieldSelector('Lights', '*', 'Watts per Zone Floor Area'),\n",
    "                  value_descriptor=RangeParameter(8, 12),\n",
    "                  name='Lights Watts/Area')]"
   ]
  },
  {
   "cell_type": "markdown",
   "metadata": {
    "papermill": {
     "duration": 0.00987,
     "end_time": "2019-10-28T22:55:48.305075",
     "exception": false,
     "start_time": "2019-10-28T22:55:48.295205",
     "status": "completed"
    },
    "tags": []
   },
   "source": [
    "Now, we specify that we would like to optimize for electricity use of the entire facility. We then bundle all of this information together."
   ]
  },
  {
   "cell_type": "code",
   "execution_count": 3,
   "metadata": {
    "papermill": {
     "duration": 0.01605,
     "end_time": "2019-10-28T22:55:48.331527",
     "exception": false,
     "start_time": "2019-10-28T22:55:48.315477",
     "status": "completed"
    },
    "tags": []
   },
   "outputs": [],
   "source": [
    "objectives = ['Electricity:Facility']\n",
    "\n",
    "problem = EPProblem(parameters, objectives)"
   ]
  },
  {
   "cell_type": "markdown",
   "metadata": {
    "papermill": {
     "duration": 0.010894,
     "end_time": "2019-10-28T22:55:48.353807",
     "exception": false,
     "start_time": "2019-10-28T22:55:48.342913",
     "status": "completed"
    },
    "tags": []
   },
   "source": [
    "## Sampling\n",
    "\n",
    "We need to generate samples on which to train a surrogate model.  \n",
    "The `sampler` uses Latin Hypercube Sampling to distribute the samples in the design space defined by the `Parameters`.  \n",
    "We can check how well distributed they are using `describe()`."
   ]
  },
  {
   "cell_type": "code",
   "execution_count": 4,
   "metadata": {
    "papermill": {
     "duration": 0.033569,
     "end_time": "2019-10-28T22:55:48.398067",
     "exception": false,
     "start_time": "2019-10-28T22:55:48.364498",
     "status": "completed"
    },
    "tags": []
   },
   "outputs": [
    {
     "data": {
      "text/html": [
       "<div>\n",
       "<style scoped>\n",
       "    .dataframe tbody tr th:only-of-type {\n",
       "        vertical-align: middle;\n",
       "    }\n",
       "\n",
       "    .dataframe tbody tr th {\n",
       "        vertical-align: top;\n",
       "    }\n",
       "\n",
       "    .dataframe thead th {\n",
       "        text-align: right;\n",
       "    }\n",
       "</style>\n",
       "<table border=\"1\" class=\"dataframe\">\n",
       "  <thead>\n",
       "    <tr style=\"text-align: right;\">\n",
       "      <th></th>\n",
       "      <th>Solar Heat Gain Coefficient</th>\n",
       "      <th>Lights Watts/Area</th>\n",
       "    </tr>\n",
       "  </thead>\n",
       "  <tbody>\n",
       "    <tr>\n",
       "      <td>count</td>\n",
       "      <td>5.000000</td>\n",
       "      <td>5.000000</td>\n",
       "    </tr>\n",
       "    <tr>\n",
       "      <td>mean</td>\n",
       "      <td>0.506860</td>\n",
       "      <td>10.040531</td>\n",
       "    </tr>\n",
       "    <tr>\n",
       "      <td>std</td>\n",
       "      <td>0.312148</td>\n",
       "      <td>1.058007</td>\n",
       "    </tr>\n",
       "    <tr>\n",
       "      <td>min</td>\n",
       "      <td>0.038625</td>\n",
       "      <td>8.700740</td>\n",
       "    </tr>\n",
       "    <tr>\n",
       "      <td>25%</td>\n",
       "      <td>0.385948</td>\n",
       "      <td>9.333161</td>\n",
       "    </tr>\n",
       "    <tr>\n",
       "      <td>50%</td>\n",
       "      <td>0.591445</td>\n",
       "      <td>10.199721</td>\n",
       "    </tr>\n",
       "    <tr>\n",
       "      <td>75%</td>\n",
       "      <td>0.655612</td>\n",
       "      <td>10.551767</td>\n",
       "    </tr>\n",
       "    <tr>\n",
       "      <td>max</td>\n",
       "      <td>0.862668</td>\n",
       "      <td>11.417265</td>\n",
       "    </tr>\n",
       "  </tbody>\n",
       "</table>\n",
       "</div>"
      ],
      "text/plain": [
       "       Solar Heat Gain Coefficient  Lights Watts/Area\n",
       "count                     5.000000           5.000000\n",
       "mean                      0.506860          10.040531\n",
       "std                       0.312148           1.058007\n",
       "min                       0.038625           8.700740\n",
       "25%                       0.385948           9.333161\n",
       "50%                       0.591445          10.199721\n",
       "75%                       0.655612          10.551767\n",
       "max                       0.862668          11.417265"
      ]
     },
     "execution_count": 4,
     "metadata": {},
     "output_type": "execute_result"
    }
   ],
   "source": [
    "inputs = sampling.dist_sampler(sampling.lhs, problem, 5)\n",
    "inputs.describe() # properties of the sample set"
   ]
  },
  {
   "cell_type": "markdown",
   "metadata": {
    "papermill": {
     "duration": 0.009808,
     "end_time": "2019-10-28T22:55:48.418366",
     "exception": false,
     "start_time": "2019-10-28T22:55:48.408558",
     "status": "completed"
    },
    "tags": []
   },
   "source": [
    "## Building model\n",
    "Next we load an EnergyPlus model. The example is a small office, or we could pass in the IDF filename."
   ]
  },
  {
   "cell_type": "code",
   "execution_count": 5,
   "metadata": {
    "papermill": {
     "duration": 0.019596,
     "end_time": "2019-10-28T22:55:48.448582",
     "exception": false,
     "start_time": "2019-10-28T22:55:48.428986",
     "status": "completed"
    },
    "tags": []
   },
   "outputs": [],
   "source": [
    "building = ef.get_building()"
   ]
  },
  {
   "cell_type": "markdown",
   "metadata": {
    "papermill": {
     "duration": 0.011805,
     "end_time": "2019-10-28T22:55:48.473061",
     "exception": false,
     "start_time": "2019-10-28T22:55:48.461256",
     "status": "completed"
    },
    "tags": []
   },
   "source": [
    "## Evaluator\n",
    "We now define and run the Evaluator, which will run the EnergyPlus instances with the different inputs generated in the previous cell. "
   ]
  },
  {
   "cell_type": "code",
   "execution_count": 6,
   "metadata": {
    "papermill": {
     "duration": 6.968001,
     "end_time": "2019-10-28T22:55:55.452169",
     "exception": false,
     "start_time": "2019-10-28T22:55:48.484168",
     "status": "completed"
    },
    "tags": []
   },
   "outputs": [
    {
     "data": {
      "application/vnd.jupyter.widget-view+json": {
       "model_id": "c63dae2e1b1d46129c32b796b4faf943",
       "version_major": 2,
       "version_minor": 0
      },
      "text/plain": [
       "HBox(children=(IntProgress(value=0, description='Executing', max=5, style=ProgressStyle(description_width='ini…"
      ]
     },
     "metadata": {},
     "output_type": "display_data"
    },
    {
     "name": "stdout",
     "output_type": "stream",
     "text": [
      "\n"
     ]
    },
    {
     "data": {
      "text/html": [
       "<div>\n",
       "<style scoped>\n",
       "    .dataframe tbody tr th:only-of-type {\n",
       "        vertical-align: middle;\n",
       "    }\n",
       "\n",
       "    .dataframe tbody tr th {\n",
       "        vertical-align: top;\n",
       "    }\n",
       "\n",
       "    .dataframe thead th {\n",
       "        text-align: right;\n",
       "    }\n",
       "</style>\n",
       "<table border=\"1\" class=\"dataframe\">\n",
       "  <thead>\n",
       "    <tr style=\"text-align: right;\">\n",
       "      <th></th>\n",
       "      <th>Solar Heat Gain Coefficient</th>\n",
       "      <th>Lights Watts/Area</th>\n",
       "      <th>Electricity:Facility</th>\n",
       "    </tr>\n",
       "  </thead>\n",
       "  <tbody>\n",
       "    <tr>\n",
       "      <td>0</td>\n",
       "      <td>0.385948</td>\n",
       "      <td>10.199721</td>\n",
       "      <td>1.815945e+09</td>\n",
       "    </tr>\n",
       "    <tr>\n",
       "      <td>1</td>\n",
       "      <td>0.038625</td>\n",
       "      <td>10.551767</td>\n",
       "      <td>1.741947e+09</td>\n",
       "    </tr>\n",
       "    <tr>\n",
       "      <td>2</td>\n",
       "      <td>0.655612</td>\n",
       "      <td>11.417265</td>\n",
       "      <td>1.988845e+09</td>\n",
       "    </tr>\n",
       "    <tr>\n",
       "      <td>3</td>\n",
       "      <td>0.591445</td>\n",
       "      <td>8.700740</td>\n",
       "      <td>1.785228e+09</td>\n",
       "    </tr>\n",
       "    <tr>\n",
       "      <td>4</td>\n",
       "      <td>0.862668</td>\n",
       "      <td>9.333161</td>\n",
       "      <td>1.956404e+09</td>\n",
       "    </tr>\n",
       "  </tbody>\n",
       "</table>\n",
       "</div>"
      ],
      "text/plain": [
       "   Solar Heat Gain Coefficient  Lights Watts/Area  Electricity:Facility\n",
       "0                     0.385948          10.199721          1.815945e+09\n",
       "1                     0.038625          10.551767          1.741947e+09\n",
       "2                     0.655612          11.417265          1.988845e+09\n",
       "3                     0.591445           8.700740          1.785228e+09\n",
       "4                     0.862668           9.333161          1.956404e+09"
      ]
     },
     "execution_count": 6,
     "metadata": {},
     "output_type": "execute_result"
    }
   ],
   "source": [
    "evaluator = EvaluatorEP(problem, building)\n",
    "train = evaluator.df_apply(inputs, keep_input=True)\n",
    "train.head() # first 5 lines"
   ]
  },
  {
   "cell_type": "markdown",
   "metadata": {
    "papermill": {
     "duration": 0.012422,
     "end_time": "2019-10-28T22:55:55.476198",
     "exception": false,
     "start_time": "2019-10-28T22:55:55.463776",
     "status": "completed"
    },
    "tags": []
   },
   "source": [
    "We can save results at this point:"
   ]
  },
  {
   "cell_type": "code",
   "execution_count": 7,
   "metadata": {
    "papermill": {
     "duration": 0.017532,
     "end_time": "2019-10-28T22:55:55.504936",
     "exception": false,
     "start_time": "2019-10-28T22:55:55.487404",
     "status": "completed"
    },
    "tags": []
   },
   "outputs": [],
   "source": [
    "train.to_pickle('samples.p')"
   ]
  },
  {
   "cell_type": "markdown",
   "metadata": {
    "papermill": {
     "duration": 0.010716,
     "end_time": "2019-10-28T22:55:55.526989",
     "exception": false,
     "start_time": "2019-10-28T22:55:55.516273",
     "status": "completed"
    },
    "tags": []
   },
   "source": [
    "And load them again later:"
   ]
  },
  {
   "cell_type": "code",
   "execution_count": 8,
   "metadata": {
    "papermill": {
     "duration": 0.01646,
     "end_time": "2019-10-28T22:55:55.554247",
     "exception": false,
     "start_time": "2019-10-28T22:55:55.537787",
     "status": "completed"
    },
    "tags": []
   },
   "outputs": [],
   "source": [
    "train = pd.read_pickle('samples.p')"
   ]
  },
  {
   "cell_type": "markdown",
   "metadata": {
    "papermill": {
     "duration": 0.011886,
     "end_time": "2019-10-28T22:55:55.578323",
     "exception": false,
     "start_time": "2019-10-28T22:55:55.566437",
     "status": "completed"
    },
    "tags": []
   },
   "source": [
    "## Exploring the training data\n",
    "Let's look at the correlation amongst the inputs and the output using a built-in [Seaborn](http://seaborn.pydata.org/) plot:"
   ]
  },
  {
   "cell_type": "code",
   "execution_count": 9,
   "metadata": {
    "papermill": {
     "duration": 1.841446,
     "end_time": "2019-10-28T22:55:57.431248",
     "exception": false,
     "start_time": "2019-10-28T22:55:55.589802",
     "status": "completed"
    },
    "tags": []
   },
   "outputs": [
    {
     "data": {
      "image/png": "[encoded data removed]",
      "text/plain": [
       "<Figure size 540x540 with 12 Axes>"
      ]
     },
     "metadata": {
      "needs_background": "light"
     },
     "output_type": "display_data"
    }
   ],
   "source": [
    "g = sns.pairplot(train)"
   ]
  },
  {
   "cell_type": "markdown",
   "metadata": {
    "papermill": {
     "duration": 0.011643,
     "end_time": "2019-10-28T22:55:57.455921",
     "exception": false,
     "start_time": "2019-10-28T22:55:57.444278",
     "status": "completed"
    },
    "tags": []
   },
   "source": [
    "Here's a plot of the _design space_ defined by the samples."
   ]
  },
  {
   "cell_type": "code",
   "execution_count": 10,
   "metadata": {
    "papermill": {
     "duration": 0.251437,
     "end_time": "2019-10-28T22:55:57.721132",
     "exception": false,
     "start_time": "2019-10-28T22:55:57.469695",
     "status": "completed"
    },
    "tags": []
   },
   "outputs": [
    {
     "data": {
      "text/plain": [
       "<matplotlib.axes._subplots.AxesSubplot at 0x7fbbc442c2b0>"
      ]
     },
     "execution_count": 10,
     "metadata": {},
     "output_type": "execute_result"
    },
    {
     "data": {
      "image/png": "[encoded data removed]",
      "text/plain": [
       "<Figure size 432x288 with 2 Axes>"
      ]
     },
     "metadata": {
      "needs_background": "light"
     },
     "output_type": "display_data"
    }
   ],
   "source": [
    "x,y,obj = problem.names()\n",
    "train.plot.hexbin(x=x, y=y, C=obj, cmap='plasma', sharex=False, gridsize=50)"
   ]
  },
  {
   "cell_type": "markdown",
   "metadata": {
    "papermill": {
     "duration": 0.012904,
     "end_time": "2019-10-28T22:55:57.746902",
     "exception": false,
     "start_time": "2019-10-28T22:55:57.733998",
     "status": "completed"
    },
    "tags": []
   },
   "source": [
    "## Fitting a surrogate model\n",
    "\n",
    "Now we can train the model using a ScikitLearn pipeline:"
   ]
  },
  {
   "cell_type": "code",
   "execution_count": 11,
   "metadata": {
    "papermill": {
     "duration": 0.027518,
     "end_time": "2019-10-28T22:55:57.788509",
     "exception": false,
     "start_time": "2019-10-28T22:55:57.760991",
     "status": "completed"
    },
    "tags": []
   },
   "outputs": [
    {
     "data": {
      "text/plain": [
       "Pipeline(memory=None,\n",
       "         steps=[('standardscaler',\n",
       "                 StandardScaler(copy=True, with_mean=True, with_std=True)),\n",
       "                ('ridge',\n",
       "                 Ridge(alpha=1.0, copy_X=True, fit_intercept=True,\n",
       "                       max_iter=None, normalize=False, random_state=None,\n",
       "                       solver='auto', tol=0.001))],\n",
       "         verbose=False)"
      ]
     },
     "execution_count": 11,
     "metadata": {},
     "output_type": "execute_result"
    }
   ],
   "source": [
    "model = pipeline.make_pipeline(\n",
    "        StandardScaler(),\n",
    "        linear_model.Ridge())\n",
    "model.fit(train[[x, y]].values, train[obj].values)"
   ]
  },
  {
   "cell_type": "markdown",
   "metadata": {
    "papermill": {
     "duration": 0.013395,
     "end_time": "2019-10-28T22:55:57.815502",
     "exception": false,
     "start_time": "2019-10-28T22:55:57.802107",
     "status": "completed"
    },
    "tags": []
   },
   "source": [
    "## Running the surrogate model\n",
    "\n",
    "We can query the model at a specific point in the design space:"
   ]
  },
  {
   "cell_type": "code",
   "execution_count": 12,
   "metadata": {
    "papermill": {
     "duration": 0.020999,
     "end_time": "2019-10-28T22:55:57.851037",
     "exception": false,
     "start_time": "2019-10-28T22:55:57.830038",
     "status": "completed"
    },
    "tags": []
   },
   "outputs": [
    {
     "data": {
      "text/plain": [
       "array([1.85386632e+09])"
      ]
     },
     "execution_count": 12,
     "metadata": {},
     "output_type": "execute_result"
    }
   ],
   "source": [
    "model.predict([[0.5,10]])"
   ]
  },
  {
   "cell_type": "markdown",
   "metadata": {
    "papermill": {
     "duration": 0.013712,
     "end_time": "2019-10-28T22:55:57.879711",
     "exception": false,
     "start_time": "2019-10-28T22:55:57.865999",
     "status": "completed"
    },
    "tags": []
   },
   "source": [
    "Or for a `dataframe` made from a `dictionary` of points:"
   ]
  },
  {
   "cell_type": "code",
   "execution_count": 13,
   "metadata": {
    "papermill": {
     "duration": 0.023373,
     "end_time": "2019-10-28T22:55:57.918358",
     "exception": false,
     "start_time": "2019-10-28T22:55:57.894985",
     "status": "completed"
    },
    "tags": []
   },
   "outputs": [
    {
     "data": {
      "text/plain": [
       "array([1.62187113e+09, 2.08586150e+09])"
      ]
     },
     "execution_count": 13,
     "metadata": {},
     "output_type": "execute_result"
    }
   ],
   "source": [
    "points = pd.DataFrame(data={'SHGC': [0, 1], 'LPD': [8, 12]})\n",
    "model.predict(points)"
   ]
  },
  {
   "cell_type": "markdown",
   "metadata": {
    "papermill": {
     "duration": 0.013425,
     "end_time": "2019-10-28T22:55:57.945577",
     "exception": false,
     "start_time": "2019-10-28T22:55:57.932152",
     "status": "completed"
    },
    "tags": []
   },
   "source": [
    "Next we define a function for querying the surrogate model across the domain at a given density, and plot the result."
   ]
  },
  {
   "cell_type": "code",
   "execution_count": 14,
   "metadata": {
    "papermill": {
     "duration": 1.289345,
     "end_time": "2019-10-28T22:55:59.248685",
     "exception": false,
     "start_time": "2019-10-28T22:55:57.959340",
     "status": "completed"
    },
    "tags": []
   },
   "outputs": [
    {
     "data": {
      "text/plain": [
       "<matplotlib.axes._subplots.AxesSubplot at 0x7fbbbb50edd8>"
      ]
     },
     "execution_count": 14,
     "metadata": {},
     "output_type": "execute_result"
    },
    {
     "data": {
      "image/png": "[encoded data removed]",
      "text/plain": [
       "<Figure size 432x288 with 2 Axes>"
      ]
     },
     "metadata": {
      "needs_background": "light"
     },
     "output_type": "display_data"
    }
   ],
   "source": [
    "def run_model(model, density):\n",
    "    p1 = problem.inputs[0].value_descriptor\n",
    "    a = np.linspace(p1.min, p1.max, density)\n",
    "    p2 = problem.inputs[1].value_descriptor\n",
    "    b = np.linspace(p2.min, p2.max, density)\n",
    "    plot_data = pd.DataFrame(np.transpose([np.tile(a, len(b)), np.repeat(b, len(a))]),\n",
    "                             columns=problem.names('inputs'))\n",
    "    return pd.concat([plot_data, pd.Series(model.predict(plot_data))], axis=1)\n",
    "\n",
    "density = 200\n",
    "df = run_model(model, density)\n",
    "df.plot.hexbin(x=x, y=y, C=0, cmap='plasma', gridsize=density, sharex=False)"
   ]
  },
  {
   "cell_type": "markdown",
   "metadata": {
    "papermill": {
     "duration": 0.016874,
     "end_time": "2019-10-28T22:55:59.282458",
     "exception": false,
     "start_time": "2019-10-28T22:55:59.265584",
     "status": "completed"
    },
    "tags": []
   },
   "source": [
    "## Interactive surrogate\n",
    "Finally we make an interactive plot using `ipywidgets`, which executes the model every time a slider is moved."
   ]
  },
  {
   "cell_type": "code",
   "execution_count": 15,
   "metadata": {
    "lines_to_next_cell": 0,
    "papermill": {
     "duration": 0.387193,
     "end_time": "2019-10-28T22:55:59.685186",
     "exception": false,
     "start_time": "2019-10-28T22:55:59.297993",
     "status": "completed"
    },
    "tags": []
   },
   "outputs": [
    {
     "data": {
      "image/png": "[encoded data removed]",
      "text/plain": [
       "<Figure size 432x288 with 2 Axes>"
      ]
     },
     "metadata": {
      "needs_background": "light"
     },
     "output_type": "display_data"
    },
    {
     "data": {
      "text/plain": [
       "'Electricity use = 515.0 kWh'"
      ]
     },
     "metadata": {},
     "output_type": "display_data"
    },
    {
     "data": {
      "text/plain": [
       "<function __main__.model_wrapper(v1, v2)>"
      ]
     },
     "execution_count": 15,
     "metadata": {},
     "output_type": "execute_result"
    }
   ],
   "source": [
    "# get the min and max of the two variables\n",
    "(min1, max1), (min2, max2) = ((float(p.value_descriptor.min ), p.value_descriptor.max)\n",
    "                              for p in problem.inputs)\n",
    "# get the data to plot in the background\n",
    "df = run_model(model, 100)\n",
    "\n",
    "# define a wrapper to be queried by interact\n",
    "def model_wrapper(v1, v2):\n",
    "    df.plot.hexbin(x=x, y=y, C=0, cmap='plasma', gridsize=30, sharex=False) # background plot\n",
    "    x_lims = plt.xlim()\n",
    "    y_lims = plt.ylim()\n",
    "    plt.scatter(x=v1, y=v2) # plot the marker\n",
    "    plt.xlim((x_lims))\n",
    "    plt.ylim((y_lims))\n",
    "    \n",
    "    value = model.predict([[v1, v2]])[0] / 3.6e6 # find the current value and convert to kWh\n",
    "    output = 'Electricity use = ' + str(value.round()) + ' kWh' # return the string to display\n",
    "    return output\n",
    "\n",
    "# make the interactive plot with two sliders\n",
    "continuous_update=False\n",
    "interact(model_wrapper,\n",
    "         v1=FloatSlider(min=min1, max=max1, value=(min1+max1)/2, description='SHGC',\n",
    "                                step=0.01, continuous_update=continuous_update),\n",
    "         v2=FloatSlider(min=min2, max=max2, value=(min2+max2)/2, description='LPD [W/m2]',\n",
    "                           continuous_update=continuous_update))"
   ]
  }
 ],
 "metadata": {
  "jupytext": {
   "formats": "ipynb,py:light"
  },
  "kernelspec": {
   "display_name": "Python 3",
   "language": "python",
   "name": "python3"
  },
  "language_info": {
   "codemirror_mode": {
    "name": "ipython",
    "version": 3
   },
   "file_extension": ".py",
   "mimetype": "text/x-python",
   "name": "python",
   "nbconvert_exporter": "python",
   "pygments_lexer": "ipython3",
   "version": "3.6.4"
  },
  "papermill": {
   "duration": 14.025413,
   "end_time": "2019-10-28T22:56:00.213381",
   "environment_variables": {},
   "exception": null,
   "input_path": "./SurrogateModelling/InteractiveSurrogate.ipynb",
   "output_path": "./SurrogateModelling/InteractiveSurrogate.ipynb",
   "parameters": {},
   "start_time": "2019-10-28T22:55:46.187968",
   "version": "1.2.0"
  },
  "widgets": {
   "application/vnd.jupyter.widget-state+json": {
    "state": {
     "03fcedc9b02f42c299ad945a897f9593": {
      "model_module": "@jupyter-widgets/controls",
      "model_module_version": "1.5.0",
      "model_name": "FloatSliderModel",
      "state": {
       "_dom_classes": [],
       "_model_module": "@jupyter-widgets/controls",
       "_model_module_version": "1.5.0",
       "_model_name": "FloatSliderModel",
       "_view_count": null,
       "_view_module": "@jupyter-widgets/controls",
       "_view_module_version": "1.5.0",
       "_view_name": "FloatSliderView",
       "continuous_update": false,
       "description": "SHGC",
       "description_tooltip": null,
       "disabled": false,
       "layout": "IPY_MODEL_f3af26f61fd34a2f852b3a4c1dd08da9",
       "max": 0.99,
       "min": 0.01,
       "orientation": "horizontal",
       "readout": true,
       "readout_format": ".2f",
       "step": 0.01,
       "style": "IPY_MODEL_d8df1cd8241a4805b974f136acd4046e",
       "value": 0.5
      }
     },
     "155f0f1397f4427eaff1d5312a5284d0": {
      "model_module": "@jupyter-widgets/controls",
      "model_module_version": "1.5.0",
      "model_name": "HTMLModel",
      "state": {
       "_dom_classes": [],
       "_model_module": "@jupyter-widgets/controls",
       "_model_module_version": "1.5.0",
       "_model_name": "HTMLModel",
       "_view_count": null,
       "_view_module": "@jupyter-widgets/controls",
       "_view_module_version": "1.5.0",
       "_view_name": "HTMLView",
       "description": "",
       "description_tooltip": null,
       "layout": "IPY_MODEL_33378dca031f485f8ed2efa2ba267bc3",
       "placeholder": "​",
       "style": "IPY_MODEL_4280f5852b4e414aa012d74f45efd54a",
       "value": " 5/5 [00:09&lt;00:00,  1.92s/row]"
      }
     },
     "1b8e06886db8453fb609aa41e9df8ec8": {
      "model_module": "@jupyter-widgets/controls",
      "model_module_version": "1.5.0",
      "model_name": "FloatSliderModel",
      "state": {
       "_dom_classes": [],
       "_model_module": "@jupyter-widgets/controls",
       "_model_module_version": "1.5.0",
       "_model_name": "FloatSliderModel",
       "_view_count": null,
       "_view_module": "@jupyter-widgets/controls",
       "_view_module_version": "1.5.0",
       "_view_name": "FloatSliderView",
       "continuous_update": false,
       "description": "LPD [W/m2]",
       "description_tooltip": null,
       "disabled": false,
       "layout": "IPY_MODEL_b37ff39dccc94845a43d094dbc2d3dbc",
       "max": 12.0,
       "min": 8.0,
       "orientation": "horizontal",
       "readout": true,
       "readout_format": ".2f",
       "step": 0.1,
       "style": "IPY_MODEL_7a6a5a9dc26e4a71aec0d1cd7879d485",
       "value": 10.0
      }
     },
     "1d9d5b48083e4fa991a5df579425e50d": {
      "model_module": "@jupyter-widgets/controls",
      "model_module_version": "1.5.0",
      "model_name": "IntProgressModel",
      "state": {
       "_dom_classes": [],
       "_model_module": "@jupyter-widgets/controls",
       "_model_module_version": "1.5.0",
       "_model_name": "IntProgressModel",
       "_view_count": null,
       "_view_module": "@jupyter-widgets/controls",
       "_view_module_version": "1.5.0",
       "_view_name": "ProgressView",
       "bar_style": "success",
       "description": "Executing: 100%",
       "description_tooltip": null,
       "layout": "IPY_MODEL_6187cf6d26b24c8c96ac6f254f421f2e",
       "max": 5,
       "min": 0,
       "orientation": "horizontal",
       "style": "IPY_MODEL_b6e003b417a14ccb91353030b6276ea4",
       "value": 5
      }
     },
     "33378dca031f485f8ed2efa2ba267bc3": {
      "model_module": "@jupyter-widgets/base",
      "model_module_version": "1.2.0",
      "model_name": "LayoutModel",
      "state": {
       "_model_module": "@jupyter-widgets/base",
       "_model_module_version": "1.2.0",
       "_model_name": "LayoutModel",
       "_view_count": null,
       "_view_module": "@jupyter-widgets/base",
       "_view_module_version": "1.2.0",
       "_view_name": "LayoutView",
       "align_content": null,
       "align_items": null,
       "align_self": null,
       "border": null,
       "bottom": null,
       "display": null,
       "flex": null,
       "flex_flow": null,
       "grid_area": null,
       "grid_auto_columns": null,
       "grid_auto_flow": null,
       "grid_auto_rows": null,
       "grid_column": null,
       "grid_gap": null,
       "grid_row": null,
       "grid_template_areas": null,
       "grid_template_columns": null,
       "grid_template_rows": null,
       "height": null,
       "justify_content": null,
       "justify_items": null,
       "left": null,
       "margin": null,
       "max_height": null,
       "max_width": null,
       "min_height": null,
       "min_width": null,
       "object_fit": null,
       "object_position": null,
       "order": null,
       "overflow": null,
       "overflow_x": null,
       "overflow_y": null,
       "padding": null,
       "right": null,
       "top": null,
       "visibility": null,
       "width": null
      }
     },
     "4280f5852b4e414aa012d74f45efd54a": {
      "model_module": "@jupyter-widgets/controls",
      "model_module_version": "1.5.0",
      "model_name": "DescriptionStyleModel",
      "state": {
       "_model_module": "@jupyter-widgets/controls",
       "_model_module_version": "1.5.0",
       "_model_name": "DescriptionStyleModel",
       "_view_count": null,
       "_view_module": "@jupyter-widgets/base",
       "_view_module_version": "1.2.0",
       "_view_name": "StyleView",
       "description_width": ""
      }
     },
     "5f5afa33d363417a97cc4f12a993c5af": {
      "model_module": "@jupyter-widgets/controls",
      "model_module_version": "1.5.0",
      "model_name": "VBoxModel",
      "state": {
       "_dom_classes": [
        "widget-interact"
       ],
       "_model_module": "@jupyter-widgets/controls",
       "_model_module_version": "1.5.0",
       "_model_name": "VBoxModel",
       "_view_count": null,
       "_view_module": "@jupyter-widgets/controls",
       "_view_module_version": "1.5.0",
       "_view_name": "VBoxView",
       "box_style": "",
       "children": [
        "IPY_MODEL_03fcedc9b02f42c299ad945a897f9593",
        "IPY_MODEL_1b8e06886db8453fb609aa41e9df8ec8",
        "IPY_MODEL_7afbbcb5ee0f4dda83cecf290448c861"
       ],
       "layout": "IPY_MODEL_c52afeecbe404a5682a1fa90cb3e0ec4"
      }
     },
     "6187cf6d26b24c8c96ac6f254f421f2e": {
      "model_module": "@jupyter-widgets/base",
      "model_module_version": "1.2.0",
      "model_name": "LayoutModel",
      "state": {
       "_model_module": "@jupyter-widgets/base",
       "_model_module_version": "1.2.0",
       "_model_name": "LayoutModel",
       "_view_count": null,
       "_view_module": "@jupyter-widgets/base",
       "_view_module_version": "1.2.0",
       "_view_name": "LayoutView",
       "align_content": null,
       "align_items": null,
       "align_self": null,
       "border": null,
       "bottom": null,
       "display": null,
       "flex": null,
       "flex_flow": null,
       "grid_area": null,
       "grid_auto_columns": null,
       "grid_auto_flow": null,
       "grid_auto_rows": null,
       "grid_column": null,
       "grid_gap": null,
       "grid_row": null,
       "grid_template_areas": null,
       "grid_template_columns": null,
       "grid_template_rows": null,
       "height": null,
       "justify_content": null,
       "justify_items": null,
       "left": null,
       "margin": null,
       "max_height": null,
       "max_width": null,
       "min_height": null,
       "min_width": null,
       "object_fit": null,
       "object_position": null,
       "order": null,
       "overflow": null,
       "overflow_x": null,
       "overflow_y": null,
       "padding": null,
       "right": null,
       "top": null,
       "visibility": null,
       "width": null
      }
     },
     "7945d68f606d4d5198fbe255e5dbce21": {
      "model_module": "@jupyter-widgets/base",
      "model_module_version": "1.2.0",
      "model_name": "LayoutModel",
      "state": {
       "_model_module": "@jupyter-widgets/base",
       "_model_module_version": "1.2.0",
       "_model_name": "LayoutModel",
       "_view_count": null,
       "_view_module": "@jupyter-widgets/base",
       "_view_module_version": "1.2.0",
       "_view_name": "LayoutView",
       "align_content": null,
       "align_items": null,
       "align_self": null,
       "border": null,
       "bottom": null,
       "display": null,
       "flex": null,
       "flex_flow": null,
       "grid_area": null,
       "grid_auto_columns": null,
       "grid_auto_flow": null,
       "grid_auto_rows": null,
       "grid_column": null,
       "grid_gap": null,
       "grid_row": null,
       "grid_template_areas": null,
       "grid_template_columns": null,
       "grid_template_rows": null,
       "height": null,
       "justify_content": null,
       "justify_items": null,
       "left": null,
       "margin": null,
       "max_height": null,
       "max_width": null,
       "min_height": null,
       "min_width": null,
       "object_fit": null,
       "object_position": null,
       "order": null,
       "overflow": null,
       "overflow_x": null,
       "overflow_y": null,
       "padding": null,
       "right": null,
       "top": null,
       "visibility": null,
       "width": null
      }
     },
     "7a6a5a9dc26e4a71aec0d1cd7879d485": {
      "model_module": "@jupyter-widgets/controls",
      "model_module_version": "1.5.0",
      "model_name": "SliderStyleModel",
      "state": {
       "_model_module": "@jupyter-widgets/controls",
       "_model_module_version": "1.5.0",
       "_model_name": "SliderStyleModel",
       "_view_count": null,
       "_view_module": "@jupyter-widgets/base",
       "_view_module_version": "1.2.0",
       "_view_name": "StyleView",
       "description_width": "",
       "handle_color": null
      }
     },
     "7afbbcb5ee0f4dda83cecf290448c861": {
      "model_module": "@jupyter-widgets/output",
      "model_module_version": "1.0.0",
      "model_name": "OutputModel",
      "state": {
       "_dom_classes": [],
       "_model_module": "@jupyter-widgets/output",
       "_model_module_version": "1.0.0",
       "_model_name": "OutputModel",
       "_view_count": null,
       "_view_module": "@jupyter-widgets/output",
       "_view_module_version": "1.0.0",
       "_view_name": "OutputView",
       "layout": "IPY_MODEL_e68849ed61434bc9a63505b8d282d524",
       "msg_id": "",
       "outputs": []
      }
     },
     "b37ff39dccc94845a43d094dbc2d3dbc": {
      "model_module": "@jupyter-widgets/base",
      "model_module_version": "1.2.0",
      "model_name": "LayoutModel",
      "state": {
       "_model_module": "@jupyter-widgets/base",
       "_model_module_version": "1.2.0",
       "_model_name": "LayoutModel",
       "_view_count": null,
       "_view_module": "@jupyter-widgets/base",
       "_view_module_version": "1.2.0",
       "_view_name": "LayoutView",
       "align_content": null,
       "align_items": null,
       "align_self": null,
       "border": null,
       "bottom": null,
       "display": null,
       "flex": null,
       "flex_flow": null,
       "grid_area": null,
       "grid_auto_columns": null,
       "grid_auto_flow": null,
       "grid_auto_rows": null,
       "grid_column": null,
       "grid_gap": null,
       "grid_row": null,
       "grid_template_areas": null,
       "grid_template_columns": null,
       "grid_template_rows": null,
       "height": null,
       "justify_content": null,
       "justify_items": null,
       "left": null,
       "margin": null,
       "max_height": null,
       "max_width": null,
       "min_height": null,
       "min_width": null,
       "object_fit": null,
       "object_position": null,
       "order": null,
       "overflow": null,
       "overflow_x": null,
       "overflow_y": null,
       "padding": null,
       "right": null,
       "top": null,
       "visibility": null,
       "width": null
      }
     },
     "b6e003b417a14ccb91353030b6276ea4": {
      "model_module": "@jupyter-widgets/controls",
      "model_module_version": "1.5.0",
      "model_name": "ProgressStyleModel",
      "state": {
       "_model_module": "@jupyter-widgets/controls",
       "_model_module_version": "1.5.0",
       "_model_name": "ProgressStyleModel",
       "_view_count": null,
       "_view_module": "@jupyter-widgets/base",
       "_view_module_version": "1.2.0",
       "_view_name": "StyleView",
       "bar_color": null,
       "description_width": "initial"
      }
     },
     "c52afeecbe404a5682a1fa90cb3e0ec4": {
      "model_module": "@jupyter-widgets/base",
      "model_module_version": "1.2.0",
      "model_name": "LayoutModel",
      "state": {
       "_model_module": "@jupyter-widgets/base",
       "_model_module_version": "1.2.0",
       "_model_name": "LayoutModel",
       "_view_count": null,
       "_view_module": "@jupyter-widgets/base",
       "_view_module_version": "1.2.0",
       "_view_name": "LayoutView",
       "align_content": null,
       "align_items": null,
       "align_self": null,
       "border": null,
       "bottom": null,
       "display": null,
       "flex": null,
       "flex_flow": null,
       "grid_area": null,
       "grid_auto_columns": null,
       "grid_auto_flow": null,
       "grid_auto_rows": null,
       "grid_column": null,
       "grid_gap": null,
       "grid_row": null,
       "grid_template_areas": null,
       "grid_template_columns": null,
       "grid_template_rows": null,
       "height": null,
       "justify_content": null,
       "justify_items": null,
       "left": null,
       "margin": null,
       "max_height": null,
       "max_width": null,
       "min_height": null,
       "min_width": null,
       "object_fit": null,
       "object_position": null,
       "order": null,
       "overflow": null,
       "overflow_x": null,
       "overflow_y": null,
       "padding": null,
       "right": null,
       "top": null,
       "visibility": null,
       "width": null
      }
     },
     "c63dae2e1b1d46129c32b796b4faf943": {
      "model_module": "@jupyter-widgets/controls",
      "model_module_version": "1.5.0",
      "model_name": "HBoxModel",
      "state": {
       "_dom_classes": [],
       "_model_module": "@jupyter-widgets/controls",
       "_model_module_version": "1.5.0",
       "_model_name": "HBoxModel",
       "_view_count": null,
       "_view_module": "@jupyter-widgets/controls",
       "_view_module_version": "1.5.0",
       "_view_name": "HBoxView",
       "box_style": "",
       "children": [
        "IPY_MODEL_1d9d5b48083e4fa991a5df579425e50d",
        "IPY_MODEL_155f0f1397f4427eaff1d5312a5284d0"
       ],
       "layout": "IPY_MODEL_7945d68f606d4d5198fbe255e5dbce21"
      }
     },
     "d8df1cd8241a4805b974f136acd4046e": {
      "model_module": "@jupyter-widgets/controls",
      "model_module_version": "1.5.0",
      "model_name": "SliderStyleModel",
      "state": {
       "_model_module": "@jupyter-widgets/controls",
       "_model_module_version": "1.5.0",
       "_model_name": "SliderStyleModel",
       "_view_count": null,
       "_view_module": "@jupyter-widgets/base",
       "_view_module_version": "1.2.0",
       "_view_name": "StyleView",
       "description_width": "",
       "handle_color": null
      }
     },
     "e68849ed61434bc9a63505b8d282d524": {
      "model_module": "@jupyter-widgets/base",
      "model_module_version": "1.2.0",
      "model_name": "LayoutModel",
      "state": {
       "_model_module": "@jupyter-widgets/base",
       "_model_module_version": "1.2.0",
       "_model_name": "LayoutModel",
       "_view_count": null,
       "_view_module": "@jupyter-widgets/base",
       "_view_module_version": "1.2.0",
       "_view_name": "LayoutView",
       "align_content": null,
       "align_items": null,
       "align_self": null,
       "border": null,
       "bottom": null,
       "display": null,
       "flex": null,
       "flex_flow": null,
       "grid_area": null,
       "grid_auto_columns": null,
       "grid_auto_flow": null,
       "grid_auto_rows": null,
       "grid_column": null,
       "grid_gap": null,
       "grid_row": null,
       "grid_template_areas": null,
       "grid_template_columns": null,
       "grid_template_rows": null,
       "height": null,
       "justify_content": null,
       "justify_items": null,
       "left": null,
       "margin": null,
       "max_height": null,
       "max_width": null,
       "min_height": null,
       "min_width": null,
       "object_fit": null,
       "object_position": null,
       "order": null,
       "overflow": null,
       "overflow_x": null,
       "overflow_y": null,
       "padding": null,
       "right": null,
       "top": null,
       "visibility": null,
       "width": null
      }
     },
     "f3af26f61fd34a2f852b3a4c1dd08da9": {
      "model_module": "@jupyter-widgets/base",
      "model_module_version": "1.2.0",
      "model_name": "LayoutModel",
      "state": {
       "_model_module": "@jupyter-widgets/base",
       "_model_module_version": "1.2.0",
       "_model_name": "LayoutModel",
       "_view_count": null,
       "_view_module": "@jupyter-widgets/base",
       "_view_module_version": "1.2.0",
       "_view_name": "LayoutView",
       "align_content": null,
       "align_items": null,
       "align_self": null,
       "border": null,
       "bottom": null,
       "display": null,
       "flex": null,
       "flex_flow": null,
       "grid_area": null,
       "grid_auto_columns": null,
       "grid_auto_flow": null,
       "grid_auto_rows": null,
       "grid_column": null,
       "grid_gap": null,
       "grid_row": null,
       "grid_template_areas": null,
       "grid_template_columns": null,
       "grid_template_rows": null,
       "height": null,
       "justify_content": null,
       "justify_items": null,
       "left": null,
       "margin": null,
       "max_height": null,
       "max_width": null,
       "min_height": null,
       "min_width": null,
       "object_fit": null,
       "object_position": null,
       "order": null,
       "overflow": null,
       "overflow_x": null,
       "overflow_y": null,
       "padding": null,
       "right": null,
       "top": null,
       "visibility": null,
       "width": null
      }
     }
    },
    "version_major": 2,
    "version_minor": 0
   }
  }
 },
 "nbformat": 4,
 "nbformat_minor": 2
}