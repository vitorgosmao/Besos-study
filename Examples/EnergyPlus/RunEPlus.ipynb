{
 "cells": [
  {
   "cell_type": "markdown",
   "metadata": {
    "papermill": {
     "duration": 0.009035,
     "end_time": "2019-10-28T23:04:50.401463",
     "exception": false,
     "start_time": "2019-10-28T23:04:50.392428",
     "status": "completed"
    },
    "tags": []
   },
   "source": [
    "# Running EnergyPlus directly\n",
    "Here we demonstrate various ways of interacting with EnergyPlus models directly."
   ]
  },
  {
   "cell_type": "code",
   "execution_count": 1,
   "metadata": {
    "papermill": {
     "duration": 1.147014,
     "end_time": "2019-10-28T23:04:51.559764",
     "exception": false,
     "start_time": "2019-10-28T23:04:50.412750",
     "status": "completed"
    },
    "tags": []
   },
   "outputs": [],
   "source": [
    "from besos.evaluator import EvaluatorEP\n",
    "from besos.problem import EPProblem\n",
    "from besos import eppy_funcs as ef\n",
    "import os"
   ]
  },
  {
   "cell_type": "markdown",
   "metadata": {
    "papermill": {
     "duration": 0.003936,
     "end_time": "2019-10-28T23:04:51.569630",
     "exception": false,
     "start_time": "2019-10-28T23:04:51.565694",
     "status": "completed"
    },
    "tags": []
   },
   "source": [
    "### Using an Evaluator with no Parameters\n",
    "Here we run in.idf and sum the Meter `Electricity:Facility`, but don't vary any parameters."
   ]
  },
  {
   "cell_type": "code",
   "execution_count": 2,
   "metadata": {
    "papermill": {
     "duration": 5.406063,
     "end_time": "2019-10-28T23:04:56.980064",
     "exception": false,
     "start_time": "2019-10-28T23:04:51.574001",
     "status": "completed"
    },
    "tags": []
   },
   "outputs": [
    {
     "data": {
      "text/plain": [
       "(6029872434.744861,)"
      ]
     },
     "execution_count": 2,
     "metadata": {},
     "output_type": "execute_result"
    }
   ],
   "source": [
    "building = ef.get_building('in.idf')\n",
    "evaluator = EvaluatorEP(EPProblem(outputs=['Electricity:Facility']),building)\n",
    "evaluator([])"
   ]
  },
  {
   "cell_type": "markdown",
   "metadata": {
    "papermill": {
     "duration": 0.004035,
     "end_time": "2019-10-28T23:04:56.989731",
     "exception": false,
     "start_time": "2019-10-28T23:04:56.985696",
     "status": "completed"
    },
    "tags": []
   },
   "source": [
    "### Using EPPy\n",
    "BESOS building objects are actually EPPy building objects.  \n",
    "[Eppy's documentation](https://eppy.readthedocs.io/en/latest/) describes how to explore and modify the IDF object directly.  \n",
    "Here we list the materials present in in.idf, then run it."
   ]
  },
  {
   "cell_type": "code",
   "execution_count": 3,
   "metadata": {
    "papermill": {
     "duration": 3.544206,
     "end_time": "2019-10-28T23:05:00.538320",
     "exception": false,
     "start_time": "2019-10-28T23:04:56.994114",
     "status": "completed"
    },
    "scrolled": true,
    "tags": []
   },
   "outputs": [
    {
     "name": "stdout",
     "output_type": "stream",
     "text": [
      "['1/2IN Gypsum', '1IN Stucco', '8IN Concrete HW', 'F08 Metal surface', 'F16 Acoustic tile', 'G01a 19mm gypsum board', 'G05 25mm wood', 'I01 25mm insulation board', 'M11 100mm lightweight concrete', 'MAT-CC05 4 HW CONCRETE', 'Metal Decking', 'Roof Insulation [18]', 'Roof Membrane', 'Wall Insulation [31]']\n",
      "\r\n",
      "/usr/local/EnergyPlus-9-0-1/energyplus --idd /usr/local/EnergyPlus-9-0-1/Energy+.idd --output-directory /home/evan/Documents/besos-mv/Examples/EnergyPlus/output_folder --weather /home/evan/Documents/besos-mv/Examples/EnergyPlus/weatherfile.epw /home/evan/Documents/besos-mv/Examples/EnergyPlus/in.idf\r\n",
      "\n"
     ]
    }
   ],
   "source": [
    "building = ef.get_building('in.idf')\n",
    "building.savecopy('in_copy.idf')\n",
    "print([materials.Name for materials in building.idfobjects[\"MATERIAL\"]])\n",
    "building.epw='./weatherfile.epw'\n",
    "try:\n",
    "    building.run(output_directory = 'output_folder')\n",
    "finally:\n",
    "    os.rename('in_copy.idf', 'in.idf')"
   ]
  },
  {
   "cell_type": "markdown",
   "metadata": {
    "papermill": {
     "duration": 0.005892,
     "end_time": "2019-10-28T23:05:00.552243",
     "exception": false,
     "start_time": "2019-10-28T23:05:00.546351",
     "status": "completed"
    },
    "tags": []
   },
   "source": [
    "### Using a bash cell to execute it from the command line \n",
    "Run `energyplus -h` for more commands."
   ]
  },
  {
   "cell_type": "code",
   "execution_count": 4,
   "metadata": {
    "papermill": {
     "duration": 3.603416,
     "end_time": "2019-10-28T23:05:04.161130",
     "exception": false,
     "start_time": "2019-10-28T23:05:00.557714",
     "status": "completed"
    },
    "tags": []
   },
   "outputs": [
    {
     "name": "stdout",
     "output_type": "stream",
     "text": [
      "EnergyPlus Starting\r\n",
      "EnergyPlus, Version 9.0.1-bb7ca4f0da, YMD=2019.10.28 16:05\r\n"
     ]
    },
    {
     "name": "stdout",
     "output_type": "stream",
     "text": [
      "Adjusting Air System Sizing\r\n",
      "Adjusting Standard 62.1 Ventilation Sizing\r\n",
      "Initializing Simulation\r\n"
     ]
    },
    {
     "name": "stdout",
     "output_type": "stream",
     "text": [
      "Reporting Surfaces\r\n",
      "Beginning Primary Simulation\r\n",
      "Initializing New Environment Parameters\r\n",
      "Warming up {1}\r\n",
      "Warming up {2}\r\n",
      "Warming up {3}\r\n",
      "Warming up {4}\r\n",
      "Warming up {5}\r\n",
      "Warming up {6}\r\n",
      "Starting Simulation at 01/01/2006 for RUN PERIOD 1\r\n"
     ]
    },
    {
     "name": "stdout",
     "output_type": "stream",
     "text": [
      "Updating Shadowing Calculations, Start Date=01/21/2006\r\n"
     ]
    },
    {
     "name": "stdout",
     "output_type": "stream",
     "text": [
      "Continuing Simulation at 01/21/2006 for RUN PERIOD 1\r\n"
     ]
    },
    {
     "name": "stdout",
     "output_type": "stream",
     "text": [
      "Updating Shadowing Calculations, Start Date=02/10/2006\r\n",
      "Continuing Simulation at 02/10/2006 for RUN PERIOD 1\r\n"
     ]
    },
    {
     "name": "stdout",
     "output_type": "stream",
     "text": [
      "Updating Shadowing Calculations, Start Date=03/02/2006\r\n",
      "Continuing Simulation at 03/02/2006 for RUN PERIOD 1\r\n"
     ]
    },
    {
     "name": "stdout",
     "output_type": "stream",
     "text": [
      "Updating Shadowing Calculations, Start Date=03/22/2006\r\n",
      "Continuing Simulation at 03/22/2006 for RUN PERIOD 1\r\n"
     ]
    },
    {
     "name": "stdout",
     "output_type": "stream",
     "text": [
      "Updating Shadowing Calculations, Start Date=04/11/2006\r\n",
      "Continuing Simulation at 04/11/2006 for RUN PERIOD 1\r\n"
     ]
    },
    {
     "name": "stdout",
     "output_type": "stream",
     "text": [
      "Updating Shadowing Calculations, Start Date=05/01/2006\r\n",
      "Continuing Simulation at 05/01/2006 for RUN PERIOD 1\r\n"
     ]
    },
    {
     "name": "stdout",
     "output_type": "stream",
     "text": [
      "Updating Shadowing Calculations, Start Date=05/21/2006\r\n",
      "Continuing Simulation at 05/21/2006 for RUN PERIOD 1\r\n"
     ]
    },
    {
     "name": "stdout",
     "output_type": "stream",
     "text": [
      "Updating Shadowing Calculations, Start Date=06/10/2006\r\n",
      "Continuing Simulation at 06/10/2006 for RUN PERIOD 1\r\n"
     ]
    },
    {
     "name": "stdout",
     "output_type": "stream",
     "text": [
      "Updating Shadowing Calculations, Start Date=06/30/2006\r\n",
      "Continuing Simulation at 06/30/2006 for RUN PERIOD 1\r\n"
     ]
    },
    {
     "name": "stdout",
     "output_type": "stream",
     "text": [
      "Updating Shadowing Calculations, Start Date=07/20/2006\r\n",
      "Continuing Simulation at 07/20/2006 for RUN PERIOD 1\r\n"
     ]
    },
    {
     "name": "stdout",
     "output_type": "stream",
     "text": [
      "Updating Shadowing Calculations, Start Date=08/09/2006\r\n",
      "Continuing Simulation at 08/09/2006 for RUN PERIOD 1\r\n"
     ]
    },
    {
     "name": "stdout",
     "output_type": "stream",
     "text": [
      "Updating Shadowing Calculations, Start Date=08/29/2006\r\n"
     ]
    },
    {
     "name": "stdout",
     "output_type": "stream",
     "text": [
      "Continuing Simulation at 08/29/2006 for RUN PERIOD 1\r\n"
     ]
    },
    {
     "name": "stdout",
     "output_type": "stream",
     "text": [
      "Updating Shadowing Calculations, Start Date=09/18/2006\r\n",
      "Continuing Simulation at 09/18/2006 for RUN PERIOD 1\r\n"
     ]
    },
    {
     "name": "stdout",
     "output_type": "stream",
     "text": [
      "Updating Shadowing Calculations, Start Date=10/08/2006\r\n",
      "Continuing Simulation at 10/08/2006 for RUN PERIOD 1\r\n"
     ]
    },
    {
     "name": "stdout",
     "output_type": "stream",
     "text": [
      "Updating Shadowing Calculations, Start Date=10/28/2006\r\n"
     ]
    },
    {
     "name": "stdout",
     "output_type": "stream",
     "text": [
      "Continuing Simulation at 10/28/2006 for RUN PERIOD 1\r\n"
     ]
    },
    {
     "name": "stdout",
     "output_type": "stream",
     "text": [
      "Updating Shadowing Calculations, Start Date=11/17/2006\r\n",
      "Continuing Simulation at 11/17/2006 for RUN PERIOD 1\r\n"
     ]
    },
    {
     "name": "stdout",
     "output_type": "stream",
     "text": [
      "Updating Shadowing Calculations, Start Date=12/07/2006\r\n",
      "Continuing Simulation at 12/07/2006 for RUN PERIOD 1\r\n"
     ]
    },
    {
     "name": "stdout",
     "output_type": "stream",
     "text": [
      "Updating Shadowing Calculations, Start Date=12/27/2006\r\n",
      "Continuing Simulation at 12/27/2006 for RUN PERIOD 1\r\n"
     ]
    },
    {
     "name": "stdout",
     "output_type": "stream",
     "text": [
      "Writing tabular output file results using HTML format.\r\n",
      "Computing Life Cycle Costs and Reporting\r\n",
      "Writing final SQL reports\r\n",
      "EnergyPlus Run Time=00hr 00min  3.41sec\r\n",
      "EnergyPlus Completed Successfully.\r\n"
     ]
    }
   ],
   "source": [
    "!energyplus -w weatherfile.epw in.idf"
   ]
  },
  {
   "cell_type": "code",
   "execution_count": null,
   "metadata": {
    "papermill": {
     "duration": 0.010352,
     "end_time": "2019-10-28T23:05:04.185553",
     "exception": false,
     "start_time": "2019-10-28T23:05:04.175201",
     "status": "completed"
    },
    "tags": []
   },
   "outputs": [],
   "source": []
  }
 ],
 "metadata": {
  "kernelspec": {
   "display_name": "Python 3",
   "language": "python",
   "name": "python3"
  },
  "language_info": {
   "codemirror_mode": {
    "name": "ipython",
    "version": 3
   },
   "file_extension": ".py",
   "mimetype": "text/x-python",
   "name": "python",
   "nbconvert_exporter": "python",
   "pygments_lexer": "ipython3",
   "version": "3.6.4"
  },
  "papermill": {
   "duration": 14.921029,
   "end_time": "2019-10-28T23:05:04.712222",
   "environment_variables": {},
   "exception": null,
   "input_path": "./EnergyPlus/RunEPlus.ipynb",
   "output_path": "./EnergyPlus/RunEPlus.ipynb",
   "parameters": {},
   "start_time": "2019-10-28T23:04:49.791193",
   "version": "1.2.0"
  }
 },
 "nbformat": 4,
 "nbformat_minor": 4
}