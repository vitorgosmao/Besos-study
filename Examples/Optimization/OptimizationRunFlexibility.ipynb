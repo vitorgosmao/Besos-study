{
 "cells": [
  {
   "cell_type": "markdown",
   "metadata": {
    "papermill": {
     "duration": 0.011594,
     "end_time": "2019-10-28T23:00:09.741483",
     "exception": false,
     "start_time": "2019-10-28T23:00:09.729889",
     "status": "completed"
    },
    "tags": []
   },
   "source": [
    "# Optimisation Run Flexibility\n",
    "It is possible to change the configuration of the algorithm part way through the optimization process, or even to switch algorithms completely.  \n",
    "This allows an optimization process to be configured to be more exploritative early on, to explore the whole design space, then later to be more exploitative, to home in in exact optimal solutions.\n",
    "Doing so requires using [Platypus](https://platypus.readthedocs.io/en/latest/) algorithms directly, instead of the algorithm wrappers provided through the BESOS optimizer module."
   ]
  },
  {
   "cell_type": "code",
   "execution_count": 1,
   "metadata": {
    "papermill": {
     "duration": 2.519324,
     "end_time": "2019-10-28T23:00:12.274169",
     "exception": false,
     "start_time": "2019-10-28T23:00:09.754845",
     "status": "completed"
    },
    "tags": []
   },
   "outputs": [],
   "source": [
    "import platypus\n",
    "\n",
    "from besos import eppy_funcs as ef\n",
    "from besos.parameters import expand_plist\n",
    "from besos.evaluator import EvaluatorEP\n",
    "from besos.problem import EPProblem\n",
    "from besos import optimizer"
   ]
  },
  {
   "cell_type": "markdown",
   "metadata": {
    "papermill": {
     "duration": 0.009159,
     "end_time": "2019-10-28T23:00:12.292171",
     "exception": false,
     "start_time": "2019-10-28T23:00:12.283012",
     "status": "completed"
    },
    "tags": []
   },
   "source": [
    "First we create an example problem, see [here]BuildingOptimization.ipynb) for details."
   ]
  },
  {
   "cell_type": "code",
   "execution_count": 2,
   "metadata": {
    "papermill": {
     "duration": 1.73479,
     "end_time": "2019-10-28T23:00:14.034388",
     "exception": false,
     "start_time": "2019-10-28T23:00:12.299598",
     "status": "completed"
    },
    "tags": []
   },
   "outputs": [],
   "source": [
    "idf = ef.get_idf()\n",
    "parameters=expand_plist(\n",
    "    {'NonRes Fixed Assembly Window':\n",
    "     {'UFactor':(0.1,5),\n",
    "      'Solar Heat Gain Coefficient':(0.01,0.99)\n",
    "     },\n",
    "     'Mass NonRes Wall Insulation':{'Thickness':(0.01,0.09)},\n",
    "    })\n",
    "objectives = ['Electricity:Facility', 'Gas:Facility']\n",
    "problem = EPProblem(parameters, objectives)\n",
    "evaluator = EvaluatorEP(problem, idf)"
   ]
  },
  {
   "cell_type": "markdown",
   "metadata": {
    "papermill": {
     "duration": 0.005379,
     "end_time": "2019-10-28T23:00:14.045956",
     "exception": false,
     "start_time": "2019-10-28T23:00:14.040577",
     "status": "completed"
    },
    "tags": []
   },
   "source": [
    "Next we set up NSGA-II as the first algorithm, a good general purpose multi-objective genetic algorithm.  \n",
    "The `to_platypus` shortcut converts the Evaluator object to a `platypus.Problem` object."
   ]
  },
  {
   "cell_type": "code",
   "execution_count": 3,
   "metadata": {
    "papermill": {
     "duration": 0.011251,
     "end_time": "2019-10-28T23:00:14.063030",
     "exception": false,
     "start_time": "2019-10-28T23:00:14.051779",
     "status": "completed"
    },
    "tags": []
   },
   "outputs": [],
   "source": [
    "platypus_problem = evaluator.to_platypus()\n",
    "algorithm = platypus.NSGAII(problem=platypus_problem)"
   ]
  },
  {
   "cell_type": "markdown",
   "metadata": {
    "papermill": {
     "duration": 0.005348,
     "end_time": "2019-10-28T23:00:14.073991",
     "exception": false,
     "start_time": "2019-10-28T23:00:14.068643",
     "status": "completed"
    },
    "tags": []
   },
   "source": [
    "Now we can run the algorithm for a lot of generations, and pause it at some point.  \n",
    "Use the **stop button** at the top of the notebook to interrupt the following cell.  \n",
    "Note: The output from the next cells will vary from run to run, due to the randomness of the underlying algorithm as well as the amount of time this cell is run for."
   ]
  },
  {
   "cell_type": "code",
   "execution_count": 4,
   "metadata": {
    "papermill": {
     "duration": 172.566031,
     "end_time": "2019-10-28T23:03:06.645542",
     "exception": false,
     "start_time": "2019-10-28T23:00:14.079511",
     "status": "completed"
    },
    "scrolled": true,
    "tags": []
   },
   "outputs": [
    {
     "data": {
      "text/plain": [
       "[Solution[2.213855058719472,0.6363995124730418,0.05052880146849404|1936010631.218226,2434618616.136553|0],\n",
       " Solution[4.925557981680829,0.4412852809214969,0.06977088347725961|1893368110.6571507,2696496418.7657657|0],\n",
       " Solution[4.7060110431146835,0.6806276770141859,0.023322597146269802|1995725412.1155868,3044778824.3118696|0],\n",
       " Solution[3.765857877806432,0.1552088397670927,0.022016834149865015|1810620642.7659373,3012916012.399791|0],\n",
       " Solution[1.331891701055805,0.2727493231996027,0.012779804276336302|1860819888.7077937,2852800484.7137547|0]]"
      ]
     },
     "execution_count": 4,
     "metadata": {},
     "output_type": "execute_result"
    }
   ],
   "source": [
    "try:\n",
    "    algorithm.run(10)\n",
    "except KeyboardInterrupt:\n",
    "    print('Algorithm interrupted')\n",
    "algorithm.population[:5]"
   ]
  },
  {
   "cell_type": "markdown",
   "metadata": {
    "papermill": {
     "duration": 0.005538,
     "end_time": "2019-10-28T23:03:06.657604",
     "exception": false,
     "start_time": "2019-10-28T23:03:06.652066",
     "status": "completed"
    },
    "tags": []
   },
   "source": [
    "Now we want to continue from where the first algorithm left off, running `EpsMOEA` for 10 evaluations.  \n",
    "In order to make the population carry over, we use the `InjectedPopulation` generator, then run the second algorithm.\n",
    "\n",
    "If we had let the first algorithm finish, we could use `algorithm.result` instead of `algorithm.population` to use the solutions found by the first algorithm as a starting point for the next."
   ]
  },
  {
   "cell_type": "code",
   "execution_count": 5,
   "metadata": {
    "papermill": {
     "duration": 18.074939,
     "end_time": "2019-10-28T23:03:24.738270",
     "exception": false,
     "start_time": "2019-10-28T23:03:06.663331",
     "status": "completed"
    },
    "tags": []
   },
   "outputs": [],
   "source": [
    "generator = platypus.InjectedPopulation(algorithm.population)\n",
    "alg2 = platypus.EpsMOEA(problem=platypus_problem, generator=generator, epsilons=3, population_size=10)\n",
    "alg2.run(10)"
   ]
  },
  {
   "cell_type": "markdown",
   "metadata": {
    "papermill": {
     "duration": 0.005215,
     "end_time": "2019-10-28T23:03:24.749549",
     "exception": false,
     "start_time": "2019-10-28T23:03:24.744334",
     "status": "completed"
    },
    "tags": []
   },
   "source": [
    "Now we convert the solutions to a dataframe using the BESOS helper function and display them."
   ]
  },
  {
   "cell_type": "code",
   "execution_count": 6,
   "metadata": {
    "papermill": {
     "duration": 0.034799,
     "end_time": "2019-10-28T23:03:24.789763",
     "exception": false,
     "start_time": "2019-10-28T23:03:24.754964",
     "status": "completed"
    },
    "tags": []
   },
   "outputs": [
    {
     "data": {
      "text/html": [
       "<div>\n",
       "<style scoped>\n",
       "    .dataframe tbody tr th:only-of-type {\n",
       "        vertical-align: middle;\n",
       "    }\n",
       "\n",
       "    .dataframe tbody tr th {\n",
       "        vertical-align: top;\n",
       "    }\n",
       "\n",
       "    .dataframe thead th {\n",
       "        text-align: right;\n",
       "    }\n",
       "</style>\n",
       "<table border=\"1\" class=\"dataframe\">\n",
       "  <thead>\n",
       "    <tr style=\"text-align: right;\">\n",
       "      <th></th>\n",
       "      <th>UFactor</th>\n",
       "      <th>Solar Heat Gain Coefficient</th>\n",
       "      <th>Thickness</th>\n",
       "      <th>Electricity:Facility</th>\n",
       "      <th>Gas:Facility</th>\n",
       "      <th>pareto-optimal</th>\n",
       "    </tr>\n",
       "  </thead>\n",
       "  <tbody>\n",
       "    <tr>\n",
       "      <td>0</td>\n",
       "      <td>1.308471</td>\n",
       "      <td>0.074466</td>\n",
       "      <td>0.047176</td>\n",
       "      <td>1.778193e+09</td>\n",
       "      <td>2.359371e+09</td>\n",
       "      <td>True</td>\n",
       "    </tr>\n",
       "    <tr>\n",
       "      <td>1</td>\n",
       "      <td>2.841974</td>\n",
       "      <td>0.144283</td>\n",
       "      <td>0.084541</td>\n",
       "      <td>1.777331e+09</td>\n",
       "      <td>2.416748e+09</td>\n",
       "      <td>True</td>\n",
       "    </tr>\n",
       "    <tr>\n",
       "      <td>2</td>\n",
       "      <td>0.413365</td>\n",
       "      <td>0.515070</td>\n",
       "      <td>0.082873</td>\n",
       "      <td>1.892471e+09</td>\n",
       "      <td>1.956768e+09</td>\n",
       "      <td>True</td>\n",
       "    </tr>\n",
       "    <tr>\n",
       "      <td>3</td>\n",
       "      <td>0.614166</td>\n",
       "      <td>0.170777</td>\n",
       "      <td>0.083544</td>\n",
       "      <td>1.796432e+09</td>\n",
       "      <td>2.027675e+09</td>\n",
       "      <td>True</td>\n",
       "    </tr>\n",
       "    <tr>\n",
       "      <td>4</td>\n",
       "      <td>2.899266</td>\n",
       "      <td>0.065677</td>\n",
       "      <td>0.088525</td>\n",
       "      <td>1.751869e+09</td>\n",
       "      <td>2.418912e+09</td>\n",
       "      <td>True</td>\n",
       "    </tr>\n",
       "    <tr>\n",
       "      <td>5</td>\n",
       "      <td>0.190484</td>\n",
       "      <td>0.799682</td>\n",
       "      <td>0.072841</td>\n",
       "      <td>2.015778e+09</td>\n",
       "      <td>1.907172e+09</td>\n",
       "      <td>True</td>\n",
       "    </tr>\n",
       "    <tr>\n",
       "      <td>6</td>\n",
       "      <td>2.606209</td>\n",
       "      <td>0.014942</td>\n",
       "      <td>0.065966</td>\n",
       "      <td>1.748498e+09</td>\n",
       "      <td>2.465901e+09</td>\n",
       "      <td>True</td>\n",
       "    </tr>\n",
       "  </tbody>\n",
       "</table>\n",
       "</div>"
      ],
      "text/plain": [
       "    UFactor  Solar Heat Gain Coefficient  Thickness  Electricity:Facility  \\\n",
       "0  1.308471                     0.074466   0.047176          1.778193e+09   \n",
       "1  2.841974                     0.144283   0.084541          1.777331e+09   \n",
       "2  0.413365                     0.515070   0.082873          1.892471e+09   \n",
       "3  0.614166                     0.170777   0.083544          1.796432e+09   \n",
       "4  2.899266                     0.065677   0.088525          1.751869e+09   \n",
       "5  0.190484                     0.799682   0.072841          2.015778e+09   \n",
       "6  2.606209                     0.014942   0.065966          1.748498e+09   \n",
       "\n",
       "   Gas:Facility  pareto-optimal  \n",
       "0  2.359371e+09            True  \n",
       "1  2.416748e+09            True  \n",
       "2  1.956768e+09            True  \n",
       "3  2.027675e+09            True  \n",
       "4  2.418912e+09            True  \n",
       "5  1.907172e+09            True  \n",
       "6  2.465901e+09            True  "
      ]
     },
     "execution_count": 6,
     "metadata": {},
     "output_type": "execute_result"
    }
   ],
   "source": [
    "optimizer.solutions_to_df(alg2.result, problem, parts=['inputs', 'outputs'])"
   ]
  },
  {
   "cell_type": "code",
   "execution_count": null,
   "metadata": {
    "papermill": {
     "duration": 0.005155,
     "end_time": "2019-10-28T23:03:24.800188",
     "exception": false,
     "start_time": "2019-10-28T23:03:24.795033",
     "status": "completed"
    },
    "tags": []
   },
   "outputs": [],
   "source": []
  }
 ],
 "metadata": {
  "jupytext": {
   "formats": "ipynb,py:light",
   "text_representation": {
    "extension": ".py",
    "format_name": "light",
    "format_version": "1.3",
    "jupytext_version": "0.8.6"
   }
  },
  "kernelspec": {
   "display_name": "Python 3",
   "language": "python",
   "name": "python3"
  },
  "language_info": {
   "codemirror_mode": {
    "name": "ipython",
    "version": 3
   },
   "file_extension": ".py",
   "mimetype": "text/x-python",
   "name": "python",
   "nbconvert_exporter": "python",
   "pygments_lexer": "ipython3",
   "version": "3.6.4"
  },
  "papermill": {
   "duration": 196.548151,
   "end_time": "2019-10-28T23:03:25.613547",
   "environment_variables": {},
   "exception": null,
   "input_path": "./Optimization/OptimizationRunFlexibility.ipynb",
   "output_path": "./Optimization/OptimizationRunFlexibility.ipynb",
   "parameters": {},
   "start_time": "2019-10-28T23:00:09.065396",
   "version": "1.2.0"
  }
 },
 "nbformat": 4,
 "nbformat_minor": 2
}