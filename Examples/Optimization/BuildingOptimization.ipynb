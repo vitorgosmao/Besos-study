{
 "cells": [
  {
   "cell_type": "markdown",
   "metadata": {
    "papermill": {
     "duration": 0.009494,
     "end_time": "2019-10-28T22:56:33.727129",
     "exception": false,
     "start_time": "2019-10-28T22:56:33.717635",
     "status": "completed"
    },
    "tags": []
   },
   "source": [
    "import libraries"
   ]
  },
  {
   "cell_type": "code",
   "execution_count": 1,
   "metadata": {
    "jupyter": {
     "source_hidden": true
    },
    "papermill": {
     "duration": 2.03235,
     "end_time": "2019-10-28T22:56:35.767852",
     "exception": false,
     "start_time": "2019-10-28T22:56:33.735502",
     "status": "completed"
    },
    "tags": []
   },
   "outputs": [],
   "source": [
    "import pandas as pd\n",
    "import matplotlib.pyplot as plt\n",
    "from platypus import Solution, Hypervolume, Archive\n",
    "\n",
    "from besos import eppy_funcs as ef\n",
    "from besos.problem import EPProblem\n",
    "from besos.evaluator import EvaluatorEP\n",
    "from besos.parameters import wwr, RangeParameter, FieldSelector, FilterSelector, GenericSelector, Parameter, expand_plist\n",
    "from besos.optimizer import NSGAII, df_solution_to_solutions\n",
    "import besos.sampling as sampling"
   ]
  },
  {
   "cell_type": "markdown",
   "metadata": {
    "papermill": {
     "duration": 0.0075,
     "end_time": "2019-10-28T22:56:35.783018",
     "exception": false,
     "start_time": "2019-10-28T22:56:35.775518",
     "status": "completed"
    },
    "tags": []
   },
   "source": [
    "# Building Optimization"
   ]
  },
  {
   "cell_type": "markdown",
   "metadata": {
    "papermill": {
     "duration": 0.006398,
     "end_time": "2019-10-28T22:56:35.796457",
     "exception": false,
     "start_time": "2019-10-28T22:56:35.790059",
     "status": "completed"
    },
    "tags": []
   },
   "source": [
    "This notebook performs building design optimization using EnergyPlus and BESOS helper functions.  \n",
    "We load a model from in.idf, define parameters to vary, set objectives, test the model, then run a multi-objective genetic algorithm and plot the optimized designs."
   ]
  },
  {
   "cell_type": "markdown",
   "metadata": {
    "papermill": {
     "duration": 0.006446,
     "end_time": "2019-10-28T22:56:35.809640",
     "exception": false,
     "start_time": "2019-10-28T22:56:35.803194",
     "status": "completed"
    },
    "tags": []
   },
   "source": [
    "## Load the base EnergyPlus .idf file"
   ]
  },
  {
   "cell_type": "code",
   "execution_count": 2,
   "metadata": {
    "papermill": {
     "duration": 1.217628,
     "end_time": "2019-10-28T22:56:37.033873",
     "exception": false,
     "start_time": "2019-10-28T22:56:35.816245",
     "status": "completed"
    },
    "tags": []
   },
   "outputs": [],
   "source": [
    "building = ef.get_building('in.idf') # Load the E+ model in.idf"
   ]
  },
  {
   "cell_type": "markdown",
   "metadata": {
    "papermill": {
     "duration": 0.007594,
     "end_time": "2019-10-28T22:56:37.049306",
     "exception": false,
     "start_time": "2019-10-28T22:56:37.041712",
     "status": "completed"
    },
    "tags": []
   },
   "source": [
    "## Define design parameters and ranges"
   ]
  },
  {
   "cell_type": "code",
   "execution_count": 3,
   "metadata": {
    "papermill": {
     "duration": 0.013148,
     "end_time": "2019-10-28T22:56:37.069830",
     "exception": false,
     "start_time": "2019-10-28T22:56:37.056682",
     "status": "completed"
    },
    "tags": []
   },
   "outputs": [],
   "source": [
    "parameters = []\n",
    "parameters = expand_plist( # Use helper function to make parameter list\n",
    "    {'Building 1':                    # Name from IDF Building object\n",
    "          {'North Axis':(0,359)}}     # Change orientation from North\n",
    "    )\n",
    "\n",
    "parameters.append(wwr(RangeParameter(0.1, 0.9))) # Add window-to-wall ratio as a parameter between 0.1 and 0.9 using a custom function"
   ]
  },
  {
   "cell_type": "markdown",
   "metadata": {
    "papermill": {
     "duration": 0.007395,
     "end_time": "2019-10-28T22:56:37.084286",
     "exception": false,
     "start_time": "2019-10-28T22:56:37.076891",
     "status": "completed"
    },
    "tags": []
   },
   "source": [
    "## Objectives"
   ]
  },
  {
   "cell_type": "code",
   "execution_count": 4,
   "metadata": {
    "papermill": {
     "duration": 0.014643,
     "end_time": "2019-10-28T22:56:37.106628",
     "exception": false,
     "start_time": "2019-10-28T22:56:37.091985",
     "status": "completed"
    },
    "tags": []
   },
   "outputs": [],
   "source": [
    "objectives = ['DistrictCooling:Facility', 'DistrictHeating:Facility'] # Use Heating and Cooling (Ideal air loads) as objectives\n",
    "besos_problem = EPProblem(parameters, objectives) # Make a problem instance from the parameters and objectives"
   ]
  },
  {
   "cell_type": "markdown",
   "metadata": {
    "papermill": {
     "duration": 0.007191,
     "end_time": "2019-10-28T22:56:37.122238",
     "exception": false,
     "start_time": "2019-10-28T22:56:37.115047",
     "status": "completed"
    },
    "tags": []
   },
   "source": [
    "## Set up EnergyPlus evaluator object to run simulations for this building and problem"
   ]
  },
  {
   "cell_type": "code",
   "execution_count": 5,
   "metadata": {
    "papermill": {
     "duration": 4.431614,
     "end_time": "2019-10-28T22:56:41.561384",
     "exception": false,
     "start_time": "2019-10-28T22:56:37.129770",
     "status": "completed"
    },
    "tags": []
   },
   "outputs": [
    {
     "data": {
      "application/vnd.jupyter.widget-view+json": {
       "model_id": "a13f9636fff7485e979c15e5d90edb6b",
       "version_major": 2,
       "version_minor": 0
      },
      "text/plain": [
       "HBox(children=(IntProgress(value=0, description='Executing', max=1, style=ProgressStyle(description_width='ini…"
      ]
     },
     "metadata": {},
     "output_type": "display_data"
    },
    {
     "name": "stdout",
     "output_type": "stream",
     "text": [
      "\n"
     ]
    },
    {
     "data": {
      "text/html": [
       "<div>\n",
       "<style scoped>\n",
       "    .dataframe tbody tr th:only-of-type {\n",
       "        vertical-align: middle;\n",
       "    }\n",
       "\n",
       "    .dataframe tbody tr th {\n",
       "        vertical-align: top;\n",
       "    }\n",
       "\n",
       "    .dataframe thead th {\n",
       "        text-align: right;\n",
       "    }\n",
       "</style>\n",
       "<table border=\"1\" class=\"dataframe\">\n",
       "  <thead>\n",
       "    <tr style=\"text-align: right;\">\n",
       "      <th></th>\n",
       "      <th>DistrictCooling:Facility</th>\n",
       "      <th>DistrictHeating:Facility</th>\n",
       "    </tr>\n",
       "  </thead>\n",
       "  <tbody>\n",
       "    <tr>\n",
       "      <td>0</td>\n",
       "      <td>3.233564e+09</td>\n",
       "      <td>4.931726e+09</td>\n",
       "    </tr>\n",
       "  </tbody>\n",
       "</table>\n",
       "</div>"
      ],
      "text/plain": [
       "   DistrictCooling:Facility  DistrictHeating:Facility\n",
       "0              3.233564e+09              4.931726e+09"
      ]
     },
     "execution_count": 5,
     "metadata": {},
     "output_type": "execute_result"
    }
   ],
   "source": [
    "evaluator = EvaluatorEP(besos_problem, building, out_dir='outputdir', err_dir='outputdir') # outputdir must exist; E+ files will be written there\n",
    "runs = pd.DataFrame.from_dict({'0': [180, 0.5]}, orient='index') # Make a dataframe of runs with one entry for South and 50% glazing\n",
    "outputs = evaluator.df_apply(runs) # Run this as a test\n",
    "outputs"
   ]
  },
  {
   "cell_type": "markdown",
   "metadata": {
    "papermill": {
     "duration": 0.009101,
     "end_time": "2019-10-28T22:56:41.579072",
     "exception": false,
     "start_time": "2019-10-28T22:56:41.569971",
     "status": "completed"
    },
    "tags": []
   },
   "source": [
    "## Run the Genetic Algorithm"
   ]
  },
  {
   "cell_type": "code",
   "execution_count": 6,
   "metadata": {
    "papermill": {
     "duration": 205.529346,
     "end_time": "2019-10-28T23:00:07.118048",
     "exception": false,
     "start_time": "2019-10-28T22:56:41.588702",
     "status": "completed"
    },
    "tags": []
   },
   "outputs": [
    {
     "data": {
      "text/html": [
       "<div>\n",
       "<style scoped>\n",
       "    .dataframe tbody tr th:only-of-type {\n",
       "        vertical-align: middle;\n",
       "    }\n",
       "\n",
       "    .dataframe tbody tr th {\n",
       "        vertical-align: top;\n",
       "    }\n",
       "\n",
       "    .dataframe thead th {\n",
       "        text-align: right;\n",
       "    }\n",
       "</style>\n",
       "<table border=\"1\" class=\"dataframe\">\n",
       "  <thead>\n",
       "    <tr style=\"text-align: right;\">\n",
       "      <th></th>\n",
       "      <th>North Axis</th>\n",
       "      <th>Window to Wall Ratio</th>\n",
       "      <th>DistrictCooling:Facility</th>\n",
       "      <th>DistrictHeating:Facility</th>\n",
       "      <th>violation</th>\n",
       "      <th>pareto-optimal</th>\n",
       "    </tr>\n",
       "  </thead>\n",
       "  <tbody>\n",
       "    <tr>\n",
       "      <td>0</td>\n",
       "      <td>219.736012</td>\n",
       "      <td>0.366591</td>\n",
       "      <td>3.670680e+09</td>\n",
       "      <td>4.105240e+09</td>\n",
       "      <td>0</td>\n",
       "      <td>True</td>\n",
       "    </tr>\n",
       "    <tr>\n",
       "      <td>1</td>\n",
       "      <td>341.689391</td>\n",
       "      <td>0.753917</td>\n",
       "      <td>4.384993e+09</td>\n",
       "      <td>4.454563e+09</td>\n",
       "      <td>0</td>\n",
       "      <td>False</td>\n",
       "    </tr>\n",
       "    <tr>\n",
       "      <td>2</td>\n",
       "      <td>293.310689</td>\n",
       "      <td>0.365404</td>\n",
       "      <td>4.478613e+09</td>\n",
       "      <td>3.306264e+09</td>\n",
       "      <td>0</td>\n",
       "      <td>False</td>\n",
       "    </tr>\n",
       "    <tr>\n",
       "      <td>3</td>\n",
       "      <td>132.107603</td>\n",
       "      <td>0.474162</td>\n",
       "      <td>3.714934e+09</td>\n",
       "      <td>4.720824e+09</td>\n",
       "      <td>0</td>\n",
       "      <td>False</td>\n",
       "    </tr>\n",
       "    <tr>\n",
       "      <td>4</td>\n",
       "      <td>194.873295</td>\n",
       "      <td>0.748354</td>\n",
       "      <td>3.262466e+09</td>\n",
       "      <td>6.277199e+09</td>\n",
       "      <td>0</td>\n",
       "      <td>True</td>\n",
       "    </tr>\n",
       "    <tr>\n",
       "      <td>5</td>\n",
       "      <td>100.062693</td>\n",
       "      <td>0.112733</td>\n",
       "      <td>4.159768e+09</td>\n",
       "      <td>2.504805e+09</td>\n",
       "      <td>0</td>\n",
       "      <td>True</td>\n",
       "    </tr>\n",
       "    <tr>\n",
       "      <td>6</td>\n",
       "      <td>287.868263</td>\n",
       "      <td>0.320296</td>\n",
       "      <td>4.455796e+09</td>\n",
       "      <td>3.158007e+09</td>\n",
       "      <td>0</td>\n",
       "      <td>False</td>\n",
       "    </tr>\n",
       "    <tr>\n",
       "      <td>7</td>\n",
       "      <td>93.782115</td>\n",
       "      <td>0.741189</td>\n",
       "      <td>4.283482e+09</td>\n",
       "      <td>5.654314e+09</td>\n",
       "      <td>0</td>\n",
       "      <td>False</td>\n",
       "    </tr>\n",
       "    <tr>\n",
       "      <td>8</td>\n",
       "      <td>107.477031</td>\n",
       "      <td>0.609360</td>\n",
       "      <td>4.074610e+09</td>\n",
       "      <td>5.183066e+09</td>\n",
       "      <td>0</td>\n",
       "      <td>False</td>\n",
       "    </tr>\n",
       "    <tr>\n",
       "      <td>9</td>\n",
       "      <td>291.392762</td>\n",
       "      <td>0.758171</td>\n",
       "      <td>4.590945e+09</td>\n",
       "      <td>5.140236e+09</td>\n",
       "      <td>0</td>\n",
       "      <td>False</td>\n",
       "    </tr>\n",
       "    <tr>\n",
       "      <td>10</td>\n",
       "      <td>297.626367</td>\n",
       "      <td>0.349425</td>\n",
       "      <td>4.486444e+09</td>\n",
       "      <td>3.175858e+09</td>\n",
       "      <td>0</td>\n",
       "      <td>False</td>\n",
       "    </tr>\n",
       "    <tr>\n",
       "      <td>11</td>\n",
       "      <td>29.095447</td>\n",
       "      <td>0.724474</td>\n",
       "      <td>4.391080e+09</td>\n",
       "      <td>4.504922e+09</td>\n",
       "      <td>0</td>\n",
       "      <td>False</td>\n",
       "    </tr>\n",
       "    <tr>\n",
       "      <td>12</td>\n",
       "      <td>302.902658</td>\n",
       "      <td>0.528426</td>\n",
       "      <td>4.528035e+09</td>\n",
       "      <td>3.948357e+09</td>\n",
       "      <td>0</td>\n",
       "      <td>False</td>\n",
       "    </tr>\n",
       "    <tr>\n",
       "      <td>13</td>\n",
       "      <td>335.735567</td>\n",
       "      <td>0.242098</td>\n",
       "      <td>4.380074e+09</td>\n",
       "      <td>2.328784e+09</td>\n",
       "      <td>0</td>\n",
       "      <td>True</td>\n",
       "    </tr>\n",
       "    <tr>\n",
       "      <td>14</td>\n",
       "      <td>120.572530</td>\n",
       "      <td>0.642901</td>\n",
       "      <td>3.891842e+09</td>\n",
       "      <td>5.483200e+09</td>\n",
       "      <td>0</td>\n",
       "      <td>False</td>\n",
       "    </tr>\n",
       "    <tr>\n",
       "      <td>15</td>\n",
       "      <td>76.852826</td>\n",
       "      <td>0.439416</td>\n",
       "      <td>4.331485e+09</td>\n",
       "      <td>3.907663e+09</td>\n",
       "      <td>0</td>\n",
       "      <td>False</td>\n",
       "    </tr>\n",
       "    <tr>\n",
       "      <td>16</td>\n",
       "      <td>197.128140</td>\n",
       "      <td>0.616347</td>\n",
       "      <td>3.305608e+09</td>\n",
       "      <td>5.557426e+09</td>\n",
       "      <td>0</td>\n",
       "      <td>True</td>\n",
       "    </tr>\n",
       "    <tr>\n",
       "      <td>17</td>\n",
       "      <td>284.802882</td>\n",
       "      <td>0.609042</td>\n",
       "      <td>4.508511e+09</td>\n",
       "      <td>4.595082e+09</td>\n",
       "      <td>0</td>\n",
       "      <td>False</td>\n",
       "    </tr>\n",
       "    <tr>\n",
       "      <td>18</td>\n",
       "      <td>58.477182</td>\n",
       "      <td>0.181367</td>\n",
       "      <td>4.374668e+09</td>\n",
       "      <td>2.438386e+09</td>\n",
       "      <td>0</td>\n",
       "      <td>True</td>\n",
       "    </tr>\n",
       "    <tr>\n",
       "      <td>19</td>\n",
       "      <td>250.641043</td>\n",
       "      <td>0.319620</td>\n",
       "      <td>4.124308e+09</td>\n",
       "      <td>3.600212e+09</td>\n",
       "      <td>0</td>\n",
       "      <td>True</td>\n",
       "    </tr>\n",
       "  </tbody>\n",
       "</table>\n",
       "</div>"
      ],
      "text/plain": [
       "    North Axis  Window to Wall Ratio  DistrictCooling:Facility  \\\n",
       "0   219.736012              0.366591              3.670680e+09   \n",
       "1   341.689391              0.753917              4.384993e+09   \n",
       "2   293.310689              0.365404              4.478613e+09   \n",
       "3   132.107603              0.474162              3.714934e+09   \n",
       "4   194.873295              0.748354              3.262466e+09   \n",
       "5   100.062693              0.112733              4.159768e+09   \n",
       "6   287.868263              0.320296              4.455796e+09   \n",
       "7    93.782115              0.741189              4.283482e+09   \n",
       "8   107.477031              0.609360              4.074610e+09   \n",
       "9   291.392762              0.758171              4.590945e+09   \n",
       "10  297.626367              0.349425              4.486444e+09   \n",
       "11   29.095447              0.724474              4.391080e+09   \n",
       "12  302.902658              0.528426              4.528035e+09   \n",
       "13  335.735567              0.242098              4.380074e+09   \n",
       "14  120.572530              0.642901              3.891842e+09   \n",
       "15   76.852826              0.439416              4.331485e+09   \n",
       "16  197.128140              0.616347              3.305608e+09   \n",
       "17  284.802882              0.609042              4.508511e+09   \n",
       "18   58.477182              0.181367              4.374668e+09   \n",
       "19  250.641043              0.319620              4.124308e+09   \n",
       "\n",
       "    DistrictHeating:Facility  violation  pareto-optimal  \n",
       "0               4.105240e+09          0            True  \n",
       "1               4.454563e+09          0           False  \n",
       "2               3.306264e+09          0           False  \n",
       "3               4.720824e+09          0           False  \n",
       "4               6.277199e+09          0            True  \n",
       "5               2.504805e+09          0            True  \n",
       "6               3.158007e+09          0           False  \n",
       "7               5.654314e+09          0           False  \n",
       "8               5.183066e+09          0           False  \n",
       "9               5.140236e+09          0           False  \n",
       "10              3.175858e+09          0           False  \n",
       "11              4.504922e+09          0           False  \n",
       "12              3.948357e+09          0           False  \n",
       "13              2.328784e+09          0            True  \n",
       "14              5.483200e+09          0           False  \n",
       "15              3.907663e+09          0           False  \n",
       "16              5.557426e+09          0            True  \n",
       "17              4.595082e+09          0           False  \n",
       "18              2.438386e+09          0            True  \n",
       "19              3.600212e+09          0            True  "
      ]
     },
     "execution_count": 6,
     "metadata": {},
     "output_type": "execute_result"
    }
   ],
   "source": [
    "results = NSGAII(evaluator, evaluations=10, population_size=20) # Run the optimizer using this evaluator for a population size of 20 for 10 generations\n",
    "results"
   ]
  },
  {
   "cell_type": "markdown",
   "metadata": {
    "papermill": {
     "duration": 0.010281,
     "end_time": "2019-10-28T23:00:07.138988",
     "exception": false,
     "start_time": "2019-10-28T23:00:07.128707",
     "status": "completed"
    },
    "tags": []
   },
   "source": [
    "## Visualize the results"
   ]
  },
  {
   "cell_type": "code",
   "execution_count": 7,
   "metadata": {
    "papermill": {
     "duration": 0.224275,
     "end_time": "2019-10-28T23:00:07.374025",
     "exception": false,
     "start_time": "2019-10-28T23:00:07.149750",
     "status": "completed"
    },
    "tags": []
   },
   "outputs": [
    {
     "data": {
      "text/plain": [
       "Text(0, 0.5, 'Heating demand')"
      ]
     },
     "execution_count": 7,
     "metadata": {},
     "output_type": "execute_result"
    },
    {
     "data": {
      "image/png": "[encoded data removed]",
      "text/plain": [
       "<Figure size 432x288 with 1 Axes>"
      ]
     },
     "metadata": {
      "needs_background": "light"
     },
     "output_type": "display_data"
    }
   ],
   "source": [
    "optres = results.loc[results['pareto-optimal']==True,:] # Get only the optimal results\n",
    "plt.plot(results['DistrictCooling:Facility'], results['DistrictHeating:Facility'],'x') # Plot all results in the background\n",
    "plt.plot(optres['DistrictCooling:Facility'], optres['DistrictHeating:Facility'],'ro') # Plot optimal results in red\n",
    "plt.xlabel('Cooling demand')\n",
    "plt.ylabel('Heating demand')"
   ]
  },
  {
   "cell_type": "code",
   "execution_count": 8,
   "metadata": {
    "papermill": {
     "duration": 0.86736,
     "end_time": "2019-10-28T23:00:08.252043",
     "exception": false,
     "start_time": "2019-10-28T23:00:07.384683",
     "status": "completed"
    },
    "scrolled": true,
    "tags": []
   },
   "outputs": [
    {
     "data": {
      "image/png": "[encoded data removed]",
      "text/plain": [
       "<Figure size 720x720 with 4 Axes>"
      ]
     },
     "metadata": {
      "needs_background": "light"
     },
     "output_type": "display_data"
    }
   ],
   "source": [
    "optres = optres.sort_values('DistrictCooling:Facility') # Sort by the first objective \n",
    "optresplot = optres.drop(columns='violation') # Remove the constraint violation column\n",
    "ax=optresplot.plot.bar(subplots=True,legend=None,figsize=(10,10)) # Plot the variable values of each of the optimal solutions"
   ]
  },
  {
   "cell_type": "markdown",
   "metadata": {},
   "source": [
    "## Hypervolume"
   ]
  },
  {
   "cell_type": "markdown",
   "metadata": {},
   "source": [
    "### Run the Genetic Algorithm again"
   ]
  },
  {
   "cell_type": "code",
   "execution_count": 15,
   "metadata": {},
   "outputs": [],
   "source": [
    "results_2 = NSGAII(evaluator, evaluations=20, population_size=50)"
   ]
  },
  {
   "cell_type": "markdown",
   "metadata": {},
   "source": [
    "### Compare first run and second run"
   ]
  },
  {
   "cell_type": "code",
   "execution_count": 16,
   "metadata": {},
   "outputs": [
    {
     "data": {
      "text/plain": [
       "Text(0, 0.5, 'Heating demand')"
      ]
     },
     "execution_count": 16,
     "metadata": {},
     "output_type": "execute_result"
    },
    {
     "data": {
      "image/png": "[encoded data removed]",
      "text/plain": [
       "<Figure size 432x288 with 1 Axes>"
      ]
     },
     "metadata": {
      "needs_background": "light"
     },
     "output_type": "display_data"
    }
   ],
   "source": [
    "optres_2 = results_2.loc[results_2['pareto-optimal']==True,:]\n",
    "plt.plot(optres['DistrictCooling:Facility'], optres['DistrictHeating:Facility'],'bo') # Plot first optimal results in blue\n",
    "plt.plot(optres_2['DistrictCooling:Facility'], optres_2['DistrictHeating:Facility'],'ro') # Plot second optimal results in red\n",
    "plt.xlabel('Cooling demand')\n",
    "plt.ylabel('Heating demand')"
   ]
  },
  {
   "cell_type": "markdown",
   "metadata": {},
   "source": [
    "### Calculate the hypervolume"
   ]
  },
  {
   "cell_type": "code",
   "execution_count": 18,
   "metadata": {
    "papermill": {
     "duration": 0.011312,
     "end_time": "2019-10-28T23:00:08.276573",
     "exception": false,
     "start_time": "2019-10-28T23:00:08.265261",
     "status": "completed"
    },
    "tags": []
   },
   "outputs": [
    {
     "name": "stdout",
     "output_type": "stream",
     "text": [
      "Hypervolume for result 1: 0.5423242192578384\n",
      "Hypervolume for result 2: 0.8322520476043208\n"
     ]
    }
   ],
   "source": [
    "reference_set = Archive()\n",
    "platypus_problem = evaluator.to_platypus()\n",
    "for _ in range(20):\n",
    "    solution = Solution(platypus_problem)\n",
    "    solution.variables = sampling.dist_sampler(sampling.lhs, besos_problem, 1).values.tolist()[0]\n",
    "    solution.evaluate()\n",
    "    reference_set.add(solution)\n",
    "\n",
    "hyp = Hypervolume(reference_set)\n",
    "print(\"Hypervolume for result 1:\", hyp.calculate(df_solution_to_solutions(results, platypus_problem, besos_problem)))\n",
    "print(\"Hypervolume for result 2:\", hyp.calculate(df_solution_to_solutions(results_2, platypus_problem, besos_problem)))"
   ]
  },
  {
   "cell_type": "code",
   "execution_count": null,
   "metadata": {},
   "outputs": [],
   "source": []
  }
 ],
 "metadata": {
  "kernelspec": {
   "display_name": "Python 3",
   "language": "python",
   "name": "python3"
  },
  "language_info": {
   "codemirror_mode": {
    "name": "ipython",
    "version": 3
   },
   "file_extension": ".py",
   "mimetype": "text/x-python",
   "name": "python",
   "nbconvert_exporter": "python",
   "pygments_lexer": "ipython3",
   "version": "3.6.4"
  },
  "papermill": {
   "duration": 215.863992,
   "end_time": "2019-10-28T23:00:08.999788",
   "environment_variables": {},
   "exception": null,
   "input_path": "./Optimization/BuildingOptimization.ipynb",
   "output_path": "./Optimization/BuildingOptimization.ipynb",
   "parameters": {},
   "start_time": "2019-10-28T22:56:33.135796",
   "version": "1.2.0"
  },
  "widgets": {
   "application/vnd.jupyter.widget-state+json": {
    "state": {
     "1c7f144bd49f40ffae4de712eda2d995": {
      "model_module": "@jupyter-widgets/controls",
      "model_module_version": "1.5.0",
      "model_name": "ProgressStyleModel",
      "state": {
       "_model_module": "@jupyter-widgets/controls",
       "_model_module_version": "1.5.0",
       "_model_name": "ProgressStyleModel",
       "_view_count": null,
       "_view_module": "@jupyter-widgets/base",
       "_view_module_version": "1.2.0",
       "_view_name": "StyleView",
       "bar_color": null,
       "description_width": "initial"
      }
     },
     "5df17837dbbd4ad0a312481eb928f663": {
      "model_module": "@jupyter-widgets/base",
      "model_module_version": "1.2.0",
      "model_name": "LayoutModel",
      "state": {
       "_model_module": "@jupyter-widgets/base",
       "_model_module_version": "1.2.0",
       "_model_name": "LayoutModel",
       "_view_count": null,
       "_view_module": "@jupyter-widgets/base",
       "_view_module_version": "1.2.0",
       "_view_name": "LayoutView",
       "align_content": null,
       "align_items": null,
       "align_self": null,
       "border": null,
       "bottom": null,
       "display": null,
       "flex": null,
       "flex_flow": null,
       "grid_area": null,
       "grid_auto_columns": null,
       "grid_auto_flow": null,
       "grid_auto_rows": null,
       "grid_column": null,
       "grid_gap": null,
       "grid_row": null,
       "grid_template_areas": null,
       "grid_template_columns": null,
       "grid_template_rows": null,
       "height": null,
       "justify_content": null,
       "justify_items": null,
       "left": null,
       "margin": null,
       "max_height": null,
       "max_width": null,
       "min_height": null,
       "min_width": null,
       "object_fit": null,
       "object_position": null,
       "order": null,
       "overflow": null,
       "overflow_x": null,
       "overflow_y": null,
       "padding": null,
       "right": null,
       "top": null,
       "visibility": null,
       "width": null
      }
     },
     "710da6aec6984ce88c250a9090abb6a6": {
      "model_module": "@jupyter-widgets/controls",
      "model_module_version": "1.5.0",
      "model_name": "DescriptionStyleModel",
      "state": {
       "_model_module": "@jupyter-widgets/controls",
       "_model_module_version": "1.5.0",
       "_model_name": "DescriptionStyleModel",
       "_view_count": null,
       "_view_module": "@jupyter-widgets/base",
       "_view_module_version": "1.2.0",
       "_view_name": "StyleView",
       "description_width": ""
      }
     },
     "871f257738294f8fab65d46a363304c4": {
      "model_module": "@jupyter-widgets/base",
      "model_module_version": "1.2.0",
      "model_name": "LayoutModel",
      "state": {
       "_model_module": "@jupyter-widgets/base",
       "_model_module_version": "1.2.0",
       "_model_name": "LayoutModel",
       "_view_count": null,
       "_view_module": "@jupyter-widgets/base",
       "_view_module_version": "1.2.0",
       "_view_name": "LayoutView",
       "align_content": null,
       "align_items": null,
       "align_self": null,
       "border": null,
       "bottom": null,
       "display": null,
       "flex": null,
       "flex_flow": null,
       "grid_area": null,
       "grid_auto_columns": null,
       "grid_auto_flow": null,
       "grid_auto_rows": null,
       "grid_column": null,
       "grid_gap": null,
       "grid_row": null,
       "grid_template_areas": null,
       "grid_template_columns": null,
       "grid_template_rows": null,
       "height": null,
       "justify_content": null,
       "justify_items": null,
       "left": null,
       "margin": null,
       "max_height": null,
       "max_width": null,
       "min_height": null,
       "min_width": null,
       "object_fit": null,
       "object_position": null,
       "order": null,
       "overflow": null,
       "overflow_x": null,
       "overflow_y": null,
       "padding": null,
       "right": null,
       "top": null,
       "visibility": null,
       "width": null
      }
     },
     "9b10901af417498d8d81cf70379a8daa": {
      "model_module": "@jupyter-widgets/controls",
      "model_module_version": "1.5.0",
      "model_name": "IntProgressModel",
      "state": {
       "_dom_classes": [],
       "_model_module": "@jupyter-widgets/controls",
       "_model_module_version": "1.5.0",
       "_model_name": "IntProgressModel",
       "_view_count": null,
       "_view_module": "@jupyter-widgets/controls",
       "_view_module_version": "1.5.0",
       "_view_name": "ProgressView",
       "bar_style": "success",
       "description": "Executing: 100%",
       "description_tooltip": null,
       "layout": "IPY_MODEL_9c69664b031140d1920d59c6d42641a5",
       "max": 1,
       "min": 0,
       "orientation": "horizontal",
       "style": "IPY_MODEL_1c7f144bd49f40ffae4de712eda2d995",
       "value": 1
      }
     },
     "9c69664b031140d1920d59c6d42641a5": {
      "model_module": "@jupyter-widgets/base",
      "model_module_version": "1.2.0",
      "model_name": "LayoutModel",
      "state": {
       "_model_module": "@jupyter-widgets/base",
       "_model_module_version": "1.2.0",
       "_model_name": "LayoutModel",
       "_view_count": null,
       "_view_module": "@jupyter-widgets/base",
       "_view_module_version": "1.2.0",
       "_view_name": "LayoutView",
       "align_content": null,
       "align_items": null,
       "align_self": null,
       "border": null,
       "bottom": null,
       "display": null,
       "flex": null,
       "flex_flow": null,
       "grid_area": null,
       "grid_auto_columns": null,
       "grid_auto_flow": null,
       "grid_auto_rows": null,
       "grid_column": null,
       "grid_gap": null,
       "grid_row": null,
       "grid_template_areas": null,
       "grid_template_columns": null,
       "grid_template_rows": null,
       "height": null,
       "justify_content": null,
       "justify_items": null,
       "left": null,
       "margin": null,
       "max_height": null,
       "max_width": null,
       "min_height": null,
       "min_width": null,
       "object_fit": null,
       "object_position": null,
       "order": null,
       "overflow": null,
       "overflow_x": null,
       "overflow_y": null,
       "padding": null,
       "right": null,
       "top": null,
       "visibility": null,
       "width": null
      }
     },
     "c0fcb17a3a9f4b1e931888711bd56677": {
      "model_module": "@jupyter-widgets/controls",
      "model_module_version": "1.5.0",
      "model_name": "HBoxModel",
      "state": {
       "_dom_classes": [],
       "_model_module": "@jupyter-widgets/controls",
       "_model_module_version": "1.5.0",
       "_model_name": "HBoxModel",
       "_view_count": null,
       "_view_module": "@jupyter-widgets/controls",
       "_view_module_version": "1.5.0",
       "_view_name": "HBoxView",
       "box_style": "",
       "children": [
        "IPY_MODEL_9b10901af417498d8d81cf70379a8daa",
        "IPY_MODEL_f640ce1c72cf4f248e36cd58d42f54dc"
       ],
       "layout": "IPY_MODEL_5df17837dbbd4ad0a312481eb928f663"
      }
     },
     "f640ce1c72cf4f248e36cd58d42f54dc": {
      "model_module": "@jupyter-widgets/controls",
      "model_module_version": "1.5.0",
      "model_name": "HTMLModel",
      "state": {
       "_dom_classes": [],
       "_model_module": "@jupyter-widgets/controls",
       "_model_module_version": "1.5.0",
       "_model_name": "HTMLModel",
       "_view_count": null,
       "_view_module": "@jupyter-widgets/controls",
       "_view_module_version": "1.5.0",
       "_view_name": "HTMLView",
       "description": "",
       "description_tooltip": null,
       "layout": "IPY_MODEL_871f257738294f8fab65d46a363304c4",
       "placeholder": "​",
       "style": "IPY_MODEL_710da6aec6984ce88c250a9090abb6a6",
       "value": " 1/1 [00:07&lt;00:00,  7.93s/row]"
      }
     }
    },
    "version_major": 2,
    "version_minor": 0
   }
  }
 },
 "nbformat": 4,
 "nbformat_minor": 4
}
