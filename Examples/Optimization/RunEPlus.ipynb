{
 "cells": [
  {
   "cell_type": "code",
   "execution_count": 1,
   "metadata": {
    "papermill": {
     "duration": 3.236606,
     "end_time": "2019-10-28T22:56:32.888777",
     "exception": false,
     "start_time": "2019-10-28T22:56:29.652171",
     "status": "completed"
    },
    "tags": []
   },
   "outputs": [
    {
     "name": "stdout",
     "output_type": "stream",
     "text": [
      "EnergyPlus Starting\n",
      "EnergyPlus, Version 9.0.1-bb7ca4f0da, YMD=2019.10.28 15:56\n",
      "Adjusting Air System Sizing\n",
      "Adjusting Standard 62.1 Ventilation Sizing\n",
      "Initializing Simulation\n",
      "Reporting Surfaces\n",
      "Beginning Primary Simulation\n",
      "Initializing New Environment Parameters\n",
      "Warming up {1}\n",
      "Warming up {2}\n",
      "Warming up {3}\n",
      "Warming up {4}\n",
      "Warming up {5}\n",
      "Warming up {6}\n",
      "Starting Simulation at 01/01/2006 for RUN PERIOD 1\n",
      "Updating Shadowing Calculations, Start Date=01/21/2006\n",
      "Continuing Simulation at 01/21/2006 for RUN PERIOD 1\n",
      "Updating Shadowing Calculations, Start Date=02/10/2006\n",
      "Continuing Simulation at 02/10/2006 for RUN PERIOD 1\n",
      "Updating Shadowing Calculations, Start Date=03/02/2006\n",
      "Continuing Simulation at 03/02/2006 for RUN PERIOD 1\n",
      "Updating Shadowing Calculations, Start Date=03/22/2006\n",
      "Continuing Simulation at 03/22/2006 for RUN PERIOD 1\n",
      "Updating Shadowing Calculations, Start Date=04/11/2006\n",
      "Continuing Simulation at 04/11/2006 for RUN PERIOD 1\n",
      "Updating Shadowing Calculations, Start Date=05/01/2006\n",
      "Continuing Simulation at 05/01/2006 for RUN PERIOD 1\n",
      "Updating Shadowing Calculations, Start Date=05/21/2006\n",
      "Continuing Simulation at 05/21/2006 for RUN PERIOD 1\n",
      "Updating Shadowing Calculations, Start Date=06/10/2006\n",
      "Continuing Simulation at 06/10/2006 for RUN PERIOD 1\n",
      "Updating Shadowing Calculations, Start Date=06/30/2006\n",
      "Continuing Simulation at 06/30/2006 for RUN PERIOD 1\n",
      "Updating Shadowing Calculations, Start Date=07/20/2006\n",
      "Continuing Simulation at 07/20/2006 for RUN PERIOD 1\n",
      "Updating Shadowing Calculations, Start Date=08/09/2006\n",
      "Continuing Simulation at 08/09/2006 for RUN PERIOD 1\n",
      "Updating Shadowing Calculations, Start Date=08/29/2006\n",
      "Continuing Simulation at 08/29/2006 for RUN PERIOD 1\n",
      "Updating Shadowing Calculations, Start Date=09/18/2006\n",
      "Continuing Simulation at 09/18/2006 for RUN PERIOD 1\n",
      "Updating Shadowing Calculations, Start Date=10/08/2006\n",
      "Continuing Simulation at 10/08/2006 for RUN PERIOD 1\n",
      "Updating Shadowing Calculations, Start Date=10/28/2006\n",
      "Continuing Simulation at 10/28/2006 for RUN PERIOD 1\n",
      "Updating Shadowing Calculations, Start Date=11/17/2006\n",
      "Continuing Simulation at 11/17/2006 for RUN PERIOD 1\n",
      "Updating Shadowing Calculations, Start Date=12/07/2006\n",
      "Continuing Simulation at 12/07/2006 for RUN PERIOD 1\n",
      "Updating Shadowing Calculations, Start Date=12/27/2006\n",
      "Continuing Simulation at 12/27/2006 for RUN PERIOD 1\n",
      "Writing tabular output file results using HTML format.\n",
      "Computing Life Cycle Costs and Reporting\n",
      "Writing final SQL reports\n",
      "EnergyPlus Run Time=00hr 00min  3.18sec\n"
     ]
    },
    {
     "name": "stderr",
     "output_type": "stream",
     "text": [
      "EnergyPlus Completed Successfully.\n"
     ]
    }
   ],
   "source": [
    "%%bash\n",
    "energyplus -w weather.epw in.idf"
   ]
  },
  {
   "cell_type": "code",
   "execution_count": null,
   "metadata": {
    "papermill": {
     "duration": 0.002244,
     "end_time": "2019-10-28T22:56:32.894437",
     "exception": false,
     "start_time": "2019-10-28T22:56:32.892193",
     "status": "completed"
    },
    "tags": []
   },
   "outputs": [],
   "source": []
  }
 ],
 "metadata": {
  "kernelspec": {
   "display_name": "Python 3",
   "language": "python",
   "name": "python3"
  },
  "language_info": {
   "codemirror_mode": {
    "name": "ipython",
    "version": 3
   },
   "file_extension": ".py",
   "mimetype": "text/x-python",
   "name": "python",
   "nbconvert_exporter": "python",
   "pygments_lexer": "ipython3",
   "version": "3.6.4"
  },
  "papermill": {
   "duration": 4.027175,
   "end_time": "2019-10-28T22:56:33.102956",
   "environment_variables": {},
   "exception": null,
   "input_path": "./Optimization/RunEPlus.ipynb",
   "output_path": "./Optimization/RunEPlus.ipynb",
   "parameters": {},
   "start_time": "2019-10-28T22:56:29.075781",
   "version": "1.2.0"
  }
 },
 "nbformat": 4,
 "nbformat_minor": 2
}