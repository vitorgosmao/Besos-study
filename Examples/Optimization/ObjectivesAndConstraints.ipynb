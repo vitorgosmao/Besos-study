{
 "cells": [
  {
   "cell_type": "markdown",
   "metadata": {
    "papermill": {
     "duration": 0.021592,
     "end_time": "2019-10-28T22:56:00.961501",
     "exception": false,
     "start_time": "2019-10-28T22:56:00.939909",
     "status": "completed"
    },
    "tags": []
   },
   "source": [
    "import libraries"
   ]
  },
  {
   "cell_type": "code",
   "execution_count": 1,
   "metadata": {
    "jupyter": {
     "source_hidden": true
    },
    "papermill": {
     "duration": 2.16592,
     "end_time": "2019-10-28T22:56:03.143892",
     "exception": false,
     "start_time": "2019-10-28T22:56:00.977972",
     "status": "completed"
    },
    "tags": []
   },
   "outputs": [],
   "source": [
    "from besos import eppy_funcs as ef\n",
    "from besos import sampling\n",
    "from besos.evaluator import EvaluatorEP\n",
    "from besos.parameters import RangeParameter, wwr, FieldSelector, Parameter\n",
    "from besos.objectives import MeterReader, VariableReader, clear_outputs\n",
    "from besos.problem import EPProblem, Problem\n",
    "from besos.optimizer import NSGAII\n",
    "import pandas as pd\n",
    "import matplotlib.pyplot as plt"
   ]
  },
  {
   "cell_type": "markdown",
   "metadata": {
    "papermill": {
     "duration": 0.012095,
     "end_time": "2019-10-28T22:56:03.168666",
     "exception": false,
     "start_time": "2019-10-28T22:56:03.156571",
     "status": "completed"
    },
    "tags": []
   },
   "source": [
    "# Objectives and Constraints\n",
    "\n",
    "`Evaluators` support two types of outputs: Objectives and Constraints.  \n",
    "These are both made using the `MeterReader` and `VariableReader` classes.  \n",
    "The only difference is how they are used by the problem."
   ]
  },
  {
   "cell_type": "markdown",
   "metadata": {
    "papermill": {
     "duration": 0.008487,
     "end_time": "2019-10-28T22:56:03.185951",
     "exception": false,
     "start_time": "2019-10-28T22:56:03.177464",
     "status": "completed"
    },
    "tags": []
   },
   "source": [
    "First we load the EnergyPlus example file, clear any output data and define some parameters."
   ]
  },
  {
   "cell_type": "code",
   "execution_count": 2,
   "metadata": {
    "papermill": {
     "duration": 0.020441,
     "end_time": "2019-10-28T22:56:03.214574",
     "exception": false,
     "start_time": "2019-10-28T22:56:03.194133",
     "status": "completed"
    },
    "tags": []
   },
   "outputs": [],
   "source": [
    "building = ef.get_building()\n",
    "clear_outputs(building)\n",
    "inputs = [wwr(), Parameter(FieldSelector(class_name='Material',\n",
    "                                         object_name='Mass NonRes Wall Insulation',\n",
    "                                         field_name='Thickness'),\n",
    "                           RangeParameter(0.01, 0.99))\n",
    "         ]"
   ]
  },
  {
   "cell_type": "markdown",
   "metadata": {
    "papermill": {
     "duration": 0.007098,
     "end_time": "2019-10-28T22:56:03.230077",
     "exception": false,
     "start_time": "2019-10-28T22:56:03.222979",
     "status": "completed"
    },
    "tags": []
   },
   "source": [
    "Objectives and constraints can be specified in various ways.\n",
    "+ The most explicit is by calling the relevant constructor."
   ]
  },
  {
   "cell_type": "code",
   "execution_count": 3,
   "metadata": {
    "papermill": {
     "duration": 0.015227,
     "end_time": "2019-10-28T22:56:03.252623",
     "exception": false,
     "start_time": "2019-10-28T22:56:03.237396",
     "status": "completed"
    },
    "tags": []
   },
   "outputs": [
    {
     "data": {
      "text/plain": [
       "EPProblem(outputs=[MeterReader(class_name='Output:Meter', frequency='Hourly', func=<function sum_values at 0x7f06a0ffcf28>, key_name='Electricity:Facility')], minimize_outputs=[True], converters={'outputs': <class 'objectives.MeterReader'>, 'constraints': <class 'objectives.MeterReader'>})"
      ]
     },
     "execution_count": 3,
     "metadata": {},
     "output_type": "execute_result"
    }
   ],
   "source": [
    "objectives = [MeterReader(key_name='Electricity:Facility', class_name='Output:Meter', frequency='Hourly')]\n",
    "EPProblem(outputs=objectives)"
   ]
  },
  {
   "cell_type": "markdown",
   "metadata": {
    "papermill": {
     "duration": 0.008619,
     "end_time": "2019-10-28T22:56:03.270011",
     "exception": false,
     "start_time": "2019-10-28T22:56:03.261392",
     "status": "completed"
    },
    "tags": []
   },
   "source": [
    "+ The most concise is a list of the `key_names`.\n",
    "\n",
    "The constructor has defaults, so we can often omit `class_name` and `frequency`.  \n",
    "A list of key names will be automatically be converted by `EPProblem`.  \n",
    "Meters and variables that do not have a `frequency` specified will default to any frequency that is already used for that output, or if none is used yet then they will use Hourly."
   ]
  },
  {
   "cell_type": "code",
   "execution_count": 4,
   "metadata": {
    "papermill": {
     "duration": 0.015407,
     "end_time": "2019-10-28T22:56:03.295022",
     "exception": false,
     "start_time": "2019-10-28T22:56:03.279615",
     "status": "completed"
    },
    "tags": []
   },
   "outputs": [
    {
     "data": {
      "text/plain": [
       "EPProblem(outputs=[MeterReader(class_name='Output:Meter', func=<function sum_values at 0x7f06b435ef28>, key_name='Electricity:Facility')], minimize_outputs=[True], converters={'outputs': <class 'objectives.MeterReader'>, 'constraints': <class 'objectives.MeterReader'>})"
      ]
     },
     "execution_count": 4,
     "metadata": {},
     "output_type": "execute_result"
    }
   ],
   "source": [
    "objectives = ['Electricity:Facility']\n",
    "EPProblem(outputs=objectives)"
   ]
  },
  {
   "cell_type": "markdown",
   "metadata": {
    "papermill": {
     "duration": 0.007633,
     "end_time": "2019-10-28T22:56:03.310868",
     "exception": false,
     "start_time": "2019-10-28T22:56:03.303235",
     "status": "completed"
    },
    "tags": []
   },
   "source": [
    "+ Using `Problem`\n",
    "\n",
    "If we do not need the output-reading features of meters, we can use `Problem` instead of `EPProblem`, and they will be converted to `Objective` objects which act as placeholders.  \n",
    "`EPProblem` converts them to `Meter:Reader` objects.  \n",
    "Either of these conversions can be overriden using the converters argument.  "
   ]
  },
  {
   "cell_type": "code",
   "execution_count": 5,
   "metadata": {
    "papermill": {
     "duration": 0.015037,
     "end_time": "2019-10-28T22:56:03.333559",
     "exception": false,
     "start_time": "2019-10-28T22:56:03.318522",
     "status": "completed"
    },
    "tags": []
   },
   "outputs": [
    {
     "data": {
      "text/plain": [
       "Problem(outputs=[Objective(name='any'), Objective(name='names'), Objective(name='work')], minimize_outputs=[True, True, True], converters={'outputs': <class 'IO_Objects.Objective'>, 'constraints': <class 'IO_Objects.Objective'>})"
      ]
     },
     "execution_count": 5,
     "metadata": {},
     "output_type": "execute_result"
    }
   ],
   "source": [
    "objectives = ['any', 'names', 'work']\n",
    "Problem(outputs=objectives)"
   ]
  },
  {
   "cell_type": "markdown",
   "metadata": {
    "papermill": {
     "duration": 0.007845,
     "end_time": "2019-10-28T22:56:03.349707",
     "exception": false,
     "start_time": "2019-10-28T22:56:03.341862",
     "status": "completed"
    },
    "tags": []
   },
   "source": [
    "+ Specifying the aggregation function\n",
    "\n",
    "The `func` argument is used define how to aggregate the individual time series results.  \n",
    "By default, all measurements are summed.  \n",
    "If we wanted to instead minimize the variance, we can write our own aggrgation function.  \n",
    "Here we define two electricity objectives, the first summing the hourly values and the second taking the variance."
   ]
  },
  {
   "cell_type": "code",
   "execution_count": 6,
   "metadata": {
    "papermill": {
     "duration": 0.013545,
     "end_time": "2019-10-28T22:56:03.371315",
     "exception": false,
     "start_time": "2019-10-28T22:56:03.357770",
     "status": "completed"
    },
    "tags": []
   },
   "outputs": [],
   "source": [
    "def variance(result):\n",
    "    return result.data['Value'].var()\n",
    "\n",
    "objectives = [MeterReader('Electricity:Facility', name='Electricity Usage'),\n",
    "              MeterReader('Electricity:Facility',func=variance, name='Electricity Variance')\n",
    "             ]"
   ]
  },
  {
   "cell_type": "markdown",
   "metadata": {
    "papermill": {
     "duration": 0.009115,
     "end_time": "2019-10-28T22:56:03.390060",
     "exception": false,
     "start_time": "2019-10-28T22:56:03.380945",
     "status": "completed"
    },
    "tags": []
   },
   "source": [
    "When we want to specify the direction of optimisation, we can use `minmize_outputs` (defaults to `true` for all objectives).  \n",
    "Here we say we want to search for a design that has:\n",
    "+ low electricty use (minimize objective 1 defined above)\n",
    "+ high variability of electricity use (maximize objective 2 defined above)\n",
    "+ less than 800 kgCO2 (constraint)"
   ]
  },
  {
   "cell_type": "code",
   "execution_count": 7,
   "metadata": {
    "papermill": {
     "duration": 0.014822,
     "end_time": "2019-10-28T22:56:03.414981",
     "exception": false,
     "start_time": "2019-10-28T22:56:03.400159",
     "status": "completed"
    },
    "tags": []
   },
   "outputs": [],
   "source": [
    "evaluator = EvaluatorEP(EPProblem(inputs=inputs,\n",
    "                                  outputs=objectives, minimize_outputs=[True, True],\n",
    "                                  constraints=['CO2:Facility'], constraint_bounds=['<=800']),\n",
    "                                  building, out_dir='outputdir')"
   ]
  },
  {
   "cell_type": "code",
   "execution_count": 8,
   "metadata": {
    "papermill": {
     "duration": 12.116569,
     "end_time": "2019-10-28T22:56:15.539809",
     "exception": false,
     "start_time": "2019-10-28T22:56:03.423240",
     "status": "completed"
    },
    "tags": []
   },
   "outputs": [
    {
     "data": {
      "text/html": [
       "<div>\n",
       "<style scoped>\n",
       "    .dataframe tbody tr th:only-of-type {\n",
       "        vertical-align: middle;\n",
       "    }\n",
       "\n",
       "    .dataframe tbody tr th {\n",
       "        vertical-align: top;\n",
       "    }\n",
       "\n",
       "    .dataframe thead th {\n",
       "        text-align: right;\n",
       "    }\n",
       "</style>\n",
       "<table border=\"1\" class=\"dataframe\">\n",
       "  <thead>\n",
       "    <tr style=\"text-align: right;\">\n",
       "      <th></th>\n",
       "      <th>Window to Wall Ratio</th>\n",
       "      <th>Thickness</th>\n",
       "      <th>Electricity Usage</th>\n",
       "      <th>Electricity Variance</th>\n",
       "      <th>CO2:Facility</th>\n",
       "      <th>violation</th>\n",
       "      <th>pareto-optimal</th>\n",
       "    </tr>\n",
       "  </thead>\n",
       "  <tbody>\n",
       "    <tr>\n",
       "      <td>0</td>\n",
       "      <td>0.258835</td>\n",
       "      <td>0.329794</td>\n",
       "      <td>1.759326e+09</td>\n",
       "      <td>7.059078e+14</td>\n",
       "      <td>695.213518</td>\n",
       "      <td>0</td>\n",
       "      <td>False</td>\n",
       "    </tr>\n",
       "    <tr>\n",
       "      <td>1</td>\n",
       "      <td>0.775190</td>\n",
       "      <td>0.498031</td>\n",
       "      <td>1.753973e+09</td>\n",
       "      <td>7.038401e+14</td>\n",
       "      <td>690.079221</td>\n",
       "      <td>0</td>\n",
       "      <td>False</td>\n",
       "    </tr>\n",
       "    <tr>\n",
       "      <td>2</td>\n",
       "      <td>0.630642</td>\n",
       "      <td>0.591687</td>\n",
       "      <td>1.751086e+09</td>\n",
       "      <td>7.022339e+14</td>\n",
       "      <td>688.330490</td>\n",
       "      <td>0</td>\n",
       "      <td>False</td>\n",
       "    </tr>\n",
       "    <tr>\n",
       "      <td>3</td>\n",
       "      <td>0.321375</td>\n",
       "      <td>0.607029</td>\n",
       "      <td>1.751668e+09</td>\n",
       "      <td>7.028930e+14</td>\n",
       "      <td>688.429672</td>\n",
       "      <td>0</td>\n",
       "      <td>False</td>\n",
       "    </tr>\n",
       "    <tr>\n",
       "      <td>4</td>\n",
       "      <td>0.800154</td>\n",
       "      <td>0.924937</td>\n",
       "      <td>1.745048e+09</td>\n",
       "      <td>7.002741e+14</td>\n",
       "      <td>685.014693</td>\n",
       "      <td>0</td>\n",
       "      <td>True</td>\n",
       "    </tr>\n",
       "    <tr>\n",
       "      <td>5</td>\n",
       "      <td>0.163903</td>\n",
       "      <td>0.229399</td>\n",
       "      <td>1.765658e+09</td>\n",
       "      <td>7.091754e+14</td>\n",
       "      <td>698.700024</td>\n",
       "      <td>0</td>\n",
       "      <td>False</td>\n",
       "    </tr>\n",
       "    <tr>\n",
       "      <td>6</td>\n",
       "      <td>0.389494</td>\n",
       "      <td>0.461003</td>\n",
       "      <td>1.754765e+09</td>\n",
       "      <td>7.039509e+14</td>\n",
       "      <td>690.937572</td>\n",
       "      <td>0</td>\n",
       "      <td>False</td>\n",
       "    </tr>\n",
       "    <tr>\n",
       "      <td>7</td>\n",
       "      <td>0.729513</td>\n",
       "      <td>0.827724</td>\n",
       "      <td>1.745274e+09</td>\n",
       "      <td>6.994986e+14</td>\n",
       "      <td>685.287279</td>\n",
       "      <td>0</td>\n",
       "      <td>True</td>\n",
       "    </tr>\n",
       "    <tr>\n",
       "      <td>8</td>\n",
       "      <td>0.742133</td>\n",
       "      <td>0.174678</td>\n",
       "      <td>1.770775e+09</td>\n",
       "      <td>7.116715e+14</td>\n",
       "      <td>703.823694</td>\n",
       "      <td>0</td>\n",
       "      <td>False</td>\n",
       "    </tr>\n",
       "    <tr>\n",
       "      <td>9</td>\n",
       "      <td>0.016692</td>\n",
       "      <td>0.266514</td>\n",
       "      <td>1.763173e+09</td>\n",
       "      <td>7.078636e+14</td>\n",
       "      <td>696.695507</td>\n",
       "      <td>0</td>\n",
       "      <td>False</td>\n",
       "    </tr>\n",
       "  </tbody>\n",
       "</table>\n",
       "</div>"
      ],
      "text/plain": [
       "   Window to Wall Ratio  Thickness  Electricity Usage  Electricity Variance  \\\n",
       "0              0.258835   0.329794       1.759326e+09          7.059078e+14   \n",
       "1              0.775190   0.498031       1.753973e+09          7.038401e+14   \n",
       "2              0.630642   0.591687       1.751086e+09          7.022339e+14   \n",
       "3              0.321375   0.607029       1.751668e+09          7.028930e+14   \n",
       "4              0.800154   0.924937       1.745048e+09          7.002741e+14   \n",
       "5              0.163903   0.229399       1.765658e+09          7.091754e+14   \n",
       "6              0.389494   0.461003       1.754765e+09          7.039509e+14   \n",
       "7              0.729513   0.827724       1.745274e+09          6.994986e+14   \n",
       "8              0.742133   0.174678       1.770775e+09          7.116715e+14   \n",
       "9              0.016692   0.266514       1.763173e+09          7.078636e+14   \n",
       "\n",
       "   CO2:Facility  violation  pareto-optimal  \n",
       "0    695.213518          0           False  \n",
       "1    690.079221          0           False  \n",
       "2    688.330490          0           False  \n",
       "3    688.429672          0           False  \n",
       "4    685.014693          0            True  \n",
       "5    698.700024          0           False  \n",
       "6    690.937572          0           False  \n",
       "7    685.287279          0            True  \n",
       "8    703.823694          0           False  \n",
       "9    696.695507          0           False  "
      ]
     },
     "execution_count": 8,
     "metadata": {},
     "output_type": "execute_result"
    }
   ],
   "source": [
    "# this cell runs the optimisation\n",
    "results1 = NSGAII(evaluator, evaluations=1, population_size=10)\n",
    "results1"
   ]
  },
  {
   "cell_type": "code",
   "execution_count": 9,
   "metadata": {
    "papermill": {
     "duration": 0.042463,
     "end_time": "2019-10-28T22:56:15.592515",
     "exception": false,
     "start_time": "2019-10-28T22:56:15.550052",
     "status": "completed"
    },
    "tags": []
   },
   "outputs": [
    {
     "data": {
      "text/html": [
       "<div>\n",
       "<style scoped>\n",
       "    .dataframe tbody tr th:only-of-type {\n",
       "        vertical-align: middle;\n",
       "    }\n",
       "\n",
       "    .dataframe tbody tr th {\n",
       "        vertical-align: top;\n",
       "    }\n",
       "\n",
       "    .dataframe thead th {\n",
       "        text-align: right;\n",
       "    }\n",
       "</style>\n",
       "<table border=\"1\" class=\"dataframe\">\n",
       "  <thead>\n",
       "    <tr style=\"text-align: right;\">\n",
       "      <th></th>\n",
       "      <th>Window to Wall Ratio</th>\n",
       "      <th>Thickness</th>\n",
       "      <th>Electricity Usage</th>\n",
       "      <th>Electricity Variance</th>\n",
       "      <th>CO2:Facility</th>\n",
       "      <th>violation</th>\n",
       "    </tr>\n",
       "  </thead>\n",
       "  <tbody>\n",
       "    <tr>\n",
       "      <td>count</td>\n",
       "      <td>10.000000</td>\n",
       "      <td>10.000000</td>\n",
       "      <td>1.000000e+01</td>\n",
       "      <td>1.000000e+01</td>\n",
       "      <td>10.000000</td>\n",
       "      <td>10.0</td>\n",
       "    </tr>\n",
       "    <tr>\n",
       "      <td>mean</td>\n",
       "      <td>0.482793</td>\n",
       "      <td>0.491079</td>\n",
       "      <td>1.756075e+09</td>\n",
       "      <td>7.047309e+14</td>\n",
       "      <td>692.251167</td>\n",
       "      <td>0.0</td>\n",
       "    </tr>\n",
       "    <tr>\n",
       "      <td>std</td>\n",
       "      <td>0.286756</td>\n",
       "      <td>0.251906</td>\n",
       "      <td>8.547875e+06</td>\n",
       "      <td>3.906972e+12</td>\n",
       "      <td>6.158278</td>\n",
       "      <td>0.0</td>\n",
       "    </tr>\n",
       "    <tr>\n",
       "      <td>min</td>\n",
       "      <td>0.016692</td>\n",
       "      <td>0.174678</td>\n",
       "      <td>1.745048e+09</td>\n",
       "      <td>6.994986e+14</td>\n",
       "      <td>685.014693</td>\n",
       "      <td>0.0</td>\n",
       "    </tr>\n",
       "    <tr>\n",
       "      <td>25%</td>\n",
       "      <td>0.274470</td>\n",
       "      <td>0.282334</td>\n",
       "      <td>1.751231e+09</td>\n",
       "      <td>7.023986e+14</td>\n",
       "      <td>688.355285</td>\n",
       "      <td>0.0</td>\n",
       "    </tr>\n",
       "    <tr>\n",
       "      <td>50%</td>\n",
       "      <td>0.510068</td>\n",
       "      <td>0.479517</td>\n",
       "      <td>1.754369e+09</td>\n",
       "      <td>7.038955e+14</td>\n",
       "      <td>690.508397</td>\n",
       "      <td>0.0</td>\n",
       "    </tr>\n",
       "    <tr>\n",
       "      <td>75%</td>\n",
       "      <td>0.738978</td>\n",
       "      <td>0.603193</td>\n",
       "      <td>1.762211e+09</td>\n",
       "      <td>7.073746e+14</td>\n",
       "      <td>696.325010</td>\n",
       "      <td>0.0</td>\n",
       "    </tr>\n",
       "    <tr>\n",
       "      <td>max</td>\n",
       "      <td>0.800154</td>\n",
       "      <td>0.924937</td>\n",
       "      <td>1.770775e+09</td>\n",
       "      <td>7.116715e+14</td>\n",
       "      <td>703.823694</td>\n",
       "      <td>0.0</td>\n",
       "    </tr>\n",
       "  </tbody>\n",
       "</table>\n",
       "</div>"
      ],
      "text/plain": [
       "       Window to Wall Ratio  Thickness  Electricity Usage  \\\n",
       "count             10.000000  10.000000       1.000000e+01   \n",
       "mean               0.482793   0.491079       1.756075e+09   \n",
       "std                0.286756   0.251906       8.547875e+06   \n",
       "min                0.016692   0.174678       1.745048e+09   \n",
       "25%                0.274470   0.282334       1.751231e+09   \n",
       "50%                0.510068   0.479517       1.754369e+09   \n",
       "75%                0.738978   0.603193       1.762211e+09   \n",
       "max                0.800154   0.924937       1.770775e+09   \n",
       "\n",
       "       Electricity Variance  CO2:Facility  violation  \n",
       "count          1.000000e+01     10.000000       10.0  \n",
       "mean           7.047309e+14    692.251167        0.0  \n",
       "std            3.906972e+12      6.158278        0.0  \n",
       "min            6.994986e+14    685.014693        0.0  \n",
       "25%            7.023986e+14    688.355285        0.0  \n",
       "50%            7.038955e+14    690.508397        0.0  \n",
       "75%            7.073746e+14    696.325010        0.0  \n",
       "max            7.116715e+14    703.823694        0.0  "
      ]
     },
     "execution_count": 9,
     "metadata": {},
     "output_type": "execute_result"
    }
   ],
   "source": [
    "results1.describe()"
   ]
  },
  {
   "cell_type": "code",
   "execution_count": 10,
   "metadata": {
    "papermill": {
     "duration": 12.845066,
     "end_time": "2019-10-28T22:56:28.448046",
     "exception": false,
     "start_time": "2019-10-28T22:56:15.602980",
     "status": "completed"
    },
    "tags": []
   },
   "outputs": [
    {
     "data": {
      "text/html": [
       "<div>\n",
       "<style scoped>\n",
       "    .dataframe tbody tr th:only-of-type {\n",
       "        vertical-align: middle;\n",
       "    }\n",
       "\n",
       "    .dataframe tbody tr th {\n",
       "        vertical-align: top;\n",
       "    }\n",
       "\n",
       "    .dataframe thead th {\n",
       "        text-align: right;\n",
       "    }\n",
       "</style>\n",
       "<table border=\"1\" class=\"dataframe\">\n",
       "  <thead>\n",
       "    <tr style=\"text-align: right;\">\n",
       "      <th></th>\n",
       "      <th>Window to Wall Ratio</th>\n",
       "      <th>Thickness</th>\n",
       "      <th>Electricity Usage</th>\n",
       "      <th>Electricity Variance</th>\n",
       "      <th>CO2:Facility</th>\n",
       "      <th>violation</th>\n",
       "      <th>pareto-optimal</th>\n",
       "    </tr>\n",
       "  </thead>\n",
       "  <tbody>\n",
       "    <tr>\n",
       "      <td>0</td>\n",
       "      <td>0.390209</td>\n",
       "      <td>0.538738</td>\n",
       "      <td>1.753104e+09</td>\n",
       "      <td>7.033373e+14</td>\n",
       "      <td>689.441045</td>\n",
       "      <td>0</td>\n",
       "      <td>False</td>\n",
       "    </tr>\n",
       "    <tr>\n",
       "      <td>1</td>\n",
       "      <td>0.876055</td>\n",
       "      <td>0.398167</td>\n",
       "      <td>1.757236e+09</td>\n",
       "      <td>7.050660e+14</td>\n",
       "      <td>692.248612</td>\n",
       "      <td>0</td>\n",
       "      <td>False</td>\n",
       "    </tr>\n",
       "    <tr>\n",
       "      <td>2</td>\n",
       "      <td>0.339757</td>\n",
       "      <td>0.136475</td>\n",
       "      <td>1.774891e+09</td>\n",
       "      <td>7.141222e+14</td>\n",
       "      <td>707.556386</td>\n",
       "      <td>0</td>\n",
       "      <td>False</td>\n",
       "    </tr>\n",
       "    <tr>\n",
       "      <td>3</td>\n",
       "      <td>0.037267</td>\n",
       "      <td>0.177210</td>\n",
       "      <td>1.770534e+09</td>\n",
       "      <td>7.115455e+14</td>\n",
       "      <td>703.576742</td>\n",
       "      <td>0</td>\n",
       "      <td>False</td>\n",
       "    </tr>\n",
       "    <tr>\n",
       "      <td>4</td>\n",
       "      <td>0.113247</td>\n",
       "      <td>0.560691</td>\n",
       "      <td>1.751556e+09</td>\n",
       "      <td>7.022946e+14</td>\n",
       "      <td>689.489753</td>\n",
       "      <td>0</td>\n",
       "      <td>False</td>\n",
       "    </tr>\n",
       "    <tr>\n",
       "      <td>5</td>\n",
       "      <td>0.766694</td>\n",
       "      <td>0.783650</td>\n",
       "      <td>1.746680e+09</td>\n",
       "      <td>7.004682e+14</td>\n",
       "      <td>686.122813</td>\n",
       "      <td>0</td>\n",
       "      <td>False</td>\n",
       "    </tr>\n",
       "    <tr>\n",
       "      <td>6</td>\n",
       "      <td>0.587240</td>\n",
       "      <td>0.892875</td>\n",
       "      <td>1.743273e+09</td>\n",
       "      <td>6.987372e+14</td>\n",
       "      <td>684.359600</td>\n",
       "      <td>0</td>\n",
       "      <td>True</td>\n",
       "    </tr>\n",
       "    <tr>\n",
       "      <td>7</td>\n",
       "      <td>0.298284</td>\n",
       "      <td>0.707602</td>\n",
       "      <td>1.748879e+09</td>\n",
       "      <td>7.021818e+14</td>\n",
       "      <td>687.583670</td>\n",
       "      <td>0</td>\n",
       "      <td>False</td>\n",
       "    </tr>\n",
       "    <tr>\n",
       "      <td>8</td>\n",
       "      <td>0.235723</td>\n",
       "      <td>0.413703</td>\n",
       "      <td>1.756937e+09</td>\n",
       "      <td>7.048862e+14</td>\n",
       "      <td>691.947934</td>\n",
       "      <td>0</td>\n",
       "      <td>False</td>\n",
       "    </tr>\n",
       "    <tr>\n",
       "      <td>9</td>\n",
       "      <td>0.061911</td>\n",
       "      <td>0.046747</td>\n",
       "      <td>1.797665e+09</td>\n",
       "      <td>7.307813e+14</td>\n",
       "      <td>735.090515</td>\n",
       "      <td>0</td>\n",
       "      <td>False</td>\n",
       "    </tr>\n",
       "  </tbody>\n",
       "</table>\n",
       "</div>"
      ],
      "text/plain": [
       "   Window to Wall Ratio  Thickness  Electricity Usage  Electricity Variance  \\\n",
       "0              0.390209   0.538738       1.753104e+09          7.033373e+14   \n",
       "1              0.876055   0.398167       1.757236e+09          7.050660e+14   \n",
       "2              0.339757   0.136475       1.774891e+09          7.141222e+14   \n",
       "3              0.037267   0.177210       1.770534e+09          7.115455e+14   \n",
       "4              0.113247   0.560691       1.751556e+09          7.022946e+14   \n",
       "5              0.766694   0.783650       1.746680e+09          7.004682e+14   \n",
       "6              0.587240   0.892875       1.743273e+09          6.987372e+14   \n",
       "7              0.298284   0.707602       1.748879e+09          7.021818e+14   \n",
       "8              0.235723   0.413703       1.756937e+09          7.048862e+14   \n",
       "9              0.061911   0.046747       1.797665e+09          7.307813e+14   \n",
       "\n",
       "   CO2:Facility  violation  pareto-optimal  \n",
       "0    689.441045          0           False  \n",
       "1    692.248612          0           False  \n",
       "2    707.556386          0           False  \n",
       "3    703.576742          0           False  \n",
       "4    689.489753          0           False  \n",
       "5    686.122813          0           False  \n",
       "6    684.359600          0            True  \n",
       "7    687.583670          0           False  \n",
       "8    691.947934          0           False  \n",
       "9    735.090515          0           False  "
      ]
     },
     "execution_count": 10,
     "metadata": {},
     "output_type": "execute_result"
    }
   ],
   "source": [
    "# this cell runs the optimisation\n",
    "results2 = NSGAII(evaluator, evaluations=10, population_size=10)\n",
    "results2"
   ]
  },
  {
   "cell_type": "code",
   "execution_count": 11,
   "metadata": {
    "papermill": {
     "duration": 0.038189,
     "end_time": "2019-10-28T22:56:28.496490",
     "exception": false,
     "start_time": "2019-10-28T22:56:28.458301",
     "status": "completed"
    },
    "tags": []
   },
   "outputs": [
    {
     "data": {
      "text/html": [
       "<div>\n",
       "<style scoped>\n",
       "    .dataframe tbody tr th:only-of-type {\n",
       "        vertical-align: middle;\n",
       "    }\n",
       "\n",
       "    .dataframe tbody tr th {\n",
       "        vertical-align: top;\n",
       "    }\n",
       "\n",
       "    .dataframe thead th {\n",
       "        text-align: right;\n",
       "    }\n",
       "</style>\n",
       "<table border=\"1\" class=\"dataframe\">\n",
       "  <thead>\n",
       "    <tr style=\"text-align: right;\">\n",
       "      <th></th>\n",
       "      <th>Window to Wall Ratio</th>\n",
       "      <th>Thickness</th>\n",
       "      <th>Electricity Usage</th>\n",
       "      <th>Electricity Variance</th>\n",
       "      <th>CO2:Facility</th>\n",
       "      <th>violation</th>\n",
       "    </tr>\n",
       "  </thead>\n",
       "  <tbody>\n",
       "    <tr>\n",
       "      <td>count</td>\n",
       "      <td>10.000000</td>\n",
       "      <td>10.000000</td>\n",
       "      <td>1.000000e+01</td>\n",
       "      <td>1.000000e+01</td>\n",
       "      <td>10.000000</td>\n",
       "      <td>10.0</td>\n",
       "    </tr>\n",
       "    <tr>\n",
       "      <td>mean</td>\n",
       "      <td>0.370639</td>\n",
       "      <td>0.465586</td>\n",
       "      <td>1.760076e+09</td>\n",
       "      <td>7.073420e+14</td>\n",
       "      <td>696.741707</td>\n",
       "      <td>0.0</td>\n",
       "    </tr>\n",
       "    <tr>\n",
       "      <td>std</td>\n",
       "      <td>0.289961</td>\n",
       "      <td>0.284965</td>\n",
       "      <td>1.655982e+07</td>\n",
       "      <td>9.508388e+12</td>\n",
       "      <td>15.395930</td>\n",
       "      <td>0.0</td>\n",
       "    </tr>\n",
       "    <tr>\n",
       "      <td>min</td>\n",
       "      <td>0.037267</td>\n",
       "      <td>0.046747</td>\n",
       "      <td>1.743273e+09</td>\n",
       "      <td>6.987372e+14</td>\n",
       "      <td>684.359600</td>\n",
       "      <td>0.0</td>\n",
       "    </tr>\n",
       "    <tr>\n",
       "      <td>25%</td>\n",
       "      <td>0.143866</td>\n",
       "      <td>0.232449</td>\n",
       "      <td>1.749548e+09</td>\n",
       "      <td>7.022100e+14</td>\n",
       "      <td>688.048013</td>\n",
       "      <td>0.0</td>\n",
       "    </tr>\n",
       "    <tr>\n",
       "      <td>50%</td>\n",
       "      <td>0.319021</td>\n",
       "      <td>0.476221</td>\n",
       "      <td>1.755021e+09</td>\n",
       "      <td>7.041118e+14</td>\n",
       "      <td>690.718843</td>\n",
       "      <td>0.0</td>\n",
       "    </tr>\n",
       "    <tr>\n",
       "      <td>75%</td>\n",
       "      <td>0.537982</td>\n",
       "      <td>0.670875</td>\n",
       "      <td>1.767210e+09</td>\n",
       "      <td>7.099256e+14</td>\n",
       "      <td>700.744709</td>\n",
       "      <td>0.0</td>\n",
       "    </tr>\n",
       "    <tr>\n",
       "      <td>max</td>\n",
       "      <td>0.876055</td>\n",
       "      <td>0.892875</td>\n",
       "      <td>1.797665e+09</td>\n",
       "      <td>7.307813e+14</td>\n",
       "      <td>735.090515</td>\n",
       "      <td>0.0</td>\n",
       "    </tr>\n",
       "  </tbody>\n",
       "</table>\n",
       "</div>"
      ],
      "text/plain": [
       "       Window to Wall Ratio  Thickness  Electricity Usage  \\\n",
       "count             10.000000  10.000000       1.000000e+01   \n",
       "mean               0.370639   0.465586       1.760076e+09   \n",
       "std                0.289961   0.284965       1.655982e+07   \n",
       "min                0.037267   0.046747       1.743273e+09   \n",
       "25%                0.143866   0.232449       1.749548e+09   \n",
       "50%                0.319021   0.476221       1.755021e+09   \n",
       "75%                0.537982   0.670875       1.767210e+09   \n",
       "max                0.876055   0.892875       1.797665e+09   \n",
       "\n",
       "       Electricity Variance  CO2:Facility  violation  \n",
       "count          1.000000e+01     10.000000       10.0  \n",
       "mean           7.073420e+14    696.741707        0.0  \n",
       "std            9.508388e+12     15.395930        0.0  \n",
       "min            6.987372e+14    684.359600        0.0  \n",
       "25%            7.022100e+14    688.048013        0.0  \n",
       "50%            7.041118e+14    690.718843        0.0  \n",
       "75%            7.099256e+14    700.744709        0.0  \n",
       "max            7.307813e+14    735.090515        0.0  "
      ]
     },
     "execution_count": 11,
     "metadata": {},
     "output_type": "execute_result"
    }
   ],
   "source": [
    "results2.describe()"
   ]
  },
  {
   "cell_type": "markdown",
   "metadata": {
    "papermill": {
     "duration": 0.009172,
     "end_time": "2019-10-28T22:56:28.515233",
     "exception": false,
     "start_time": "2019-10-28T22:56:28.506061",
     "status": "completed"
    },
    "tags": []
   },
   "source": [
    "## Get available objectives\n",
    "\n",
    "The user can use print_available_outputs to print out the available objectives for this building"
   ]
  },
  {
   "cell_type": "code",
   "execution_count": 12,
   "metadata": {},
   "outputs": [
    {
     "name": "stdout",
     "output_type": "stream",
     "text": [
      "['Electricity:Facility', 'Monthly']\n",
      "['Gas:Facility', 'Monthly']\n",
      "['CO2:Facility', 'Monthly']\n",
      "['CO:Facility', 'Monthly']\n",
      "['CH4:Facility', 'Monthly']\n",
      "['NOx:Facility', 'Monthly']\n",
      "['N2O:Facility', 'Monthly']\n",
      "['SO2:Facility', 'Monthly']\n",
      "['PM:Facility', 'Monthly']\n",
      "['PM10:Facility', 'Monthly']\n",
      "['PM2.5:Facility', 'Monthly']\n",
      "['NH3:Facility', 'Monthly']\n",
      "['NMVOC:Facility', 'Monthly']\n",
      "['Hg:Facility', 'Monthly']\n",
      "['Pb:Facility', 'Monthly']\n",
      "['WaterEnvironmentalFactors:Facility', 'Monthly']\n",
      "['Nuclear High:Facility', 'Monthly']\n",
      "['Nuclear Low:Facility', 'Monthly']\n",
      "['Carbon Equivalent:Facility', 'Monthly']\n"
     ]
    }
   ],
   "source": [
    "from besos.eplus_funcs import print_available_outputs\n",
    "\n",
    "building = ef.get_building(mode='idf')\n",
    "print_available_outputs(building, version='9.0.1', name='facility', frequency='monthly')"
   ]
  }
 ],
 "metadata": {
  "jupytext": {
   "formats": "ipynb,py:light"
  },
  "kernelspec": {
   "display_name": "Python 3",
   "language": "python",
   "name": "python3"
  },
  "language_info": {
   "codemirror_mode": {
    "name": "ipython",
    "version": 3
   },
   "file_extension": ".py",
   "mimetype": "text/x-python",
   "name": "python",
   "nbconvert_exporter": "python",
   "pygments_lexer": "ipython3",
   "version": "3.7.4"
  },
  "papermill": {
   "duration": 28.716129,
   "end_time": "2019-10-28T22:56:29.033267",
   "environment_variables": {},
   "exception": null,
   "input_path": "./Optimization/ObjectivesAndConstraints.ipynb",
   "output_path": "./Optimization/ObjectivesAndConstraints.ipynb",
   "parameters": {},
   "start_time": "2019-10-28T22:56:00.317138",
   "version": "1.2.0"
  }
 },
 "nbformat": 4,
 "nbformat_minor": 4
}
