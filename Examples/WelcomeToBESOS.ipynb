{
 "cells": [
  {
   "cell_type": "markdown",
   "metadata": {
    "papermill": {
     "duration": 0.006869,
     "end_time": "2019-10-28T22:48:06.927857",
     "exception": false,
     "start_time": "2019-10-28T22:48:06.920988",
     "status": "completed"
    },
    "tags": []
   },
   "source": [
    "# Welcome to BESOS"
   ]
  },
  {
   "cell_type": "markdown",
   "metadata": {
    "papermill": {
     "duration": 0.003005,
     "end_time": "2019-10-28T22:48:06.934915",
     "exception": false,
     "start_time": "2019-10-28T22:48:06.931910",
     "status": "completed"
    },
    "tags": []
   },
   "source": [
    "This is the landing page of the Building and Energy Simulation, Optimization and Surrogate-modelling platform. \n",
    "\n",
    "We hope you find it as useful as we do."
   ]
  },
  {
   "cell_type": "markdown",
   "metadata": {
    "papermill": {
     "duration": 0.002944,
     "end_time": "2019-10-28T22:48:06.943430",
     "exception": false,
     "start_time": "2019-10-28T22:48:06.940486",
     "status": "completed"
    },
    "tags": []
   },
   "source": [
    "## Getting started"
   ]
  },
  {
   "cell_type": "markdown",
   "metadata": {
    "papermill": {
     "duration": 0.002605,
     "end_time": "2019-10-28T22:48:06.948883",
     "exception": false,
     "start_time": "2019-10-28T22:48:06.946278",
     "status": "completed"
    },
    "tags": []
   },
   "source": [
    "A good place to get a quick tour of the power of BESOS is the [Interactive Surrogate-modelling](SurrogateModelling/InteractiveSurrogate.ipynb) example.\n",
    "\n",
    "If you're new to the following things, you might want to look at the associated tutorials:\n",
    "- [Jupyter Notebooks](https://www.dataquest.io/blog/jupyter-notebook-tutorial/)\n",
    "- [Python programming](https://docs.python.org/3/tutorial/introduction.html#)\n",
    "- [Pandas Dataframes](https://www.learnpython.org/en/Pandas_Basics)"
   ]
  },
  {
   "cell_type": "markdown",
   "metadata": {
    "papermill": {
     "duration": 0.002603,
     "end_time": "2019-10-28T22:48:06.954186",
     "exception": false,
     "start_time": "2019-10-28T22:48:06.951583",
     "status": "completed"
    },
    "tags": []
   },
   "source": [
    "### Editing the Examples\n",
    "BESOS comes with dozens of examples - have a look through the [Examples Overview](ExamplesOverview.ipynb) to get an idea of what it can do.\n",
    "\n",
    "You can look through the examples, read the notebooks, play around with them and run them.\n",
    "\n",
    "But the folder is read-only, so if you want to edit one, you have to click `File, Save Notebook As...`, then get rid of `Examples/` in the file path."
   ]
  },
  {
   "cell_type": "markdown",
   "metadata": {
    "papermill": {
     "duration": 0.003176,
     "end_time": "2019-10-28T22:48:06.961108",
     "exception": false,
     "start_time": "2019-10-28T22:48:06.957932",
     "status": "completed"
    },
    "tags": []
   },
   "source": [
    "### Copying the Examples directory\n",
    "\n",
    "Another way to do this is to make a copy of the whole directory.\n",
    "\n",
    "Click on the cell below, then click the play symbol at the top of this pane to run it.\n",
    "\n",
    "This will copy the Examples folder to MyExamples, where you'll be able to edit them."
   ]
  },
  {
   "cell_type": "code",
   "execution_count": 1,
   "metadata": {
    "papermill": {
     "duration": 0.00835,
     "end_time": "2019-10-28T22:48:06.972282",
     "exception": false,
     "start_time": "2019-10-28T22:48:06.963932",
     "status": "completed"
    },
    "tags": []
   },
   "outputs": [],
   "source": [
    "import shutil\n",
    "import os\n",
    "if not os.path.isdir('../MyExamples'):\n",
    "    shutil.copytree('../Examples', '../MyExamples')"
   ]
  }
 ],
 "metadata": {
  "kernelspec": {
   "display_name": "Python 3",
   "language": "python",
   "name": "python3"
  },
  "language_info": {
   "codemirror_mode": {
    "name": "ipython",
    "version": 3
   },
   "file_extension": ".py",
   "mimetype": "text/x-python",
   "name": "python",
   "nbconvert_exporter": "python",
   "pygments_lexer": "ipython3",
   "version": "3.6.4"
  },
  "papermill": {
   "duration": 0.862334,
   "end_time": "2019-10-28T22:48:07.181363",
   "environment_variables": {},
   "exception": null,
   "input_path": "./WelcomeToBESOS.ipynb",
   "output_path": "./WelcomeToBESOS.ipynb",
   "parameters": {},
   "start_time": "2019-10-28T22:48:06.319029",
   "version": "1.2.0"
  }
 },
 "nbformat": 4,
 "nbformat_minor": 4
}