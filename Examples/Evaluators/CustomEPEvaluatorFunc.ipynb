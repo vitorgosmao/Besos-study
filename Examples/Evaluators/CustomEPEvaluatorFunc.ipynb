{
 "cells": [
  {
   "cell_type": "markdown",
   "metadata": {
    "papermill": {
     "duration": 0.009832,
     "end_time": "2019-10-28T22:50:45.858299",
     "exception": false,
     "start_time": "2019-10-28T22:50:45.848467",
     "status": "completed"
    },
    "tags": []
   },
   "source": [
    "# Custom EnergyPlus Evaluator functions\n",
    "This notebook shows how to write a custom function that gets applied to the EnergyPlus outputs."
   ]
  },
  {
   "cell_type": "code",
   "execution_count": 1,
   "metadata": {
    "papermill": {
     "duration": 1.073601,
     "end_time": "2019-10-28T22:50:46.943564",
     "exception": false,
     "start_time": "2019-10-28T22:50:45.869963",
     "status": "completed"
    },
    "tags": []
   },
   "outputs": [],
   "source": [
    "import pandas as pd\n",
    "import numpy as np\n",
    "\n",
    "from besos.evaluator import EvaluatorEP\n",
    "from besos.problem import EPProblem\n",
    "from besos import eppy_funcs as ef\n",
    "from besos.parameters import RangeParameter, CategoryParameter, Parameter, FieldSelector\n",
    "from besos.objectives import MeterReader, time_series_values"
   ]
  },
  {
   "cell_type": "markdown",
   "metadata": {
    "papermill": {
     "duration": 0.003859,
     "end_time": "2019-10-28T22:50:46.952324",
     "exception": false,
     "start_time": "2019-10-28T22:50:46.948465",
     "status": "completed"
    },
    "tags": []
   },
   "source": [
    "### Set up an EnergyPlus Evaluator\n",
    "Here is a standard EnergyPlus Evaluator for editing the lighting power density for the default building and getting the electricity demand time series.  \n",
    "By default, we get the sum of the variable we specify."
   ]
  },
  {
   "cell_type": "code",
   "execution_count": 2,
   "metadata": {
    "papermill": {
     "duration": 1.468574,
     "end_time": "2019-10-28T22:50:48.426374",
     "exception": false,
     "start_time": "2019-10-28T22:50:46.957800",
     "status": "completed"
    },
    "tags": []
   },
   "outputs": [
    {
     "data": {
      "text/plain": [
       "(1672453961.7713666,)"
      ]
     },
     "execution_count": 2,
     "metadata": {},
     "output_type": "execute_result"
    }
   ],
   "source": [
    "building = ef.get_building()\n",
    "EPparameters = [Parameter(FieldSelector('Lights', '*', 'Watts per Zone Floor Area'),\n",
    "                value_descriptor=RangeParameter(8, 12),\n",
    "                name='Lights Watts/Area')]\n",
    "EPobjectives = MeterReader('Electricity:Facility')\n",
    "problem = EPProblem(EPparameters,EPobjectives)\n",
    "evaluator = EvaluatorEP(problem,building)\n",
    "result = evaluator([8])\n",
    "result"
   ]
  },
  {
   "cell_type": "markdown",
   "metadata": {
    "papermill": {
     "duration": 0.004593,
     "end_time": "2019-10-28T22:50:48.436059",
     "exception": false,
     "start_time": "2019-10-28T22:50:48.431466",
     "status": "completed"
    },
    "tags": []
   },
   "source": [
    "### Time series data\n",
    "\n",
    "Sometimes we want to get back an entire time series, for example for linking to the Energy Hub model (see [here](../EnergyHub/EPtoEHEvaluators.ipynb)).  \n",
    "For that we can specify `func=time_series_values`, which comes as part of besos.objectives."
   ]
  },
  {
   "cell_type": "code",
   "execution_count": 3,
   "metadata": {
    "papermill": {
     "duration": 1.467034,
     "end_time": "2019-10-28T22:50:49.909550",
     "exception": false,
     "start_time": "2019-10-28T22:50:48.442516",
     "status": "completed"
    },
    "tags": []
   },
   "outputs": [
    {
     "data": {
      "text/plain": [
       "(0     5.041708e+07\n",
       " 1     5.142561e+07\n",
       " 2     5.193728e+07\n",
       " 3     5.111495e+07\n",
       " 4     4.728000e+07\n",
       " 5     4.371469e+07\n",
       " 6     5.956208e+07\n",
       " 7     5.870644e+07\n",
       " 8     6.031615e+07\n",
       " 9     6.127009e+07\n",
       " 10    6.202866e+07\n",
       " 11    6.294521e+07\n",
       " 12    6.369996e+07\n",
       " 13    6.431286e+07\n",
       " 14    6.507253e+07\n",
       " 15    6.522390e+07\n",
       " 16    6.471212e+07\n",
       " 17    6.365803e+07\n",
       " 18    6.167204e+07\n",
       " 19    6.648230e+07\n",
       " 20    6.682431e+07\n",
       " 21    6.601229e+07\n",
       " 22    4.320751e+07\n",
       " 23    4.910526e+07\n",
       " 24    1.431370e+07\n",
       " 25    1.310912e+07\n",
       " 26    1.431370e+07\n",
       " 27    1.310912e+07\n",
       " 28    1.431370e+07\n",
       " 29    1.310912e+07\n",
       " 30    1.551827e+07\n",
       " 31    8.609274e+06\n",
       " 32    7.227474e+06\n",
       " 33    7.227474e+06\n",
       " 34    7.227474e+06\n",
       " 35    7.227474e+06\n",
       " 36    7.227474e+06\n",
       " 37    7.227474e+06\n",
       " 38    7.227474e+06\n",
       " 39    7.227474e+06\n",
       " 40    9.991074e+06\n",
       " 41    1.551827e+07\n",
       " 42    1.407278e+07\n",
       " 43    1.310912e+07\n",
       " 44    1.431370e+07\n",
       " 45    1.310912e+07\n",
       " 46    1.431370e+07\n",
       " 47    1.310912e+07\n",
       " Name: Value, dtype: float64,)"
      ]
     },
     "execution_count": 3,
     "metadata": {},
     "output_type": "execute_result"
    }
   ],
   "source": [
    "EPobjectives = MeterReader('Electricity:Facility',func=time_series_values)\n",
    "problem = EPProblem(EPparameters,EPobjectives)\n",
    "evaluator = EvaluatorEP(problem,building)\n",
    "result = evaluator([8])\n",
    "result"
   ]
  },
  {
   "cell_type": "markdown",
   "metadata": {
    "papermill": {
     "duration": 0.004563,
     "end_time": "2019-10-28T22:50:49.919433",
     "exception": false,
     "start_time": "2019-10-28T22:50:49.914870",
     "status": "completed"
    },
    "tags": []
   },
   "source": [
    "### Define a custom function\n",
    "Now we will define the function that we will apply to the EnergyPlus output data.  \n",
    "The function `highloadhoursfunc` counts the hours in which the load is above a threshold."
   ]
  },
  {
   "cell_type": "code",
   "execution_count": 4,
   "metadata": {
    "papermill": {
     "duration": 0.009645,
     "end_time": "2019-10-28T22:50:49.933549",
     "exception": false,
     "start_time": "2019-10-28T22:50:49.923904",
     "status": "completed"
    },
    "tags": []
   },
   "outputs": [],
   "source": [
    "def highloadhoursfunc(result):\n",
    "    threshold = 1e7\n",
    "    highloadhours = sum(result.data['Value'] >= threshold)\n",
    "    return highloadhours"
   ]
  },
  {
   "cell_type": "markdown",
   "metadata": {
    "papermill": {
     "duration": 0.004084,
     "end_time": "2019-10-28T22:50:49.942002",
     "exception": false,
     "start_time": "2019-10-28T22:50:49.937918",
     "status": "completed"
    },
    "tags": []
   },
   "source": [
    "By specifying `func=highloadhoursfunc`, the result is the number of hours in which `Electricity:Facility` is above the threshold."
   ]
  },
  {
   "cell_type": "code",
   "execution_count": 5,
   "metadata": {
    "papermill": {
     "duration": 1.441183,
     "end_time": "2019-10-28T22:50:51.387399",
     "exception": false,
     "start_time": "2019-10-28T22:50:49.946216",
     "status": "completed"
    },
    "tags": []
   },
   "outputs": [
    {
     "data": {
      "text/plain": [
       "(38,)"
      ]
     },
     "execution_count": 5,
     "metadata": {},
     "output_type": "execute_result"
    }
   ],
   "source": [
    "EPobjectives = MeterReader('Electricity:Facility',func=highloadhoursfunc)\n",
    "problem = EPProblem(EPparameters,EPobjectives)\n",
    "evaluator = EvaluatorEP(problem,building)\n",
    "result = evaluator([8])\n",
    "result"
   ]
  }
 ],
 "metadata": {
  "kernelspec": {
   "display_name": "Python 3",
   "language": "python",
   "name": "python3"
  },
  "language_info": {
   "codemirror_mode": {
    "name": "ipython",
    "version": 3
   },
   "file_extension": ".py",
   "mimetype": "text/x-python",
   "name": "python",
   "nbconvert_exporter": "python",
   "pygments_lexer": "ipython3",
   "version": "3.6.4"
  },
  "papermill": {
   "duration": 6.539018,
   "end_time": "2019-10-28T22:50:51.799797",
   "environment_variables": {},
   "exception": null,
   "input_path": "./Evaluators/CustomEPEvaluatorFunc.ipynb",
   "output_path": "./Evaluators/CustomEPEvaluatorFunc.ipynb",
   "parameters": {},
   "start_time": "2019-10-28T22:50:45.260779",
   "version": "1.2.0"
  }
 },
 "nbformat": 4,
 "nbformat_minor": 2
}