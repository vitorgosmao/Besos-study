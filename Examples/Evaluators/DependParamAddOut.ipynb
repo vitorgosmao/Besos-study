{
 "cells": [
  {
   "cell_type": "markdown",
   "metadata": {},
   "source": [
    "# Dependent Parameter and Additional Outputs"
   ]
  },
  {
   "cell_type": "code",
   "execution_count": 1,
   "metadata": {},
   "outputs": [],
   "source": [
    "from besos import eppy_funcs as ef\n",
    "import besos.sampling as sampling\n",
    "from besos.problem import EPProblem\n",
    "from besos.evaluator import EvaluatorEP\n",
    "from besos.parameters import wwr, RangeParameter, DependentParameter, Parameter, FieldSelector\n",
    "from besos.optimizer import NSGAII"
   ]
  },
  {
   "cell_type": "markdown",
   "metadata": {},
   "source": [
    "## Dependent Parameter"
   ]
  },
  {
   "cell_type": "markdown",
   "metadata": {},
   "source": [
    "The dependent parameter couples two parameters together: Target parameter with Leading value (set by the sampling or optimization algorithm), and dependent parameter with following (reacts) value. \n",
    "\n",
    "In the following example, we want to set the sum of the ElectricEquipment and Light to 25. Assume ElectricEquipment is the target parameter, and Light is the DependentParameter."
   ]
  },
  {
   "cell_type": "code",
   "execution_count": 2,
   "metadata": {},
   "outputs": [],
   "source": [
    "parameters = []\n",
    "parameters.append(wwr())  #index 0\n",
    "parameters.append(\n",
    "    Parameter(\n",
    "        name='Electric Equipment',\n",
    "        selector=FieldSelector(\n",
    "            class_name=\"ElectricEquipment\",\n",
    "            object_name=\"*\",\n",
    "            field_name=\"Watts per Zone Floor Area\",\n",
    "        ),\n",
    "        value_descriptor=RangeParameter(min_val=10, max_val=15)\n",
    "    )\n",
    ")  #index 1"
   ]
  },
  {
   "cell_type": "markdown",
   "metadata": {},
   "source": [
    "Now we create a DependentParameter for Light. A DependentParameter requires three parameters: mode, factor, and index. \n",
    "\n",
    "There are three modes for DependentParameter:\n",
    "\n",
    "- 'sum': response_value = factor - leading_value \n",
    "- 'multiple': response_value = leading_value * factor\n",
    "- 'power': response_value = leading_value ** factor\n",
    "\n",
    "The response_value is the used value for the dependent parameter.\n",
    "\n",
    "For this example, we set the mode to 'sum', and factor to 25.\n",
    "\n",
    "The index represents the index of the target parameter in the parameter list. For this example, the leading parameter, ElectricEquipment, is at index 1. \n",
    "\n",
    "The DependentParameter should be placed after the target parameter in the parameter list. "
   ]
  },
  {
   "cell_type": "code",
   "execution_count": 3,
   "metadata": {},
   "outputs": [],
   "source": [
    "parameters.append(\n",
    "    Parameter(\n",
    "        name='Lights',\n",
    "        selector=FieldSelector(\n",
    "            class_name=\"Lights\",\n",
    "            object_name=\"*\",\n",
    "            field_name=\"Watts per Zone Floor Area\",\n",
    "        ),\n",
    "        value_descriptor=DependentParameter(mode='sum', factor=25, index=1)\n",
    "    )\n",
    ")"
   ]
  },
  {
   "cell_type": "code",
   "execution_count": 4,
   "metadata": {},
   "outputs": [],
   "source": [
    "objectives = ['Electricity:Facility']\n",
    "problem = EPProblem(parameters, objectives)\n",
    "building = ef.get_building()\n",
    "evaluator = EvaluatorEP(problem, building)"
   ]
  },
  {
   "cell_type": "code",
   "execution_count": 5,
   "metadata": {},
   "outputs": [
    {
     "data": {
      "text/html": [
       "<div>\n",
       "<style scoped>\n",
       "    .dataframe tbody tr th:only-of-type {\n",
       "        vertical-align: middle;\n",
       "    }\n",
       "\n",
       "    .dataframe tbody tr th {\n",
       "        vertical-align: top;\n",
       "    }\n",
       "\n",
       "    .dataframe thead th {\n",
       "        text-align: right;\n",
       "    }\n",
       "</style>\n",
       "<table border=\"1\" class=\"dataframe\">\n",
       "  <thead>\n",
       "    <tr style=\"text-align: right;\">\n",
       "      <th></th>\n",
       "      <th>Window to Wall Ratio</th>\n",
       "      <th>Electric Equipment</th>\n",
       "      <th>Lights</th>\n",
       "    </tr>\n",
       "  </thead>\n",
       "  <tbody>\n",
       "    <tr>\n",
       "      <td>0</td>\n",
       "      <td>0.486001</td>\n",
       "      <td>14.170300</td>\n",
       "      <td>10.829700</td>\n",
       "    </tr>\n",
       "    <tr>\n",
       "      <td>1</td>\n",
       "      <td>0.631623</td>\n",
       "      <td>12.174691</td>\n",
       "      <td>12.825309</td>\n",
       "    </tr>\n",
       "    <tr>\n",
       "      <td>2</td>\n",
       "      <td>0.142207</td>\n",
       "      <td>10.586064</td>\n",
       "      <td>14.413936</td>\n",
       "    </tr>\n",
       "    <tr>\n",
       "      <td>3</td>\n",
       "      <td>0.311364</td>\n",
       "      <td>13.454279</td>\n",
       "      <td>11.545721</td>\n",
       "    </tr>\n",
       "    <tr>\n",
       "      <td>4</td>\n",
       "      <td>0.921740</td>\n",
       "      <td>11.637009</td>\n",
       "      <td>13.362991</td>\n",
       "    </tr>\n",
       "  </tbody>\n",
       "</table>\n",
       "</div>"
      ],
      "text/plain": [
       "   Window to Wall Ratio  Electric Equipment     Lights\n",
       "0              0.486001           14.170300  10.829700\n",
       "1              0.631623           12.174691  12.825309\n",
       "2              0.142207           10.586064  14.413936\n",
       "3              0.311364           13.454279  11.545721\n",
       "4              0.921740           11.637009  13.362991"
      ]
     },
     "execution_count": 5,
     "metadata": {},
     "output_type": "execute_result"
    }
   ],
   "source": [
    "inputs = sampling.dist_sampler(sampling.lhs, problem, 5)\n",
    "inputs"
   ]
  },
  {
   "cell_type": "markdown",
   "metadata": {},
   "source": [
    "## Additional Outputs for optimization algorithm"
   ]
  },
  {
   "cell_type": "markdown",
   "metadata": {},
   "source": [
    "When running the optimization algorithm, all objectives will be optimized. The result of the objectives in the add_outputs list will include in the data frame, but they will not be optimized.\n",
    "\n",
    "For the following example, the output is still Electricity:Facility. We also want to know the value of Cooling:Electricity for different solutions, but we don't need it to be optimized. So instead of adding it in objectives, we add it in add_outputs.\n",
    "\n",
    "First of all we want to check if the 'Cooling:Electricity' is one of the outputs for this building."
   ]
  },
  {
   "cell_type": "code",
   "execution_count": 6,
   "metadata": {},
   "outputs": [
    {
     "name": "stdout",
     "output_type": "stream",
     "text": [
      "['Cooling:Electricity', 'Hourly']\n"
     ]
    }
   ],
   "source": [
    "from besos.eplus_funcs import print_available_outputs\n",
    "\n",
    "print_available_outputs(building, name='Cooling:Electricity')"
   ]
  },
  {
   "cell_type": "markdown",
   "metadata": {},
   "source": [
    "Now we re-define the problem with add_outputs."
   ]
  },
  {
   "cell_type": "code",
   "execution_count": 7,
   "metadata": {},
   "outputs": [
    {
     "data": {
      "text/html": [
       "<div>\n",
       "<style scoped>\n",
       "    .dataframe tbody tr th:only-of-type {\n",
       "        vertical-align: middle;\n",
       "    }\n",
       "\n",
       "    .dataframe tbody tr th {\n",
       "        vertical-align: top;\n",
       "    }\n",
       "\n",
       "    .dataframe thead th {\n",
       "        text-align: right;\n",
       "    }\n",
       "</style>\n",
       "<table border=\"1\" class=\"dataframe\">\n",
       "  <thead>\n",
       "    <tr style=\"text-align: right;\">\n",
       "      <th></th>\n",
       "      <th>Window to Wall Ratio</th>\n",
       "      <th>Electric Equipment</th>\n",
       "      <th>Lights</th>\n",
       "      <th>Electricity:Facility</th>\n",
       "      <th>violation</th>\n",
       "      <th>pareto-optimal</th>\n",
       "      <th>Cooling:Electricity</th>\n",
       "    </tr>\n",
       "  </thead>\n",
       "  <tbody>\n",
       "    <tr>\n",
       "      <td>0</td>\n",
       "      <td>0.197708</td>\n",
       "      <td>13.554301</td>\n",
       "      <td>11.445699</td>\n",
       "      <td>2.020056e+09</td>\n",
       "      <td>0</td>\n",
       "      <td>True</td>\n",
       "      <td>3.853115e+08</td>\n",
       "    </tr>\n",
       "  </tbody>\n",
       "</table>\n",
       "</div>"
      ],
      "text/plain": [
       "   Window to Wall Ratio  Electric Equipment     Lights  Electricity:Facility  \\\n",
       "0              0.197708           13.554301  11.445699          2.020056e+09   \n",
       "\n",
       "   violation  pareto-optimal  Cooling:Electricity  \n",
       "0          0            True         3.853115e+08  "
      ]
     },
     "execution_count": 7,
     "metadata": {},
     "output_type": "execute_result"
    }
   ],
   "source": [
    "problem = EPProblem(parameters, objectives, add_outputs=['Cooling:Electricity'])\n",
    "evaluator = EvaluatorEP(problem, building)\n",
    "\n",
    "results = NSGAII(evaluator, evaluations=1, population_size=1)\n",
    "results"
   ]
  }
 ],
 "metadata": {
  "kernelspec": {
   "display_name": "Python 3",
   "language": "python",
   "name": "python3"
  },
  "language_info": {
   "codemirror_mode": {
    "name": "ipython",
    "version": 3
   },
   "file_extension": ".py",
   "mimetype": "text/x-python",
   "name": "python",
   "nbconvert_exporter": "python",
   "pygments_lexer": "ipython3",
   "version": "3.6.4"
  }
 },
 "nbformat": 4,
 "nbformat_minor": 4
}
