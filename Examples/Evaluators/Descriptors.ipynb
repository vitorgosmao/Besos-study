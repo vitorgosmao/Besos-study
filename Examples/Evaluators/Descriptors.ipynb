{
 "cells": [
  {
   "cell_type": "markdown",
   "metadata": {
    "papermill": {
     "duration": 0.007177,
     "end_time": "2019-10-28T22:50:11.211540",
     "exception": false,
     "start_time": "2019-10-28T22:50:11.204363",
     "status": "completed"
    },
    "tags": []
   },
   "source": [
    "# Descriptors\n",
    "\n",
    "Descriptors specify what kinds of values are valid for a parameter.  \n",
    "There are currently, three variants: `RangeParameter`, `DependentParameter` and `CategoryParameter`.  "
   ]
  },
  {
   "cell_type": "code",
   "execution_count": 1,
   "metadata": {
    "papermill": {
     "duration": 1.056189,
     "end_time": "2019-10-28T22:50:12.273175",
     "exception": false,
     "start_time": "2019-10-28T22:50:11.216986",
     "status": "completed"
    },
    "tags": []
   },
   "outputs": [],
   "source": [
    "import pandas as pd\n",
    "\n",
    "from besos.parameters import RangeParameter, DependentParameter, CategoryParameter, Parameter\n",
    "from besos.problem import Problem\n",
    "from besos import sampling\n",
    "from besos.evaluator import EvaluatorGeneric "
   ]
  },
  {
   "cell_type": "markdown",
   "metadata": {
    "papermill": {
     "duration": 0.004912,
     "end_time": "2019-10-28T22:50:12.283603",
     "exception": false,
     "start_time": "2019-10-28T22:50:12.278691",
     "status": "completed"
    },
    "tags": []
   },
   "source": [
    "### RangeParameters \n",
    "$min \\leq x \\leq max$"
   ]
  },
  {
   "cell_type": "code",
   "execution_count": 2,
   "metadata": {
    "papermill": {
     "duration": 0.01397,
     "end_time": "2019-10-28T22:50:12.304946",
     "exception": false,
     "start_time": "2019-10-28T22:50:12.290976",
     "status": "completed"
    },
    "tags": []
   },
   "outputs": [],
   "source": [
    "zero_to_one_exclusive = RangeParameter(min_val = 0.01, max_val=0.99)"
   ]
  },
  {
   "cell_type": "markdown",
   "metadata": {},
   "source": [
    "### DependentParameter \n",
    "\n",
    "The value of dependent parameter depends on a range parameter.\n",
    "\n",
    "For mode = 'sum', x = factor - target_val\n",
    "\n",
    "For mode = 'multiple', x = factor * target_val\n",
    "\n",
    "For mode = 'power', x = target_val ^ factor\n",
    "\n",
    "index represents the index of the target range parameter in the parameter list\n",
    "\n",
    "Check out [this](Evaluators/DependParamAndNonObj.ipynb) notebook for more examples."
   ]
  },
  {
   "cell_type": "code",
   "execution_count": 3,
   "metadata": {},
   "outputs": [],
   "source": [
    "dp = DependentParameter(mode = 'sum', factor = 1, index = 0)"
   ]
  },
  {
   "cell_type": "markdown",
   "metadata": {
    "papermill": {
     "duration": 0.004436,
     "end_time": "2019-10-28T22:50:12.314291",
     "exception": false,
     "start_time": "2019-10-28T22:50:12.309855",
     "status": "completed"
    },
    "tags": []
   },
   "source": [
    "### CategoryParameters \n",
    "A list of options."
   ]
  },
  {
   "cell_type": "code",
   "execution_count": 4,
   "metadata": {
    "papermill": {
     "duration": 0.009385,
     "end_time": "2019-10-28T22:50:12.328129",
     "exception": false,
     "start_time": "2019-10-28T22:50:12.318744",
     "status": "completed"
    },
    "tags": []
   },
   "outputs": [],
   "source": [
    "text_example = CategoryParameter(options=['a', 'b', 'c', 'other'])\n",
    "single_digit_integers = CategoryParameter(options=range(10))"
   ]
  },
  {
   "cell_type": "markdown",
   "metadata": {
    "papermill": {
     "duration": 0.004336,
     "end_time": "2019-10-28T22:50:12.337015",
     "exception": false,
     "start_time": "2019-10-28T22:50:12.332679",
     "status": "completed"
    },
    "tags": []
   },
   "source": [
    "### Sampling\n",
    "These descriptors can be used to make `Parameters`.  \n",
    "Then we can generate samples."
   ]
  },
  {
   "cell_type": "code",
   "execution_count": 5,
   "metadata": {
    "papermill": {
     "duration": 0.021458,
     "end_time": "2019-10-28T22:50:12.362905",
     "exception": false,
     "start_time": "2019-10-28T22:50:12.341447",
     "status": "completed"
    },
    "tags": []
   },
   "outputs": [
    {
     "data": {
      "text/html": [
       "<div>\n",
       "<style scoped>\n",
       "    .dataframe tbody tr th:only-of-type {\n",
       "        vertical-align: middle;\n",
       "    }\n",
       "\n",
       "    .dataframe tbody tr th {\n",
       "        vertical-align: top;\n",
       "    }\n",
       "\n",
       "    .dataframe thead th {\n",
       "        text-align: right;\n",
       "    }\n",
       "</style>\n",
       "<table border=\"1\" class=\"dataframe\">\n",
       "  <thead>\n",
       "    <tr style=\"text-align: right;\">\n",
       "      <th></th>\n",
       "      <th>0-1</th>\n",
       "      <th>dp</th>\n",
       "      <th>single digit</th>\n",
       "      <th>text</th>\n",
       "    </tr>\n",
       "  </thead>\n",
       "  <tbody>\n",
       "    <tr>\n",
       "      <td>0</td>\n",
       "      <td>0.322092</td>\n",
       "      <td>0.677908</td>\n",
       "      <td>5</td>\n",
       "      <td>other</td>\n",
       "    </tr>\n",
       "    <tr>\n",
       "      <td>1</td>\n",
       "      <td>0.763874</td>\n",
       "      <td>0.236126</td>\n",
       "      <td>7</td>\n",
       "      <td>other</td>\n",
       "    </tr>\n",
       "    <tr>\n",
       "      <td>2</td>\n",
       "      <td>0.968516</td>\n",
       "      <td>0.031484</td>\n",
       "      <td>9</td>\n",
       "      <td>b</td>\n",
       "    </tr>\n",
       "    <tr>\n",
       "      <td>3</td>\n",
       "      <td>0.514495</td>\n",
       "      <td>0.485505</td>\n",
       "      <td>8</td>\n",
       "      <td>a</td>\n",
       "    </tr>\n",
       "    <tr>\n",
       "      <td>4</td>\n",
       "      <td>0.193031</td>\n",
       "      <td>0.806969</td>\n",
       "      <td>3</td>\n",
       "      <td>c</td>\n",
       "    </tr>\n",
       "    <tr>\n",
       "      <td>5</td>\n",
       "      <td>0.245641</td>\n",
       "      <td>0.754359</td>\n",
       "      <td>1</td>\n",
       "      <td>c</td>\n",
       "    </tr>\n",
       "    <tr>\n",
       "      <td>6</td>\n",
       "      <td>0.799233</td>\n",
       "      <td>0.200767</td>\n",
       "      <td>2</td>\n",
       "      <td>a</td>\n",
       "    </tr>\n",
       "    <tr>\n",
       "      <td>7</td>\n",
       "      <td>0.432996</td>\n",
       "      <td>0.567004</td>\n",
       "      <td>4</td>\n",
       "      <td>other</td>\n",
       "    </tr>\n",
       "    <tr>\n",
       "      <td>8</td>\n",
       "      <td>0.611442</td>\n",
       "      <td>0.388558</td>\n",
       "      <td>6</td>\n",
       "      <td>b</td>\n",
       "    </tr>\n",
       "    <tr>\n",
       "      <td>9</td>\n",
       "      <td>0.042449</td>\n",
       "      <td>0.957551</td>\n",
       "      <td>0</td>\n",
       "      <td>a</td>\n",
       "    </tr>\n",
       "  </tbody>\n",
       "</table>\n",
       "</div>"
      ],
      "text/plain": [
       "        0-1        dp  single digit   text\n",
       "0  0.322092  0.677908             5  other\n",
       "1  0.763874  0.236126             7  other\n",
       "2  0.968516  0.031484             9      b\n",
       "3  0.514495  0.485505             8      a\n",
       "4  0.193031  0.806969             3      c\n",
       "5  0.245641  0.754359             1      c\n",
       "6  0.799233  0.200767             2      a\n",
       "7  0.432996  0.567004             4  other\n",
       "8  0.611442  0.388558             6      b\n",
       "9  0.042449  0.957551             0      a"
      ]
     },
     "execution_count": 5,
     "metadata": {},
     "output_type": "execute_result"
    }
   ],
   "source": [
    "parameters = [\n",
    "    Parameter(value_descriptor=zero_to_one_exclusive, name='0-1'),\n",
    "    Parameter(value_descriptor=dp, name='dp'),\n",
    "    Parameter(value_descriptor=single_digit_integers, name='single digit'),\n",
    "    Parameter(value_descriptor=text_example, name='text')\n",
    "]\n",
    "problem = Problem(parameters, outputs=['output'])\n",
    "\n",
    "samples = sampling.dist_sampler(sampling.lhs, problem, num_samples=10)\n",
    "samples"
   ]
  },
  {
   "cell_type": "markdown",
   "metadata": {
    "papermill": {
     "duration": 0.004504,
     "end_time": "2019-10-28T22:50:12.372177",
     "exception": false,
     "start_time": "2019-10-28T22:50:12.367673",
     "status": "completed"
    },
    "tags": []
   },
   "source": [
    "### Evaluation\n",
    "Since we did not specify selectors for the parameters, we cannot evaluate them using an EnergyPlus simulation.  \n",
    "Instead, we will use a custom evaluation function."
   ]
  },
  {
   "cell_type": "code",
   "execution_count": 6,
   "metadata": {
    "papermill": {
     "duration": 0.038359,
     "end_time": "2019-10-28T22:50:12.415265",
     "exception": false,
     "start_time": "2019-10-28T22:50:12.376906",
     "status": "completed"
    },
    "tags": []
   },
   "outputs": [
    {
     "data": {
      "application/vnd.jupyter.widget-view+json": {
       "model_id": "f55a19ea058440c58a7f716a47164199",
       "version_major": 2,
       "version_minor": 0
      },
      "text/plain": [
       "HBox(children=(IntProgress(value=0, description='Executing', max=10, style=ProgressStyle(description_width='in…"
      ]
     },
     "metadata": {},
     "output_type": "display_data"
    },
    {
     "name": "stdout",
     "output_type": "stream",
     "text": [
      "\n"
     ]
    }
   ],
   "source": [
    "def evaluation_function(values):\n",
    "    v, x, y, z = values\n",
    "    if z == 'other':\n",
    "        return (v,), ()\n",
    "    else:\n",
    "        return (x * y,), ()\n",
    "\n",
    "evaluator = EvaluatorGeneric(evaluation_function, problem)\n",
    "# The evaluator will use this objective by default\n",
    "outputs = evaluator.df_apply(samples ,keep_input=True)\n",
    "# outputs is a pandas dataframe with one column since only one objective was requested"
   ]
  },
  {
   "cell_type": "code",
   "execution_count": 7,
   "metadata": {
    "papermill": {
     "duration": 0.018132,
     "end_time": "2019-10-28T22:50:12.440161",
     "exception": false,
     "start_time": "2019-10-28T22:50:12.422029",
     "status": "completed"
    },
    "tags": []
   },
   "outputs": [
    {
     "data": {
      "text/html": [
       "<div>\n",
       "<style scoped>\n",
       "    .dataframe tbody tr th:only-of-type {\n",
       "        vertical-align: middle;\n",
       "    }\n",
       "\n",
       "    .dataframe tbody tr th {\n",
       "        vertical-align: top;\n",
       "    }\n",
       "\n",
       "    .dataframe thead th {\n",
       "        text-align: right;\n",
       "    }\n",
       "</style>\n",
       "<table border=\"1\" class=\"dataframe\">\n",
       "  <thead>\n",
       "    <tr style=\"text-align: right;\">\n",
       "      <th></th>\n",
       "      <th>0-1</th>\n",
       "      <th>dp</th>\n",
       "      <th>single digit</th>\n",
       "      <th>text</th>\n",
       "      <th>output</th>\n",
       "    </tr>\n",
       "  </thead>\n",
       "  <tbody>\n",
       "    <tr>\n",
       "      <td>0</td>\n",
       "      <td>0.322092</td>\n",
       "      <td>0.677908</td>\n",
       "      <td>5</td>\n",
       "      <td>other</td>\n",
       "      <td>0.322092</td>\n",
       "    </tr>\n",
       "    <tr>\n",
       "      <td>1</td>\n",
       "      <td>0.763874</td>\n",
       "      <td>0.236126</td>\n",
       "      <td>7</td>\n",
       "      <td>other</td>\n",
       "      <td>0.763874</td>\n",
       "    </tr>\n",
       "    <tr>\n",
       "      <td>2</td>\n",
       "      <td>0.968516</td>\n",
       "      <td>0.031484</td>\n",
       "      <td>9</td>\n",
       "      <td>b</td>\n",
       "      <td>0.283360</td>\n",
       "    </tr>\n",
       "    <tr>\n",
       "      <td>3</td>\n",
       "      <td>0.514495</td>\n",
       "      <td>0.485505</td>\n",
       "      <td>8</td>\n",
       "      <td>a</td>\n",
       "      <td>3.884041</td>\n",
       "    </tr>\n",
       "    <tr>\n",
       "      <td>4</td>\n",
       "      <td>0.193031</td>\n",
       "      <td>0.806969</td>\n",
       "      <td>3</td>\n",
       "      <td>c</td>\n",
       "      <td>2.420908</td>\n",
       "    </tr>\n",
       "    <tr>\n",
       "      <td>5</td>\n",
       "      <td>0.245641</td>\n",
       "      <td>0.754359</td>\n",
       "      <td>1</td>\n",
       "      <td>c</td>\n",
       "      <td>0.754359</td>\n",
       "    </tr>\n",
       "    <tr>\n",
       "      <td>6</td>\n",
       "      <td>0.799233</td>\n",
       "      <td>0.200767</td>\n",
       "      <td>2</td>\n",
       "      <td>a</td>\n",
       "      <td>0.401535</td>\n",
       "    </tr>\n",
       "    <tr>\n",
       "      <td>7</td>\n",
       "      <td>0.432996</td>\n",
       "      <td>0.567004</td>\n",
       "      <td>4</td>\n",
       "      <td>other</td>\n",
       "      <td>0.432996</td>\n",
       "    </tr>\n",
       "    <tr>\n",
       "      <td>8</td>\n",
       "      <td>0.611442</td>\n",
       "      <td>0.388558</td>\n",
       "      <td>6</td>\n",
       "      <td>b</td>\n",
       "      <td>2.331347</td>\n",
       "    </tr>\n",
       "    <tr>\n",
       "      <td>9</td>\n",
       "      <td>0.042449</td>\n",
       "      <td>0.957551</td>\n",
       "      <td>0</td>\n",
       "      <td>a</td>\n",
       "      <td>0.000000</td>\n",
       "    </tr>\n",
       "  </tbody>\n",
       "</table>\n",
       "</div>"
      ],
      "text/plain": [
       "        0-1        dp  single digit   text    output\n",
       "0  0.322092  0.677908             5  other  0.322092\n",
       "1  0.763874  0.236126             7  other  0.763874\n",
       "2  0.968516  0.031484             9      b  0.283360\n",
       "3  0.514495  0.485505             8      a  3.884041\n",
       "4  0.193031  0.806969             3      c  2.420908\n",
       "5  0.245641  0.754359             1      c  0.754359\n",
       "6  0.799233  0.200767             2      a  0.401535\n",
       "7  0.432996  0.567004             4  other  0.432996\n",
       "8  0.611442  0.388558             6      b  2.331347\n",
       "9  0.042449  0.957551             0      a  0.000000"
      ]
     },
     "execution_count": 7,
     "metadata": {},
     "output_type": "execute_result"
    }
   ],
   "source": [
    "outputs"
   ]
  },
  {
   "cell_type": "code",
   "execution_count": null,
   "metadata": {
    "papermill": {
     "duration": 0.005969,
     "end_time": "2019-10-28T22:50:12.452010",
     "exception": false,
     "start_time": "2019-10-28T22:50:12.446041",
     "status": "completed"
    },
    "tags": []
   },
   "outputs": [],
   "source": []
  }
 ],
 "metadata": {
  "jupytext": {
   "formats": "ipynb,py:light",
   "text_representation": {
    "extension": ".py",
    "format_name": "light",
    "format_version": "1.3",
    "jupytext_version": "0.8.6"
   }
  },
  "kernelspec": {
   "display_name": "Python 3",
   "language": "python",
   "name": "python3"
  },
  "language_info": {
   "codemirror_mode": {
    "name": "ipython",
    "version": 3
   },
   "file_extension": ".py",
   "mimetype": "text/x-python",
   "name": "python",
   "nbconvert_exporter": "python",
   "pygments_lexer": "ipython3",
   "version": "3.7.4"
  },
  "papermill": {
   "duration": 2.195238,
   "end_time": "2019-10-28T22:50:12.763966",
   "environment_variables": {},
   "exception": null,
   "input_path": "./Evaluators/Descriptors.ipynb",
   "output_path": "./Evaluators/Descriptors.ipynb",
   "parameters": {},
   "start_time": "2019-10-28T22:50:10.568728",
   "version": "1.2.0"
  },
  "widgets": {
   "application/vnd.jupyter.widget-state+json": {
    "state": {
     "449b39b35ad24a1596a81b999b60cb6a": {
      "model_module": "@jupyter-widgets/base",
      "model_module_version": "1.2.0",
      "model_name": "LayoutModel",
      "state": {
       "_model_module": "@jupyter-widgets/base",
       "_model_module_version": "1.2.0",
       "_model_name": "LayoutModel",
       "_view_count": null,
       "_view_module": "@jupyter-widgets/base",
       "_view_module_version": "1.2.0",
       "_view_name": "LayoutView",
       "align_content": null,
       "align_items": null,
       "align_self": null,
       "border": null,
       "bottom": null,
       "display": null,
       "flex": null,
       "flex_flow": null,
       "grid_area": null,
       "grid_auto_columns": null,
       "grid_auto_flow": null,
       "grid_auto_rows": null,
       "grid_column": null,
       "grid_gap": null,
       "grid_row": null,
       "grid_template_areas": null,
       "grid_template_columns": null,
       "grid_template_rows": null,
       "height": null,
       "justify_content": null,
       "justify_items": null,
       "left": null,
       "margin": null,
       "max_height": null,
       "max_width": null,
       "min_height": null,
       "min_width": null,
       "object_fit": null,
       "object_position": null,
       "order": null,
       "overflow": null,
       "overflow_x": null,
       "overflow_y": null,
       "padding": null,
       "right": null,
       "top": null,
       "visibility": null,
       "width": null
      }
     },
     "57779032cba34dfe8f7ed2049885210d": {
      "model_module": "@jupyter-widgets/base",
      "model_module_version": "1.2.0",
      "model_name": "LayoutModel",
      "state": {
       "_model_module": "@jupyter-widgets/base",
       "_model_module_version": "1.2.0",
       "_model_name": "LayoutModel",
       "_view_count": null,
       "_view_module": "@jupyter-widgets/base",
       "_view_module_version": "1.2.0",
       "_view_name": "LayoutView",
       "align_content": null,
       "align_items": null,
       "align_self": null,
       "border": null,
       "bottom": null,
       "display": null,
       "flex": null,
       "flex_flow": null,
       "grid_area": null,
       "grid_auto_columns": null,
       "grid_auto_flow": null,
       "grid_auto_rows": null,
       "grid_column": null,
       "grid_gap": null,
       "grid_row": null,
       "grid_template_areas": null,
       "grid_template_columns": null,
       "grid_template_rows": null,
       "height": null,
       "justify_content": null,
       "justify_items": null,
       "left": null,
       "margin": null,
       "max_height": null,
       "max_width": null,
       "min_height": null,
       "min_width": null,
       "object_fit": null,
       "object_position": null,
       "order": null,
       "overflow": null,
       "overflow_x": null,
       "overflow_y": null,
       "padding": null,
       "right": null,
       "top": null,
       "visibility": null,
       "width": null
      }
     },
     "8af044cc0d3f4ffbbe9e9e197c78b4fb": {
      "model_module": "@jupyter-widgets/controls",
      "model_module_version": "1.5.0",
      "model_name": "IntProgressModel",
      "state": {
       "_dom_classes": [],
       "_model_module": "@jupyter-widgets/controls",
       "_model_module_version": "1.5.0",
       "_model_name": "IntProgressModel",
       "_view_count": null,
       "_view_module": "@jupyter-widgets/controls",
       "_view_module_version": "1.5.0",
       "_view_name": "ProgressView",
       "bar_style": "success",
       "description": "Executing: 100%",
       "description_tooltip": null,
       "layout": "IPY_MODEL_57779032cba34dfe8f7ed2049885210d",
       "max": 10,
       "min": 0,
       "orientation": "horizontal",
       "style": "IPY_MODEL_9362f422f67d4b8799bb17642804c38b",
       "value": 10
      }
     },
     "9362f422f67d4b8799bb17642804c38b": {
      "model_module": "@jupyter-widgets/controls",
      "model_module_version": "1.5.0",
      "model_name": "ProgressStyleModel",
      "state": {
       "_model_module": "@jupyter-widgets/controls",
       "_model_module_version": "1.5.0",
       "_model_name": "ProgressStyleModel",
       "_view_count": null,
       "_view_module": "@jupyter-widgets/base",
       "_view_module_version": "1.2.0",
       "_view_name": "StyleView",
       "bar_color": null,
       "description_width": "initial"
      }
     },
     "9bbfabc67c8e46fd856a9a8ee8d84970": {
      "model_module": "@jupyter-widgets/controls",
      "model_module_version": "1.5.0",
      "model_name": "DescriptionStyleModel",
      "state": {
       "_model_module": "@jupyter-widgets/controls",
       "_model_module_version": "1.5.0",
       "_model_name": "DescriptionStyleModel",
       "_view_count": null,
       "_view_module": "@jupyter-widgets/base",
       "_view_module_version": "1.2.0",
       "_view_name": "StyleView",
       "description_width": ""
      }
     },
     "b56142be300f49a7b27008f2e7f0af5b": {
      "model_module": "@jupyter-widgets/base",
      "model_module_version": "1.2.0",
      "model_name": "LayoutModel",
      "state": {
       "_model_module": "@jupyter-widgets/base",
       "_model_module_version": "1.2.0",
       "_model_name": "LayoutModel",
       "_view_count": null,
       "_view_module": "@jupyter-widgets/base",
       "_view_module_version": "1.2.0",
       "_view_name": "LayoutView",
       "align_content": null,
       "align_items": null,
       "align_self": null,
       "border": null,
       "bottom": null,
       "display": null,
       "flex": null,
       "flex_flow": null,
       "grid_area": null,
       "grid_auto_columns": null,
       "grid_auto_flow": null,
       "grid_auto_rows": null,
       "grid_column": null,
       "grid_gap": null,
       "grid_row": null,
       "grid_template_areas": null,
       "grid_template_columns": null,
       "grid_template_rows": null,
       "height": null,
       "justify_content": null,
       "justify_items": null,
       "left": null,
       "margin": null,
       "max_height": null,
       "max_width": null,
       "min_height": null,
       "min_width": null,
       "object_fit": null,
       "object_position": null,
       "order": null,
       "overflow": null,
       "overflow_x": null,
       "overflow_y": null,
       "padding": null,
       "right": null,
       "top": null,
       "visibility": null,
       "width": null
      }
     },
     "ce96d8856c564d0ea1a607c5e5707241": {
      "model_module": "@jupyter-widgets/controls",
      "model_module_version": "1.5.0",
      "model_name": "HTMLModel",
      "state": {
       "_dom_classes": [],
       "_model_module": "@jupyter-widgets/controls",
       "_model_module_version": "1.5.0",
       "_model_name": "HTMLModel",
       "_view_count": null,
       "_view_module": "@jupyter-widgets/controls",
       "_view_module_version": "1.5.0",
       "_view_name": "HTMLView",
       "description": "",
       "description_tooltip": null,
       "layout": "IPY_MODEL_b56142be300f49a7b27008f2e7f0af5b",
       "placeholder": "​",
       "style": "IPY_MODEL_9bbfabc67c8e46fd856a9a8ee8d84970",
       "value": " 10/10 [00:00&lt;00:00, 509.67row/s]"
      }
     },
     "eaf52e3caf9c4991b8133039b8069673": {
      "model_module": "@jupyter-widgets/controls",
      "model_module_version": "1.5.0",
      "model_name": "HBoxModel",
      "state": {
       "_dom_classes": [],
       "_model_module": "@jupyter-widgets/controls",
       "_model_module_version": "1.5.0",
       "_model_name": "HBoxModel",
       "_view_count": null,
       "_view_module": "@jupyter-widgets/controls",
       "_view_module_version": "1.5.0",
       "_view_name": "HBoxView",
       "box_style": "",
       "children": [
        "IPY_MODEL_8af044cc0d3f4ffbbe9e9e197c78b4fb",
        "IPY_MODEL_ce96d8856c564d0ea1a607c5e5707241"
       ],
       "layout": "IPY_MODEL_449b39b35ad24a1596a81b999b60cb6a"
      }
     }
    },
    "version_major": 2,
    "version_minor": 0
   }
  }
 },
 "nbformat": 4,
 "nbformat_minor": 2
}
