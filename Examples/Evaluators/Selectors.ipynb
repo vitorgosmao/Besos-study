{
 "cells": [
  {
   "cell_type": "markdown",
   "metadata": {
    "papermill": {
     "duration": 0.022689,
     "end_time": "2019-10-28T22:50:13.550141",
     "exception": false,
     "start_time": "2019-10-28T22:50:13.527452",
     "status": "completed"
    },
    "tags": []
   },
   "source": [
    "import libraries"
   ]
  },
  {
   "cell_type": "code",
   "execution_count": 1,
   "metadata": {
    "jupyter": {
     "source_hidden": true
    },
    "papermill": {
     "duration": 1.053702,
     "end_time": "2019-10-28T22:50:14.623493",
     "exception": false,
     "start_time": "2019-10-28T22:50:13.569791",
     "status": "completed"
    },
    "tags": []
   },
   "outputs": [],
   "source": [
    "from besos import eppy_funcs as ef\n",
    "from besos import sampling\n",
    "from besos.evaluator import EvaluatorEP\n",
    "from besos.parameters import FieldSelector, FilterSelector, GenericSelector, Parameter\n",
    "from besos.problem import EPProblem\n",
    "import pandas as pd"
   ]
  },
  {
   "cell_type": "markdown",
   "metadata": {
    "papermill": {
     "duration": 0.009648,
     "end_time": "2019-10-28T22:50:14.643197",
     "exception": false,
     "start_time": "2019-10-28T22:50:14.633549",
     "status": "completed"
    },
    "tags": []
   },
   "source": [
    "# Building Parameters with Selectors\n",
    "\n",
    "`Selectors` identify which part of the building model to modify, and how to modify it.  "
   ]
  },
  {
   "cell_type": "markdown",
   "metadata": {
    "papermill": {
     "duration": 0.009029,
     "end_time": "2019-10-28T22:50:14.662773",
     "exception": false,
     "start_time": "2019-10-28T22:50:14.653744",
     "status": "completed"
    },
    "tags": []
   },
   "source": [
    "## Field Selectors\n",
    "`FieldSelector`s modify individual fields in a building model.  "
   ]
  },
  {
   "cell_type": "markdown",
   "metadata": {
    "papermill": {
     "duration": 0.008434,
     "end_time": "2019-10-28T22:50:14.680209",
     "exception": false,
     "start_time": "2019-10-28T22:50:14.671775",
     "status": "completed"
    },
    "tags": []
   },
   "source": [
    "The example building loaded here contains a `Material` class object named `Mass NonRes Wall Insulation` which has a `Thickness` field.  \n",
    "We make a selector that modifies this insulation thickness."
   ]
  },
  {
   "cell_type": "code",
   "execution_count": 2,
   "metadata": {
    "papermill": {
     "duration": 0.017759,
     "end_time": "2019-10-28T22:50:14.706732",
     "exception": false,
     "start_time": "2019-10-28T22:50:14.688973",
     "status": "completed"
    },
    "scrolled": true,
    "tags": []
   },
   "outputs": [],
   "source": [
    "FieldSelector(class_name='Material', object_name='Mass NonRes Wall Insulation', field_name='Thickness');"
   ]
  },
  {
   "cell_type": "markdown",
   "metadata": {
    "papermill": {
     "duration": 0.00863,
     "end_time": "2019-10-28T22:50:14.724217",
     "exception": false,
     "start_time": "2019-10-28T22:50:14.715587",
     "status": "completed"
    },
    "tags": []
   },
   "source": [
    "There is only one object in the example building with the name `Mass NonRes Wall Insulation`, so we can ommit the `class_name`.  \n",
    "The building will be searched for any object with the correct `object_name`."
   ]
  },
  {
   "cell_type": "code",
   "execution_count": 3,
   "metadata": {
    "papermill": {
     "duration": 0.016175,
     "end_time": "2019-10-28T22:50:14.750368",
     "exception": false,
     "start_time": "2019-10-28T22:50:14.734193",
     "status": "completed"
    },
    "tags": []
   },
   "outputs": [],
   "source": [
    "FieldSelector(object_name='Mass NonRes Wall Insulation', field_name='Thickness');"
   ]
  },
  {
   "cell_type": "markdown",
   "metadata": {
    "papermill": {
     "duration": 0.009407,
     "end_time": "2019-10-28T22:50:14.769380",
     "exception": false,
     "start_time": "2019-10-28T22:50:14.759973",
     "status": "completed"
    },
    "tags": []
   },
   "source": [
    " If the `class_name` is provided, but the `object_name` is omitted, then the first object with that `class_name` will be used.  \n",
    " Since JSON files do not guarentee ordering, this only works for idf files. `field_name` is mandatory."
   ]
  },
  {
   "cell_type": "markdown",
   "metadata": {
    "papermill": {
     "duration": 0.009523,
     "end_time": "2019-10-28T22:50:14.788314",
     "exception": false,
     "start_time": "2019-10-28T22:50:14.778791",
     "status": "completed"
    },
    "tags": []
   },
   "source": [
    "## Filtering Selectors\n",
    "`FilterSelectors` allow us to use custom function to select the objects to modify.  \n",
    "Here we define a function that finds all materials with `Insulation` in their name.  \n",
    "Then we use this function to modify the thickness of all these materials."
   ]
  },
  {
   "cell_type": "code",
   "execution_count": 4,
   "metadata": {
    "papermill": {
     "duration": 0.01691,
     "end_time": "2019-10-28T22:50:14.814695",
     "exception": false,
     "start_time": "2019-10-28T22:50:14.797785",
     "status": "completed"
    },
    "tags": []
   },
   "outputs": [],
   "source": [
    "# Load Building\n",
    "building = ef.get_building(mode='json') # we use the json example file because of how the insulation_filter function works"
   ]
  },
  {
   "cell_type": "code",
   "execution_count": 5,
   "metadata": {
    "papermill": {
     "duration": 0.014863,
     "end_time": "2019-10-28T22:50:14.838508",
     "exception": false,
     "start_time": "2019-10-28T22:50:14.823645",
     "status": "completed"
    },
    "tags": []
   },
   "outputs": [],
   "source": [
    "def insulation_filter(building):\n",
    "    return [obj for name, obj in building['Material'].items() if 'Insulation' in name]\n",
    "\n",
    "insulation = FilterSelector(insulation_filter, 'Thickness')"
   ]
  },
  {
   "cell_type": "markdown",
   "metadata": {
    "papermill": {
     "duration": 0.010165,
     "end_time": "2019-10-28T22:50:14.858650",
     "exception": false,
     "start_time": "2019-10-28T22:50:14.848485",
     "status": "completed"
    },
    "tags": []
   },
   "source": [
    "If you have multiple objects of the same type that all share the same field to modify, set `object_name` to `'*'`."
   ]
  },
  {
   "cell_type": "code",
   "execution_count": 6,
   "metadata": {
    "papermill": {
     "duration": 0.015267,
     "end_time": "2019-10-28T22:50:14.884159",
     "exception": false,
     "start_time": "2019-10-28T22:50:14.868892",
     "status": "completed"
    },
    "tags": []
   },
   "outputs": [],
   "source": [
    "lights = FieldSelector(class_name='Lights', object_name='*', field_name='Watts per Zone Floor Area')"
   ]
  },
  {
   "cell_type": "markdown",
   "metadata": {
    "papermill": {
     "duration": 0.009425,
     "end_time": "2019-10-28T22:50:14.902870",
     "exception": false,
     "start_time": "2019-10-28T22:50:14.893445",
     "status": "completed"
    },
    "tags": []
   },
   "source": [
    "## Parameter scripts using a Generic Selector\n",
    "\n",
    "Parameters can also be created by defining a function that takes an idf and a value and mutates the idf. These functions can be specific to a certain idf's format, and can perform any arbitrary transformation. Creating these can be more involved.  \n",
    "`eppy_funcs` contains the functions `one_window` and `wwr_all`. `one_window` removes windows from a building untill it has only one per wall. `wwr_all` takes a building with one window per wall and adjusts it to have a specific window to wall ratio."
   ]
  },
  {
   "cell_type": "markdown",
   "metadata": {
    "papermill": {
     "duration": 0.009492,
     "end_time": "2019-10-28T22:50:14.922118",
     "exception": false,
     "start_time": "2019-10-28T22:50:14.912626",
     "status": "completed"
    },
    "tags": []
   },
   "source": [
    "BESOS also includes some pre-defined parameter scripts:\n",
    "+ `wwr(Range)` for window to wall ratio  \n",
    "\n",
    "Here we define the WWR of all walls in the model to be between 10% and 90%."
   ]
  },
  {
   "cell_type": "code",
   "execution_count": 7,
   "metadata": {
    "papermill": {
     "duration": 0.01501,
     "end_time": "2019-10-28T22:50:14.946954",
     "exception": false,
     "start_time": "2019-10-28T22:50:14.931944",
     "status": "completed"
    },
    "tags": []
   },
   "outputs": [],
   "source": [
    "window_to_wall = GenericSelector(set=ef.wwr_all, setup=ef.one_window)"
   ]
  },
  {
   "cell_type": "markdown",
   "metadata": {
    "papermill": {
     "duration": 0.010314,
     "end_time": "2019-10-28T22:50:14.967554",
     "exception": false,
     "start_time": "2019-10-28T22:50:14.957240",
     "status": "completed"
    },
    "tags": []
   },
   "source": [
    "# Bundeling the Parameters\n",
    "\n",
    "We can bundle all the different parameters into a single parameters object."
   ]
  },
  {
   "cell_type": "code",
   "execution_count": 8,
   "metadata": {
    "papermill": {
     "duration": 0.015649,
     "end_time": "2019-10-28T22:50:14.993729",
     "exception": false,
     "start_time": "2019-10-28T22:50:14.978080",
     "status": "completed"
    },
    "tags": []
   },
   "outputs": [],
   "source": [
    "parameters= [Parameter(selector=x) for x in(insulation, lights, window_to_wall)]"
   ]
  },
  {
   "cell_type": "markdown",
   "metadata": {
    "papermill": {
     "duration": 0.009363,
     "end_time": "2019-10-28T22:50:15.012612",
     "exception": false,
     "start_time": "2019-10-28T22:50:15.003249",
     "status": "completed"
    },
    "tags": []
   },
   "source": [
    "# Extra: Sampling and evaluating the design space\n",
    "Since `Selectors` do not describe the values they can take on, only where those values go, they are not sufficient to explore the design space.  \n",
    "We can specify several samples manually to look at the design space."
   ]
  },
  {
   "cell_type": "code",
   "execution_count": 9,
   "metadata": {
    "papermill": {
     "duration": 0.025219,
     "end_time": "2019-10-28T22:50:15.047616",
     "exception": false,
     "start_time": "2019-10-28T22:50:15.022397",
     "status": "completed"
    },
    "tags": []
   },
   "outputs": [
    {
     "data": {
      "text/html": [
       "<div>\n",
       "<style scoped>\n",
       "    .dataframe tbody tr th:only-of-type {\n",
       "        vertical-align: middle;\n",
       "    }\n",
       "\n",
       "    .dataframe tbody tr th {\n",
       "        vertical-align: top;\n",
       "    }\n",
       "\n",
       "    .dataframe thead th {\n",
       "        text-align: right;\n",
       "    }\n",
       "</style>\n",
       "<table border=\"1\" class=\"dataframe\">\n",
       "  <thead>\n",
       "    <tr style=\"text-align: right;\">\n",
       "      <th></th>\n",
       "      <th>Thickness</th>\n",
       "      <th>Watts</th>\n",
       "      <th>wwr</th>\n",
       "    </tr>\n",
       "  </thead>\n",
       "  <tbody>\n",
       "    <tr>\n",
       "      <td>0</td>\n",
       "      <td>0.1</td>\n",
       "      <td>8</td>\n",
       "      <td>0.25</td>\n",
       "    </tr>\n",
       "    <tr>\n",
       "      <td>1</td>\n",
       "      <td>0.2</td>\n",
       "      <td>10</td>\n",
       "      <td>0.50</td>\n",
       "    </tr>\n",
       "    <tr>\n",
       "      <td>2</td>\n",
       "      <td>0.3</td>\n",
       "      <td>12</td>\n",
       "      <td>0.25</td>\n",
       "    </tr>\n",
       "    <tr>\n",
       "      <td>3</td>\n",
       "      <td>0.4</td>\n",
       "      <td>8</td>\n",
       "      <td>0.50</td>\n",
       "    </tr>\n",
       "    <tr>\n",
       "      <td>4</td>\n",
       "      <td>0.5</td>\n",
       "      <td>10</td>\n",
       "      <td>0.25</td>\n",
       "    </tr>\n",
       "    <tr>\n",
       "      <td>5</td>\n",
       "      <td>0.6</td>\n",
       "      <td>12</td>\n",
       "      <td>0.50</td>\n",
       "    </tr>\n",
       "    <tr>\n",
       "      <td>6</td>\n",
       "      <td>0.7</td>\n",
       "      <td>8</td>\n",
       "      <td>0.25</td>\n",
       "    </tr>\n",
       "    <tr>\n",
       "      <td>7</td>\n",
       "      <td>0.8</td>\n",
       "      <td>10</td>\n",
       "      <td>0.50</td>\n",
       "    </tr>\n",
       "    <tr>\n",
       "      <td>8</td>\n",
       "      <td>0.9</td>\n",
       "      <td>12</td>\n",
       "      <td>0.25</td>\n",
       "    </tr>\n",
       "    <tr>\n",
       "      <td>9</td>\n",
       "      <td>0.1</td>\n",
       "      <td>8</td>\n",
       "      <td>0.50</td>\n",
       "    </tr>\n",
       "    <tr>\n",
       "      <td>10</td>\n",
       "      <td>0.2</td>\n",
       "      <td>10</td>\n",
       "      <td>0.25</td>\n",
       "    </tr>\n",
       "    <tr>\n",
       "      <td>11</td>\n",
       "      <td>0.3</td>\n",
       "      <td>12</td>\n",
       "      <td>0.50</td>\n",
       "    </tr>\n",
       "    <tr>\n",
       "      <td>12</td>\n",
       "      <td>0.4</td>\n",
       "      <td>8</td>\n",
       "      <td>0.25</td>\n",
       "    </tr>\n",
       "    <tr>\n",
       "      <td>13</td>\n",
       "      <td>0.5</td>\n",
       "      <td>10</td>\n",
       "      <td>0.50</td>\n",
       "    </tr>\n",
       "    <tr>\n",
       "      <td>14</td>\n",
       "      <td>0.6</td>\n",
       "      <td>12</td>\n",
       "      <td>0.25</td>\n",
       "    </tr>\n",
       "    <tr>\n",
       "      <td>15</td>\n",
       "      <td>0.7</td>\n",
       "      <td>8</td>\n",
       "      <td>0.50</td>\n",
       "    </tr>\n",
       "    <tr>\n",
       "      <td>16</td>\n",
       "      <td>0.8</td>\n",
       "      <td>10</td>\n",
       "      <td>0.25</td>\n",
       "    </tr>\n",
       "    <tr>\n",
       "      <td>17</td>\n",
       "      <td>0.9</td>\n",
       "      <td>12</td>\n",
       "      <td>0.50</td>\n",
       "    </tr>\n",
       "  </tbody>\n",
       "</table>\n",
       "</div>"
      ],
      "text/plain": [
       "    Thickness  Watts   wwr\n",
       "0         0.1      8  0.25\n",
       "1         0.2     10  0.50\n",
       "2         0.3     12  0.25\n",
       "3         0.4      8  0.50\n",
       "4         0.5     10  0.25\n",
       "5         0.6     12  0.50\n",
       "6         0.7      8  0.25\n",
       "7         0.8     10  0.50\n",
       "8         0.9     12  0.25\n",
       "9         0.1      8  0.50\n",
       "10        0.2     10  0.25\n",
       "11        0.3     12  0.50\n",
       "12        0.4      8  0.25\n",
       "13        0.5     10  0.50\n",
       "14        0.6     12  0.25\n",
       "15        0.7      8  0.50\n",
       "16        0.8     10  0.25\n",
       "17        0.9     12  0.50"
      ]
     },
     "execution_count": 9,
     "metadata": {},
     "output_type": "execute_result"
    }
   ],
   "source": [
    "samples = pd.DataFrame({\n",
    "    'Thickness': [x/10 for x in range(1,10)]*2,\n",
    "    'Watts': [8,10,12]*6,\n",
    "    'wwr': [0.25, 0.5]*9\n",
    "})\n",
    "samples"
   ]
  },
  {
   "cell_type": "markdown",
   "metadata": {
    "papermill": {
     "duration": 0.010118,
     "end_time": "2019-10-28T22:50:15.067802",
     "exception": false,
     "start_time": "2019-10-28T22:50:15.057684",
     "status": "completed"
    },
    "tags": []
   },
   "source": [
    "We also need to put the `Selectors` in `Parameters` before we can use them in an `Evaluator`."
   ]
  },
  {
   "cell_type": "code",
   "execution_count": 10,
   "metadata": {
    "papermill": {
     "duration": 29.648622,
     "end_time": "2019-10-28T22:50:44.727030",
     "exception": false,
     "start_time": "2019-10-28T22:50:15.078408",
     "status": "completed"
    },
    "tags": []
   },
   "outputs": [
    {
     "data": {
      "application/vnd.jupyter.widget-view+json": {
       "model_id": "88525827355c461c8007bd7d4d027d7b",
       "version_major": 2,
       "version_minor": 0
      },
      "text/plain": [
       "HBox(children=(IntProgress(value=0, description='Executing', max=18, style=ProgressStyle(description_width='in…"
      ]
     },
     "metadata": {},
     "output_type": "display_data"
    },
    {
     "name": "stdout",
     "output_type": "stream",
     "text": [
      "\n"
     ]
    }
   ],
   "source": [
    "\n",
    "\n",
    "# the inputs to the problem will be the parameters\n",
    "# default objective is to minimize the sum of the Electricity:Facility\n",
    "problem = EPProblem(inputs=parameters)\n",
    "\n",
    "# The evaluator will take the problem and building file\n",
    "evaluator = EvaluatorEP(problem, building)\n",
    "\n",
    "# We can apply some samples to the problem\n",
    "outputs = evaluator.df_apply(samples ,keep_input=True)\n"
   ]
  },
  {
   "cell_type": "code",
   "execution_count": 11,
   "metadata": {
    "papermill": {
     "duration": 0.021685,
     "end_time": "2019-10-28T22:50:44.759499",
     "exception": false,
     "start_time": "2019-10-28T22:50:44.737814",
     "status": "completed"
    },
    "tags": []
   },
   "outputs": [
    {
     "data": {
      "text/html": [
       "<div>\n",
       "<style scoped>\n",
       "    .dataframe tbody tr th:only-of-type {\n",
       "        vertical-align: middle;\n",
       "    }\n",
       "\n",
       "    .dataframe tbody tr th {\n",
       "        vertical-align: top;\n",
       "    }\n",
       "\n",
       "    .dataframe thead th {\n",
       "        text-align: right;\n",
       "    }\n",
       "</style>\n",
       "<table border=\"1\" class=\"dataframe\">\n",
       "  <thead>\n",
       "    <tr style=\"text-align: right;\">\n",
       "      <th></th>\n",
       "      <th>Thickness</th>\n",
       "      <th>Watts</th>\n",
       "      <th>wwr</th>\n",
       "      <th>Electricity:Facility</th>\n",
       "    </tr>\n",
       "  </thead>\n",
       "  <tbody>\n",
       "    <tr>\n",
       "      <td>0</td>\n",
       "      <td>0.1</td>\n",
       "      <td>8</td>\n",
       "      <td>0.25</td>\n",
       "      <td>1.605449e+09</td>\n",
       "    </tr>\n",
       "    <tr>\n",
       "      <td>1</td>\n",
       "      <td>0.2</td>\n",
       "      <td>10</td>\n",
       "      <td>0.50</td>\n",
       "      <td>1.720154e+09</td>\n",
       "    </tr>\n",
       "    <tr>\n",
       "      <td>2</td>\n",
       "      <td>0.3</td>\n",
       "      <td>12</td>\n",
       "      <td>0.25</td>\n",
       "      <td>1.836143e+09</td>\n",
       "    </tr>\n",
       "    <tr>\n",
       "      <td>3</td>\n",
       "      <td>0.4</td>\n",
       "      <td>8</td>\n",
       "      <td>0.50</td>\n",
       "      <td>1.544536e+09</td>\n",
       "    </tr>\n",
       "    <tr>\n",
       "      <td>4</td>\n",
       "      <td>0.5</td>\n",
       "      <td>10</td>\n",
       "      <td>0.25</td>\n",
       "      <td>1.676760e+09</td>\n",
       "    </tr>\n",
       "    <tr>\n",
       "      <td>5</td>\n",
       "      <td>0.6</td>\n",
       "      <td>12</td>\n",
       "      <td>0.50</td>\n",
       "      <td>1.803648e+09</td>\n",
       "    </tr>\n",
       "    <tr>\n",
       "      <td>6</td>\n",
       "      <td>0.7</td>\n",
       "      <td>8</td>\n",
       "      <td>0.25</td>\n",
       "      <td>1.518209e+09</td>\n",
       "    </tr>\n",
       "    <tr>\n",
       "      <td>7</td>\n",
       "      <td>0.8</td>\n",
       "      <td>10</td>\n",
       "      <td>0.50</td>\n",
       "      <td>1.655640e+09</td>\n",
       "    </tr>\n",
       "    <tr>\n",
       "      <td>8</td>\n",
       "      <td>0.9</td>\n",
       "      <td>12</td>\n",
       "      <td>0.25</td>\n",
       "      <td>1.783915e+09</td>\n",
       "    </tr>\n",
       "    <tr>\n",
       "      <td>9</td>\n",
       "      <td>0.1</td>\n",
       "      <td>8</td>\n",
       "      <td>0.50</td>\n",
       "      <td>1.605449e+09</td>\n",
       "    </tr>\n",
       "    <tr>\n",
       "      <td>10</td>\n",
       "      <td>0.2</td>\n",
       "      <td>10</td>\n",
       "      <td>0.25</td>\n",
       "      <td>1.720154e+09</td>\n",
       "    </tr>\n",
       "    <tr>\n",
       "      <td>11</td>\n",
       "      <td>0.3</td>\n",
       "      <td>12</td>\n",
       "      <td>0.50</td>\n",
       "      <td>1.836143e+09</td>\n",
       "    </tr>\n",
       "    <tr>\n",
       "      <td>12</td>\n",
       "      <td>0.4</td>\n",
       "      <td>8</td>\n",
       "      <td>0.25</td>\n",
       "      <td>1.544536e+09</td>\n",
       "    </tr>\n",
       "    <tr>\n",
       "      <td>13</td>\n",
       "      <td>0.5</td>\n",
       "      <td>10</td>\n",
       "      <td>0.50</td>\n",
       "      <td>1.676760e+09</td>\n",
       "    </tr>\n",
       "    <tr>\n",
       "      <td>14</td>\n",
       "      <td>0.6</td>\n",
       "      <td>12</td>\n",
       "      <td>0.25</td>\n",
       "      <td>1.803648e+09</td>\n",
       "    </tr>\n",
       "    <tr>\n",
       "      <td>15</td>\n",
       "      <td>0.7</td>\n",
       "      <td>8</td>\n",
       "      <td>0.50</td>\n",
       "      <td>1.518209e+09</td>\n",
       "    </tr>\n",
       "    <tr>\n",
       "      <td>16</td>\n",
       "      <td>0.8</td>\n",
       "      <td>10</td>\n",
       "      <td>0.25</td>\n",
       "      <td>1.655640e+09</td>\n",
       "    </tr>\n",
       "    <tr>\n",
       "      <td>17</td>\n",
       "      <td>0.9</td>\n",
       "      <td>12</td>\n",
       "      <td>0.50</td>\n",
       "      <td>1.783915e+09</td>\n",
       "    </tr>\n",
       "  </tbody>\n",
       "</table>\n",
       "</div>"
      ],
      "text/plain": [
       "    Thickness  Watts   wwr  Electricity:Facility\n",
       "0         0.1      8  0.25          1.605449e+09\n",
       "1         0.2     10  0.50          1.720154e+09\n",
       "2         0.3     12  0.25          1.836143e+09\n",
       "3         0.4      8  0.50          1.544536e+09\n",
       "4         0.5     10  0.25          1.676760e+09\n",
       "5         0.6     12  0.50          1.803648e+09\n",
       "6         0.7      8  0.25          1.518209e+09\n",
       "7         0.8     10  0.50          1.655640e+09\n",
       "8         0.9     12  0.25          1.783915e+09\n",
       "9         0.1      8  0.50          1.605449e+09\n",
       "10        0.2     10  0.25          1.720154e+09\n",
       "11        0.3     12  0.50          1.836143e+09\n",
       "12        0.4      8  0.25          1.544536e+09\n",
       "13        0.5     10  0.50          1.676760e+09\n",
       "14        0.6     12  0.25          1.803648e+09\n",
       "15        0.7      8  0.50          1.518209e+09\n",
       "16        0.8     10  0.25          1.655640e+09\n",
       "17        0.9     12  0.50          1.783915e+09"
      ]
     },
     "execution_count": 11,
     "metadata": {},
     "output_type": "execute_result"
    }
   ],
   "source": [
    "outputs"
   ]
  },
  {
   "cell_type": "code",
   "execution_count": null,
   "metadata": {
    "papermill": {
     "duration": 0.010058,
     "end_time": "2019-10-28T22:50:44.779565",
     "exception": false,
     "start_time": "2019-10-28T22:50:44.769507",
     "status": "completed"
    },
    "tags": []
   },
   "outputs": [],
   "source": []
  }
 ],
 "metadata": {
  "jupytext": {
   "formats": "ipynb,py:light"
  },
  "kernelspec": {
   "display_name": "Python 3",
   "language": "python",
   "name": "python3"
  },
  "language_info": {
   "codemirror_mode": {
    "name": "ipython",
    "version": 3
   },
   "file_extension": ".py",
   "mimetype": "text/x-python",
   "name": "python",
   "nbconvert_exporter": "python",
   "pygments_lexer": "ipython3",
   "version": "3.6.4"
  },
  "papermill": {
   "duration": 32.393499,
   "end_time": "2019-10-28T22:50:45.198023",
   "environment_variables": {},
   "exception": null,
   "input_path": "./Evaluators/Selectors.ipynb",
   "output_path": "./Evaluators/Selectors.ipynb",
   "parameters": {},
   "start_time": "2019-10-28T22:50:12.804524",
   "version": "1.2.0"
  },
  "widgets": {
   "application/vnd.jupyter.widget-state+json": {
    "state": {
     "4b5b7772ef9247b8bd09dd9fe46482e2": {
      "model_module": "@jupyter-widgets/controls",
      "model_module_version": "1.5.0",
      "model_name": "IntProgressModel",
      "state": {
       "_dom_classes": [],
       "_model_module": "@jupyter-widgets/controls",
       "_model_module_version": "1.5.0",
       "_model_name": "IntProgressModel",
       "_view_count": null,
       "_view_module": "@jupyter-widgets/controls",
       "_view_module_version": "1.5.0",
       "_view_name": "ProgressView",
       "bar_style": "success",
       "description": "Executing: 100%",
       "description_tooltip": null,
       "layout": "IPY_MODEL_e25cbc360a4b441884b273014fc2e6c1",
       "max": 18,
       "min": 0,
       "orientation": "horizontal",
       "style": "IPY_MODEL_8d87e1d35e76481d88a3fe34d1d0ed1b",
       "value": 18
      }
     },
     "63d8b9705de941ba9beb7329c2752209": {
      "model_module": "@jupyter-widgets/controls",
      "model_module_version": "1.5.0",
      "model_name": "HTMLModel",
      "state": {
       "_dom_classes": [],
       "_model_module": "@jupyter-widgets/controls",
       "_model_module_version": "1.5.0",
       "_model_name": "HTMLModel",
       "_view_count": null,
       "_view_module": "@jupyter-widgets/controls",
       "_view_module_version": "1.5.0",
       "_view_name": "HTMLView",
       "description": "",
       "description_tooltip": null,
       "layout": "IPY_MODEL_df433e4877534ec285e2aaa9848a5892",
       "placeholder": "​",
       "style": "IPY_MODEL_67ae8c01158b4c979d33118d3bd68b76",
       "value": " 18/18 [00:29&lt;00:00,  1.65s/row]"
      }
     },
     "67ae8c01158b4c979d33118d3bd68b76": {
      "model_module": "@jupyter-widgets/controls",
      "model_module_version": "1.5.0",
      "model_name": "DescriptionStyleModel",
      "state": {
       "_model_module": "@jupyter-widgets/controls",
       "_model_module_version": "1.5.0",
       "_model_name": "DescriptionStyleModel",
       "_view_count": null,
       "_view_module": "@jupyter-widgets/base",
       "_view_module_version": "1.2.0",
       "_view_name": "StyleView",
       "description_width": ""
      }
     },
     "88525827355c461c8007bd7d4d027d7b": {
      "model_module": "@jupyter-widgets/controls",
      "model_module_version": "1.5.0",
      "model_name": "HBoxModel",
      "state": {
       "_dom_classes": [],
       "_model_module": "@jupyter-widgets/controls",
       "_model_module_version": "1.5.0",
       "_model_name": "HBoxModel",
       "_view_count": null,
       "_view_module": "@jupyter-widgets/controls",
       "_view_module_version": "1.5.0",
       "_view_name": "HBoxView",
       "box_style": "",
       "children": [
        "IPY_MODEL_4b5b7772ef9247b8bd09dd9fe46482e2",
        "IPY_MODEL_63d8b9705de941ba9beb7329c2752209"
       ],
       "layout": "IPY_MODEL_bea303dea28c4ac1a615d9215e293d6c"
      }
     },
     "8d87e1d35e76481d88a3fe34d1d0ed1b": {
      "model_module": "@jupyter-widgets/controls",
      "model_module_version": "1.5.0",
      "model_name": "ProgressStyleModel",
      "state": {
       "_model_module": "@jupyter-widgets/controls",
       "_model_module_version": "1.5.0",
       "_model_name": "ProgressStyleModel",
       "_view_count": null,
       "_view_module": "@jupyter-widgets/base",
       "_view_module_version": "1.2.0",
       "_view_name": "StyleView",
       "bar_color": null,
       "description_width": "initial"
      }
     },
     "bea303dea28c4ac1a615d9215e293d6c": {
      "model_module": "@jupyter-widgets/base",
      "model_module_version": "1.2.0",
      "model_name": "LayoutModel",
      "state": {
       "_model_module": "@jupyter-widgets/base",
       "_model_module_version": "1.2.0",
       "_model_name": "LayoutModel",
       "_view_count": null,
       "_view_module": "@jupyter-widgets/base",
       "_view_module_version": "1.2.0",
       "_view_name": "LayoutView",
       "align_content": null,
       "align_items": null,
       "align_self": null,
       "border": null,
       "bottom": null,
       "display": null,
       "flex": null,
       "flex_flow": null,
       "grid_area": null,
       "grid_auto_columns": null,
       "grid_auto_flow": null,
       "grid_auto_rows": null,
       "grid_column": null,
       "grid_gap": null,
       "grid_row": null,
       "grid_template_areas": null,
       "grid_template_columns": null,
       "grid_template_rows": null,
       "height": null,
       "justify_content": null,
       "justify_items": null,
       "left": null,
       "margin": null,
       "max_height": null,
       "max_width": null,
       "min_height": null,
       "min_width": null,
       "object_fit": null,
       "object_position": null,
       "order": null,
       "overflow": null,
       "overflow_x": null,
       "overflow_y": null,
       "padding": null,
       "right": null,
       "top": null,
       "visibility": null,
       "width": null
      }
     },
     "df433e4877534ec285e2aaa9848a5892": {
      "model_module": "@jupyter-widgets/base",
      "model_module_version": "1.2.0",
      "model_name": "LayoutModel",
      "state": {
       "_model_module": "@jupyter-widgets/base",
       "_model_module_version": "1.2.0",
       "_model_name": "LayoutModel",
       "_view_count": null,
       "_view_module": "@jupyter-widgets/base",
       "_view_module_version": "1.2.0",
       "_view_name": "LayoutView",
       "align_content": null,
       "align_items": null,
       "align_self": null,
       "border": null,
       "bottom": null,
       "display": null,
       "flex": null,
       "flex_flow": null,
       "grid_area": null,
       "grid_auto_columns": null,
       "grid_auto_flow": null,
       "grid_auto_rows": null,
       "grid_column": null,
       "grid_gap": null,
       "grid_row": null,
       "grid_template_areas": null,
       "grid_template_columns": null,
       "grid_template_rows": null,
       "height": null,
       "justify_content": null,
       "justify_items": null,
       "left": null,
       "margin": null,
       "max_height": null,
       "max_width": null,
       "min_height": null,
       "min_width": null,
       "object_fit": null,
       "object_position": null,
       "order": null,
       "overflow": null,
       "overflow_x": null,
       "overflow_y": null,
       "padding": null,
       "right": null,
       "top": null,
       "visibility": null,
       "width": null
      }
     },
     "e25cbc360a4b441884b273014fc2e6c1": {
      "model_module": "@jupyter-widgets/base",
      "model_module_version": "1.2.0",
      "model_name": "LayoutModel",
      "state": {
       "_model_module": "@jupyter-widgets/base",
       "_model_module_version": "1.2.0",
       "_model_name": "LayoutModel",
       "_view_count": null,
       "_view_module": "@jupyter-widgets/base",
       "_view_module_version": "1.2.0",
       "_view_name": "LayoutView",
       "align_content": null,
       "align_items": null,
       "align_self": null,
       "border": null,
       "bottom": null,
       "display": null,
       "flex": null,
       "flex_flow": null,
       "grid_area": null,
       "grid_auto_columns": null,
       "grid_auto_flow": null,
       "grid_auto_rows": null,
       "grid_column": null,
       "grid_gap": null,
       "grid_row": null,
       "grid_template_areas": null,
       "grid_template_columns": null,
       "grid_template_rows": null,
       "height": null,
       "justify_content": null,
       "justify_items": null,
       "left": null,
       "margin": null,
       "max_height": null,
       "max_width": null,
       "min_height": null,
       "min_width": null,
       "object_fit": null,
       "object_position": null,
       "order": null,
       "overflow": null,
       "overflow_x": null,
       "overflow_y": null,
       "padding": null,
       "right": null,
       "top": null,
       "visibility": null,
       "width": null
      }
     }
    },
    "version_major": 2,
    "version_minor": 0
   }
  }
 },
 "nbformat": 4,
 "nbformat_minor": 4
}