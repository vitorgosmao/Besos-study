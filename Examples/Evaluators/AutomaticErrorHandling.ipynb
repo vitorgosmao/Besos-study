{
 "cells": [
  {
   "cell_type": "markdown",
   "metadata": {
    "papermill": {
     "duration": 0.011186,
     "end_time": "2019-10-28T22:51:25.867433",
     "exception": false,
     "start_time": "2019-10-28T22:51:25.856247",
     "status": "completed"
    },
    "tags": []
   },
   "source": [
    "# Automatic Error Handling\n",
    "\n",
    "Sometimes there are parts of the design space that we want to explore that will cause the EnergyPlus simulation to fail, such as invalid combinations of parameter values. "
   ]
  },
  {
   "cell_type": "code",
   "execution_count": 1,
   "metadata": {
    "papermill": {
     "duration": 1.152866,
     "end_time": "2019-10-28T22:51:27.030144",
     "exception": false,
     "start_time": "2019-10-28T22:51:25.877278",
     "status": "completed"
    },
    "tags": []
   },
   "outputs": [],
   "source": [
    "import pandas as pd\n",
    "import copy\n",
    "from subprocess import CalledProcessError\n",
    "\n",
    "from besos import eppy_funcs as ef\n",
    "from besos import sampling\n",
    "from besos.evaluator import EvaluatorEP\n",
    "from besos.parameters import RangeParameter, CategoryParameter, Parameter, FieldSelector\n",
    "from besos.problem import EPProblem"
   ]
  },
  {
   "cell_type": "markdown",
   "metadata": {
    "papermill": {
     "duration": 0.004313,
     "end_time": "2019-10-28T22:51:27.039928",
     "exception": false,
     "start_time": "2019-10-28T22:51:27.035615",
     "status": "completed"
    },
    "tags": []
   },
   "source": [
    "In this example, we load the emaple model and try to use an undefined material `Invalid Material`."
   ]
  },
  {
   "cell_type": "code",
   "execution_count": 2,
   "metadata": {
    "papermill": {
     "duration": 0.026823,
     "end_time": "2019-10-28T22:51:27.071753",
     "exception": false,
     "start_time": "2019-10-28T22:51:27.044930",
     "status": "completed"
    },
    "tags": []
   },
   "outputs": [
    {
     "data": {
      "text/html": [
       "<div>\n",
       "<style scoped>\n",
       "    .dataframe tbody tr th:only-of-type {\n",
       "        vertical-align: middle;\n",
       "    }\n",
       "\n",
       "    .dataframe tbody tr th {\n",
       "        vertical-align: top;\n",
       "    }\n",
       "\n",
       "    .dataframe thead th {\n",
       "        text-align: right;\n",
       "    }\n",
       "</style>\n",
       "<table border=\"1\" class=\"dataframe\">\n",
       "  <thead>\n",
       "    <tr style=\"text-align: right;\">\n",
       "      <th></th>\n",
       "      <th>Thickness</th>\n",
       "      <th>Outside Layer</th>\n",
       "    </tr>\n",
       "  </thead>\n",
       "  <tbody>\n",
       "    <tr>\n",
       "      <td>0</td>\n",
       "      <td>0.823552</td>\n",
       "      <td>Invalid Material</td>\n",
       "    </tr>\n",
       "    <tr>\n",
       "      <td>1</td>\n",
       "      <td>0.729157</td>\n",
       "      <td>HW CONCRETE</td>\n",
       "    </tr>\n",
       "    <tr>\n",
       "      <td>2</td>\n",
       "      <td>0.404515</td>\n",
       "      <td>Invalid Material</td>\n",
       "    </tr>\n",
       "    <tr>\n",
       "      <td>3</td>\n",
       "      <td>0.293819</td>\n",
       "      <td>Invalid Material</td>\n",
       "    </tr>\n",
       "    <tr>\n",
       "      <td>4</td>\n",
       "      <td>0.065249</td>\n",
       "      <td>HW CONCRETE</td>\n",
       "    </tr>\n",
       "  </tbody>\n",
       "</table>\n",
       "</div>"
      ],
      "text/plain": [
       "   Thickness     Outside Layer\n",
       "0   0.823552  Invalid Material\n",
       "1   0.729157       HW CONCRETE\n",
       "2   0.404515  Invalid Material\n",
       "3   0.293819  Invalid Material\n",
       "4   0.065249       HW CONCRETE"
      ]
     },
     "execution_count": 2,
     "metadata": {},
     "output_type": "execute_result"
    }
   ],
   "source": [
    "building = ef.get_building()\n",
    "\n",
    "problem = EPProblem([\n",
    "    Parameter(\n",
    "        FieldSelector(object_name='Mass NonRes Wall Insulation', field_name='Thickness'),\n",
    "        RangeParameter(min_val = 0.01, max_val=0.99)),\n",
    "    Parameter(\n",
    "        FieldSelector(class_name='Construction', object_name='ext-slab', field_name='Outside Layer'),\n",
    "        CategoryParameter(options=('HW CONCRETE', 'Invalid Material')))])\n",
    "\n",
    "samples = sampling.dist_sampler(sampling.lhs, problem, 5)\n",
    "samples"
   ]
  },
  {
   "cell_type": "markdown",
   "metadata": {
    "papermill": {
     "duration": 0.004682,
     "end_time": "2019-10-28T22:51:27.081398",
     "exception": false,
     "start_time": "2019-10-28T22:51:27.076716",
     "status": "completed"
    },
    "tags": []
   },
   "source": [
    "By default, evaluation of a DataFrame of parameters will end when an invalid combination is encountered."
   ]
  },
  {
   "cell_type": "code",
   "execution_count": 3,
   "metadata": {
    "papermill": {
     "duration": 0.340856,
     "end_time": "2019-10-28T22:51:27.426949",
     "exception": false,
     "start_time": "2019-10-28T22:51:27.086093",
     "status": "completed"
    },
    "tags": []
   },
   "outputs": [
    {
     "data": {
      "application/vnd.jupyter.widget-view+json": {
       "model_id": "ffa376c073004d5aacb3649b0fbe2ad3",
       "version_major": 2,
       "version_minor": 0
      },
      "text/plain": [
       "HBox(children=(IntProgress(value=0, description='Executing', max=5, style=ProgressStyle(description_width='ini…"
      ]
     },
     "metadata": {},
     "output_type": "display_data"
    },
    {
     "name": "stdout",
     "output_type": "stream",
     "text": [
      "Program Version,EnergyPlus, Version 9.0.1-bb7ca4f0da, YMD=2019.10.28 15:51,\n",
      "\n",
      "   ************* Beginning Zone Sizing Calculations\n",
      "\n",
      "   ** Severe  ** Did not find matching material for Construction EXT-SLAB, missing material = INVALID MATERIAL\n",
      "\n",
      "   **  Fatal  ** GetSurfaceData: Errors discovered, program terminates.\n",
      "\n",
      "   ...Summary of Errors that led to program termination:\n",
      "\n",
      "   ..... Reference severe error count=1\n",
      "\n",
      "   ..... Last severe error=Did not find matching material for Construction EXT-SLAB, missing material = INVALID MATERIAL\n",
      "\n",
      "   ************* Warning:  Node connection errors not checked - most system input has not been read (see previous warning).\n",
      "\n",
      "   ************* Fatal error -- final processing.  Program exited before simulations began.  See previous error messages.\n",
      "\n",
      "   ************* EnergyPlus Warmup Error Summary. During Warmup: 0 Warning; 0 Severe Errors.\n",
      "\n",
      "   ************* EnergyPlus Sizing Error Summary. During Sizing: 0 Warning; 1 Severe Errors.\n",
      "\n",
      "   ************* EnergyPlus Terminated--Fatal Error Detected. 0 Warning; 1 Severe Errors; Elapsed Time=00hr 00min  0.24sec\n",
      "\n",
      "\n",
      "caught Command '['/usr/local/EnergyPlus-9-0-1/energyplus', '--idd', '/usr/local/EnergyPlus-9-0-1/Energy+.schema.epJSON', '--weather', '/home/evan/anaconda3/lib/python3.6/site-packages/Data/example_epw.epw', '/home/evan/Documents/besos-mv/Examples/Evaluators/outputdir/BESOS_Output/in.epJSON']' returned non-zero exit status 1.\n"
     ]
    },
    {
     "name": "stderr",
     "output_type": "stream",
     "text": [
      "/home/evan/anaconda3/lib/python3.6/site-packages/besos/evaluator.py:222: UserWarning: for inputs: ['Thickness', 'Outside Layer'] problematic values were: (0.8235515577474863, 'Invalid Material')\n",
      "  warn(msg)\n"
     ]
    }
   ],
   "source": [
    "try:\n",
    "    EvaluatorEP(problem, building, error_mode='Failfast', out_dir='outputdir', err_dir='outputdir').df_apply(samples)\n",
    "except Exception as e:\n",
    "    print('caught', e)"
   ]
  },
  {
   "cell_type": "markdown",
   "metadata": {
    "papermill": {
     "duration": 0.006467,
     "end_time": "2019-10-28T22:51:27.440335",
     "exception": false,
     "start_time": "2019-10-28T22:51:27.433868",
     "status": "completed"
    },
    "tags": []
   },
   "source": [
    "However sometimes we want to have a fallback value for these invalid states.  \n",
    "For example, with an optimization algorithm that is minimizing, we can set a very high output value.  \n",
    "This can be specified with the `error_value` argument for evaluators.  \n",
    "It must be of the form `(objective_values, constraint_values)` where objective_values and constraint_values are tuples of the same length as the number of objectives/constraints.  \n",
    "Since we have 1 objective and no constraints, we use a tuple with one item for objective_values, and an empty tuple for the constraint values."
   ]
  },
  {
   "cell_type": "code",
   "execution_count": 4,
   "metadata": {
    "papermill": {
     "duration": 3.728747,
     "end_time": "2019-10-28T22:51:31.174925",
     "exception": false,
     "start_time": "2019-10-28T22:51:27.446178",
     "status": "completed"
    },
    "tags": []
   },
   "outputs": [
    {
     "data": {
      "application/vnd.jupyter.widget-view+json": {
       "model_id": "7bbf1ad66a4a419f8081cfe798f6ec3e",
       "version_major": 2,
       "version_minor": 0
      },
      "text/plain": [
       "HBox(children=(IntProgress(value=0, description='Executing', max=5, style=ProgressStyle(description_width='ini…"
      ]
     },
     "metadata": {},
     "output_type": "display_data"
    },
    {
     "name": "stdout",
     "output_type": "stream",
     "text": [
      "Program Version,EnergyPlus, Version 9.0.1-bb7ca4f0da, YMD=2019.10.28 15:51,\n",
      "\n",
      "   ************* Beginning Zone Sizing Calculations\n",
      "\n",
      "   ** Severe  ** Did not find matching material for Construction EXT-SLAB, missing material = INVALID MATERIAL\n",
      "\n",
      "   **  Fatal  ** GetSurfaceData: Errors discovered, program terminates.\n",
      "\n",
      "   ...Summary of Errors that led to program termination:\n",
      "\n",
      "   ..... Reference severe error count=1\n",
      "\n",
      "   ..... Last severe error=Did not find matching material for Construction EXT-SLAB, missing material = INVALID MATERIAL\n",
      "\n",
      "   ************* Warning:  Node connection errors not checked - most system input has not been read (see previous warning).\n",
      "\n",
      "   ************* Fatal error -- final processing.  Program exited before simulations began.  See previous error messages.\n",
      "\n",
      "   ************* EnergyPlus Warmup Error Summary. During Warmup: 0 Warning; 0 Severe Errors.\n",
      "\n",
      "   ************* EnergyPlus Sizing Error Summary. During Sizing: 0 Warning; 1 Severe Errors.\n",
      "\n",
      "   ************* EnergyPlus Terminated--Fatal Error Detected. 0 Warning; 1 Severe Errors; Elapsed Time=00hr 00min  0.23sec\n",
      "\n",
      "\n"
     ]
    },
    {
     "name": "stdout",
     "output_type": "stream",
     "text": [
      "\n"
     ]
    },
    {
     "name": "stdout",
     "output_type": "stream",
     "text": [
      "Program Version,EnergyPlus, Version 9.0.1-bb7ca4f0da, YMD=2019.10.28 15:51,\n",
      "\n",
      "   ************* Beginning Zone Sizing Calculations\n",
      "\n",
      "   ** Severe  ** Did not find matching material for Construction EXT-SLAB, missing material = INVALID MATERIAL\n",
      "\n",
      "   **  Fatal  ** GetSurfaceData: Errors discovered, program terminates.\n",
      "\n",
      "   ...Summary of Errors that led to program termination:\n",
      "\n",
      "   ..... Reference severe error count=1\n",
      "\n",
      "   ..... Last severe error=Did not find matching material for Construction EXT-SLAB, missing material = INVALID MATERIAL\n",
      "\n",
      "   ************* Warning:  Node connection errors not checked - most system input has not been read (see previous warning).\n",
      "\n",
      "   ************* Fatal error -- final processing.  Program exited before simulations began.  See previous error messages.\n",
      "\n",
      "   ************* EnergyPlus Warmup Error Summary. During Warmup: 0 Warning; 0 Severe Errors.\n",
      "\n",
      "   ************* EnergyPlus Sizing Error Summary. During Sizing: 0 Warning; 1 Severe Errors.\n",
      "\n",
      "   ************* EnergyPlus Terminated--Fatal Error Detected. 0 Warning; 1 Severe Errors; Elapsed Time=00hr 00min  0.21sec\n",
      "\n",
      "\n"
     ]
    },
    {
     "name": "stderr",
     "output_type": "stream",
     "text": [
      "/home/evan/anaconda3/lib/python3.6/site-packages/besos/evaluator.py:222: UserWarning: for inputs: ['Thickness', 'Outside Layer'] problematic values were: (0.4045145306107555, 'Invalid Material')\n",
      "  warn(msg)\n"
     ]
    },
    {
     "name": "stdout",
     "output_type": "stream",
     "text": [
      "Program Version,EnergyPlus, Version 9.0.1-bb7ca4f0da, YMD=2019.10.28 15:51,\n",
      "\n",
      "   ************* Beginning Zone Sizing Calculations\n",
      "\n",
      "   ** Severe  ** Did not find matching material for Construction EXT-SLAB, missing material = INVALID MATERIAL\n",
      "\n",
      "   **  Fatal  ** GetSurfaceData: Errors discovered, program terminates.\n",
      "\n",
      "   ...Summary of Errors that led to program termination:\n",
      "\n",
      "   ..... Reference severe error count=1\n",
      "\n",
      "   ..... Last severe error=Did not find matching material for Construction EXT-SLAB, missing material = INVALID MATERIAL\n",
      "\n",
      "   ************* Warning:  Node connection errors not checked - most system input has not been read (see previous warning).\n",
      "\n",
      "   ************* Fatal error -- final processing.  Program exited before simulations began.  See previous error messages.\n",
      "\n",
      "   ************* EnergyPlus Warmup Error Summary. During Warmup: 0 Warning; 0 Severe Errors.\n",
      "\n",
      "   ************* EnergyPlus Sizing Error Summary. During Sizing: 0 Warning; 1 Severe Errors.\n",
      "\n",
      "   ************* EnergyPlus Terminated--Fatal Error Detected. 0 Warning; 1 Severe Errors; Elapsed Time=00hr 00min  0.21sec\n",
      "\n",
      "\n"
     ]
    },
    {
     "name": "stderr",
     "output_type": "stream",
     "text": [
      "/home/evan/anaconda3/lib/python3.6/site-packages/besos/evaluator.py:222: UserWarning: for inputs: ['Thickness', 'Outside Layer'] problematic values were: (0.2938185752328907, 'Invalid Material')\n",
      "  warn(msg)\n"
     ]
    },
    {
     "name": "stdout",
     "output_type": "stream",
     "text": [
      "\n"
     ]
    },
    {
     "data": {
      "text/html": [
       "<div>\n",
       "<style scoped>\n",
       "    .dataframe tbody tr th:only-of-type {\n",
       "        vertical-align: middle;\n",
       "    }\n",
       "\n",
       "    .dataframe tbody tr th {\n",
       "        vertical-align: top;\n",
       "    }\n",
       "\n",
       "    .dataframe thead th {\n",
       "        text-align: right;\n",
       "    }\n",
       "</style>\n",
       "<table border=\"1\" class=\"dataframe\">\n",
       "  <thead>\n",
       "    <tr style=\"text-align: right;\">\n",
       "      <th></th>\n",
       "      <th>Electricity:Facility</th>\n",
       "    </tr>\n",
       "  </thead>\n",
       "  <tbody>\n",
       "    <tr>\n",
       "      <td>0</td>\n",
       "      <td>1.000000e+20</td>\n",
       "    </tr>\n",
       "    <tr>\n",
       "      <td>1</td>\n",
       "      <td>1.814138e+09</td>\n",
       "    </tr>\n",
       "    <tr>\n",
       "      <td>2</td>\n",
       "      <td>1.000000e+20</td>\n",
       "    </tr>\n",
       "    <tr>\n",
       "      <td>3</td>\n",
       "      <td>1.000000e+20</td>\n",
       "    </tr>\n",
       "    <tr>\n",
       "      <td>4</td>\n",
       "      <td>1.847449e+09</td>\n",
       "    </tr>\n",
       "  </tbody>\n",
       "</table>\n",
       "</div>"
      ],
      "text/plain": [
       "   Electricity:Facility\n",
       "0          1.000000e+20\n",
       "1          1.814138e+09\n",
       "2          1.000000e+20\n",
       "3          1.000000e+20\n",
       "4          1.847449e+09"
      ]
     },
     "execution_count": 4,
     "metadata": {},
     "output_type": "execute_result"
    }
   ],
   "source": [
    "error_value=((10.0**20,), ())\n",
    "\n",
    "EvaluatorEP(problem, building, error_mode='Print', error_value=error_value).df_apply(samples)"
   ]
  },
  {
   "cell_type": "markdown",
   "metadata": {
    "papermill": {
     "duration": 0.008233,
     "end_time": "2019-10-28T22:51:31.192813",
     "exception": false,
     "start_time": "2019-10-28T22:51:31.184580",
     "status": "completed"
    },
    "tags": []
   },
   "source": [
    "This time, we got a warning for the invalid states, and our error value was used as the result.  \n",
    "If we do not want to display these warnings, we can set the `error_mode='Silent'`.  \n",
    "Omiting the error value will use a reasonable default, set to the opposite of what we are optimizing each objective towards. (This does not work for problems with constraints)."
   ]
  },
  {
   "cell_type": "code",
   "execution_count": 5,
   "metadata": {
    "papermill": {
     "duration": 0.014652,
     "end_time": "2019-10-28T22:51:31.216122",
     "exception": false,
     "start_time": "2019-10-28T22:51:31.201470",
     "status": "completed"
    },
    "tags": []
   },
   "outputs": [
    {
     "name": "stdout",
     "output_type": "stream",
     "text": [
      "Error value defaulted to: ((inf,), ())\n"
     ]
    }
   ],
   "source": [
    "evaluator = EvaluatorEP(problem, building, error_mode='Silent')\n",
    "print('Error value defaulted to:', evaluator.error_value)"
   ]
  },
  {
   "cell_type": "code",
   "execution_count": 6,
   "metadata": {
    "papermill": {
     "duration": 3.822997,
     "end_time": "2019-10-28T22:51:35.047185",
     "exception": false,
     "start_time": "2019-10-28T22:51:31.224188",
     "status": "completed"
    },
    "tags": []
   },
   "outputs": [
    {
     "data": {
      "application/vnd.jupyter.widget-view+json": {
       "model_id": "dfc85bcfd2514434a5a7503b38620767",
       "version_major": 2,
       "version_minor": 0
      },
      "text/plain": [
       "HBox(children=(IntProgress(value=0, description='Executing', max=5, style=ProgressStyle(description_width='ini…"
      ]
     },
     "metadata": {},
     "output_type": "display_data"
    },
    {
     "name": "stdout",
     "output_type": "stream",
     "text": [
      "\n"
     ]
    },
    {
     "data": {
      "text/html": [
       "<div>\n",
       "<style scoped>\n",
       "    .dataframe tbody tr th:only-of-type {\n",
       "        vertical-align: middle;\n",
       "    }\n",
       "\n",
       "    .dataframe tbody tr th {\n",
       "        vertical-align: top;\n",
       "    }\n",
       "\n",
       "    .dataframe thead th {\n",
       "        text-align: right;\n",
       "    }\n",
       "</style>\n",
       "<table border=\"1\" class=\"dataframe\">\n",
       "  <thead>\n",
       "    <tr style=\"text-align: right;\">\n",
       "      <th></th>\n",
       "      <th>Electricity:Facility</th>\n",
       "    </tr>\n",
       "  </thead>\n",
       "  <tbody>\n",
       "    <tr>\n",
       "      <td>0</td>\n",
       "      <td>inf</td>\n",
       "    </tr>\n",
       "    <tr>\n",
       "      <td>1</td>\n",
       "      <td>1.814138e+09</td>\n",
       "    </tr>\n",
       "    <tr>\n",
       "      <td>2</td>\n",
       "      <td>inf</td>\n",
       "    </tr>\n",
       "    <tr>\n",
       "      <td>3</td>\n",
       "      <td>inf</td>\n",
       "    </tr>\n",
       "    <tr>\n",
       "      <td>4</td>\n",
       "      <td>1.847449e+09</td>\n",
       "    </tr>\n",
       "  </tbody>\n",
       "</table>\n",
       "</div>"
      ],
      "text/plain": [
       "   Electricity:Facility\n",
       "0                   inf\n",
       "1          1.814138e+09\n",
       "2                   inf\n",
       "3                   inf\n",
       "4          1.847449e+09"
      ]
     },
     "execution_count": 6,
     "metadata": {},
     "output_type": "execute_result"
    }
   ],
   "source": [
    "evaluator.df_apply(samples)"
   ]
  },
  {
   "cell_type": "code",
   "execution_count": null,
   "metadata": {
    "papermill": {
     "duration": 0.009216,
     "end_time": "2019-10-28T22:51:35.066539",
     "exception": false,
     "start_time": "2019-10-28T22:51:35.057323",
     "status": "completed"
    },
    "tags": []
   },
   "outputs": [],
   "source": []
  }
 ],
 "metadata": {
  "jupytext": {
   "formats": "ipynb,py:light"
  },
  "kernelspec": {
   "display_name": "Python 3",
   "language": "python",
   "name": "python3"
  },
  "language_info": {
   "codemirror_mode": {
    "name": "ipython",
    "version": 3
   },
   "file_extension": ".py",
   "mimetype": "text/x-python",
   "name": "python",
   "nbconvert_exporter": "python",
   "pygments_lexer": "ipython3",
   "version": "3.6.4"
  },
  "papermill": {
   "duration": 10.265604,
   "end_time": "2019-10-28T22:51:35.485479",
   "environment_variables": {},
   "exception": null,
   "input_path": "./Evaluators/AutomaticErrorHandling.ipynb",
   "output_path": "./Evaluators/AutomaticErrorHandling.ipynb",
   "parameters": {},
   "start_time": "2019-10-28T22:51:25.219875",
   "version": "1.2.0"
  },
  "widgets": {
   "application/vnd.jupyter.widget-state+json": {
    "state": {
     "0e20c9d358dd47bc82fc2573dd94dd50": {
      "model_module": "@jupyter-widgets/base",
      "model_module_version": "1.2.0",
      "model_name": "LayoutModel",
      "state": {
       "_model_module": "@jupyter-widgets/base",
       "_model_module_version": "1.2.0",
       "_model_name": "LayoutModel",
       "_view_count": null,
       "_view_module": "@jupyter-widgets/base",
       "_view_module_version": "1.2.0",
       "_view_name": "LayoutView",
       "align_content": null,
       "align_items": null,
       "align_self": null,
       "border": null,
       "bottom": null,
       "display": null,
       "flex": null,
       "flex_flow": null,
       "grid_area": null,
       "grid_auto_columns": null,
       "grid_auto_flow": null,
       "grid_auto_rows": null,
       "grid_column": null,
       "grid_gap": null,
       "grid_row": null,
       "grid_template_areas": null,
       "grid_template_columns": null,
       "grid_template_rows": null,
       "height": null,
       "justify_content": null,
       "justify_items": null,
       "left": null,
       "margin": null,
       "max_height": null,
       "max_width": null,
       "min_height": null,
       "min_width": null,
       "object_fit": null,
       "object_position": null,
       "order": null,
       "overflow": null,
       "overflow_x": null,
       "overflow_y": null,
       "padding": null,
       "right": null,
       "top": null,
       "visibility": null,
       "width": null
      }
     },
     "1f256834cf61474585288103cf464747": {
      "model_module": "@jupyter-widgets/base",
      "model_module_version": "1.2.0",
      "model_name": "LayoutModel",
      "state": {
       "_model_module": "@jupyter-widgets/base",
       "_model_module_version": "1.2.0",
       "_model_name": "LayoutModel",
       "_view_count": null,
       "_view_module": "@jupyter-widgets/base",
       "_view_module_version": "1.2.0",
       "_view_name": "LayoutView",
       "align_content": null,
       "align_items": null,
       "align_self": null,
       "border": null,
       "bottom": null,
       "display": null,
       "flex": null,
       "flex_flow": null,
       "grid_area": null,
       "grid_auto_columns": null,
       "grid_auto_flow": null,
       "grid_auto_rows": null,
       "grid_column": null,
       "grid_gap": null,
       "grid_row": null,
       "grid_template_areas": null,
       "grid_template_columns": null,
       "grid_template_rows": null,
       "height": null,
       "justify_content": null,
       "justify_items": null,
       "left": null,
       "margin": null,
       "max_height": null,
       "max_width": null,
       "min_height": null,
       "min_width": null,
       "object_fit": null,
       "object_position": null,
       "order": null,
       "overflow": null,
       "overflow_x": null,
       "overflow_y": null,
       "padding": null,
       "right": null,
       "top": null,
       "visibility": null,
       "width": null
      }
     },
     "1f7992c6ff9b402489ee778b07774f83": {
      "model_module": "@jupyter-widgets/base",
      "model_module_version": "1.2.0",
      "model_name": "LayoutModel",
      "state": {
       "_model_module": "@jupyter-widgets/base",
       "_model_module_version": "1.2.0",
       "_model_name": "LayoutModel",
       "_view_count": null,
       "_view_module": "@jupyter-widgets/base",
       "_view_module_version": "1.2.0",
       "_view_name": "LayoutView",
       "align_content": null,
       "align_items": null,
       "align_self": null,
       "border": null,
       "bottom": null,
       "display": null,
       "flex": null,
       "flex_flow": null,
       "grid_area": null,
       "grid_auto_columns": null,
       "grid_auto_flow": null,
       "grid_auto_rows": null,
       "grid_column": null,
       "grid_gap": null,
       "grid_row": null,
       "grid_template_areas": null,
       "grid_template_columns": null,
       "grid_template_rows": null,
       "height": null,
       "justify_content": null,
       "justify_items": null,
       "left": null,
       "margin": null,
       "max_height": null,
       "max_width": null,
       "min_height": null,
       "min_width": null,
       "object_fit": null,
       "object_position": null,
       "order": null,
       "overflow": null,
       "overflow_x": null,
       "overflow_y": null,
       "padding": null,
       "right": null,
       "top": null,
       "visibility": null,
       "width": null
      }
     },
     "2d56481dbc4644c8b63aca86d709eccd": {
      "model_module": "@jupyter-widgets/controls",
      "model_module_version": "1.5.0",
      "model_name": "ProgressStyleModel",
      "state": {
       "_model_module": "@jupyter-widgets/controls",
       "_model_module_version": "1.5.0",
       "_model_name": "ProgressStyleModel",
       "_view_count": null,
       "_view_module": "@jupyter-widgets/base",
       "_view_module_version": "1.2.0",
       "_view_name": "StyleView",
       "bar_color": null,
       "description_width": "initial"
      }
     },
     "2e79dae563734a638b7e7880e0e1e2d5": {
      "model_module": "@jupyter-widgets/controls",
      "model_module_version": "1.5.0",
      "model_name": "ProgressStyleModel",
      "state": {
       "_model_module": "@jupyter-widgets/controls",
       "_model_module_version": "1.5.0",
       "_model_name": "ProgressStyleModel",
       "_view_count": null,
       "_view_module": "@jupyter-widgets/base",
       "_view_module_version": "1.2.0",
       "_view_name": "StyleView",
       "bar_color": null,
       "description_width": "initial"
      }
     },
     "401a90ededc34d3297cdab596d21ece9": {
      "model_module": "@jupyter-widgets/controls",
      "model_module_version": "1.5.0",
      "model_name": "DescriptionStyleModel",
      "state": {
       "_model_module": "@jupyter-widgets/controls",
       "_model_module_version": "1.5.0",
       "_model_name": "DescriptionStyleModel",
       "_view_count": null,
       "_view_module": "@jupyter-widgets/base",
       "_view_module_version": "1.2.0",
       "_view_name": "StyleView",
       "description_width": ""
      }
     },
     "476071435d1a4c4f83f0d771894c14a0": {
      "model_module": "@jupyter-widgets/base",
      "model_module_version": "1.2.0",
      "model_name": "LayoutModel",
      "state": {
       "_model_module": "@jupyter-widgets/base",
       "_model_module_version": "1.2.0",
       "_model_name": "LayoutModel",
       "_view_count": null,
       "_view_module": "@jupyter-widgets/base",
       "_view_module_version": "1.2.0",
       "_view_name": "LayoutView",
       "align_content": null,
       "align_items": null,
       "align_self": null,
       "border": null,
       "bottom": null,
       "display": null,
       "flex": null,
       "flex_flow": null,
       "grid_area": null,
       "grid_auto_columns": null,
       "grid_auto_flow": null,
       "grid_auto_rows": null,
       "grid_column": null,
       "grid_gap": null,
       "grid_row": null,
       "grid_template_areas": null,
       "grid_template_columns": null,
       "grid_template_rows": null,
       "height": null,
       "justify_content": null,
       "justify_items": null,
       "left": null,
       "margin": null,
       "max_height": null,
       "max_width": null,
       "min_height": null,
       "min_width": null,
       "object_fit": null,
       "object_position": null,
       "order": null,
       "overflow": null,
       "overflow_x": null,
       "overflow_y": null,
       "padding": null,
       "right": null,
       "top": null,
       "visibility": null,
       "width": null
      }
     },
     "51e0d9c4368b44c9a8749fb30bfb9b1a": {
      "model_module": "@jupyter-widgets/controls",
      "model_module_version": "1.5.0",
      "model_name": "DescriptionStyleModel",
      "state": {
       "_model_module": "@jupyter-widgets/controls",
       "_model_module_version": "1.5.0",
       "_model_name": "DescriptionStyleModel",
       "_view_count": null,
       "_view_module": "@jupyter-widgets/base",
       "_view_module_version": "1.2.0",
       "_view_name": "StyleView",
       "description_width": ""
      }
     },
     "7a21736e00a74862b984fe9f61ad7aea": {
      "model_module": "@jupyter-widgets/controls",
      "model_module_version": "1.5.0",
      "model_name": "ProgressStyleModel",
      "state": {
       "_model_module": "@jupyter-widgets/controls",
       "_model_module_version": "1.5.0",
       "_model_name": "ProgressStyleModel",
       "_view_count": null,
       "_view_module": "@jupyter-widgets/base",
       "_view_module_version": "1.2.0",
       "_view_name": "StyleView",
       "bar_color": null,
       "description_width": "initial"
      }
     },
     "7bbf1ad66a4a419f8081cfe798f6ec3e": {
      "model_module": "@jupyter-widgets/controls",
      "model_module_version": "1.5.0",
      "model_name": "HBoxModel",
      "state": {
       "_dom_classes": [],
       "_model_module": "@jupyter-widgets/controls",
       "_model_module_version": "1.5.0",
       "_model_name": "HBoxModel",
       "_view_count": null,
       "_view_module": "@jupyter-widgets/controls",
       "_view_module_version": "1.5.0",
       "_view_name": "HBoxView",
       "box_style": "",
       "children": [
        "IPY_MODEL_953ed80a741141898db231d5b1a3c22d",
        "IPY_MODEL_ac124faa5f914e4db9d4cdd11cefd367"
       ],
       "layout": "IPY_MODEL_c06b8911b327473889b3cf0388117bb5"
      }
     },
     "91d6c9d0457e4d3abc11f7b5043d5008": {
      "model_module": "@jupyter-widgets/base",
      "model_module_version": "1.2.0",
      "model_name": "LayoutModel",
      "state": {
       "_model_module": "@jupyter-widgets/base",
       "_model_module_version": "1.2.0",
       "_model_name": "LayoutModel",
       "_view_count": null,
       "_view_module": "@jupyter-widgets/base",
       "_view_module_version": "1.2.0",
       "_view_name": "LayoutView",
       "align_content": null,
       "align_items": null,
       "align_self": null,
       "border": null,
       "bottom": null,
       "display": null,
       "flex": null,
       "flex_flow": null,
       "grid_area": null,
       "grid_auto_columns": null,
       "grid_auto_flow": null,
       "grid_auto_rows": null,
       "grid_column": null,
       "grid_gap": null,
       "grid_row": null,
       "grid_template_areas": null,
       "grid_template_columns": null,
       "grid_template_rows": null,
       "height": null,
       "justify_content": null,
       "justify_items": null,
       "left": null,
       "margin": null,
       "max_height": null,
       "max_width": null,
       "min_height": null,
       "min_width": null,
       "object_fit": null,
       "object_position": null,
       "order": null,
       "overflow": null,
       "overflow_x": null,
       "overflow_y": null,
       "padding": null,
       "right": null,
       "top": null,
       "visibility": null,
       "width": null
      }
     },
     "953ed80a741141898db231d5b1a3c22d": {
      "model_module": "@jupyter-widgets/controls",
      "model_module_version": "1.5.0",
      "model_name": "IntProgressModel",
      "state": {
       "_dom_classes": [],
       "_model_module": "@jupyter-widgets/controls",
       "_model_module_version": "1.5.0",
       "_model_name": "IntProgressModel",
       "_view_count": null,
       "_view_module": "@jupyter-widgets/controls",
       "_view_module_version": "1.5.0",
       "_view_name": "ProgressView",
       "bar_style": "danger",
       "description": "Executing:  40%",
       "description_tooltip": null,
       "layout": "IPY_MODEL_f0377db74f0f444e942ad7be88914a7f",
       "max": 5,
       "min": 0,
       "orientation": "horizontal",
       "style": "IPY_MODEL_7a21736e00a74862b984fe9f61ad7aea",
       "value": 2
      }
     },
     "9aac04cb24cc4a4d808ddcabeedf98bc": {
      "model_module": "@jupyter-widgets/controls",
      "model_module_version": "1.5.0",
      "model_name": "DescriptionStyleModel",
      "state": {
       "_model_module": "@jupyter-widgets/controls",
       "_model_module_version": "1.5.0",
       "_model_name": "DescriptionStyleModel",
       "_view_count": null,
       "_view_module": "@jupyter-widgets/base",
       "_view_module_version": "1.2.0",
       "_view_name": "StyleView",
       "description_width": ""
      }
     },
     "a1e0229280d9412abc338547d92799a4": {
      "model_module": "@jupyter-widgets/controls",
      "model_module_version": "1.5.0",
      "model_name": "IntProgressModel",
      "state": {
       "_dom_classes": [],
       "_model_module": "@jupyter-widgets/controls",
       "_model_module_version": "1.5.0",
       "_model_name": "IntProgressModel",
       "_view_count": null,
       "_view_module": "@jupyter-widgets/controls",
       "_view_module_version": "1.5.0",
       "_view_name": "ProgressView",
       "bar_style": "danger",
       "description": "Executing:  40%",
       "description_tooltip": null,
       "layout": "IPY_MODEL_0e20c9d358dd47bc82fc2573dd94dd50",
       "max": 5,
       "min": 0,
       "orientation": "horizontal",
       "style": "IPY_MODEL_2e79dae563734a638b7e7880e0e1e2d5",
       "value": 2
      }
     },
     "ac124faa5f914e4db9d4cdd11cefd367": {
      "model_module": "@jupyter-widgets/controls",
      "model_module_version": "1.5.0",
      "model_name": "HTMLModel",
      "state": {
       "_dom_classes": [],
       "_model_module": "@jupyter-widgets/controls",
       "_model_module_version": "1.5.0",
       "_model_name": "HTMLModel",
       "_view_count": null,
       "_view_module": "@jupyter-widgets/controls",
       "_view_module_version": "1.5.0",
       "_view_name": "HTMLView",
       "description": "",
       "description_tooltip": null,
       "layout": "IPY_MODEL_f3e51d00ed3f442f807decb8fde27a25",
       "placeholder": "​",
       "style": "IPY_MODEL_51e0d9c4368b44c9a8749fb30bfb9b1a",
       "value": " 2/5 [00:03&lt;00:05,  1.85s/row]"
      }
     },
     "b51ad138fc3d404c98789ed38ff745b9": {
      "model_module": "@jupyter-widgets/controls",
      "model_module_version": "1.5.0",
      "model_name": "IntProgressModel",
      "state": {
       "_dom_classes": [],
       "_model_module": "@jupyter-widgets/controls",
       "_model_module_version": "1.5.0",
       "_model_name": "IntProgressModel",
       "_view_count": null,
       "_view_module": "@jupyter-widgets/controls",
       "_view_module_version": "1.5.0",
       "_view_name": "ProgressView",
       "bar_style": "danger",
       "description": "Executing:   0%",
       "description_tooltip": null,
       "layout": "IPY_MODEL_1f7992c6ff9b402489ee778b07774f83",
       "max": 5,
       "min": 0,
       "orientation": "horizontal",
       "style": "IPY_MODEL_2d56481dbc4644c8b63aca86d709eccd",
       "value": 0
      }
     },
     "b82d28b0ec4e4267995136cc7bcf8c3b": {
      "model_module": "@jupyter-widgets/controls",
      "model_module_version": "1.5.0",
      "model_name": "HTMLModel",
      "state": {
       "_dom_classes": [],
       "_model_module": "@jupyter-widgets/controls",
       "_model_module_version": "1.5.0",
       "_model_name": "HTMLModel",
       "_view_count": null,
       "_view_module": "@jupyter-widgets/controls",
       "_view_module_version": "1.5.0",
       "_view_name": "HTMLView",
       "description": "",
       "description_tooltip": null,
       "layout": "IPY_MODEL_476071435d1a4c4f83f0d771894c14a0",
       "placeholder": "​",
       "style": "IPY_MODEL_9aac04cb24cc4a4d808ddcabeedf98bc",
       "value": " 2/5 [00:03&lt;00:05,  1.90s/row]"
      }
     },
     "c06b8911b327473889b3cf0388117bb5": {
      "model_module": "@jupyter-widgets/base",
      "model_module_version": "1.2.0",
      "model_name": "LayoutModel",
      "state": {
       "_model_module": "@jupyter-widgets/base",
       "_model_module_version": "1.2.0",
       "_model_name": "LayoutModel",
       "_view_count": null,
       "_view_module": "@jupyter-widgets/base",
       "_view_module_version": "1.2.0",
       "_view_name": "LayoutView",
       "align_content": null,
       "align_items": null,
       "align_self": null,
       "border": null,
       "bottom": null,
       "display": null,
       "flex": null,
       "flex_flow": null,
       "grid_area": null,
       "grid_auto_columns": null,
       "grid_auto_flow": null,
       "grid_auto_rows": null,
       "grid_column": null,
       "grid_gap": null,
       "grid_row": null,
       "grid_template_areas": null,
       "grid_template_columns": null,
       "grid_template_rows": null,
       "height": null,
       "justify_content": null,
       "justify_items": null,
       "left": null,
       "margin": null,
       "max_height": null,
       "max_width": null,
       "min_height": null,
       "min_width": null,
       "object_fit": null,
       "object_position": null,
       "order": null,
       "overflow": null,
       "overflow_x": null,
       "overflow_y": null,
       "padding": null,
       "right": null,
       "top": null,
       "visibility": null,
       "width": null
      }
     },
     "c5378691a2a54b04a7b79da9204e017e": {
      "model_module": "@jupyter-widgets/base",
      "model_module_version": "1.2.0",
      "model_name": "LayoutModel",
      "state": {
       "_model_module": "@jupyter-widgets/base",
       "_model_module_version": "1.2.0",
       "_model_name": "LayoutModel",
       "_view_count": null,
       "_view_module": "@jupyter-widgets/base",
       "_view_module_version": "1.2.0",
       "_view_name": "LayoutView",
       "align_content": null,
       "align_items": null,
       "align_self": null,
       "border": null,
       "bottom": null,
       "display": null,
       "flex": null,
       "flex_flow": null,
       "grid_area": null,
       "grid_auto_columns": null,
       "grid_auto_flow": null,
       "grid_auto_rows": null,
       "grid_column": null,
       "grid_gap": null,
       "grid_row": null,
       "grid_template_areas": null,
       "grid_template_columns": null,
       "grid_template_rows": null,
       "height": null,
       "justify_content": null,
       "justify_items": null,
       "left": null,
       "margin": null,
       "max_height": null,
       "max_width": null,
       "min_height": null,
       "min_width": null,
       "object_fit": null,
       "object_position": null,
       "order": null,
       "overflow": null,
       "overflow_x": null,
       "overflow_y": null,
       "padding": null,
       "right": null,
       "top": null,
       "visibility": null,
       "width": null
      }
     },
     "dfc85bcfd2514434a5a7503b38620767": {
      "model_module": "@jupyter-widgets/controls",
      "model_module_version": "1.5.0",
      "model_name": "HBoxModel",
      "state": {
       "_dom_classes": [],
       "_model_module": "@jupyter-widgets/controls",
       "_model_module_version": "1.5.0",
       "_model_name": "HBoxModel",
       "_view_count": null,
       "_view_module": "@jupyter-widgets/controls",
       "_view_module_version": "1.5.0",
       "_view_name": "HBoxView",
       "box_style": "",
       "children": [
        "IPY_MODEL_a1e0229280d9412abc338547d92799a4",
        "IPY_MODEL_b82d28b0ec4e4267995136cc7bcf8c3b"
       ],
       "layout": "IPY_MODEL_1f256834cf61474585288103cf464747"
      }
     },
     "f0377db74f0f444e942ad7be88914a7f": {
      "model_module": "@jupyter-widgets/base",
      "model_module_version": "1.2.0",
      "model_name": "LayoutModel",
      "state": {
       "_model_module": "@jupyter-widgets/base",
       "_model_module_version": "1.2.0",
       "_model_name": "LayoutModel",
       "_view_count": null,
       "_view_module": "@jupyter-widgets/base",
       "_view_module_version": "1.2.0",
       "_view_name": "LayoutView",
       "align_content": null,
       "align_items": null,
       "align_self": null,
       "border": null,
       "bottom": null,
       "display": null,
       "flex": null,
       "flex_flow": null,
       "grid_area": null,
       "grid_auto_columns": null,
       "grid_auto_flow": null,
       "grid_auto_rows": null,
       "grid_column": null,
       "grid_gap": null,
       "grid_row": null,
       "grid_template_areas": null,
       "grid_template_columns": null,
       "grid_template_rows": null,
       "height": null,
       "justify_content": null,
       "justify_items": null,
       "left": null,
       "margin": null,
       "max_height": null,
       "max_width": null,
       "min_height": null,
       "min_width": null,
       "object_fit": null,
       "object_position": null,
       "order": null,
       "overflow": null,
       "overflow_x": null,
       "overflow_y": null,
       "padding": null,
       "right": null,
       "top": null,
       "visibility": null,
       "width": null
      }
     },
     "f3e51d00ed3f442f807decb8fde27a25": {
      "model_module": "@jupyter-widgets/base",
      "model_module_version": "1.2.0",
      "model_name": "LayoutModel",
      "state": {
       "_model_module": "@jupyter-widgets/base",
       "_model_module_version": "1.2.0",
       "_model_name": "LayoutModel",
       "_view_count": null,
       "_view_module": "@jupyter-widgets/base",
       "_view_module_version": "1.2.0",
       "_view_name": "LayoutView",
       "align_content": null,
       "align_items": null,
       "align_self": null,
       "border": null,
       "bottom": null,
       "display": null,
       "flex": null,
       "flex_flow": null,
       "grid_area": null,
       "grid_auto_columns": null,
       "grid_auto_flow": null,
       "grid_auto_rows": null,
       "grid_column": null,
       "grid_gap": null,
       "grid_row": null,
       "grid_template_areas": null,
       "grid_template_columns": null,
       "grid_template_rows": null,
       "height": null,
       "justify_content": null,
       "justify_items": null,
       "left": null,
       "margin": null,
       "max_height": null,
       "max_width": null,
       "min_height": null,
       "min_width": null,
       "object_fit": null,
       "object_position": null,
       "order": null,
       "overflow": null,
       "overflow_x": null,
       "overflow_y": null,
       "padding": null,
       "right": null,
       "top": null,
       "visibility": null,
       "width": null
      }
     },
     "fb8b946abe254ce39d9f059dd472fd97": {
      "model_module": "@jupyter-widgets/controls",
      "model_module_version": "1.5.0",
      "model_name": "HTMLModel",
      "state": {
       "_dom_classes": [],
       "_model_module": "@jupyter-widgets/controls",
       "_model_module_version": "1.5.0",
       "_model_name": "HTMLModel",
       "_view_count": null,
       "_view_module": "@jupyter-widgets/controls",
       "_view_module_version": "1.5.0",
       "_view_name": "HTMLView",
       "description": "",
       "description_tooltip": null,
       "layout": "IPY_MODEL_c5378691a2a54b04a7b79da9204e017e",
       "placeholder": "​",
       "style": "IPY_MODEL_401a90ededc34d3297cdab596d21ece9",
       "value": " 0/5 [00:02&lt;?, ?row/s]"
      }
     },
     "ffa376c073004d5aacb3649b0fbe2ad3": {
      "model_module": "@jupyter-widgets/controls",
      "model_module_version": "1.5.0",
      "model_name": "HBoxModel",
      "state": {
       "_dom_classes": [],
       "_model_module": "@jupyter-widgets/controls",
       "_model_module_version": "1.5.0",
       "_model_name": "HBoxModel",
       "_view_count": null,
       "_view_module": "@jupyter-widgets/controls",
       "_view_module_version": "1.5.0",
       "_view_name": "HBoxView",
       "box_style": "",
       "children": [
        "IPY_MODEL_b51ad138fc3d404c98789ed38ff745b9",
        "IPY_MODEL_fb8b946abe254ce39d9f059dd472fd97"
       ],
       "layout": "IPY_MODEL_91d6c9d0457e4d3abc11f7b5043d5008"
      }
     }
    },
    "version_major": 2,
    "version_minor": 0
   }
  }
 },
 "nbformat": 4,
 "nbformat_minor": 2
}