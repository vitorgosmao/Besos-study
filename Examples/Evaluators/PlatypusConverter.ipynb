{
 "cells": [
  {
   "cell_type": "markdown",
   "metadata": {
    "papermill": {
     "duration": 0.008385,
     "end_time": "2019-10-28T22:50:52.550158",
     "exception": false,
     "start_time": "2019-10-28T22:50:52.541773",
     "status": "completed"
    },
    "tags": []
   },
   "source": [
    "# Evaluator Platypus Converter\n",
    "This notebook covers how to use the Platypus conveter for Energyhub or EnergyPlus evaluators."
   ]
  },
  {
   "cell_type": "code",
   "execution_count": 1,
   "metadata": {
    "papermill": {
     "duration": 2.028803,
     "end_time": "2019-10-28T22:50:54.585424",
     "exception": false,
     "start_time": "2019-10-28T22:50:52.556621",
     "status": "completed"
    },
    "tags": []
   },
   "outputs": [],
   "source": [
    "import numpy as np\n",
    "import pandas as pd\n",
    "from platypus import NSGAII, DTLZ2\n",
    "import platypus\n",
    "import random\n",
    "\n",
    "\n",
    "from besos.evaluator import EvaluatorEP, EvaluatorEH\n",
    "from besos import eppy_funcs as ef\n",
    "from besos import pyehub_funcs as pf\n",
    "from besos.parameters import FieldSelector, Parameter, ParameterEH, expand_plist, RangeParameter, CategoryParameter\n",
    "from besos.problem import EPProblem, Problem, EHProblem\n",
    "from besos import sampling\n",
    "from besos import optimizer"
   ]
  },
  {
   "cell_type": "markdown",
   "metadata": {
    "papermill": {
     "duration": 0.005476,
     "end_time": "2019-10-28T22:50:54.597672",
     "exception": false,
     "start_time": "2019-10-28T22:50:54.592196",
     "status": "completed"
    },
    "tags": []
   },
   "source": [
    "# Base Platypus Example\n",
    "Here is a simple example of generating a simple Platypus problem from the DTLZ2 function to be solved with the NSGAII algorithm. There are other algorithms outlined: https://platypus.readthedocs.io/en/latest/experimenter.html#comparing-algorithms-visually."
   ]
  },
  {
   "cell_type": "code",
   "execution_count": 2,
   "metadata": {
    "papermill": {
     "duration": 4.92412,
     "end_time": "2019-10-28T22:50:59.527531",
     "exception": false,
     "start_time": "2019-10-28T22:50:54.603411",
     "status": "completed"
    },
    "tags": []
   },
   "outputs": [
    {
     "data": {
      "image/png": "[encoded data removed]",
      "text/plain": [
       "<Figure size 432x288 with 1 Axes>"
      ]
     },
     "metadata": {
      "needs_background": "light"
     },
     "output_type": "display_data"
    }
   ],
   "source": [
    "test = DTLZ2()# instantiate the optimization algorithm\n",
    "algorithm = NSGAII(test)# optimize the problem using 10,000 function evaluations\n",
    "algorithm.run(10000)# plot the results using matplotlib\n",
    "import matplotlib.pyplot as plt\n",
    "plt.scatter([s.objectives[0]for s in algorithm.result],\n",
    "    [s.objectives[1]for s in algorithm.result])\n",
    "plt.xlim([0, 1.1])\n",
    "plt.ylim([0, 1.1])\n",
    "plt.xlabel(\"$f_1(x)$\")\n",
    "plt.ylabel(\"$f_2(x)$\")\n",
    "plt.show()"
   ]
  },
  {
   "cell_type": "markdown",
   "metadata": {
    "papermill": {
     "duration": 0.006049,
     "end_time": "2019-10-28T22:50:59.540496",
     "exception": false,
     "start_time": "2019-10-28T22:50:59.534447",
     "status": "completed"
    },
    "tags": []
   },
   "source": [
    "## Creating an Energyhub Evaluator to convert\n",
    "The Platypus converter for Evaluators works with Energyhub Evaluators so long as each parameter also has a RangeParameter value_descriptor. "
   ]
  },
  {
   "cell_type": "code",
   "execution_count": 3,
   "metadata": {
    "papermill": {
     "duration": 0.027208,
     "end_time": "2019-10-28T22:50:59.573593",
     "exception": false,
     "start_time": "2019-10-28T22:50:59.546385",
     "status": "completed"
    },
    "tags": []
   },
   "outputs": [],
   "source": [
    "hub = pf.get_hub() # load the hub model specified in config.yaml\n",
    "EHparameters = [ParameterEH(['LINEAR_CAPITAL_COSTS','Boiler'], value_descriptor = RangeParameter(100.0,200.0), name = 'Boiler'),\n",
    "              ParameterEH(['LINEAR_CAPITAL_COSTS','CHP'], value_descriptor = RangeParameter(300.0,400.0), name = 'CHP')]\n",
    "objectives = ['total_cost','total_carbon'] # the objectives are the total_carbon and total_cost variables of the Energy Hub problem\n",
    "EHproblem = EHProblem(EHparameters,objectives) # we make a problem out of the parameters and objectives\n",
    "evaluatorEH = EvaluatorEH(EHproblem, hub) # and an Evaluator by combining with the hub model"
   ]
  },
  {
   "cell_type": "code",
   "execution_count": 4,
   "metadata": {
    "papermill": {
     "duration": 0.011668,
     "end_time": "2019-10-28T22:50:59.591092",
     "exception": false,
     "start_time": "2019-10-28T22:50:59.579424",
     "status": "completed"
    },
    "tags": []
   },
   "outputs": [
    {
     "data": {
      "text/plain": [
       "EHProblem(inputs=[ParameterEH(name='Boiler', parameter_path=['LINEAR_CAPITAL_COSTS', 'Boiler'], value_descriptor=RangeParameter(min=100.0, max=200.0)), ParameterEH(name='CHP', parameter_path=['LINEAR_CAPITAL_COSTS', 'CHP'], value_descriptor=RangeParameter(min=300.0, max=400.0))], outputs=[Objective(name='total_cost'), Objective(name='total_carbon')], minimize_outputs=[True, True], converters={'outputs': <class 'IO_Objects.Objective'>, 'constraints': <class 'IO_Objects.Objective'>})"
      ]
     },
     "execution_count": 4,
     "metadata": {},
     "output_type": "execute_result"
    }
   ],
   "source": [
    "EHproblem"
   ]
  },
  {
   "cell_type": "markdown",
   "metadata": {
    "papermill": {
     "duration": 0.005809,
     "end_time": "2019-10-28T22:50:59.603034",
     "exception": false,
     "start_time": "2019-10-28T22:50:59.597225",
     "status": "completed"
    },
    "tags": []
   },
   "source": [
    "#### Converting Evaluator to Platypus problem\n",
    "There's a converter in the evaluator module that makes the evaluator the function of a platypus problem with problem details from the evaluator's problem which are converted in the problem module."
   ]
  },
  {
   "cell_type": "code",
   "execution_count": 5,
   "metadata": {
    "papermill": {
     "duration": 0.010766,
     "end_time": "2019-10-28T22:50:59.619485",
     "exception": false,
     "start_time": "2019-10-28T22:50:59.608719",
     "status": "completed"
    },
    "tags": []
   },
   "outputs": [],
   "source": [
    "platypus_problem= evaluatorEH.to_platypus()\n",
    "EHalgorithm = NSGAII(platypus_problem)"
   ]
  },
  {
   "cell_type": "code",
   "execution_count": 6,
   "metadata": {
    "papermill": {
     "duration": 8.316371,
     "end_time": "2019-10-28T22:51:07.941797",
     "exception": false,
     "start_time": "2019-10-28T22:50:59.625426",
     "status": "completed"
    },
    "tags": []
   },
   "outputs": [
    {
     "data": {
      "text/html": [
       "<div>\n",
       "<style scoped>\n",
       "    .dataframe tbody tr th:only-of-type {\n",
       "        vertical-align: middle;\n",
       "    }\n",
       "\n",
       "    .dataframe tbody tr th {\n",
       "        vertical-align: top;\n",
       "    }\n",
       "\n",
       "    .dataframe thead th {\n",
       "        text-align: right;\n",
       "    }\n",
       "</style>\n",
       "<table border=\"1\" class=\"dataframe\">\n",
       "  <thead>\n",
       "    <tr style=\"text-align: right;\">\n",
       "      <th></th>\n",
       "      <th>Boiler</th>\n",
       "      <th>CHP</th>\n",
       "      <th>total_cost</th>\n",
       "      <th>total_carbon</th>\n",
       "      <th>pareto-optimal</th>\n",
       "    </tr>\n",
       "  </thead>\n",
       "  <tbody>\n",
       "    <tr>\n",
       "      <td>0</td>\n",
       "      <td>125.606210</td>\n",
       "      <td>301.504401</td>\n",
       "      <td>983.593</td>\n",
       "      <td>53.2299</td>\n",
       "      <td>False</td>\n",
       "    </tr>\n",
       "    <tr>\n",
       "      <td>1</td>\n",
       "      <td>106.733175</td>\n",
       "      <td>319.666114</td>\n",
       "      <td>962.291</td>\n",
       "      <td>53.2299</td>\n",
       "      <td>False</td>\n",
       "    </tr>\n",
       "    <tr>\n",
       "      <td>2</td>\n",
       "      <td>137.279560</td>\n",
       "      <td>358.507858</td>\n",
       "      <td>1031.540</td>\n",
       "      <td>53.2299</td>\n",
       "      <td>False</td>\n",
       "    </tr>\n",
       "    <tr>\n",
       "      <td>3</td>\n",
       "      <td>106.739096</td>\n",
       "      <td>355.120714</td>\n",
       "      <td>980.365</td>\n",
       "      <td>53.2299</td>\n",
       "      <td>False</td>\n",
       "    </tr>\n",
       "    <tr>\n",
       "      <td>4</td>\n",
       "      <td>115.641162</td>\n",
       "      <td>393.643231</td>\n",
       "      <td>1014.400</td>\n",
       "      <td>53.2299</td>\n",
       "      <td>False</td>\n",
       "    </tr>\n",
       "    <tr>\n",
       "      <td>...</td>\n",
       "      <td>...</td>\n",
       "      <td>...</td>\n",
       "      <td>...</td>\n",
       "      <td>...</td>\n",
       "      <td>...</td>\n",
       "    </tr>\n",
       "    <tr>\n",
       "      <td>95</td>\n",
       "      <td>184.724335</td>\n",
       "      <td>354.375280</td>\n",
       "      <td>1106.240</td>\n",
       "      <td>53.2299</td>\n",
       "      <td>False</td>\n",
       "    </tr>\n",
       "    <tr>\n",
       "      <td>96</td>\n",
       "      <td>187.868157</td>\n",
       "      <td>320.898741</td>\n",
       "      <td>1094.280</td>\n",
       "      <td>53.2299</td>\n",
       "      <td>False</td>\n",
       "    </tr>\n",
       "    <tr>\n",
       "      <td>97</td>\n",
       "      <td>187.667927</td>\n",
       "      <td>339.393173</td>\n",
       "      <td>1103.380</td>\n",
       "      <td>53.2299</td>\n",
       "      <td>False</td>\n",
       "    </tr>\n",
       "    <tr>\n",
       "      <td>98</td>\n",
       "      <td>176.424691</td>\n",
       "      <td>305.923068</td>\n",
       "      <td>1068.120</td>\n",
       "      <td>53.2299</td>\n",
       "      <td>False</td>\n",
       "    </tr>\n",
       "    <tr>\n",
       "      <td>99</td>\n",
       "      <td>167.156230</td>\n",
       "      <td>374.587205</td>\n",
       "      <td>1088.100</td>\n",
       "      <td>53.2299</td>\n",
       "      <td>False</td>\n",
       "    </tr>\n",
       "  </tbody>\n",
       "</table>\n",
       "<p>100 rows × 5 columns</p>\n",
       "</div>"
      ],
      "text/plain": [
       "        Boiler         CHP  total_cost  total_carbon  pareto-optimal\n",
       "0   125.606210  301.504401     983.593       53.2299           False\n",
       "1   106.733175  319.666114     962.291       53.2299           False\n",
       "2   137.279560  358.507858    1031.540       53.2299           False\n",
       "3   106.739096  355.120714     980.365       53.2299           False\n",
       "4   115.641162  393.643231    1014.400       53.2299           False\n",
       "..         ...         ...         ...           ...             ...\n",
       "95  184.724335  354.375280    1106.240       53.2299           False\n",
       "96  187.868157  320.898741    1094.280       53.2299           False\n",
       "97  187.667927  339.393173    1103.380       53.2299           False\n",
       "98  176.424691  305.923068    1068.120       53.2299           False\n",
       "99  167.156230  374.587205    1088.100       53.2299           False\n",
       "\n",
       "[100 rows x 5 columns]"
      ]
     },
     "execution_count": 6,
     "metadata": {},
     "output_type": "execute_result"
    }
   ],
   "source": [
    "EHalgorithm.run(5)\n",
    "results1 = optimizer.solutions_to_df(EHalgorithm.result, EHproblem, parts=['inputs', 'outputs'])\n",
    "results1"
   ]
  },
  {
   "cell_type": "code",
   "execution_count": 7,
   "metadata": {
    "papermill": {
     "duration": 0.017749,
     "end_time": "2019-10-28T22:51:07.967079",
     "exception": false,
     "start_time": "2019-10-28T22:51:07.949330",
     "status": "completed"
    },
    "tags": []
   },
   "outputs": [
    {
     "data": {
      "text/html": [
       "<div>\n",
       "<style scoped>\n",
       "    .dataframe tbody tr th:only-of-type {\n",
       "        vertical-align: middle;\n",
       "    }\n",
       "\n",
       "    .dataframe tbody tr th {\n",
       "        vertical-align: top;\n",
       "    }\n",
       "\n",
       "    .dataframe thead th {\n",
       "        text-align: right;\n",
       "    }\n",
       "</style>\n",
       "<table border=\"1\" class=\"dataframe\">\n",
       "  <thead>\n",
       "    <tr style=\"text-align: right;\">\n",
       "      <th></th>\n",
       "      <th>Boiler</th>\n",
       "      <th>CHP</th>\n",
       "      <th>total_cost</th>\n",
       "      <th>total_carbon</th>\n",
       "      <th>pareto-optimal</th>\n",
       "    </tr>\n",
       "  </thead>\n",
       "  <tbody>\n",
       "    <tr>\n",
       "      <td>82</td>\n",
       "      <td>102.425807</td>\n",
       "      <td>300.770561</td>\n",
       "      <td>945.69</td>\n",
       "      <td>53.2299</td>\n",
       "      <td>True</td>\n",
       "    </tr>\n",
       "  </tbody>\n",
       "</table>\n",
       "</div>"
      ],
      "text/plain": [
       "        Boiler         CHP  total_cost  total_carbon  pareto-optimal\n",
       "82  102.425807  300.770561      945.69       53.2299            True"
      ]
     },
     "execution_count": 7,
     "metadata": {},
     "output_type": "execute_result"
    }
   ],
   "source": [
    "best = results1.loc[results1['pareto-optimal']==True]\n",
    "best"
   ]
  },
  {
   "cell_type": "markdown",
   "metadata": {
    "papermill": {
     "duration": 0.006428,
     "end_time": "2019-10-28T22:51:07.980310",
     "exception": false,
     "start_time": "2019-10-28T22:51:07.973882",
     "status": "completed"
    },
    "tags": []
   },
   "source": [
    "## Creating an Energyplus Evaluator to convert\n",
    "\n",
    "Just like the Energyhub Evaluator the Energyplus requires the parameters all have RangeParameters but this is easier with the expand_plist\n",
    "that works with EnergyPlus Parameters.\n",
    "\n",
    "It appears to require that the idf be the idf and not json. (Format returned in default get_idf() and not get_building()."
   ]
  },
  {
   "cell_type": "code",
   "execution_count": 8,
   "metadata": {
    "papermill": {
     "duration": 16.44633,
     "end_time": "2019-10-28T22:51:24.433011",
     "exception": false,
     "start_time": "2019-10-28T22:51:07.986681",
     "status": "completed"
    },
    "tags": []
   },
   "outputs": [
    {
     "data": {
      "text/html": [
       "<div>\n",
       "<style scoped>\n",
       "    .dataframe tbody tr th:only-of-type {\n",
       "        vertical-align: middle;\n",
       "    }\n",
       "\n",
       "    .dataframe tbody tr th {\n",
       "        vertical-align: top;\n",
       "    }\n",
       "\n",
       "    .dataframe thead th {\n",
       "        text-align: right;\n",
       "    }\n",
       "</style>\n",
       "<table border=\"1\" class=\"dataframe\">\n",
       "  <thead>\n",
       "    <tr style=\"text-align: right;\">\n",
       "      <th></th>\n",
       "      <th>UFactor</th>\n",
       "      <th>Solar Heat Gain Coefficient</th>\n",
       "      <th>Thickness</th>\n",
       "      <th>Electricity:Facility</th>\n",
       "      <th>Gas:Facility</th>\n",
       "      <th>pareto-optimal</th>\n",
       "    </tr>\n",
       "  </thead>\n",
       "  <tbody>\n",
       "    <tr>\n",
       "      <td>0</td>\n",
       "      <td>3.835172</td>\n",
       "      <td>0.012064</td>\n",
       "      <td>0.045631</td>\n",
       "      <td>1.747893e+09</td>\n",
       "      <td>2.754759e+09</td>\n",
       "      <td>True</td>\n",
       "    </tr>\n",
       "    <tr>\n",
       "      <td>1</td>\n",
       "      <td>0.758385</td>\n",
       "      <td>0.840485</td>\n",
       "      <td>0.071102</td>\n",
       "      <td>2.034865e+09</td>\n",
       "      <td>2.024844e+09</td>\n",
       "      <td>True</td>\n",
       "    </tr>\n",
       "    <tr>\n",
       "      <td>2</td>\n",
       "      <td>3.635546</td>\n",
       "      <td>0.234187</td>\n",
       "      <td>0.085622</td>\n",
       "      <td>1.805304e+09</td>\n",
       "      <td>2.511114e+09</td>\n",
       "      <td>True</td>\n",
       "    </tr>\n",
       "    <tr>\n",
       "      <td>3</td>\n",
       "      <td>1.186289</td>\n",
       "      <td>0.439130</td>\n",
       "      <td>0.049665</td>\n",
       "      <td>1.872742e+09</td>\n",
       "      <td>2.282321e+09</td>\n",
       "      <td>True</td>\n",
       "    </tr>\n",
       "  </tbody>\n",
       "</table>\n",
       "</div>"
      ],
      "text/plain": [
       "    UFactor  Solar Heat Gain Coefficient  Thickness  Electricity:Facility  \\\n",
       "0  3.835172                     0.012064   0.045631          1.747893e+09   \n",
       "1  0.758385                     0.840485   0.071102          2.034865e+09   \n",
       "2  3.635546                     0.234187   0.085622          1.805304e+09   \n",
       "3  1.186289                     0.439130   0.049665          1.872742e+09   \n",
       "\n",
       "   Gas:Facility  pareto-optimal  \n",
       "0  2.754759e+09            True  \n",
       "1  2.024844e+09            True  \n",
       "2  2.511114e+09            True  \n",
       "3  2.282321e+09            True  "
      ]
     },
     "execution_count": 8,
     "metadata": {},
     "output_type": "execute_result"
    }
   ],
   "source": [
    "parameters = expand_plist(\n",
    "    {'NonRes Fixed Assembly Window':\n",
    "    {'UFactor':(0.1,5),\n",
    "    'Solar Heat Gain Coefficient':(0.01,0.99)\n",
    "    },\n",
    "    'Mass NonRes Wall Insulation':{'Thickness':(0.01,0.09)},\n",
    "    })\n",
    "objectives = ['Electricity:Facility', 'Gas:Facility']\n",
    "problem = EPProblem(parameters, objectives)\n",
    "idf = ef.get_idf()\n",
    "evaluator = EvaluatorEP(problem, idf)\n",
    "\n",
    "random.seed(1)\n",
    "#run the first algorithm\n",
    "platypus_problem = evaluator.to_platypus()\n",
    "algorithm = platypus.NSGAII(problem=platypus_problem, population_size=5)\n",
    "algorithm.run(5)\n",
    "\n",
    "#run the second algorithm\n",
    "generator = platypus.InjectedPopulation(algorithm.population)\n",
    "alg2 = platypus.EpsMOEA(problem=platypus_problem, generator=generator, epsilons=3, population_size=5)\n",
    "alg2.run(5)\n",
    "\n",
    "results = optimizer.solutions_to_df(alg2.result, problem, parts=['inputs', 'outputs'])\n",
    "\n",
    "value = results.iloc[0]['Electricity:Facility']\n",
    "results"
   ]
  },
  {
   "cell_type": "code",
   "execution_count": 9,
   "metadata": {
    "papermill": {
     "duration": 0.028125,
     "end_time": "2019-10-28T22:51:24.469543",
     "exception": false,
     "start_time": "2019-10-28T22:51:24.441418",
     "status": "completed"
    },
    "tags": []
   },
   "outputs": [
    {
     "data": {
      "text/html": [
       "<div>\n",
       "<style scoped>\n",
       "    .dataframe tbody tr th:only-of-type {\n",
       "        vertical-align: middle;\n",
       "    }\n",
       "\n",
       "    .dataframe tbody tr th {\n",
       "        vertical-align: top;\n",
       "    }\n",
       "\n",
       "    .dataframe thead th {\n",
       "        text-align: right;\n",
       "    }\n",
       "</style>\n",
       "<table border=\"1\" class=\"dataframe\">\n",
       "  <thead>\n",
       "    <tr style=\"text-align: right;\">\n",
       "      <th></th>\n",
       "      <th>UFactor</th>\n",
       "      <th>Solar Heat Gain Coefficient</th>\n",
       "      <th>Thickness</th>\n",
       "      <th>Electricity:Facility</th>\n",
       "      <th>Gas:Facility</th>\n",
       "      <th>pareto-optimal</th>\n",
       "    </tr>\n",
       "  </thead>\n",
       "  <tbody>\n",
       "    <tr>\n",
       "      <td>0</td>\n",
       "      <td>0.758385</td>\n",
       "      <td>0.840485</td>\n",
       "      <td>0.071102</td>\n",
       "      <td>2.034865e+09</td>\n",
       "      <td>2.024844e+09</td>\n",
       "      <td>True</td>\n",
       "    </tr>\n",
       "    <tr>\n",
       "      <td>1</td>\n",
       "      <td>1.349838</td>\n",
       "      <td>0.495526</td>\n",
       "      <td>0.045959</td>\n",
       "      <td>1.890486e+09</td>\n",
       "      <td>2.334315e+09</td>\n",
       "      <td>True</td>\n",
       "    </tr>\n",
       "    <tr>\n",
       "      <td>2</td>\n",
       "      <td>3.292806</td>\n",
       "      <td>0.782949</td>\n",
       "      <td>0.017509</td>\n",
       "      <td>2.027893e+09</td>\n",
       "      <td>2.977138e+09</td>\n",
       "      <td>False</td>\n",
       "    </tr>\n",
       "    <tr>\n",
       "      <td>3</td>\n",
       "      <td>0.238903</td>\n",
       "      <td>0.829050</td>\n",
       "      <td>0.044621</td>\n",
       "      <td>2.039309e+09</td>\n",
       "      <td>2.079423e+09</td>\n",
       "      <td>False</td>\n",
       "    </tr>\n",
       "    <tr>\n",
       "      <td>4</td>\n",
       "      <td>3.835172</td>\n",
       "      <td>0.012064</td>\n",
       "      <td>0.045631</td>\n",
       "      <td>1.747893e+09</td>\n",
       "      <td>2.754759e+09</td>\n",
       "      <td>True</td>\n",
       "    </tr>\n",
       "  </tbody>\n",
       "</table>\n",
       "</div>"
      ],
      "text/plain": [
       "    UFactor  Solar Heat Gain Coefficient  Thickness  Electricity:Facility  \\\n",
       "0  0.758385                     0.840485   0.071102          2.034865e+09   \n",
       "1  1.349838                     0.495526   0.045959          1.890486e+09   \n",
       "2  3.292806                     0.782949   0.017509          2.027893e+09   \n",
       "3  0.238903                     0.829050   0.044621          2.039309e+09   \n",
       "4  3.835172                     0.012064   0.045631          1.747893e+09   \n",
       "\n",
       "   Gas:Facility  pareto-optimal  \n",
       "0  2.024844e+09            True  \n",
       "1  2.334315e+09            True  \n",
       "2  2.977138e+09           False  \n",
       "3  2.079423e+09           False  \n",
       "4  2.754759e+09            True  "
      ]
     },
     "execution_count": 9,
     "metadata": {},
     "output_type": "execute_result"
    }
   ],
   "source": [
    "results2 = optimizer.solutions_to_df(algorithm.result, problem, parts=['inputs', 'outputs'])\n",
    "results2"
   ]
  }
 ],
 "metadata": {
  "kernelspec": {
   "display_name": "Python 3",
   "language": "python",
   "name": "python3"
  },
  "language_info": {
   "codemirror_mode": {
    "name": "ipython",
    "version": 3
   },
   "file_extension": ".py",
   "mimetype": "text/x-python",
   "name": "python",
   "nbconvert_exporter": "python",
   "pygments_lexer": "ipython3",
   "version": "3.6.4"
  },
  "papermill": {
   "duration": 33.342281,
   "end_time": "2019-10-28T22:51:25.183228",
   "environment_variables": {},
   "exception": null,
   "input_path": "./Evaluators/Platypus Converter.ipynb",
   "output_path": "./Evaluators/Platypus Converter.ipynb",
   "parameters": {},
   "start_time": "2019-10-28T22:50:51.840947",
   "version": "1.2.0"
  }
 },
 "nbformat": 4,
 "nbformat_minor": 4
}