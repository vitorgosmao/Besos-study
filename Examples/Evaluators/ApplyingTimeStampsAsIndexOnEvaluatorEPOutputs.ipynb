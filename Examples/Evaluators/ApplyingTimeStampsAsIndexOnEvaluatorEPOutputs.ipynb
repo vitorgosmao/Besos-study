{
 "cells": [
  {
   "cell_type": "markdown",
   "metadata": {
    "papermill": {
     "duration": 0.010929,
     "end_time": "2019-10-28T22:48:57.979350",
     "exception": false,
     "start_time": "2019-10-28T22:48:57.968421",
     "status": "completed"
    },
    "tags": []
   },
   "source": [
    "# Applying  TimeStamp Dates on EvaluatorEP Outputs\n"
   ]
  },
  {
   "cell_type": "code",
   "execution_count": 1,
   "metadata": {
    "papermill": {
     "duration": 1.094455,
     "end_time": "2019-10-28T22:48:59.082797",
     "exception": false,
     "start_time": "2019-10-28T22:48:57.988342",
     "status": "completed"
    },
    "tags": []
   },
   "outputs": [],
   "source": [
    "import pandas as pd\n",
    "from pprint import pprint as pp\n",
    "import numpy as np\n",
    "import pvlib\n",
    "\n",
    "from pyehub.energy_hub.ehub_model import EHubModel\n",
    "from besos.evaluator import EvaluatorEH, EvaluatorEP\n",
    "from besos.problem import EPProblem, EHProblem, Problem\n",
    "from besos.objectives import VariableReader, MeterReader\n",
    "from besos import objectives\n",
    "from besos import pyehub_funcs as pf\n",
    "from besos import eppy_funcs as ef\n",
    "from besos.parameters import RangeParameter, CategoryParameter, Parameter, FieldSelector\n",
    "from besos import config\n",
    "import eppy"
   ]
  },
  {
   "cell_type": "markdown",
   "metadata": {
    "papermill": {
     "duration": 0.009044,
     "end_time": "2019-10-28T22:48:59.100459",
     "exception": false,
     "start_time": "2019-10-28T22:48:59.091415",
     "status": "completed"
    },
    "tags": []
   },
   "source": [
    "## Recovering the dates for the index\n",
    "\n",
    "### Different modes of inputs\n",
    "\n",
    "As the EnergyPlus version currently used on Besos supports both IDF files that turn into eppy models and IDF files that turn into JSON examples of both are provided below along with their corresponding epw files."
   ]
  },
  {
   "cell_type": "code",
   "execution_count": 2,
   "metadata": {
    "papermill": {
     "duration": 1.073723,
     "end_time": "2019-10-28T22:49:00.183344",
     "exception": false,
     "start_time": "2019-10-28T22:48:59.109621",
     "status": "completed"
    },
    "tags": []
   },
   "outputs": [],
   "source": [
    "epw_file_JSON = config.files['epw']\n",
    "epw_file_IDF = 'USA_IL_Chicago-OHare.Intl.AP.725300_TMY3.epw'\n",
    "building_JSON = ef.get_building()\n",
    "building_IDF = ef.get_building(building='RefBldgWarehouseNew2004_Chicago.idf')\n",
    "\n",
    "building = building_IDF\n",
    "epw_file = epw_file_IDF"
   ]
  },
  {
   "cell_type": "markdown",
   "metadata": {
    "papermill": {
     "duration": 0.008969,
     "end_time": "2019-10-28T22:49:00.200651",
     "exception": false,
     "start_time": "2019-10-28T22:49:00.191682",
     "status": "completed"
    },
    "tags": []
   },
   "source": [
    "### Getting Annual Timestamps from EPW\n",
    "\n",
    "The annual timestamps that are associated with the results of the evaluator can be pulled from the EPW file "
   ]
  },
  {
   "cell_type": "code",
   "execution_count": 3,
   "metadata": {
    "papermill": {
     "duration": 0.092547,
     "end_time": "2019-10-28T22:49:00.302317",
     "exception": false,
     "start_time": "2019-10-28T22:49:00.209770",
     "status": "completed"
    },
    "tags": []
   },
   "outputs": [
    {
     "data": {
      "text/plain": [
       "0      1986-01-01 00:00:00-06:00\n",
       "1      1986-01-01 01:00:00-06:00\n",
       "2      1986-01-01 02:00:00-06:00\n",
       "3      1986-01-01 03:00:00-06:00\n",
       "4      1986-01-01 04:00:00-06:00\n",
       "                  ...           \n",
       "8755   1981-12-31 19:00:00-06:00\n",
       "8756   1981-12-31 20:00:00-06:00\n",
       "8757   1981-12-31 21:00:00-06:00\n",
       "8758   1981-12-31 22:00:00-06:00\n",
       "8759   1981-12-31 23:00:00-06:00\n",
       "Name: index, Length: 8760, dtype: datetime64[ns, pytz.FixedOffset(-360)]"
      ]
     },
     "execution_count": 3,
     "metadata": {},
     "output_type": "execute_result"
    }
   ],
   "source": [
    "df, metadata = pvlib.iotools.read_epw(epw_file)\n",
    "\n",
    "df2 = df.reset_index()\n",
    "df2['index']"
   ]
  },
  {
   "cell_type": "markdown",
   "metadata": {
    "papermill": {
     "duration": 0.007538,
     "end_time": "2019-10-28T22:49:00.318484",
     "exception": false,
     "start_time": "2019-10-28T22:49:00.310946",
     "status": "completed"
    },
    "tags": []
   },
   "source": [
    "### Getting Sizing Period Dates and merging with EPW Dates\n",
    "\n",
    "It is possible that the idf has been set to run the simulation across sizing periods. If so those design days dates are grabed from the IDF and hourly timestamps are generated to match the timestamps from the EPW. The design days are the first outputed in the results so the EPW timestamps are appended after teh design days."
   ]
  },
  {
   "cell_type": "code",
   "execution_count": 4,
   "metadata": {
    "papermill": {
     "duration": 0.114632,
     "end_time": "2019-10-28T22:49:00.443112",
     "exception": false,
     "start_time": "2019-10-28T22:49:00.328480",
     "status": "completed"
    },
    "tags": []
   },
   "outputs": [],
   "source": [
    "date_index = []\n",
    "\n",
    "if type(building)==dict:\n",
    "    # There can be multiple simulation controls for some reason but rarely is this used and we don't use it.\n",
    "#     for simulation in building['SimulationControl']:\n",
    "#         if(building['SimulationControl'][simulation]['run_simulation_for_sizing_periods'] == 'Yes'):\\\n",
    "#         print(simulation + ' Uses design days')\n",
    "    if(building['SimulationControl']['SimulationControl 1']['run_simulation_for_sizing_periods'] == 'Yes'):\n",
    "        for design_day in building['SizingPeriod:DesignDay']:\n",
    "            day = building['SizingPeriod:DesignDay'][design_day]['day_of_month']\n",
    "            month = building['SizingPeriod:DesignDay'][design_day]['month']\n",
    "            for hour in range(24):\n",
    "                date_index.append(pd.Timestamp(year=1900, month=month, day=day, hour=hour))\n",
    "    \n",
    "elif type(building) == eppy.modeleditor.IDF:\n",
    "    # There can be multiple simulation controls for some reason but rarely is this used and we don't use it.\n",
    "#     for i, simulation in enumerate(building.idfobjects['SIMULATIONCONTROL']):\n",
    "#         if(simulation.Run_Simulation_for_Sizing_Periods == 'YES'):\n",
    "#             print('SimulationControl ' + str(i+1) + ' Uses design days')\n",
    "    if(building.idfobjects['SIMULATIONCONTROL'][0].Run_Simulation_for_Sizing_Periods == 'YES'):\n",
    "        for j, design_day in enumerate(building_IDF.idfobjects['SIZINGPERIOD:DESIGNDAY']):\n",
    "            day = design_day.Day_of_Month\n",
    "            month = design_day.Month\n",
    "            for hour in range(24):\n",
    "                date_index.append(pd.Timestamp(year=1900, month=month, day=day, hour=hour))\n",
    "\n",
    "epw_datelist = df.index.tolist()\n",
    "date_index.extend(epw_datelist)\n",
    "dates = pd.DataFrame(date_index)"
   ]
  },
  {
   "cell_type": "markdown",
   "metadata": {
    "papermill": {
     "duration": 0.009289,
     "end_time": "2019-10-28T22:49:00.464629",
     "exception": false,
     "start_time": "2019-10-28T22:49:00.455340",
     "status": "completed"
    },
    "tags": []
   },
   "source": [
    "## Creating and running a single input of an Evaluator"
   ]
  },
  {
   "cell_type": "code",
   "execution_count": 5,
   "metadata": {
    "papermill": {
     "duration": 11.649827,
     "end_time": "2019-10-28T22:49:12.123807",
     "exception": false,
     "start_time": "2019-10-28T22:49:00.473980",
     "status": "completed"
    },
    "tags": []
   },
   "outputs": [],
   "source": [
    "EPparameters = [Parameter(FieldSelector('Lights', '*', 'Watts per Zone Floor Area'),\n",
    "                value_descriptor=RangeParameter(8, 12),\n",
    "                name='Lights Watts/Area')]\n",
    "EPobjectives = [MeterReader('Electricity:Facility',func=objectives.time_series_values), MeterReader('Gas:Facility',func=objectives.time_series_values)]\n",
    "problem = EPProblem(EPparameters,EPobjectives)\n",
    "evaluator = EvaluatorEP(problem,building)\n",
    "result = evaluator([8])\n"
   ]
  },
  {
   "cell_type": "markdown",
   "metadata": {
    "papermill": {
     "duration": 0.007155,
     "end_time": "2019-10-28T22:49:12.139491",
     "exception": false,
     "start_time": "2019-10-28T22:49:12.132336",
     "status": "completed"
    },
    "tags": []
   },
   "source": [
    "### Applying dates to the single result\n",
    "\n",
    "Each objective in a single result is outputted in a tuple. Each element of the tuple is a Pandas Series. To ensure the output format is unchanged the result is iterated through, the dates are applied as the index, and then the results are converted back to a series and combined back in a tuple."
   ]
  },
  {
   "cell_type": "code",
   "execution_count": 6,
   "metadata": {
    "papermill": {
     "duration": 0.021299,
     "end_time": "2019-10-28T22:49:12.168406",
     "exception": false,
     "start_time": "2019-10-28T22:49:12.147107",
     "status": "completed"
    },
    "tags": []
   },
   "outputs": [],
   "source": [
    "dated_output = ()\n",
    "for output in result:\n",
    "    output_frame = output.to_frame()\n",
    "    df = dates.merge(output_frame, left_index = True, right_index = True).set_index(0)\n",
    "    del df.index.name\n",
    "    ds = df.squeeze()\n",
    "    dated_output = dated_output + (ds,)"
   ]
  },
  {
   "cell_type": "code",
   "execution_count": 7,
   "metadata": {
    "papermill": {
     "duration": 0.016717,
     "end_time": "2019-10-28T22:49:12.193754",
     "exception": false,
     "start_time": "2019-10-28T22:49:12.177037",
     "status": "completed"
    },
    "scrolled": true,
    "tags": []
   },
   "outputs": [
    {
     "data": {
      "text/plain": [
       "(1986-01-01 00:00:00-06:00    5.729183e+07\n",
       " 1986-01-01 01:00:00-06:00    5.221348e+07\n",
       " 1986-01-01 02:00:00-06:00    5.732566e+07\n",
       " 1986-01-01 03:00:00-06:00    5.226460e+07\n",
       " 1986-01-01 04:00:00-06:00    5.735000e+07\n",
       "                                  ...     \n",
       " 1981-12-31 19:00:00-06:00    6.735182e+07\n",
       " 1981-12-31 20:00:00-06:00    6.366284e+07\n",
       " 1981-12-31 21:00:00-06:00    6.801351e+07\n",
       " 1981-12-31 22:00:00-06:00    6.436717e+07\n",
       " 1981-12-31 23:00:00-06:00    6.954238e+07\n",
       " Name: Value, Length: 8760, dtype: float64,\n",
       " 1986-01-01 00:00:00-06:00    9.514979e+08\n",
       " 1986-01-01 01:00:00-06:00    8.438877e+08\n",
       " 1986-01-01 02:00:00-06:00    9.526037e+08\n",
       " 1986-01-01 03:00:00-06:00    8.452071e+08\n",
       " 1986-01-01 04:00:00-06:00    9.534275e+08\n",
       "                                  ...     \n",
       " 1981-12-31 19:00:00-06:00    5.001711e+08\n",
       " 1981-12-31 20:00:00-06:00    4.360091e+08\n",
       " 1981-12-31 21:00:00-06:00    5.290179e+08\n",
       " 1981-12-31 22:00:00-06:00    4.823138e+08\n",
       " 1981-12-31 23:00:00-06:00    6.210604e+08\n",
       " Name: Value, Length: 8760, dtype: float64)"
      ]
     },
     "execution_count": 7,
     "metadata": {},
     "output_type": "execute_result"
    }
   ],
   "source": [
    "dated_output"
   ]
  },
  {
   "cell_type": "markdown",
   "metadata": {
    "papermill": {
     "duration": 0.007732,
     "end_time": "2019-10-28T22:49:12.209623",
     "exception": false,
     "start_time": "2019-10-28T22:49:12.201891",
     "status": "completed"
    },
    "tags": []
   },
   "source": [
    "## Running a df_apply of the Evaluator"
   ]
  },
  {
   "cell_type": "code",
   "execution_count": 8,
   "metadata": {
    "papermill": {
     "duration": 48.398359,
     "end_time": "2019-10-28T22:50:00.615859",
     "exception": false,
     "start_time": "2019-10-28T22:49:12.217500",
     "status": "completed"
    },
    "tags": []
   },
   "outputs": [
    {
     "data": {
      "application/vnd.jupyter.widget-view+json": {
       "model_id": "d9192da075844f7587bb5eec6b467656",
       "version_major": 2,
       "version_minor": 0
      },
      "text/plain": [
       "HBox(children=(IntProgress(value=0, description='Executing', max=4, style=ProgressStyle(description_width='ini…"
      ]
     },
     "metadata": {},
     "output_type": "display_data"
    },
    {
     "name": "stdout",
     "output_type": "stream",
     "text": [
      "\n"
     ]
    }
   ],
   "source": [
    "df_input = pd.DataFrame(np.array([[8], [9],[10], [11]]),columns= ['p1'])\n",
    "results= evaluator.df_apply(df_input)"
   ]
  },
  {
   "cell_type": "code",
   "execution_count": 9,
   "metadata": {
    "papermill": {
     "duration": 0.033496,
     "end_time": "2019-10-28T22:50:00.660322",
     "exception": false,
     "start_time": "2019-10-28T22:50:00.626826",
     "status": "completed"
    },
    "tags": []
   },
   "outputs": [
    {
     "data": {
      "text/html": [
       "<div>\n",
       "<style scoped>\n",
       "    .dataframe tbody tr th:only-of-type {\n",
       "        vertical-align: middle;\n",
       "    }\n",
       "\n",
       "    .dataframe tbody tr th {\n",
       "        vertical-align: top;\n",
       "    }\n",
       "\n",
       "    .dataframe thead th {\n",
       "        text-align: right;\n",
       "    }\n",
       "</style>\n",
       "<table border=\"1\" class=\"dataframe\">\n",
       "  <thead>\n",
       "    <tr style=\"text-align: right;\">\n",
       "      <th></th>\n",
       "      <th>Electricity:Facility</th>\n",
       "      <th>Gas:Facility</th>\n",
       "    </tr>\n",
       "  </thead>\n",
       "  <tbody>\n",
       "    <tr>\n",
       "      <td>0</td>\n",
       "      <td>0       5.729183e+07\n",
       "1       5.221348e+07\n",
       "2   ...</td>\n",
       "      <td>0       9.514979e+08\n",
       "1       8.438877e+08\n",
       "2   ...</td>\n",
       "    </tr>\n",
       "    <tr>\n",
       "      <td>1</td>\n",
       "      <td>0       5.729183e+07\n",
       "1       5.221348e+07\n",
       "2   ...</td>\n",
       "      <td>0       9.514979e+08\n",
       "1       8.438877e+08\n",
       "2   ...</td>\n",
       "    </tr>\n",
       "    <tr>\n",
       "      <td>2</td>\n",
       "      <td>0       5.729183e+07\n",
       "1       5.221348e+07\n",
       "2   ...</td>\n",
       "      <td>0       9.514979e+08\n",
       "1       8.438877e+08\n",
       "2   ...</td>\n",
       "    </tr>\n",
       "    <tr>\n",
       "      <td>3</td>\n",
       "      <td>0       5.729183e+07\n",
       "1       5.221348e+07\n",
       "2   ...</td>\n",
       "      <td>0       9.514979e+08\n",
       "1       8.438877e+08\n",
       "2   ...</td>\n",
       "    </tr>\n",
       "  </tbody>\n",
       "</table>\n",
       "</div>"
      ],
      "text/plain": [
       "                                Electricity:Facility  \\\n",
       "0  0       5.729183e+07\n",
       "1       5.221348e+07\n",
       "2   ...   \n",
       "1  0       5.729183e+07\n",
       "1       5.221348e+07\n",
       "2   ...   \n",
       "2  0       5.729183e+07\n",
       "1       5.221348e+07\n",
       "2   ...   \n",
       "3  0       5.729183e+07\n",
       "1       5.221348e+07\n",
       "2   ...   \n",
       "\n",
       "                                        Gas:Facility  \n",
       "0  0       9.514979e+08\n",
       "1       8.438877e+08\n",
       "2   ...  \n",
       "1  0       9.514979e+08\n",
       "1       8.438877e+08\n",
       "2   ...  \n",
       "2  0       9.514979e+08\n",
       "1       8.438877e+08\n",
       "2   ...  \n",
       "3  0       9.514979e+08\n",
       "1       8.438877e+08\n",
       "2   ...  "
      ]
     },
     "execution_count": 9,
     "metadata": {},
     "output_type": "execute_result"
    }
   ],
   "source": [
    "results"
   ]
  },
  {
   "cell_type": "markdown",
   "metadata": {
    "papermill": {
     "duration": 0.009065,
     "end_time": "2019-10-28T22:50:00.678663",
     "exception": false,
     "start_time": "2019-10-28T22:50:00.669598",
     "status": "completed"
    },
    "tags": []
   },
   "source": [
    "### Applying Dates to df_apply results\n",
    "\n",
    "When the evaluator is called with df_apply the results are in a Pandas Dataframe. Each cell is an objective's Pandas Series. To ensure the output format is unchanged each cell is iterated across and the dates are applied as the index. Then the results are converted back to a series and the cell is updated with that series."
   ]
  },
  {
   "cell_type": "code",
   "execution_count": 10,
   "metadata": {
    "papermill": {
     "duration": 0.03954,
     "end_time": "2019-10-28T22:50:00.728516",
     "exception": false,
     "start_time": "2019-10-28T22:50:00.688976",
     "status": "completed"
    },
    "tags": []
   },
   "outputs": [],
   "source": [
    "for x, key in enumerate(results):\n",
    "    for y, output in enumerate(results[key]):\n",
    "        output_frame = output.to_frame()\n",
    "        df = dates.merge(output_frame, left_index = True, right_index = True).set_index(0)\n",
    "        del df.index.name\n",
    "        ds= df.squeeze()\n",
    "        results.iat[y,x] = ds"
   ]
  },
  {
   "cell_type": "code",
   "execution_count": 11,
   "metadata": {
    "papermill": {
     "duration": 0.042143,
     "end_time": "2019-10-28T22:50:00.782962",
     "exception": false,
     "start_time": "2019-10-28T22:50:00.740819",
     "status": "completed"
    },
    "tags": []
   },
   "outputs": [
    {
     "data": {
      "text/html": [
       "<div>\n",
       "<style scoped>\n",
       "    .dataframe tbody tr th:only-of-type {\n",
       "        vertical-align: middle;\n",
       "    }\n",
       "\n",
       "    .dataframe tbody tr th {\n",
       "        vertical-align: top;\n",
       "    }\n",
       "\n",
       "    .dataframe thead th {\n",
       "        text-align: right;\n",
       "    }\n",
       "</style>\n",
       "<table border=\"1\" class=\"dataframe\">\n",
       "  <thead>\n",
       "    <tr style=\"text-align: right;\">\n",
       "      <th></th>\n",
       "      <th>Electricity:Facility</th>\n",
       "      <th>Gas:Facility</th>\n",
       "    </tr>\n",
       "  </thead>\n",
       "  <tbody>\n",
       "    <tr>\n",
       "      <td>0</td>\n",
       "      <td>1986-01-01 00:00:00-06:00    5.729183e+07\n",
       "1986...</td>\n",
       "      <td>1986-01-01 00:00:00-06:00    9.514979e+08\n",
       "1986...</td>\n",
       "    </tr>\n",
       "    <tr>\n",
       "      <td>1</td>\n",
       "      <td>1986-01-01 00:00:00-06:00    5.729183e+07\n",
       "1986...</td>\n",
       "      <td>1986-01-01 00:00:00-06:00    9.514979e+08\n",
       "1986...</td>\n",
       "    </tr>\n",
       "    <tr>\n",
       "      <td>2</td>\n",
       "      <td>1986-01-01 00:00:00-06:00    5.729183e+07\n",
       "1986...</td>\n",
       "      <td>1986-01-01 00:00:00-06:00    9.514979e+08\n",
       "1986...</td>\n",
       "    </tr>\n",
       "    <tr>\n",
       "      <td>3</td>\n",
       "      <td>1986-01-01 00:00:00-06:00    5.729183e+07\n",
       "1986...</td>\n",
       "      <td>1986-01-01 00:00:00-06:00    9.514979e+08\n",
       "1986...</td>\n",
       "    </tr>\n",
       "  </tbody>\n",
       "</table>\n",
       "</div>"
      ],
      "text/plain": [
       "                                Electricity:Facility  \\\n",
       "0  1986-01-01 00:00:00-06:00    5.729183e+07\n",
       "1986...   \n",
       "1  1986-01-01 00:00:00-06:00    5.729183e+07\n",
       "1986...   \n",
       "2  1986-01-01 00:00:00-06:00    5.729183e+07\n",
       "1986...   \n",
       "3  1986-01-01 00:00:00-06:00    5.729183e+07\n",
       "1986...   \n",
       "\n",
       "                                        Gas:Facility  \n",
       "0  1986-01-01 00:00:00-06:00    9.514979e+08\n",
       "1986...  \n",
       "1  1986-01-01 00:00:00-06:00    9.514979e+08\n",
       "1986...  \n",
       "2  1986-01-01 00:00:00-06:00    9.514979e+08\n",
       "1986...  \n",
       "3  1986-01-01 00:00:00-06:00    9.514979e+08\n",
       "1986...  "
      ]
     },
     "execution_count": 11,
     "metadata": {},
     "output_type": "execute_result"
    }
   ],
   "source": [
    "results"
   ]
  },
  {
   "cell_type": "code",
   "execution_count": null,
   "metadata": {
    "papermill": {
     "duration": 0.009445,
     "end_time": "2019-10-28T22:50:00.802023",
     "exception": false,
     "start_time": "2019-10-28T22:50:00.792578",
     "status": "completed"
    },
    "tags": []
   },
   "outputs": [],
   "source": []
  }
 ],
 "metadata": {
  "kernelspec": {
   "display_name": "Python 3",
   "language": "python",
   "name": "python3"
  },
  "language_info": {
   "codemirror_mode": {
    "name": "ipython",
    "version": 3
   },
   "file_extension": ".py",
   "mimetype": "text/x-python",
   "name": "python",
   "nbconvert_exporter": "python",
   "pygments_lexer": "ipython3",
   "version": "3.6.4"
  },
  "papermill": {
   "duration": 63.909505,
   "end_time": "2019-10-28T22:50:01.320478",
   "environment_variables": {},
   "exception": null,
   "input_path": "./Evaluators/Applying Time Stamps as Index on EvaluatorEP Outputs.ipynb",
   "output_path": "./Evaluators/Applying Time Stamps as Index on EvaluatorEP Outputs.ipynb",
   "parameters": {},
   "start_time": "2019-10-28T22:48:57.410973",
   "version": "1.2.0"
  },
  "widgets": {
   "application/vnd.jupyter.widget-state+json": {
    "state": {
     "19e5c7bc96644e07b8f903e64bdee341": {
      "model_module": "@jupyter-widgets/controls",
      "model_module_version": "1.5.0",
      "model_name": "ProgressStyleModel",
      "state": {
       "_model_module": "@jupyter-widgets/controls",
       "_model_module_version": "1.5.0",
       "_model_name": "ProgressStyleModel",
       "_view_count": null,
       "_view_module": "@jupyter-widgets/base",
       "_view_module_version": "1.2.0",
       "_view_name": "StyleView",
       "bar_color": null,
       "description_width": "initial"
      }
     },
     "236ca4c87caf4ab6a83131d0d568b2c6": {
      "model_module": "@jupyter-widgets/base",
      "model_module_version": "1.2.0",
      "model_name": "LayoutModel",
      "state": {
       "_model_module": "@jupyter-widgets/base",
       "_model_module_version": "1.2.0",
       "_model_name": "LayoutModel",
       "_view_count": null,
       "_view_module": "@jupyter-widgets/base",
       "_view_module_version": "1.2.0",
       "_view_name": "LayoutView",
       "align_content": null,
       "align_items": null,
       "align_self": null,
       "border": null,
       "bottom": null,
       "display": null,
       "flex": null,
       "flex_flow": null,
       "grid_area": null,
       "grid_auto_columns": null,
       "grid_auto_flow": null,
       "grid_auto_rows": null,
       "grid_column": null,
       "grid_gap": null,
       "grid_row": null,
       "grid_template_areas": null,
       "grid_template_columns": null,
       "grid_template_rows": null,
       "height": null,
       "justify_content": null,
       "justify_items": null,
       "left": null,
       "margin": null,
       "max_height": null,
       "max_width": null,
       "min_height": null,
       "min_width": null,
       "object_fit": null,
       "object_position": null,
       "order": null,
       "overflow": null,
       "overflow_x": null,
       "overflow_y": null,
       "padding": null,
       "right": null,
       "top": null,
       "visibility": null,
       "width": null
      }
     },
     "2976868b5ed445f7868c800ee75389ab": {
      "model_module": "@jupyter-widgets/controls",
      "model_module_version": "1.5.0",
      "model_name": "IntProgressModel",
      "state": {
       "_dom_classes": [],
       "_model_module": "@jupyter-widgets/controls",
       "_model_module_version": "1.5.0",
       "_model_name": "IntProgressModel",
       "_view_count": null,
       "_view_module": "@jupyter-widgets/controls",
       "_view_module_version": "1.5.0",
       "_view_name": "ProgressView",
       "bar_style": "success",
       "description": "Executing: 100%",
       "description_tooltip": null,
       "layout": "IPY_MODEL_833c1b431c2842808d20ff8025779d6e",
       "max": 4,
       "min": 0,
       "orientation": "horizontal",
       "style": "IPY_MODEL_19e5c7bc96644e07b8f903e64bdee341",
       "value": 4
      }
     },
     "3d28845e523046039460ce577cb412f6": {
      "model_module": "@jupyter-widgets/controls",
      "model_module_version": "1.5.0",
      "model_name": "DescriptionStyleModel",
      "state": {
       "_model_module": "@jupyter-widgets/controls",
       "_model_module_version": "1.5.0",
       "_model_name": "DescriptionStyleModel",
       "_view_count": null,
       "_view_module": "@jupyter-widgets/base",
       "_view_module_version": "1.2.0",
       "_view_name": "StyleView",
       "description_width": ""
      }
     },
     "833c1b431c2842808d20ff8025779d6e": {
      "model_module": "@jupyter-widgets/base",
      "model_module_version": "1.2.0",
      "model_name": "LayoutModel",
      "state": {
       "_model_module": "@jupyter-widgets/base",
       "_model_module_version": "1.2.0",
       "_model_name": "LayoutModel",
       "_view_count": null,
       "_view_module": "@jupyter-widgets/base",
       "_view_module_version": "1.2.0",
       "_view_name": "LayoutView",
       "align_content": null,
       "align_items": null,
       "align_self": null,
       "border": null,
       "bottom": null,
       "display": null,
       "flex": null,
       "flex_flow": null,
       "grid_area": null,
       "grid_auto_columns": null,
       "grid_auto_flow": null,
       "grid_auto_rows": null,
       "grid_column": null,
       "grid_gap": null,
       "grid_row": null,
       "grid_template_areas": null,
       "grid_template_columns": null,
       "grid_template_rows": null,
       "height": null,
       "justify_content": null,
       "justify_items": null,
       "left": null,
       "margin": null,
       "max_height": null,
       "max_width": null,
       "min_height": null,
       "min_width": null,
       "object_fit": null,
       "object_position": null,
       "order": null,
       "overflow": null,
       "overflow_x": null,
       "overflow_y": null,
       "padding": null,
       "right": null,
       "top": null,
       "visibility": null,
       "width": null
      }
     },
     "b4fa73a59df542288e5b7cb59db53377": {
      "model_module": "@jupyter-widgets/base",
      "model_module_version": "1.2.0",
      "model_name": "LayoutModel",
      "state": {
       "_model_module": "@jupyter-widgets/base",
       "_model_module_version": "1.2.0",
       "_model_name": "LayoutModel",
       "_view_count": null,
       "_view_module": "@jupyter-widgets/base",
       "_view_module_version": "1.2.0",
       "_view_name": "LayoutView",
       "align_content": null,
       "align_items": null,
       "align_self": null,
       "border": null,
       "bottom": null,
       "display": null,
       "flex": null,
       "flex_flow": null,
       "grid_area": null,
       "grid_auto_columns": null,
       "grid_auto_flow": null,
       "grid_auto_rows": null,
       "grid_column": null,
       "grid_gap": null,
       "grid_row": null,
       "grid_template_areas": null,
       "grid_template_columns": null,
       "grid_template_rows": null,
       "height": null,
       "justify_content": null,
       "justify_items": null,
       "left": null,
       "margin": null,
       "max_height": null,
       "max_width": null,
       "min_height": null,
       "min_width": null,
       "object_fit": null,
       "object_position": null,
       "order": null,
       "overflow": null,
       "overflow_x": null,
       "overflow_y": null,
       "padding": null,
       "right": null,
       "top": null,
       "visibility": null,
       "width": null
      }
     },
     "d16ca8a24a7542b2853d1a460b3b3453": {
      "model_module": "@jupyter-widgets/controls",
      "model_module_version": "1.5.0",
      "model_name": "HTMLModel",
      "state": {
       "_dom_classes": [],
       "_model_module": "@jupyter-widgets/controls",
       "_model_module_version": "1.5.0",
       "_model_name": "HTMLModel",
       "_view_count": null,
       "_view_module": "@jupyter-widgets/controls",
       "_view_module_version": "1.5.0",
       "_view_name": "HTMLView",
       "description": "",
       "description_tooltip": null,
       "layout": "IPY_MODEL_236ca4c87caf4ab6a83131d0d568b2c6",
       "placeholder": "​",
       "style": "IPY_MODEL_3d28845e523046039460ce577cb412f6",
       "value": " 4/4 [00:48&lt;00:00, 12.09s/row]"
      }
     },
     "d9192da075844f7587bb5eec6b467656": {
      "model_module": "@jupyter-widgets/controls",
      "model_module_version": "1.5.0",
      "model_name": "HBoxModel",
      "state": {
       "_dom_classes": [],
       "_model_module": "@jupyter-widgets/controls",
       "_model_module_version": "1.5.0",
       "_model_name": "HBoxModel",
       "_view_count": null,
       "_view_module": "@jupyter-widgets/controls",
       "_view_module_version": "1.5.0",
       "_view_name": "HBoxView",
       "box_style": "",
       "children": [
        "IPY_MODEL_2976868b5ed445f7868c800ee75389ab",
        "IPY_MODEL_d16ca8a24a7542b2853d1a460b3b3453"
       ],
       "layout": "IPY_MODEL_b4fa73a59df542288e5b7cb59db53377"
      }
     }
    },
    "version_major": 2,
    "version_minor": 0
   }
  }
 },
 "nbformat": 4,
 "nbformat_minor": 4
}