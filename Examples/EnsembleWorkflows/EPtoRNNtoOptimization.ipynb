{
 "cells": [
  {
   "cell_type": "markdown",
   "metadata": {},
   "source": [
    "# Tour of the Advanced Interface\n",
    "\n",
    "\n",
    "In this notebook we will go over some of the basic workflow to create a a surrogate model from an EnergyPlus simulation. We will train a neural network to find daily electricity output based on window to wall ratio and solar gain coefficient. Finally we will use this surrogate model to do an optimization of the building. "
   ]
  },
  {
   "cell_type": "markdown",
   "metadata": {},
   "source": [
    "![Image](image/flow_diagram.PNG) "
   ]
  },
  {
   "cell_type": "code",
   "execution_count": 1,
   "metadata": {},
   "outputs": [
    {
     "name": "stdout",
     "output_type": "stream",
     "text": [
      "Couldn't import dot_parser, loading of dot files will not be possible.\n"
     ]
    }
   ],
   "source": [
    "#!pip install besos --user\n",
    "%matplotlib inline\n",
    "\n",
    "import pandas as pd\n",
    "import matplotlib\n",
    "import matplotlib.pyplot as plt\n",
    "import numpy as np\n",
    "from sklearn.model_selection import train_test_split\n",
    "from sklearn.preprocessing import StandardScaler\n",
    "import tensorflow as tf\n",
    "import tensorflow.keras as keras\n",
    "from tensorflow.keras import layers\n",
    "from besos import eppy_funcs as ef\n",
    "import besos.sampling as sampling\n",
    "from besos.problem import EPProblem\n",
    "from besos.evaluator import EvaluatorEP\n",
    "from besos.parameters import wwr, RangeParameter, FieldSelector, FilterSelector, GenericSelector, Parameter, expand_plist\n",
    "from besos.objectives import MeterReader,time_series_values,EPResults\n",
    "\n",
    "import tensorflow_docs as tfdocs\n",
    "import tensorflow_docs.plots\n",
    "import tensorflow_docs.modeling\n",
    "\n",
    "from platypus.evaluator import MapEvaluator\n",
    "import time\n",
    "from dask.distributed import Client\n"
   ]
  },
  {
   "cell_type": "code",
   "execution_count": 2,
   "metadata": {},
   "outputs": [],
   "source": [
    "# Use seaborn for pairplot\n",
    "#!pip install --upgrade tensorflow --user\n",
    "\n",
    "# Use some functions from tensorflow_docs\n",
    "#!pip install git+https://github.com/tensorflow/docs --user"
   ]
  },
  {
   "cell_type": "markdown",
   "metadata": {},
   "source": [
    "# (1) Set up the building from idf"
   ]
  },
  {
   "cell_type": "code",
   "execution_count": null,
   "metadata": {},
   "outputs": [],
   "source": [
    "# Open the IDF file\n",
    "building = ef.get_building(\"Medium_Office.idf\")"
   ]
  },
  {
   "cell_type": "markdown",
   "metadata": {},
   "source": [
    "# (2) Set up the outputs and inputs"
   ]
  },
  {
   "cell_type": "code",
   "execution_count": 5,
   "metadata": {},
   "outputs": [
    {
     "data": {
      "text/html": [
       "<div>\n",
       "<style scoped>\n",
       "    .dataframe tbody tr th:only-of-type {\n",
       "        vertical-align: middle;\n",
       "    }\n",
       "\n",
       "    .dataframe tbody tr th {\n",
       "        vertical-align: top;\n",
       "    }\n",
       "\n",
       "    .dataframe thead th {\n",
       "        text-align: right;\n",
       "    }\n",
       "</style>\n",
       "<table border=\"1\" class=\"dataframe\">\n",
       "  <thead>\n",
       "    <tr style=\"text-align: right;\">\n",
       "      <th></th>\n",
       "      <th>Solar Gain Coefficient</th>\n",
       "      <th>Window to Wall Ratio</th>\n",
       "    </tr>\n",
       "  </thead>\n",
       "  <tbody>\n",
       "    <tr>\n",
       "      <th>0</th>\n",
       "      <td>0.409048</td>\n",
       "      <td>0.867502</td>\n",
       "    </tr>\n",
       "    <tr>\n",
       "      <th>1</th>\n",
       "      <td>0.514402</td>\n",
       "      <td>0.294700</td>\n",
       "    </tr>\n",
       "    <tr>\n",
       "      <th>2</th>\n",
       "      <td>0.303002</td>\n",
       "      <td>0.289754</td>\n",
       "    </tr>\n",
       "    <tr>\n",
       "      <th>3</th>\n",
       "      <td>0.603238</td>\n",
       "      <td>0.797945</td>\n",
       "    </tr>\n",
       "    <tr>\n",
       "      <th>4</th>\n",
       "      <td>0.217869</td>\n",
       "      <td>0.567174</td>\n",
       "    </tr>\n",
       "  </tbody>\n",
       "</table>\n",
       "</div>"
      ],
      "text/plain": [
       "   Solar Gain Coefficient  Window to Wall Ratio\n",
       "0                0.409048              0.867502\n",
       "1                0.514402              0.294700\n",
       "2                0.303002              0.289754\n",
       "3                0.603238              0.797945\n",
       "4                0.217869              0.567174"
      ]
     },
     "execution_count": 5,
     "metadata": {},
     "output_type": "execute_result"
    }
   ],
   "source": [
    "# Setup the parameters\n",
    "parameters = [Parameter(FieldSelector('Window',\"*\",'Solar Heat Gain Coefficient'),\n",
    "                value_descriptor=RangeParameter(0.01,0.99),\n",
    "                name='Solar Gain Coefficient')]\n",
    "\n",
    "# Add window-to-wall ratio as a parameter between 0.1 and 0.9 using a custom function\n",
    "parameters.append(wwr(RangeParameter(0.1, 0.9))) \n",
    "\n",
    "def data_to_array(results: EPResults):\n",
    "    # to make sure we get the hourly values we have to make our \n",
    "    # own function to return the array without summing them which\n",
    "    # is the default in besos. \n",
    "    return results.data[\"Value\"].values\n",
    "# Construct the objective\n",
    "objective = [MeterReader(key_name='Electricity:Facility',func=data_to_array, frequency='Daily')]\n",
    "# Build the problem\n",
    "problem = EPProblem(parameters, objective)\n",
    "# setup the evaluator\n",
    "evaluator = EvaluatorEP(problem, building, epw_file = \"victoria.epw\", multi=True)"
   ]
  },
  {
   "cell_type": "code",
   "execution_count": 4,
   "metadata": {
    "collapsed": true,
    "jupyter": {
     "outputs_hidden": true,
     "source_hidden": true
    }
   },
   "outputs": [
    {
     "data": {
      "application/vnd.jupyter.widget-view+json": {
       "model_id": "33353bbf87534b0b9be5cd56da4e485c",
       "version_major": 2,
       "version_minor": 0
      },
      "text/plain": [
       "HBox(children=(FloatProgress(value=0.0, description='Executing', max=1.0, style=ProgressStyle(description_widt…"
      ]
     },
     "metadata": {},
     "output_type": "display_data"
    },
    {
     "name": "stdout",
     "output_type": "stream",
     "text": [
      "\n",
      "   Solar Gain Coefficient  Window to Wall Ratio  \\\n",
      "0                0.284395              0.571603   \n",
      "\n",
      "                                 Heating:Electricity  \n",
      "0  [108152877.68161495, 3540938357.8196387, 25072...  \n"
     ]
    }
   ],
   "source": [
    "# Construct the evaluator, here we also add the epw file such that we have \n",
    "# weather data for an entire year. \n",
    "evaluator = EvaluatorEP(problem, building, epw_file = \"victoria.epw\")\n",
    "# Run Energyplus\n",
    "outputs = evaluator.df_apply(inputs.head(1))\n",
    "\n",
    "# Build a results DataFrame\n",
    "results = inputs.head(1).join(outputs)\n",
    "print(results.head())"
   ]
  },
  {
   "cell_type": "code",
   "execution_count": 4,
   "metadata": {},
   "outputs": [
    {
     "data": {
      "text/html": [
       "<table style=\"border: 2px solid white;\">\n",
       "<tr>\n",
       "<td style=\"vertical-align: top; border: 0px solid white\">\n",
       "<h3 style=\"text-align: left;\">Client</h3>\n",
       "<ul style=\"text-align: left; list-style: none; margin: 0; padding: 0;\">\n",
       "  <li><b>Scheduler: </b>tcp://127.0.0.1:43091</li>\n",
       "  <li><b>Dashboard: </b><a href='/user/theochri/proxy/8787/status' target='_blank'>/user/theochri/proxy/8787/status</a>\n",
       "</ul>\n",
       "</td>\n",
       "<td style=\"vertical-align: top; border: 0px solid white\">\n",
       "<h3 style=\"text-align: left;\">Cluster</h3>\n",
       "<ul style=\"text-align: left; list-style:none; margin: 0; padding: 0;\">\n",
       "  <li><b>Workers: </b>16</li>\n",
       "  <li><b>Cores: </b>16</li>\n",
       "  <li><b>Memory: </b>34.36 GB</li>\n",
       "</ul>\n",
       "</td>\n",
       "</tr>\n",
       "</table>"
      ],
      "text/plain": [
       "<Client: 'tcp://127.0.0.1:43091' processes=16 threads=16, memory=34.36 GB>"
      ]
     },
     "execution_count": 4,
     "metadata": {},
     "output_type": "execute_result"
    }
   ],
   "source": [
    "client = Client(threads_per_worker=1)\n",
    "client"
   ]
  },
  {
   "cell_type": "code",
   "execution_count": 6,
   "metadata": {},
   "outputs": [
    {
     "name": "stderr",
     "output_type": "stream",
     "text": [
      "/usr/local/lib/python3.7/dist-packages/distributed/worker.py:3339: UserWarning: Large object of size 5.35 MB detected in task graph: \n",
      "  (\"('from_pandas-55883064fd10d21f3b67707184a5d32a', ... 7707184a5d32a')\n",
      "Consider scattering large objects ahead of time\n",
      "with client.scatter to reduce scheduler burden and \n",
      "keep data on workers\n",
      "\n",
      "    future = client.submit(func, big_data)    # bad\n",
      "\n",
      "    big_future = client.scatter(big_data)     # good\n",
      "    future = client.submit(func, big_future)  # good\n",
      "  % (format_bytes(len(b)), s)\n"
     ]
    }
   ],
   "source": [
    "# Use latin hypercube sampling to take 30 samples\n",
    "inputs = sampling.dist_sampler(sampling.lhs, problem,100)\n",
    "# sample of the inputs\n",
    "print(inputs.head())\n",
    "\n",
    "\n",
    "t1=time.time()\n",
    "# Run Energyplus\n",
    "outputs = evaluator.df_apply(inputs)\n",
    "t2=time.time()\n",
    "time_of_sim=t2-t1"
   ]
  },
  {
   "cell_type": "code",
   "execution_count": 7,
   "metadata": {},
   "outputs": [
    {
     "name": "stdout",
     "output_type": "stream",
     "text": [
      "the total running time:  0 hours 35 min 29 seconds\n"
     ]
    }
   ],
   "source": [
    "def niceformat(seconds): \n",
    "    seconds = seconds % (24 * 3600) \n",
    "    hour = seconds // 3600\n",
    "    seconds %= 3600\n",
    "    minutes = seconds // 60\n",
    "    seconds %= 60\n",
    "    return hour, minutes, seconds \n",
    "\n",
    "hours,mins,secs=niceformat(time_of_sim)\n",
    "\n",
    "print(\"the total running time: {:2.0f} hours {:2.0f} min {:2.0f} seconds\".format(hours,mins,secs))\n",
    "# Build a results DataFrame"
   ]
  },
  {
   "cell_type": "code",
   "execution_count": 8,
   "metadata": {},
   "outputs": [
    {
     "data": {
      "text/html": [
       "<div>\n",
       "<style scoped>\n",
       "    .dataframe tbody tr th:only-of-type {\n",
       "        vertical-align: middle;\n",
       "    }\n",
       "\n",
       "    .dataframe tbody tr th {\n",
       "        vertical-align: top;\n",
       "    }\n",
       "\n",
       "    .dataframe thead th {\n",
       "        text-align: right;\n",
       "    }\n",
       "</style>\n",
       "<table border=\"1\" class=\"dataframe\">\n",
       "  <thead>\n",
       "    <tr style=\"text-align: right;\">\n",
       "      <th></th>\n",
       "      <th>Solar Gain Coefficient</th>\n",
       "      <th>Window to Wall Ratio</th>\n",
       "      <th>Electricity:Facility</th>\n",
       "    </tr>\n",
       "  </thead>\n",
       "  <tbody>\n",
       "    <tr>\n",
       "      <th>0</th>\n",
       "      <td>0.409048</td>\n",
       "      <td>0.867502</td>\n",
       "      <td>[1180684035.3518057, 9794487272.569838, 897383...</td>\n",
       "    </tr>\n",
       "    <tr>\n",
       "      <th>1</th>\n",
       "      <td>0.514402</td>\n",
       "      <td>0.294700</td>\n",
       "      <td>[997994614.8944771, 7712055085.092192, 6851805...</td>\n",
       "    </tr>\n",
       "    <tr>\n",
       "      <th>2</th>\n",
       "      <td>0.303002</td>\n",
       "      <td>0.289754</td>\n",
       "      <td>[997820334.2064877, 7692209596.335068, 6833267...</td>\n",
       "    </tr>\n",
       "    <tr>\n",
       "      <th>3</th>\n",
       "      <td>0.603238</td>\n",
       "      <td>0.797945</td>\n",
       "      <td>[1160853156.1022706, 9641777706.005512, 878553...</td>\n",
       "    </tr>\n",
       "    <tr>\n",
       "      <th>4</th>\n",
       "      <td>0.217869</td>\n",
       "      <td>0.567174</td>\n",
       "      <td>[1104317113.8278315, 8992140272.141285, 792529...</td>\n",
       "    </tr>\n",
       "  </tbody>\n",
       "</table>\n",
       "</div>"
      ],
      "text/plain": [
       "   Solar Gain Coefficient  Window to Wall Ratio  \\\n",
       "0                0.409048              0.867502   \n",
       "1                0.514402              0.294700   \n",
       "2                0.303002              0.289754   \n",
       "3                0.603238              0.797945   \n",
       "4                0.217869              0.567174   \n",
       "\n",
       "                                Electricity:Facility  \n",
       "0  [1180684035.3518057, 9794487272.569838, 897383...  \n",
       "1  [997994614.8944771, 7712055085.092192, 6851805...  \n",
       "2  [997820334.2064877, 7692209596.335068, 6833267...  \n",
       "3  [1160853156.1022706, 9641777706.005512, 878553...  \n",
       "4  [1104317113.8278315, 8992140272.141285, 792529...  "
      ]
     },
     "execution_count": 8,
     "metadata": {},
     "output_type": "execute_result"
    }
   ],
   "source": [
    "results = inputs.join(outputs)\n",
    "results.head()"
   ]
  },
  {
   "cell_type": "code",
   "execution_count": 9,
   "metadata": {},
   "outputs": [
    {
     "data": {
      "text/plain": [
       "<matplotlib.legend.Legend at 0x7fdf0f6a9910>"
      ]
     },
     "execution_count": 9,
     "metadata": {},
     "output_type": "execute_result"
    },
    {
     "data": {
      "image/png": "[encoded data removed]",
      "text/plain": [
       "<Figure size 432x288 with 1 Axes>"
      ]
     },
     "metadata": {
      "needs_background": "light"
     },
     "output_type": "display_data"
    }
   ],
   "source": [
    "total_heating_use = [sum(hourly_data) for hourly_data in results['Electricity:Facility']]\n",
    "plt.scatter(results['Solar Gain Coefficient'],total_heating_use,label=\"solar gain\")\n",
    "plt.scatter(results['Window to Wall Ratio'],total_heating_use,label=\"w2w ratio\")\n",
    "plt.legend()"
   ]
  },
  {
   "cell_type": "markdown",
   "metadata": {},
   "source": [
    "# (3) Store the expensive runs"
   ]
  },
  {
   "cell_type": "markdown",
   "metadata": {},
   "source": [
    "Since this can quite a big run. Lets store the results such that we don't have to rerun this problem."
   ]
  },
  {
   "cell_type": "code",
   "execution_count": 10,
   "metadata": {},
   "outputs": [],
   "source": [
    "inputs.to_pickle(\"inputs.pkl\")\n",
    "outputs.to_pickle(\"outputs.pkl\")"
   ]
  },
  {
   "cell_type": "code",
   "execution_count": 11,
   "metadata": {},
   "outputs": [],
   "source": [
    "inputs_ = pd.read_pickle(\"inputs.pkl\")\n",
    "outputs_ = pd.read_pickle(\"outputs.pkl\")"
   ]
  },
  {
   "cell_type": "markdown",
   "metadata": {},
   "source": [
    "# (4) Reload the expensive runs"
   ]
  },
  {
   "cell_type": "markdown",
   "metadata": {},
   "source": [
    "The outputs are packed in a single columns which will not work for tensorflow."
   ]
  },
  {
   "cell_type": "code",
   "execution_count": 12,
   "metadata": {},
   "outputs": [
    {
     "name": "stdout",
     "output_type": "stream",
     "text": [
      "                                Electricity:Facility\n",
      "0  [1180684035.3518057, 9794487272.569838, 897383...\n",
      "1  [997994614.8944771, 7712055085.092192, 6851805...\n",
      "2  [997820334.2064877, 7692209596.335068, 6833267...\n",
      "3  [1160853156.1022706, 9641777706.005512, 878553...\n",
      "4  [1104317113.8278315, 8992140272.141285, 792529...\n",
      "   Solar Gain Coefficient  Window to Wall Ratio\n",
      "0                0.409048              0.867502\n",
      "1                0.514402              0.294700\n",
      "2                0.303002              0.289754\n",
      "3                0.603238              0.797945\n",
      "4                0.217869              0.567174\n"
     ]
    }
   ],
   "source": [
    "print(outputs_.head())\n",
    "print(inputs_.head())"
   ]
  },
  {
   "cell_type": "markdown",
   "metadata": {},
   "source": [
    "We will repack them using the following code, to get 365 different columns which will represent the output labels. Build the full dataset with inputs and outputs to easily split up the train and test data sets. The training data sets are used to train the model, while the test data set will show how general the model is. "
   ]
  },
  {
   "cell_type": "code",
   "execution_count": 13,
   "metadata": {},
   "outputs": [
    {
     "data": {
      "text/html": [
       "<div>\n",
       "<style scoped>\n",
       "    .dataframe tbody tr th:only-of-type {\n",
       "        vertical-align: middle;\n",
       "    }\n",
       "\n",
       "    .dataframe tbody tr th {\n",
       "        vertical-align: top;\n",
       "    }\n",
       "\n",
       "    .dataframe thead th {\n",
       "        text-align: right;\n",
       "    }\n",
       "</style>\n",
       "<table border=\"1\" class=\"dataframe\">\n",
       "  <thead>\n",
       "    <tr style=\"text-align: right;\">\n",
       "      <th></th>\n",
       "      <th>Solar Gain Coefficient</th>\n",
       "      <th>Window to Wall Ratio</th>\n",
       "      <th>0</th>\n",
       "      <th>1</th>\n",
       "      <th>2</th>\n",
       "      <th>3</th>\n",
       "      <th>4</th>\n",
       "      <th>5</th>\n",
       "      <th>6</th>\n",
       "      <th>7</th>\n",
       "      <th>...</th>\n",
       "      <th>355</th>\n",
       "      <th>356</th>\n",
       "      <th>357</th>\n",
       "      <th>358</th>\n",
       "      <th>359</th>\n",
       "      <th>360</th>\n",
       "      <th>361</th>\n",
       "      <th>362</th>\n",
       "      <th>363</th>\n",
       "      <th>364</th>\n",
       "    </tr>\n",
       "  </thead>\n",
       "  <tbody>\n",
       "    <tr>\n",
       "      <th>0</th>\n",
       "      <td>0.409048</td>\n",
       "      <td>0.867502</td>\n",
       "      <td>1.180684e+09</td>\n",
       "      <td>9.794487e+09</td>\n",
       "      <td>8.973834e+09</td>\n",
       "      <td>8.547405e+09</td>\n",
       "      <td>7.804733e+09</td>\n",
       "      <td>7.343356e+09</td>\n",
       "      <td>9.976628e+08</td>\n",
       "      <td>9.977353e+08</td>\n",
       "      <td>...</td>\n",
       "      <td>7.708081e+09</td>\n",
       "      <td>9.975005e+08</td>\n",
       "      <td>9.973982e+08</td>\n",
       "      <td>8.516846e+09</td>\n",
       "      <td>8.089685e+09</td>\n",
       "      <td>8.366126e+09</td>\n",
       "      <td>7.949139e+09</td>\n",
       "      <td>7.803754e+09</td>\n",
       "      <td>9.974593e+08</td>\n",
       "      <td>1.013826e+09</td>\n",
       "    </tr>\n",
       "    <tr>\n",
       "      <th>1</th>\n",
       "      <td>0.514402</td>\n",
       "      <td>0.294700</td>\n",
       "      <td>9.979946e+08</td>\n",
       "      <td>7.712055e+09</td>\n",
       "      <td>6.851805e+09</td>\n",
       "      <td>6.590209e+09</td>\n",
       "      <td>6.192442e+09</td>\n",
       "      <td>5.991938e+09</td>\n",
       "      <td>9.976680e+08</td>\n",
       "      <td>9.976184e+08</td>\n",
       "      <td>...</td>\n",
       "      <td>6.049578e+09</td>\n",
       "      <td>1.000246e+09</td>\n",
       "      <td>9.974739e+08</td>\n",
       "      <td>6.527792e+09</td>\n",
       "      <td>6.306929e+09</td>\n",
       "      <td>6.373976e+09</td>\n",
       "      <td>6.255888e+09</td>\n",
       "      <td>6.347743e+09</td>\n",
       "      <td>9.975987e+08</td>\n",
       "      <td>9.974088e+08</td>\n",
       "    </tr>\n",
       "    <tr>\n",
       "      <th>2</th>\n",
       "      <td>0.303002</td>\n",
       "      <td>0.289754</td>\n",
       "      <td>9.978203e+08</td>\n",
       "      <td>7.692210e+09</td>\n",
       "      <td>6.833267e+09</td>\n",
       "      <td>6.571380e+09</td>\n",
       "      <td>6.177266e+09</td>\n",
       "      <td>5.979638e+09</td>\n",
       "      <td>9.976284e+08</td>\n",
       "      <td>9.976727e+08</td>\n",
       "      <td>...</td>\n",
       "      <td>6.031276e+09</td>\n",
       "      <td>1.000302e+09</td>\n",
       "      <td>9.981655e+08</td>\n",
       "      <td>6.508936e+09</td>\n",
       "      <td>6.290137e+09</td>\n",
       "      <td>6.354309e+09</td>\n",
       "      <td>6.238857e+09</td>\n",
       "      <td>6.331877e+09</td>\n",
       "      <td>9.973166e+08</td>\n",
       "      <td>9.974008e+08</td>\n",
       "    </tr>\n",
       "    <tr>\n",
       "      <th>3</th>\n",
       "      <td>0.603238</td>\n",
       "      <td>0.797945</td>\n",
       "      <td>1.160853e+09</td>\n",
       "      <td>9.641778e+09</td>\n",
       "      <td>8.785539e+09</td>\n",
       "      <td>8.351021e+09</td>\n",
       "      <td>7.645301e+09</td>\n",
       "      <td>7.208107e+09</td>\n",
       "      <td>9.976615e+08</td>\n",
       "      <td>9.977325e+08</td>\n",
       "      <td>...</td>\n",
       "      <td>7.529691e+09</td>\n",
       "      <td>9.974958e+08</td>\n",
       "      <td>9.974058e+08</td>\n",
       "      <td>8.305864e+09</td>\n",
       "      <td>7.850457e+09</td>\n",
       "      <td>8.145049e+09</td>\n",
       "      <td>7.763735e+09</td>\n",
       "      <td>7.577235e+09</td>\n",
       "      <td>9.974420e+08</td>\n",
       "      <td>1.002615e+09</td>\n",
       "    </tr>\n",
       "    <tr>\n",
       "      <th>4</th>\n",
       "      <td>0.217869</td>\n",
       "      <td>0.567174</td>\n",
       "      <td>1.104317e+09</td>\n",
       "      <td>8.992140e+09</td>\n",
       "      <td>7.925292e+09</td>\n",
       "      <td>7.522446e+09</td>\n",
       "      <td>7.043759e+09</td>\n",
       "      <td>6.729074e+09</td>\n",
       "      <td>9.976887e+08</td>\n",
       "      <td>9.976459e+08</td>\n",
       "      <td>...</td>\n",
       "      <td>6.869358e+09</td>\n",
       "      <td>9.974963e+08</td>\n",
       "      <td>9.973632e+08</td>\n",
       "      <td>7.487892e+09</td>\n",
       "      <td>7.137860e+09</td>\n",
       "      <td>7.284860e+09</td>\n",
       "      <td>7.060074e+09</td>\n",
       "      <td>7.057108e+09</td>\n",
       "      <td>9.974177e+08</td>\n",
       "      <td>9.974122e+08</td>\n",
       "    </tr>\n",
       "  </tbody>\n",
       "</table>\n",
       "<p>5 rows × 367 columns</p>\n",
       "</div>"
      ],
      "text/plain": [
       "   Solar Gain Coefficient  Window to Wall Ratio             0             1  \\\n",
       "0                0.409048              0.867502  1.180684e+09  9.794487e+09   \n",
       "1                0.514402              0.294700  9.979946e+08  7.712055e+09   \n",
       "2                0.303002              0.289754  9.978203e+08  7.692210e+09   \n",
       "3                0.603238              0.797945  1.160853e+09  9.641778e+09   \n",
       "4                0.217869              0.567174  1.104317e+09  8.992140e+09   \n",
       "\n",
       "              2             3             4             5             6  \\\n",
       "0  8.973834e+09  8.547405e+09  7.804733e+09  7.343356e+09  9.976628e+08   \n",
       "1  6.851805e+09  6.590209e+09  6.192442e+09  5.991938e+09  9.976680e+08   \n",
       "2  6.833267e+09  6.571380e+09  6.177266e+09  5.979638e+09  9.976284e+08   \n",
       "3  8.785539e+09  8.351021e+09  7.645301e+09  7.208107e+09  9.976615e+08   \n",
       "4  7.925292e+09  7.522446e+09  7.043759e+09  6.729074e+09  9.976887e+08   \n",
       "\n",
       "              7  ...           355           356           357           358  \\\n",
       "0  9.977353e+08  ...  7.708081e+09  9.975005e+08  9.973982e+08  8.516846e+09   \n",
       "1  9.976184e+08  ...  6.049578e+09  1.000246e+09  9.974739e+08  6.527792e+09   \n",
       "2  9.976727e+08  ...  6.031276e+09  1.000302e+09  9.981655e+08  6.508936e+09   \n",
       "3  9.977325e+08  ...  7.529691e+09  9.974958e+08  9.974058e+08  8.305864e+09   \n",
       "4  9.976459e+08  ...  6.869358e+09  9.974963e+08  9.973632e+08  7.487892e+09   \n",
       "\n",
       "            359           360           361           362           363  \\\n",
       "0  8.089685e+09  8.366126e+09  7.949139e+09  7.803754e+09  9.974593e+08   \n",
       "1  6.306929e+09  6.373976e+09  6.255888e+09  6.347743e+09  9.975987e+08   \n",
       "2  6.290137e+09  6.354309e+09  6.238857e+09  6.331877e+09  9.973166e+08   \n",
       "3  7.850457e+09  8.145049e+09  7.763735e+09  7.577235e+09  9.974420e+08   \n",
       "4  7.137860e+09  7.284860e+09  7.060074e+09  7.057108e+09  9.974177e+08   \n",
       "\n",
       "            364  \n",
       "0  1.013826e+09  \n",
       "1  9.974088e+08  \n",
       "2  9.974008e+08  \n",
       "3  1.002615e+09  \n",
       "4  9.974122e+08  \n",
       "\n",
       "[5 rows x 367 columns]"
      ]
     },
     "execution_count": 13,
     "metadata": {},
     "output_type": "execute_result"
    }
   ],
   "source": [
    "newarray = []\n",
    "for i in range(len(outputs_)):\n",
    "    newarray.append(outputs_.iloc[i].values[0])\n",
    "outputs1= pd.DataFrame(newarray)\n",
    "outputs1.head()\n",
    "dataset=inputs_.join(outputs1)\n",
    "dataset.head()"
   ]
  },
  {
   "cell_type": "markdown",
   "metadata": {},
   "source": [
    "# Split dataset into test and training"
   ]
  },
  {
   "cell_type": "code",
   "execution_count": 14,
   "metadata": {},
   "outputs": [],
   "source": [
    "train_dataset = dataset.sample(frac=0.8,random_state=0)\n",
    "test_dataset = dataset.drop(train_dataset.index)\n",
    "\n",
    "training_labels = train_dataset[outputs1.columns]\n",
    "testing_labels = test_dataset[outputs1.columns]"
   ]
  },
  {
   "cell_type": "markdown",
   "metadata": {},
   "source": [
    "# Normalize the Data (Inputs of the model)"
   ]
  },
  {
   "cell_type": "markdown",
   "metadata": {},
   "source": [
    "We will normalize the inputs and the outputs"
   ]
  },
  {
   "cell_type": "code",
   "execution_count": 15,
   "metadata": {
    "scrolled": true
   },
   "outputs": [
    {
     "data": {
      "text/html": [
       "<div>\n",
       "<style scoped>\n",
       "    .dataframe tbody tr th:only-of-type {\n",
       "        vertical-align: middle;\n",
       "    }\n",
       "\n",
       "    .dataframe tbody tr th {\n",
       "        vertical-align: top;\n",
       "    }\n",
       "\n",
       "    .dataframe thead th {\n",
       "        text-align: right;\n",
       "    }\n",
       "</style>\n",
       "<table border=\"1\" class=\"dataframe\">\n",
       "  <thead>\n",
       "    <tr style=\"text-align: right;\">\n",
       "      <th></th>\n",
       "      <th>count</th>\n",
       "      <th>mean</th>\n",
       "      <th>std</th>\n",
       "      <th>min</th>\n",
       "      <th>25%</th>\n",
       "      <th>50%</th>\n",
       "      <th>75%</th>\n",
       "      <th>max</th>\n",
       "    </tr>\n",
       "  </thead>\n",
       "  <tbody>\n",
       "    <tr>\n",
       "      <th>Solar Gain Coefficient</th>\n",
       "      <td>80.0</td>\n",
       "      <td>0.487432</td>\n",
       "      <td>0.277093</td>\n",
       "      <td>0.023025</td>\n",
       "      <td>0.250423</td>\n",
       "      <td>0.496899</td>\n",
       "      <td>0.732913</td>\n",
       "      <td>0.980224</td>\n",
       "    </tr>\n",
       "    <tr>\n",
       "      <th>Window to Wall Ratio</th>\n",
       "      <td>80.0</td>\n",
       "      <td>0.502732</td>\n",
       "      <td>0.227329</td>\n",
       "      <td>0.101517</td>\n",
       "      <td>0.310225</td>\n",
       "      <td>0.488787</td>\n",
       "      <td>0.698923</td>\n",
       "      <td>0.899728</td>\n",
       "    </tr>\n",
       "  </tbody>\n",
       "</table>\n",
       "</div>"
      ],
      "text/plain": [
       "                        count      mean       std       min       25%  \\\n",
       "Solar Gain Coefficient   80.0  0.487432  0.277093  0.023025  0.250423   \n",
       "Window to Wall Ratio     80.0  0.502732  0.227329  0.101517  0.310225   \n",
       "\n",
       "                             50%       75%       max  \n",
       "Solar Gain Coefficient  0.496899  0.732913  0.980224  \n",
       "Window to Wall Ratio    0.488787  0.698923  0.899728  "
      ]
     },
     "execution_count": 15,
     "metadata": {},
     "output_type": "execute_result"
    }
   ],
   "source": [
    "train_stats = train_dataset[inputs_.columns]\n",
    "train_stats = train_stats.describe()\n",
    "train_stats = train_stats.transpose()\n",
    "train_stats"
   ]
  },
  {
   "cell_type": "code",
   "execution_count": 16,
   "metadata": {},
   "outputs": [
    {
     "name": "stdout",
     "output_type": "stream",
     "text": [
      "    Solar Gain Coefficient  Window to Wall Ratio\n",
      "9                 0.254017              0.755052\n",
      "12                0.360217              0.747770\n",
      "21                0.473182              0.454078\n",
      "25                0.704983              0.201176\n",
      "36                0.151424              0.170771\n",
      "37                0.897690              0.625471\n",
      "39                0.491204              0.485777\n",
      "44                0.858404              0.357274\n",
      "46                0.660753              0.194162\n",
      "47                0.615229              0.517644\n",
      "58                0.279372              0.122512\n",
      "64                0.012475              0.146916\n",
      "65                0.689488              0.524241\n",
      "67                0.955198              0.854760\n",
      "70                0.090509              0.681342\n",
      "81                0.241696              0.811715\n",
      "83                0.451104              0.684923\n",
      "87                0.949360              0.115583\n",
      "88                0.966814              0.783163\n",
      "96                0.925763              0.559061\n",
      "    Solar Gain Coefficient  Window to Wall Ratio\n",
      "9                -0.842371              1.109932\n",
      "12               -0.459105              1.077899\n",
      "21               -0.051426             -0.214026\n",
      "25                0.785120             -1.326519\n",
      "36               -1.212620             -1.460267\n",
      "37                1.480582              0.539916\n",
      "39                0.013615             -0.074584\n",
      "44                1.338802             -0.639856\n",
      "46                0.625497             -1.357372\n",
      "47                0.461208              0.065595\n",
      "58               -0.750869             -1.672552\n",
      "64               -1.714072             -1.565201\n",
      "65                0.729202              0.094615\n",
      "67                1.688123              1.548539\n",
      "70               -1.432455              0.785687\n",
      "81               -0.886838              1.359185\n",
      "83               -0.131105              0.801439\n",
      "87                1.667052             -1.703033\n",
      "88                1.730044              1.233590\n",
      "96                1.581896              0.247784\n",
      "    Solar Gain Coefficient  Window to Wall Ratio\n",
      "9                 0.254017              0.755052\n",
      "12                0.360217              0.747770\n",
      "21                0.473182              0.454078\n",
      "25                0.704983              0.201176\n",
      "36                0.151424              0.170771\n",
      "37                0.897690              0.625471\n",
      "39                0.491204              0.485777\n",
      "44                0.858404              0.357274\n",
      "46                0.660753              0.194162\n",
      "47                0.615229              0.517644\n",
      "58                0.279372              0.122512\n",
      "64                0.012475              0.146916\n",
      "65                0.689488              0.524241\n",
      "67                0.955198              0.854760\n",
      "70                0.090509              0.681342\n",
      "81                0.241696              0.811715\n",
      "83                0.451104              0.684923\n",
      "87                0.949360              0.115583\n",
      "88                0.966814              0.783163\n",
      "96                0.925763              0.559061\n"
     ]
    }
   ],
   "source": [
    "\n",
    "# use the stats we calculated to do the normalization on the input.\n",
    "def norm_input(x):\n",
    "    return (x - train_stats['mean']) / train_stats['std']\n",
    "\n",
    "def unnorm_input(x):\n",
    "    return (x* train_stats['std'])+ train_stats['mean']\n",
    "\n",
    "normed_train_data = norm_input(train_dataset[inputs_.columns])\n",
    "normed_test_data = norm_input(test_dataset[inputs_.columns])\n",
    "\n",
    "\n",
    "print(test_dataset[inputs_.columns])\n",
    "print(normed_test_data)\n",
    "print(unnorm_input(normed_test_data))"
   ]
  },
  {
   "cell_type": "markdown",
   "metadata": {},
   "source": [
    "# Normalize the labels (Outputs of the model)\n",
    "\n",
    "labels are the actual outputs that we are interested in. "
   ]
  },
  {
   "cell_type": "code",
   "execution_count": 17,
   "metadata": {},
   "outputs": [
    {
     "data": {
      "text/plain": [
       "(5024034735.494545, 2574679772.2126355)"
      ]
     },
     "execution_count": 17,
     "metadata": {},
     "output_type": "execute_result"
    }
   ],
   "source": [
    "train_mean = np.mean(np.mean(training_labels))\n",
    "train_std  = np.std(np.mean(testing_labels))\n",
    "train_mean, train_std"
   ]
  },
  {
   "cell_type": "code",
   "execution_count": 18,
   "metadata": {},
   "outputs": [
    {
     "data": {
      "text/html": [
       "<div>\n",
       "<style scoped>\n",
       "    .dataframe tbody tr th:only-of-type {\n",
       "        vertical-align: middle;\n",
       "    }\n",
       "\n",
       "    .dataframe tbody tr th {\n",
       "        vertical-align: top;\n",
       "    }\n",
       "\n",
       "    .dataframe thead th {\n",
       "        text-align: right;\n",
       "    }\n",
       "</style>\n",
       "<table border=\"1\" class=\"dataframe\">\n",
       "  <thead>\n",
       "    <tr style=\"text-align: right;\">\n",
       "      <th></th>\n",
       "      <th>0</th>\n",
       "      <th>1</th>\n",
       "      <th>2</th>\n",
       "      <th>3</th>\n",
       "      <th>4</th>\n",
       "      <th>5</th>\n",
       "      <th>6</th>\n",
       "      <th>7</th>\n",
       "      <th>8</th>\n",
       "      <th>9</th>\n",
       "      <th>...</th>\n",
       "      <th>355</th>\n",
       "      <th>356</th>\n",
       "      <th>357</th>\n",
       "      <th>358</th>\n",
       "      <th>359</th>\n",
       "      <th>360</th>\n",
       "      <th>361</th>\n",
       "      <th>362</th>\n",
       "      <th>363</th>\n",
       "      <th>364</th>\n",
       "    </tr>\n",
       "  </thead>\n",
       "  <tbody>\n",
       "    <tr>\n",
       "      <th>26</th>\n",
       "      <td>-1.509163</td>\n",
       "      <td>1.746898</td>\n",
       "      <td>1.390555</td>\n",
       "      <td>1.252422</td>\n",
       "      <td>0.986613</td>\n",
       "      <td>0.823997</td>\n",
       "      <td>-1.563834</td>\n",
       "      <td>-1.563806</td>\n",
       "      <td>1.370453</td>\n",
       "      <td>1.006334</td>\n",
       "      <td>...</td>\n",
       "      <td>0.941145</td>\n",
       "      <td>-1.563898</td>\n",
       "      <td>-1.563935</td>\n",
       "      <td>1.236702</td>\n",
       "      <td>1.065521</td>\n",
       "      <td>1.173619</td>\n",
       "      <td>1.011012</td>\n",
       "      <td>0.962452</td>\n",
       "      <td>-1.563919</td>\n",
       "      <td>-1.562999</td>\n",
       "    </tr>\n",
       "    <tr>\n",
       "      <th>86</th>\n",
       "      <td>-1.563845</td>\n",
       "      <td>0.964321</td>\n",
       "      <td>0.653331</td>\n",
       "      <td>0.551382</td>\n",
       "      <td>0.377804</td>\n",
       "      <td>0.344291</td>\n",
       "      <td>-1.563845</td>\n",
       "      <td>-1.563833</td>\n",
       "      <td>0.595382</td>\n",
       "      <td>0.376755</td>\n",
       "      <td>...</td>\n",
       "      <td>0.346831</td>\n",
       "      <td>-1.563902</td>\n",
       "      <td>-1.563920</td>\n",
       "      <td>0.493613</td>\n",
       "      <td>0.429682</td>\n",
       "      <td>0.442845</td>\n",
       "      <td>0.427357</td>\n",
       "      <td>0.439361</td>\n",
       "      <td>-1.563978</td>\n",
       "      <td>-1.563936</td>\n",
       "    </tr>\n",
       "    <tr>\n",
       "      <th>2</th>\n",
       "      <td>-1.563773</td>\n",
       "      <td>1.036313</td>\n",
       "      <td>0.702702</td>\n",
       "      <td>0.600986</td>\n",
       "      <td>0.447912</td>\n",
       "      <td>0.371154</td>\n",
       "      <td>-1.563847</td>\n",
       "      <td>-1.563830</td>\n",
       "      <td>0.648975</td>\n",
       "      <td>0.447658</td>\n",
       "      <td>...</td>\n",
       "      <td>0.391210</td>\n",
       "      <td>-1.562809</td>\n",
       "      <td>-1.563639</td>\n",
       "      <td>0.576732</td>\n",
       "      <td>0.491751</td>\n",
       "      <td>0.516676</td>\n",
       "      <td>0.471834</td>\n",
       "      <td>0.507963</td>\n",
       "      <td>-1.563969</td>\n",
       "      <td>-1.563936</td>\n",
       "    </tr>\n",
       "    <tr>\n",
       "      <th>55</th>\n",
       "      <td>-1.518276</td>\n",
       "      <td>1.628458</td>\n",
       "      <td>1.224673</td>\n",
       "      <td>1.070226</td>\n",
       "      <td>0.868754</td>\n",
       "      <td>0.720718</td>\n",
       "      <td>-1.563836</td>\n",
       "      <td>-1.563835</td>\n",
       "      <td>1.179232</td>\n",
       "      <td>0.846891</td>\n",
       "      <td>...</td>\n",
       "      <td>0.809488</td>\n",
       "      <td>-1.563932</td>\n",
       "      <td>-1.563904</td>\n",
       "      <td>1.058753</td>\n",
       "      <td>0.909489</td>\n",
       "      <td>0.985161</td>\n",
       "      <td>0.879502</td>\n",
       "      <td>0.868476</td>\n",
       "      <td>-1.563917</td>\n",
       "      <td>-1.563930</td>\n",
       "    </tr>\n",
       "    <tr>\n",
       "      <th>75</th>\n",
       "      <td>-1.525609</td>\n",
       "      <td>1.475056</td>\n",
       "      <td>1.056632</td>\n",
       "      <td>0.899410</td>\n",
       "      <td>0.724156</td>\n",
       "      <td>0.629121</td>\n",
       "      <td>-1.563839</td>\n",
       "      <td>-1.563841</td>\n",
       "      <td>0.989428</td>\n",
       "      <td>0.705057</td>\n",
       "      <td>...</td>\n",
       "      <td>0.655046</td>\n",
       "      <td>-1.563908</td>\n",
       "      <td>-1.563924</td>\n",
       "      <td>0.884078</td>\n",
       "      <td>0.758546</td>\n",
       "      <td>0.800575</td>\n",
       "      <td>0.697519</td>\n",
       "      <td>0.742067</td>\n",
       "      <td>-1.563953</td>\n",
       "      <td>-1.563932</td>\n",
       "    </tr>\n",
       "  </tbody>\n",
       "</table>\n",
       "<p>5 rows × 365 columns</p>\n",
       "</div>"
      ],
      "text/plain": [
       "         0         1         2         3         4         5         6    \\\n",
       "26 -1.509163  1.746898  1.390555  1.252422  0.986613  0.823997 -1.563834   \n",
       "86 -1.563845  0.964321  0.653331  0.551382  0.377804  0.344291 -1.563845   \n",
       "2  -1.563773  1.036313  0.702702  0.600986  0.447912  0.371154 -1.563847   \n",
       "55 -1.518276  1.628458  1.224673  1.070226  0.868754  0.720718 -1.563836   \n",
       "75 -1.525609  1.475056  1.056632  0.899410  0.724156  0.629121 -1.563839   \n",
       "\n",
       "         7         8         9    ...       355       356       357       358  \\\n",
       "26 -1.563806  1.370453  1.006334  ...  0.941145 -1.563898 -1.563935  1.236702   \n",
       "86 -1.563833  0.595382  0.376755  ...  0.346831 -1.563902 -1.563920  0.493613   \n",
       "2  -1.563830  0.648975  0.447658  ...  0.391210 -1.562809 -1.563639  0.576732   \n",
       "55 -1.563835  1.179232  0.846891  ...  0.809488 -1.563932 -1.563904  1.058753   \n",
       "75 -1.563841  0.989428  0.705057  ...  0.655046 -1.563908 -1.563924  0.884078   \n",
       "\n",
       "         359       360       361       362       363       364  \n",
       "26  1.065521  1.173619  1.011012  0.962452 -1.563919 -1.562999  \n",
       "86  0.429682  0.442845  0.427357  0.439361 -1.563978 -1.563936  \n",
       "2   0.491751  0.516676  0.471834  0.507963 -1.563969 -1.563936  \n",
       "55  0.909489  0.985161  0.879502  0.868476 -1.563917 -1.563930  \n",
       "75  0.758546  0.800575  0.697519  0.742067 -1.563953 -1.563932  \n",
       "\n",
       "[5 rows x 365 columns]"
      ]
     },
     "execution_count": 18,
     "metadata": {},
     "output_type": "execute_result"
    }
   ],
   "source": [
    "def norm_output(x):\n",
    "    return (x - train_mean) /train_std\n",
    "\n",
    "def unnorm_output(x):\n",
    "    return (x*train_std)+ train_mean\n",
    "\n",
    "train_labels = norm_output(training_labels)\n",
    "test_labels  = norm_output(testing_labels)\n",
    "train_labels.head()"
   ]
  },
  {
   "cell_type": "markdown",
   "metadata": {},
   "source": [
    "# (5) Build model"
   ]
  },
  {
   "cell_type": "code",
   "execution_count": 19,
   "metadata": {},
   "outputs": [],
   "source": [
    "def build_model():\n",
    "    model = keras.Sequential([\n",
    "       layers.Dense(4, input_shape=[len(train_dataset[inputs_.columns].keys())]),\n",
    "       layers.Dense(16),\n",
    "       layers.Dense(365),\n",
    "       layers.Dense(365)\n",
    "    ])\n",
    "\n",
    "    optimizer = tf.keras.optimizers.RMSprop(0.00005)\n",
    "\n",
    "    model.compile(loss='mse',\n",
    "                optimizer=optimizer,\n",
    "                metrics=['mae', 'mse'])\n",
    "    return model"
   ]
  },
  {
   "cell_type": "code",
   "execution_count": 20,
   "metadata": {},
   "outputs": [],
   "source": [
    "model = build_model()"
   ]
  },
  {
   "cell_type": "code",
   "execution_count": 21,
   "metadata": {},
   "outputs": [
    {
     "name": "stdout",
     "output_type": "stream",
     "text": [
      "Model: \"sequential\"\n",
      "_________________________________________________________________\n",
      "Layer (type)                 Output Shape              Param #   \n",
      "=================================================================\n",
      "dense (Dense)                (None, 4)                 12        \n",
      "_________________________________________________________________\n",
      "dense_1 (Dense)              (None, 16)                80        \n",
      "_________________________________________________________________\n",
      "dense_2 (Dense)              (None, 365)               6205      \n",
      "_________________________________________________________________\n",
      "dense_3 (Dense)              (None, 365)               133590    \n",
      "=================================================================\n",
      "Total params: 139,887\n",
      "Trainable params: 139,887\n",
      "Non-trainable params: 0\n",
      "_________________________________________________________________\n"
     ]
    }
   ],
   "source": [
    "model.summary()"
   ]
  },
  {
   "cell_type": "markdown",
   "metadata": {},
   "source": [
    "# Train surrogate model"
   ]
  },
  {
   "cell_type": "code",
   "execution_count": 22,
   "metadata": {},
   "outputs": [
    {
     "name": "stdout",
     "output_type": "stream",
     "text": [
      "\n",
      "Epoch: 0, loss:1.0684,  mae:0.8998,  mse:1.0684,  val_loss:1.0975,  val_mae:0.9052,  val_mse:1.0975,  \n",
      "....................................................................................................\n",
      "Epoch: 100, loss:0.9498,  mae:0.8610,  mse:0.9498,  val_loss:0.9679,  val_mae:0.8730,  val_mse:0.9679,  \n",
      "....................................................................................................\n",
      "Epoch: 200, loss:0.7942,  mae:0.7696,  mse:0.7942,  val_loss:0.8067,  val_mae:0.7790,  val_mse:0.8067,  \n",
      "....................................................................................................\n",
      "Epoch: 300, loss:0.5514,  mae:0.5975,  mse:0.5514,  val_loss:0.5559,  val_mae:0.6021,  val_mse:0.5559,  \n",
      "....................................................................................................\n",
      "Epoch: 400, loss:0.2859,  mae:0.3564,  mse:0.2859,  val_loss:0.2842,  val_mae:0.3552,  val_mse:0.2842,  \n",
      "....................................................................................................\n",
      "Epoch: 500, loss:0.0853,  mae:0.1655,  mse:0.0853,  val_loss:0.0827,  val_mae:0.1625,  val_mse:0.0827,  \n",
      "....................................................................................................\n",
      "Epoch: 600, loss:0.0014,  mae:0.0220,  mse:0.0014,  val_loss:0.0014,  val_mae:0.0224,  val_mse:0.0014,  \n",
      "....................................................................................................\n",
      "Epoch: 700, loss:0.0002,  mae:0.0095,  mse:0.0002,  val_loss:0.0002,  val_mae:0.0116,  val_mse:0.0002,  \n",
      "....................................................................................................\n",
      "Epoch: 800, loss:0.0002,  mae:0.0086,  mse:0.0002,  val_loss:0.0002,  val_mae:0.0097,  val_mse:0.0002,  \n",
      "....................................................................................................\n",
      "Epoch: 900, loss:0.0002,  mae:0.0098,  mse:0.0002,  val_loss:0.0002,  val_mae:0.0103,  val_mse:0.0002,  \n",
      "....................................................................................................\n",
      "Epoch: 1000, loss:0.0002,  mae:0.0089,  mse:0.0002,  val_loss:0.0002,  val_mae:0.0109,  val_mse:0.0002,  \n",
      "....................................................................................................\n",
      "Epoch: 1100, loss:0.0002,  mae:0.0100,  mse:0.0002,  val_loss:0.0002,  val_mae:0.0110,  val_mse:0.0002,  \n",
      "....................................................................................................\n",
      "Epoch: 1200, loss:0.0002,  mae:0.0095,  mse:0.0002,  val_loss:0.0002,  val_mae:0.0111,  val_mse:0.0002,  \n",
      "....................................................................................................\n",
      "Epoch: 1300, loss:0.0002,  mae:0.0101,  mse:0.0002,  val_loss:0.0002,  val_mae:0.0111,  val_mse:0.0002,  \n",
      "....................................................................................................\n",
      "Epoch: 1400, loss:0.0002,  mae:0.0088,  mse:0.0002,  val_loss:0.0002,  val_mae:0.0101,  val_mse:0.0002,  \n",
      "....................................................................................................\n",
      "Epoch: 1500, loss:0.0002,  mae:0.0096,  mse:0.0002,  val_loss:0.0002,  val_mae:0.0103,  val_mse:0.0002,  \n",
      "....................................................................................................\n",
      "Epoch: 1600, loss:0.0002,  mae:0.0097,  mse:0.0002,  val_loss:0.0002,  val_mae:0.0109,  val_mse:0.0002,  \n",
      "....................................................................................................\n",
      "Epoch: 1700, loss:0.0002,  mae:0.0087,  mse:0.0002,  val_loss:0.0002,  val_mae:0.0102,  val_mse:0.0002,  \n",
      "....................................................................................................\n",
      "Epoch: 1800, loss:0.0002,  mae:0.0095,  mse:0.0002,  val_loss:0.0003,  val_mae:0.0115,  val_mse:0.0003,  \n",
      "....................................................................................................\n",
      "Epoch: 1900, loss:0.0002,  mae:0.0089,  mse:0.0002,  val_loss:0.0002,  val_mae:0.0101,  val_mse:0.0002,  \n",
      "...................................................................................................."
     ]
    }
   ],
   "source": [
    "EPOCHS = 2000\n",
    "\n",
    "history = model.fit(\n",
    "  normed_train_data, train_labels,\n",
    "  epochs=EPOCHS, validation_split = 0.2, verbose=0,\n",
    "  callbacks=[tfdocs.modeling.EpochDots()])"
   ]
  },
  {
   "cell_type": "code",
   "execution_count": 23,
   "metadata": {},
   "outputs": [],
   "source": [
    "plotter = tfdocs.plots.HistoryPlotter(smoothing_std=2)"
   ]
  },
  {
   "cell_type": "code",
   "execution_count": 24,
   "metadata": {},
   "outputs": [
    {
     "data": {
      "text/plain": [
       "Text(0, 0.5, 'loss')"
      ]
     },
     "execution_count": 24,
     "metadata": {},
     "output_type": "execute_result"
    },
    {
     "data": {
      "image/png": "[encoded data removed]",
      "text/plain": [
       "<Figure size 432x288 with 1 Axes>"
      ]
     },
     "metadata": {
      "needs_background": "light"
     },
     "output_type": "display_data"
    }
   ],
   "source": [
    "plotter.plot({'Basic': history}, metric = \"loss\")\n",
    "plt.ylabel('loss')"
   ]
  },
  {
   "cell_type": "code",
   "execution_count": null,
   "metadata": {},
   "outputs": [],
   "source": []
  },
  {
   "cell_type": "code",
   "execution_count": 49,
   "metadata": {},
   "outputs": [
    {
     "data": {
      "text/plain": [
       "(0, 10000000000)"
      ]
     },
     "execution_count": 49,
     "metadata": {},
     "output_type": "execute_result"
    },
    {
     "data": {
      "image/png": "[encoded data removed]",
      "text/plain": [
       "<Figure size 1152x864 with 4 Axes>"
      ]
     },
     "metadata": {
      "needs_background": "light"
     },
     "output_type": "display_data"
    }
   ],
   "source": [
    "test_num=4\n",
    "values = [normed_test_data.loc[normed_test_data.index[test_num],:].tolist()]\n",
    "test_predictions = model.predict(values)\n",
    "predicted_timeseries=unnorm_output(test_predictions[0])\n",
    "test_timeseries = unnorm_output(test_labels.loc[test_labels.index[test_num]])\n",
    "\n",
    "\n",
    "fig, ((ax1, ax2), (ax3, ax4)) = plt.subplots(2, 2,figsize=(16,12))\n",
    "fig.subplots_adjust(hspace=0.25)\n",
    "ax1.set_title('Values: {}'.format(unnorm_input(values[0])))\n",
    "\n",
    "ax1.plot(predicted_timeseries,label='predicted')\n",
    "ax1.plot(test_timeseries,label='test')\n",
    "ax1.legend()\n",
    "ax1.set_xlim([0,14])\n",
    "ax1.set_ylim([0,10**10])\n",
    "ax2.plot(predicted_timeseries)\n",
    "ax2.plot(test_timeseries)\n",
    "ax2.set_xlim([100,114])\n",
    "\n",
    "test_num=14\n",
    "values = [normed_test_data.loc[normed_test_data.index[test_num],:].tolist()]\n",
    "test_predictions = model.predict(values)\n",
    "predicted_timeseries=unnorm_output(test_predictions[0])\n",
    "test_timeseries = unnorm_output(test_labels.loc[test_labels.index[test_num]])\n",
    "\n",
    "ax3.set_title('Values: {}'.format(unnorm_input(values[0])))\n",
    "ax3.plot(predicted_timeseries,label='predicted')\n",
    "ax3.plot(test_timeseries,label='test')\n",
    "ax3.legend()\n",
    "ax3.set_xlim([0,14])\n",
    "ax3.set_ylim([0,10**10])\n",
    "ax4.plot(predicted_timeseries)\n",
    "ax4.plot(test_timeseries)\n",
    "ax4.set_xlim([100,114])\n",
    "ax4.set_ylim([0,10**10])"
   ]
  },
  {
   "cell_type": "code",
   "execution_count": 26,
   "metadata": {},
   "outputs": [
    {
     "data": {
      "text/plain": [
       "0.9997646208835901"
      ]
     },
     "execution_count": 26,
     "metadata": {},
     "output_type": "execute_result"
    },
    {
     "data": {
      "image/png": "[encoded data removed]",
      "text/plain": [
       "<Figure size 432x288 with 1 Axes>"
      ]
     },
     "metadata": {
      "needs_background": "light"
     },
     "output_type": "display_data"
    }
   ],
   "source": [
    "# See -> https://en.wikipedia.org/wiki/Coefficient_of_determination\n",
    "# R squared score:\n",
    "r_sqared_scores = []\n",
    "sum_res_s = []\n",
    "sum_tot_s = []\n",
    "for i in range(len(normed_test_data)):\n",
    "    x_i = normed_test_data.loc[normed_test_data.index[i]].tolist()\n",
    "    f_i = model.predict([x_i])[0]\n",
    "    y_i = test_labels.loc[test_labels.index[i]].values\n",
    "    y_m = np.mean(y_i)/y_i.size\n",
    "    ss_res=sum((f_i-y_i)**2)\n",
    "    ss_tot=sum((y_i-y_m)**2)\n",
    "    sum_res_s.append(sum(f_i))\n",
    "    sum_tot_s.append(sum(y_i))\n",
    "    r_sqared_scores.append(1-ss_res/ss_tot)\n",
    "\n",
    "plt.scatter(sum_res_s,sum_tot_s)\n",
    "np.mean(r_sqared_scores)"
   ]
  },
  {
   "cell_type": "markdown",
   "metadata": {},
   "source": [
    "# (7) Optimize the surrogate model."
   ]
  },
  {
   "cell_type": "code",
   "execution_count": 27,
   "metadata": {},
   "outputs": [],
   "source": [
    "def building_surrogate_model(values): \n",
    "    # First normalize the input values\n",
    "    values = norm_input(values)\n",
    "    # predict the time series\n",
    "    test_predictions = unnorm_output(model.predict([values.to_list()])[0])\n",
    "    # calculate the total electricity use\n",
    "    total_electricity_use = sum(test_predictions)\n",
    "    # calculate the std electricity use\n",
    "    std_electricity_use = np.std(test_predictions)\n",
    "    # output the objectives using the besos format:\n",
    "    # ((objectives),(constraints))\n",
    "    return ((total_electricity_use, std_electricity_use), ())"
   ]
  },
  {
   "cell_type": "markdown",
   "metadata": {},
   "source": [
    "# lets do a quick check "
   ]
  },
  {
   "cell_type": "code",
   "execution_count": 28,
   "metadata": {},
   "outputs": [
    {
     "data": {
      "text/plain": [
       "((1831596733184.0, 2580589600.0), ())"
      ]
     },
     "execution_count": 28,
     "metadata": {},
     "output_type": "execute_result"
    }
   ],
   "source": [
    "building_surrogate_model((0.5,0.5))"
   ]
  },
  {
   "cell_type": "markdown",
   "metadata": {},
   "source": [
    "# (8) Set up the optimization"
   ]
  },
  {
   "cell_type": "code",
   "execution_count": 29,
   "metadata": {},
   "outputs": [],
   "source": [
    "from besos.evaluator import EvaluatorSR,EvaluatorGeneric\n",
    "from besos.parameters import RangeParameter, wwr, FieldSelector, Parameter\n",
    "from besos.objectives import MeterReader, VariableReader, clear_outputs\n",
    "from besos.problem import EPProblem, Problem\n",
    "from besos.optimizer import NSGAII\n",
    "\n",
    "# Setup the parameters\n",
    "SRparameters = [Parameter(value_descriptor=RangeParameter(0.01,0.99),name='Solar Gain Coefficient'),\n",
    "                Parameter(value_descriptor=RangeParameter(0.1,0.9),name='Window to Wall Ratio')]\n",
    "\n",
    "SRobjectives = ['total_electricity', 'std_electricity']\n",
    "BuildingProblem = Problem(inputs=SRparameters,outputs=SRobjectives,minimize_outputs=[False,True])"
   ]
  },
  {
   "cell_type": "code",
   "execution_count": 30,
   "metadata": {},
   "outputs": [],
   "source": [
    "BuildingEvaluator = EvaluatorGeneric(building_surrogate_model, BuildingProblem)"
   ]
  },
  {
   "cell_type": "code",
   "execution_count": 31,
   "metadata": {},
   "outputs": [
    {
     "data": {
      "text/html": [
       "<div>\n",
       "<style scoped>\n",
       "    .dataframe tbody tr th:only-of-type {\n",
       "        vertical-align: middle;\n",
       "    }\n",
       "\n",
       "    .dataframe tbody tr th {\n",
       "        vertical-align: top;\n",
       "    }\n",
       "\n",
       "    .dataframe thead th {\n",
       "        text-align: right;\n",
       "    }\n",
       "</style>\n",
       "<table border=\"1\" class=\"dataframe\">\n",
       "  <thead>\n",
       "    <tr style=\"text-align: right;\">\n",
       "      <th></th>\n",
       "      <th>Solar Gain Coefficient</th>\n",
       "      <th>Window to Wall Ratio</th>\n",
       "      <th>total_electricity</th>\n",
       "      <th>std_electricity</th>\n",
       "      <th>violation</th>\n",
       "      <th>pareto-optimal</th>\n",
       "    </tr>\n",
       "  </thead>\n",
       "  <tbody>\n",
       "    <tr>\n",
       "      <th>0</th>\n",
       "      <td>0.989616</td>\n",
       "      <td>0.100000</td>\n",
       "      <td>1.604540e+12</td>\n",
       "      <td>2.199744e+09</td>\n",
       "      <td>0</td>\n",
       "      <td>True</td>\n",
       "    </tr>\n",
       "    <tr>\n",
       "      <th>1</th>\n",
       "      <td>0.215732</td>\n",
       "      <td>0.900000</td>\n",
       "      <td>2.058166e+12</td>\n",
       "      <td>2.986742e+09</td>\n",
       "      <td>0</td>\n",
       "      <td>True</td>\n",
       "    </tr>\n",
       "    <tr>\n",
       "      <th>2</th>\n",
       "      <td>0.219313</td>\n",
       "      <td>0.328711</td>\n",
       "      <td>1.735530e+12</td>\n",
       "      <td>2.419476e+09</td>\n",
       "      <td>0</td>\n",
       "      <td>True</td>\n",
       "    </tr>\n",
       "    <tr>\n",
       "      <th>3</th>\n",
       "      <td>0.848721</td>\n",
       "      <td>0.241110</td>\n",
       "      <td>1.684564e+12</td>\n",
       "      <td>2.329649e+09</td>\n",
       "      <td>0</td>\n",
       "      <td>True</td>\n",
       "    </tr>\n",
       "    <tr>\n",
       "      <th>4</th>\n",
       "      <td>0.811006</td>\n",
       "      <td>0.494325</td>\n",
       "      <td>1.827654e+12</td>\n",
       "      <td>2.571193e+09</td>\n",
       "      <td>0</td>\n",
       "      <td>True</td>\n",
       "    </tr>\n",
       "    <tr>\n",
       "      <th>5</th>\n",
       "      <td>0.986614</td>\n",
       "      <td>0.636448</td>\n",
       "      <td>1.907499e+12</td>\n",
       "      <td>2.709456e+09</td>\n",
       "      <td>0</td>\n",
       "      <td>True</td>\n",
       "    </tr>\n",
       "    <tr>\n",
       "      <th>6</th>\n",
       "      <td>0.803755</td>\n",
       "      <td>0.464248</td>\n",
       "      <td>1.810685e+12</td>\n",
       "      <td>2.541998e+09</td>\n",
       "      <td>0</td>\n",
       "      <td>True</td>\n",
       "    </tr>\n",
       "    <tr>\n",
       "      <th>7</th>\n",
       "      <td>0.989009</td>\n",
       "      <td>0.706300</td>\n",
       "      <td>1.946941e+12</td>\n",
       "      <td>2.779575e+09</td>\n",
       "      <td>0</td>\n",
       "      <td>True</td>\n",
       "    </tr>\n",
       "    <tr>\n",
       "      <th>8</th>\n",
       "      <td>0.958365</td>\n",
       "      <td>0.805464</td>\n",
       "      <td>2.003015e+12</td>\n",
       "      <td>2.880667e+09</td>\n",
       "      <td>0</td>\n",
       "      <td>True</td>\n",
       "    </tr>\n",
       "    <tr>\n",
       "      <th>9</th>\n",
       "      <td>0.989009</td>\n",
       "      <td>0.153245</td>\n",
       "      <td>1.634611e+12</td>\n",
       "      <td>2.247501e+09</td>\n",
       "      <td>0</td>\n",
       "      <td>True</td>\n",
       "    </tr>\n",
       "  </tbody>\n",
       "</table>\n",
       "</div>"
      ],
      "text/plain": [
       "   Solar Gain Coefficient  Window to Wall Ratio  total_electricity  \\\n",
       "0                0.989616              0.100000       1.604540e+12   \n",
       "1                0.215732              0.900000       2.058166e+12   \n",
       "2                0.219313              0.328711       1.735530e+12   \n",
       "3                0.848721              0.241110       1.684564e+12   \n",
       "4                0.811006              0.494325       1.827654e+12   \n",
       "5                0.986614              0.636448       1.907499e+12   \n",
       "6                0.803755              0.464248       1.810685e+12   \n",
       "7                0.989009              0.706300       1.946941e+12   \n",
       "8                0.958365              0.805464       2.003015e+12   \n",
       "9                0.989009              0.153245       1.634611e+12   \n",
       "\n",
       "   std_electricity  violation  pareto-optimal  \n",
       "0     2.199744e+09          0            True  \n",
       "1     2.986742e+09          0            True  \n",
       "2     2.419476e+09          0            True  \n",
       "3     2.329649e+09          0            True  \n",
       "4     2.571193e+09          0            True  \n",
       "5     2.709456e+09          0            True  \n",
       "6     2.541998e+09          0            True  \n",
       "7     2.779575e+09          0            True  \n",
       "8     2.880667e+09          0            True  \n",
       "9     2.247501e+09          0            True  "
      ]
     },
     "execution_count": 31,
     "metadata": {},
     "output_type": "execute_result"
    }
   ],
   "source": [
    "GeneticAlgoResults = NSGAII(BuildingEvaluator, evaluations=1000, population_size=10)\n",
    "GeneticAlgoResults"
   ]
  },
  {
   "cell_type": "code",
   "execution_count": 32,
   "metadata": {},
   "outputs": [
    {
     "data": {
      "text/plain": [
       "<matplotlib.collections.PathCollection at 0x7fdd7005a2d0>"
      ]
     },
     "execution_count": 32,
     "metadata": {},
     "output_type": "execute_result"
    },
    {
     "data": {
      "image/png": "[encoded data removed]",
      "text/plain": [
       "<Figure size 432x288 with 1 Axes>"
      ]
     },
     "metadata": {
      "needs_background": "light"
     },
     "output_type": "display_data"
    }
   ],
   "source": [
    "plt.scatter(GeneticAlgoResults[\"total_electricity\"],GeneticAlgoResults[\"std_electricity\"])"
   ]
  },
  {
   "cell_type": "code",
   "execution_count": 33,
   "metadata": {},
   "outputs": [],
   "source": [
    "from besos.evaluator import EvaluatorSR,EvaluatorGeneric\n",
    "from besos.parameters import RangeParameter, wwr, FieldSelector, Parameter\n",
    "from besos.objectives import MeterReader, VariableReader, clear_outputs\n",
    "from besos.problem import EPProblem, Problem\n",
    "from besos.optimizer import NSGAII"
   ]
  },
  {
   "cell_type": "code",
   "execution_count": 34,
   "metadata": {},
   "outputs": [
    {
     "data": {
      "text/html": [
       "<div>\n",
       "<style scoped>\n",
       "    .dataframe tbody tr th:only-of-type {\n",
       "        vertical-align: middle;\n",
       "    }\n",
       "\n",
       "    .dataframe tbody tr th {\n",
       "        vertical-align: top;\n",
       "    }\n",
       "\n",
       "    .dataframe thead th {\n",
       "        text-align: right;\n",
       "    }\n",
       "</style>\n",
       "<table border=\"1\" class=\"dataframe\">\n",
       "  <thead>\n",
       "    <tr style=\"text-align: right;\">\n",
       "      <th></th>\n",
       "      <th>Solar Gain Coefficient</th>\n",
       "      <th>Window to Wall Ratio</th>\n",
       "      <th>winter_use</th>\n",
       "      <th>summer_use</th>\n",
       "      <th>violation</th>\n",
       "      <th>pareto-optimal</th>\n",
       "    </tr>\n",
       "  </thead>\n",
       "  <tbody>\n",
       "    <tr>\n",
       "      <th>0</th>\n",
       "      <td>0.224167</td>\n",
       "      <td>0.899732</td>\n",
       "      <td>1.062440e+12</td>\n",
       "      <td>9.945686e+11</td>\n",
       "      <td>0</td>\n",
       "      <td>True</td>\n",
       "    </tr>\n",
       "    <tr>\n",
       "      <th>1</th>\n",
       "      <td>0.370712</td>\n",
       "      <td>0.100001</td>\n",
       "      <td>7.731342e+11</td>\n",
       "      <td>8.318670e+11</td>\n",
       "      <td>0</td>\n",
       "      <td>True</td>\n",
       "    </tr>\n",
       "    <tr>\n",
       "      <th>2</th>\n",
       "      <td>0.305090</td>\n",
       "      <td>0.420227</td>\n",
       "      <td>8.889782e+11</td>\n",
       "      <td>8.970309e+11</td>\n",
       "      <td>0</td>\n",
       "      <td>True</td>\n",
       "    </tr>\n",
       "    <tr>\n",
       "      <th>3</th>\n",
       "      <td>0.336050</td>\n",
       "      <td>0.333129</td>\n",
       "      <td>8.574677e+11</td>\n",
       "      <td>8.792777e+11</td>\n",
       "      <td>0</td>\n",
       "      <td>True</td>\n",
       "    </tr>\n",
       "    <tr>\n",
       "      <th>4</th>\n",
       "      <td>0.243098</td>\n",
       "      <td>0.759966</td>\n",
       "      <td>1.011880e+12</td>\n",
       "      <td>9.661488e+11</td>\n",
       "      <td>0</td>\n",
       "      <td>True</td>\n",
       "    </tr>\n",
       "    <tr>\n",
       "      <th>5</th>\n",
       "      <td>0.430595</td>\n",
       "      <td>0.275791</td>\n",
       "      <td>8.367119e+11</td>\n",
       "      <td>8.674254e+11</td>\n",
       "      <td>0</td>\n",
       "      <td>True</td>\n",
       "    </tr>\n",
       "    <tr>\n",
       "      <th>6</th>\n",
       "      <td>0.300919</td>\n",
       "      <td>0.796904</td>\n",
       "      <td>1.025232e+12</td>\n",
       "      <td>9.735195e+11</td>\n",
       "      <td>0</td>\n",
       "      <td>True</td>\n",
       "    </tr>\n",
       "    <tr>\n",
       "      <th>7</th>\n",
       "      <td>0.142886</td>\n",
       "      <td>0.570871</td>\n",
       "      <td>9.434965e+11</td>\n",
       "      <td>9.279788e+11</td>\n",
       "      <td>0</td>\n",
       "      <td>True</td>\n",
       "    </tr>\n",
       "    <tr>\n",
       "      <th>8</th>\n",
       "      <td>0.162824</td>\n",
       "      <td>0.666111</td>\n",
       "      <td>9.779438e+11</td>\n",
       "      <td>9.472716e+11</td>\n",
       "      <td>0</td>\n",
       "      <td>True</td>\n",
       "    </tr>\n",
       "    <tr>\n",
       "      <th>9</th>\n",
       "      <td>0.275100</td>\n",
       "      <td>0.627996</td>\n",
       "      <td>9.641383e+11</td>\n",
       "      <td>9.392826e+11</td>\n",
       "      <td>0</td>\n",
       "      <td>True</td>\n",
       "    </tr>\n",
       "    <tr>\n",
       "      <th>10</th>\n",
       "      <td>0.292250</td>\n",
       "      <td>0.251255</td>\n",
       "      <td>8.278593e+11</td>\n",
       "      <td>8.627521e+11</td>\n",
       "      <td>0</td>\n",
       "      <td>True</td>\n",
       "    </tr>\n",
       "    <tr>\n",
       "      <th>11</th>\n",
       "      <td>0.152799</td>\n",
       "      <td>0.710028</td>\n",
       "      <td>9.938313e+11</td>\n",
       "      <td>9.562108e+11</td>\n",
       "      <td>0</td>\n",
       "      <td>True</td>\n",
       "    </tr>\n",
       "    <tr>\n",
       "      <th>12</th>\n",
       "      <td>0.363981</td>\n",
       "      <td>0.329904</td>\n",
       "      <td>8.562966e+11</td>\n",
       "      <td>8.785607e+11</td>\n",
       "      <td>0</td>\n",
       "      <td>True</td>\n",
       "    </tr>\n",
       "    <tr>\n",
       "      <th>13</th>\n",
       "      <td>0.069248</td>\n",
       "      <td>0.513580</td>\n",
       "      <td>9.227849e+11</td>\n",
       "      <td>9.165107e+11</td>\n",
       "      <td>0</td>\n",
       "      <td>True</td>\n",
       "    </tr>\n",
       "    <tr>\n",
       "      <th>14</th>\n",
       "      <td>0.055944</td>\n",
       "      <td>0.825502</td>\n",
       "      <td>1.035617e+12</td>\n",
       "      <td>9.798721e+11</td>\n",
       "      <td>0</td>\n",
       "      <td>True</td>\n",
       "    </tr>\n",
       "    <tr>\n",
       "      <th>15</th>\n",
       "      <td>0.048230</td>\n",
       "      <td>0.579535</td>\n",
       "      <td>9.466461e+11</td>\n",
       "      <td>9.299490e+11</td>\n",
       "      <td>0</td>\n",
       "      <td>True</td>\n",
       "    </tr>\n",
       "    <tr>\n",
       "      <th>16</th>\n",
       "      <td>0.204247</td>\n",
       "      <td>0.204820</td>\n",
       "      <td>8.110773e+11</td>\n",
       "      <td>8.535203e+11</td>\n",
       "      <td>0</td>\n",
       "      <td>True</td>\n",
       "    </tr>\n",
       "    <tr>\n",
       "      <th>17</th>\n",
       "      <td>0.434598</td>\n",
       "      <td>0.866981</td>\n",
       "      <td>1.050558e+12</td>\n",
       "      <td>9.874498e+11</td>\n",
       "      <td>0</td>\n",
       "      <td>True</td>\n",
       "    </tr>\n",
       "    <tr>\n",
       "      <th>18</th>\n",
       "      <td>0.160239</td>\n",
       "      <td>0.214978</td>\n",
       "      <td>8.147588e+11</td>\n",
       "      <td>8.556808e+11</td>\n",
       "      <td>0</td>\n",
       "      <td>True</td>\n",
       "    </tr>\n",
       "    <tr>\n",
       "      <th>19</th>\n",
       "      <td>0.296251</td>\n",
       "      <td>0.135558</td>\n",
       "      <td>7.860081e+11</td>\n",
       "      <td>8.392522e+11</td>\n",
       "      <td>0</td>\n",
       "      <td>True</td>\n",
       "    </tr>\n",
       "  </tbody>\n",
       "</table>\n",
       "</div>"
      ],
      "text/plain": [
       "    Solar Gain Coefficient  Window to Wall Ratio    winter_use    summer_use  \\\n",
       "0                 0.224167              0.899732  1.062440e+12  9.945686e+11   \n",
       "1                 0.370712              0.100001  7.731342e+11  8.318670e+11   \n",
       "2                 0.305090              0.420227  8.889782e+11  8.970309e+11   \n",
       "3                 0.336050              0.333129  8.574677e+11  8.792777e+11   \n",
       "4                 0.243098              0.759966  1.011880e+12  9.661488e+11   \n",
       "5                 0.430595              0.275791  8.367119e+11  8.674254e+11   \n",
       "6                 0.300919              0.796904  1.025232e+12  9.735195e+11   \n",
       "7                 0.142886              0.570871  9.434965e+11  9.279788e+11   \n",
       "8                 0.162824              0.666111  9.779438e+11  9.472716e+11   \n",
       "9                 0.275100              0.627996  9.641383e+11  9.392826e+11   \n",
       "10                0.292250              0.251255  8.278593e+11  8.627521e+11   \n",
       "11                0.152799              0.710028  9.938313e+11  9.562108e+11   \n",
       "12                0.363981              0.329904  8.562966e+11  8.785607e+11   \n",
       "13                0.069248              0.513580  9.227849e+11  9.165107e+11   \n",
       "14                0.055944              0.825502  1.035617e+12  9.798721e+11   \n",
       "15                0.048230              0.579535  9.466461e+11  9.299490e+11   \n",
       "16                0.204247              0.204820  8.110773e+11  8.535203e+11   \n",
       "17                0.434598              0.866981  1.050558e+12  9.874498e+11   \n",
       "18                0.160239              0.214978  8.147588e+11  8.556808e+11   \n",
       "19                0.296251              0.135558  7.860081e+11  8.392522e+11   \n",
       "\n",
       "    violation  pareto-optimal  \n",
       "0           0            True  \n",
       "1           0            True  \n",
       "2           0            True  \n",
       "3           0            True  \n",
       "4           0            True  \n",
       "5           0            True  \n",
       "6           0            True  \n",
       "7           0            True  \n",
       "8           0            True  \n",
       "9           0            True  \n",
       "10          0            True  \n",
       "11          0            True  \n",
       "12          0            True  \n",
       "13          0            True  \n",
       "14          0            True  \n",
       "15          0            True  \n",
       "16          0            True  \n",
       "17          0            True  \n",
       "18          0            True  \n",
       "19          0            True  "
      ]
     },
     "execution_count": 34,
     "metadata": {},
     "output_type": "execute_result"
    }
   ],
   "source": [
    "def building_surrogate_model(values): \n",
    "    # First normalize the input values\n",
    "    values = norm_input(values)\n",
    "    # predict the time series\n",
    "    test_predictions = unnorm_output(model.predict([values.to_list()])[0])\n",
    "    # calculate the total electricity use\n",
    "    winter_electricity_use = sum(test_predictions[0:int(365/4)]) + sum(test_predictions[int(365*3/4):364] )\n",
    "    # calculate the std electricity use\n",
    "    summer_electricity_use = sum(test_predictions[int(365/4):int(365*3/4)])\n",
    "    # output the objectives using the besos format:\n",
    "    # ((objectives),(constraints))\n",
    "    return ((winter_electricity_use, summer_electricity_use), ())\n",
    "\n",
    "# Setup the parameters\n",
    "SRparameters = [Parameter(value_descriptor=RangeParameter(0.01,0.99),name='Solar Gain Coefficient'),\n",
    "                Parameter(value_descriptor=RangeParameter(0.1,0.9),name='Window to Wall Ratio')]\n",
    "\n",
    "SRobjectives = ['winter_use', 'summer_use']\n",
    "BuildingProblem = Problem(inputs=SRparameters,outputs=SRobjectives,minimize_outputs=[True,False])\n",
    "\n",
    "BuildingEvaluator = EvaluatorGeneric(building_surrogate_model, BuildingProblem)\n",
    "\n",
    "GeneticAlgoResults = NSGAII(BuildingEvaluator, evaluations=1000, population_size=20)\n",
    "GeneticAlgoResults"
   ]
  },
  {
   "cell_type": "markdown",
   "metadata": {},
   "source": [
    "# (9) Optimal Building"
   ]
  },
  {
   "cell_type": "code",
   "execution_count": 35,
   "metadata": {},
   "outputs": [
    {
     "data": {
      "text/plain": [
       "Text(0, 0.5, 'summer_use')"
      ]
     },
     "execution_count": 35,
     "metadata": {},
     "output_type": "execute_result"
    },
    {
     "data": {
      "image/png": "[encoded data removed]",
      "text/plain": [
       "<Figure size 432x288 with 1 Axes>"
      ]
     },
     "metadata": {
      "needs_background": "light"
     },
     "output_type": "display_data"
    }
   ],
   "source": [
    "plt.scatter(GeneticAlgoResults[\"winter_use\"],GeneticAlgoResults[\"summer_use\"])\n",
    "plt.xlabel(\"winter_use\")\n",
    "plt.ylabel(\"summer_use\")"
   ]
  },
  {
   "cell_type": "code",
   "execution_count": null,
   "metadata": {},
   "outputs": [],
   "source": []
  },
  {
   "cell_type": "code",
   "execution_count": null,
   "metadata": {},
   "outputs": [],
   "source": []
  }
 ],
 "metadata": {
  "kernelspec": {
   "display_name": "Python 3",
   "language": "python",
   "name": "python3"
  },
  "language_info": {
   "codemirror_mode": {
    "name": "ipython",
    "version": 3
   },
   "file_extension": ".py",
   "mimetype": "text/x-python",
   "name": "python",
   "nbconvert_exporter": "python",
   "pygments_lexer": "ipython3",
   "version": "3.7.5"
  }
 },
 "nbformat": 4,
 "nbformat_minor": 4
}
