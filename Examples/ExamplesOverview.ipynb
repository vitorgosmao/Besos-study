{
 "cells": [
  {
   "cell_type": "markdown",
   "metadata": {
    "papermill": {
     "duration": 0.00537,
     "end_time": "2019-10-16T23:48:11.939086",
     "exception": false,
     "start_time": "2019-10-16T23:48:11.933716",
     "status": "completed"
    },
    "tags": []
   },
   "source": [
    "# Examples Overview\n",
    "\n",
    "This notebook gives an overview of the different example files and what they are used for.  \n",
    "They are organised following the folder strcture of the Examples directory.  \n",
    "Click on the notebook titles to open them."
   ]
  },
  {
   "cell_type": "markdown",
   "metadata": {
    "papermill": {
     "duration": 0.00333,
     "end_time": "2019-10-16T23:48:11.946623",
     "exception": false,
     "start_time": "2019-10-16T23:48:11.943293",
     "status": "completed"
    },
    "tags": []
   },
   "source": [
    "## Surrogate Modelling\n",
    "\n",
    "### [Interactive Surrogate](SurrogateModelling/InteractiveSurrogate.ipynb)\n",
    "An overview of lots of BESOS functionality.  \n",
    "We define an EnergyPlus model with two parameters, generate samples that span the design space, use these to train a surrogate model, then explore the design space using an interactive plot that queries the surrogate model. \n",
    "\n",
    "### [Overview of Surrogate modelling on BESOS](SurrogateModelling/Overview.ipynb)\n",
    "\n",
    "This notebook gives an overview of surrogate modelling on BESOS, with links to many other example notesbooks that demonstrate specific functionality:  \n",
    "- [Fitting a Gaussian Process model](SurrogateModelling/FitGPModel.ipynb)\n",
    "- [Fitting a feed-forward Neural Network](SurrogateModelling/FitFeedforwardNeuralNetwork.ipynb)\n",
    "- [Fitting a Neural-Network using TensorFlow](SurrogateModelling/FitNNTF.ipynb)\n",
    "- [Using an adaptive fitting algorithm](SurrogateModelling/FitGPAdaptive.ipynb)"
   ]
  },
  {
   "cell_type": "markdown",
   "metadata": {
    "papermill": {
     "duration": 0.003979,
     "end_time": "2019-10-16T23:48:11.954644",
     "exception": false,
     "start_time": "2019-10-16T23:48:11.950665",
     "status": "completed"
    },
    "tags": []
   },
   "source": [
    "## Optimization\n",
    "\n",
    "### [Building Optimization](Optimization/BuildingOptimization.ipynb)\n",
    "This notebook gives an overview of building design optimization.  \n",
    "It uses EnergyPlus via an `Evaluator` and defines the optimization problem using `Parameters` and `Descriptors`.  \n",
    "\n",
    "### [Optimization Run Flexibility](Optimization/OptimizationRunFlexibility.ipynb)\n",
    "It is possible to change the configuration of the algorithm part way through the optimisation process, or even to switch algorithms completely. Doing so requires using Platypus algorithms directly, instead of the algorithm wrappers provided through the optimization module.\n",
    "\n",
    "### [Objectives and Constraints](Optimization/ObjectivesAndConstraints.ipynb)\n",
    "There are two ways to use the outputs of an Evaluator: Objectives and Constraints. These are both made using the MeterReader and VariableReader classes."
   ]
  },
  {
   "cell_type": "markdown",
   "metadata": {
    "papermill": {
     "duration": 0.00379,
     "end_time": "2019-10-16T23:48:11.964078",
     "exception": false,
     "start_time": "2019-10-16T23:48:11.960288",
     "status": "completed"
    },
    "tags": []
   },
   "source": [
    "## Energy Hub\n",
    "\n",
    "### [Overview of Energy Hub modelling on BESOS](EnergyHub/Overview.ipynb)\n",
    "This notebook gives an overview of the Energy Hub model, with links to the following example notesbooks that demonstrate specific functionality:\n",
    "- [Run EHub](EnergyHub/RunEHub.ipynb) is a simple example that walks through the use of EHub using the original workflow.\n",
    "- [Exploring Command Line Features of EHub](EnergyHub/ExploringCommandLine.ipynb) explains the command line features of the EHub model.\n",
    "- [Adding custom constraints](EnergyHub/CustomConstraints.ipynb) shows how to add three different types of custom constraints.\n",
    "- [Modify existing constraint](EnergyHub/ModifyExistingConstraint.ipynb) edits an existing constraint of the base model to add a subsidy for certain renewable technologies.\n",
    "- [Remove existing constraint](EnergyHub/RemoveConstraint.ipynb) turns off an existing constraint.\n",
    "- [Rooftop Constraint](EnergyHub/LimitedArea.ipynb) adds a constraint which limits roof size on which solar technologies can be installed.\n",
    "- [Time Varying Grid Price](EnergyHub/TimeVaryingGridPrice.ipynb) adds a time series which represents grid price.\n",
    "- [Time Resolved Carbon Factors](EnergyHub/EnergyHub/TimeResolvedCarbonFactors.ipynb) combines Energy Hub modelling in BESOS with analysis of the wider power system using SILVER.\n",
    "- [Storage plots](EnergyHub/StoragePlots.ipynb) gives graphical results showing how a storage device is operated.\n",
    "- [Overriding Input Data](EnergyHub/OverridingInputData.ipynb) gets load data for some typical days from a separate file, overwrites the time series and solves the model for each time series.\n",
    "- [Multiple Hubs](EnergyHub/Networks/MultipleHubs.ipynb) gives an overview of how hubs are linked together.\n",
    "- [Linear Powerflow](EnergyHub/Networks/LinearPowerflow.ipynb) adds linear powerflow constraints to the Energy Hub model.\n",
    "- [Edit Excel](EnergyHub/EditExcel.ipynb) is a notebook to edit the input excel file.\n",
    "- [Edit Networks Excel](EnergyHub/EditNetworksExcel.ipynb) is a notebook to edit the networks excel file.\n",
    "- [EHEvaluator](EnergyHub/EHEvaluator.ipynb) demonstrates the EHEvaulator.\n",
    "- [EP to EH Evaluators](EnergyHub/EnergyHub/EPtoEHEvaluators.ipynb) shows how to combine an Energy Hub and and EnergyPlus Evaluator.\n",
    "- [PyEHub Parameter Editor](EnergyHub/ParameterEditor.ipynb) shows how to define BESOS Parameters for PyEHub models."
   ]
  },
  {
   "cell_type": "markdown",
   "metadata": {
    "papermill": {
     "duration": 0.003945,
     "end_time": "2019-10-16T23:48:11.971526",
     "exception": false,
     "start_time": "2019-10-16T23:48:11.967581",
     "status": "completed"
    },
    "tags": []
   },
   "source": [
    "## Data Analysis\n",
    "\n",
    "### [Bayesian Network](DataAnalysis/BayesianNetwork.ipynb)\n",
    "A stochastic generator of hourly electricity use in a residential building fitted to measured data, to generate synthetic profiles for a Monte Carlo analysis.\n",
    "\n",
    "### [Fitting Grey-box Models](DataAnalysis/ecobee_public/FittingGreyboxModels.ipynb)\n",
    "This notebook and associated files implement the methods used in a paper applying grey-box models to building temperature data to obtain building characteristics.  \n",
    "It also shows how notebooks can be used as the front-end for scripts written as pure Python .py files."
   ]
  },
  {
   "cell_type": "markdown",
   "metadata": {
    "papermill": {
     "duration": 0.003143,
     "end_time": "2019-10-16T23:48:11.978002",
     "exception": false,
     "start_time": "2019-10-16T23:48:11.974859",
     "status": "completed"
    },
    "tags": []
   },
   "source": [
    "## Parametrics and Sensitivity Analysis\n",
    "\n",
    "### [Parametric Analysis](ParametricsAndSensitivity/ParametricAnalysis.ipynb)\n",
    "\n",
    "How to define a parametric (brute-force) analysis using an EnergyPlus model, and get the energy use for all combinations of parameter values.\n",
    "\n",
    "### [Morris Screening](ParametricsAndSensitivity/MorrisScreening.ipynb)\n",
    "Implementation of the Morris screening global sensitivity method.\n",
    "\n",
    "### [Sobol Sensitivity Analysis](ParametricsAndSensitivity/SobolSensitivityAnalysis.ipynb)\n",
    "Implementation of the Sobol global variance-based sensitivity analysis method."
   ]
  },
  {
   "cell_type": "markdown",
   "metadata": {
    "papermill": {
     "duration": 0.003204,
     "end_time": "2019-10-16T23:48:11.984439",
     "exception": false,
     "start_time": "2019-10-16T23:48:11.981235",
     "status": "completed"
    },
    "tags": []
   },
   "source": [
    "## Evaluators\n",
    "\n",
    "### [Evaluators](Evaluators/Evaluators.ipynb)\n",
    "\n",
    "How to use the four BESOS evaluators:\n",
    "- the EnergyPlus Evaluator (`EvaluatorEP`)\n",
    "- the Generic Evaluator (`EvaluatorGeneric`)\n",
    "- the Energy Hub Evaluator (`EvaluatorEH`)\n",
    "\n",
    "Example of how to use EvaluatorGeneric to wrap multiple evaluators or functions for multiple objectives problem.\n",
    "\n",
    "### [Descriptors](Evaluators/Descriptors.ipynb)\n",
    "\n",
    "Descriptors specify what kinds of values are valid for a parameter.\n",
    "\n",
    "### [Selectors](Evaluators/Selectors.ipynb)\n",
    "\n",
    "Selectors identify which part of a model to modify for a given parameter, and how to modify it.\n",
    "\n",
    "### [Custom EnergyPlus Evaluator functions](Evaluators/CustomEPEvaluatorFunc.ipynb)\n",
    "\n",
    "Custom functions can be executed on the EnergyPlus results.\n",
    "\n",
    "### [Running EnergyPlus directly](EnergyPlus/RunEPlus.ipynb)\n",
    "\n",
    "Various ways of running EnergyPlus directly and interacting with models via EPPy.\n",
    "\n",
    "### [Automatic Error Handling](Evaluators/AutomaticErrorHandling.ipynb)\n",
    "\n",
    "Sometimes there are parts of the design space that we want to explore that will cause the EnergyPlus simulation to fail, such as invalid combinations of parameter values.   \n",
    "In this example, we demonstrate how this is handled using an undefined material to represent an invalid state.\n",
    "\n",
    "### [Different Version of EnergyPlus](Evaluators/DifferentVersionEP.ipynb)\n",
    "\n",
    "Use different version of EnergyPlus to run simulation.\n",
    "\n",
    "### [Dependent Parameter and Additional Outputs](Evaluators/DependParamAddOut.ipynb)\n",
    "\n",
    "How to use Dependent Parameter and Additional Outputs."
   ]
  },
  {
   "cell_type": "markdown",
   "metadata": {
    "papermill": {
     "duration": 0.003153,
     "end_time": "2019-10-16T23:48:11.990951",
     "exception": false,
     "start_time": "2019-10-16T23:48:11.987798",
     "status": "completed"
    },
    "tags": []
   },
   "source": [
    "## Cluster computing\n",
    "\n",
    "### [Cluster Submission](ClusterSubmission/ClusterSubmission.ipynb)\n",
    "\n",
    "Job submission to the Compute Canada cloud or similar can be integrated into the notebook workflow, as seen here. Also provided are tutorials on [Linux terminal commands](ClusterSubmission/TerminalTutorial.ipynb) and [SFTP file transfer](ClusterSubmission/SFTP.ipynb)."
   ]
  },
  {
   "cell_type": "markdown",
   "metadata": {
    "papermill": {
     "duration": 0.00313,
     "end_time": "2019-10-16T23:48:11.997548",
     "exception": false,
     "start_time": "2019-10-16T23:48:11.994418",
     "status": "completed"
    },
    "tags": []
   },
   "source": [
    "## Other\n",
    "\n",
    "### [Geomeppy](Geomeppy/Geomeppy.ipynb)\n",
    "\n",
    "Some basic examples of geomeppy library."
   ]
  }
 ],
 "metadata": {
  "kernelspec": {
   "display_name": "Python 3",
   "language": "python",
   "name": "python3"
  },
  "language_info": {
   "codemirror_mode": {
    "name": "ipython",
    "version": 3
   },
   "file_extension": ".py",
   "mimetype": "text/x-python",
   "name": "python",
   "nbconvert_exporter": "python",
   "pygments_lexer": "ipython3",
   "version": "3.7.4"
  },
  "papermill": {
   "duration": 0.901422,
   "end_time": "2019-10-16T23:48:12.205421",
   "environment_variables": {},
   "exception": null,
   "input_path": "./ExamplesOverview.ipynb",
   "output_path": "./ExamplesOverview.ipynb",
   "parameters": {},
   "start_time": "2019-10-16T23:48:11.303999",
   "version": "1.2.0"
  }
 },
 "nbformat": 4,
 "nbformat_minor": 2
}
