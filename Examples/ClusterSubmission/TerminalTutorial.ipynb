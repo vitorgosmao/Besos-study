{
 "cells": [
  {
   "cell_type": "markdown",
   "metadata": {
    "papermill": {
     "duration": 0.012649,
     "end_time": "2019-10-28T22:51:40.325531",
     "exception": false,
     "start_time": "2019-10-28T22:51:40.312882",
     "status": "completed"
    },
    "tags": []
   },
   "source": [
    "# Common Linux terminal commands\n",
    "This notebook lists common commands used on the Linux terminal. "
   ]
  },
  {
   "cell_type": "markdown",
   "metadata": {
    "papermill": {
     "duration": 0.009165,
     "end_time": "2019-10-28T22:51:40.347365",
     "exception": false,
     "start_time": "2019-10-28T22:51:40.338200",
     "status": "completed"
    },
    "tags": []
   },
   "source": [
    "### `Right-click` \n",
    "Jupyter's terminals work with `Shift + Right-click`. _This is important when you want to paste something copied earlier._\n",
    "\n",
    "### For sftp\n",
    "+ If you are inside of `sftp>` prompt, the usual commands are executed on the remote machine and the ones in parentheses are executed on local machine.\n",
    "+ The commands which are not succeeded by parentheses cannot be executed locally (with `l` as a prefix) from `sftp>` prompt.\n",
    "+ To run any command from inside of the `sftp>` prompt, precede it with a `!`. You can do it for the ones that work with `l` as a prefix too. "
   ]
  },
  {
   "cell_type": "markdown",
   "metadata": {
    "papermill": {
     "duration": 0.005778,
     "end_time": "2019-10-28T22:51:40.360486",
     "exception": false,
     "start_time": "2019-10-28T22:51:40.354708",
     "status": "completed"
    },
    "tags": []
   },
   "source": [
    "Try out the commands on the following terminal:"
   ]
  },
  {
   "cell_type": "code",
   "execution_count": 1,
   "metadata": {
    "papermill": {
     "duration": 0.020613,
     "end_time": "2019-10-28T22:51:40.386561",
     "exception": false,
     "start_time": "2019-10-28T22:51:40.365948",
     "status": "completed"
    },
    "tags": []
   },
   "outputs": [
    {
     "data": {
      "text/html": [
       "\n",
       "        <iframe\n",
       "            width=\"1200\"\n",
       "            height=\"250\"\n",
       "            src=\"https://hub.besos.uvic.ca/user/mdrpanwar/terminals/3\"\n",
       "            frameborder=\"0\"\n",
       "            allowfullscreen\n",
       "        ></iframe>\n",
       "        "
      ],
      "text/plain": [
       "<IPython.lib.display.IFrame at 0x7f6ca43b0ef0>"
      ]
     },
     "execution_count": 1,
     "metadata": {},
     "output_type": "execute_result"
    }
   ],
   "source": [
    "from IPython.display import IFrame\n",
    "your_gitlab_username = 'mdrpanwar'# change this to your username\n",
    "IFrame(\"https://hub.besos.uvic.ca/user/\"+your_gitlab_username+\"/terminals/3\", width=1200, height=250)"
   ]
  },
  {
   "cell_type": "markdown",
   "metadata": {
    "papermill": {
     "duration": 0.00534,
     "end_time": "2019-10-28T22:51:40.397770",
     "exception": false,
     "start_time": "2019-10-28T22:51:40.392430",
     "status": "completed"
    },
    "tags": []
   },
   "source": [
    "## pwd (or lpwd)\n",
    "+ <font color='red'>Usage:</font> `pwd`\n",
    "+ Used to get the <font color='green'>current working directory(CWD)</font>. We will use the term <font color='green'>CWD</font> time and again. It means the directory your terminal is in right now. All commands are executed inside this directory."
   ]
  },
  {
   "cell_type": "markdown",
   "metadata": {
    "papermill": {
     "duration": 0.004844,
     "end_time": "2019-10-28T22:51:40.407675",
     "exception": false,
     "start_time": "2019-10-28T22:51:40.402831",
     "status": "completed"
    },
    "tags": []
   },
   "source": [
    "## ls (or lls)\n",
    "+ <font color='red'>Usage:</font> `ls`\n",
    "+ 'lists' out the directories and files in the <font color='green'>CWD</font> [_Hidden directories/files are not shown._]\n",
    "+ Use `ls -a` to list out even the hidden directories/files."
   ]
  },
  {
   "cell_type": "markdown",
   "metadata": {
    "papermill": {
     "duration": 0.003991,
     "end_time": "2019-10-28T22:51:40.415692",
     "exception": false,
     "start_time": "2019-10-28T22:51:40.411701",
     "status": "completed"
    },
    "tags": []
   },
   "source": [
    "## mkdir (or lmkdir)\n",
    "+ <font color='red'>Usage:</font> `mkdir dir_name`\n",
    "+ To make a directory named `dir_name` in the <font color='green'>CWD</font>."
   ]
  },
  {
   "cell_type": "markdown",
   "metadata": {
    "papermill": {
     "duration": 0.003784,
     "end_time": "2019-10-28T22:51:40.423758",
     "exception": false,
     "start_time": "2019-10-28T22:51:40.419974",
     "status": "completed"
    },
    "tags": []
   },
   "source": [
    "## cd (or lcd)\n",
    "+ <font color='red'>Usage:</font> `cd dir_name`\n",
    "+ 'Changes <font color='green'>CWD</font>' to the directory named `dir_name`. Here `dir_name` must be a directory residing inside the current working directory or a path starting within <font color='green'>CWD</font>.\n",
    "+ Every directory in linux contains `.` and `..`, which refers to the `current working directory` and `parent of current working directory` respectively. \n",
    "+ Use `cd ..` to navigate to the parent of the <font color='green'>CWD</font>.\n",
    "+ Consider the following directory structure:\n",
    "---------------------------------\n",
    "+ parent\n",
    "    + inparent\n",
    "        + inchild\n",
    "            + simple.out\n",
    "            + a.out\n",
    "            + b.out\n",
    "        + inchild1\n",
    "            + incurrentdir\n",
    "            + c.out\n",
    "    + inparent2\n",
    "---------------------------------\n",
    "+ <font color='red'>Examples</font> (from inside of `parent/inparent/inchild1`):\n",
    "    + `cd ../inparent/inchild`\n",
    "    + `cd incurrentdir`"
   ]
  },
  {
   "cell_type": "markdown",
   "metadata": {
    "papermill": {
     "duration": 0.005061,
     "end_time": "2019-10-28T22:51:40.432800",
     "exception": false,
     "start_time": "2019-10-28T22:51:40.427739",
     "status": "completed"
    },
    "tags": []
   },
   "source": [
    "## rm\n",
    "+ <font color='red'>Usage:</font> `rm filename_1 filename_2 ... filename_n`\n",
    "+ To delete the files named `filename_1`, `filename_2`, ...., `filename_n` from the <font color='green'>CWD</font>.\n",
    "+ To delete a directory, use `rm -r dir_name` where `dir_name` is a directory residing in <font color='green'>CWD</font> or a path to a diretory.\n",
    "+ Instead of being name of files in <font color='green'>CWD</font>, `filename_i`can also be a path to a file.\n",
    "+ <font color='red'>Examples</font> (from inside of `parent/inparent/inchild`):\n",
    "    + `rm simple.out`\n",
    "    + `rm a.out b.out`\n",
    "    + `rm ../inchild1/c.out`"
   ]
  },
  {
   "cell_type": "markdown",
   "metadata": {
    "papermill": {
     "duration": 0.004156,
     "end_time": "2019-10-28T22:51:40.443763",
     "exception": false,
     "start_time": "2019-10-28T22:51:40.439607",
     "status": "completed"
    },
    "tags": []
   },
   "source": [
    "## mv\n",
    "+ <font color='red'>Usage:</font> `mv filename_1 filename_2 ... filename_n dir_name`\n",
    "+ To move `filename_1`, `filename_2`, ...., `filename_n` to directory `dir_name`.\n",
    "+ Instead of being name of file in <font color='green'>CWD</font>, `filename_i` can also be a path to a file. \n",
    "+ Instead of being name of directory in <font color='green'>CWD</font>, `dir_name`can also be a path to a directory.\n",
    "+ <font color='red'>Examples</font> (from inside of `parent/inparent/inchild1`):\n",
    "    + `mv c.out incurrentdir`\n",
    "    + `mv ../inchild/a.out ../../inparent2`"
   ]
  },
  {
   "cell_type": "markdown",
   "metadata": {
    "papermill": {
     "duration": 0.006488,
     "end_time": "2019-10-28T22:51:40.455879",
     "exception": false,
     "start_time": "2019-10-28T22:51:40.449391",
     "status": "completed"
    },
    "tags": []
   },
   "source": [
    "## cp\n",
    "+ <font color='red'>Usage:</font> `cp filename_1 filename_2 ... filename_n dir_name`\n",
    "+ To copy `filename_1`, `filename_2`, ...., `filename_n` to `dir_name` directory.\n",
    "+ To copy a directory `dir_name1` into directory `dir_name2`, use `cp -r dir_name1 dir_name2` where `dir_name1` and `dir_name2` are directories residing in <font color='green'>CWD</font> or paths to directories..\n",
    "+ Instead of being name of file in <font color='green'>CWD</font>, `filename_i` can also be a path to a file. \n",
    "+ Instead of being name of directory in <font color='green'>CWD</font>, `dir_name`can also be a path to a directory.\n",
    "+ <font color='red'>Examples</font> (from inside of `parent/inparent/inchild1`):\n",
    "    + `cp c.out incurrentdir`\n",
    "    + `cp ../inchild/a.out ../../inparent2`"
   ]
  },
  {
   "cell_type": "markdown",
   "metadata": {
    "papermill": {
     "duration": 0.004889,
     "end_time": "2019-10-28T22:51:40.465302",
     "exception": false,
     "start_time": "2019-10-28T22:51:40.460413",
     "status": "completed"
    },
    "tags": []
   },
   "source": [
    "## top\n",
    "+ <font color='red'>Usage:</font> `top`\n",
    "+ Lists out all the running processes with the resourses being used by each process. \n",
    "+ The output is similar to that of `Task Manager` on Windows."
   ]
  }
 ],
 "metadata": {
  "kernelspec": {
   "display_name": "Python 3",
   "language": "python",
   "name": "python3"
  },
  "language_info": {
   "codemirror_mode": {
    "name": "ipython",
    "version": 3
   },
   "file_extension": ".py",
   "mimetype": "text/x-python",
   "name": "python",
   "nbconvert_exporter": "python",
   "pygments_lexer": "ipython3",
   "version": "3.6.4"
  },
  "papermill": {
   "duration": 1.176159,
   "end_time": "2019-10-28T22:51:40.783875",
   "environment_variables": {},
   "exception": null,
   "input_path": "./ClusterSubmission/TerminalTutorial.ipynb",
   "output_path": "./ClusterSubmission/TerminalTutorial.ipynb",
   "parameters": {},
   "start_time": "2019-10-28T22:51:39.607716",
   "version": "1.2.0"
  }
 },
 "nbformat": 4,
 "nbformat_minor": 2
}