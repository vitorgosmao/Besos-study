{
 "cells": [
  {
   "cell_type": "markdown",
   "metadata": {
    "papermill": {
     "duration": 0.010809,
     "end_time": "2019-10-28T22:51:41.429100",
     "exception": false,
     "start_time": "2019-10-28T22:51:41.418291",
     "status": "completed"
    },
    "tags": []
   },
   "source": [
    "# SFTP file transfer to the cluster\n",
    "It is assumed that you have a basic experience with the linux terminal.  \n",
    "Should you require a recap of comman commands, go to [this notebook](TerminalTutorial.ipynb).\n",
    "+ Let's embed a terminal to begin with."
   ]
  },
  {
   "cell_type": "code",
   "execution_count": 1,
   "metadata": {
    "papermill": {
     "duration": 0.020586,
     "end_time": "2019-10-28T22:51:41.463676",
     "exception": false,
     "start_time": "2019-10-28T22:51:41.443090",
     "status": "completed"
    },
    "tags": []
   },
   "outputs": [
    {
     "data": {
      "text/html": [
       "\n",
       "        <iframe\n",
       "            width=\"1200\"\n",
       "            height=\"250\"\n",
       "            src=\"https://hub.besos.uvic.ca/user/revins/terminals/1\"\n",
       "            frameborder=\"0\"\n",
       "            allowfullscreen\n",
       "        ></iframe>\n",
       "        "
      ],
      "text/plain": [
       "<IPython.lib.display.IFrame at 0x7fcfec310f28>"
      ]
     },
     "execution_count": 1,
     "metadata": {},
     "output_type": "execute_result"
    }
   ],
   "source": [
    "from IPython.display import IFrame\n",
    "your_gitlab_username = 'revins'# change this to your username\n",
    "IFrame(\"https://hub.besos.uvic.ca/user/\"+your_gitlab_username+\"/terminals/1\", width=1200, height=250)"
   ]
  },
  {
   "cell_type": "markdown",
   "metadata": {
    "papermill": {
     "duration": 0.003758,
     "end_time": "2019-10-28T22:51:41.471311",
     "exception": false,
     "start_time": "2019-10-28T22:51:41.467553",
     "status": "completed"
    },
    "tags": []
   },
   "source": [
    "## Connecting to the cluster\n",
    "+ Using `cd`, navigate to the directory in which you have kept the files to be transferred to cluster. See ([`cd` tutorial](TerminalTutorial.ipynb#cd)).\n",
    "+ Execute `sftp cc_username@cluster_name.computecanada.ca` in the terminal.\n",
    "+ Enter the password when prompted.\n",
    "+ This should get you the `sftp>` prompt.\n",
    "\n",
    "## SFTP commands refresher\n",
    "You will need to execute commands on the remote machine as well as on the local machine.  \n",
    "When inside of `sftp>` prompt, all the linux commands work as if they are executed on remote machine.  \n",
    "To execute any command locally, prefix it with a `l` denoting local. Note that all commands cannot be executed locally inside the `sftp>` prompt using `l`. To explicitly execute a command locally prefix it with `!`.\n",
    "\n",
    "+ On the remote machine (i.e. the cluster): `pwd, cd, ls, mkdir, etc.`\n",
    "+ On the local machine (i.e. the BESOS hub): `lpwd, lcd, lls, lmkdir, etc.`"
   ]
  },
  {
   "cell_type": "markdown",
   "metadata": {
    "papermill": {
     "duration": 0.003421,
     "end_time": "2019-10-28T22:51:41.478824",
     "exception": false,
     "start_time": "2019-10-28T22:51:41.475403",
     "status": "completed"
    },
    "tags": []
   },
   "source": [
    "## General process for transferring files to or from the cluster\n",
    "We want to:\n",
    "1. Set the directories (between which file transfer must to take place) on local and remote machine using `lcd` and `cd` respectively.\n",
    "2. Execute `get filename` to copy the file from the remote to local, or `get -r folder` if a folder is to be transferred.\n",
    "3. Execute `put filename` to copy the file from the local to remote, or `put -r folder` if a folder is to be transferred.\n",
    "4. Execute `exit` to exit the `sftp>` prompt.\n",
    "\n",
    "See the examples below."
   ]
  },
  {
   "cell_type": "markdown",
   "metadata": {
    "papermill": {
     "duration": 0.00358,
     "end_time": "2019-10-28T22:51:41.486445",
     "exception": false,
     "start_time": "2019-10-28T22:51:41.482865",
     "status": "completed"
    },
    "tags": []
   },
   "source": [
    "## Sending files from BESOS to the cluster\n",
    "Here we will send `cluster.py`, `parameter_sets.py` and `clusterbatch.sh` on the cluster.\n",
    "\n",
    "#### Navigating to the directory in which to transfer files\n",
    "Execute the following from inside of `sftp>` prompt:\n",
    "+ `cd /home/cc_username` [_navigate to home directory_]\n",
    "+ `cd scratch` [_navigate to scratch_]\n",
    "+ `mkdir job` [_make a directory named 'job'_]\n",
    "+ `cd job` [_navigate to 'job'_]\n",
    "    \n",
    "#### Navigating to the directory from which to transfer files\n",
    "The `sftp>` prompt is in the same directory as the terminal from which `sftp cc_username@cluster_name.computecanada.ca` is executed. Since for this example our files are in current directory itself, we need not do anything as we are in correct local directory. If you are not in the directory containing all the files, use `lcd` and `lpwd` to navigate. ([`lcd` tutorial](./Linux%20terminal%20tutorial.ipynb#cd))\n",
    "    \n",
    "#### Copying files to the cluster   \n",
    "When the correct target and source directories have been set, execute the following from inside of `sftp>` prompt:\n",
    "+ `put cluster.py` [_copying cluster.py to remote_]\n",
    "+ `put parameter_sets.py` [_copying parameter_sets.py to remote_]\n",
    "+ `put clusterbatch.sh` [_copying clusterbatch.sh to remote_]"
   ]
  },
  {
   "cell_type": "markdown",
   "metadata": {
    "papermill": {
     "duration": 0.003366,
     "end_time": "2019-10-28T22:51:41.494114",
     "exception": false,
     "start_time": "2019-10-28T22:51:41.490748",
     "status": "completed"
    },
    "tags": []
   },
   "source": [
    "#### Now you can submit the job for execution on the cluster. \n",
    "Go back to the [cluster submission notebook](ClusterSubmission.ipynb) for steps."
   ]
  },
  {
   "cell_type": "markdown",
   "metadata": {
    "papermill": {
     "duration": 0.00319,
     "end_time": "2019-10-28T22:51:41.501022",
     "exception": false,
     "start_time": "2019-10-28T22:51:41.497832",
     "status": "completed"
    },
    "tags": []
   },
   "source": [
    "## Getting files from the cluster back to BESOS\n",
    "Here we will get `time.cluster` and `op.out` from the cluster.\n",
    "\n",
    "#### Navigating to the directory in which to transfer files\n",
    "We need to go to the directory in which you want your files to be copied from cluster.  \n",
    "We will copy them in the current directory so we need not navigate since `sftp>` prompt spawns in the current directory only.  \n",
    "If you are not in the directory you want to copy the files to, navigate using `lcd` and `lpwd`.\n",
    "\n",
    "#### Navigating to the directory from which to transfer files\n",
    "+ We now need to go to the directory on cluster (remote) from which we submitted the job. We called this directory `job`.\n",
    "+ Execute the following from inside of `sftp>` prompt:\n",
    "    + `cd /home/cc_username` [_navigate to home directory_]\n",
    "    + `cd scratch` [_navigate to scratch_]\n",
    "    + `cd job` [_navigate to 'job'_]\n",
    "    \n",
    "#### Copying files from the cluster   \n",
    "+ When the correct target and source directories are set, execute the following from inside of `sftp>` prompt:\n",
    "    + `get time.cluster` [_copying time.cluster from remote_]\n",
    "    + `get op.out` [_copying op.out from remote_]"
   ]
  },
  {
   "cell_type": "markdown",
   "metadata": {
    "papermill": {
     "duration": 0.003309,
     "end_time": "2019-10-28T22:51:41.507685",
     "exception": false,
     "start_time": "2019-10-28T22:51:41.504376",
     "status": "completed"
    },
    "tags": []
   },
   "source": [
    "#### Now we can exit the `sftp>` prompt by typing `exit`"
   ]
  },
  {
   "cell_type": "code",
   "execution_count": null,
   "metadata": {
    "papermill": {
     "duration": 0.003367,
     "end_time": "2019-10-28T22:51:41.514421",
     "exception": false,
     "start_time": "2019-10-28T22:51:41.511054",
     "status": "completed"
    },
    "tags": []
   },
   "outputs": [],
   "source": []
  }
 ],
 "metadata": {
  "kernelspec": {
   "display_name": "Python 3",
   "language": "python",
   "name": "python3"
  },
  "language_info": {
   "codemirror_mode": {
    "name": "ipython",
    "version": 3
   },
   "file_extension": ".py",
   "mimetype": "text/x-python",
   "name": "python",
   "nbconvert_exporter": "python",
   "pygments_lexer": "ipython3",
   "version": "3.6.4"
  },
  "papermill": {
   "duration": 0.888938,
   "end_time": "2019-10-28T22:51:41.723623",
   "environment_variables": {},
   "exception": null,
   "input_path": "./ClusterSubmission/SFTP.ipynb",
   "output_path": "./ClusterSubmission/SFTP.ipynb",
   "parameters": {},
   "start_time": "2019-10-28T22:51:40.834685",
   "version": "1.2.0"
  }
 },
 "nbformat": 4,
 "nbformat_minor": 2
}