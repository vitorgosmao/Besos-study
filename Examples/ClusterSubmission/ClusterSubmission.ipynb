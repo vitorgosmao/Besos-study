{
 "cells": [
  {
   "cell_type": "markdown",
   "metadata": {
    "papermill": {
     "duration": 0.013309,
     "end_time": "2019-10-28T22:51:42.401514",
     "exception": false,
     "start_time": "2019-10-28T22:51:42.388205",
     "status": "completed"
    },
    "tags": []
   },
   "source": [
    "# Cluster submission from notebook\n",
    "\n",
    "This notebook shows how to take code from BESOS and run it on ComputeCanada cluster resources.  \n",
    "To run BESOS modules on ComputeCanada cluster resources, you will need:\n",
    "+ A ComputeCanada account with the following installed:\n",
    "    + `python 3` and `glpk` (both can be loaded with `module load`).\n",
    "    + `bonmin` and `energyplus`.\n",
    "    + `besos` (pip installable).  \n",
    "    \n",
    "You can also obviously develop Python files that use the BESOS modules locally and submit them to the cluster via your usual method.\n",
    "\n",
    "## Overall process\n",
    "The general process is as follows:\n",
    "+ Write your code to a .py file\n",
    "    + As shown below, you can write out a single cell from your notebook by adding `%%writefile filename.py` at the top  \n",
    "    This has the advantage that you can test your code on BESOS, then uncomment this line.\n",
    "    + To output a whole notebook, select File, Export Notebook As... and select Executable Script\n",
    "+ Write a batch file to submit it\n",
    "    + We use the `%%writefile` method below\n",
    "+ Execute the follwing steps in the terminal (here we use a window inside a notebook cell, or open a seperate terminal tab):\n",
    "    + Move the files over using SFTP (see [here](SFTP.ipynb)).\n",
    "    + Submit the job\n",
    "    + Copy back the results files using SFTP\n",
    "+ Unpickle the results and continue post-processing\n",
    "\n",
    "Whilst this process is somewhat cumbersome, it can be convienient for novice terminal users to use the cell below as a crib sheet of commands.  \n",
    "We recommend copying snippets of this notebook and the [SFTP](SFTP.ipynb) one together to make your own workflow."
   ]
  },
  {
   "cell_type": "markdown",
   "metadata": {
    "papermill": {
     "duration": 0.007701,
     "end_time": "2019-10-28T22:51:42.423165",
     "exception": false,
     "start_time": "2019-10-28T22:51:42.415464",
     "status": "completed"
    },
    "tags": []
   },
   "source": [
    "## Python file for execution on cluster\n",
    "The following cell will write a Python file `cluster.py` to be submitted to the ComputeCanada cluster.  "
   ]
  },
  {
   "cell_type": "code",
   "execution_count": 1,
   "metadata": {
    "papermill": {
     "duration": 3.716312,
     "end_time": "2019-10-28T22:51:46.145421",
     "exception": false,
     "start_time": "2019-10-28T22:51:42.429109",
     "status": "completed"
    },
    "tags": []
   },
   "outputs": [
    {
     "data": {
      "application/vnd.jupyter.widget-view+json": {
       "model_id": "a395a91ae4a4467aae68778c0eec04dc",
       "version_major": 2,
       "version_minor": 0
      },
      "text/plain": [
       "HBox(children=(IntProgress(value=0, description='Executing', max=2, style=ProgressStyle(description_width='ini…"
      ]
     },
     "metadata": {},
     "output_type": "display_data"
    },
    {
     "name": "stdout",
     "output_type": "stream",
     "text": [
      "\n"
     ]
    },
    {
     "data": {
      "text/plain": [
       "'Time to evaluate 2 samples: 2.63 seconds.'"
      ]
     },
     "execution_count": 1,
     "metadata": {},
     "output_type": "execute_result"
    }
   ],
   "source": [
    "#%%writefile cluster.py\n",
    "import numpy as np\n",
    "import pandas as pd\n",
    "import time\n",
    "import pickle\n",
    "\n",
    "from besos.evaluator import EvaluatorEP, EvaluatorEH\n",
    "from besos import eppy_funcs as ef\n",
    "from besos import pyehub_funcs as pf\n",
    "from besos.parameters import wwr, RangeParameter, FieldSelector, FilterSelector, GenericSelector, Parameter, expand_plist\n",
    "from besos.problem import EPProblem, Problem, EHProblem\n",
    "from besos import sampling\n",
    "\n",
    "now = time.time() # get the starting timestamp\n",
    "\n",
    "building = ef.get_building() # load example file if no idf filename is provided\n",
    "parameters = expand_plist(\n",
    "    {'NonRes Fixed Assembly Window':\n",
    "          {'Solar Heat Gain Coefficient':(0.01,0.99)}}\n",
    "    )\n",
    "objectives = ['Electricity:Facility', 'Gas:Facility'] # these get made into `MeterReader` or `VariableReader`\n",
    "problem = EPProblem(parameters, objectives) # problem = parameters + objectives\n",
    "evaluator = EvaluatorEP(problem, building) # evaluator = problem + building\n",
    "samples = sampling.dist_sampler(sampling.lhs, problem, 2)\n",
    "outputs = evaluator.df_apply(samples, keep_input=True)\n",
    "\n",
    "passedtime = round(time.time()-now,2)\n",
    "timestr = 'Time to evaluate '+str(len(samples))+' samples: '+str(passedtime)+' seconds.'\n",
    "\n",
    "with open('time.cluster', 'wb') as timecluster:\n",
    "     pickle.dump(timestr, timecluster)\n",
    "with open('op.out', 'wb') as op:\n",
    "     pickle.dump(outputs, op)\n",
    "        \n",
    "timestr"
   ]
  },
  {
   "cell_type": "markdown",
   "metadata": {
    "papermill": {
     "duration": 0.005111,
     "end_time": "2019-10-28T22:51:46.156590",
     "exception": false,
     "start_time": "2019-10-28T22:51:46.151479",
     "status": "completed"
    },
    "tags": []
   },
   "source": [
    "## Batch file\n",
    "The following cell will write a batch file `clusterbatch.sh` used for submitting our job."
   ]
  },
  {
   "cell_type": "code",
   "execution_count": 2,
   "metadata": {
    "papermill": {
     "duration": 0.014177,
     "end_time": "2019-10-28T22:51:46.177817",
     "exception": false,
     "start_time": "2019-10-28T22:51:46.163640",
     "status": "completed"
    },
    "tags": []
   },
   "outputs": [
    {
     "name": "stdout",
     "output_type": "stream",
     "text": [
      "Overwriting clusterbatch.sh\n"
     ]
    }
   ],
   "source": [
    "%%writefile clusterbatch.sh\n",
    "#!/bin/bash\n",
    "#SBATCH --account=def-revins\n",
    "#SBATCH --time=00:10:00\n",
    "#SBATCH --nodes=1\n",
    "#SBATCH --cpus-per-task=4\n",
    "#SBATCH --mem=1000mb\n",
    "#SBATCH --output=%x-%j.out\n",
    "\n",
    "echo \"Current work dir: `pwd`\"\n",
    "echo \"Starting run at: `date`\"\n",
    "\n",
    "echo \"Job ID: $SLURM_JOB_ID\"\n",
    "\n",
    "echo \"prog started at: `date`\"\n",
    "mpiexec python cluster.py\n",
    "echo \"prog ended at: `date`\""
   ]
  },
  {
   "cell_type": "markdown",
   "metadata": {
    "papermill": {
     "duration": 0.005208,
     "end_time": "2019-10-28T22:51:46.188731",
     "exception": false,
     "start_time": "2019-10-28T22:51:46.183523",
     "status": "completed"
    },
    "tags": []
   },
   "source": [
    "## File transfers\n",
    "Now we need to transfer following files to the cluster using SFTP as described in [this notebook](SFTP.ipynb):\n",
    "+ `cluster.py`\n",
    "+ `clusterbatch.sh`  \n",
    "Note that we need to transfer these files in a folder residing in `/scratch` (e.g. `/scratch/job`) on the cluster since we do not have access to submit jobs from `/home`.\n",
    "\n",
    "## Job submission\n",
    "### SSH login on the server\n",
    "Get the terminal inside the notebook:"
   ]
  },
  {
   "cell_type": "code",
   "execution_count": 3,
   "metadata": {
    "papermill": {
     "duration": 0.01182,
     "end_time": "2019-10-28T22:51:46.205666",
     "exception": false,
     "start_time": "2019-10-28T22:51:46.193846",
     "status": "completed"
    },
    "scrolled": true,
    "tags": []
   },
   "outputs": [
    {
     "data": {
      "text/html": [
       "\n",
       "        <iframe\n",
       "            width=\"1200\"\n",
       "            height=\"250\"\n",
       "            src=\"https://hub.besos.uvic.ca/user/mdrpanwar/terminals/2\"\n",
       "            frameborder=\"0\"\n",
       "            allowfullscreen\n",
       "        ></iframe>\n",
       "        "
      ],
      "text/plain": [
       "<IPython.lib.display.IFrame at 0x7efe21162240>"
      ]
     },
     "execution_count": 3,
     "metadata": {},
     "output_type": "execute_result"
    }
   ],
   "source": [
    "from IPython.display import IFrame\n",
    "your_gitlab_username = 'mdrpanwar'# change this to your username\n",
    "IFrame(\"https://hub.besos.uvic.ca/user/\"+your_gitlab_username+\"/terminals/2\", width=1200, height=250)"
   ]
  },
  {
   "cell_type": "markdown",
   "metadata": {
    "papermill": {
     "duration": 0.005491,
     "end_time": "2019-10-28T22:51:46.216544",
     "exception": false,
     "start_time": "2019-10-28T22:51:46.211053",
     "status": "completed"
    },
    "tags": []
   },
   "source": [
    "If you have trouble getting the `$` prompt, change the number at the end of above url to `3` (or higher) to start a new terminal."
   ]
  },
  {
   "cell_type": "markdown",
   "metadata": {
    "papermill": {
     "duration": 0.005438,
     "end_time": "2019-10-28T22:51:46.227522",
     "exception": false,
     "start_time": "2019-10-28T22:51:46.222084",
     "status": "completed"
    },
    "tags": []
   },
   "source": [
    "+ Execute `ssh -Y cc_username@cluster_name.computecanada.ca` in the terminal, e.g. `ssh -Y mpanwar@cedar.computecanada.ca`\n",
    "+ Enter the password when prompted.\n",
    "+ This should get the `[cc_username@cluster_name<login_node> ~]$` prompt, e.g. `[mpanwar@cedar1 ~]$`\n",
    "\n",
    "### Submitting the job\n",
    "+ Execute `module load python/3.7`\n",
    "+ Execute `module load glpk/4.61`\n",
    "+ Assuming you have transfered the required files (as mentioned above), we will now submit the job.\n",
    "+ Navigate to the directory inside of `/scratch` where you transfered your files (i.e. `/scratch/job` as per [example](./sftp%20file%20transfer.ipynb#Example:-Sending-files-from-Jupyter-hub-to-the-cluster))\n",
    "    + Execute `cd scratch/job`\n",
    "+ Verify that this folder contains `cluster.py`, `parameter_sets.py` and `clusterbatch.sh` by executing `ls`.\n",
    "+ Execute `sbatch clusterbatch.sh`.\n",
    "+ You can check the status of the job by executing `squeue -u cc_username` e.g. `squeue -u mpanwar`.\n",
    "\n",
    "## Getting the results\n",
    "The job is finished when `squeue -u cc_username` does not contain any job details.\n",
    "\n",
    "Go back to the second half of the [SFTP guide](SFTP.ipynb) and get the results files, in this case:\n",
    " + `time.cluster`\n",
    " + `op.out`."
   ]
  },
  {
   "cell_type": "markdown",
   "metadata": {
    "papermill": {
     "duration": 0.005548,
     "end_time": "2019-10-28T22:51:46.238684",
     "exception": false,
     "start_time": "2019-10-28T22:51:46.233136",
     "status": "completed"
    },
    "tags": []
   },
   "source": [
    "## Loading the results\n",
    "You can now unpickle the results and continue post-processing in BESOS."
   ]
  },
  {
   "cell_type": "code",
   "execution_count": 4,
   "metadata": {
    "papermill": {
     "duration": 0.020206,
     "end_time": "2019-10-28T22:51:46.264485",
     "exception": false,
     "start_time": "2019-10-28T22:51:46.244279",
     "status": "completed"
    },
    "tags": []
   },
   "outputs": [
    {
     "name": "stdout",
     "output_type": "stream",
     "text": [
      "Time to evaluate 2 samples: 2.63 seconds.\n"
     ]
    },
    {
     "data": {
      "text/html": [
       "<div>\n",
       "<style scoped>\n",
       "    .dataframe tbody tr th:only-of-type {\n",
       "        vertical-align: middle;\n",
       "    }\n",
       "\n",
       "    .dataframe tbody tr th {\n",
       "        vertical-align: top;\n",
       "    }\n",
       "\n",
       "    .dataframe thead th {\n",
       "        text-align: right;\n",
       "    }\n",
       "</style>\n",
       "<table border=\"1\" class=\"dataframe\">\n",
       "  <thead>\n",
       "    <tr style=\"text-align: right;\">\n",
       "      <th></th>\n",
       "      <th>Solar Heat Gain Coefficient</th>\n",
       "      <th>Electricity:Facility</th>\n",
       "      <th>Gas:Facility</th>\n",
       "    </tr>\n",
       "  </thead>\n",
       "  <tbody>\n",
       "    <tr>\n",
       "      <td>0</td>\n",
       "      <td>0.740853</td>\n",
       "      <td>1.987809e+09</td>\n",
       "      <td>2.573470e+09</td>\n",
       "    </tr>\n",
       "    <tr>\n",
       "      <td>1</td>\n",
       "      <td>0.310766</td>\n",
       "      <td>1.829346e+09</td>\n",
       "      <td>2.626448e+09</td>\n",
       "    </tr>\n",
       "  </tbody>\n",
       "</table>\n",
       "</div>"
      ],
      "text/plain": [
       "   Solar Heat Gain Coefficient  Electricity:Facility  Gas:Facility\n",
       "0                     0.740853          1.987809e+09  2.573470e+09\n",
       "1                     0.310766          1.829346e+09  2.626448e+09"
      ]
     },
     "execution_count": 4,
     "metadata": {},
     "output_type": "execute_result"
    }
   ],
   "source": [
    "import pickle\n",
    "with open(\"time.cluster\", \"rb\") as timestr:\n",
    "  passedtime = pickle.load(timestr)\n",
    "with open('op.out', 'rb') as df:\n",
    "  outputs = pickle.load(df)\n",
    "\n",
    "print(passedtime)\n",
    "outputs"
   ]
  },
  {
   "cell_type": "code",
   "execution_count": null,
   "metadata": {
    "papermill": {
     "duration": 0.006064,
     "end_time": "2019-10-28T22:51:46.277857",
     "exception": false,
     "start_time": "2019-10-28T22:51:46.271793",
     "status": "completed"
    },
    "tags": []
   },
   "outputs": [],
   "source": []
  }
 ],
 "metadata": {
  "kernelspec": {
   "display_name": "Python 3",
   "language": "python",
   "name": "python3"
  },
  "language_info": {
   "codemirror_mode": {
    "name": "ipython",
    "version": 3
   },
   "file_extension": ".py",
   "mimetype": "text/x-python",
   "name": "python",
   "nbconvert_exporter": "python",
   "pygments_lexer": "ipython3",
   "version": "3.6.4"
  },
  "papermill": {
   "duration": 4.833493,
   "end_time": "2019-10-28T22:51:46.590970",
   "environment_variables": {},
   "exception": null,
   "input_path": "./ClusterSubmission/ClusterSubmission.ipynb",
   "output_path": "./ClusterSubmission/ClusterSubmission.ipynb",
   "parameters": {},
   "start_time": "2019-10-28T22:51:41.757477",
   "version": "1.2.0"
  },
  "widgets": {
   "application/vnd.jupyter.widget-state+json": {
    "state": {
     "04c0bfd2f0bb40109b6d2b09367c5d63": {
      "model_module": "@jupyter-widgets/controls",
      "model_module_version": "1.5.0",
      "model_name": "ProgressStyleModel",
      "state": {
       "_model_module": "@jupyter-widgets/controls",
       "_model_module_version": "1.5.0",
       "_model_name": "ProgressStyleModel",
       "_view_count": null,
       "_view_module": "@jupyter-widgets/base",
       "_view_module_version": "1.2.0",
       "_view_name": "StyleView",
       "bar_color": null,
       "description_width": "initial"
      }
     },
     "0c33420fe4a443e7a7a965d826ece9ed": {
      "model_module": "@jupyter-widgets/controls",
      "model_module_version": "1.5.0",
      "model_name": "HTMLModel",
      "state": {
       "_dom_classes": [],
       "_model_module": "@jupyter-widgets/controls",
       "_model_module_version": "1.5.0",
       "_model_name": "HTMLModel",
       "_view_count": null,
       "_view_module": "@jupyter-widgets/controls",
       "_view_module_version": "1.5.0",
       "_view_name": "HTMLView",
       "description": "",
       "description_tooltip": null,
       "layout": "IPY_MODEL_74256765225e4d508301c82d9b99b6cd",
       "placeholder": "​",
       "style": "IPY_MODEL_ad06629c90c64dda894be4e03fc6e57c",
       "value": " 2/2 [00:02&lt;00:00,  1.31s/row]"
      }
     },
     "73d2e70fad214b999857efde4c708a9b": {
      "model_module": "@jupyter-widgets/controls",
      "model_module_version": "1.5.0",
      "model_name": "IntProgressModel",
      "state": {
       "_dom_classes": [],
       "_model_module": "@jupyter-widgets/controls",
       "_model_module_version": "1.5.0",
       "_model_name": "IntProgressModel",
       "_view_count": null,
       "_view_module": "@jupyter-widgets/controls",
       "_view_module_version": "1.5.0",
       "_view_name": "ProgressView",
       "bar_style": "success",
       "description": "Executing: 100%",
       "description_tooltip": null,
       "layout": "IPY_MODEL_9676e96260e143499db98500bae89bff",
       "max": 2,
       "min": 0,
       "orientation": "horizontal",
       "style": "IPY_MODEL_04c0bfd2f0bb40109b6d2b09367c5d63",
       "value": 2
      }
     },
     "74256765225e4d508301c82d9b99b6cd": {
      "model_module": "@jupyter-widgets/base",
      "model_module_version": "1.2.0",
      "model_name": "LayoutModel",
      "state": {
       "_model_module": "@jupyter-widgets/base",
       "_model_module_version": "1.2.0",
       "_model_name": "LayoutModel",
       "_view_count": null,
       "_view_module": "@jupyter-widgets/base",
       "_view_module_version": "1.2.0",
       "_view_name": "LayoutView",
       "align_content": null,
       "align_items": null,
       "align_self": null,
       "border": null,
       "bottom": null,
       "display": null,
       "flex": null,
       "flex_flow": null,
       "grid_area": null,
       "grid_auto_columns": null,
       "grid_auto_flow": null,
       "grid_auto_rows": null,
       "grid_column": null,
       "grid_gap": null,
       "grid_row": null,
       "grid_template_areas": null,
       "grid_template_columns": null,
       "grid_template_rows": null,
       "height": null,
       "justify_content": null,
       "justify_items": null,
       "left": null,
       "margin": null,
       "max_height": null,
       "max_width": null,
       "min_height": null,
       "min_width": null,
       "object_fit": null,
       "object_position": null,
       "order": null,
       "overflow": null,
       "overflow_x": null,
       "overflow_y": null,
       "padding": null,
       "right": null,
       "top": null,
       "visibility": null,
       "width": null
      }
     },
     "9676e96260e143499db98500bae89bff": {
      "model_module": "@jupyter-widgets/base",
      "model_module_version": "1.2.0",
      "model_name": "LayoutModel",
      "state": {
       "_model_module": "@jupyter-widgets/base",
       "_model_module_version": "1.2.0",
       "_model_name": "LayoutModel",
       "_view_count": null,
       "_view_module": "@jupyter-widgets/base",
       "_view_module_version": "1.2.0",
       "_view_name": "LayoutView",
       "align_content": null,
       "align_items": null,
       "align_self": null,
       "border": null,
       "bottom": null,
       "display": null,
       "flex": null,
       "flex_flow": null,
       "grid_area": null,
       "grid_auto_columns": null,
       "grid_auto_flow": null,
       "grid_auto_rows": null,
       "grid_column": null,
       "grid_gap": null,
       "grid_row": null,
       "grid_template_areas": null,
       "grid_template_columns": null,
       "grid_template_rows": null,
       "height": null,
       "justify_content": null,
       "justify_items": null,
       "left": null,
       "margin": null,
       "max_height": null,
       "max_width": null,
       "min_height": null,
       "min_width": null,
       "object_fit": null,
       "object_position": null,
       "order": null,
       "overflow": null,
       "overflow_x": null,
       "overflow_y": null,
       "padding": null,
       "right": null,
       "top": null,
       "visibility": null,
       "width": null
      }
     },
     "a395a91ae4a4467aae68778c0eec04dc": {
      "model_module": "@jupyter-widgets/controls",
      "model_module_version": "1.5.0",
      "model_name": "HBoxModel",
      "state": {
       "_dom_classes": [],
       "_model_module": "@jupyter-widgets/controls",
       "_model_module_version": "1.5.0",
       "_model_name": "HBoxModel",
       "_view_count": null,
       "_view_module": "@jupyter-widgets/controls",
       "_view_module_version": "1.5.0",
       "_view_name": "HBoxView",
       "box_style": "",
       "children": [
        "IPY_MODEL_73d2e70fad214b999857efde4c708a9b",
        "IPY_MODEL_0c33420fe4a443e7a7a965d826ece9ed"
       ],
       "layout": "IPY_MODEL_e95d448a2d5740b2adbfde004a3b1624"
      }
     },
     "ad06629c90c64dda894be4e03fc6e57c": {
      "model_module": "@jupyter-widgets/controls",
      "model_module_version": "1.5.0",
      "model_name": "DescriptionStyleModel",
      "state": {
       "_model_module": "@jupyter-widgets/controls",
       "_model_module_version": "1.5.0",
       "_model_name": "DescriptionStyleModel",
       "_view_count": null,
       "_view_module": "@jupyter-widgets/base",
       "_view_module_version": "1.2.0",
       "_view_name": "StyleView",
       "description_width": ""
      }
     },
     "e95d448a2d5740b2adbfde004a3b1624": {
      "model_module": "@jupyter-widgets/base",
      "model_module_version": "1.2.0",
      "model_name": "LayoutModel",
      "state": {
       "_model_module": "@jupyter-widgets/base",
       "_model_module_version": "1.2.0",
       "_model_name": "LayoutModel",
       "_view_count": null,
       "_view_module": "@jupyter-widgets/base",
       "_view_module_version": "1.2.0",
       "_view_name": "LayoutView",
       "align_content": null,
       "align_items": null,
       "align_self": null,
       "border": null,
       "bottom": null,
       "display": null,
       "flex": null,
       "flex_flow": null,
       "grid_area": null,
       "grid_auto_columns": null,
       "grid_auto_flow": null,
       "grid_auto_rows": null,
       "grid_column": null,
       "grid_gap": null,
       "grid_row": null,
       "grid_template_areas": null,
       "grid_template_columns": null,
       "grid_template_rows": null,
       "height": null,
       "justify_content": null,
       "justify_items": null,
       "left": null,
       "margin": null,
       "max_height": null,
       "max_width": null,
       "min_height": null,
       "min_width": null,
       "object_fit": null,
       "object_position": null,
       "order": null,
       "overflow": null,
       "overflow_x": null,
       "overflow_y": null,
       "padding": null,
       "right": null,
       "top": null,
       "visibility": null,
       "width": null
      }
     }
    },
    "version_major": 2,
    "version_minor": 0
   }
  }
 },
 "nbformat": 4,
 "nbformat_minor": 2
}